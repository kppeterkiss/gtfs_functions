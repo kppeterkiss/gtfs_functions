{
 "cells": [
  {
   "metadata": {},
   "cell_type": "markdown",
   "source": "# Állomások lokációi és a legközelebbi meteorológia mérőállomás",
   "id": "26709ef63d844984"
  },
  {
   "metadata": {
    "ExecuteTime": {
     "end_time": "2024-10-31T07:11:29.404026Z",
     "start_time": "2024-10-31T07:11:29.397502Z"
    }
   },
   "cell_type": "code",
   "source": "import pandas as pd",
   "id": "initial_id",
   "outputs": [],
   "execution_count": 11
  },
  {
   "metadata": {
    "ExecuteTime": {
     "end_time": "2024-11-13T10:17:22.444963Z",
     "start_time": "2024-11-13T10:17:22.302453Z"
    }
   },
   "cell_type": "code",
   "source": [
    "from config import data_root,weather_folder,gtfs_folder,gtfs_stops_file\n",
    "'''data_root=\"data/\"\n",
    "weather_folder=data_root+\"odp/\"\n",
    "gtfs_folder=data_root+\"gtfsMavMenetrend/\"\n",
    "gtfs_stops_file=\"stops.txt\"\n",
    "'''\n",
    "passanger_info_folder=data_root+'2_147_utastajekoztatas/'\n",
    "passanger_info_locations_file=passanger_info_folder+\"t_szolg_helyek.txt\"\n",
    "def get_location_data():\n",
    "    gtfs_stops=pd.read_csv(gtfs_folder+gtfs_stops_file)\n",
    "    places=pd.read_csv(passanger_info_locations_file,sep=',',encoding='iso-8859-2')\n",
    "    #TODO check multiple appearence\n",
    "    places=places.groupby('TELJES_NEV').agg(\"last\")\n",
    "    places_with_gtfs=places.merge(gtfs_stops,how='left', left_on='POLGARI_NEV', right_on='stop_name')\n",
    "    return places_with_gtfs\n"
   ],
   "id": "8a4137a9fbe94e6",
   "outputs": [],
   "execution_count": 2
  },
  {
   "metadata": {
    "ExecuteTime": {
     "end_time": "2024-10-31T07:11:31.038486Z",
     "start_time": "2024-10-31T07:11:29.737672Z"
    }
   },
   "cell_type": "code",
   "source": "locations=get_location_data()",
   "id": "78d4ac5e09764a12",
   "outputs": [],
   "execution_count": 13
  },
  {
   "metadata": {
    "ExecuteTime": {
     "end_time": "2024-10-31T07:11:31.085140Z",
     "start_time": "2024-10-31T07:11:31.043496Z"
    }
   },
   "cell_type": "code",
   "source": "locations.head()",
   "id": "64f7756f7f3022d9",
   "outputs": [
    {
     "data": {
      "text/plain": [
       "   OR_KOD  SZH_KOD           SZH_NEV       POLGARI_NEV  SZH_TIP_KOD  \\\n",
       "0      55  5504135  Aba-Sárkeresztúr  Aba-Sárkeresztúr            1   \n",
       "1      55  5507229          Abaliget          Abaliget            1   \n",
       "2      55  5515610         Abapuszta         Abapuszta            2   \n",
       "3      55  5513326          Abaújkér          Abaújkér            2   \n",
       "4      55  5513326          Abaújkér          Abaújkér            2   \n",
       "\n",
       "   TEHERVONAT  UTASFORGALOM  UZEMVALT  HATARALLOMAS  UZEM_VVALL_VPE_ID  ...  \\\n",
       "0         1.0           1.0         0             0                2.0  ...   \n",
       "1         1.0           1.0         0             0                2.0  ...   \n",
       "2         0.0           1.0         0             0                2.0  ...   \n",
       "3         0.0           1.0         0             0                2.0  ...   \n",
       "4         0.0           1.0         0             0                2.0  ...   \n",
       "\n",
       "   stop_name stop_desc   stop_lat   stop_lon  zone_id  stop_url location_type  \\\n",
       "0        NaN       NaN        NaN        NaN      NaN       NaN           NaN   \n",
       "1   Abaliget       NaN  46.152778  18.073611      NaN       NaN           0.0   \n",
       "2        NaN       NaN        NaN        NaN      NaN       NaN           NaN   \n",
       "3   Abaújkér       NaN  48.309444  21.198333      NaN       NaN           0.0   \n",
       "4   Abaújkér       NaN  48.309444  21.198333      NaN       NaN           0.0   \n",
       "\n",
       "   parent_station  stop_timezone  wheelchair_boarding  \n",
       "0             NaN            NaN                  NaN  \n",
       "1             NaN            NaN                  2.0  \n",
       "2             NaN            NaN                  NaN  \n",
       "3             NaN            NaN                  2.0  \n",
       "4             NaN            NaN                  2.0  \n",
       "\n",
       "[5 rows x 26 columns]"
      ],
      "text/html": [
       "<div>\n",
       "<style scoped>\n",
       "    .dataframe tbody tr th:only-of-type {\n",
       "        vertical-align: middle;\n",
       "    }\n",
       "\n",
       "    .dataframe tbody tr th {\n",
       "        vertical-align: top;\n",
       "    }\n",
       "\n",
       "    .dataframe thead th {\n",
       "        text-align: right;\n",
       "    }\n",
       "</style>\n",
       "<table border=\"1\" class=\"dataframe\">\n",
       "  <thead>\n",
       "    <tr style=\"text-align: right;\">\n",
       "      <th></th>\n",
       "      <th>OR_KOD</th>\n",
       "      <th>SZH_KOD</th>\n",
       "      <th>SZH_NEV</th>\n",
       "      <th>POLGARI_NEV</th>\n",
       "      <th>SZH_TIP_KOD</th>\n",
       "      <th>TEHERVONAT</th>\n",
       "      <th>UTASFORGALOM</th>\n",
       "      <th>UZEMVALT</th>\n",
       "      <th>HATARALLOMAS</th>\n",
       "      <th>UZEM_VVALL_VPE_ID</th>\n",
       "      <th>...</th>\n",
       "      <th>stop_name</th>\n",
       "      <th>stop_desc</th>\n",
       "      <th>stop_lat</th>\n",
       "      <th>stop_lon</th>\n",
       "      <th>zone_id</th>\n",
       "      <th>stop_url</th>\n",
       "      <th>location_type</th>\n",
       "      <th>parent_station</th>\n",
       "      <th>stop_timezone</th>\n",
       "      <th>wheelchair_boarding</th>\n",
       "    </tr>\n",
       "  </thead>\n",
       "  <tbody>\n",
       "    <tr>\n",
       "      <th>0</th>\n",
       "      <td>55</td>\n",
       "      <td>5504135</td>\n",
       "      <td>Aba-Sárkeresztúr</td>\n",
       "      <td>Aba-Sárkeresztúr</td>\n",
       "      <td>1</td>\n",
       "      <td>1.0</td>\n",
       "      <td>1.0</td>\n",
       "      <td>0</td>\n",
       "      <td>0</td>\n",
       "      <td>2.0</td>\n",
       "      <td>...</td>\n",
       "      <td>NaN</td>\n",
       "      <td>NaN</td>\n",
       "      <td>NaN</td>\n",
       "      <td>NaN</td>\n",
       "      <td>NaN</td>\n",
       "      <td>NaN</td>\n",
       "      <td>NaN</td>\n",
       "      <td>NaN</td>\n",
       "      <td>NaN</td>\n",
       "      <td>NaN</td>\n",
       "    </tr>\n",
       "    <tr>\n",
       "      <th>1</th>\n",
       "      <td>55</td>\n",
       "      <td>5507229</td>\n",
       "      <td>Abaliget</td>\n",
       "      <td>Abaliget</td>\n",
       "      <td>1</td>\n",
       "      <td>1.0</td>\n",
       "      <td>1.0</td>\n",
       "      <td>0</td>\n",
       "      <td>0</td>\n",
       "      <td>2.0</td>\n",
       "      <td>...</td>\n",
       "      <td>Abaliget</td>\n",
       "      <td>NaN</td>\n",
       "      <td>46.152778</td>\n",
       "      <td>18.073611</td>\n",
       "      <td>NaN</td>\n",
       "      <td>NaN</td>\n",
       "      <td>0.0</td>\n",
       "      <td>NaN</td>\n",
       "      <td>NaN</td>\n",
       "      <td>2.0</td>\n",
       "    </tr>\n",
       "    <tr>\n",
       "      <th>2</th>\n",
       "      <td>55</td>\n",
       "      <td>5515610</td>\n",
       "      <td>Abapuszta</td>\n",
       "      <td>Abapuszta</td>\n",
       "      <td>2</td>\n",
       "      <td>0.0</td>\n",
       "      <td>1.0</td>\n",
       "      <td>0</td>\n",
       "      <td>0</td>\n",
       "      <td>2.0</td>\n",
       "      <td>...</td>\n",
       "      <td>NaN</td>\n",
       "      <td>NaN</td>\n",
       "      <td>NaN</td>\n",
       "      <td>NaN</td>\n",
       "      <td>NaN</td>\n",
       "      <td>NaN</td>\n",
       "      <td>NaN</td>\n",
       "      <td>NaN</td>\n",
       "      <td>NaN</td>\n",
       "      <td>NaN</td>\n",
       "    </tr>\n",
       "    <tr>\n",
       "      <th>3</th>\n",
       "      <td>55</td>\n",
       "      <td>5513326</td>\n",
       "      <td>Abaújkér</td>\n",
       "      <td>Abaújkér</td>\n",
       "      <td>2</td>\n",
       "      <td>0.0</td>\n",
       "      <td>1.0</td>\n",
       "      <td>0</td>\n",
       "      <td>0</td>\n",
       "      <td>2.0</td>\n",
       "      <td>...</td>\n",
       "      <td>Abaújkér</td>\n",
       "      <td>NaN</td>\n",
       "      <td>48.309444</td>\n",
       "      <td>21.198333</td>\n",
       "      <td>NaN</td>\n",
       "      <td>NaN</td>\n",
       "      <td>0.0</td>\n",
       "      <td>NaN</td>\n",
       "      <td>NaN</td>\n",
       "      <td>2.0</td>\n",
       "    </tr>\n",
       "    <tr>\n",
       "      <th>4</th>\n",
       "      <td>55</td>\n",
       "      <td>5513326</td>\n",
       "      <td>Abaújkér</td>\n",
       "      <td>Abaújkér</td>\n",
       "      <td>2</td>\n",
       "      <td>0.0</td>\n",
       "      <td>1.0</td>\n",
       "      <td>0</td>\n",
       "      <td>0</td>\n",
       "      <td>2.0</td>\n",
       "      <td>...</td>\n",
       "      <td>Abaújkér</td>\n",
       "      <td>NaN</td>\n",
       "      <td>48.309444</td>\n",
       "      <td>21.198333</td>\n",
       "      <td>NaN</td>\n",
       "      <td>NaN</td>\n",
       "      <td>0.0</td>\n",
       "      <td>NaN</td>\n",
       "      <td>NaN</td>\n",
       "      <td>2.0</td>\n",
       "    </tr>\n",
       "  </tbody>\n",
       "</table>\n",
       "<p>5 rows × 26 columns</p>\n",
       "</div>"
      ]
     },
     "execution_count": 14,
     "metadata": {},
     "output_type": "execute_result"
    }
   ],
   "execution_count": 14
  },
  {
   "metadata": {
    "ExecuteTime": {
     "end_time": "2024-10-31T07:11:31.091317Z",
     "start_time": "2024-10-31T07:11:31.087148Z"
    }
   },
   "cell_type": "code",
   "source": "",
   "id": "49eaadebd38d5bb2",
   "outputs": [],
   "execution_count": 14
  },
  {
   "metadata": {
    "ExecuteTime": {
     "end_time": "2024-10-31T07:11:31.110806Z",
     "start_time": "2024-10-31T07:11:31.094372Z"
    }
   },
   "cell_type": "code",
   "source": [
    "from math import radians, sin, cos, sqrt, atan2\n",
    "\n",
    "# Function to calculate distance\n",
    "def calculate_distance(lat1, lon1, lat2, lon2):\n",
    "    R = 6371.0  # Earth radius in kilometers\n",
    "\n",
    "    lat1, lon1, lat2, lon2 = map(radians, [lat1, lon1, lat2, lon2])\n",
    "\n",
    "    dlon = lon2 - lon1\n",
    "    dlat = lat2 - lat1\n",
    "\n",
    "    a = sin(dlat / 2)**2 + cos(lat1) * cos(lat2) * sin(dlon / 2)**2\n",
    "    c = 2 * atan2(sqrt(a), sqrt(1 - a))\n",
    "\n",
    "    distance = R * c\n",
    "    return distance\n",
    "'''\n",
    "# Coordinates of two locations\n",
    "lat1, lon1 = 52.2296756, 21.0122287  # Warsaw, Poland\n",
    "lat2, lon2 = 41.8919300, 12.5113300  # Rome, Italy\n",
    "\n",
    "# Calculate the distance\n",
    "distance = calculate_distance(lat1, lon1, lat2, lon2)\n",
    "print(f\"The distance is {distance} kilometers.\")\n",
    "'''"
   ],
   "id": "3a7f3581910033e6",
   "outputs": [
    {
     "data": {
      "text/plain": [
       "'\\n# Coordinates of two locations\\nlat1, lon1 = 52.2296756, 21.0122287  # Warsaw, Poland\\nlat2, lon2 = 41.8919300, 12.5113300  # Rome, Italy\\n\\n# Calculate the distance\\ndistance = calculate_distance(lat1, lon1, lat2, lon2)\\nprint(f\"The distance is {distance} kilometers.\")\\n'"
      ]
     },
     "execution_count": 15,
     "metadata": {},
     "output_type": "execute_result"
    }
   ],
   "execution_count": 15
  },
  {
   "metadata": {
    "ExecuteTime": {
     "end_time": "2024-10-31T07:11:31.118686Z",
     "start_time": "2024-10-31T07:11:31.115818Z"
    }
   },
   "cell_type": "code",
   "source": "",
   "id": "c81f0d05f6198e31",
   "outputs": [],
   "execution_count": 15
  },
  {
   "metadata": {
    "ExecuteTime": {
     "end_time": "2024-10-31T07:11:31.139832Z",
     "start_time": "2024-10-31T07:11:31.120694Z"
    }
   },
   "cell_type": "code",
   "source": [
    "weather_meta_file_name=weather_folder+\"weather_meta_avg.csv\"\n",
    "met_stat_locations=pd.read_csv(weather_meta_file_name,sep=',',encoding='iso-8859-2')\n",
    "met_stat_locations"
   ],
   "id": "2f41417d653bdf50",
   "outputs": [
    {
     "data": {
      "text/plain": [
       "            Loc        Lat        Lon\n",
       "0      Budapest  47.507300  19.031400\n",
       "1      Debrecen  47.531438  21.625387\n",
       "2     Keszthely  46.742617  17.227400\n",
       "3       Miskolc  48.123882  20.837100\n",
       "4   Nyiregyhaza  47.969911  21.767344\n",
       "5          Pecs  46.087188  18.277832\n",
       "6        Sopron  47.687800  16.603233\n",
       "7        Szeged  46.251943  20.114371\n",
       "8   Szombathely  47.249480  16.623060\n",
       "9       Turkeve  47.105900  20.734733\n",
       "10     Budapest  47.507300  19.031400\n",
       "11     Debrecen  47.531438  21.625387\n",
       "12    Keszthely  46.742617  17.227400\n",
       "13      Miskolc  48.123882  20.837100\n",
       "14  Nyiregyhaza  47.969911  21.767344\n",
       "15         Pecs  46.087188  18.277832\n",
       "16       Sopron  47.687800  16.603233\n",
       "17       Szeged  46.289690  20.185060\n",
       "18  Szombathely  47.249480  16.623060\n",
       "19      Turkeve  47.105900  20.734733"
      ],
      "text/html": [
       "<div>\n",
       "<style scoped>\n",
       "    .dataframe tbody tr th:only-of-type {\n",
       "        vertical-align: middle;\n",
       "    }\n",
       "\n",
       "    .dataframe tbody tr th {\n",
       "        vertical-align: top;\n",
       "    }\n",
       "\n",
       "    .dataframe thead th {\n",
       "        text-align: right;\n",
       "    }\n",
       "</style>\n",
       "<table border=\"1\" class=\"dataframe\">\n",
       "  <thead>\n",
       "    <tr style=\"text-align: right;\">\n",
       "      <th></th>\n",
       "      <th>Loc</th>\n",
       "      <th>Lat</th>\n",
       "      <th>Lon</th>\n",
       "    </tr>\n",
       "  </thead>\n",
       "  <tbody>\n",
       "    <tr>\n",
       "      <th>0</th>\n",
       "      <td>Budapest</td>\n",
       "      <td>47.507300</td>\n",
       "      <td>19.031400</td>\n",
       "    </tr>\n",
       "    <tr>\n",
       "      <th>1</th>\n",
       "      <td>Debrecen</td>\n",
       "      <td>47.531438</td>\n",
       "      <td>21.625387</td>\n",
       "    </tr>\n",
       "    <tr>\n",
       "      <th>2</th>\n",
       "      <td>Keszthely</td>\n",
       "      <td>46.742617</td>\n",
       "      <td>17.227400</td>\n",
       "    </tr>\n",
       "    <tr>\n",
       "      <th>3</th>\n",
       "      <td>Miskolc</td>\n",
       "      <td>48.123882</td>\n",
       "      <td>20.837100</td>\n",
       "    </tr>\n",
       "    <tr>\n",
       "      <th>4</th>\n",
       "      <td>Nyiregyhaza</td>\n",
       "      <td>47.969911</td>\n",
       "      <td>21.767344</td>\n",
       "    </tr>\n",
       "    <tr>\n",
       "      <th>5</th>\n",
       "      <td>Pecs</td>\n",
       "      <td>46.087188</td>\n",
       "      <td>18.277832</td>\n",
       "    </tr>\n",
       "    <tr>\n",
       "      <th>6</th>\n",
       "      <td>Sopron</td>\n",
       "      <td>47.687800</td>\n",
       "      <td>16.603233</td>\n",
       "    </tr>\n",
       "    <tr>\n",
       "      <th>7</th>\n",
       "      <td>Szeged</td>\n",
       "      <td>46.251943</td>\n",
       "      <td>20.114371</td>\n",
       "    </tr>\n",
       "    <tr>\n",
       "      <th>8</th>\n",
       "      <td>Szombathely</td>\n",
       "      <td>47.249480</td>\n",
       "      <td>16.623060</td>\n",
       "    </tr>\n",
       "    <tr>\n",
       "      <th>9</th>\n",
       "      <td>Turkeve</td>\n",
       "      <td>47.105900</td>\n",
       "      <td>20.734733</td>\n",
       "    </tr>\n",
       "    <tr>\n",
       "      <th>10</th>\n",
       "      <td>Budapest</td>\n",
       "      <td>47.507300</td>\n",
       "      <td>19.031400</td>\n",
       "    </tr>\n",
       "    <tr>\n",
       "      <th>11</th>\n",
       "      <td>Debrecen</td>\n",
       "      <td>47.531438</td>\n",
       "      <td>21.625387</td>\n",
       "    </tr>\n",
       "    <tr>\n",
       "      <th>12</th>\n",
       "      <td>Keszthely</td>\n",
       "      <td>46.742617</td>\n",
       "      <td>17.227400</td>\n",
       "    </tr>\n",
       "    <tr>\n",
       "      <th>13</th>\n",
       "      <td>Miskolc</td>\n",
       "      <td>48.123882</td>\n",
       "      <td>20.837100</td>\n",
       "    </tr>\n",
       "    <tr>\n",
       "      <th>14</th>\n",
       "      <td>Nyiregyhaza</td>\n",
       "      <td>47.969911</td>\n",
       "      <td>21.767344</td>\n",
       "    </tr>\n",
       "    <tr>\n",
       "      <th>15</th>\n",
       "      <td>Pecs</td>\n",
       "      <td>46.087188</td>\n",
       "      <td>18.277832</td>\n",
       "    </tr>\n",
       "    <tr>\n",
       "      <th>16</th>\n",
       "      <td>Sopron</td>\n",
       "      <td>47.687800</td>\n",
       "      <td>16.603233</td>\n",
       "    </tr>\n",
       "    <tr>\n",
       "      <th>17</th>\n",
       "      <td>Szeged</td>\n",
       "      <td>46.289690</td>\n",
       "      <td>20.185060</td>\n",
       "    </tr>\n",
       "    <tr>\n",
       "      <th>18</th>\n",
       "      <td>Szombathely</td>\n",
       "      <td>47.249480</td>\n",
       "      <td>16.623060</td>\n",
       "    </tr>\n",
       "    <tr>\n",
       "      <th>19</th>\n",
       "      <td>Turkeve</td>\n",
       "      <td>47.105900</td>\n",
       "      <td>20.734733</td>\n",
       "    </tr>\n",
       "  </tbody>\n",
       "</table>\n",
       "</div>"
      ]
     },
     "execution_count": 16,
     "metadata": {},
     "output_type": "execute_result"
    }
   ],
   "execution_count": 16
  },
  {
   "metadata": {
    "ExecuteTime": {
     "end_time": "2024-10-31T07:17:38.471831Z",
     "start_time": "2024-10-31T07:17:36.474774Z"
    }
   },
   "cell_type": "code",
   "source": [
    "def get_min_dist_loc(loc_df,lat,lon):\n",
    "    loc_df['d']=loc_df.apply(lambda x: calculate_distance(lat,lon,x['Lat'],x['Lon']),axis=1)\n",
    "    return loc_df.loc[loc_df['d'].idxmin()]['Loc']\n",
    "def get_Locations_coordinates(locations_df,met_locations):\n",
    "    coord_dict=locations_df[['SZH_KOD','stop_lat','stop_lon']].loc[locations_df['stop_lat'].notna()]\n",
    "    coord_dict['SZH_KOD']=coord_dict['SZH_KOD'].apply(lambda x: str(x)[2:]).astype(int)\n",
    "    coord_dict['Legközelebbi állomás']=coord_dict.apply(lambda x: get_min_dist_loc(met_locations,x['stop_lat'],x['stop_lon']),axis=1)\n",
    "    return coord_dict\n",
    "coord_dict=get_Locations_coordinates(locations,met_stat_locations)"
   ],
   "id": "22d840f0e2a136fc",
   "outputs": [],
   "execution_count": 28
  },
  {
   "metadata": {
    "ExecuteTime": {
     "end_time": "2024-10-31T07:17:43.165238Z",
     "start_time": "2024-10-31T07:17:43.152312Z"
    }
   },
   "cell_type": "code",
   "source": "coord_dict.head()",
   "id": "b9e074841f2bc598",
   "outputs": [
    {
     "data": {
      "text/plain": [
       "   SZH_KOD   stop_lat   stop_lon Legközelebbi állomás\n",
       "1     7229  46.152778  18.073611                 Pecs\n",
       "3    13326  48.309444  21.198333              Miskolc\n",
       "4    13326  48.309444  21.198333              Miskolc\n",
       "5    13300  48.286944  21.181667              Miskolc\n",
       "6    13318  48.268333  21.179722              Miskolc"
      ],
      "text/html": [
       "<div>\n",
       "<style scoped>\n",
       "    .dataframe tbody tr th:only-of-type {\n",
       "        vertical-align: middle;\n",
       "    }\n",
       "\n",
       "    .dataframe tbody tr th {\n",
       "        vertical-align: top;\n",
       "    }\n",
       "\n",
       "    .dataframe thead th {\n",
       "        text-align: right;\n",
       "    }\n",
       "</style>\n",
       "<table border=\"1\" class=\"dataframe\">\n",
       "  <thead>\n",
       "    <tr style=\"text-align: right;\">\n",
       "      <th></th>\n",
       "      <th>SZH_KOD</th>\n",
       "      <th>stop_lat</th>\n",
       "      <th>stop_lon</th>\n",
       "      <th>Legközelebbi állomás</th>\n",
       "    </tr>\n",
       "  </thead>\n",
       "  <tbody>\n",
       "    <tr>\n",
       "      <th>1</th>\n",
       "      <td>7229</td>\n",
       "      <td>46.152778</td>\n",
       "      <td>18.073611</td>\n",
       "      <td>Pecs</td>\n",
       "    </tr>\n",
       "    <tr>\n",
       "      <th>3</th>\n",
       "      <td>13326</td>\n",
       "      <td>48.309444</td>\n",
       "      <td>21.198333</td>\n",
       "      <td>Miskolc</td>\n",
       "    </tr>\n",
       "    <tr>\n",
       "      <th>4</th>\n",
       "      <td>13326</td>\n",
       "      <td>48.309444</td>\n",
       "      <td>21.198333</td>\n",
       "      <td>Miskolc</td>\n",
       "    </tr>\n",
       "    <tr>\n",
       "      <th>5</th>\n",
       "      <td>13300</td>\n",
       "      <td>48.286944</td>\n",
       "      <td>21.181667</td>\n",
       "      <td>Miskolc</td>\n",
       "    </tr>\n",
       "    <tr>\n",
       "      <th>6</th>\n",
       "      <td>13318</td>\n",
       "      <td>48.268333</td>\n",
       "      <td>21.179722</td>\n",
       "      <td>Miskolc</td>\n",
       "    </tr>\n",
       "  </tbody>\n",
       "</table>\n",
       "</div>"
      ]
     },
     "execution_count": 29,
     "metadata": {},
     "output_type": "execute_result"
    }
   ],
   "execution_count": 29
  },
  {
   "metadata": {
    "ExecuteTime": {
     "end_time": "2024-10-31T07:11:32.733689Z",
     "start_time": "2024-10-31T07:11:32.721773Z"
    }
   },
   "cell_type": "code",
   "source": [
    "'''\n",
    "event_file_name=\"vonat_esemenyek_\"\n",
    "\n",
    "events=pd.read_csv(passanger_info_folder+event_file_name+str(2)+'.txt',sep=',',encoding='iso-8859-2')\n",
    "events.head()\n",
    "'''"
   ],
   "id": "fb519e53103a63fc",
   "outputs": [
    {
     "data": {
      "text/plain": [
       "'\\nevent_file_name=\"vonat_esemenyek_\"\\n\\nevents=pd.read_csv(passanger_info_folder+event_file_name+str(2)+\\'.txt\\',sep=\\',\\',encoding=\\'iso-8859-2\\')\\nevents.head()\\n'"
      ]
     },
     "execution_count": 19,
     "metadata": {},
     "output_type": "execute_result"
    }
   ],
   "execution_count": 19
  },
  {
   "metadata": {
    "ExecuteTime": {
     "end_time": "2024-10-31T07:11:32.744546Z",
     "start_time": "2024-10-31T07:11:32.737700Z"
    }
   },
   "cell_type": "code",
   "source": "#a=events['IDO'].unique()",
   "id": "399a29cb713a8c82",
   "outputs": [],
   "execution_count": 20
  },
  {
   "metadata": {
    "ExecuteTime": {
     "end_time": "2024-10-31T07:11:32.756518Z",
     "start_time": "2024-10-31T07:11:32.750557Z"
    }
   },
   "cell_type": "code",
   "source": "#days=pd.to_datetime(events['KOZLEKEDESI_NAP'],format='%Y.%m.%d',errors='coerce')",
   "id": "e5f784045c0580ce",
   "outputs": [],
   "execution_count": 21
  },
  {
   "metadata": {
    "ExecuteTime": {
     "end_time": "2024-10-31T07:11:32.768574Z",
     "start_time": "2024-10-31T07:11:32.759528Z"
    }
   },
   "cell_type": "code",
   "source": [
    "'''\n",
    "min_date=days.min()\n",
    "max_date=days.max()\n",
    "print(min_date,' - ',max_date)\n",
    "'''"
   ],
   "id": "b23ae57bce296d51",
   "outputs": [
    {
     "data": {
      "text/plain": [
       "\"\\nmin_date=days.min()\\nmax_date=days.max()\\nprint(min_date,' - ',max_date)\\n\""
      ]
     },
     "execution_count": 22,
     "metadata": {},
     "output_type": "execute_result"
    }
   ],
   "execution_count": 22
  },
  {
   "metadata": {},
   "cell_type": "markdown",
   "source": [
    "Mit használunk a késésnél előrejelzésnél?\n",
    "- Szakasz: \n",
    "- előző késés\n",
    "- előző vonat áthaladás\n",
    "- előző vonat késés \n",
    "\n",
    "- szakaszhoz hozzáadjuk pálya állapotot\n",
    "\n",
    "potenciálisan :\n",
    "- átlagsebesség a szakaszon\n",
    "\n"
   ],
   "id": "d835bd0b19df3878"
  },
  {
   "metadata": {
    "ExecuteTime": {
     "end_time": "2024-10-31T07:11:32.775738Z",
     "start_time": "2024-10-31T07:11:32.771583Z"
    }
   },
   "cell_type": "code",
   "source": "",
   "id": "974165d3c885123b",
   "outputs": [],
   "execution_count": 22
  },
  {
   "metadata": {
    "ExecuteTime": {
     "end_time": "2024-10-31T07:11:33.466998Z",
     "start_time": "2024-10-31T07:11:32.780747Z"
    }
   },
   "cell_type": "code",
   "source": [
    "weather_file_name='weather.csv'\n",
    "import datetime\n",
    "\n",
    "weather_df=pd.read_csv(weather_folder+weather_file_name,sep=',',encoding='iso-8859-2',parse_dates=['Time'],date_format='%Y-%m-%d')\n",
    "#weather_df=weather_df.loc[weather_df['Time'].between(min_date,max_date)]\n"
   ],
   "id": "1941e7dff891a7fd",
   "outputs": [],
   "execution_count": 23
  },
  {
   "metadata": {
    "ExecuteTime": {
     "end_time": "2024-10-31T07:11:33.496475Z",
     "start_time": "2024-10-31T07:11:33.469465Z"
    }
   },
   "cell_type": "code",
   "source": "weather_df.head()",
   "id": "c48e253ffe7ac32c",
   "outputs": [
    {
     "data": {
      "text/plain": [
       "        Loc       Time   tx     t    tn    r\n",
       "0  Budapest 1901-01-01 -0.4  -5.7  -9.2  1.9\n",
       "1  Budapest 1901-01-02 -6.6  -9.3 -11.3  0.0\n",
       "2  Budapest 1901-01-03 -6.6  -9.1 -10.8  0.8\n",
       "3  Budapest 1901-01-04 -9.8 -11.0 -12.4  0.2\n",
       "4  Budapest 1901-01-05 -9.0 -11.1 -15.5  0.0"
      ],
      "text/html": [
       "<div>\n",
       "<style scoped>\n",
       "    .dataframe tbody tr th:only-of-type {\n",
       "        vertical-align: middle;\n",
       "    }\n",
       "\n",
       "    .dataframe tbody tr th {\n",
       "        vertical-align: top;\n",
       "    }\n",
       "\n",
       "    .dataframe thead th {\n",
       "        text-align: right;\n",
       "    }\n",
       "</style>\n",
       "<table border=\"1\" class=\"dataframe\">\n",
       "  <thead>\n",
       "    <tr style=\"text-align: right;\">\n",
       "      <th></th>\n",
       "      <th>Loc</th>\n",
       "      <th>Time</th>\n",
       "      <th>tx</th>\n",
       "      <th>t</th>\n",
       "      <th>tn</th>\n",
       "      <th>r</th>\n",
       "    </tr>\n",
       "  </thead>\n",
       "  <tbody>\n",
       "    <tr>\n",
       "      <th>0</th>\n",
       "      <td>Budapest</td>\n",
       "      <td>1901-01-01</td>\n",
       "      <td>-0.4</td>\n",
       "      <td>-5.7</td>\n",
       "      <td>-9.2</td>\n",
       "      <td>1.9</td>\n",
       "    </tr>\n",
       "    <tr>\n",
       "      <th>1</th>\n",
       "      <td>Budapest</td>\n",
       "      <td>1901-01-02</td>\n",
       "      <td>-6.6</td>\n",
       "      <td>-9.3</td>\n",
       "      <td>-11.3</td>\n",
       "      <td>0.0</td>\n",
       "    </tr>\n",
       "    <tr>\n",
       "      <th>2</th>\n",
       "      <td>Budapest</td>\n",
       "      <td>1901-01-03</td>\n",
       "      <td>-6.6</td>\n",
       "      <td>-9.1</td>\n",
       "      <td>-10.8</td>\n",
       "      <td>0.8</td>\n",
       "    </tr>\n",
       "    <tr>\n",
       "      <th>3</th>\n",
       "      <td>Budapest</td>\n",
       "      <td>1901-01-04</td>\n",
       "      <td>-9.8</td>\n",
       "      <td>-11.0</td>\n",
       "      <td>-12.4</td>\n",
       "      <td>0.2</td>\n",
       "    </tr>\n",
       "    <tr>\n",
       "      <th>4</th>\n",
       "      <td>Budapest</td>\n",
       "      <td>1901-01-05</td>\n",
       "      <td>-9.0</td>\n",
       "      <td>-11.1</td>\n",
       "      <td>-15.5</td>\n",
       "      <td>0.0</td>\n",
       "    </tr>\n",
       "  </tbody>\n",
       "</table>\n",
       "</div>"
      ]
     },
     "execution_count": 24,
     "metadata": {},
     "output_type": "execute_result"
    }
   ],
   "execution_count": 24
  },
  {
   "metadata": {
    "ExecuteTime": {
     "end_time": "2024-10-31T07:40:35.628251Z",
     "start_time": "2024-10-31T07:39:54.108848Z"
    }
   },
   "cell_type": "code",
   "source": [
    "date_format='%Y.%m.%d %H:%M:%S'\n",
    "event_file_name=\"vonat_esemenyek_\"\n",
    "drop_cols=['IND_CEL_JELZO','HATARESEM_JELZO','KOFE_IDO','KOFE_MODDAT']\n",
    "\n",
    "\n",
    "\n",
    "def process_events(events):\n",
    "    \n",
    "    events=events.drop(columns=drop_cols)\n",
    "    events['IDO']=pd.to_datetime(events['IDO'],format=date_format,errors='coerce')\n",
    "    events['TENY_IDO']=pd.to_datetime(events['TENY_IDO'],format=date_format,errors='coerce')\n",
    "    events['OSSZ_KESES']=events['TENY_IDO']-events['IDO']\n",
    "    events['SZH_KOD']=pd.to_numeric(events.apply(lambda x:'%s%s' % (x['ORSZAG_KOD'],x['ALLOMAS']),axis=1))\n",
    "\n",
    "    events[['ELOZO_KESES','ELOZO_ALLOMAS','ELOZO_ESEMENY_IDO','ELOZO_SZH_KOD']]=events.groupby(['VONATSZAM','KOZLEKEDESI_NAP'])[['OSSZ_KESES','ALLOMAS','IDO','SZH_KOD']].shift()\n",
    "   \n",
    "    events[['ELOZO_ALLOMAS','ELOZO_SZH_KOD']]=events[['ELOZO_ALLOMAS','ELOZO_SZH_KOD']].fillna(0)\n",
    "    events['ELOZO_ALLOMAS'] = events['ELOZO_ALLOMAS'].astype(int)\n",
    "    events['ELOZO_SZH_KOD'] = events['ELOZO_SZH_KOD'].astype(int)\n",
    "\n",
    "\n",
    "    # TODO duplicate?\n",
    "    events['KOZLEKEDESI_NAP']=pd.to_datetime(events['KOZLEKEDESI_NAP'],format=\"%Y.%m.%d\",errors='coerce')\n",
    "    #events['KOZLEKEDESI_NAP_DT']=events['IDO'].dt.date\n",
    "    events['MENETREND_IDO']=events['IDO'].dt.time\n",
    "    #events['prev_Delay']=events.groupby(['VONATSZAM','KOZLEKEDESI_NAP'])['Delay'].shift()\n",
    "    events['KESES']=events['OSSZ_KESES']-events['ELOZO_KESES'] \n",
    "    min_date=events['KOZLEKEDESI_NAP'].min()\n",
    "    max_date=events['KOZLEKEDESI_NAP'].max()\n",
    "    print(min_date,' - ',max_date)\n",
    "    return events,min_date,max_date\n",
    "\n",
    "def add_weather_data(coord_dict,weather_df,e):\n",
    "    events = e.copy()\n",
    "    events['IndulóÁllomás']=events.groupby(['VONATSZAM','KOZLEKEDESI_NAP']).first().reset_index()['ALLOMAS'].astype(int)\n",
    "    events=events.merge(coord_dict, how='left', left_on='IndulóÁllomás',right_on='SZH_KOD')\n",
    "    events = events.merge(weather_df, how='left', left_on=['Legközelebbi állomás', 'KOZLEKEDESI_NAP'],\n",
    "                              right_on=['Loc', 'Time'])\n",
    "    return events\n",
    "\n",
    "def get_events_data(weather_df,coord_dict,line=2 ):\n",
    "    e=pd.read_csv(passanger_info_folder+event_file_name+str(line)+'.txt',sep=',',encoding='iso-8859-2')\n",
    "    e,min_date,max_date=process_events(e)\n",
    "    weather_df=weather_df.loc[weather_df['Time'].between(min_date,max_date)]\n",
    "\n",
    "    e=add_weather_data(coord_dict,weather_df,e)\n",
    "    junk_from_joins=['Loc','SZH_KOD_x','SZH_KOD_y','stop_lat','stop_lon','Time','Legközelebbi állomás','IndulóÁllomás']\n",
    "    \n",
    "    \n",
    "    e.drop(columns=junk_from_joins,inplace=True)\n",
    "    return e\n",
    "\n",
    "events_2=get_events_data(weather_df,coord_dict,line=2)  \n"
   ],
   "id": "6f45929f1def63db",
   "outputs": [
    {
     "name": "stderr",
     "output_type": "stream",
     "text": [
      "C:\\Users\\ELTE\\AppData\\Local\\Temp\\ipykernel_25188\\3635430046.py:42: DtypeWarning: Columns (16,17) have mixed types. Specify dtype option on import or set low_memory=False.\n",
      "  e=pd.read_csv(passanger_info_folder+event_file_name+str(line)+'.txt',sep=',',encoding='iso-8859-2')\n"
     ]
    },
    {
     "name": "stdout",
     "output_type": "stream",
     "text": [
      "2023-01-01 00:00:00  -  2023-12-31 00:00:00\n"
     ]
    }
   ],
   "execution_count": 33
  },
  {
   "metadata": {
    "ExecuteTime": {
     "end_time": "2024-10-31T08:17:23.059023Z",
     "start_time": "2024-10-31T08:17:20.316963Z"
    }
   },
   "cell_type": "code",
   "source": "events_2['UIC'].astype(str).head()",
   "id": "ea37367942d8a295",
   "outputs": [
    {
     "data": {
      "text/plain": [
       "0               nan\n",
       "1    945514150982.0\n",
       "2    945514150982.0\n",
       "3    945514150982.0\n",
       "4    945514150982.0\n",
       "Name: UIC, dtype: object"
      ]
     },
     "execution_count": 54,
     "metadata": {},
     "output_type": "execute_result"
    }
   ],
   "execution_count": 54
  },
  {
   "metadata": {},
   "cell_type": "markdown",
   "source": "",
   "id": "c19b7a35116960fd"
  },
  {
   "metadata": {
    "ExecuteTime": {
     "end_time": "2024-10-31T07:54:28.726702Z",
     "start_time": "2024-10-31T07:54:20.468335Z"
    }
   },
   "cell_type": "code",
   "source": [
    "#elegánsabb lenne VONATSZAM és VONAL nélkül, de ahhot több adat kell majd..\n",
    "# ELOZO_ESEMENY_IDO a line status joinhoz -terv\n",
    "#TODO  LINE egy közelítés az állapot leírására, ezen majd lehet dolgozni azért...\n",
    "#TODO ELOZO_KESES elkodolhat maradek információkat ezen is lehet majd dolgozni, bár rendenkezésre állhat\n",
    "#TODO VONATSZAM szintén menetrendi, prioritás információk, de túl sok lehetőség,és ellentmond a logikánknak inkább érdemes dobni\n",
    "#érdekes lehet : MOZDONYAZONOSITO, UIC, VONTATO_TIPUS\n",
    "to_keep=['VONAL','VONATSZAM','VONTATO_TIPUS','IDO','ELOZO_ESEMENY_IDO','ALLOMAS','ELOZO_ALLOMAS','MENETREND_IDO','OSSZ_KESES','ELOZO_KESES','KESES','tx','t','tn','r']\n",
    "def get_events_pred_data(events, line):\n",
    "    #ezek azok amik kellenek most, és később is\n",
    "    processed=events.copy()[to_keep]\n",
    "    processed['LINE']=line\n",
    "    processed['ID']=  processed['ELOZO_ALLOMAS'].astype(str)+\"-\"+processed['ALLOMAS'].astype(str)\n",
    "    processed['TERV_IDOTARTAM']= (processed['IDO']-processed['ELOZO_ESEMENY_IDO']).dt.seconds\n",
    "    processed.drop(columns=['ELOZO_ALLOMAS','ALLOMAS','IDO'],inplace=True)\n",
    "    return processed\n",
    "d2=get_events_pred_data(events_2,2)\n",
    "d2.head()"
   ],
   "id": "702744f338f76079",
   "outputs": [
    {
     "data": {
      "text/plain": [
       "  VONAL  VONATSZAM  VONTATO_TIPUS   ELOZO_ESEMENY_IDO MENETREND_IDO  \\\n",
       "0    70       2010            465                 NaT      00:25:00   \n",
       "1    70       2010            465 2023-01-01 00:25:00      00:25:00   \n",
       "2    70       2010            465 2023-01-01 00:25:00      00:29:00   \n",
       "3     2       2010            465 2023-01-01 00:29:00      00:30:00   \n",
       "4     2       2010            465 2023-01-01 00:30:00      00:35:00   \n",
       "\n",
       "         OSSZ_KESES     ELOZO_KESES             KESES   tx    t   tn    r  \\\n",
       "0               NaT             NaT               NaT  8.5  6.1  3.4  0.0   \n",
       "1   0 days 00:00:24             NaT               NaT  8.5  6.1  3.4  0.0   \n",
       "2   0 days 00:01:07 0 days 00:00:24   0 days 00:00:43  8.5  6.1  3.4  0.0   \n",
       "3   0 days 00:00:58 0 days 00:01:07 -1 days +23:59:51  8.5  6.1  3.4  0.0   \n",
       "4 -1 days +23:59:50 0 days 00:00:58 -1 days +23:58:52  8.5  6.1  3.4  0.0   \n",
       "\n",
       "   LINE           ID  TERV_IDOTARTAM  \n",
       "0     2      0-10033             NaN  \n",
       "1     2  10033-10033             0.0  \n",
       "2     2  10033-10082           240.0  \n",
       "3     2  10082-10082            60.0  \n",
       "4     2  10082-10124           300.0  "
      ],
      "text/html": [
       "<div>\n",
       "<style scoped>\n",
       "    .dataframe tbody tr th:only-of-type {\n",
       "        vertical-align: middle;\n",
       "    }\n",
       "\n",
       "    .dataframe tbody tr th {\n",
       "        vertical-align: top;\n",
       "    }\n",
       "\n",
       "    .dataframe thead th {\n",
       "        text-align: right;\n",
       "    }\n",
       "</style>\n",
       "<table border=\"1\" class=\"dataframe\">\n",
       "  <thead>\n",
       "    <tr style=\"text-align: right;\">\n",
       "      <th></th>\n",
       "      <th>VONAL</th>\n",
       "      <th>VONATSZAM</th>\n",
       "      <th>VONTATO_TIPUS</th>\n",
       "      <th>ELOZO_ESEMENY_IDO</th>\n",
       "      <th>MENETREND_IDO</th>\n",
       "      <th>OSSZ_KESES</th>\n",
       "      <th>ELOZO_KESES</th>\n",
       "      <th>KESES</th>\n",
       "      <th>tx</th>\n",
       "      <th>t</th>\n",
       "      <th>tn</th>\n",
       "      <th>r</th>\n",
       "      <th>LINE</th>\n",
       "      <th>ID</th>\n",
       "      <th>TERV_IDOTARTAM</th>\n",
       "    </tr>\n",
       "  </thead>\n",
       "  <tbody>\n",
       "    <tr>\n",
       "      <th>0</th>\n",
       "      <td>70</td>\n",
       "      <td>2010</td>\n",
       "      <td>465</td>\n",
       "      <td>NaT</td>\n",
       "      <td>00:25:00</td>\n",
       "      <td>NaT</td>\n",
       "      <td>NaT</td>\n",
       "      <td>NaT</td>\n",
       "      <td>8.5</td>\n",
       "      <td>6.1</td>\n",
       "      <td>3.4</td>\n",
       "      <td>0.0</td>\n",
       "      <td>2</td>\n",
       "      <td>0-10033</td>\n",
       "      <td>NaN</td>\n",
       "    </tr>\n",
       "    <tr>\n",
       "      <th>1</th>\n",
       "      <td>70</td>\n",
       "      <td>2010</td>\n",
       "      <td>465</td>\n",
       "      <td>2023-01-01 00:25:00</td>\n",
       "      <td>00:25:00</td>\n",
       "      <td>0 days 00:00:24</td>\n",
       "      <td>NaT</td>\n",
       "      <td>NaT</td>\n",
       "      <td>8.5</td>\n",
       "      <td>6.1</td>\n",
       "      <td>3.4</td>\n",
       "      <td>0.0</td>\n",
       "      <td>2</td>\n",
       "      <td>10033-10033</td>\n",
       "      <td>0.0</td>\n",
       "    </tr>\n",
       "    <tr>\n",
       "      <th>2</th>\n",
       "      <td>70</td>\n",
       "      <td>2010</td>\n",
       "      <td>465</td>\n",
       "      <td>2023-01-01 00:25:00</td>\n",
       "      <td>00:29:00</td>\n",
       "      <td>0 days 00:01:07</td>\n",
       "      <td>0 days 00:00:24</td>\n",
       "      <td>0 days 00:00:43</td>\n",
       "      <td>8.5</td>\n",
       "      <td>6.1</td>\n",
       "      <td>3.4</td>\n",
       "      <td>0.0</td>\n",
       "      <td>2</td>\n",
       "      <td>10033-10082</td>\n",
       "      <td>240.0</td>\n",
       "    </tr>\n",
       "    <tr>\n",
       "      <th>3</th>\n",
       "      <td>2</td>\n",
       "      <td>2010</td>\n",
       "      <td>465</td>\n",
       "      <td>2023-01-01 00:29:00</td>\n",
       "      <td>00:30:00</td>\n",
       "      <td>0 days 00:00:58</td>\n",
       "      <td>0 days 00:01:07</td>\n",
       "      <td>-1 days +23:59:51</td>\n",
       "      <td>8.5</td>\n",
       "      <td>6.1</td>\n",
       "      <td>3.4</td>\n",
       "      <td>0.0</td>\n",
       "      <td>2</td>\n",
       "      <td>10082-10082</td>\n",
       "      <td>60.0</td>\n",
       "    </tr>\n",
       "    <tr>\n",
       "      <th>4</th>\n",
       "      <td>2</td>\n",
       "      <td>2010</td>\n",
       "      <td>465</td>\n",
       "      <td>2023-01-01 00:30:00</td>\n",
       "      <td>00:35:00</td>\n",
       "      <td>-1 days +23:59:50</td>\n",
       "      <td>0 days 00:00:58</td>\n",
       "      <td>-1 days +23:58:52</td>\n",
       "      <td>8.5</td>\n",
       "      <td>6.1</td>\n",
       "      <td>3.4</td>\n",
       "      <td>0.0</td>\n",
       "      <td>2</td>\n",
       "      <td>10082-10124</td>\n",
       "      <td>300.0</td>\n",
       "    </tr>\n",
       "  </tbody>\n",
       "</table>\n",
       "</div>"
      ]
     },
     "execution_count": 39,
     "metadata": {},
     "output_type": "execute_result"
    }
   ],
   "execution_count": 39
  },
  {
   "metadata": {},
   "cell_type": "markdown",
   "source": [
    "# Vonatfej - TODO\n",
    "nem tudom mire lesz még jó.."
   ],
   "id": "4d8c7a34270cc279"
  },
  {
   "metadata": {
    "ExecuteTime": {
     "end_time": "2024-10-31T07:47:46.330030Z",
     "start_time": "2024-10-31T07:47:46.016048Z"
    }
   },
   "cell_type": "code",
   "source": [
    "#TODO \n",
    "def get_train_head(line=2):\n",
    "    fn = passanger_info_folder + f'vonat_fej_{str(line)}.txt'\n",
    "    train_head = pd.read_csv(fn,sep=',',encoding='iso-8859-2')\n",
    "    train_head['ERK_IDO_MN']=pd.to_datetime(train_head['ERK_IDO'],format='%Y.%m.%d %H:%M:%S').dt.time\n",
    "    train_head['IND_IDO_MN']=pd.to_datetime(train_head['IND_IDO'],format='%Y.%m.%d %H:%M:%S').dt.time\n",
    "    return train_head\n",
    "\n",
    "head_2=get_train_head()"
   ],
   "id": "dc7d03800311f48e",
   "outputs": [],
   "execution_count": 36
  },
  {
   "metadata": {
    "ExecuteTime": {
     "end_time": "2024-11-13T06:38:52.981421Z",
     "start_time": "2024-11-13T06:38:52.444883Z"
    }
   },
   "cell_type": "code",
   "source": "head_2.head()",
   "id": "26ce0e6c70d53d08",
   "outputs": [
    {
     "ename": "NameError",
     "evalue": "name 'head_2' is not defined",
     "output_type": "error",
     "traceback": [
      "\u001B[1;31m---------------------------------------------------------------------------\u001B[0m",
      "\u001B[1;31mNameError\u001B[0m                                 Traceback (most recent call last)",
      "Cell \u001B[1;32mIn[1], line 1\u001B[0m\n\u001B[1;32m----> 1\u001B[0m head_2\u001B[38;5;241m.\u001B[39mhead()\n",
      "\u001B[1;31mNameError\u001B[0m: name 'head_2' is not defined"
     ]
    }
   ],
   "execution_count": 1
  },
  {
   "metadata": {
    "ExecuteTime": {
     "end_time": "2024-10-22T06:39:00.789881Z",
     "start_time": "2024-10-22T06:38:59.186376Z"
    }
   },
   "cell_type": "code",
   "source": [
    "def get_different_heads(train_head,train_id):\n",
    "    if train_id:\n",
    "        train_head=train_head.loc[train_head['VONATSZAM']==train_id]\n",
    "    train_head['KOZLEKEDESI_NAP_DT']=pd.to_datetime(train_head['IND_IDO'],format='%Y.%m.%d %H:%M:%S').dt.date\n",
    "    separate_trains_in_schedule=train_head[['VONATSZAM','VNEM_KOD','IND_ALL_KOD','CEL_ALL_KOD','CEL_ESEMENY_SORSZAM','KOZLEKEDESI_NAP_DT']].drop_duplicates()\n",
    "    route_start_ends= separate_trains_in_schedule.groupby(['VONATSZAM','IND_ALL_KOD','CEL_ALL_KOD','CEL_ESEMENY_SORSZAM'])['KOZLEKEDESI_NAP_DT'].agg(first=\"min\",last=\"max\",count=\"count\")\n",
    "    return route_start_ends\n",
    "def get_different_schedules(head,events,train_id=None):\n",
    "    train_event_data=events\n",
    "    if train_id:\n",
    "        train_event_data=train_event_data.loc[train_event_data['VONATSZAM']==train_id]\n",
    "    route_start_ends = get_different_heads(head,train_id)\n",
    "    schedule_variants=train_event_data.loc[train_event_data['KOZLEKEDESI_NAP_DT'].isin(route_start_ends['first'])]\n",
    "    return schedule_variants\n",
    "\n",
    "    \n",
    "    \n",
    "    \n",
    "\n",
    "variants = get_different_schedules(head_2,events_2,train_id=2010)    "
   ],
   "id": "d342a55568413412",
   "outputs": [
    {
     "name": "stderr",
     "output_type": "stream",
     "text": [
      "C:\\Users\\ELTE\\AppData\\Local\\Temp\\ipykernel_8108\\3667140737.py:4: SettingWithCopyWarning: \n",
      "A value is trying to be set on a copy of a slice from a DataFrame.\n",
      "Try using .loc[row_indexer,col_indexer] = value instead\n",
      "\n",
      "See the caveats in the documentation: https://pandas.pydata.org/pandas-docs/stable/user_guide/indexing.html#returning-a-view-versus-a-copy\n",
      "  train_head['KOZLEKEDESI_NAP_DT']=pd.to_datetime(train_head['IND_IDO'],format='%Y.%m.%d %H:%M:%S').dt.date\n"
     ]
    }
   ],
   "execution_count": 37
  },
  {
   "metadata": {},
   "cell_type": "markdown",
   "source": "# Menetrend variációk Vizualizációja",
   "id": "b3e9deea8c1b6708"
  },
  {
   "metadata": {
    "ExecuteTime": {
     "end_time": "2024-10-22T06:49:07.005178Z",
     "start_time": "2024-10-22T06:49:06.933208Z"
    }
   },
   "cell_type": "code",
   "source": [
    "import datetime\n",
    "\n",
    "variants = variants[['KOZLEKEDESI_NAP_DT', 'ELOZO_ALLOMAS', 'ELOZO_ESEMENY_IDO', 'ALLOMAS', 'MENETREND_IDO']].dropna()\n",
    "variants['ELOZO_ESEMENY_IDO']=variants['ELOZO_ESEMENY_IDO'].dt.time\n",
    "# todo astype to creation\n",
    "\n",
    "variants.head()"
   ],
   "id": "aba5bd34947e47ed",
   "outputs": [
    {
     "data": {
      "text/plain": [
       "  KOZLEKEDESI_NAP_DT  ELOZO_ALLOMAS ELOZO_ESEMENY_IDO  ALLOMAS MENETREND_IDO\n",
       "1         2023-01-01          10033          00:25:00    10033      00:25:00\n",
       "2         2023-01-01          10033          00:25:00    10082      00:29:00\n",
       "3         2023-01-01          10082          00:29:00    10082      00:30:00\n",
       "4         2023-01-01          10082          00:30:00    10124      00:35:00\n",
       "5         2023-01-01          10124          00:35:00    10124      00:36:00"
      ],
      "text/html": [
       "<div>\n",
       "<style scoped>\n",
       "    .dataframe tbody tr th:only-of-type {\n",
       "        vertical-align: middle;\n",
       "    }\n",
       "\n",
       "    .dataframe tbody tr th {\n",
       "        vertical-align: top;\n",
       "    }\n",
       "\n",
       "    .dataframe thead th {\n",
       "        text-align: right;\n",
       "    }\n",
       "</style>\n",
       "<table border=\"1\" class=\"dataframe\">\n",
       "  <thead>\n",
       "    <tr style=\"text-align: right;\">\n",
       "      <th></th>\n",
       "      <th>KOZLEKEDESI_NAP_DT</th>\n",
       "      <th>ELOZO_ALLOMAS</th>\n",
       "      <th>ELOZO_ESEMENY_IDO</th>\n",
       "      <th>ALLOMAS</th>\n",
       "      <th>MENETREND_IDO</th>\n",
       "    </tr>\n",
       "  </thead>\n",
       "  <tbody>\n",
       "    <tr>\n",
       "      <th>1</th>\n",
       "      <td>2023-01-01</td>\n",
       "      <td>10033</td>\n",
       "      <td>00:25:00</td>\n",
       "      <td>10033</td>\n",
       "      <td>00:25:00</td>\n",
       "    </tr>\n",
       "    <tr>\n",
       "      <th>2</th>\n",
       "      <td>2023-01-01</td>\n",
       "      <td>10033</td>\n",
       "      <td>00:25:00</td>\n",
       "      <td>10082</td>\n",
       "      <td>00:29:00</td>\n",
       "    </tr>\n",
       "    <tr>\n",
       "      <th>3</th>\n",
       "      <td>2023-01-01</td>\n",
       "      <td>10082</td>\n",
       "      <td>00:29:00</td>\n",
       "      <td>10082</td>\n",
       "      <td>00:30:00</td>\n",
       "    </tr>\n",
       "    <tr>\n",
       "      <th>4</th>\n",
       "      <td>2023-01-01</td>\n",
       "      <td>10082</td>\n",
       "      <td>00:30:00</td>\n",
       "      <td>10124</td>\n",
       "      <td>00:35:00</td>\n",
       "    </tr>\n",
       "    <tr>\n",
       "      <th>5</th>\n",
       "      <td>2023-01-01</td>\n",
       "      <td>10124</td>\n",
       "      <td>00:35:00</td>\n",
       "      <td>10124</td>\n",
       "      <td>00:36:00</td>\n",
       "    </tr>\n",
       "  </tbody>\n",
       "</table>\n",
       "</div>"
      ]
     },
     "execution_count": 43,
     "metadata": {},
     "output_type": "execute_result"
    }
   ],
   "execution_count": 43
  },
  {
   "metadata": {
    "ExecuteTime": {
     "end_time": "2024-10-22T17:35:40.393032Z",
     "start_time": "2024-10-22T17:35:40.194135Z"
    }
   },
   "cell_type": "code",
   "source": [
    "\n",
    "today_ = datetime.date.today()\n",
    "variants['Start'] = variants.apply(\n",
    "    lambda x: datetime.datetime.combine(today_, x['ELOZO_ESEMENY_IDO']), axis=1)\n",
    "variants['Finish'] = variants.apply(\n",
    "    lambda x: datetime.datetime.combine(today_, x['MENETREND_IDO']), axis=1)\n",
    "variants['Task'] = variants['ELOZO_ALLOMAS'].astype(str) + '-' + \\\n",
    "                                     variants['ALLOMAS'].astype(str)\n",
    "\n"
   ],
   "id": "e0aed58f8fa3a8dd",
   "outputs": [],
   "execution_count": 51
  },
  {
   "metadata": {
    "ExecuteTime": {
     "end_time": "2024-10-22T17:41:34.297552Z",
     "start_time": "2024-10-22T17:41:33.681557Z"
    }
   },
   "cell_type": "code",
   "source": [
    "import plotly.express as px\n",
    "\n",
    "fig = px.timeline(variants, x_start=\"Start\", x_end=\"Finish\", y=\"KOZLEKEDESI_NAP_DT\", color=\"Task\")\n",
    "fig.update_yaxes(autorange=\"reversed\", dtick=1)\n",
    "\n",
    "fig.show()"
   ],
   "id": "b6d45a661ac39c92",
   "outputs": [
    {
     "data": {
      "application/vnd.plotly.v1+json": {
       "data": [
        {
         "alignmentgroup": "True",
         "base": [
          "2024-10-22T00:25:00",
          "2024-10-22T00:25:00"
         ],
         "hovertemplate": "Task=10033-10033<br>Start=%{base}<br>Finish=%{x}<br>KOZLEKEDESI_NAP_DT=%{y}<extra></extra>",
         "legendgroup": "10033-10033",
         "marker": {
          "color": "#636efa",
          "pattern": {
           "shape": ""
          }
         },
         "name": "10033-10033",
         "offsetgroup": "10033-10033",
         "orientation": "h",
         "showlegend": true,
         "textposition": "auto",
         "x": [
          0.0,
          0.0
         ],
         "xaxis": "x",
         "y": [
          "2023-01-01",
          "2023-05-20"
         ],
         "yaxis": "y",
         "type": "bar"
        },
        {
         "alignmentgroup": "True",
         "base": [
          "2024-10-22T00:25:00",
          "2024-10-22T00:25:00"
         ],
         "hovertemplate": "Task=10033-10082<br>Start=%{base}<br>Finish=%{x}<br>KOZLEKEDESI_NAP_DT=%{y}<extra></extra>",
         "legendgroup": "10033-10082",
         "marker": {
          "color": "#EF553B",
          "pattern": {
           "shape": ""
          }
         },
         "name": "10033-10082",
         "offsetgroup": "10033-10082",
         "orientation": "h",
         "showlegend": true,
         "textposition": "auto",
         "x": [
          240000.0,
          240000.0
         ],
         "xaxis": "x",
         "y": [
          "2023-01-01",
          "2023-05-20"
         ],
         "yaxis": "y",
         "type": "bar"
        },
        {
         "alignmentgroup": "True",
         "base": [
          "2024-10-22T00:29:00",
          "2024-10-22T00:35:00",
          "2024-10-22T00:29:00"
         ],
         "hovertemplate": "Task=10082-10082<br>Start=%{base}<br>Finish=%{x}<br>KOZLEKEDESI_NAP_DT=%{y}<extra></extra>",
         "legendgroup": "10082-10082",
         "marker": {
          "color": "#00cc96",
          "pattern": {
           "shape": ""
          }
         },
         "name": "10082-10082",
         "offsetgroup": "10082-10082",
         "orientation": "h",
         "showlegend": true,
         "textposition": "auto",
         "x": [
          60000.0,
          0.0,
          60000.0
         ],
         "xaxis": "x",
         "y": [
          "2023-01-01",
          "2023-02-28",
          "2023-05-20"
         ],
         "yaxis": "y",
         "type": "bar"
        },
        {
         "alignmentgroup": "True",
         "base": [
          "2024-10-22T00:30:00",
          "2024-10-22T00:35:00",
          "2024-10-22T00:30:00"
         ],
         "hovertemplate": "Task=10082-10124<br>Start=%{base}<br>Finish=%{x}<br>KOZLEKEDESI_NAP_DT=%{y}<extra></extra>",
         "legendgroup": "10082-10124",
         "marker": {
          "color": "#ab63fa",
          "pattern": {
           "shape": ""
          }
         },
         "name": "10082-10124",
         "offsetgroup": "10082-10124",
         "orientation": "h",
         "showlegend": true,
         "textposition": "auto",
         "x": [
          300000.0,
          300000.0,
          300000.0
         ],
         "xaxis": "x",
         "y": [
          "2023-01-01",
          "2023-02-28",
          "2023-05-20"
         ],
         "yaxis": "y",
         "type": "bar"
        },
        {
         "alignmentgroup": "True",
         "base": [
          "2024-10-22T00:35:00",
          "2024-10-22T00:40:00",
          "2024-10-22T00:39:00",
          "2024-10-22T00:35:00"
         ],
         "hovertemplate": "Task=10124-10124<br>Start=%{base}<br>Finish=%{x}<br>KOZLEKEDESI_NAP_DT=%{y}<extra></extra>",
         "legendgroup": "10124-10124",
         "marker": {
          "color": "#FFA15A",
          "pattern": {
           "shape": ""
          }
         },
         "name": "10124-10124",
         "offsetgroup": "10124-10124",
         "orientation": "h",
         "showlegend": true,
         "textposition": "auto",
         "x": [
          60000.0,
          60000.0,
          0.0,
          60000.0
         ],
         "xaxis": "x",
         "y": [
          "2023-01-01",
          "2023-02-28",
          "2023-03-07",
          "2023-05-20"
         ],
         "yaxis": "y",
         "type": "bar"
        },
        {
         "alignmentgroup": "True",
         "base": [
          "2024-10-22T00:36:00",
          "2024-10-22T00:41:00",
          "2024-10-22T00:39:00",
          "2024-10-22T00:36:00"
         ],
         "hovertemplate": "Task=10124-10207<br>Start=%{base}<br>Finish=%{x}<br>KOZLEKEDESI_NAP_DT=%{y}<extra></extra>",
         "legendgroup": "10124-10207",
         "marker": {
          "color": "#19d3f3",
          "pattern": {
           "shape": ""
          }
         },
         "name": "10124-10207",
         "offsetgroup": "10124-10207",
         "orientation": "h",
         "showlegend": true,
         "textposition": "auto",
         "x": [
          120000.0,
          120000.0,
          120000.0,
          120000.0
         ],
         "xaxis": "x",
         "y": [
          "2023-01-01",
          "2023-02-28",
          "2023-03-07",
          "2023-05-20"
         ],
         "yaxis": "y",
         "type": "bar"
        },
        {
         "alignmentgroup": "True",
         "base": [
          "2024-10-22T00:38:00",
          "2024-10-22T00:43:00",
          "2024-10-22T00:41:00",
          "2024-10-22T00:38:00"
         ],
         "hovertemplate": "Task=10207-10207<br>Start=%{base}<br>Finish=%{x}<br>KOZLEKEDESI_NAP_DT=%{y}<extra></extra>",
         "legendgroup": "10207-10207",
         "marker": {
          "color": "#FF6692",
          "pattern": {
           "shape": ""
          }
         },
         "name": "10207-10207",
         "offsetgroup": "10207-10207",
         "orientation": "h",
         "showlegend": true,
         "textposition": "auto",
         "x": [
          0.0,
          0.0,
          0.0,
          0.0
         ],
         "xaxis": "x",
         "y": [
          "2023-01-01",
          "2023-02-28",
          "2023-03-07",
          "2023-05-20"
         ],
         "yaxis": "y",
         "type": "bar"
        },
        {
         "alignmentgroup": "True",
         "base": [
          "2024-10-22T00:38:00",
          "2024-10-22T00:43:00",
          "2024-10-22T00:41:00",
          "2024-10-22T00:38:00"
         ],
         "hovertemplate": "Task=10207-40253<br>Start=%{base}<br>Finish=%{x}<br>KOZLEKEDESI_NAP_DT=%{y}<extra></extra>",
         "legendgroup": "10207-40253",
         "marker": {
          "color": "#B6E880",
          "pattern": {
           "shape": ""
          }
         },
         "name": "10207-40253",
         "offsetgroup": "10207-40253",
         "orientation": "h",
         "showlegend": true,
         "textposition": "auto",
         "x": [
          180000.0,
          180000.0,
          180000.0,
          180000.0
         ],
         "xaxis": "x",
         "y": [
          "2023-01-01",
          "2023-02-28",
          "2023-03-07",
          "2023-05-20"
         ],
         "yaxis": "y",
         "type": "bar"
        },
        {
         "alignmentgroup": "True",
         "base": [
          "2024-10-22T00:41:00",
          "2024-10-22T00:46:00",
          "2024-10-22T00:44:00",
          "2024-10-22T00:41:00"
         ],
         "hovertemplate": "Task=40253-40253<br>Start=%{base}<br>Finish=%{x}<br>KOZLEKEDESI_NAP_DT=%{y}<extra></extra>",
         "legendgroup": "40253-40253",
         "marker": {
          "color": "#FF97FF",
          "pattern": {
           "shape": ""
          }
         },
         "name": "40253-40253",
         "offsetgroup": "40253-40253",
         "orientation": "h",
         "showlegend": true,
         "textposition": "auto",
         "x": [
          60000.0,
          60000.0,
          60000.0,
          60000.0
         ],
         "xaxis": "x",
         "y": [
          "2023-01-01",
          "2023-02-28",
          "2023-03-07",
          "2023-05-20"
         ],
         "yaxis": "y",
         "type": "bar"
        },
        {
         "alignmentgroup": "True",
         "base": [
          "2024-10-22T00:42:00",
          "2024-10-22T00:47:00",
          "2024-10-22T00:45:00",
          "2024-10-22T00:42:00"
         ],
         "hovertemplate": "Task=40253-1404<br>Start=%{base}<br>Finish=%{x}<br>KOZLEKEDESI_NAP_DT=%{y}<extra></extra>",
         "legendgroup": "40253-1404",
         "marker": {
          "color": "#FECB52",
          "pattern": {
           "shape": ""
          }
         },
         "name": "40253-1404",
         "offsetgroup": "40253-1404",
         "orientation": "h",
         "showlegend": true,
         "textposition": "auto",
         "x": [
          60000.0,
          60000.0,
          60000.0,
          60000.0
         ],
         "xaxis": "x",
         "y": [
          "2023-01-01",
          "2023-02-28",
          "2023-03-07",
          "2023-05-20"
         ],
         "yaxis": "y",
         "type": "bar"
        },
        {
         "alignmentgroup": "True",
         "base": [
          "2024-10-22T00:43:00",
          "2024-10-22T00:48:00",
          "2024-10-22T00:46:00",
          "2024-10-22T00:43:00"
         ],
         "hovertemplate": "Task=1404-1404<br>Start=%{base}<br>Finish=%{x}<br>KOZLEKEDESI_NAP_DT=%{y}<extra></extra>",
         "legendgroup": "1404-1404",
         "marker": {
          "color": "#636efa",
          "pattern": {
           "shape": ""
          }
         },
         "name": "1404-1404",
         "offsetgroup": "1404-1404",
         "orientation": "h",
         "showlegend": true,
         "textposition": "auto",
         "x": [
          60000.0,
          60000.0,
          60000.0,
          60000.0
         ],
         "xaxis": "x",
         "y": [
          "2023-01-01",
          "2023-02-28",
          "2023-03-07",
          "2023-05-20"
         ],
         "yaxis": "y",
         "type": "bar"
        },
        {
         "alignmentgroup": "True",
         "base": [
          "2024-10-22T00:44:00",
          "2024-10-22T00:49:00",
          "2024-10-22T00:47:00",
          "2024-10-22T00:44:00"
         ],
         "hovertemplate": "Task=1404-1408<br>Start=%{base}<br>Finish=%{x}<br>KOZLEKEDESI_NAP_DT=%{y}<extra></extra>",
         "legendgroup": "1404-1408",
         "marker": {
          "color": "#EF553B",
          "pattern": {
           "shape": ""
          }
         },
         "name": "1404-1408",
         "offsetgroup": "1404-1408",
         "orientation": "h",
         "showlegend": true,
         "textposition": "auto",
         "x": [
          60000.0,
          60000.0,
          60000.0,
          60000.0
         ],
         "xaxis": "x",
         "y": [
          "2023-01-01",
          "2023-02-28",
          "2023-03-07",
          "2023-05-20"
         ],
         "yaxis": "y",
         "type": "bar"
        },
        {
         "alignmentgroup": "True",
         "base": [
          "2024-10-22T00:45:00",
          "2024-10-22T00:50:00",
          "2024-10-22T00:48:00",
          "2024-10-22T00:45:00"
         ],
         "hovertemplate": "Task=1408-1408<br>Start=%{base}<br>Finish=%{x}<br>KOZLEKEDESI_NAP_DT=%{y}<extra></extra>",
         "legendgroup": "1408-1408",
         "marker": {
          "color": "#00cc96",
          "pattern": {
           "shape": ""
          }
         },
         "name": "1408-1408",
         "offsetgroup": "1408-1408",
         "orientation": "h",
         "showlegend": true,
         "textposition": "auto",
         "x": [
          0.0,
          0.0,
          0.0,
          0.0
         ],
         "xaxis": "x",
         "y": [
          "2023-01-01",
          "2023-02-28",
          "2023-03-07",
          "2023-05-20"
         ],
         "yaxis": "y",
         "type": "bar"
        },
        {
         "alignmentgroup": "True",
         "base": [
          "2024-10-22T00:45:00",
          "2024-10-22T00:50:00",
          "2024-10-22T00:48:00",
          "2024-10-22T00:45:00"
         ],
         "hovertemplate": "Task=1408-1412<br>Start=%{base}<br>Finish=%{x}<br>KOZLEKEDESI_NAP_DT=%{y}<extra></extra>",
         "legendgroup": "1408-1412",
         "marker": {
          "color": "#ab63fa",
          "pattern": {
           "shape": ""
          }
         },
         "name": "1408-1412",
         "offsetgroup": "1408-1412",
         "orientation": "h",
         "showlegend": true,
         "textposition": "auto",
         "x": [
          120000.0,
          120000.0,
          120000.0,
          120000.0
         ],
         "xaxis": "x",
         "y": [
          "2023-01-01",
          "2023-02-28",
          "2023-03-07",
          "2023-05-20"
         ],
         "yaxis": "y",
         "type": "bar"
        },
        {
         "alignmentgroup": "True",
         "base": [
          "2024-10-22T00:47:00",
          "2024-10-22T00:52:00",
          "2024-10-22T00:50:00",
          "2024-10-22T00:47:00"
         ],
         "hovertemplate": "Task=1412-1412<br>Start=%{base}<br>Finish=%{x}<br>KOZLEKEDESI_NAP_DT=%{y}<extra></extra>",
         "legendgroup": "1412-1412",
         "marker": {
          "color": "#FFA15A",
          "pattern": {
           "shape": ""
          }
         },
         "name": "1412-1412",
         "offsetgroup": "1412-1412",
         "orientation": "h",
         "showlegend": true,
         "textposition": "auto",
         "x": [
          0.0,
          0.0,
          0.0,
          0.0
         ],
         "xaxis": "x",
         "y": [
          "2023-01-01",
          "2023-02-28",
          "2023-03-07",
          "2023-05-20"
         ],
         "yaxis": "y",
         "type": "bar"
        },
        {
         "alignmentgroup": "True",
         "base": [
          "2024-10-22T00:47:00",
          "2024-10-22T00:52:00",
          "2024-10-22T00:50:00",
          "2024-10-22T00:47:00"
         ],
         "hovertemplate": "Task=1412-1420<br>Start=%{base}<br>Finish=%{x}<br>KOZLEKEDESI_NAP_DT=%{y}<extra></extra>",
         "legendgroup": "1412-1420",
         "marker": {
          "color": "#19d3f3",
          "pattern": {
           "shape": ""
          }
         },
         "name": "1412-1420",
         "offsetgroup": "1412-1420",
         "orientation": "h",
         "showlegend": true,
         "textposition": "auto",
         "x": [
          180000.0,
          180000.0,
          180000.0,
          180000.0
         ],
         "xaxis": "x",
         "y": [
          "2023-01-01",
          "2023-02-28",
          "2023-03-07",
          "2023-05-20"
         ],
         "yaxis": "y",
         "type": "bar"
        },
        {
         "alignmentgroup": "True",
         "base": [
          "2024-10-22T00:50:00",
          "2024-10-22T00:55:00",
          "2024-10-22T00:53:00",
          "2024-10-22T00:50:00"
         ],
         "hovertemplate": "Task=1420-1420<br>Start=%{base}<br>Finish=%{x}<br>KOZLEKEDESI_NAP_DT=%{y}<extra></extra>",
         "legendgroup": "1420-1420",
         "marker": {
          "color": "#FF6692",
          "pattern": {
           "shape": ""
          }
         },
         "name": "1420-1420",
         "offsetgroup": "1420-1420",
         "orientation": "h",
         "showlegend": true,
         "textposition": "auto",
         "x": [
          60000.0,
          60000.0,
          60000.0,
          60000.0
         ],
         "xaxis": "x",
         "y": [
          "2023-01-01",
          "2023-02-28",
          "2023-03-07",
          "2023-05-20"
         ],
         "yaxis": "y",
         "type": "bar"
        },
        {
         "alignmentgroup": "True",
         "base": [
          "2024-10-22T00:51:00",
          "2024-10-22T00:56:00",
          "2024-10-22T00:54:00",
          "2024-10-22T00:51:00"
         ],
         "hovertemplate": "Task=1420-1428<br>Start=%{base}<br>Finish=%{x}<br>KOZLEKEDESI_NAP_DT=%{y}<extra></extra>",
         "legendgroup": "1420-1428",
         "marker": {
          "color": "#B6E880",
          "pattern": {
           "shape": ""
          }
         },
         "name": "1420-1428",
         "offsetgroup": "1420-1428",
         "orientation": "h",
         "showlegend": true,
         "textposition": "auto",
         "x": [
          120000.0,
          120000.0,
          120000.0,
          120000.0
         ],
         "xaxis": "x",
         "y": [
          "2023-01-01",
          "2023-02-28",
          "2023-03-07",
          "2023-05-20"
         ],
         "yaxis": "y",
         "type": "bar"
        },
        {
         "alignmentgroup": "True",
         "base": [
          "2024-10-22T00:53:00",
          "2024-10-22T00:58:00",
          "2024-10-22T00:56:00",
          "2024-10-22T00:53:00"
         ],
         "hovertemplate": "Task=1428-1428<br>Start=%{base}<br>Finish=%{x}<br>KOZLEKEDESI_NAP_DT=%{y}<extra></extra>",
         "legendgroup": "1428-1428",
         "marker": {
          "color": "#FF97FF",
          "pattern": {
           "shape": ""
          }
         },
         "name": "1428-1428",
         "offsetgroup": "1428-1428",
         "orientation": "h",
         "showlegend": true,
         "textposition": "auto",
         "x": [
          0.0,
          0.0,
          0.0,
          0.0
         ],
         "xaxis": "x",
         "y": [
          "2023-01-01",
          "2023-02-28",
          "2023-03-07",
          "2023-05-20"
         ],
         "yaxis": "y",
         "type": "bar"
        },
        {
         "alignmentgroup": "True",
         "base": [
          "2024-10-22T00:53:00",
          "2024-10-22T00:58:00",
          "2024-10-22T00:56:00",
          "2024-10-22T00:53:00"
         ],
         "hovertemplate": "Task=1428-1433<br>Start=%{base}<br>Finish=%{x}<br>KOZLEKEDESI_NAP_DT=%{y}<extra></extra>",
         "legendgroup": "1428-1433",
         "marker": {
          "color": "#FECB52",
          "pattern": {
           "shape": ""
          }
         },
         "name": "1428-1433",
         "offsetgroup": "1428-1433",
         "orientation": "h",
         "showlegend": true,
         "textposition": "auto",
         "x": [
          120000.0,
          120000.0,
          120000.0,
          120000.0
         ],
         "xaxis": "x",
         "y": [
          "2023-01-01",
          "2023-02-28",
          "2023-03-07",
          "2023-05-20"
         ],
         "yaxis": "y",
         "type": "bar"
        },
        {
         "alignmentgroup": "True",
         "base": [
          "2024-10-22T00:55:00",
          "2024-10-22T01:00:00",
          "2024-10-22T00:58:00",
          "2024-10-22T00:55:00"
         ],
         "hovertemplate": "Task=1433-1433<br>Start=%{base}<br>Finish=%{x}<br>KOZLEKEDESI_NAP_DT=%{y}<extra></extra>",
         "legendgroup": "1433-1433",
         "marker": {
          "color": "#636efa",
          "pattern": {
           "shape": ""
          }
         },
         "name": "1433-1433",
         "offsetgroup": "1433-1433",
         "orientation": "h",
         "showlegend": true,
         "textposition": "auto",
         "x": [
          0.0,
          0.0,
          0.0,
          0.0
         ],
         "xaxis": "x",
         "y": [
          "2023-01-01",
          "2023-02-28",
          "2023-03-07",
          "2023-05-20"
         ],
         "yaxis": "y",
         "type": "bar"
        },
        {
         "alignmentgroup": "True",
         "base": [
          "2024-10-22T00:55:00",
          "2024-10-22T01:00:00",
          "2024-10-22T00:58:00",
          "2024-10-22T00:55:00"
         ],
         "hovertemplate": "Task=1433-1438<br>Start=%{base}<br>Finish=%{x}<br>KOZLEKEDESI_NAP_DT=%{y}<extra></extra>",
         "legendgroup": "1433-1438",
         "marker": {
          "color": "#EF553B",
          "pattern": {
           "shape": ""
          }
         },
         "name": "1433-1438",
         "offsetgroup": "1433-1438",
         "orientation": "h",
         "showlegend": true,
         "textposition": "auto",
         "x": [
          120000.0,
          120000.0,
          120000.0,
          120000.0
         ],
         "xaxis": "x",
         "y": [
          "2023-01-01",
          "2023-02-28",
          "2023-03-07",
          "2023-05-20"
         ],
         "yaxis": "y",
         "type": "bar"
        },
        {
         "alignmentgroup": "True",
         "base": [
          "2024-10-22T00:57:00",
          "2024-10-22T01:02:00",
          "2024-10-22T01:00:00",
          "2024-10-22T00:57:00"
         ],
         "hovertemplate": "Task=1438-1438<br>Start=%{base}<br>Finish=%{x}<br>KOZLEKEDESI_NAP_DT=%{y}<extra></extra>",
         "legendgroup": "1438-1438",
         "marker": {
          "color": "#00cc96",
          "pattern": {
           "shape": ""
          }
         },
         "name": "1438-1438",
         "offsetgroup": "1438-1438",
         "orientation": "h",
         "showlegend": true,
         "textposition": "auto",
         "x": [
          60000.0,
          60000.0,
          60000.0,
          0.0
         ],
         "xaxis": "x",
         "y": [
          "2023-01-01",
          "2023-02-28",
          "2023-03-07",
          "2023-05-20"
         ],
         "yaxis": "y",
         "type": "bar"
        },
        {
         "alignmentgroup": "True",
         "base": [
          "2024-10-22T00:58:00",
          "2024-10-22T01:03:00",
          "2024-10-22T01:01:00"
         ],
         "hovertemplate": "Task=1438-46052<br>Start=%{base}<br>Finish=%{x}<br>KOZLEKEDESI_NAP_DT=%{y}<extra></extra>",
         "legendgroup": "1438-46052",
         "marker": {
          "color": "#ab63fa",
          "pattern": {
           "shape": ""
          }
         },
         "name": "1438-46052",
         "offsetgroup": "1438-46052",
         "orientation": "h",
         "showlegend": true,
         "textposition": "auto",
         "x": [
          120000.0,
          120000.0,
          120000.0
         ],
         "xaxis": "x",
         "y": [
          "2023-01-01",
          "2023-02-28",
          "2023-03-07"
         ],
         "yaxis": "y",
         "type": "bar"
        },
        {
         "alignmentgroup": "True",
         "base": [
          "2024-10-22T01:00:00",
          "2024-10-22T01:05:00",
          "2024-10-22T01:03:00"
         ],
         "hovertemplate": "Task=46052-46052<br>Start=%{base}<br>Finish=%{x}<br>KOZLEKEDESI_NAP_DT=%{y}<extra></extra>",
         "legendgroup": "46052-46052",
         "marker": {
          "color": "#FFA15A",
          "pattern": {
           "shape": ""
          }
         },
         "name": "46052-46052",
         "offsetgroup": "46052-46052",
         "orientation": "h",
         "showlegend": true,
         "textposition": "auto",
         "x": [
          0.0,
          0.0,
          0.0
         ],
         "xaxis": "x",
         "y": [
          "2023-01-01",
          "2023-02-28",
          "2023-03-07"
         ],
         "yaxis": "y",
         "type": "bar"
        },
        {
         "alignmentgroup": "True",
         "base": [
          "2024-10-22T01:00:00",
          "2024-10-22T01:05:00",
          "2024-10-22T01:03:00"
         ],
         "hovertemplate": "Task=46052-1440<br>Start=%{base}<br>Finish=%{x}<br>KOZLEKEDESI_NAP_DT=%{y}<extra></extra>",
         "legendgroup": "46052-1440",
         "marker": {
          "color": "#19d3f3",
          "pattern": {
           "shape": ""
          }
         },
         "name": "46052-1440",
         "offsetgroup": "46052-1440",
         "orientation": "h",
         "showlegend": true,
         "textposition": "auto",
         "x": [
          60000.0,
          60000.0,
          60000.0
         ],
         "xaxis": "x",
         "y": [
          "2023-01-01",
          "2023-02-28",
          "2023-03-07"
         ],
         "yaxis": "y",
         "type": "bar"
        },
        {
         "alignmentgroup": "True",
         "base": [
          "2024-10-22T01:01:00",
          "2024-10-22T01:06:00",
          "2024-10-22T01:04:00"
         ],
         "hovertemplate": "Task=1440-1442<br>Start=%{base}<br>Finish=%{x}<br>KOZLEKEDESI_NAP_DT=%{y}<extra></extra>",
         "legendgroup": "1440-1442",
         "marker": {
          "color": "#FF6692",
          "pattern": {
           "shape": ""
          }
         },
         "name": "1440-1442",
         "offsetgroup": "1440-1442",
         "orientation": "h",
         "showlegend": true,
         "textposition": "auto",
         "x": [
          120000.0,
          120000.0,
          120000.0
         ],
         "xaxis": "x",
         "y": [
          "2023-01-01",
          "2023-02-28",
          "2023-03-07"
         ],
         "yaxis": "y",
         "type": "bar"
        },
        {
         "alignmentgroup": "True",
         "base": [
          "2024-10-22T01:03:00",
          "2024-10-22T01:08:00",
          "2024-10-22T01:06:00"
         ],
         "hovertemplate": "Task=1442-1446<br>Start=%{base}<br>Finish=%{x}<br>KOZLEKEDESI_NAP_DT=%{y}<extra></extra>",
         "legendgroup": "1442-1446",
         "marker": {
          "color": "#B6E880",
          "pattern": {
           "shape": ""
          }
         },
         "name": "1442-1446",
         "offsetgroup": "1442-1446",
         "orientation": "h",
         "showlegend": true,
         "textposition": "auto",
         "x": [
          240000.0,
          240000.0,
          240000.0
         ],
         "xaxis": "x",
         "y": [
          "2023-01-01",
          "2023-02-28",
          "2023-03-07"
         ],
         "yaxis": "y",
         "type": "bar"
        },
        {
         "alignmentgroup": "True",
         "base": [
          "2024-10-22T01:07:00",
          "2024-10-22T01:12:00",
          "2024-10-22T01:10:00"
         ],
         "hovertemplate": "Task=1446-1446<br>Start=%{base}<br>Finish=%{x}<br>KOZLEKEDESI_NAP_DT=%{y}<extra></extra>",
         "legendgroup": "1446-1446",
         "marker": {
          "color": "#FF97FF",
          "pattern": {
           "shape": ""
          }
         },
         "name": "1446-1446",
         "offsetgroup": "1446-1446",
         "orientation": "h",
         "showlegend": true,
         "textposition": "auto",
         "x": [
          0.0,
          0.0,
          0.0
         ],
         "xaxis": "x",
         "y": [
          "2023-01-01",
          "2023-02-28",
          "2023-03-07"
         ],
         "yaxis": "y",
         "type": "bar"
        },
        {
         "alignmentgroup": "True",
         "base": [
          "2024-10-22T01:07:00",
          "2024-10-22T01:12:00",
          "2024-10-22T01:10:00"
         ],
         "hovertemplate": "Task=1446-1453<br>Start=%{base}<br>Finish=%{x}<br>KOZLEKEDESI_NAP_DT=%{y}<extra></extra>",
         "legendgroup": "1446-1453",
         "marker": {
          "color": "#FECB52",
          "pattern": {
           "shape": ""
          }
         },
         "name": "1446-1453",
         "offsetgroup": "1446-1453",
         "orientation": "h",
         "showlegend": true,
         "textposition": "auto",
         "x": [
          120000.0,
          120000.0,
          120000.0
         ],
         "xaxis": "x",
         "y": [
          "2023-01-01",
          "2023-02-28",
          "2023-03-07"
         ],
         "yaxis": "y",
         "type": "bar"
        },
        {
         "alignmentgroup": "True",
         "base": [
          "2024-10-22T01:09:00",
          "2024-10-22T01:14:00",
          "2024-10-22T01:12:00",
          "2024-10-22T01:40:00"
         ],
         "hovertemplate": "Task=1453-1453<br>Start=%{base}<br>Finish=%{x}<br>KOZLEKEDESI_NAP_DT=%{y}<extra></extra>",
         "legendgroup": "1453-1453",
         "marker": {
          "color": "#636efa",
          "pattern": {
           "shape": ""
          }
         },
         "name": "1453-1453",
         "offsetgroup": "1453-1453",
         "orientation": "h",
         "showlegend": true,
         "textposition": "auto",
         "x": [
          60000.0,
          60000.0,
          60000.0,
          0.0
         ],
         "xaxis": "x",
         "y": [
          "2023-01-01",
          "2023-02-28",
          "2023-03-07",
          "2023-04-15"
         ],
         "yaxis": "y",
         "type": "bar"
        },
        {
         "alignmentgroup": "True",
         "base": [
          "2024-10-22T01:10:00",
          "2024-10-22T01:15:00",
          "2024-10-22T01:13:00",
          "2024-10-22T01:40:00"
         ],
         "hovertemplate": "Task=1453-1457<br>Start=%{base}<br>Finish=%{x}<br>KOZLEKEDESI_NAP_DT=%{y}<extra></extra>",
         "legendgroup": "1453-1457",
         "marker": {
          "color": "#EF553B",
          "pattern": {
           "shape": ""
          }
         },
         "name": "1453-1457",
         "offsetgroup": "1453-1457",
         "orientation": "h",
         "showlegend": true,
         "textposition": "auto",
         "x": [
          120000.0,
          120000.0,
          120000.0,
          120000.0
         ],
         "xaxis": "x",
         "y": [
          "2023-01-01",
          "2023-02-28",
          "2023-03-07",
          "2023-04-15"
         ],
         "yaxis": "y",
         "type": "bar"
        },
        {
         "alignmentgroup": "True",
         "base": [
          "2024-10-22T01:12:00",
          "2024-10-22T01:17:00",
          "2024-10-22T01:15:00",
          "2024-10-22T01:42:00"
         ],
         "hovertemplate": "Task=1457-1457<br>Start=%{base}<br>Finish=%{x}<br>KOZLEKEDESI_NAP_DT=%{y}<extra></extra>",
         "legendgroup": "1457-1457",
         "marker": {
          "color": "#00cc96",
          "pattern": {
           "shape": ""
          }
         },
         "name": "1457-1457",
         "offsetgroup": "1457-1457",
         "orientation": "h",
         "showlegend": true,
         "textposition": "auto",
         "x": [
          0.0,
          0.0,
          0.0,
          0.0
         ],
         "xaxis": "x",
         "y": [
          "2023-01-01",
          "2023-02-28",
          "2023-03-07",
          "2023-04-15"
         ],
         "yaxis": "y",
         "type": "bar"
        },
        {
         "alignmentgroup": "True",
         "base": [
          "2024-10-22T01:12:00",
          "2024-10-22T01:17:00",
          "2024-10-22T01:15:00",
          "2024-10-22T01:42:00"
         ],
         "hovertemplate": "Task=1457-1461<br>Start=%{base}<br>Finish=%{x}<br>KOZLEKEDESI_NAP_DT=%{y}<extra></extra>",
         "legendgroup": "1457-1461",
         "marker": {
          "color": "#ab63fa",
          "pattern": {
           "shape": ""
          }
         },
         "name": "1457-1461",
         "offsetgroup": "1457-1461",
         "orientation": "h",
         "showlegend": true,
         "textposition": "auto",
         "x": [
          120000.0,
          120000.0,
          120000.0,
          120000.0
         ],
         "xaxis": "x",
         "y": [
          "2023-01-01",
          "2023-02-28",
          "2023-03-07",
          "2023-04-15"
         ],
         "yaxis": "y",
         "type": "bar"
        },
        {
         "alignmentgroup": "True",
         "base": [
          "2024-10-22T01:14:00",
          "2024-10-22T01:19:00",
          "2024-10-22T01:17:00",
          "2024-10-22T01:44:00"
         ],
         "hovertemplate": "Task=1461-1461<br>Start=%{base}<br>Finish=%{x}<br>KOZLEKEDESI_NAP_DT=%{y}<extra></extra>",
         "legendgroup": "1461-1461",
         "marker": {
          "color": "#FFA15A",
          "pattern": {
           "shape": ""
          }
         },
         "name": "1461-1461",
         "offsetgroup": "1461-1461",
         "orientation": "h",
         "showlegend": true,
         "textposition": "auto",
         "x": [
          60000.0,
          60000.0,
          60000.0,
          60000.0
         ],
         "xaxis": "x",
         "y": [
          "2023-01-01",
          "2023-02-28",
          "2023-03-07",
          "2023-04-15"
         ],
         "yaxis": "y",
         "type": "bar"
        },
        {
         "alignmentgroup": "True",
         "base": [
          "2024-10-22T01:15:00",
          "2024-10-22T01:20:00",
          "2024-10-22T01:18:00",
          "2024-10-22T01:45:00"
         ],
         "hovertemplate": "Task=1461-40261<br>Start=%{base}<br>Finish=%{x}<br>KOZLEKEDESI_NAP_DT=%{y}<extra></extra>",
         "legendgroup": "1461-40261",
         "marker": {
          "color": "#19d3f3",
          "pattern": {
           "shape": ""
          }
         },
         "name": "1461-40261",
         "offsetgroup": "1461-40261",
         "orientation": "h",
         "showlegend": true,
         "textposition": "auto",
         "x": [
          180000.0,
          180000.0,
          180000.0,
          180000.0
         ],
         "xaxis": "x",
         "y": [
          "2023-01-01",
          "2023-02-28",
          "2023-03-07",
          "2023-04-15"
         ],
         "yaxis": "y",
         "type": "bar"
        },
        {
         "alignmentgroup": "True",
         "base": [
          "2024-10-22T01:18:00",
          "2024-10-22T01:23:00",
          "2024-10-22T01:21:00",
          "2024-10-22T01:48:00"
         ],
         "hovertemplate": "Task=40261-40261<br>Start=%{base}<br>Finish=%{x}<br>KOZLEKEDESI_NAP_DT=%{y}<extra></extra>",
         "legendgroup": "40261-40261",
         "marker": {
          "color": "#FF6692",
          "pattern": {
           "shape": ""
          }
         },
         "name": "40261-40261",
         "offsetgroup": "40261-40261",
         "orientation": "h",
         "showlegend": true,
         "textposition": "auto",
         "x": [
          0.0,
          0.0,
          0.0,
          0.0
         ],
         "xaxis": "x",
         "y": [
          "2023-01-01",
          "2023-02-28",
          "2023-03-07",
          "2023-04-15"
         ],
         "yaxis": "y",
         "type": "bar"
        },
        {
         "alignmentgroup": "True",
         "base": [
          "2024-10-22T01:18:00",
          "2024-10-22T01:23:00",
          "2024-10-22T01:21:00",
          "2024-10-22T01:48:00"
         ],
         "hovertemplate": "Task=40261-1487<br>Start=%{base}<br>Finish=%{x}<br>KOZLEKEDESI_NAP_DT=%{y}<extra></extra>",
         "legendgroup": "40261-1487",
         "marker": {
          "color": "#B6E880",
          "pattern": {
           "shape": ""
          }
         },
         "name": "40261-1487",
         "offsetgroup": "40261-1487",
         "orientation": "h",
         "showlegend": true,
         "textposition": "auto",
         "x": [
          120000.0,
          120000.0,
          120000.0,
          120000.0
         ],
         "xaxis": "x",
         "y": [
          "2023-01-01",
          "2023-02-28",
          "2023-03-07",
          "2023-04-15"
         ],
         "yaxis": "y",
         "type": "bar"
        },
        {
         "alignmentgroup": "True",
         "base": [
          "2024-10-22T01:20:00",
          "2024-10-22T01:25:00",
          "2024-10-22T01:23:00",
          "2024-10-22T01:50:00"
         ],
         "hovertemplate": "Task=1487-1487<br>Start=%{base}<br>Finish=%{x}<br>KOZLEKEDESI_NAP_DT=%{y}<extra></extra>",
         "legendgroup": "1487-1487",
         "marker": {
          "color": "#FF97FF",
          "pattern": {
           "shape": ""
          }
         },
         "name": "1487-1487",
         "offsetgroup": "1487-1487",
         "orientation": "h",
         "showlegend": true,
         "textposition": "auto",
         "x": [
          60000.0,
          60000.0,
          60000.0,
          60000.0
         ],
         "xaxis": "x",
         "y": [
          "2023-01-01",
          "2023-02-28",
          "2023-03-07",
          "2023-04-15"
         ],
         "yaxis": "y",
         "type": "bar"
        },
        {
         "alignmentgroup": "True",
         "base": [
          "2024-10-22T01:21:00",
          "2024-10-22T01:26:00",
          "2024-10-22T01:24:00",
          "2024-10-22T01:51:00"
         ],
         "hovertemplate": "Task=1487-1495<br>Start=%{base}<br>Finish=%{x}<br>KOZLEKEDESI_NAP_DT=%{y}<extra></extra>",
         "legendgroup": "1487-1495",
         "marker": {
          "color": "#FECB52",
          "pattern": {
           "shape": ""
          }
         },
         "name": "1487-1495",
         "offsetgroup": "1487-1495",
         "orientation": "h",
         "showlegend": true,
         "textposition": "auto",
         "x": [
          240000.0,
          240000.0,
          240000.0,
          240000.0
         ],
         "xaxis": "x",
         "y": [
          "2023-01-01",
          "2023-02-28",
          "2023-03-07",
          "2023-04-15"
         ],
         "yaxis": "y",
         "type": "bar"
        },
        {
         "alignmentgroup": "True",
         "base": [
          "2024-10-22T01:25:00",
          "2024-10-22T01:30:00",
          "2024-10-22T01:28:00",
          "2024-10-22T01:55:00"
         ],
         "hovertemplate": "Task=1495-1495<br>Start=%{base}<br>Finish=%{x}<br>KOZLEKEDESI_NAP_DT=%{y}<extra></extra>",
         "legendgroup": "1495-1495",
         "marker": {
          "color": "#636efa",
          "pattern": {
           "shape": ""
          }
         },
         "name": "1495-1495",
         "offsetgroup": "1495-1495",
         "orientation": "h",
         "showlegend": true,
         "textposition": "auto",
         "x": [
          60000.0,
          60000.0,
          60000.0,
          60000.0
         ],
         "xaxis": "x",
         "y": [
          "2023-01-01",
          "2023-02-28",
          "2023-03-07",
          "2023-04-15"
         ],
         "yaxis": "y",
         "type": "bar"
        },
        {
         "alignmentgroup": "True",
         "base": [
          "2024-10-22T01:26:00",
          "2024-10-22T01:31:00",
          "2024-10-22T01:29:00",
          "2024-10-22T01:56:00"
         ],
         "hovertemplate": "Task=1495-40824<br>Start=%{base}<br>Finish=%{x}<br>KOZLEKEDESI_NAP_DT=%{y}<extra></extra>",
         "legendgroup": "1495-40824",
         "marker": {
          "color": "#EF553B",
          "pattern": {
           "shape": ""
          }
         },
         "name": "1495-40824",
         "offsetgroup": "1495-40824",
         "orientation": "h",
         "showlegend": true,
         "textposition": "auto",
         "x": [
          120000.0,
          120000.0,
          120000.0,
          120000.0
         ],
         "xaxis": "x",
         "y": [
          "2023-01-01",
          "2023-02-28",
          "2023-03-07",
          "2023-04-15"
         ],
         "yaxis": "y",
         "type": "bar"
        },
        {
         "alignmentgroup": "True",
         "base": [
          "2024-10-22T01:28:00",
          "2024-10-22T01:33:00",
          "2024-10-22T01:31:00",
          "2024-10-22T01:58:00"
         ],
         "hovertemplate": "Task=40824-1503<br>Start=%{base}<br>Finish=%{x}<br>KOZLEKEDESI_NAP_DT=%{y}<extra></extra>",
         "legendgroup": "40824-1503",
         "marker": {
          "color": "#00cc96",
          "pattern": {
           "shape": ""
          }
         },
         "name": "40824-1503",
         "offsetgroup": "40824-1503",
         "orientation": "h",
         "showlegend": true,
         "textposition": "auto",
         "x": [
          60000.0,
          60000.0,
          60000.0,
          60000.0
         ],
         "xaxis": "x",
         "y": [
          "2023-01-01",
          "2023-02-28",
          "2023-03-07",
          "2023-04-15"
         ],
         "yaxis": "y",
         "type": "bar"
        },
        {
         "alignmentgroup": "True",
         "base": [
          "2024-10-22T01:29:00",
          "2024-10-22T01:34:00",
          "2024-10-22T01:32:00",
          "2024-10-22T01:59:00"
         ],
         "hovertemplate": "Task=1503-1503<br>Start=%{base}<br>Finish=%{x}<br>KOZLEKEDESI_NAP_DT=%{y}<extra></extra>",
         "legendgroup": "1503-1503",
         "marker": {
          "color": "#ab63fa",
          "pattern": {
           "shape": ""
          }
         },
         "name": "1503-1503",
         "offsetgroup": "1503-1503",
         "orientation": "h",
         "showlegend": true,
         "textposition": "auto",
         "x": [
          60000.0,
          60000.0,
          60000.0,
          60000.0
         ],
         "xaxis": "x",
         "y": [
          "2023-01-01",
          "2023-02-28",
          "2023-03-07",
          "2023-04-15"
         ],
         "yaxis": "y",
         "type": "bar"
        },
        {
         "alignmentgroup": "True",
         "base": [
          "2024-10-22T01:30:00",
          "2024-10-22T01:35:00",
          "2024-10-22T01:33:00",
          "2024-10-22T02:00:00"
         ],
         "hovertemplate": "Task=1503-1511<br>Start=%{base}<br>Finish=%{x}<br>KOZLEKEDESI_NAP_DT=%{y}<extra></extra>",
         "legendgroup": "1503-1511",
         "marker": {
          "color": "#FFA15A",
          "pattern": {
           "shape": ""
          }
         },
         "name": "1503-1511",
         "offsetgroup": "1503-1511",
         "orientation": "h",
         "showlegend": true,
         "textposition": "auto",
         "x": [
          300000.0,
          300000.0,
          300000.0,
          300000.0
         ],
         "xaxis": "x",
         "y": [
          "2023-01-01",
          "2023-02-28",
          "2023-03-07",
          "2023-04-15"
         ],
         "yaxis": "y",
         "type": "bar"
        },
        {
         "alignmentgroup": "True",
         "base": [
          "2024-10-22T01:35:00",
          "2024-10-22T01:40:00",
          "2024-10-22T01:38:00",
          "2024-10-22T02:05:00"
         ],
         "hovertemplate": "Task=1511-1511<br>Start=%{base}<br>Finish=%{x}<br>KOZLEKEDESI_NAP_DT=%{y}<extra></extra>",
         "legendgroup": "1511-1511",
         "marker": {
          "color": "#19d3f3",
          "pattern": {
           "shape": ""
          }
         },
         "name": "1511-1511",
         "offsetgroup": "1511-1511",
         "orientation": "h",
         "showlegend": true,
         "textposition": "auto",
         "x": [
          0.0,
          0.0,
          0.0,
          0.0
         ],
         "xaxis": "x",
         "y": [
          "2023-01-01",
          "2023-02-28",
          "2023-03-07",
          "2023-04-15"
         ],
         "yaxis": "y",
         "type": "bar"
        }
       ],
       "layout": {
        "template": {
         "data": {
          "histogram2dcontour": [
           {
            "type": "histogram2dcontour",
            "colorbar": {
             "outlinewidth": 0,
             "ticks": ""
            },
            "colorscale": [
             [
              0.0,
              "#0d0887"
             ],
             [
              0.1111111111111111,
              "#46039f"
             ],
             [
              0.2222222222222222,
              "#7201a8"
             ],
             [
              0.3333333333333333,
              "#9c179e"
             ],
             [
              0.4444444444444444,
              "#bd3786"
             ],
             [
              0.5555555555555556,
              "#d8576b"
             ],
             [
              0.6666666666666666,
              "#ed7953"
             ],
             [
              0.7777777777777778,
              "#fb9f3a"
             ],
             [
              0.8888888888888888,
              "#fdca26"
             ],
             [
              1.0,
              "#f0f921"
             ]
            ]
           }
          ],
          "choropleth": [
           {
            "type": "choropleth",
            "colorbar": {
             "outlinewidth": 0,
             "ticks": ""
            }
           }
          ],
          "histogram2d": [
           {
            "type": "histogram2d",
            "colorbar": {
             "outlinewidth": 0,
             "ticks": ""
            },
            "colorscale": [
             [
              0.0,
              "#0d0887"
             ],
             [
              0.1111111111111111,
              "#46039f"
             ],
             [
              0.2222222222222222,
              "#7201a8"
             ],
             [
              0.3333333333333333,
              "#9c179e"
             ],
             [
              0.4444444444444444,
              "#bd3786"
             ],
             [
              0.5555555555555556,
              "#d8576b"
             ],
             [
              0.6666666666666666,
              "#ed7953"
             ],
             [
              0.7777777777777778,
              "#fb9f3a"
             ],
             [
              0.8888888888888888,
              "#fdca26"
             ],
             [
              1.0,
              "#f0f921"
             ]
            ]
           }
          ],
          "heatmap": [
           {
            "type": "heatmap",
            "colorbar": {
             "outlinewidth": 0,
             "ticks": ""
            },
            "colorscale": [
             [
              0.0,
              "#0d0887"
             ],
             [
              0.1111111111111111,
              "#46039f"
             ],
             [
              0.2222222222222222,
              "#7201a8"
             ],
             [
              0.3333333333333333,
              "#9c179e"
             ],
             [
              0.4444444444444444,
              "#bd3786"
             ],
             [
              0.5555555555555556,
              "#d8576b"
             ],
             [
              0.6666666666666666,
              "#ed7953"
             ],
             [
              0.7777777777777778,
              "#fb9f3a"
             ],
             [
              0.8888888888888888,
              "#fdca26"
             ],
             [
              1.0,
              "#f0f921"
             ]
            ]
           }
          ],
          "heatmapgl": [
           {
            "type": "heatmapgl",
            "colorbar": {
             "outlinewidth": 0,
             "ticks": ""
            },
            "colorscale": [
             [
              0.0,
              "#0d0887"
             ],
             [
              0.1111111111111111,
              "#46039f"
             ],
             [
              0.2222222222222222,
              "#7201a8"
             ],
             [
              0.3333333333333333,
              "#9c179e"
             ],
             [
              0.4444444444444444,
              "#bd3786"
             ],
             [
              0.5555555555555556,
              "#d8576b"
             ],
             [
              0.6666666666666666,
              "#ed7953"
             ],
             [
              0.7777777777777778,
              "#fb9f3a"
             ],
             [
              0.8888888888888888,
              "#fdca26"
             ],
             [
              1.0,
              "#f0f921"
             ]
            ]
           }
          ],
          "contourcarpet": [
           {
            "type": "contourcarpet",
            "colorbar": {
             "outlinewidth": 0,
             "ticks": ""
            }
           }
          ],
          "contour": [
           {
            "type": "contour",
            "colorbar": {
             "outlinewidth": 0,
             "ticks": ""
            },
            "colorscale": [
             [
              0.0,
              "#0d0887"
             ],
             [
              0.1111111111111111,
              "#46039f"
             ],
             [
              0.2222222222222222,
              "#7201a8"
             ],
             [
              0.3333333333333333,
              "#9c179e"
             ],
             [
              0.4444444444444444,
              "#bd3786"
             ],
             [
              0.5555555555555556,
              "#d8576b"
             ],
             [
              0.6666666666666666,
              "#ed7953"
             ],
             [
              0.7777777777777778,
              "#fb9f3a"
             ],
             [
              0.8888888888888888,
              "#fdca26"
             ],
             [
              1.0,
              "#f0f921"
             ]
            ]
           }
          ],
          "surface": [
           {
            "type": "surface",
            "colorbar": {
             "outlinewidth": 0,
             "ticks": ""
            },
            "colorscale": [
             [
              0.0,
              "#0d0887"
             ],
             [
              0.1111111111111111,
              "#46039f"
             ],
             [
              0.2222222222222222,
              "#7201a8"
             ],
             [
              0.3333333333333333,
              "#9c179e"
             ],
             [
              0.4444444444444444,
              "#bd3786"
             ],
             [
              0.5555555555555556,
              "#d8576b"
             ],
             [
              0.6666666666666666,
              "#ed7953"
             ],
             [
              0.7777777777777778,
              "#fb9f3a"
             ],
             [
              0.8888888888888888,
              "#fdca26"
             ],
             [
              1.0,
              "#f0f921"
             ]
            ]
           }
          ],
          "mesh3d": [
           {
            "type": "mesh3d",
            "colorbar": {
             "outlinewidth": 0,
             "ticks": ""
            }
           }
          ],
          "scatter": [
           {
            "marker": {
             "line": {
              "color": "#283442"
             }
            },
            "type": "scatter"
           }
          ],
          "parcoords": [
           {
            "type": "parcoords",
            "line": {
             "colorbar": {
              "outlinewidth": 0,
              "ticks": ""
             }
            }
           }
          ],
          "scatterpolargl": [
           {
            "type": "scatterpolargl",
            "marker": {
             "colorbar": {
              "outlinewidth": 0,
              "ticks": ""
             }
            }
           }
          ],
          "bar": [
           {
            "error_x": {
             "color": "#f2f5fa"
            },
            "error_y": {
             "color": "#f2f5fa"
            },
            "marker": {
             "line": {
              "color": "rgb(17,17,17)",
              "width": 0.5
             },
             "pattern": {
              "fillmode": "overlay",
              "size": 10,
              "solidity": 0.2
             }
            },
            "type": "bar"
           }
          ],
          "scattergeo": [
           {
            "type": "scattergeo",
            "marker": {
             "colorbar": {
              "outlinewidth": 0,
              "ticks": ""
             }
            }
           }
          ],
          "scatterpolar": [
           {
            "type": "scatterpolar",
            "marker": {
             "colorbar": {
              "outlinewidth": 0,
              "ticks": ""
             }
            }
           }
          ],
          "histogram": [
           {
            "marker": {
             "pattern": {
              "fillmode": "overlay",
              "size": 10,
              "solidity": 0.2
             }
            },
            "type": "histogram"
           }
          ],
          "scattergl": [
           {
            "marker": {
             "line": {
              "color": "#283442"
             }
            },
            "type": "scattergl"
           }
          ],
          "scatter3d": [
           {
            "type": "scatter3d",
            "line": {
             "colorbar": {
              "outlinewidth": 0,
              "ticks": ""
             }
            },
            "marker": {
             "colorbar": {
              "outlinewidth": 0,
              "ticks": ""
             }
            }
           }
          ],
          "scattermapbox": [
           {
            "type": "scattermapbox",
            "marker": {
             "colorbar": {
              "outlinewidth": 0,
              "ticks": ""
             }
            }
           }
          ],
          "scatterternary": [
           {
            "type": "scatterternary",
            "marker": {
             "colorbar": {
              "outlinewidth": 0,
              "ticks": ""
             }
            }
           }
          ],
          "scattercarpet": [
           {
            "type": "scattercarpet",
            "marker": {
             "colorbar": {
              "outlinewidth": 0,
              "ticks": ""
             }
            }
           }
          ],
          "carpet": [
           {
            "aaxis": {
             "endlinecolor": "#A2B1C6",
             "gridcolor": "#506784",
             "linecolor": "#506784",
             "minorgridcolor": "#506784",
             "startlinecolor": "#A2B1C6"
            },
            "baxis": {
             "endlinecolor": "#A2B1C6",
             "gridcolor": "#506784",
             "linecolor": "#506784",
             "minorgridcolor": "#506784",
             "startlinecolor": "#A2B1C6"
            },
            "type": "carpet"
           }
          ],
          "table": [
           {
            "cells": {
             "fill": {
              "color": "#506784"
             },
             "line": {
              "color": "rgb(17,17,17)"
             }
            },
            "header": {
             "fill": {
              "color": "#2a3f5f"
             },
             "line": {
              "color": "rgb(17,17,17)"
             }
            },
            "type": "table"
           }
          ],
          "barpolar": [
           {
            "marker": {
             "line": {
              "color": "rgb(17,17,17)",
              "width": 0.5
             },
             "pattern": {
              "fillmode": "overlay",
              "size": 10,
              "solidity": 0.2
             }
            },
            "type": "barpolar"
           }
          ],
          "pie": [
           {
            "automargin": true,
            "type": "pie"
           }
          ]
         },
         "layout": {
          "autotypenumbers": "strict",
          "colorway": [
           "#636efa",
           "#EF553B",
           "#00cc96",
           "#ab63fa",
           "#FFA15A",
           "#19d3f3",
           "#FF6692",
           "#B6E880",
           "#FF97FF",
           "#FECB52"
          ],
          "font": {
           "color": "#f2f5fa"
          },
          "hovermode": "closest",
          "hoverlabel": {
           "align": "left"
          },
          "paper_bgcolor": "rgb(17,17,17)",
          "plot_bgcolor": "rgb(17,17,17)",
          "polar": {
           "bgcolor": "rgb(17,17,17)",
           "angularaxis": {
            "gridcolor": "#506784",
            "linecolor": "#506784",
            "ticks": ""
           },
           "radialaxis": {
            "gridcolor": "#506784",
            "linecolor": "#506784",
            "ticks": ""
           }
          },
          "ternary": {
           "bgcolor": "rgb(17,17,17)",
           "aaxis": {
            "gridcolor": "#506784",
            "linecolor": "#506784",
            "ticks": ""
           },
           "baxis": {
            "gridcolor": "#506784",
            "linecolor": "#506784",
            "ticks": ""
           },
           "caxis": {
            "gridcolor": "#506784",
            "linecolor": "#506784",
            "ticks": ""
           }
          },
          "coloraxis": {
           "colorbar": {
            "outlinewidth": 0,
            "ticks": ""
           }
          },
          "colorscale": {
           "sequential": [
            [
             0.0,
             "#0d0887"
            ],
            [
             0.1111111111111111,
             "#46039f"
            ],
            [
             0.2222222222222222,
             "#7201a8"
            ],
            [
             0.3333333333333333,
             "#9c179e"
            ],
            [
             0.4444444444444444,
             "#bd3786"
            ],
            [
             0.5555555555555556,
             "#d8576b"
            ],
            [
             0.6666666666666666,
             "#ed7953"
            ],
            [
             0.7777777777777778,
             "#fb9f3a"
            ],
            [
             0.8888888888888888,
             "#fdca26"
            ],
            [
             1.0,
             "#f0f921"
            ]
           ],
           "sequentialminus": [
            [
             0.0,
             "#0d0887"
            ],
            [
             0.1111111111111111,
             "#46039f"
            ],
            [
             0.2222222222222222,
             "#7201a8"
            ],
            [
             0.3333333333333333,
             "#9c179e"
            ],
            [
             0.4444444444444444,
             "#bd3786"
            ],
            [
             0.5555555555555556,
             "#d8576b"
            ],
            [
             0.6666666666666666,
             "#ed7953"
            ],
            [
             0.7777777777777778,
             "#fb9f3a"
            ],
            [
             0.8888888888888888,
             "#fdca26"
            ],
            [
             1.0,
             "#f0f921"
            ]
           ],
           "diverging": [
            [
             0,
             "#8e0152"
            ],
            [
             0.1,
             "#c51b7d"
            ],
            [
             0.2,
             "#de77ae"
            ],
            [
             0.3,
             "#f1b6da"
            ],
            [
             0.4,
             "#fde0ef"
            ],
            [
             0.5,
             "#f7f7f7"
            ],
            [
             0.6,
             "#e6f5d0"
            ],
            [
             0.7,
             "#b8e186"
            ],
            [
             0.8,
             "#7fbc41"
            ],
            [
             0.9,
             "#4d9221"
            ],
            [
             1,
             "#276419"
            ]
           ]
          },
          "xaxis": {
           "gridcolor": "#283442",
           "linecolor": "#506784",
           "ticks": "",
           "title": {
            "standoff": 15
           },
           "zerolinecolor": "#283442",
           "automargin": true,
           "zerolinewidth": 2
          },
          "yaxis": {
           "gridcolor": "#283442",
           "linecolor": "#506784",
           "ticks": "",
           "title": {
            "standoff": 15
           },
           "zerolinecolor": "#283442",
           "automargin": true,
           "zerolinewidth": 2
          },
          "scene": {
           "xaxis": {
            "backgroundcolor": "rgb(17,17,17)",
            "gridcolor": "#506784",
            "linecolor": "#506784",
            "showbackground": true,
            "ticks": "",
            "zerolinecolor": "#C8D4E3",
            "gridwidth": 2
           },
           "yaxis": {
            "backgroundcolor": "rgb(17,17,17)",
            "gridcolor": "#506784",
            "linecolor": "#506784",
            "showbackground": true,
            "ticks": "",
            "zerolinecolor": "#C8D4E3",
            "gridwidth": 2
           },
           "zaxis": {
            "backgroundcolor": "rgb(17,17,17)",
            "gridcolor": "#506784",
            "linecolor": "#506784",
            "showbackground": true,
            "ticks": "",
            "zerolinecolor": "#C8D4E3",
            "gridwidth": 2
           }
          },
          "shapedefaults": {
           "line": {
            "color": "#f2f5fa"
           }
          },
          "annotationdefaults": {
           "arrowcolor": "#f2f5fa",
           "arrowhead": 0,
           "arrowwidth": 1
          },
          "geo": {
           "bgcolor": "rgb(17,17,17)",
           "landcolor": "rgb(17,17,17)",
           "subunitcolor": "#506784",
           "showland": true,
           "showlakes": true,
           "lakecolor": "rgb(17,17,17)"
          },
          "title": {
           "x": 0.05
          },
          "updatemenudefaults": {
           "bgcolor": "#506784",
           "borderwidth": 0
          },
          "sliderdefaults": {
           "bgcolor": "#C8D4E3",
           "borderwidth": 1,
           "bordercolor": "rgb(17,17,17)",
           "tickwidth": 0
          },
          "mapbox": {
           "style": "dark"
          }
         }
        },
        "xaxis": {
         "anchor": "y",
         "domain": [
          0.0,
          1.0
         ],
         "type": "date"
        },
        "yaxis": {
         "anchor": "x",
         "domain": [
          0.0,
          1.0
         ],
         "title": {
          "text": "KOZLEKEDESI_NAP_DT"
         },
         "autorange": "reversed",
         "dtick": 1
        },
        "legend": {
         "title": {
          "text": "Task"
         },
         "tracegroupgap": 0
        },
        "margin": {
         "t": 60
        },
        "barmode": "overlay"
       },
       "config": {
        "plotlyServerURL": "https://plot.ly"
       }
      },
      "text/html": [
       "<div>                            <div id=\"7462681a-a40c-4439-bf17-dcd525b84696\" class=\"plotly-graph-div\" style=\"height:525px; width:100%;\"></div>            <script type=\"text/javascript\">                require([\"plotly\"], function(Plotly) {                    window.PLOTLYENV=window.PLOTLYENV || {};                                    if (document.getElementById(\"7462681a-a40c-4439-bf17-dcd525b84696\")) {                    Plotly.newPlot(                        \"7462681a-a40c-4439-bf17-dcd525b84696\",                        [{\"alignmentgroup\":\"True\",\"base\":[\"2024-10-22T00:25:00\",\"2024-10-22T00:25:00\"],\"hovertemplate\":\"Task=10033-10033\\u003cbr\\u003eStart=%{base}\\u003cbr\\u003eFinish=%{x}\\u003cbr\\u003eKOZLEKEDESI_NAP_DT=%{y}\\u003cextra\\u003e\\u003c\\u002fextra\\u003e\",\"legendgroup\":\"10033-10033\",\"marker\":{\"color\":\"#636efa\",\"pattern\":{\"shape\":\"\"}},\"name\":\"10033-10033\",\"offsetgroup\":\"10033-10033\",\"orientation\":\"h\",\"showlegend\":true,\"textposition\":\"auto\",\"x\":[0.0,0.0],\"xaxis\":\"x\",\"y\":[\"2023-01-01\",\"2023-05-20\"],\"yaxis\":\"y\",\"type\":\"bar\"},{\"alignmentgroup\":\"True\",\"base\":[\"2024-10-22T00:25:00\",\"2024-10-22T00:25:00\"],\"hovertemplate\":\"Task=10033-10082\\u003cbr\\u003eStart=%{base}\\u003cbr\\u003eFinish=%{x}\\u003cbr\\u003eKOZLEKEDESI_NAP_DT=%{y}\\u003cextra\\u003e\\u003c\\u002fextra\\u003e\",\"legendgroup\":\"10033-10082\",\"marker\":{\"color\":\"#EF553B\",\"pattern\":{\"shape\":\"\"}},\"name\":\"10033-10082\",\"offsetgroup\":\"10033-10082\",\"orientation\":\"h\",\"showlegend\":true,\"textposition\":\"auto\",\"x\":[240000.0,240000.0],\"xaxis\":\"x\",\"y\":[\"2023-01-01\",\"2023-05-20\"],\"yaxis\":\"y\",\"type\":\"bar\"},{\"alignmentgroup\":\"True\",\"base\":[\"2024-10-22T00:29:00\",\"2024-10-22T00:35:00\",\"2024-10-22T00:29:00\"],\"hovertemplate\":\"Task=10082-10082\\u003cbr\\u003eStart=%{base}\\u003cbr\\u003eFinish=%{x}\\u003cbr\\u003eKOZLEKEDESI_NAP_DT=%{y}\\u003cextra\\u003e\\u003c\\u002fextra\\u003e\",\"legendgroup\":\"10082-10082\",\"marker\":{\"color\":\"#00cc96\",\"pattern\":{\"shape\":\"\"}},\"name\":\"10082-10082\",\"offsetgroup\":\"10082-10082\",\"orientation\":\"h\",\"showlegend\":true,\"textposition\":\"auto\",\"x\":[60000.0,0.0,60000.0],\"xaxis\":\"x\",\"y\":[\"2023-01-01\",\"2023-02-28\",\"2023-05-20\"],\"yaxis\":\"y\",\"type\":\"bar\"},{\"alignmentgroup\":\"True\",\"base\":[\"2024-10-22T00:30:00\",\"2024-10-22T00:35:00\",\"2024-10-22T00:30:00\"],\"hovertemplate\":\"Task=10082-10124\\u003cbr\\u003eStart=%{base}\\u003cbr\\u003eFinish=%{x}\\u003cbr\\u003eKOZLEKEDESI_NAP_DT=%{y}\\u003cextra\\u003e\\u003c\\u002fextra\\u003e\",\"legendgroup\":\"10082-10124\",\"marker\":{\"color\":\"#ab63fa\",\"pattern\":{\"shape\":\"\"}},\"name\":\"10082-10124\",\"offsetgroup\":\"10082-10124\",\"orientation\":\"h\",\"showlegend\":true,\"textposition\":\"auto\",\"x\":[300000.0,300000.0,300000.0],\"xaxis\":\"x\",\"y\":[\"2023-01-01\",\"2023-02-28\",\"2023-05-20\"],\"yaxis\":\"y\",\"type\":\"bar\"},{\"alignmentgroup\":\"True\",\"base\":[\"2024-10-22T00:35:00\",\"2024-10-22T00:40:00\",\"2024-10-22T00:39:00\",\"2024-10-22T00:35:00\"],\"hovertemplate\":\"Task=10124-10124\\u003cbr\\u003eStart=%{base}\\u003cbr\\u003eFinish=%{x}\\u003cbr\\u003eKOZLEKEDESI_NAP_DT=%{y}\\u003cextra\\u003e\\u003c\\u002fextra\\u003e\",\"legendgroup\":\"10124-10124\",\"marker\":{\"color\":\"#FFA15A\",\"pattern\":{\"shape\":\"\"}},\"name\":\"10124-10124\",\"offsetgroup\":\"10124-10124\",\"orientation\":\"h\",\"showlegend\":true,\"textposition\":\"auto\",\"x\":[60000.0,60000.0,0.0,60000.0],\"xaxis\":\"x\",\"y\":[\"2023-01-01\",\"2023-02-28\",\"2023-03-07\",\"2023-05-20\"],\"yaxis\":\"y\",\"type\":\"bar\"},{\"alignmentgroup\":\"True\",\"base\":[\"2024-10-22T00:36:00\",\"2024-10-22T00:41:00\",\"2024-10-22T00:39:00\",\"2024-10-22T00:36:00\"],\"hovertemplate\":\"Task=10124-10207\\u003cbr\\u003eStart=%{base}\\u003cbr\\u003eFinish=%{x}\\u003cbr\\u003eKOZLEKEDESI_NAP_DT=%{y}\\u003cextra\\u003e\\u003c\\u002fextra\\u003e\",\"legendgroup\":\"10124-10207\",\"marker\":{\"color\":\"#19d3f3\",\"pattern\":{\"shape\":\"\"}},\"name\":\"10124-10207\",\"offsetgroup\":\"10124-10207\",\"orientation\":\"h\",\"showlegend\":true,\"textposition\":\"auto\",\"x\":[120000.0,120000.0,120000.0,120000.0],\"xaxis\":\"x\",\"y\":[\"2023-01-01\",\"2023-02-28\",\"2023-03-07\",\"2023-05-20\"],\"yaxis\":\"y\",\"type\":\"bar\"},{\"alignmentgroup\":\"True\",\"base\":[\"2024-10-22T00:38:00\",\"2024-10-22T00:43:00\",\"2024-10-22T00:41:00\",\"2024-10-22T00:38:00\"],\"hovertemplate\":\"Task=10207-10207\\u003cbr\\u003eStart=%{base}\\u003cbr\\u003eFinish=%{x}\\u003cbr\\u003eKOZLEKEDESI_NAP_DT=%{y}\\u003cextra\\u003e\\u003c\\u002fextra\\u003e\",\"legendgroup\":\"10207-10207\",\"marker\":{\"color\":\"#FF6692\",\"pattern\":{\"shape\":\"\"}},\"name\":\"10207-10207\",\"offsetgroup\":\"10207-10207\",\"orientation\":\"h\",\"showlegend\":true,\"textposition\":\"auto\",\"x\":[0.0,0.0,0.0,0.0],\"xaxis\":\"x\",\"y\":[\"2023-01-01\",\"2023-02-28\",\"2023-03-07\",\"2023-05-20\"],\"yaxis\":\"y\",\"type\":\"bar\"},{\"alignmentgroup\":\"True\",\"base\":[\"2024-10-22T00:38:00\",\"2024-10-22T00:43:00\",\"2024-10-22T00:41:00\",\"2024-10-22T00:38:00\"],\"hovertemplate\":\"Task=10207-40253\\u003cbr\\u003eStart=%{base}\\u003cbr\\u003eFinish=%{x}\\u003cbr\\u003eKOZLEKEDESI_NAP_DT=%{y}\\u003cextra\\u003e\\u003c\\u002fextra\\u003e\",\"legendgroup\":\"10207-40253\",\"marker\":{\"color\":\"#B6E880\",\"pattern\":{\"shape\":\"\"}},\"name\":\"10207-40253\",\"offsetgroup\":\"10207-40253\",\"orientation\":\"h\",\"showlegend\":true,\"textposition\":\"auto\",\"x\":[180000.0,180000.0,180000.0,180000.0],\"xaxis\":\"x\",\"y\":[\"2023-01-01\",\"2023-02-28\",\"2023-03-07\",\"2023-05-20\"],\"yaxis\":\"y\",\"type\":\"bar\"},{\"alignmentgroup\":\"True\",\"base\":[\"2024-10-22T00:41:00\",\"2024-10-22T00:46:00\",\"2024-10-22T00:44:00\",\"2024-10-22T00:41:00\"],\"hovertemplate\":\"Task=40253-40253\\u003cbr\\u003eStart=%{base}\\u003cbr\\u003eFinish=%{x}\\u003cbr\\u003eKOZLEKEDESI_NAP_DT=%{y}\\u003cextra\\u003e\\u003c\\u002fextra\\u003e\",\"legendgroup\":\"40253-40253\",\"marker\":{\"color\":\"#FF97FF\",\"pattern\":{\"shape\":\"\"}},\"name\":\"40253-40253\",\"offsetgroup\":\"40253-40253\",\"orientation\":\"h\",\"showlegend\":true,\"textposition\":\"auto\",\"x\":[60000.0,60000.0,60000.0,60000.0],\"xaxis\":\"x\",\"y\":[\"2023-01-01\",\"2023-02-28\",\"2023-03-07\",\"2023-05-20\"],\"yaxis\":\"y\",\"type\":\"bar\"},{\"alignmentgroup\":\"True\",\"base\":[\"2024-10-22T00:42:00\",\"2024-10-22T00:47:00\",\"2024-10-22T00:45:00\",\"2024-10-22T00:42:00\"],\"hovertemplate\":\"Task=40253-1404\\u003cbr\\u003eStart=%{base}\\u003cbr\\u003eFinish=%{x}\\u003cbr\\u003eKOZLEKEDESI_NAP_DT=%{y}\\u003cextra\\u003e\\u003c\\u002fextra\\u003e\",\"legendgroup\":\"40253-1404\",\"marker\":{\"color\":\"#FECB52\",\"pattern\":{\"shape\":\"\"}},\"name\":\"40253-1404\",\"offsetgroup\":\"40253-1404\",\"orientation\":\"h\",\"showlegend\":true,\"textposition\":\"auto\",\"x\":[60000.0,60000.0,60000.0,60000.0],\"xaxis\":\"x\",\"y\":[\"2023-01-01\",\"2023-02-28\",\"2023-03-07\",\"2023-05-20\"],\"yaxis\":\"y\",\"type\":\"bar\"},{\"alignmentgroup\":\"True\",\"base\":[\"2024-10-22T00:43:00\",\"2024-10-22T00:48:00\",\"2024-10-22T00:46:00\",\"2024-10-22T00:43:00\"],\"hovertemplate\":\"Task=1404-1404\\u003cbr\\u003eStart=%{base}\\u003cbr\\u003eFinish=%{x}\\u003cbr\\u003eKOZLEKEDESI_NAP_DT=%{y}\\u003cextra\\u003e\\u003c\\u002fextra\\u003e\",\"legendgroup\":\"1404-1404\",\"marker\":{\"color\":\"#636efa\",\"pattern\":{\"shape\":\"\"}},\"name\":\"1404-1404\",\"offsetgroup\":\"1404-1404\",\"orientation\":\"h\",\"showlegend\":true,\"textposition\":\"auto\",\"x\":[60000.0,60000.0,60000.0,60000.0],\"xaxis\":\"x\",\"y\":[\"2023-01-01\",\"2023-02-28\",\"2023-03-07\",\"2023-05-20\"],\"yaxis\":\"y\",\"type\":\"bar\"},{\"alignmentgroup\":\"True\",\"base\":[\"2024-10-22T00:44:00\",\"2024-10-22T00:49:00\",\"2024-10-22T00:47:00\",\"2024-10-22T00:44:00\"],\"hovertemplate\":\"Task=1404-1408\\u003cbr\\u003eStart=%{base}\\u003cbr\\u003eFinish=%{x}\\u003cbr\\u003eKOZLEKEDESI_NAP_DT=%{y}\\u003cextra\\u003e\\u003c\\u002fextra\\u003e\",\"legendgroup\":\"1404-1408\",\"marker\":{\"color\":\"#EF553B\",\"pattern\":{\"shape\":\"\"}},\"name\":\"1404-1408\",\"offsetgroup\":\"1404-1408\",\"orientation\":\"h\",\"showlegend\":true,\"textposition\":\"auto\",\"x\":[60000.0,60000.0,60000.0,60000.0],\"xaxis\":\"x\",\"y\":[\"2023-01-01\",\"2023-02-28\",\"2023-03-07\",\"2023-05-20\"],\"yaxis\":\"y\",\"type\":\"bar\"},{\"alignmentgroup\":\"True\",\"base\":[\"2024-10-22T00:45:00\",\"2024-10-22T00:50:00\",\"2024-10-22T00:48:00\",\"2024-10-22T00:45:00\"],\"hovertemplate\":\"Task=1408-1408\\u003cbr\\u003eStart=%{base}\\u003cbr\\u003eFinish=%{x}\\u003cbr\\u003eKOZLEKEDESI_NAP_DT=%{y}\\u003cextra\\u003e\\u003c\\u002fextra\\u003e\",\"legendgroup\":\"1408-1408\",\"marker\":{\"color\":\"#00cc96\",\"pattern\":{\"shape\":\"\"}},\"name\":\"1408-1408\",\"offsetgroup\":\"1408-1408\",\"orientation\":\"h\",\"showlegend\":true,\"textposition\":\"auto\",\"x\":[0.0,0.0,0.0,0.0],\"xaxis\":\"x\",\"y\":[\"2023-01-01\",\"2023-02-28\",\"2023-03-07\",\"2023-05-20\"],\"yaxis\":\"y\",\"type\":\"bar\"},{\"alignmentgroup\":\"True\",\"base\":[\"2024-10-22T00:45:00\",\"2024-10-22T00:50:00\",\"2024-10-22T00:48:00\",\"2024-10-22T00:45:00\"],\"hovertemplate\":\"Task=1408-1412\\u003cbr\\u003eStart=%{base}\\u003cbr\\u003eFinish=%{x}\\u003cbr\\u003eKOZLEKEDESI_NAP_DT=%{y}\\u003cextra\\u003e\\u003c\\u002fextra\\u003e\",\"legendgroup\":\"1408-1412\",\"marker\":{\"color\":\"#ab63fa\",\"pattern\":{\"shape\":\"\"}},\"name\":\"1408-1412\",\"offsetgroup\":\"1408-1412\",\"orientation\":\"h\",\"showlegend\":true,\"textposition\":\"auto\",\"x\":[120000.0,120000.0,120000.0,120000.0],\"xaxis\":\"x\",\"y\":[\"2023-01-01\",\"2023-02-28\",\"2023-03-07\",\"2023-05-20\"],\"yaxis\":\"y\",\"type\":\"bar\"},{\"alignmentgroup\":\"True\",\"base\":[\"2024-10-22T00:47:00\",\"2024-10-22T00:52:00\",\"2024-10-22T00:50:00\",\"2024-10-22T00:47:00\"],\"hovertemplate\":\"Task=1412-1412\\u003cbr\\u003eStart=%{base}\\u003cbr\\u003eFinish=%{x}\\u003cbr\\u003eKOZLEKEDESI_NAP_DT=%{y}\\u003cextra\\u003e\\u003c\\u002fextra\\u003e\",\"legendgroup\":\"1412-1412\",\"marker\":{\"color\":\"#FFA15A\",\"pattern\":{\"shape\":\"\"}},\"name\":\"1412-1412\",\"offsetgroup\":\"1412-1412\",\"orientation\":\"h\",\"showlegend\":true,\"textposition\":\"auto\",\"x\":[0.0,0.0,0.0,0.0],\"xaxis\":\"x\",\"y\":[\"2023-01-01\",\"2023-02-28\",\"2023-03-07\",\"2023-05-20\"],\"yaxis\":\"y\",\"type\":\"bar\"},{\"alignmentgroup\":\"True\",\"base\":[\"2024-10-22T00:47:00\",\"2024-10-22T00:52:00\",\"2024-10-22T00:50:00\",\"2024-10-22T00:47:00\"],\"hovertemplate\":\"Task=1412-1420\\u003cbr\\u003eStart=%{base}\\u003cbr\\u003eFinish=%{x}\\u003cbr\\u003eKOZLEKEDESI_NAP_DT=%{y}\\u003cextra\\u003e\\u003c\\u002fextra\\u003e\",\"legendgroup\":\"1412-1420\",\"marker\":{\"color\":\"#19d3f3\",\"pattern\":{\"shape\":\"\"}},\"name\":\"1412-1420\",\"offsetgroup\":\"1412-1420\",\"orientation\":\"h\",\"showlegend\":true,\"textposition\":\"auto\",\"x\":[180000.0,180000.0,180000.0,180000.0],\"xaxis\":\"x\",\"y\":[\"2023-01-01\",\"2023-02-28\",\"2023-03-07\",\"2023-05-20\"],\"yaxis\":\"y\",\"type\":\"bar\"},{\"alignmentgroup\":\"True\",\"base\":[\"2024-10-22T00:50:00\",\"2024-10-22T00:55:00\",\"2024-10-22T00:53:00\",\"2024-10-22T00:50:00\"],\"hovertemplate\":\"Task=1420-1420\\u003cbr\\u003eStart=%{base}\\u003cbr\\u003eFinish=%{x}\\u003cbr\\u003eKOZLEKEDESI_NAP_DT=%{y}\\u003cextra\\u003e\\u003c\\u002fextra\\u003e\",\"legendgroup\":\"1420-1420\",\"marker\":{\"color\":\"#FF6692\",\"pattern\":{\"shape\":\"\"}},\"name\":\"1420-1420\",\"offsetgroup\":\"1420-1420\",\"orientation\":\"h\",\"showlegend\":true,\"textposition\":\"auto\",\"x\":[60000.0,60000.0,60000.0,60000.0],\"xaxis\":\"x\",\"y\":[\"2023-01-01\",\"2023-02-28\",\"2023-03-07\",\"2023-05-20\"],\"yaxis\":\"y\",\"type\":\"bar\"},{\"alignmentgroup\":\"True\",\"base\":[\"2024-10-22T00:51:00\",\"2024-10-22T00:56:00\",\"2024-10-22T00:54:00\",\"2024-10-22T00:51:00\"],\"hovertemplate\":\"Task=1420-1428\\u003cbr\\u003eStart=%{base}\\u003cbr\\u003eFinish=%{x}\\u003cbr\\u003eKOZLEKEDESI_NAP_DT=%{y}\\u003cextra\\u003e\\u003c\\u002fextra\\u003e\",\"legendgroup\":\"1420-1428\",\"marker\":{\"color\":\"#B6E880\",\"pattern\":{\"shape\":\"\"}},\"name\":\"1420-1428\",\"offsetgroup\":\"1420-1428\",\"orientation\":\"h\",\"showlegend\":true,\"textposition\":\"auto\",\"x\":[120000.0,120000.0,120000.0,120000.0],\"xaxis\":\"x\",\"y\":[\"2023-01-01\",\"2023-02-28\",\"2023-03-07\",\"2023-05-20\"],\"yaxis\":\"y\",\"type\":\"bar\"},{\"alignmentgroup\":\"True\",\"base\":[\"2024-10-22T00:53:00\",\"2024-10-22T00:58:00\",\"2024-10-22T00:56:00\",\"2024-10-22T00:53:00\"],\"hovertemplate\":\"Task=1428-1428\\u003cbr\\u003eStart=%{base}\\u003cbr\\u003eFinish=%{x}\\u003cbr\\u003eKOZLEKEDESI_NAP_DT=%{y}\\u003cextra\\u003e\\u003c\\u002fextra\\u003e\",\"legendgroup\":\"1428-1428\",\"marker\":{\"color\":\"#FF97FF\",\"pattern\":{\"shape\":\"\"}},\"name\":\"1428-1428\",\"offsetgroup\":\"1428-1428\",\"orientation\":\"h\",\"showlegend\":true,\"textposition\":\"auto\",\"x\":[0.0,0.0,0.0,0.0],\"xaxis\":\"x\",\"y\":[\"2023-01-01\",\"2023-02-28\",\"2023-03-07\",\"2023-05-20\"],\"yaxis\":\"y\",\"type\":\"bar\"},{\"alignmentgroup\":\"True\",\"base\":[\"2024-10-22T00:53:00\",\"2024-10-22T00:58:00\",\"2024-10-22T00:56:00\",\"2024-10-22T00:53:00\"],\"hovertemplate\":\"Task=1428-1433\\u003cbr\\u003eStart=%{base}\\u003cbr\\u003eFinish=%{x}\\u003cbr\\u003eKOZLEKEDESI_NAP_DT=%{y}\\u003cextra\\u003e\\u003c\\u002fextra\\u003e\",\"legendgroup\":\"1428-1433\",\"marker\":{\"color\":\"#FECB52\",\"pattern\":{\"shape\":\"\"}},\"name\":\"1428-1433\",\"offsetgroup\":\"1428-1433\",\"orientation\":\"h\",\"showlegend\":true,\"textposition\":\"auto\",\"x\":[120000.0,120000.0,120000.0,120000.0],\"xaxis\":\"x\",\"y\":[\"2023-01-01\",\"2023-02-28\",\"2023-03-07\",\"2023-05-20\"],\"yaxis\":\"y\",\"type\":\"bar\"},{\"alignmentgroup\":\"True\",\"base\":[\"2024-10-22T00:55:00\",\"2024-10-22T01:00:00\",\"2024-10-22T00:58:00\",\"2024-10-22T00:55:00\"],\"hovertemplate\":\"Task=1433-1433\\u003cbr\\u003eStart=%{base}\\u003cbr\\u003eFinish=%{x}\\u003cbr\\u003eKOZLEKEDESI_NAP_DT=%{y}\\u003cextra\\u003e\\u003c\\u002fextra\\u003e\",\"legendgroup\":\"1433-1433\",\"marker\":{\"color\":\"#636efa\",\"pattern\":{\"shape\":\"\"}},\"name\":\"1433-1433\",\"offsetgroup\":\"1433-1433\",\"orientation\":\"h\",\"showlegend\":true,\"textposition\":\"auto\",\"x\":[0.0,0.0,0.0,0.0],\"xaxis\":\"x\",\"y\":[\"2023-01-01\",\"2023-02-28\",\"2023-03-07\",\"2023-05-20\"],\"yaxis\":\"y\",\"type\":\"bar\"},{\"alignmentgroup\":\"True\",\"base\":[\"2024-10-22T00:55:00\",\"2024-10-22T01:00:00\",\"2024-10-22T00:58:00\",\"2024-10-22T00:55:00\"],\"hovertemplate\":\"Task=1433-1438\\u003cbr\\u003eStart=%{base}\\u003cbr\\u003eFinish=%{x}\\u003cbr\\u003eKOZLEKEDESI_NAP_DT=%{y}\\u003cextra\\u003e\\u003c\\u002fextra\\u003e\",\"legendgroup\":\"1433-1438\",\"marker\":{\"color\":\"#EF553B\",\"pattern\":{\"shape\":\"\"}},\"name\":\"1433-1438\",\"offsetgroup\":\"1433-1438\",\"orientation\":\"h\",\"showlegend\":true,\"textposition\":\"auto\",\"x\":[120000.0,120000.0,120000.0,120000.0],\"xaxis\":\"x\",\"y\":[\"2023-01-01\",\"2023-02-28\",\"2023-03-07\",\"2023-05-20\"],\"yaxis\":\"y\",\"type\":\"bar\"},{\"alignmentgroup\":\"True\",\"base\":[\"2024-10-22T00:57:00\",\"2024-10-22T01:02:00\",\"2024-10-22T01:00:00\",\"2024-10-22T00:57:00\"],\"hovertemplate\":\"Task=1438-1438\\u003cbr\\u003eStart=%{base}\\u003cbr\\u003eFinish=%{x}\\u003cbr\\u003eKOZLEKEDESI_NAP_DT=%{y}\\u003cextra\\u003e\\u003c\\u002fextra\\u003e\",\"legendgroup\":\"1438-1438\",\"marker\":{\"color\":\"#00cc96\",\"pattern\":{\"shape\":\"\"}},\"name\":\"1438-1438\",\"offsetgroup\":\"1438-1438\",\"orientation\":\"h\",\"showlegend\":true,\"textposition\":\"auto\",\"x\":[60000.0,60000.0,60000.0,0.0],\"xaxis\":\"x\",\"y\":[\"2023-01-01\",\"2023-02-28\",\"2023-03-07\",\"2023-05-20\"],\"yaxis\":\"y\",\"type\":\"bar\"},{\"alignmentgroup\":\"True\",\"base\":[\"2024-10-22T00:58:00\",\"2024-10-22T01:03:00\",\"2024-10-22T01:01:00\"],\"hovertemplate\":\"Task=1438-46052\\u003cbr\\u003eStart=%{base}\\u003cbr\\u003eFinish=%{x}\\u003cbr\\u003eKOZLEKEDESI_NAP_DT=%{y}\\u003cextra\\u003e\\u003c\\u002fextra\\u003e\",\"legendgroup\":\"1438-46052\",\"marker\":{\"color\":\"#ab63fa\",\"pattern\":{\"shape\":\"\"}},\"name\":\"1438-46052\",\"offsetgroup\":\"1438-46052\",\"orientation\":\"h\",\"showlegend\":true,\"textposition\":\"auto\",\"x\":[120000.0,120000.0,120000.0],\"xaxis\":\"x\",\"y\":[\"2023-01-01\",\"2023-02-28\",\"2023-03-07\"],\"yaxis\":\"y\",\"type\":\"bar\"},{\"alignmentgroup\":\"True\",\"base\":[\"2024-10-22T01:00:00\",\"2024-10-22T01:05:00\",\"2024-10-22T01:03:00\"],\"hovertemplate\":\"Task=46052-46052\\u003cbr\\u003eStart=%{base}\\u003cbr\\u003eFinish=%{x}\\u003cbr\\u003eKOZLEKEDESI_NAP_DT=%{y}\\u003cextra\\u003e\\u003c\\u002fextra\\u003e\",\"legendgroup\":\"46052-46052\",\"marker\":{\"color\":\"#FFA15A\",\"pattern\":{\"shape\":\"\"}},\"name\":\"46052-46052\",\"offsetgroup\":\"46052-46052\",\"orientation\":\"h\",\"showlegend\":true,\"textposition\":\"auto\",\"x\":[0.0,0.0,0.0],\"xaxis\":\"x\",\"y\":[\"2023-01-01\",\"2023-02-28\",\"2023-03-07\"],\"yaxis\":\"y\",\"type\":\"bar\"},{\"alignmentgroup\":\"True\",\"base\":[\"2024-10-22T01:00:00\",\"2024-10-22T01:05:00\",\"2024-10-22T01:03:00\"],\"hovertemplate\":\"Task=46052-1440\\u003cbr\\u003eStart=%{base}\\u003cbr\\u003eFinish=%{x}\\u003cbr\\u003eKOZLEKEDESI_NAP_DT=%{y}\\u003cextra\\u003e\\u003c\\u002fextra\\u003e\",\"legendgroup\":\"46052-1440\",\"marker\":{\"color\":\"#19d3f3\",\"pattern\":{\"shape\":\"\"}},\"name\":\"46052-1440\",\"offsetgroup\":\"46052-1440\",\"orientation\":\"h\",\"showlegend\":true,\"textposition\":\"auto\",\"x\":[60000.0,60000.0,60000.0],\"xaxis\":\"x\",\"y\":[\"2023-01-01\",\"2023-02-28\",\"2023-03-07\"],\"yaxis\":\"y\",\"type\":\"bar\"},{\"alignmentgroup\":\"True\",\"base\":[\"2024-10-22T01:01:00\",\"2024-10-22T01:06:00\",\"2024-10-22T01:04:00\"],\"hovertemplate\":\"Task=1440-1442\\u003cbr\\u003eStart=%{base}\\u003cbr\\u003eFinish=%{x}\\u003cbr\\u003eKOZLEKEDESI_NAP_DT=%{y}\\u003cextra\\u003e\\u003c\\u002fextra\\u003e\",\"legendgroup\":\"1440-1442\",\"marker\":{\"color\":\"#FF6692\",\"pattern\":{\"shape\":\"\"}},\"name\":\"1440-1442\",\"offsetgroup\":\"1440-1442\",\"orientation\":\"h\",\"showlegend\":true,\"textposition\":\"auto\",\"x\":[120000.0,120000.0,120000.0],\"xaxis\":\"x\",\"y\":[\"2023-01-01\",\"2023-02-28\",\"2023-03-07\"],\"yaxis\":\"y\",\"type\":\"bar\"},{\"alignmentgroup\":\"True\",\"base\":[\"2024-10-22T01:03:00\",\"2024-10-22T01:08:00\",\"2024-10-22T01:06:00\"],\"hovertemplate\":\"Task=1442-1446\\u003cbr\\u003eStart=%{base}\\u003cbr\\u003eFinish=%{x}\\u003cbr\\u003eKOZLEKEDESI_NAP_DT=%{y}\\u003cextra\\u003e\\u003c\\u002fextra\\u003e\",\"legendgroup\":\"1442-1446\",\"marker\":{\"color\":\"#B6E880\",\"pattern\":{\"shape\":\"\"}},\"name\":\"1442-1446\",\"offsetgroup\":\"1442-1446\",\"orientation\":\"h\",\"showlegend\":true,\"textposition\":\"auto\",\"x\":[240000.0,240000.0,240000.0],\"xaxis\":\"x\",\"y\":[\"2023-01-01\",\"2023-02-28\",\"2023-03-07\"],\"yaxis\":\"y\",\"type\":\"bar\"},{\"alignmentgroup\":\"True\",\"base\":[\"2024-10-22T01:07:00\",\"2024-10-22T01:12:00\",\"2024-10-22T01:10:00\"],\"hovertemplate\":\"Task=1446-1446\\u003cbr\\u003eStart=%{base}\\u003cbr\\u003eFinish=%{x}\\u003cbr\\u003eKOZLEKEDESI_NAP_DT=%{y}\\u003cextra\\u003e\\u003c\\u002fextra\\u003e\",\"legendgroup\":\"1446-1446\",\"marker\":{\"color\":\"#FF97FF\",\"pattern\":{\"shape\":\"\"}},\"name\":\"1446-1446\",\"offsetgroup\":\"1446-1446\",\"orientation\":\"h\",\"showlegend\":true,\"textposition\":\"auto\",\"x\":[0.0,0.0,0.0],\"xaxis\":\"x\",\"y\":[\"2023-01-01\",\"2023-02-28\",\"2023-03-07\"],\"yaxis\":\"y\",\"type\":\"bar\"},{\"alignmentgroup\":\"True\",\"base\":[\"2024-10-22T01:07:00\",\"2024-10-22T01:12:00\",\"2024-10-22T01:10:00\"],\"hovertemplate\":\"Task=1446-1453\\u003cbr\\u003eStart=%{base}\\u003cbr\\u003eFinish=%{x}\\u003cbr\\u003eKOZLEKEDESI_NAP_DT=%{y}\\u003cextra\\u003e\\u003c\\u002fextra\\u003e\",\"legendgroup\":\"1446-1453\",\"marker\":{\"color\":\"#FECB52\",\"pattern\":{\"shape\":\"\"}},\"name\":\"1446-1453\",\"offsetgroup\":\"1446-1453\",\"orientation\":\"h\",\"showlegend\":true,\"textposition\":\"auto\",\"x\":[120000.0,120000.0,120000.0],\"xaxis\":\"x\",\"y\":[\"2023-01-01\",\"2023-02-28\",\"2023-03-07\"],\"yaxis\":\"y\",\"type\":\"bar\"},{\"alignmentgroup\":\"True\",\"base\":[\"2024-10-22T01:09:00\",\"2024-10-22T01:14:00\",\"2024-10-22T01:12:00\",\"2024-10-22T01:40:00\"],\"hovertemplate\":\"Task=1453-1453\\u003cbr\\u003eStart=%{base}\\u003cbr\\u003eFinish=%{x}\\u003cbr\\u003eKOZLEKEDESI_NAP_DT=%{y}\\u003cextra\\u003e\\u003c\\u002fextra\\u003e\",\"legendgroup\":\"1453-1453\",\"marker\":{\"color\":\"#636efa\",\"pattern\":{\"shape\":\"\"}},\"name\":\"1453-1453\",\"offsetgroup\":\"1453-1453\",\"orientation\":\"h\",\"showlegend\":true,\"textposition\":\"auto\",\"x\":[60000.0,60000.0,60000.0,0.0],\"xaxis\":\"x\",\"y\":[\"2023-01-01\",\"2023-02-28\",\"2023-03-07\",\"2023-04-15\"],\"yaxis\":\"y\",\"type\":\"bar\"},{\"alignmentgroup\":\"True\",\"base\":[\"2024-10-22T01:10:00\",\"2024-10-22T01:15:00\",\"2024-10-22T01:13:00\",\"2024-10-22T01:40:00\"],\"hovertemplate\":\"Task=1453-1457\\u003cbr\\u003eStart=%{base}\\u003cbr\\u003eFinish=%{x}\\u003cbr\\u003eKOZLEKEDESI_NAP_DT=%{y}\\u003cextra\\u003e\\u003c\\u002fextra\\u003e\",\"legendgroup\":\"1453-1457\",\"marker\":{\"color\":\"#EF553B\",\"pattern\":{\"shape\":\"\"}},\"name\":\"1453-1457\",\"offsetgroup\":\"1453-1457\",\"orientation\":\"h\",\"showlegend\":true,\"textposition\":\"auto\",\"x\":[120000.0,120000.0,120000.0,120000.0],\"xaxis\":\"x\",\"y\":[\"2023-01-01\",\"2023-02-28\",\"2023-03-07\",\"2023-04-15\"],\"yaxis\":\"y\",\"type\":\"bar\"},{\"alignmentgroup\":\"True\",\"base\":[\"2024-10-22T01:12:00\",\"2024-10-22T01:17:00\",\"2024-10-22T01:15:00\",\"2024-10-22T01:42:00\"],\"hovertemplate\":\"Task=1457-1457\\u003cbr\\u003eStart=%{base}\\u003cbr\\u003eFinish=%{x}\\u003cbr\\u003eKOZLEKEDESI_NAP_DT=%{y}\\u003cextra\\u003e\\u003c\\u002fextra\\u003e\",\"legendgroup\":\"1457-1457\",\"marker\":{\"color\":\"#00cc96\",\"pattern\":{\"shape\":\"\"}},\"name\":\"1457-1457\",\"offsetgroup\":\"1457-1457\",\"orientation\":\"h\",\"showlegend\":true,\"textposition\":\"auto\",\"x\":[0.0,0.0,0.0,0.0],\"xaxis\":\"x\",\"y\":[\"2023-01-01\",\"2023-02-28\",\"2023-03-07\",\"2023-04-15\"],\"yaxis\":\"y\",\"type\":\"bar\"},{\"alignmentgroup\":\"True\",\"base\":[\"2024-10-22T01:12:00\",\"2024-10-22T01:17:00\",\"2024-10-22T01:15:00\",\"2024-10-22T01:42:00\"],\"hovertemplate\":\"Task=1457-1461\\u003cbr\\u003eStart=%{base}\\u003cbr\\u003eFinish=%{x}\\u003cbr\\u003eKOZLEKEDESI_NAP_DT=%{y}\\u003cextra\\u003e\\u003c\\u002fextra\\u003e\",\"legendgroup\":\"1457-1461\",\"marker\":{\"color\":\"#ab63fa\",\"pattern\":{\"shape\":\"\"}},\"name\":\"1457-1461\",\"offsetgroup\":\"1457-1461\",\"orientation\":\"h\",\"showlegend\":true,\"textposition\":\"auto\",\"x\":[120000.0,120000.0,120000.0,120000.0],\"xaxis\":\"x\",\"y\":[\"2023-01-01\",\"2023-02-28\",\"2023-03-07\",\"2023-04-15\"],\"yaxis\":\"y\",\"type\":\"bar\"},{\"alignmentgroup\":\"True\",\"base\":[\"2024-10-22T01:14:00\",\"2024-10-22T01:19:00\",\"2024-10-22T01:17:00\",\"2024-10-22T01:44:00\"],\"hovertemplate\":\"Task=1461-1461\\u003cbr\\u003eStart=%{base}\\u003cbr\\u003eFinish=%{x}\\u003cbr\\u003eKOZLEKEDESI_NAP_DT=%{y}\\u003cextra\\u003e\\u003c\\u002fextra\\u003e\",\"legendgroup\":\"1461-1461\",\"marker\":{\"color\":\"#FFA15A\",\"pattern\":{\"shape\":\"\"}},\"name\":\"1461-1461\",\"offsetgroup\":\"1461-1461\",\"orientation\":\"h\",\"showlegend\":true,\"textposition\":\"auto\",\"x\":[60000.0,60000.0,60000.0,60000.0],\"xaxis\":\"x\",\"y\":[\"2023-01-01\",\"2023-02-28\",\"2023-03-07\",\"2023-04-15\"],\"yaxis\":\"y\",\"type\":\"bar\"},{\"alignmentgroup\":\"True\",\"base\":[\"2024-10-22T01:15:00\",\"2024-10-22T01:20:00\",\"2024-10-22T01:18:00\",\"2024-10-22T01:45:00\"],\"hovertemplate\":\"Task=1461-40261\\u003cbr\\u003eStart=%{base}\\u003cbr\\u003eFinish=%{x}\\u003cbr\\u003eKOZLEKEDESI_NAP_DT=%{y}\\u003cextra\\u003e\\u003c\\u002fextra\\u003e\",\"legendgroup\":\"1461-40261\",\"marker\":{\"color\":\"#19d3f3\",\"pattern\":{\"shape\":\"\"}},\"name\":\"1461-40261\",\"offsetgroup\":\"1461-40261\",\"orientation\":\"h\",\"showlegend\":true,\"textposition\":\"auto\",\"x\":[180000.0,180000.0,180000.0,180000.0],\"xaxis\":\"x\",\"y\":[\"2023-01-01\",\"2023-02-28\",\"2023-03-07\",\"2023-04-15\"],\"yaxis\":\"y\",\"type\":\"bar\"},{\"alignmentgroup\":\"True\",\"base\":[\"2024-10-22T01:18:00\",\"2024-10-22T01:23:00\",\"2024-10-22T01:21:00\",\"2024-10-22T01:48:00\"],\"hovertemplate\":\"Task=40261-40261\\u003cbr\\u003eStart=%{base}\\u003cbr\\u003eFinish=%{x}\\u003cbr\\u003eKOZLEKEDESI_NAP_DT=%{y}\\u003cextra\\u003e\\u003c\\u002fextra\\u003e\",\"legendgroup\":\"40261-40261\",\"marker\":{\"color\":\"#FF6692\",\"pattern\":{\"shape\":\"\"}},\"name\":\"40261-40261\",\"offsetgroup\":\"40261-40261\",\"orientation\":\"h\",\"showlegend\":true,\"textposition\":\"auto\",\"x\":[0.0,0.0,0.0,0.0],\"xaxis\":\"x\",\"y\":[\"2023-01-01\",\"2023-02-28\",\"2023-03-07\",\"2023-04-15\"],\"yaxis\":\"y\",\"type\":\"bar\"},{\"alignmentgroup\":\"True\",\"base\":[\"2024-10-22T01:18:00\",\"2024-10-22T01:23:00\",\"2024-10-22T01:21:00\",\"2024-10-22T01:48:00\"],\"hovertemplate\":\"Task=40261-1487\\u003cbr\\u003eStart=%{base}\\u003cbr\\u003eFinish=%{x}\\u003cbr\\u003eKOZLEKEDESI_NAP_DT=%{y}\\u003cextra\\u003e\\u003c\\u002fextra\\u003e\",\"legendgroup\":\"40261-1487\",\"marker\":{\"color\":\"#B6E880\",\"pattern\":{\"shape\":\"\"}},\"name\":\"40261-1487\",\"offsetgroup\":\"40261-1487\",\"orientation\":\"h\",\"showlegend\":true,\"textposition\":\"auto\",\"x\":[120000.0,120000.0,120000.0,120000.0],\"xaxis\":\"x\",\"y\":[\"2023-01-01\",\"2023-02-28\",\"2023-03-07\",\"2023-04-15\"],\"yaxis\":\"y\",\"type\":\"bar\"},{\"alignmentgroup\":\"True\",\"base\":[\"2024-10-22T01:20:00\",\"2024-10-22T01:25:00\",\"2024-10-22T01:23:00\",\"2024-10-22T01:50:00\"],\"hovertemplate\":\"Task=1487-1487\\u003cbr\\u003eStart=%{base}\\u003cbr\\u003eFinish=%{x}\\u003cbr\\u003eKOZLEKEDESI_NAP_DT=%{y}\\u003cextra\\u003e\\u003c\\u002fextra\\u003e\",\"legendgroup\":\"1487-1487\",\"marker\":{\"color\":\"#FF97FF\",\"pattern\":{\"shape\":\"\"}},\"name\":\"1487-1487\",\"offsetgroup\":\"1487-1487\",\"orientation\":\"h\",\"showlegend\":true,\"textposition\":\"auto\",\"x\":[60000.0,60000.0,60000.0,60000.0],\"xaxis\":\"x\",\"y\":[\"2023-01-01\",\"2023-02-28\",\"2023-03-07\",\"2023-04-15\"],\"yaxis\":\"y\",\"type\":\"bar\"},{\"alignmentgroup\":\"True\",\"base\":[\"2024-10-22T01:21:00\",\"2024-10-22T01:26:00\",\"2024-10-22T01:24:00\",\"2024-10-22T01:51:00\"],\"hovertemplate\":\"Task=1487-1495\\u003cbr\\u003eStart=%{base}\\u003cbr\\u003eFinish=%{x}\\u003cbr\\u003eKOZLEKEDESI_NAP_DT=%{y}\\u003cextra\\u003e\\u003c\\u002fextra\\u003e\",\"legendgroup\":\"1487-1495\",\"marker\":{\"color\":\"#FECB52\",\"pattern\":{\"shape\":\"\"}},\"name\":\"1487-1495\",\"offsetgroup\":\"1487-1495\",\"orientation\":\"h\",\"showlegend\":true,\"textposition\":\"auto\",\"x\":[240000.0,240000.0,240000.0,240000.0],\"xaxis\":\"x\",\"y\":[\"2023-01-01\",\"2023-02-28\",\"2023-03-07\",\"2023-04-15\"],\"yaxis\":\"y\",\"type\":\"bar\"},{\"alignmentgroup\":\"True\",\"base\":[\"2024-10-22T01:25:00\",\"2024-10-22T01:30:00\",\"2024-10-22T01:28:00\",\"2024-10-22T01:55:00\"],\"hovertemplate\":\"Task=1495-1495\\u003cbr\\u003eStart=%{base}\\u003cbr\\u003eFinish=%{x}\\u003cbr\\u003eKOZLEKEDESI_NAP_DT=%{y}\\u003cextra\\u003e\\u003c\\u002fextra\\u003e\",\"legendgroup\":\"1495-1495\",\"marker\":{\"color\":\"#636efa\",\"pattern\":{\"shape\":\"\"}},\"name\":\"1495-1495\",\"offsetgroup\":\"1495-1495\",\"orientation\":\"h\",\"showlegend\":true,\"textposition\":\"auto\",\"x\":[60000.0,60000.0,60000.0,60000.0],\"xaxis\":\"x\",\"y\":[\"2023-01-01\",\"2023-02-28\",\"2023-03-07\",\"2023-04-15\"],\"yaxis\":\"y\",\"type\":\"bar\"},{\"alignmentgroup\":\"True\",\"base\":[\"2024-10-22T01:26:00\",\"2024-10-22T01:31:00\",\"2024-10-22T01:29:00\",\"2024-10-22T01:56:00\"],\"hovertemplate\":\"Task=1495-40824\\u003cbr\\u003eStart=%{base}\\u003cbr\\u003eFinish=%{x}\\u003cbr\\u003eKOZLEKEDESI_NAP_DT=%{y}\\u003cextra\\u003e\\u003c\\u002fextra\\u003e\",\"legendgroup\":\"1495-40824\",\"marker\":{\"color\":\"#EF553B\",\"pattern\":{\"shape\":\"\"}},\"name\":\"1495-40824\",\"offsetgroup\":\"1495-40824\",\"orientation\":\"h\",\"showlegend\":true,\"textposition\":\"auto\",\"x\":[120000.0,120000.0,120000.0,120000.0],\"xaxis\":\"x\",\"y\":[\"2023-01-01\",\"2023-02-28\",\"2023-03-07\",\"2023-04-15\"],\"yaxis\":\"y\",\"type\":\"bar\"},{\"alignmentgroup\":\"True\",\"base\":[\"2024-10-22T01:28:00\",\"2024-10-22T01:33:00\",\"2024-10-22T01:31:00\",\"2024-10-22T01:58:00\"],\"hovertemplate\":\"Task=40824-1503\\u003cbr\\u003eStart=%{base}\\u003cbr\\u003eFinish=%{x}\\u003cbr\\u003eKOZLEKEDESI_NAP_DT=%{y}\\u003cextra\\u003e\\u003c\\u002fextra\\u003e\",\"legendgroup\":\"40824-1503\",\"marker\":{\"color\":\"#00cc96\",\"pattern\":{\"shape\":\"\"}},\"name\":\"40824-1503\",\"offsetgroup\":\"40824-1503\",\"orientation\":\"h\",\"showlegend\":true,\"textposition\":\"auto\",\"x\":[60000.0,60000.0,60000.0,60000.0],\"xaxis\":\"x\",\"y\":[\"2023-01-01\",\"2023-02-28\",\"2023-03-07\",\"2023-04-15\"],\"yaxis\":\"y\",\"type\":\"bar\"},{\"alignmentgroup\":\"True\",\"base\":[\"2024-10-22T01:29:00\",\"2024-10-22T01:34:00\",\"2024-10-22T01:32:00\",\"2024-10-22T01:59:00\"],\"hovertemplate\":\"Task=1503-1503\\u003cbr\\u003eStart=%{base}\\u003cbr\\u003eFinish=%{x}\\u003cbr\\u003eKOZLEKEDESI_NAP_DT=%{y}\\u003cextra\\u003e\\u003c\\u002fextra\\u003e\",\"legendgroup\":\"1503-1503\",\"marker\":{\"color\":\"#ab63fa\",\"pattern\":{\"shape\":\"\"}},\"name\":\"1503-1503\",\"offsetgroup\":\"1503-1503\",\"orientation\":\"h\",\"showlegend\":true,\"textposition\":\"auto\",\"x\":[60000.0,60000.0,60000.0,60000.0],\"xaxis\":\"x\",\"y\":[\"2023-01-01\",\"2023-02-28\",\"2023-03-07\",\"2023-04-15\"],\"yaxis\":\"y\",\"type\":\"bar\"},{\"alignmentgroup\":\"True\",\"base\":[\"2024-10-22T01:30:00\",\"2024-10-22T01:35:00\",\"2024-10-22T01:33:00\",\"2024-10-22T02:00:00\"],\"hovertemplate\":\"Task=1503-1511\\u003cbr\\u003eStart=%{base}\\u003cbr\\u003eFinish=%{x}\\u003cbr\\u003eKOZLEKEDESI_NAP_DT=%{y}\\u003cextra\\u003e\\u003c\\u002fextra\\u003e\",\"legendgroup\":\"1503-1511\",\"marker\":{\"color\":\"#FFA15A\",\"pattern\":{\"shape\":\"\"}},\"name\":\"1503-1511\",\"offsetgroup\":\"1503-1511\",\"orientation\":\"h\",\"showlegend\":true,\"textposition\":\"auto\",\"x\":[300000.0,300000.0,300000.0,300000.0],\"xaxis\":\"x\",\"y\":[\"2023-01-01\",\"2023-02-28\",\"2023-03-07\",\"2023-04-15\"],\"yaxis\":\"y\",\"type\":\"bar\"},{\"alignmentgroup\":\"True\",\"base\":[\"2024-10-22T01:35:00\",\"2024-10-22T01:40:00\",\"2024-10-22T01:38:00\",\"2024-10-22T02:05:00\"],\"hovertemplate\":\"Task=1511-1511\\u003cbr\\u003eStart=%{base}\\u003cbr\\u003eFinish=%{x}\\u003cbr\\u003eKOZLEKEDESI_NAP_DT=%{y}\\u003cextra\\u003e\\u003c\\u002fextra\\u003e\",\"legendgroup\":\"1511-1511\",\"marker\":{\"color\":\"#19d3f3\",\"pattern\":{\"shape\":\"\"}},\"name\":\"1511-1511\",\"offsetgroup\":\"1511-1511\",\"orientation\":\"h\",\"showlegend\":true,\"textposition\":\"auto\",\"x\":[0.0,0.0,0.0,0.0],\"xaxis\":\"x\",\"y\":[\"2023-01-01\",\"2023-02-28\",\"2023-03-07\",\"2023-04-15\"],\"yaxis\":\"y\",\"type\":\"bar\"}],                        {\"template\":{\"data\":{\"histogram2dcontour\":[{\"type\":\"histogram2dcontour\",\"colorbar\":{\"outlinewidth\":0,\"ticks\":\"\"},\"colorscale\":[[0.0,\"#0d0887\"],[0.1111111111111111,\"#46039f\"],[0.2222222222222222,\"#7201a8\"],[0.3333333333333333,\"#9c179e\"],[0.4444444444444444,\"#bd3786\"],[0.5555555555555556,\"#d8576b\"],[0.6666666666666666,\"#ed7953\"],[0.7777777777777778,\"#fb9f3a\"],[0.8888888888888888,\"#fdca26\"],[1.0,\"#f0f921\"]]}],\"choropleth\":[{\"type\":\"choropleth\",\"colorbar\":{\"outlinewidth\":0,\"ticks\":\"\"}}],\"histogram2d\":[{\"type\":\"histogram2d\",\"colorbar\":{\"outlinewidth\":0,\"ticks\":\"\"},\"colorscale\":[[0.0,\"#0d0887\"],[0.1111111111111111,\"#46039f\"],[0.2222222222222222,\"#7201a8\"],[0.3333333333333333,\"#9c179e\"],[0.4444444444444444,\"#bd3786\"],[0.5555555555555556,\"#d8576b\"],[0.6666666666666666,\"#ed7953\"],[0.7777777777777778,\"#fb9f3a\"],[0.8888888888888888,\"#fdca26\"],[1.0,\"#f0f921\"]]}],\"heatmap\":[{\"type\":\"heatmap\",\"colorbar\":{\"outlinewidth\":0,\"ticks\":\"\"},\"colorscale\":[[0.0,\"#0d0887\"],[0.1111111111111111,\"#46039f\"],[0.2222222222222222,\"#7201a8\"],[0.3333333333333333,\"#9c179e\"],[0.4444444444444444,\"#bd3786\"],[0.5555555555555556,\"#d8576b\"],[0.6666666666666666,\"#ed7953\"],[0.7777777777777778,\"#fb9f3a\"],[0.8888888888888888,\"#fdca26\"],[1.0,\"#f0f921\"]]}],\"heatmapgl\":[{\"type\":\"heatmapgl\",\"colorbar\":{\"outlinewidth\":0,\"ticks\":\"\"},\"colorscale\":[[0.0,\"#0d0887\"],[0.1111111111111111,\"#46039f\"],[0.2222222222222222,\"#7201a8\"],[0.3333333333333333,\"#9c179e\"],[0.4444444444444444,\"#bd3786\"],[0.5555555555555556,\"#d8576b\"],[0.6666666666666666,\"#ed7953\"],[0.7777777777777778,\"#fb9f3a\"],[0.8888888888888888,\"#fdca26\"],[1.0,\"#f0f921\"]]}],\"contourcarpet\":[{\"type\":\"contourcarpet\",\"colorbar\":{\"outlinewidth\":0,\"ticks\":\"\"}}],\"contour\":[{\"type\":\"contour\",\"colorbar\":{\"outlinewidth\":0,\"ticks\":\"\"},\"colorscale\":[[0.0,\"#0d0887\"],[0.1111111111111111,\"#46039f\"],[0.2222222222222222,\"#7201a8\"],[0.3333333333333333,\"#9c179e\"],[0.4444444444444444,\"#bd3786\"],[0.5555555555555556,\"#d8576b\"],[0.6666666666666666,\"#ed7953\"],[0.7777777777777778,\"#fb9f3a\"],[0.8888888888888888,\"#fdca26\"],[1.0,\"#f0f921\"]]}],\"surface\":[{\"type\":\"surface\",\"colorbar\":{\"outlinewidth\":0,\"ticks\":\"\"},\"colorscale\":[[0.0,\"#0d0887\"],[0.1111111111111111,\"#46039f\"],[0.2222222222222222,\"#7201a8\"],[0.3333333333333333,\"#9c179e\"],[0.4444444444444444,\"#bd3786\"],[0.5555555555555556,\"#d8576b\"],[0.6666666666666666,\"#ed7953\"],[0.7777777777777778,\"#fb9f3a\"],[0.8888888888888888,\"#fdca26\"],[1.0,\"#f0f921\"]]}],\"mesh3d\":[{\"type\":\"mesh3d\",\"colorbar\":{\"outlinewidth\":0,\"ticks\":\"\"}}],\"scatter\":[{\"marker\":{\"line\":{\"color\":\"#283442\"}},\"type\":\"scatter\"}],\"parcoords\":[{\"type\":\"parcoords\",\"line\":{\"colorbar\":{\"outlinewidth\":0,\"ticks\":\"\"}}}],\"scatterpolargl\":[{\"type\":\"scatterpolargl\",\"marker\":{\"colorbar\":{\"outlinewidth\":0,\"ticks\":\"\"}}}],\"bar\":[{\"error_x\":{\"color\":\"#f2f5fa\"},\"error_y\":{\"color\":\"#f2f5fa\"},\"marker\":{\"line\":{\"color\":\"rgb(17,17,17)\",\"width\":0.5},\"pattern\":{\"fillmode\":\"overlay\",\"size\":10,\"solidity\":0.2}},\"type\":\"bar\"}],\"scattergeo\":[{\"type\":\"scattergeo\",\"marker\":{\"colorbar\":{\"outlinewidth\":0,\"ticks\":\"\"}}}],\"scatterpolar\":[{\"type\":\"scatterpolar\",\"marker\":{\"colorbar\":{\"outlinewidth\":0,\"ticks\":\"\"}}}],\"histogram\":[{\"marker\":{\"pattern\":{\"fillmode\":\"overlay\",\"size\":10,\"solidity\":0.2}},\"type\":\"histogram\"}],\"scattergl\":[{\"marker\":{\"line\":{\"color\":\"#283442\"}},\"type\":\"scattergl\"}],\"scatter3d\":[{\"type\":\"scatter3d\",\"line\":{\"colorbar\":{\"outlinewidth\":0,\"ticks\":\"\"}},\"marker\":{\"colorbar\":{\"outlinewidth\":0,\"ticks\":\"\"}}}],\"scattermapbox\":[{\"type\":\"scattermapbox\",\"marker\":{\"colorbar\":{\"outlinewidth\":0,\"ticks\":\"\"}}}],\"scatterternary\":[{\"type\":\"scatterternary\",\"marker\":{\"colorbar\":{\"outlinewidth\":0,\"ticks\":\"\"}}}],\"scattercarpet\":[{\"type\":\"scattercarpet\",\"marker\":{\"colorbar\":{\"outlinewidth\":0,\"ticks\":\"\"}}}],\"carpet\":[{\"aaxis\":{\"endlinecolor\":\"#A2B1C6\",\"gridcolor\":\"#506784\",\"linecolor\":\"#506784\",\"minorgridcolor\":\"#506784\",\"startlinecolor\":\"#A2B1C6\"},\"baxis\":{\"endlinecolor\":\"#A2B1C6\",\"gridcolor\":\"#506784\",\"linecolor\":\"#506784\",\"minorgridcolor\":\"#506784\",\"startlinecolor\":\"#A2B1C6\"},\"type\":\"carpet\"}],\"table\":[{\"cells\":{\"fill\":{\"color\":\"#506784\"},\"line\":{\"color\":\"rgb(17,17,17)\"}},\"header\":{\"fill\":{\"color\":\"#2a3f5f\"},\"line\":{\"color\":\"rgb(17,17,17)\"}},\"type\":\"table\"}],\"barpolar\":[{\"marker\":{\"line\":{\"color\":\"rgb(17,17,17)\",\"width\":0.5},\"pattern\":{\"fillmode\":\"overlay\",\"size\":10,\"solidity\":0.2}},\"type\":\"barpolar\"}],\"pie\":[{\"automargin\":true,\"type\":\"pie\"}]},\"layout\":{\"autotypenumbers\":\"strict\",\"colorway\":[\"#636efa\",\"#EF553B\",\"#00cc96\",\"#ab63fa\",\"#FFA15A\",\"#19d3f3\",\"#FF6692\",\"#B6E880\",\"#FF97FF\",\"#FECB52\"],\"font\":{\"color\":\"#f2f5fa\"},\"hovermode\":\"closest\",\"hoverlabel\":{\"align\":\"left\"},\"paper_bgcolor\":\"rgb(17,17,17)\",\"plot_bgcolor\":\"rgb(17,17,17)\",\"polar\":{\"bgcolor\":\"rgb(17,17,17)\",\"angularaxis\":{\"gridcolor\":\"#506784\",\"linecolor\":\"#506784\",\"ticks\":\"\"},\"radialaxis\":{\"gridcolor\":\"#506784\",\"linecolor\":\"#506784\",\"ticks\":\"\"}},\"ternary\":{\"bgcolor\":\"rgb(17,17,17)\",\"aaxis\":{\"gridcolor\":\"#506784\",\"linecolor\":\"#506784\",\"ticks\":\"\"},\"baxis\":{\"gridcolor\":\"#506784\",\"linecolor\":\"#506784\",\"ticks\":\"\"},\"caxis\":{\"gridcolor\":\"#506784\",\"linecolor\":\"#506784\",\"ticks\":\"\"}},\"coloraxis\":{\"colorbar\":{\"outlinewidth\":0,\"ticks\":\"\"}},\"colorscale\":{\"sequential\":[[0.0,\"#0d0887\"],[0.1111111111111111,\"#46039f\"],[0.2222222222222222,\"#7201a8\"],[0.3333333333333333,\"#9c179e\"],[0.4444444444444444,\"#bd3786\"],[0.5555555555555556,\"#d8576b\"],[0.6666666666666666,\"#ed7953\"],[0.7777777777777778,\"#fb9f3a\"],[0.8888888888888888,\"#fdca26\"],[1.0,\"#f0f921\"]],\"sequentialminus\":[[0.0,\"#0d0887\"],[0.1111111111111111,\"#46039f\"],[0.2222222222222222,\"#7201a8\"],[0.3333333333333333,\"#9c179e\"],[0.4444444444444444,\"#bd3786\"],[0.5555555555555556,\"#d8576b\"],[0.6666666666666666,\"#ed7953\"],[0.7777777777777778,\"#fb9f3a\"],[0.8888888888888888,\"#fdca26\"],[1.0,\"#f0f921\"]],\"diverging\":[[0,\"#8e0152\"],[0.1,\"#c51b7d\"],[0.2,\"#de77ae\"],[0.3,\"#f1b6da\"],[0.4,\"#fde0ef\"],[0.5,\"#f7f7f7\"],[0.6,\"#e6f5d0\"],[0.7,\"#b8e186\"],[0.8,\"#7fbc41\"],[0.9,\"#4d9221\"],[1,\"#276419\"]]},\"xaxis\":{\"gridcolor\":\"#283442\",\"linecolor\":\"#506784\",\"ticks\":\"\",\"title\":{\"standoff\":15},\"zerolinecolor\":\"#283442\",\"automargin\":true,\"zerolinewidth\":2},\"yaxis\":{\"gridcolor\":\"#283442\",\"linecolor\":\"#506784\",\"ticks\":\"\",\"title\":{\"standoff\":15},\"zerolinecolor\":\"#283442\",\"automargin\":true,\"zerolinewidth\":2},\"scene\":{\"xaxis\":{\"backgroundcolor\":\"rgb(17,17,17)\",\"gridcolor\":\"#506784\",\"linecolor\":\"#506784\",\"showbackground\":true,\"ticks\":\"\",\"zerolinecolor\":\"#C8D4E3\",\"gridwidth\":2},\"yaxis\":{\"backgroundcolor\":\"rgb(17,17,17)\",\"gridcolor\":\"#506784\",\"linecolor\":\"#506784\",\"showbackground\":true,\"ticks\":\"\",\"zerolinecolor\":\"#C8D4E3\",\"gridwidth\":2},\"zaxis\":{\"backgroundcolor\":\"rgb(17,17,17)\",\"gridcolor\":\"#506784\",\"linecolor\":\"#506784\",\"showbackground\":true,\"ticks\":\"\",\"zerolinecolor\":\"#C8D4E3\",\"gridwidth\":2}},\"shapedefaults\":{\"line\":{\"color\":\"#f2f5fa\"}},\"annotationdefaults\":{\"arrowcolor\":\"#f2f5fa\",\"arrowhead\":0,\"arrowwidth\":1},\"geo\":{\"bgcolor\":\"rgb(17,17,17)\",\"landcolor\":\"rgb(17,17,17)\",\"subunitcolor\":\"#506784\",\"showland\":true,\"showlakes\":true,\"lakecolor\":\"rgb(17,17,17)\"},\"title\":{\"x\":0.05},\"updatemenudefaults\":{\"bgcolor\":\"#506784\",\"borderwidth\":0},\"sliderdefaults\":{\"bgcolor\":\"#C8D4E3\",\"borderwidth\":1,\"bordercolor\":\"rgb(17,17,17)\",\"tickwidth\":0},\"mapbox\":{\"style\":\"dark\"}}},\"xaxis\":{\"anchor\":\"y\",\"domain\":[0.0,1.0],\"type\":\"date\"},\"yaxis\":{\"anchor\":\"x\",\"domain\":[0.0,1.0],\"title\":{\"text\":\"KOZLEKEDESI_NAP_DT\"},\"autorange\":\"reversed\",\"dtick\":1},\"legend\":{\"title\":{\"text\":\"Task\"},\"tracegroupgap\":0},\"margin\":{\"t\":60},\"barmode\":\"overlay\"},                        {\"responsive\": true}                    ).then(function(){\n",
       "                            \n",
       "var gd = document.getElementById('7462681a-a40c-4439-bf17-dcd525b84696');\n",
       "var x = new MutationObserver(function (mutations, observer) {{\n",
       "        var display = window.getComputedStyle(gd).display;\n",
       "        if (!display || display === 'none') {{\n",
       "            console.log([gd, 'removed!']);\n",
       "            Plotly.purge(gd);\n",
       "            observer.disconnect();\n",
       "        }}\n",
       "}});\n",
       "\n",
       "// Listen for the removal of the full notebook cells\n",
       "var notebookContainer = gd.closest('#notebook-container');\n",
       "if (notebookContainer) {{\n",
       "    x.observe(notebookContainer, {childList: true});\n",
       "}}\n",
       "\n",
       "// Listen for the clearing of the current output cell\n",
       "var outputEl = gd.closest('.output');\n",
       "if (outputEl) {{\n",
       "    x.observe(outputEl, {childList: true});\n",
       "}}\n",
       "\n",
       "                        })                };                });            </script>        </div>"
      ]
     },
     "metadata": {},
     "output_type": "display_data"
    }
   ],
   "execution_count": 53
  },
  {
   "metadata": {
    "ExecuteTime": {
     "end_time": "2024-10-21T17:54:51.389949Z",
     "start_time": "2024-10-21T17:54:51.372090Z"
    }
   },
   "cell_type": "code",
   "source": [
    "import datetime\n",
    "datetime.datetime(year=2023,month=1,day=1).date()\n",
    "def show_route(date, train_id):\n",
    "    prototype_day_2010 = events_2010.loc[events_2010['KOZLEKEDESI_NAP_DT']==datetime.datetime(year=2023,month=1,day=1).date()]\n",
    "\n",
    "    "
   ],
   "id": "c2428c2c1d162be2",
   "outputs": [
    {
     "data": {
      "text/plain": [
       "Index(['KOFE_IDO', 'KOFE_MODDAT'], dtype='object')"
      ]
     },
     "execution_count": 14,
     "metadata": {},
     "output_type": "execute_result"
    }
   ],
   "execution_count": 14
  },
  {
   "metadata": {},
   "cell_type": "code",
   "outputs": [],
   "execution_count": null,
   "source": [
    "import plotly.express as px\n",
    "\n",
    "def show_schedule_variants(variants, train_id):\n",
    "    "
   ],
   "id": "c7a4b7bfa5a2c41c"
  },
  {
   "metadata": {},
   "cell_type": "markdown",
   "source": [
    "### Data Preprocessing \n",
    "\n",
    "# Lassújel és vágányzár"
   ],
   "id": "fa074e14a58b5f4f"
  },
  {
   "metadata": {
    "ExecuteTime": {
     "end_time": "2024-11-02T19:01:27.962493Z",
     "start_time": "2024-11-02T19:01:27.333800Z"
    }
   },
   "cell_type": "code",
   "source": [
    "import pandas as pd\n",
    "\n",
    "slow_signal_tables = pd.read_excel('data/obstacles/lassújel_2_147_vonal_20220101-20231231_AI-hoz.xlsx',\n",
    "                                   sheet_name=['ZVZ_KEIHEAD', 'ZVZ_KIZARASOK', 'ZVZ_VZTHEAD'])\n",
    "closure_tables = pd.read_excel('data/obstacles/vágányzár_2_147_vonal_20220101-20231231_AI-hoz.xlsx    ',\n",
    "                               sheet_name=['ZVZ_KIZARASOK', 'ZVZ_VZTHEAD'])\n"
   ],
   "id": "858dc80c4afbb044",
   "outputs": [],
   "execution_count": 64
  },
  {
   "metadata": {
    "ExecuteTime": {
     "end_time": "2024-11-02T19:01:28.208968Z",
     "start_time": "2024-11-02T19:01:28.010543Z"
    }
   },
   "cell_type": "code",
   "source": [
    "ss_parts=slow_signal_tables['ZVZ_KIZARASOK'].copy()\n",
    "ss_parts.drop(axis=0,index=0,inplace=True)\n",
    "\n",
    "\n",
    "ss_parts['Kizárásszám']=ss_parts['Kizárásszám'].astype(str)\n",
    "\n",
    "\n",
    "to_drop=['Kizárás tétel','Kizárás típusa','Kezdő SZH statisztikai szám','Záró SZH statisztikai szám','Lassúmenet kezdő szelvény','Lassúmenet záró szelvény','Változó munkahelyen kitűzött','Lassúmenet mértéke tehervonatra (km/h)','Kis teljesítményű dízel kitoló','Dízel kitoló szükséges','Nagy teljesítményű dízel kitoló', 'Állomási bizt.ber. kikapcsolás szükséges','Vonali bizt. ber. kikapcsolás szükséges',\"INF vonal\",\"INF vonal.1\",\"HÜSZ vonal\",\"HÜSZ vonal.1\"]\n",
    "#todo később jól jöhetnek: \n",
    "# Lassúmenet kezdő szelvény, Lassúmenet záró szelvény,Lassúmenet mértéke tehervonatra (km/h),Kis teljesítményű dízel kitoló (csupa 0),Dízel kitoló szükséges (nincs ilyen),Nagy teljesítményű dízel kitoló (nincs ilyen),Állomási bizt.ber. kikapcsolás szükséges(nincs ilyen)\n",
    "# kérdéses: Változó munkahelyen kitűzött, Kizárás típusa (redundáns?)\n",
    "#todo kezdő, záró szolgálati hely mindig egy minimális szakasz?\n",
    "cols= ss_parts.columns\n",
    "for d in to_drop:\n",
    "    if d not in cols:\n",
    "        print('Missing:',d)\n",
    "    \n",
    "ss_parts.drop(columns=to_drop,inplace=True)\n",
    "\n",
    "#lassúmenet iránya egy adott sínpárra/vágányra vonatkozik, de sínpár is lehet\n",
    "# Vágányzár VZ írja le melyik vágányról beszélünk.\n",
    "\n",
    "# ha > akkor a jobb oldali lehet érdekesebb \n",
    "#ss_parts['S_ID']=ss_parts.apply(lambda x: transform_SZH_KOD(x['Kezdő szolgálati hely'],x['Záró szolgálati hely']) if \">\" in x[\"Lassúmenet iránya\"] else -1   ,axis=1)\n",
    "\n",
    "# ha  < akkor a bal \n",
    "#ss_parts['S_ID_R']=ss_parts.apply(lambda x: transform_SZH_KOD(x['Záró szolgálati hely'],x['Kezdő szolgálati hely']) if \"<\" in x[\"Lassúmenet iránya\"] else -1 ,axis=1)\n",
    "\n",
    "# kellene olyasmi hogy Irány szerinti oldal, és ellentétes oldal lezárva ehhez érdemes lehet kettészedni az irányokat..\n",
    "# todo: VZ van jobb/bal oldali közlekedés? most abból indulunk ki, hogy van valmilyen szinten azaz szakszmenti és ellentétes - J: I(rány) a nem fordítottnál, E(llentétes) a fordítottnál, B  E(llenttes) a nem fordítottnál és I a fordítottnál\n",
    "\n",
    "#todo VZ elméletben lehet A is, gyakorlatban csak 1 és 4 van\n",
    "ss_parts.loc[ss_parts['Záró szolgálati hely'].isna(),'Záró szolgálati hely']=ss_parts['Kezdő szolgálati hely']\n",
    "\n",
    "ss_parts_fw = ss_parts[ss_parts['Lassúmenet iránya'].str.contains(\">\")]\n",
    "ss_parts_bw = ss_parts[ss_parts['Lassúmenet iránya'].str.contains(\"<\")]\n",
    "\n",
    "def set_section_id(df):\n",
    "    df['Kezdő szolgálati hely']=df['Kezdő szolgálati hely'].str.replace('M-55','')\n",
    "    df['Záró szolgálati hely']=df['Záró szolgálati hely'].str.replace('M-55','')\n",
    "    \n",
    "    df['ID']=df['Kezdő szolgálati hely'].astype(str)+\"-\"+df['Záró szolgálati hely'].astype(str)\n",
    "\n",
    "def encode_directions(dff,dfb):\n",
    "    dff[\"I\"]=dff.apply(lambda x: 1 if x['Vágány (VZ)'] in [1,3,4]  else 0,axis=1)\n",
    "    dff[\"E\"]=dff.apply(lambda x: 1 if x['Vágány (VZ)'] in [2,3,4]  else 0,axis=1)\n",
    "    dff[\"ÁI\"]=dff.apply(lambda x: 1 if x['Átmenő vágány típusa'] in ['A','Á','J']  else 0,axis=1)\n",
    "    dff[\"ÁE\"]=dff.apply(lambda x: 1 if x['Átmenő vágány típusa'] in ['A','Á','B']  else 0,axis=1)\n",
    "    \n",
    "    dfb[\"I\"]=dfb.apply(lambda x: 1 if x['Vágány (VZ)'] in [2,3,4]  else 0,axis=1)\n",
    "    dfb[\"E\"]=dfb.apply(lambda x: 1 if x['Vágány (VZ)'] in [1,3,4]  else 0,axis=1)\n",
    "    dfb[\"ÁI\"]=dfb.apply(lambda x: 1 if x['Átmenő vágány típusa'] in ['A','Á','B']  else 0,axis=1)\n",
    "    dfb[\"ÁE\"]=dfb.apply(lambda x: 1 if x['Átmenő vágány típusa'] in ['A','Á','J']  else 0,axis=1)\n",
    "    dfb[['Kezdő szolgálati hely','Záró szolgálati hely']]=dfb[['Záró szolgálati hely','Kezdő szolgálati hely']]\n",
    "    return pd.concat([dff,dfb],axis=0)\n",
    "\n",
    "\n",
    "ss_parts=encode_directions(ss_parts_fw,ss_parts_bw)\n",
    "set_section_id(ss_parts)\n",
    "\n",
    "ss_parts = ss_parts.drop(columns=['Kezdő szolgálati hely','Záró szolgálati hely','Lassúmenet iránya','Vágány (VZ)','Átmenő vágány típusa']) \n",
    "\n",
    "ss_parts.head()"
   ],
   "id": "999451d4cd7c2408",
   "outputs": [
    {
     "data": {
      "text/plain": [
       "    Kizárásszám  Érintett objektum típusa Lassúmenet típusa  \\\n",
       "1  100000103765                         0                 I   \n",
       "2  100000104230                         0                 I   \n",
       "3  100000104231                         0                 I   \n",
       "4  100000104553                         0                 I   \n",
       "5  100000104555                         0                 I   \n",
       "\n",
       "   Lassúmenet hossza  Lassúmenet mértéke (km/h)  \\\n",
       "1                100                       80.0   \n",
       "2                100                       20.0   \n",
       "3                100                       20.0   \n",
       "4                300                       20.0   \n",
       "5                300                       20.0   \n",
       "\n",
       "   Lassúmenet mértéke motorvonatra (km/h) Fels.vez. kikapcsolása  I  E  ÁI  \\\n",
       "1                                     NaN                    NaN  1  1   0   \n",
       "2                                     NaN                    NaN  1  1   0   \n",
       "3                                     NaN                    NaN  1  1   0   \n",
       "4                                     NaN                    NaN  1  1   0   \n",
       "5                                     NaN                    NaN  1  1   0   \n",
       "\n",
       "   ÁE           ID  \n",
       "1   0  01503-01511  \n",
       "2   0  18184-17475  \n",
       "3   0  18184-17475  \n",
       "4   0  10207-40253  \n",
       "5   0  10207-40253  "
      ],
      "text/html": [
       "<div>\n",
       "<style scoped>\n",
       "    .dataframe tbody tr th:only-of-type {\n",
       "        vertical-align: middle;\n",
       "    }\n",
       "\n",
       "    .dataframe tbody tr th {\n",
       "        vertical-align: top;\n",
       "    }\n",
       "\n",
       "    .dataframe thead th {\n",
       "        text-align: right;\n",
       "    }\n",
       "</style>\n",
       "<table border=\"1\" class=\"dataframe\">\n",
       "  <thead>\n",
       "    <tr style=\"text-align: right;\">\n",
       "      <th></th>\n",
       "      <th>Kizárásszám</th>\n",
       "      <th>Érintett objektum típusa</th>\n",
       "      <th>Lassúmenet típusa</th>\n",
       "      <th>Lassúmenet hossza</th>\n",
       "      <th>Lassúmenet mértéke (km/h)</th>\n",
       "      <th>Lassúmenet mértéke motorvonatra (km/h)</th>\n",
       "      <th>Fels.vez. kikapcsolása</th>\n",
       "      <th>I</th>\n",
       "      <th>E</th>\n",
       "      <th>ÁI</th>\n",
       "      <th>ÁE</th>\n",
       "      <th>ID</th>\n",
       "    </tr>\n",
       "  </thead>\n",
       "  <tbody>\n",
       "    <tr>\n",
       "      <th>1</th>\n",
       "      <td>100000103765</td>\n",
       "      <td>0</td>\n",
       "      <td>I</td>\n",
       "      <td>100</td>\n",
       "      <td>80.0</td>\n",
       "      <td>NaN</td>\n",
       "      <td>NaN</td>\n",
       "      <td>1</td>\n",
       "      <td>1</td>\n",
       "      <td>0</td>\n",
       "      <td>0</td>\n",
       "      <td>01503-01511</td>\n",
       "    </tr>\n",
       "    <tr>\n",
       "      <th>2</th>\n",
       "      <td>100000104230</td>\n",
       "      <td>0</td>\n",
       "      <td>I</td>\n",
       "      <td>100</td>\n",
       "      <td>20.0</td>\n",
       "      <td>NaN</td>\n",
       "      <td>NaN</td>\n",
       "      <td>1</td>\n",
       "      <td>1</td>\n",
       "      <td>0</td>\n",
       "      <td>0</td>\n",
       "      <td>18184-17475</td>\n",
       "    </tr>\n",
       "    <tr>\n",
       "      <th>3</th>\n",
       "      <td>100000104231</td>\n",
       "      <td>0</td>\n",
       "      <td>I</td>\n",
       "      <td>100</td>\n",
       "      <td>20.0</td>\n",
       "      <td>NaN</td>\n",
       "      <td>NaN</td>\n",
       "      <td>1</td>\n",
       "      <td>1</td>\n",
       "      <td>0</td>\n",
       "      <td>0</td>\n",
       "      <td>18184-17475</td>\n",
       "    </tr>\n",
       "    <tr>\n",
       "      <th>4</th>\n",
       "      <td>100000104553</td>\n",
       "      <td>0</td>\n",
       "      <td>I</td>\n",
       "      <td>300</td>\n",
       "      <td>20.0</td>\n",
       "      <td>NaN</td>\n",
       "      <td>NaN</td>\n",
       "      <td>1</td>\n",
       "      <td>1</td>\n",
       "      <td>0</td>\n",
       "      <td>0</td>\n",
       "      <td>10207-40253</td>\n",
       "    </tr>\n",
       "    <tr>\n",
       "      <th>5</th>\n",
       "      <td>100000104555</td>\n",
       "      <td>0</td>\n",
       "      <td>I</td>\n",
       "      <td>300</td>\n",
       "      <td>20.0</td>\n",
       "      <td>NaN</td>\n",
       "      <td>NaN</td>\n",
       "      <td>1</td>\n",
       "      <td>1</td>\n",
       "      <td>0</td>\n",
       "      <td>0</td>\n",
       "      <td>10207-40253</td>\n",
       "    </tr>\n",
       "  </tbody>\n",
       "</table>\n",
       "</div>"
      ]
     },
     "execution_count": 65,
     "metadata": {},
     "output_type": "execute_result"
    }
   ],
   "execution_count": 65
  },
  {
   "metadata": {
    "ExecuteTime": {
     "end_time": "2024-11-02T19:01:28.284231Z",
     "start_time": "2024-11-02T19:01:28.270433Z"
    }
   },
   "cell_type": "code",
   "source": [
    "# csak lassújelnél\n",
    "# helyettesítsük 0-val VZ-nál?\n",
    "ss_parts['Lassúmenet mértéke motorvonatra (km/h)']=ss_parts['Lassúmenet mértéke motorvonatra (km/h)'].fillna(ss_parts['Lassúmenet mértéke (km/h)'])\n",
    "#todo pontosítás lassúmenet mekkora része az adott szakasznak? - A tervidő segíthet\n",
    "#todo milyen vonat?? motor? "
   ],
   "id": "b99a121dc0a031c2",
   "outputs": [],
   "execution_count": 66
  },
  {
   "metadata": {
    "ExecuteTime": {
     "end_time": "2024-11-02T19:01:29.277721Z",
     "start_time": "2024-11-02T19:01:29.267696Z"
    }
   },
   "cell_type": "code",
   "source": [
    "import numpy as np\n",
    "# igen/nem\n",
    "ss_parts['Fels.vez. kikapcsolása']=ss_parts['Fels.vez. kikapcsolása'].map({np.nan:0,'X':1})\n",
    "# ideiglenes az, ami hatással lehet a késésre, elvileg az állandónak már benne kellene lenni a menetrendben \n",
    "ss_parts['Lassúmenet típusa']=ss_parts['Lassúmenet típusa'].map({'Á':0,'I':1})\n",
    "#ss_parts=pd.get_dummies(ss_parts, columns=['Érintett objektum típusa'],dtype=int)\n"
   ],
   "id": "89926aa35739b8e5",
   "outputs": [],
   "execution_count": 67
  },
  {
   "metadata": {
    "ExecuteTime": {
     "end_time": "2024-11-02T19:01:30.171639Z",
     "start_time": "2024-11-02T19:01:30.112799Z"
    }
   },
   "cell_type": "code",
   "source": [
    "ss_status = slow_signal_tables['ZVZ_KEIHEAD'].copy()\n",
    "\n",
    "ss_status.drop(axis=0,index=0,inplace=True)\n",
    "ss_status['Vágányzár KEI ID']=ss_status['Vágányzár KEI ID'].astype(str).str.replace('.0','')\n",
    "#ss_status['Utolsó jóváhagyott kezdés dátuma']=pd.to_datetime( ss_status['Utolsó jóváhagyott kezdés dátuma'],format='%Y-%m-%d').dt.date    \n",
    "#ss_status['Utolsó jóváhagyott kezdés időpontja']=pd.to_datetime( ss_status['Utolsó jóváhagyott kezdés időpontja']).dt.time\n",
    "\n",
    "#excel típus információ lehet, alapból dátum datetime64[ns] lesz, így visszakovert után formátum változik\n",
    "ss_status['Kezdés']= pd.to_datetime(ss_status['Utolsó jóváhagyott kezdés dátuma'].astype(str)+' '+ss_status['Utolsó jóváhagyott kezdés időpontja'].astype(str),format='%Y-%m-%d %H:%M:%S')\n",
    "#ss_status['Utolsó jóváhagyott befejezés dátuma']=pd.to_datetime( ss_status['Utolsó jóváhagyott befejezés dátuma'],format='%Y-%m-%d').dt.date    \n",
    "#ss_status['Utolsó jóváhagyott befejezés időpontja']=pd.to_datetime( ss_status['Utolsó befejezés kezdés időpontja']).dt.time\n",
    "\n",
    "#\n",
    "ss_status['Befejezés']= pd.to_datetime(ss_status['Utolsó jóváhagyott befejezés dátuma'].astype(str)+' '+ss_status['Utolsó jóváhagyott befejezés időpontja'].astype(str),format='%Y-%m-%d %H:%M:%S',errors='coerce')\n",
    "\n",
    "\n",
    "'''\n",
    "ss_status['Tény-indítás (dátum)']=pd.to_datetime( ss_status['Tény-indítás (dátum)'],format='%Y-%m-%d').dt.date   \n",
    "ss_status['TényIndít.időpontja']=pd.to_datetime( ss_status['TényIndít.időpontja']).dt.time\n",
    "ss_status['Tény-befejez.(dátum)']=pd.to_datetime( ss_status['Tény-befejez.(dátum)'],format='%Y-%m-%d').dt.date   \n",
    "ss_status['Tény-befej.ideje']=pd.to_datetime( ss_status['Tény-befej.ideje']).dt.time\n",
    "'''\n",
    "\n",
    "to_drop_head=['Státusséma','Utolsó jóváhagyott kezdés dátuma','Utolsó jóváhagyott kezdés időpontja','Utolsó jóváhagyott befejezés dátuma','Utolsó jóváhagyott befejezés időpontja','Státusséma','Vágányzár Státus','Korlátozás típus']\n",
    "ss_status=ss_status.drop(columns=to_drop_head)\n"
   ],
   "id": "a59a289efde7f9f1",
   "outputs": [],
   "execution_count": 68
  },
  {
   "metadata": {
    "ExecuteTime": {
     "end_time": "2024-11-02T19:02:23.155362Z",
     "start_time": "2024-11-02T19:02:23.004125Z"
    }
   },
   "cell_type": "code",
   "source": "merged=ss_parts.merge(ss_status,how='left',left_on='Kizárásszám',right_on='Vágányzár KEI ID')\n",
   "id": "e656d0bac8cfdbb6",
   "outputs": [],
   "execution_count": 69
  },
  {
   "metadata": {
    "ExecuteTime": {
     "end_time": "2024-11-02T19:02:23.396906Z",
     "start_time": "2024-11-02T19:02:23.172420Z"
    }
   },
   "cell_type": "code",
   "source": [
    "c_head=closure_tables['ZVZ_VZTHEAD'].copy()\n",
    "# \"lemondott\" -  akkor ez nem történt meg?\n",
    "canceled=['KNJM','LEMD','LEMM','LEMO','KELU']\n",
    "# \"törölt\" ez mit jelent ? szintén nem történt meg?   \n",
    "deleted=['ELUT','VPEE','VTÖR','KELU']\n",
    "not_valid=canceled+deleted\n",
    "c_head['Státus'] = 1\n",
    "c_head.loc[c_head['Vágányzár Státus'].isin(not_valid), \"Státus\"] = 0\n",
    "\n",
    "c_head['Kiutalt menetvonalak zavartatása nélkül'] = c_head['Kiutalt menetvonalak zavartatása nélkül'].map(\n",
    "    {np.nan: 0, 'X': 1})\n",
    "c_head.drop(axis=0,index=0,inplace=True)\n",
    "c_head['Vágányzár VZT ID']=c_head['Vágányzár VZT ID'].astype(str).str.replace('.0','')\n",
    "#ss_status['Utolsó jóváhagyott kezdés dátuma']=pd.to_datetime( ss_status['Utolsó jóváhagyott kezdés dátuma'],format='%Y-%m-%d').dt.date    \n",
    "#ss_status['Utolsó jóváhagyott kezdés időpontja']=pd.to_datetime( ss_status['Utolsó jóváhagyott kezdés időpontja']).dt.time\n",
    "\n",
    "#excel típus információ lehet, alapból dátum datetime64[ns] lesz, így visszakovert után formátum változik\n",
    "c_head['Kezdés']= pd.to_datetime(c_head['Tény-indítás (dátum)'].astype(str)+' '+c_head['TényIndít.időpontja'].astype(str),format='%Y-%m-%d %H:%M:%S',errors='coerce')\n",
    "#ss_status['Utolsó jóváhagyott befejezés dátuma']=pd.to_datetime( ss_status['Utolsó jóváhagyott befejezés dátuma'],format='%Y-%m-%d').dt.date    \n",
    "#ss_status['Utolsó jóváhagyott befejezés időpontja']=pd.to_datetime( ss_status['Utolsó befejezés kezdés időpontja']).dt.time\n",
    "\n",
    "#\n",
    "c_head['Befejezés']= pd.to_datetime(c_head['Tény-befejez.(dátum)'].astype(str)+' '+c_head['Tény-befej.ideje'].astype(str),format='%Y-%m-%d %H:%M:%S',errors='coerce')\n",
    "#ementrend szempontjából nem érdekes\n",
    "to_drop_c_head=['Korlátozás típus','Korlátozottan.rend.álló kap.','Státusséma','Vágányzár Státus','Tény-indítás (dátum)','TényIndít.időpontja','Tény-befejez.(dátum)','Tény-befej.ideje','Utolsó jóváhagyott befejezés dátuma','Utolsó jóváhagyott befejezés időpontja','Utolsó jóváhagyott kezdés dátuma','Utolsó jóváhagyott kezdés időpontja','Vágányzár túllépve','Van vonatkésés','Pótolni kell']\n",
    "\n",
    "c_head.drop(columns=to_drop_c_head,inplace=True)"
   ],
   "id": "e4e5df7bf1fbcdb1",
   "outputs": [],
   "execution_count": 70
  },
  {
   "metadata": {
    "ExecuteTime": {
     "end_time": "2024-11-02T19:02:23.591032Z",
     "start_time": "2024-11-02T19:02:23.411456Z"
    }
   },
   "cell_type": "code",
   "source": [
    "c_parts = closure_tables['ZVZ_KIZARASOK'].copy()\n",
    "\n",
    "c_parts.loc[c_parts['Záró szolgálati hely'].isna(), 'Záró szolgálati hely'] = c_parts['Kezdő szolgálati hely']\n",
    "c_parts_bw=c_parts.copy()\n",
    "\n",
    "\n",
    "\n",
    "#TODO  Vágány (VZ) és 'Átmenő vágány típusa' ugyanannak néz ki mint lassújelnél, ugyanazt a logikát csináljuk itt is \n",
    "#itt vannak 1,2,3,4 értékek VZ-nél, elvileg lehet 'A' itt is \n",
    "\n",
    "c_parts=encode_directions(c_parts,c_parts_bw)\n",
    "set_section_id(c_parts)\n",
    "\n",
    "c_parts = c_parts.drop(columns=['Kezdő szolgálati hely','Záró szolgálati hely','Vágány (VZ)','Átmenő vágány típusa']) \n",
    "to_drop_gen=['Kizárás tétel','Kizárás típusa','Kezdő SZH statisztikai szám','Záró SZH statisztikai szám','Kis teljesítményű dízel kitoló','Dízel kitoló szükséges','Nagy teljesítményű dízel kitoló', 'Állomási bizt.ber. kikapcsolás szükséges','Vonali bizt. ber. kikapcsolás szükséges',\"INF vonal\",\"INF vonal.1\",\"HÜSZ vonal\",\"HÜSZ vonal.1\"]\n",
    "\n",
    "to_drop_ss=['Lassúmenet kezdő szelvény','Lassúmenet záró szelvény','Változó munkahelyen kitűzött','Lassúmenet mértéke tehervonatra (km/h)']\n",
    "c_parts['Fels.vez. kikapcsolása']=c_parts['Fels.vez. kikapcsolása'].map({np.nan:0,'X':1})\n",
    "\n",
    "c_parts.drop(columns=to_drop_gen,inplace=True)\n",
    "\n",
    "#TODO ezen azért lehet majd még gondolkodni...\n",
    "#c_parts['Lassúmenet mértéke (km/h)']=0.0\n",
    "#c_parts['Lassúmenet mértéke motorvonatra (km/h)']=0.0\n",
    "#TODO ez lehet gáz\n",
    "#c_parts['Lassúmenet hossza']=0\n",
    "#c_parts['Lassúmenet típusa']=1\n",
    "\n",
    "c_parts['Kizárásszám']=c_parts['Kizárásszám'].astype(str).str.replace('.0','')\n",
    "\n",
    "c_merged=c_parts.merge(c_head,how='left',left_on='Kizárásszám',right_on='Vágányzár VZT ID')\n",
    "\n"
   ],
   "id": "93c3f956e2626049",
   "outputs": [],
   "execution_count": 71
  },
  {
   "metadata": {
    "ExecuteTime": {
     "end_time": "2024-10-28T18:10:08.780403Z",
     "start_time": "2024-10-28T18:10:08.763313Z"
    }
   },
   "cell_type": "code",
   "source": "",
   "id": "393c925f4caf7823",
   "outputs": [
    {
     "data": {
      "text/plain": [
       "    Kizárásszám  Érintett objektum típusa  Lassúmenet típusa  \\\n",
       "0  100000103765                         0                1.0   \n",
       "1  100000104230                         0                1.0   \n",
       "2  100000104231                         0                1.0   \n",
       "3  100000104553                         0                1.0   \n",
       "4  100000104555                         0                1.0   \n",
       "\n",
       "   Lassúmenet hossza  Lassúmenet mértéke (km/h)  \\\n",
       "0              100.0                       80.0   \n",
       "1              100.0                       20.0   \n",
       "2              100.0                       20.0   \n",
       "3              300.0                       20.0   \n",
       "4              300.0                       20.0   \n",
       "\n",
       "   Lassúmenet mértéke motorvonatra (km/h)  Fels.vez. kikapcsolása  I  E  ÁI  \\\n",
       "0                                    80.0                       0  1  1   0   \n",
       "1                                    20.0                       0  1  1   0   \n",
       "2                                    20.0                       0  1  1   0   \n",
       "3                                    20.0                       0  1  1   0   \n",
       "4                                    20.0                       0  1  1   0   \n",
       "\n",
       "   ÁE           ID Vágányzár KEI ID              Kezdés           Befejezés  \\\n",
       "0   0  01503-01511     100000103765 2022-04-12 15:25:15 2022-10-13 10:00:00   \n",
       "1   0  18184-17475     100000104230 2022-04-25 04:30:00 2022-04-25 20:00:00   \n",
       "2   0  18184-17475     100000104231 2022-04-26 04:30:00 2022-04-26 14:00:00   \n",
       "3   0  10207-40253     100000104553 2022-05-02 08:00:00 2022-05-02 15:00:00   \n",
       "4   0  10207-40253     100000104555 2022-05-03 08:00:00 2022-05-03 15:00:00   \n",
       "\n",
       "  Vágányzár VZT ID  Kiutalt menetvonalak zavartatása nélkül  Státus  \n",
       "0              NaN                                      NaN     NaN  \n",
       "1              NaN                                      NaN     NaN  \n",
       "2              NaN                                      NaN     NaN  \n",
       "3              NaN                                      NaN     NaN  \n",
       "4              NaN                                      NaN     NaN  "
      ],
      "text/html": [
       "<div>\n",
       "<style scoped>\n",
       "    .dataframe tbody tr th:only-of-type {\n",
       "        vertical-align: middle;\n",
       "    }\n",
       "\n",
       "    .dataframe tbody tr th {\n",
       "        vertical-align: top;\n",
       "    }\n",
       "\n",
       "    .dataframe thead th {\n",
       "        text-align: right;\n",
       "    }\n",
       "</style>\n",
       "<table border=\"1\" class=\"dataframe\">\n",
       "  <thead>\n",
       "    <tr style=\"text-align: right;\">\n",
       "      <th></th>\n",
       "      <th>Kizárásszám</th>\n",
       "      <th>Érintett objektum típusa</th>\n",
       "      <th>Lassúmenet típusa</th>\n",
       "      <th>Lassúmenet hossza</th>\n",
       "      <th>Lassúmenet mértéke (km/h)</th>\n",
       "      <th>Lassúmenet mértéke motorvonatra (km/h)</th>\n",
       "      <th>Fels.vez. kikapcsolása</th>\n",
       "      <th>I</th>\n",
       "      <th>E</th>\n",
       "      <th>ÁI</th>\n",
       "      <th>ÁE</th>\n",
       "      <th>ID</th>\n",
       "      <th>Vágányzár KEI ID</th>\n",
       "      <th>Kezdés</th>\n",
       "      <th>Befejezés</th>\n",
       "      <th>Vágányzár VZT ID</th>\n",
       "      <th>Kiutalt menetvonalak zavartatása nélkül</th>\n",
       "      <th>Státus</th>\n",
       "    </tr>\n",
       "  </thead>\n",
       "  <tbody>\n",
       "    <tr>\n",
       "      <th>0</th>\n",
       "      <td>100000103765</td>\n",
       "      <td>0</td>\n",
       "      <td>1.0</td>\n",
       "      <td>100.0</td>\n",
       "      <td>80.0</td>\n",
       "      <td>80.0</td>\n",
       "      <td>0</td>\n",
       "      <td>1</td>\n",
       "      <td>1</td>\n",
       "      <td>0</td>\n",
       "      <td>0</td>\n",
       "      <td>01503-01511</td>\n",
       "      <td>100000103765</td>\n",
       "      <td>2022-04-12 15:25:15</td>\n",
       "      <td>2022-10-13 10:00:00</td>\n",
       "      <td>NaN</td>\n",
       "      <td>NaN</td>\n",
       "      <td>NaN</td>\n",
       "    </tr>\n",
       "    <tr>\n",
       "      <th>1</th>\n",
       "      <td>100000104230</td>\n",
       "      <td>0</td>\n",
       "      <td>1.0</td>\n",
       "      <td>100.0</td>\n",
       "      <td>20.0</td>\n",
       "      <td>20.0</td>\n",
       "      <td>0</td>\n",
       "      <td>1</td>\n",
       "      <td>1</td>\n",
       "      <td>0</td>\n",
       "      <td>0</td>\n",
       "      <td>18184-17475</td>\n",
       "      <td>100000104230</td>\n",
       "      <td>2022-04-25 04:30:00</td>\n",
       "      <td>2022-04-25 20:00:00</td>\n",
       "      <td>NaN</td>\n",
       "      <td>NaN</td>\n",
       "      <td>NaN</td>\n",
       "    </tr>\n",
       "    <tr>\n",
       "      <th>2</th>\n",
       "      <td>100000104231</td>\n",
       "      <td>0</td>\n",
       "      <td>1.0</td>\n",
       "      <td>100.0</td>\n",
       "      <td>20.0</td>\n",
       "      <td>20.0</td>\n",
       "      <td>0</td>\n",
       "      <td>1</td>\n",
       "      <td>1</td>\n",
       "      <td>0</td>\n",
       "      <td>0</td>\n",
       "      <td>18184-17475</td>\n",
       "      <td>100000104231</td>\n",
       "      <td>2022-04-26 04:30:00</td>\n",
       "      <td>2022-04-26 14:00:00</td>\n",
       "      <td>NaN</td>\n",
       "      <td>NaN</td>\n",
       "      <td>NaN</td>\n",
       "    </tr>\n",
       "    <tr>\n",
       "      <th>3</th>\n",
       "      <td>100000104553</td>\n",
       "      <td>0</td>\n",
       "      <td>1.0</td>\n",
       "      <td>300.0</td>\n",
       "      <td>20.0</td>\n",
       "      <td>20.0</td>\n",
       "      <td>0</td>\n",
       "      <td>1</td>\n",
       "      <td>1</td>\n",
       "      <td>0</td>\n",
       "      <td>0</td>\n",
       "      <td>10207-40253</td>\n",
       "      <td>100000104553</td>\n",
       "      <td>2022-05-02 08:00:00</td>\n",
       "      <td>2022-05-02 15:00:00</td>\n",
       "      <td>NaN</td>\n",
       "      <td>NaN</td>\n",
       "      <td>NaN</td>\n",
       "    </tr>\n",
       "    <tr>\n",
       "      <th>4</th>\n",
       "      <td>100000104555</td>\n",
       "      <td>0</td>\n",
       "      <td>1.0</td>\n",
       "      <td>300.0</td>\n",
       "      <td>20.0</td>\n",
       "      <td>20.0</td>\n",
       "      <td>0</td>\n",
       "      <td>1</td>\n",
       "      <td>1</td>\n",
       "      <td>0</td>\n",
       "      <td>0</td>\n",
       "      <td>10207-40253</td>\n",
       "      <td>100000104555</td>\n",
       "      <td>2022-05-03 08:00:00</td>\n",
       "      <td>2022-05-03 15:00:00</td>\n",
       "      <td>NaN</td>\n",
       "      <td>NaN</td>\n",
       "      <td>NaN</td>\n",
       "    </tr>\n",
       "  </tbody>\n",
       "</table>\n",
       "</div>"
      ]
     },
     "execution_count": 10,
     "metadata": {},
     "output_type": "execute_result"
    }
   ],
   "execution_count": 10
  },
  {
   "metadata": {
    "ExecuteTime": {
     "end_time": "2024-11-02T19:02:23.617296Z",
     "start_time": "2024-11-02T19:02:23.599389Z"
    }
   },
   "cell_type": "code",
   "source": [
    "merged['Kizárás (1=VZ,2=LJ)']=2\n",
    "c_merged['Kizárás (1=VZ,2=LJ)']=1"
   ],
   "id": "75c42d3374933b84",
   "outputs": [],
   "execution_count": 72
  },
  {
   "metadata": {
    "ExecuteTime": {
     "end_time": "2024-11-02T19:02:45.557769Z",
     "start_time": "2024-11-02T19:02:45.500053Z"
    }
   },
   "cell_type": "code",
   "source": [
    "line_status=pd.concat([merged,c_merged])\n",
    "line_status.head()"
   ],
   "id": "84c55306ab4655a0",
   "outputs": [
    {
     "data": {
      "text/plain": [
       "    Kizárásszám  Érintett objektum típusa  Lassúmenet típusa  \\\n",
       "0  100000103765                         0                1.0   \n",
       "1  100000104230                         0                1.0   \n",
       "2  100000104231                         0                1.0   \n",
       "3  100000104553                         0                1.0   \n",
       "4  100000104555                         0                1.0   \n",
       "\n",
       "   Lassúmenet hossza  Lassúmenet mértéke (km/h)  \\\n",
       "0              100.0                       80.0   \n",
       "1              100.0                       20.0   \n",
       "2              100.0                       20.0   \n",
       "3              300.0                       20.0   \n",
       "4              300.0                       20.0   \n",
       "\n",
       "   Lassúmenet mértéke motorvonatra (km/h)  Fels.vez. kikapcsolása  I  E  ÁI  \\\n",
       "0                                    80.0                       0  1  1   0   \n",
       "1                                    20.0                       0  1  1   0   \n",
       "2                                    20.0                       0  1  1   0   \n",
       "3                                    20.0                       0  1  1   0   \n",
       "4                                    20.0                       0  1  1   0   \n",
       "\n",
       "   ÁE           ID Vágányzár KEI ID              Kezdés           Befejezés  \\\n",
       "0   0  01503-01511     100000103765 2022-04-12 15:25:15 2022-10-13 10:00:00   \n",
       "1   0  18184-17475     100000104230 2022-04-25 04:30:00 2022-04-25 20:00:00   \n",
       "2   0  18184-17475     100000104231 2022-04-26 04:30:00 2022-04-26 14:00:00   \n",
       "3   0  10207-40253     100000104553 2022-05-02 08:00:00 2022-05-02 15:00:00   \n",
       "4   0  10207-40253     100000104555 2022-05-03 08:00:00 2022-05-03 15:00:00   \n",
       "\n",
       "   Kizárás (1=VZ,2=LJ) Vágányzár VZT ID  \\\n",
       "0                    2              NaN   \n",
       "1                    2              NaN   \n",
       "2                    2              NaN   \n",
       "3                    2              NaN   \n",
       "4                    2              NaN   \n",
       "\n",
       "   Kiutalt menetvonalak zavartatása nélkül  Státus  \n",
       "0                                      NaN     NaN  \n",
       "1                                      NaN     NaN  \n",
       "2                                      NaN     NaN  \n",
       "3                                      NaN     NaN  \n",
       "4                                      NaN     NaN  "
      ],
      "text/html": [
       "<div>\n",
       "<style scoped>\n",
       "    .dataframe tbody tr th:only-of-type {\n",
       "        vertical-align: middle;\n",
       "    }\n",
       "\n",
       "    .dataframe tbody tr th {\n",
       "        vertical-align: top;\n",
       "    }\n",
       "\n",
       "    .dataframe thead th {\n",
       "        text-align: right;\n",
       "    }\n",
       "</style>\n",
       "<table border=\"1\" class=\"dataframe\">\n",
       "  <thead>\n",
       "    <tr style=\"text-align: right;\">\n",
       "      <th></th>\n",
       "      <th>Kizárásszám</th>\n",
       "      <th>Érintett objektum típusa</th>\n",
       "      <th>Lassúmenet típusa</th>\n",
       "      <th>Lassúmenet hossza</th>\n",
       "      <th>Lassúmenet mértéke (km/h)</th>\n",
       "      <th>Lassúmenet mértéke motorvonatra (km/h)</th>\n",
       "      <th>Fels.vez. kikapcsolása</th>\n",
       "      <th>I</th>\n",
       "      <th>E</th>\n",
       "      <th>ÁI</th>\n",
       "      <th>ÁE</th>\n",
       "      <th>ID</th>\n",
       "      <th>Vágányzár KEI ID</th>\n",
       "      <th>Kezdés</th>\n",
       "      <th>Befejezés</th>\n",
       "      <th>Kizárás (1=VZ,2=LJ)</th>\n",
       "      <th>Vágányzár VZT ID</th>\n",
       "      <th>Kiutalt menetvonalak zavartatása nélkül</th>\n",
       "      <th>Státus</th>\n",
       "    </tr>\n",
       "  </thead>\n",
       "  <tbody>\n",
       "    <tr>\n",
       "      <th>0</th>\n",
       "      <td>100000103765</td>\n",
       "      <td>0</td>\n",
       "      <td>1.0</td>\n",
       "      <td>100.0</td>\n",
       "      <td>80.0</td>\n",
       "      <td>80.0</td>\n",
       "      <td>0</td>\n",
       "      <td>1</td>\n",
       "      <td>1</td>\n",
       "      <td>0</td>\n",
       "      <td>0</td>\n",
       "      <td>01503-01511</td>\n",
       "      <td>100000103765</td>\n",
       "      <td>2022-04-12 15:25:15</td>\n",
       "      <td>2022-10-13 10:00:00</td>\n",
       "      <td>2</td>\n",
       "      <td>NaN</td>\n",
       "      <td>NaN</td>\n",
       "      <td>NaN</td>\n",
       "    </tr>\n",
       "    <tr>\n",
       "      <th>1</th>\n",
       "      <td>100000104230</td>\n",
       "      <td>0</td>\n",
       "      <td>1.0</td>\n",
       "      <td>100.0</td>\n",
       "      <td>20.0</td>\n",
       "      <td>20.0</td>\n",
       "      <td>0</td>\n",
       "      <td>1</td>\n",
       "      <td>1</td>\n",
       "      <td>0</td>\n",
       "      <td>0</td>\n",
       "      <td>18184-17475</td>\n",
       "      <td>100000104230</td>\n",
       "      <td>2022-04-25 04:30:00</td>\n",
       "      <td>2022-04-25 20:00:00</td>\n",
       "      <td>2</td>\n",
       "      <td>NaN</td>\n",
       "      <td>NaN</td>\n",
       "      <td>NaN</td>\n",
       "    </tr>\n",
       "    <tr>\n",
       "      <th>2</th>\n",
       "      <td>100000104231</td>\n",
       "      <td>0</td>\n",
       "      <td>1.0</td>\n",
       "      <td>100.0</td>\n",
       "      <td>20.0</td>\n",
       "      <td>20.0</td>\n",
       "      <td>0</td>\n",
       "      <td>1</td>\n",
       "      <td>1</td>\n",
       "      <td>0</td>\n",
       "      <td>0</td>\n",
       "      <td>18184-17475</td>\n",
       "      <td>100000104231</td>\n",
       "      <td>2022-04-26 04:30:00</td>\n",
       "      <td>2022-04-26 14:00:00</td>\n",
       "      <td>2</td>\n",
       "      <td>NaN</td>\n",
       "      <td>NaN</td>\n",
       "      <td>NaN</td>\n",
       "    </tr>\n",
       "    <tr>\n",
       "      <th>3</th>\n",
       "      <td>100000104553</td>\n",
       "      <td>0</td>\n",
       "      <td>1.0</td>\n",
       "      <td>300.0</td>\n",
       "      <td>20.0</td>\n",
       "      <td>20.0</td>\n",
       "      <td>0</td>\n",
       "      <td>1</td>\n",
       "      <td>1</td>\n",
       "      <td>0</td>\n",
       "      <td>0</td>\n",
       "      <td>10207-40253</td>\n",
       "      <td>100000104553</td>\n",
       "      <td>2022-05-02 08:00:00</td>\n",
       "      <td>2022-05-02 15:00:00</td>\n",
       "      <td>2</td>\n",
       "      <td>NaN</td>\n",
       "      <td>NaN</td>\n",
       "      <td>NaN</td>\n",
       "    </tr>\n",
       "    <tr>\n",
       "      <th>4</th>\n",
       "      <td>100000104555</td>\n",
       "      <td>0</td>\n",
       "      <td>1.0</td>\n",
       "      <td>300.0</td>\n",
       "      <td>20.0</td>\n",
       "      <td>20.0</td>\n",
       "      <td>0</td>\n",
       "      <td>1</td>\n",
       "      <td>1</td>\n",
       "      <td>0</td>\n",
       "      <td>0</td>\n",
       "      <td>10207-40253</td>\n",
       "      <td>100000104555</td>\n",
       "      <td>2022-05-03 08:00:00</td>\n",
       "      <td>2022-05-03 15:00:00</td>\n",
       "      <td>2</td>\n",
       "      <td>NaN</td>\n",
       "      <td>NaN</td>\n",
       "      <td>NaN</td>\n",
       "    </tr>\n",
       "  </tbody>\n",
       "</table>\n",
       "</div>"
      ]
     },
     "execution_count": 73,
     "metadata": {},
     "output_type": "execute_result"
    }
   ],
   "execution_count": 73
  },
  {
   "metadata": {
    "ExecuteTime": {
     "end_time": "2024-11-02T19:03:10.404176Z",
     "start_time": "2024-11-02T19:03:10.355313Z"
    }
   },
   "cell_type": "code",
   "source": [
    "final_drop=['Vágányzár KEI ID','Vágányzár VZT ID']\n",
    "line_status.drop(columns=final_drop,inplace=True)"
   ],
   "id": "bf2b62ec9d5ffff8",
   "outputs": [],
   "execution_count": 74
  },
  {
   "metadata": {
    "ExecuteTime": {
     "end_time": "2024-11-02T19:03:10.443892Z",
     "start_time": "2024-11-02T19:03:10.407710Z"
    }
   },
   "cell_type": "code",
   "source": "line_status.fillna(0.0,inplace=True)\n",
   "id": "17a805c634eddd07",
   "outputs": [
    {
     "name": "stderr",
     "output_type": "stream",
     "text": [
      "C:\\Users\\ELTE\\AppData\\Local\\Temp\\ipykernel_25188\\263976322.py:1: FutureWarning: Setting an item of incompatible dtype is deprecated and will raise an error in a future version of pandas. Value '0.0' has dtype incompatible with datetime64[ns], please explicitly cast to a compatible dtype first.\n",
      "  line_status.fillna(0.0,inplace=True)\n"
     ]
    }
   ],
   "execution_count": 75
  },
  {
   "metadata": {
    "ExecuteTime": {
     "end_time": "2024-11-02T19:03:10.476957Z",
     "start_time": "2024-11-02T19:03:10.447478Z"
    }
   },
   "cell_type": "code",
   "source": "line_status.head()",
   "id": "b3fe9b0c9009a6ef",
   "outputs": [
    {
     "data": {
      "text/plain": [
       "    Kizárásszám  Érintett objektum típusa  Lassúmenet típusa  \\\n",
       "0  100000103765                         0                1.0   \n",
       "1  100000104230                         0                1.0   \n",
       "2  100000104231                         0                1.0   \n",
       "3  100000104553                         0                1.0   \n",
       "4  100000104555                         0                1.0   \n",
       "\n",
       "   Lassúmenet hossza  Lassúmenet mértéke (km/h)  \\\n",
       "0              100.0                       80.0   \n",
       "1              100.0                       20.0   \n",
       "2              100.0                       20.0   \n",
       "3              300.0                       20.0   \n",
       "4              300.0                       20.0   \n",
       "\n",
       "   Lassúmenet mértéke motorvonatra (km/h)  Fels.vez. kikapcsolása  I  E  ÁI  \\\n",
       "0                                    80.0                       0  1  1   0   \n",
       "1                                    20.0                       0  1  1   0   \n",
       "2                                    20.0                       0  1  1   0   \n",
       "3                                    20.0                       0  1  1   0   \n",
       "4                                    20.0                       0  1  1   0   \n",
       "\n",
       "   ÁE           ID               Kezdés            Befejezés  \\\n",
       "0   0  01503-01511  2022-04-12 15:25:15  2022-10-13 10:00:00   \n",
       "1   0  18184-17475  2022-04-25 04:30:00  2022-04-25 20:00:00   \n",
       "2   0  18184-17475  2022-04-26 04:30:00  2022-04-26 14:00:00   \n",
       "3   0  10207-40253  2022-05-02 08:00:00  2022-05-02 15:00:00   \n",
       "4   0  10207-40253  2022-05-03 08:00:00  2022-05-03 15:00:00   \n",
       "\n",
       "   Kizárás (1=VZ,2=LJ)  Kiutalt menetvonalak zavartatása nélkül  Státus  \n",
       "0                    2                                      0.0     0.0  \n",
       "1                    2                                      0.0     0.0  \n",
       "2                    2                                      0.0     0.0  \n",
       "3                    2                                      0.0     0.0  \n",
       "4                    2                                      0.0     0.0  "
      ],
      "text/html": [
       "<div>\n",
       "<style scoped>\n",
       "    .dataframe tbody tr th:only-of-type {\n",
       "        vertical-align: middle;\n",
       "    }\n",
       "\n",
       "    .dataframe tbody tr th {\n",
       "        vertical-align: top;\n",
       "    }\n",
       "\n",
       "    .dataframe thead th {\n",
       "        text-align: right;\n",
       "    }\n",
       "</style>\n",
       "<table border=\"1\" class=\"dataframe\">\n",
       "  <thead>\n",
       "    <tr style=\"text-align: right;\">\n",
       "      <th></th>\n",
       "      <th>Kizárásszám</th>\n",
       "      <th>Érintett objektum típusa</th>\n",
       "      <th>Lassúmenet típusa</th>\n",
       "      <th>Lassúmenet hossza</th>\n",
       "      <th>Lassúmenet mértéke (km/h)</th>\n",
       "      <th>Lassúmenet mértéke motorvonatra (km/h)</th>\n",
       "      <th>Fels.vez. kikapcsolása</th>\n",
       "      <th>I</th>\n",
       "      <th>E</th>\n",
       "      <th>ÁI</th>\n",
       "      <th>ÁE</th>\n",
       "      <th>ID</th>\n",
       "      <th>Kezdés</th>\n",
       "      <th>Befejezés</th>\n",
       "      <th>Kizárás (1=VZ,2=LJ)</th>\n",
       "      <th>Kiutalt menetvonalak zavartatása nélkül</th>\n",
       "      <th>Státus</th>\n",
       "    </tr>\n",
       "  </thead>\n",
       "  <tbody>\n",
       "    <tr>\n",
       "      <th>0</th>\n",
       "      <td>100000103765</td>\n",
       "      <td>0</td>\n",
       "      <td>1.0</td>\n",
       "      <td>100.0</td>\n",
       "      <td>80.0</td>\n",
       "      <td>80.0</td>\n",
       "      <td>0</td>\n",
       "      <td>1</td>\n",
       "      <td>1</td>\n",
       "      <td>0</td>\n",
       "      <td>0</td>\n",
       "      <td>01503-01511</td>\n",
       "      <td>2022-04-12 15:25:15</td>\n",
       "      <td>2022-10-13 10:00:00</td>\n",
       "      <td>2</td>\n",
       "      <td>0.0</td>\n",
       "      <td>0.0</td>\n",
       "    </tr>\n",
       "    <tr>\n",
       "      <th>1</th>\n",
       "      <td>100000104230</td>\n",
       "      <td>0</td>\n",
       "      <td>1.0</td>\n",
       "      <td>100.0</td>\n",
       "      <td>20.0</td>\n",
       "      <td>20.0</td>\n",
       "      <td>0</td>\n",
       "      <td>1</td>\n",
       "      <td>1</td>\n",
       "      <td>0</td>\n",
       "      <td>0</td>\n",
       "      <td>18184-17475</td>\n",
       "      <td>2022-04-25 04:30:00</td>\n",
       "      <td>2022-04-25 20:00:00</td>\n",
       "      <td>2</td>\n",
       "      <td>0.0</td>\n",
       "      <td>0.0</td>\n",
       "    </tr>\n",
       "    <tr>\n",
       "      <th>2</th>\n",
       "      <td>100000104231</td>\n",
       "      <td>0</td>\n",
       "      <td>1.0</td>\n",
       "      <td>100.0</td>\n",
       "      <td>20.0</td>\n",
       "      <td>20.0</td>\n",
       "      <td>0</td>\n",
       "      <td>1</td>\n",
       "      <td>1</td>\n",
       "      <td>0</td>\n",
       "      <td>0</td>\n",
       "      <td>18184-17475</td>\n",
       "      <td>2022-04-26 04:30:00</td>\n",
       "      <td>2022-04-26 14:00:00</td>\n",
       "      <td>2</td>\n",
       "      <td>0.0</td>\n",
       "      <td>0.0</td>\n",
       "    </tr>\n",
       "    <tr>\n",
       "      <th>3</th>\n",
       "      <td>100000104553</td>\n",
       "      <td>0</td>\n",
       "      <td>1.0</td>\n",
       "      <td>300.0</td>\n",
       "      <td>20.0</td>\n",
       "      <td>20.0</td>\n",
       "      <td>0</td>\n",
       "      <td>1</td>\n",
       "      <td>1</td>\n",
       "      <td>0</td>\n",
       "      <td>0</td>\n",
       "      <td>10207-40253</td>\n",
       "      <td>2022-05-02 08:00:00</td>\n",
       "      <td>2022-05-02 15:00:00</td>\n",
       "      <td>2</td>\n",
       "      <td>0.0</td>\n",
       "      <td>0.0</td>\n",
       "    </tr>\n",
       "    <tr>\n",
       "      <th>4</th>\n",
       "      <td>100000104555</td>\n",
       "      <td>0</td>\n",
       "      <td>1.0</td>\n",
       "      <td>300.0</td>\n",
       "      <td>20.0</td>\n",
       "      <td>20.0</td>\n",
       "      <td>0</td>\n",
       "      <td>1</td>\n",
       "      <td>1</td>\n",
       "      <td>0</td>\n",
       "      <td>0</td>\n",
       "      <td>10207-40253</td>\n",
       "      <td>2022-05-03 08:00:00</td>\n",
       "      <td>2022-05-03 15:00:00</td>\n",
       "      <td>2</td>\n",
       "      <td>0.0</td>\n",
       "      <td>0.0</td>\n",
       "    </tr>\n",
       "  </tbody>\n",
       "</table>\n",
       "</div>"
      ]
     },
     "execution_count": 76,
     "metadata": {},
     "output_type": "execute_result"
    }
   ],
   "execution_count": 76
  },
  {
   "metadata": {
    "ExecuteTime": {
     "end_time": "2024-10-31T07:59:16.296057Z",
     "start_time": "2024-10-31T07:59:16.236816Z"
    }
   },
   "cell_type": "code",
   "source": [
    "fn='data/line_status.csv'\n",
    "line_status.to_pickle(fn)\n",
    "\n",
    "# load\n",
    "df = pd.read_pickle(fn)"
   ],
   "id": "f19b7da70c400934",
   "outputs": [],
   "execution_count": 52
  },
  {
   "metadata": {
    "ExecuteTime": {
     "end_time": "2024-10-31T07:59:16.774131Z",
     "start_time": "2024-10-31T07:59:16.754991Z"
    }
   },
   "cell_type": "code",
   "source": "df.head()",
   "id": "847ec6a56fb1c8bf",
   "outputs": [
    {
     "data": {
      "text/plain": [
       "   Érintett objektum típusa  Lassúmenet típusa  Lassúmenet hossza  \\\n",
       "0                         0                1.0              100.0   \n",
       "1                         0                1.0              100.0   \n",
       "2                         0                1.0              100.0   \n",
       "3                         0                1.0              300.0   \n",
       "4                         0                1.0              300.0   \n",
       "\n",
       "   Lassúmenet mértéke (km/h)  Lassúmenet mértéke motorvonatra (km/h)  \\\n",
       "0                       80.0                                    80.0   \n",
       "1                       20.0                                    20.0   \n",
       "2                       20.0                                    20.0   \n",
       "3                       20.0                                    20.0   \n",
       "4                       20.0                                    20.0   \n",
       "\n",
       "   Fels.vez. kikapcsolása  I  E  ÁI  ÁE           ID               Kezdés  \\\n",
       "0                       0  1  1   0   0  01503-01511  2022-04-12 15:25:15   \n",
       "1                       0  1  1   0   0  18184-17475  2022-04-25 04:30:00   \n",
       "2                       0  1  1   0   0  18184-17475  2022-04-26 04:30:00   \n",
       "3                       0  1  1   0   0  10207-40253  2022-05-02 08:00:00   \n",
       "4                       0  1  1   0   0  10207-40253  2022-05-03 08:00:00   \n",
       "\n",
       "             Befejezés  Kizárás (1=VZ,2=LJ)  \\\n",
       "0  2022-10-13 10:00:00                    2   \n",
       "1  2022-04-25 20:00:00                    2   \n",
       "2  2022-04-26 14:00:00                    2   \n",
       "3  2022-05-02 15:00:00                    2   \n",
       "4  2022-05-03 15:00:00                    2   \n",
       "\n",
       "   Kiutalt menetvonalak zavartatása nélkül  Státus  \n",
       "0                                      0.0     0.0  \n",
       "1                                      0.0     0.0  \n",
       "2                                      0.0     0.0  \n",
       "3                                      0.0     0.0  \n",
       "4                                      0.0     0.0  "
      ],
      "text/html": [
       "<div>\n",
       "<style scoped>\n",
       "    .dataframe tbody tr th:only-of-type {\n",
       "        vertical-align: middle;\n",
       "    }\n",
       "\n",
       "    .dataframe tbody tr th {\n",
       "        vertical-align: top;\n",
       "    }\n",
       "\n",
       "    .dataframe thead th {\n",
       "        text-align: right;\n",
       "    }\n",
       "</style>\n",
       "<table border=\"1\" class=\"dataframe\">\n",
       "  <thead>\n",
       "    <tr style=\"text-align: right;\">\n",
       "      <th></th>\n",
       "      <th>Érintett objektum típusa</th>\n",
       "      <th>Lassúmenet típusa</th>\n",
       "      <th>Lassúmenet hossza</th>\n",
       "      <th>Lassúmenet mértéke (km/h)</th>\n",
       "      <th>Lassúmenet mértéke motorvonatra (km/h)</th>\n",
       "      <th>Fels.vez. kikapcsolása</th>\n",
       "      <th>I</th>\n",
       "      <th>E</th>\n",
       "      <th>ÁI</th>\n",
       "      <th>ÁE</th>\n",
       "      <th>ID</th>\n",
       "      <th>Kezdés</th>\n",
       "      <th>Befejezés</th>\n",
       "      <th>Kizárás (1=VZ,2=LJ)</th>\n",
       "      <th>Kiutalt menetvonalak zavartatása nélkül</th>\n",
       "      <th>Státus</th>\n",
       "    </tr>\n",
       "  </thead>\n",
       "  <tbody>\n",
       "    <tr>\n",
       "      <th>0</th>\n",
       "      <td>0</td>\n",
       "      <td>1.0</td>\n",
       "      <td>100.0</td>\n",
       "      <td>80.0</td>\n",
       "      <td>80.0</td>\n",
       "      <td>0</td>\n",
       "      <td>1</td>\n",
       "      <td>1</td>\n",
       "      <td>0</td>\n",
       "      <td>0</td>\n",
       "      <td>01503-01511</td>\n",
       "      <td>2022-04-12 15:25:15</td>\n",
       "      <td>2022-10-13 10:00:00</td>\n",
       "      <td>2</td>\n",
       "      <td>0.0</td>\n",
       "      <td>0.0</td>\n",
       "    </tr>\n",
       "    <tr>\n",
       "      <th>1</th>\n",
       "      <td>0</td>\n",
       "      <td>1.0</td>\n",
       "      <td>100.0</td>\n",
       "      <td>20.0</td>\n",
       "      <td>20.0</td>\n",
       "      <td>0</td>\n",
       "      <td>1</td>\n",
       "      <td>1</td>\n",
       "      <td>0</td>\n",
       "      <td>0</td>\n",
       "      <td>18184-17475</td>\n",
       "      <td>2022-04-25 04:30:00</td>\n",
       "      <td>2022-04-25 20:00:00</td>\n",
       "      <td>2</td>\n",
       "      <td>0.0</td>\n",
       "      <td>0.0</td>\n",
       "    </tr>\n",
       "    <tr>\n",
       "      <th>2</th>\n",
       "      <td>0</td>\n",
       "      <td>1.0</td>\n",
       "      <td>100.0</td>\n",
       "      <td>20.0</td>\n",
       "      <td>20.0</td>\n",
       "      <td>0</td>\n",
       "      <td>1</td>\n",
       "      <td>1</td>\n",
       "      <td>0</td>\n",
       "      <td>0</td>\n",
       "      <td>18184-17475</td>\n",
       "      <td>2022-04-26 04:30:00</td>\n",
       "      <td>2022-04-26 14:00:00</td>\n",
       "      <td>2</td>\n",
       "      <td>0.0</td>\n",
       "      <td>0.0</td>\n",
       "    </tr>\n",
       "    <tr>\n",
       "      <th>3</th>\n",
       "      <td>0</td>\n",
       "      <td>1.0</td>\n",
       "      <td>300.0</td>\n",
       "      <td>20.0</td>\n",
       "      <td>20.0</td>\n",
       "      <td>0</td>\n",
       "      <td>1</td>\n",
       "      <td>1</td>\n",
       "      <td>0</td>\n",
       "      <td>0</td>\n",
       "      <td>10207-40253</td>\n",
       "      <td>2022-05-02 08:00:00</td>\n",
       "      <td>2022-05-02 15:00:00</td>\n",
       "      <td>2</td>\n",
       "      <td>0.0</td>\n",
       "      <td>0.0</td>\n",
       "    </tr>\n",
       "    <tr>\n",
       "      <th>4</th>\n",
       "      <td>0</td>\n",
       "      <td>1.0</td>\n",
       "      <td>300.0</td>\n",
       "      <td>20.0</td>\n",
       "      <td>20.0</td>\n",
       "      <td>0</td>\n",
       "      <td>1</td>\n",
       "      <td>1</td>\n",
       "      <td>0</td>\n",
       "      <td>0</td>\n",
       "      <td>10207-40253</td>\n",
       "      <td>2022-05-03 08:00:00</td>\n",
       "      <td>2022-05-03 15:00:00</td>\n",
       "      <td>2</td>\n",
       "      <td>0.0</td>\n",
       "      <td>0.0</td>\n",
       "    </tr>\n",
       "  </tbody>\n",
       "</table>\n",
       "</div>"
      ]
     },
     "execution_count": 53,
     "metadata": {},
     "output_type": "execute_result"
    }
   ],
   "execution_count": 53
  },
  {
   "metadata": {
    "ExecuteTime": {
     "end_time": "2024-11-02T19:04:50.422307Z",
     "start_time": "2024-11-02T19:03:57.116502Z"
    }
   },
   "cell_type": "code",
   "source": [
    "def add_line_info(events, line_info):\n",
    "    e=events.copy()\n",
    "    #d2.reset_index(inplace=True)\n",
    "    joined = e.merge(line_info,on='ID',how='inner')\n",
    "    # todo miért kell???\n",
    "    joined['Kezdés']=pd.to_datetime(joined['Kezdés'])\n",
    "    joined['Befejezés']=pd.to_datetime(joined['Befejezés'])\n",
    "    #ezek azok az események, ahol volt valami korlátozás\n",
    "    joined = joined[joined['ELOZO_ESEMENY_IDO'].between(joined['Kezdés'],joined['Befejezés'])]\n",
    "    e=e.reindex(columns=joined.columns)\n",
    "    e.update(joined)\n",
    "    e.fillna(0.0,inplace=True)\n",
    "    return e\n",
    "\n",
    "\n",
    "\n",
    "\n",
    "\n",
    "events_with_line_info=add_line_info(d2, line_status)\n",
    "events_with_line_info.head()\n",
    "    "
   ],
   "id": "534f57daac7b6d9d",
   "outputs": [
    {
     "name": "stderr",
     "output_type": "stream",
     "text": [
      "C:\\Users\\ELTE\\AppData\\Local\\Temp\\ipykernel_25188\\583904592.py:11: FutureWarning: Setting an item of incompatible dtype is deprecated and will raise in a future error of pandas. Value '[nan nan nan ... nan nan nan]' has dtype incompatible with float64, please explicitly cast to a compatible dtype first.\n",
      "  e.update(joined)\n",
      "C:\\Users\\ELTE\\AppData\\Local\\Temp\\ipykernel_25188\\583904592.py:11: FutureWarning: Setting an item of incompatible dtype is deprecated and will raise in a future error of pandas. Value '[nan nan nan ... nan nan nan]' has dtype incompatible with float64, please explicitly cast to a compatible dtype first.\n",
      "  e.update(joined)\n",
      "C:\\Users\\ELTE\\AppData\\Local\\Temp\\ipykernel_25188\\583904592.py:11: FutureWarning: Setting an item of incompatible dtype is deprecated and will raise in a future error of pandas. Value '[nan nan nan ... nan nan nan]' has dtype incompatible with float64, please explicitly cast to a compatible dtype first.\n",
      "  e.update(joined)\n",
      "C:\\Users\\ELTE\\AppData\\Local\\Temp\\ipykernel_25188\\583904592.py:12: FutureWarning: Setting an item of incompatible dtype is deprecated and will raise an error in a future version of pandas. Value '0.0' has dtype incompatible with datetime64[ns], please explicitly cast to a compatible dtype first.\n",
      "  e.fillna(0.0,inplace=True)\n",
      "C:\\Users\\ELTE\\AppData\\Local\\Temp\\ipykernel_25188\\583904592.py:12: FutureWarning: Setting an item of incompatible dtype is deprecated and will raise an error in a future version of pandas. Value '0.0' has dtype incompatible with timedelta64[ns], please explicitly cast to a compatible dtype first.\n",
      "  e.fillna(0.0,inplace=True)\n"
     ]
    },
    {
     "data": {
      "text/plain": [
       "  VONAL  VONATSZAM  VONTATO_TIPUS    ELOZO_ESEMENY_IDO MENETREND_IDO  \\\n",
       "0    70       2010            465                  0.0      00:25:00   \n",
       "1    70       2010            465  2023-01-01 00:25:00      00:25:00   \n",
       "2    70       2010            465  2023-01-01 00:25:00      00:29:00   \n",
       "3     2       2010            465  2023-01-01 00:29:00      00:30:00   \n",
       "4     2       2010            465  2023-01-01 00:30:00      00:35:00   \n",
       "\n",
       "          OSSZ_KESES      ELOZO_KESES              KESES   tx    t  ...  \\\n",
       "0                0.0              0.0                0.0  8.5  6.1  ...   \n",
       "1    0 days 00:00:24              0.0                0.0  8.5  6.1  ...   \n",
       "2    0 days 00:01:07  0 days 00:00:24    0 days 00:00:43  8.5  6.1  ...   \n",
       "3    0 days 00:00:58  0 days 00:01:07  -1 days +23:59:51  8.5  6.1  ...   \n",
       "4  -1 days +23:59:50  0 days 00:00:58  -1 days +23:58:52  8.5  6.1  ...   \n",
       "\n",
       "   Fels.vez. kikapcsolása    I    E   ÁI   ÁE Kezdés  Befejezés  \\\n",
       "0                     0.0  0.0  0.0  0.0  0.0    0.0        0.0   \n",
       "1                     0.0  0.0  0.0  0.0  0.0    0.0        0.0   \n",
       "2                     0.0  0.0  0.0  0.0  0.0    0.0        0.0   \n",
       "3                     0.0  0.0  0.0  0.0  0.0    0.0        0.0   \n",
       "4                     0.0  0.0  0.0  0.0  0.0    0.0        0.0   \n",
       "\n",
       "   Kizárás (1=VZ,2=LJ)  Kiutalt menetvonalak zavartatása nélkül  Státus  \n",
       "0                  0.0                                      0.0     0.0  \n",
       "1                  0.0                                      0.0     0.0  \n",
       "2                  0.0                                      0.0     0.0  \n",
       "3                  0.0                                      0.0     0.0  \n",
       "4                  0.0                                      0.0     0.0  \n",
       "\n",
       "[5 rows x 31 columns]"
      ],
      "text/html": [
       "<div>\n",
       "<style scoped>\n",
       "    .dataframe tbody tr th:only-of-type {\n",
       "        vertical-align: middle;\n",
       "    }\n",
       "\n",
       "    .dataframe tbody tr th {\n",
       "        vertical-align: top;\n",
       "    }\n",
       "\n",
       "    .dataframe thead th {\n",
       "        text-align: right;\n",
       "    }\n",
       "</style>\n",
       "<table border=\"1\" class=\"dataframe\">\n",
       "  <thead>\n",
       "    <tr style=\"text-align: right;\">\n",
       "      <th></th>\n",
       "      <th>VONAL</th>\n",
       "      <th>VONATSZAM</th>\n",
       "      <th>VONTATO_TIPUS</th>\n",
       "      <th>ELOZO_ESEMENY_IDO</th>\n",
       "      <th>MENETREND_IDO</th>\n",
       "      <th>OSSZ_KESES</th>\n",
       "      <th>ELOZO_KESES</th>\n",
       "      <th>KESES</th>\n",
       "      <th>tx</th>\n",
       "      <th>t</th>\n",
       "      <th>...</th>\n",
       "      <th>Fels.vez. kikapcsolása</th>\n",
       "      <th>I</th>\n",
       "      <th>E</th>\n",
       "      <th>ÁI</th>\n",
       "      <th>ÁE</th>\n",
       "      <th>Kezdés</th>\n",
       "      <th>Befejezés</th>\n",
       "      <th>Kizárás (1=VZ,2=LJ)</th>\n",
       "      <th>Kiutalt menetvonalak zavartatása nélkül</th>\n",
       "      <th>Státus</th>\n",
       "    </tr>\n",
       "  </thead>\n",
       "  <tbody>\n",
       "    <tr>\n",
       "      <th>0</th>\n",
       "      <td>70</td>\n",
       "      <td>2010</td>\n",
       "      <td>465</td>\n",
       "      <td>0.0</td>\n",
       "      <td>00:25:00</td>\n",
       "      <td>0.0</td>\n",
       "      <td>0.0</td>\n",
       "      <td>0.0</td>\n",
       "      <td>8.5</td>\n",
       "      <td>6.1</td>\n",
       "      <td>...</td>\n",
       "      <td>0.0</td>\n",
       "      <td>0.0</td>\n",
       "      <td>0.0</td>\n",
       "      <td>0.0</td>\n",
       "      <td>0.0</td>\n",
       "      <td>0.0</td>\n",
       "      <td>0.0</td>\n",
       "      <td>0.0</td>\n",
       "      <td>0.0</td>\n",
       "      <td>0.0</td>\n",
       "    </tr>\n",
       "    <tr>\n",
       "      <th>1</th>\n",
       "      <td>70</td>\n",
       "      <td>2010</td>\n",
       "      <td>465</td>\n",
       "      <td>2023-01-01 00:25:00</td>\n",
       "      <td>00:25:00</td>\n",
       "      <td>0 days 00:00:24</td>\n",
       "      <td>0.0</td>\n",
       "      <td>0.0</td>\n",
       "      <td>8.5</td>\n",
       "      <td>6.1</td>\n",
       "      <td>...</td>\n",
       "      <td>0.0</td>\n",
       "      <td>0.0</td>\n",
       "      <td>0.0</td>\n",
       "      <td>0.0</td>\n",
       "      <td>0.0</td>\n",
       "      <td>0.0</td>\n",
       "      <td>0.0</td>\n",
       "      <td>0.0</td>\n",
       "      <td>0.0</td>\n",
       "      <td>0.0</td>\n",
       "    </tr>\n",
       "    <tr>\n",
       "      <th>2</th>\n",
       "      <td>70</td>\n",
       "      <td>2010</td>\n",
       "      <td>465</td>\n",
       "      <td>2023-01-01 00:25:00</td>\n",
       "      <td>00:29:00</td>\n",
       "      <td>0 days 00:01:07</td>\n",
       "      <td>0 days 00:00:24</td>\n",
       "      <td>0 days 00:00:43</td>\n",
       "      <td>8.5</td>\n",
       "      <td>6.1</td>\n",
       "      <td>...</td>\n",
       "      <td>0.0</td>\n",
       "      <td>0.0</td>\n",
       "      <td>0.0</td>\n",
       "      <td>0.0</td>\n",
       "      <td>0.0</td>\n",
       "      <td>0.0</td>\n",
       "      <td>0.0</td>\n",
       "      <td>0.0</td>\n",
       "      <td>0.0</td>\n",
       "      <td>0.0</td>\n",
       "    </tr>\n",
       "    <tr>\n",
       "      <th>3</th>\n",
       "      <td>2</td>\n",
       "      <td>2010</td>\n",
       "      <td>465</td>\n",
       "      <td>2023-01-01 00:29:00</td>\n",
       "      <td>00:30:00</td>\n",
       "      <td>0 days 00:00:58</td>\n",
       "      <td>0 days 00:01:07</td>\n",
       "      <td>-1 days +23:59:51</td>\n",
       "      <td>8.5</td>\n",
       "      <td>6.1</td>\n",
       "      <td>...</td>\n",
       "      <td>0.0</td>\n",
       "      <td>0.0</td>\n",
       "      <td>0.0</td>\n",
       "      <td>0.0</td>\n",
       "      <td>0.0</td>\n",
       "      <td>0.0</td>\n",
       "      <td>0.0</td>\n",
       "      <td>0.0</td>\n",
       "      <td>0.0</td>\n",
       "      <td>0.0</td>\n",
       "    </tr>\n",
       "    <tr>\n",
       "      <th>4</th>\n",
       "      <td>2</td>\n",
       "      <td>2010</td>\n",
       "      <td>465</td>\n",
       "      <td>2023-01-01 00:30:00</td>\n",
       "      <td>00:35:00</td>\n",
       "      <td>-1 days +23:59:50</td>\n",
       "      <td>0 days 00:00:58</td>\n",
       "      <td>-1 days +23:58:52</td>\n",
       "      <td>8.5</td>\n",
       "      <td>6.1</td>\n",
       "      <td>...</td>\n",
       "      <td>0.0</td>\n",
       "      <td>0.0</td>\n",
       "      <td>0.0</td>\n",
       "      <td>0.0</td>\n",
       "      <td>0.0</td>\n",
       "      <td>0.0</td>\n",
       "      <td>0.0</td>\n",
       "      <td>0.0</td>\n",
       "      <td>0.0</td>\n",
       "      <td>0.0</td>\n",
       "    </tr>\n",
       "  </tbody>\n",
       "</table>\n",
       "<p>5 rows × 31 columns</p>\n",
       "</div>"
      ]
     },
     "execution_count": 77,
     "metadata": {},
     "output_type": "execute_result"
    }
   ],
   "execution_count": 77
  },
  {
   "metadata": {
    "ExecuteTime": {
     "end_time": "2024-11-03T08:37:27.306777Z",
     "start_time": "2024-11-03T08:37:27.259205Z"
    }
   },
   "cell_type": "code",
   "source": [
    "# https://stackoverflow.com/questions/50422404/save-and-export-dtypes-information-of-a-python-pandas-dataframe\n",
    "def save_data_with_types(df,fn):\n",
    "    with open(fn, 'wt') as f:\n",
    "        f.write(',' + ','.join(map(str, df.dtypes)) + '\\n')\n",
    "        df.to_csv(f, lineterminator='\\n')\n",
    "\n",
    "def load_data(fn): \n",
    "    with open(fn, 'rt') as f:\n",
    "        types = next(f).rstrip().split(',')[1:]\n",
    "        columns = next(f).rstrip().split(',')[1:]\n",
    "        df = pd.read_csv(f, dtype=dict(zip(columns, types)), index_col=0, names=columns)\n",
    "        return df"
   ],
   "id": "5e5abfe52750bbb1",
   "outputs": [],
   "execution_count": 87
  },
  {
   "metadata": {
    "ExecuteTime": {
     "end_time": "2024-11-02T19:09:51.747710Z",
     "start_time": "2024-11-02T19:09:43.094197Z"
    }
   },
   "cell_type": "code",
   "source": [
    "def add_previous_train_delay(events):\n",
    "    e=events.copy()\n",
    "    #TODO érdemes lehet mozdonyid-ra is csoportosítani\n",
    "    e[['ELOZO VONAT KESES','ELOZO STATUS']]=e.groupby('ID')[['KESES','Kizárásszám']].shift()\n",
    "    e['VONAL STATUSZ VALTOZOTT']=e['ELOZO STATUS']!=e['Kizárásszám']\n",
    "    e.drop(columns=['ELOZO STATUS','ELOZO STATUS'],inplace=True)\n",
    "    return e\n",
    "\n",
    "events_with_line_info=add_previous_train_delay(events_with_line_info)"
   ],
   "id": "b454c11cccf88913",
   "outputs": [],
   "execution_count": 79
  },
  {
   "metadata": {
    "ExecuteTime": {
     "end_time": "2024-11-02T19:12:08.609013Z",
     "start_time": "2024-11-02T19:12:03.699263Z"
    }
   },
   "cell_type": "code",
   "source": "events_with_line_info.loc[events_with_line_info['ID']==\"10033-10082\"]",
   "id": "ba0e758e112ed947",
   "outputs": [
    {
     "data": {
      "text/plain": [
       "        VONAL  VONATSZAM  VONTATO_TIPUS    ELOZO_ESEMENY_IDO MENETREND_IDO  \\\n",
       "2          70       2010            465  2023-01-01 00:25:00      00:29:00   \n",
       "84          2       2012            465  2023-01-01 06:21:00      06:25:00   \n",
       "155         2       2014            465  2023-01-01 10:21:00      10:25:00   \n",
       "224         2       2016            465  2023-01-01 14:21:00      14:25:00   \n",
       "297         2       2018            465  2023-01-01 18:21:00      18:25:00   \n",
       "...       ...        ...            ...                  ...           ...   \n",
       "1713148    70       2084            465  2023-12-31 13:51:00      13:55:00   \n",
       "1713220    70       2086            465  2023-12-31 17:51:00      17:55:00   \n",
       "1713292    70       2088            465  2023-12-31 21:51:00      21:55:00   \n",
       "1713376    70       2178            465  2023-12-31 22:21:00      22:25:00   \n",
       "1713460    70       2188            465  2023-12-31 23:15:00      23:19:00   \n",
       "\n",
       "              OSSZ_KESES        ELOZO_KESES            KESES   tx    t  ...  \\\n",
       "2        0 days 00:01:07    0 days 00:00:24  0 days 00:00:43  8.5  6.1  ...   \n",
       "84       0 days 00:06:11    0 days 00:00:48  0 days 00:05:23  8.5  6.1  ...   \n",
       "155      0 days 00:02:45    0 days 00:00:11  0 days 00:02:34  8.5  6.1  ...   \n",
       "224      0 days 00:03:34    0 days 00:00:19  0 days 00:03:15  8.5  6.1  ...   \n",
       "297      0 days 00:03:27  -1 days +23:59:11  0 days 00:04:16  8.5  6.1  ...   \n",
       "...                  ...                ...              ...  ...  ...  ...   \n",
       "1713148              0.0    0 days 00:00:57              0.0  0.0  0.0  ...   \n",
       "1713220              0.0    0 days 00:00:25              0.0  0.0  0.0  ...   \n",
       "1713292              0.0  -1 days +23:59:42              0.0  0.0  0.0  ...   \n",
       "1713376              0.0    0 days 00:00:11              0.0  0.0  0.0  ...   \n",
       "1713460  0 days 00:00:55    0 days 00:00:20  0 days 00:00:35  0.0  0.0  ...   \n",
       "\n",
       "           E   ÁI   ÁE Kezdés  Befejezés Kizárás (1=VZ,2=LJ)  \\\n",
       "2        0.0  0.0  0.0    0.0        0.0                 0.0   \n",
       "84       0.0  0.0  0.0    0.0        0.0                 0.0   \n",
       "155      0.0  0.0  0.0    0.0        0.0                 0.0   \n",
       "224      0.0  0.0  0.0    0.0        0.0                 0.0   \n",
       "297      0.0  0.0  0.0    0.0        0.0                 0.0   \n",
       "...      ...  ...  ...    ...        ...                 ...   \n",
       "1713148  0.0  0.0  0.0    0.0        0.0                 0.0   \n",
       "1713220  0.0  0.0  0.0    0.0        0.0                 0.0   \n",
       "1713292  0.0  0.0  0.0    0.0        0.0                 0.0   \n",
       "1713376  0.0  0.0  0.0    0.0        0.0                 0.0   \n",
       "1713460  0.0  0.0  0.0    0.0        0.0                 0.0   \n",
       "\n",
       "         Kiutalt menetvonalak zavartatása nélkül  Státus  ELOZO VONAT KESES  \\\n",
       "2                                            0.0     0.0                NaN   \n",
       "84                                           0.0     0.0    0 days 00:00:43   \n",
       "155                                          0.0     0.0    0 days 00:05:23   \n",
       "224                                          0.0     0.0    0 days 00:02:34   \n",
       "297                                          0.0     0.0    0 days 00:03:15   \n",
       "...                                          ...     ...                ...   \n",
       "1713148                                      0.0     0.0                0.0   \n",
       "1713220                                      0.0     0.0                0.0   \n",
       "1713292                                      0.0     0.0                0.0   \n",
       "1713376                                      0.0     0.0                0.0   \n",
       "1713460                                      0.0     0.0                0.0   \n",
       "\n",
       "         VONAL STATUSZ VALTOZOTT  \n",
       "2                          False  \n",
       "84                          True  \n",
       "155                         True  \n",
       "224                         True  \n",
       "297                         True  \n",
       "...                          ...  \n",
       "1713148                     True  \n",
       "1713220                     True  \n",
       "1713292                     True  \n",
       "1713376                     True  \n",
       "1713460                     True  \n",
       "\n",
       "[13794 rows x 33 columns]"
      ],
      "text/html": [
       "<div>\n",
       "<style scoped>\n",
       "    .dataframe tbody tr th:only-of-type {\n",
       "        vertical-align: middle;\n",
       "    }\n",
       "\n",
       "    .dataframe tbody tr th {\n",
       "        vertical-align: top;\n",
       "    }\n",
       "\n",
       "    .dataframe thead th {\n",
       "        text-align: right;\n",
       "    }\n",
       "</style>\n",
       "<table border=\"1\" class=\"dataframe\">\n",
       "  <thead>\n",
       "    <tr style=\"text-align: right;\">\n",
       "      <th></th>\n",
       "      <th>VONAL</th>\n",
       "      <th>VONATSZAM</th>\n",
       "      <th>VONTATO_TIPUS</th>\n",
       "      <th>ELOZO_ESEMENY_IDO</th>\n",
       "      <th>MENETREND_IDO</th>\n",
       "      <th>OSSZ_KESES</th>\n",
       "      <th>ELOZO_KESES</th>\n",
       "      <th>KESES</th>\n",
       "      <th>tx</th>\n",
       "      <th>t</th>\n",
       "      <th>...</th>\n",
       "      <th>E</th>\n",
       "      <th>ÁI</th>\n",
       "      <th>ÁE</th>\n",
       "      <th>Kezdés</th>\n",
       "      <th>Befejezés</th>\n",
       "      <th>Kizárás (1=VZ,2=LJ)</th>\n",
       "      <th>Kiutalt menetvonalak zavartatása nélkül</th>\n",
       "      <th>Státus</th>\n",
       "      <th>ELOZO VONAT KESES</th>\n",
       "      <th>VONAL STATUSZ VALTOZOTT</th>\n",
       "    </tr>\n",
       "  </thead>\n",
       "  <tbody>\n",
       "    <tr>\n",
       "      <th>2</th>\n",
       "      <td>70</td>\n",
       "      <td>2010</td>\n",
       "      <td>465</td>\n",
       "      <td>2023-01-01 00:25:00</td>\n",
       "      <td>00:29:00</td>\n",
       "      <td>0 days 00:01:07</td>\n",
       "      <td>0 days 00:00:24</td>\n",
       "      <td>0 days 00:00:43</td>\n",
       "      <td>8.5</td>\n",
       "      <td>6.1</td>\n",
       "      <td>...</td>\n",
       "      <td>0.0</td>\n",
       "      <td>0.0</td>\n",
       "      <td>0.0</td>\n",
       "      <td>0.0</td>\n",
       "      <td>0.0</td>\n",
       "      <td>0.0</td>\n",
       "      <td>0.0</td>\n",
       "      <td>0.0</td>\n",
       "      <td>NaN</td>\n",
       "      <td>False</td>\n",
       "    </tr>\n",
       "    <tr>\n",
       "      <th>84</th>\n",
       "      <td>2</td>\n",
       "      <td>2012</td>\n",
       "      <td>465</td>\n",
       "      <td>2023-01-01 06:21:00</td>\n",
       "      <td>06:25:00</td>\n",
       "      <td>0 days 00:06:11</td>\n",
       "      <td>0 days 00:00:48</td>\n",
       "      <td>0 days 00:05:23</td>\n",
       "      <td>8.5</td>\n",
       "      <td>6.1</td>\n",
       "      <td>...</td>\n",
       "      <td>0.0</td>\n",
       "      <td>0.0</td>\n",
       "      <td>0.0</td>\n",
       "      <td>0.0</td>\n",
       "      <td>0.0</td>\n",
       "      <td>0.0</td>\n",
       "      <td>0.0</td>\n",
       "      <td>0.0</td>\n",
       "      <td>0 days 00:00:43</td>\n",
       "      <td>True</td>\n",
       "    </tr>\n",
       "    <tr>\n",
       "      <th>155</th>\n",
       "      <td>2</td>\n",
       "      <td>2014</td>\n",
       "      <td>465</td>\n",
       "      <td>2023-01-01 10:21:00</td>\n",
       "      <td>10:25:00</td>\n",
       "      <td>0 days 00:02:45</td>\n",
       "      <td>0 days 00:00:11</td>\n",
       "      <td>0 days 00:02:34</td>\n",
       "      <td>8.5</td>\n",
       "      <td>6.1</td>\n",
       "      <td>...</td>\n",
       "      <td>0.0</td>\n",
       "      <td>0.0</td>\n",
       "      <td>0.0</td>\n",
       "      <td>0.0</td>\n",
       "      <td>0.0</td>\n",
       "      <td>0.0</td>\n",
       "      <td>0.0</td>\n",
       "      <td>0.0</td>\n",
       "      <td>0 days 00:05:23</td>\n",
       "      <td>True</td>\n",
       "    </tr>\n",
       "    <tr>\n",
       "      <th>224</th>\n",
       "      <td>2</td>\n",
       "      <td>2016</td>\n",
       "      <td>465</td>\n",
       "      <td>2023-01-01 14:21:00</td>\n",
       "      <td>14:25:00</td>\n",
       "      <td>0 days 00:03:34</td>\n",
       "      <td>0 days 00:00:19</td>\n",
       "      <td>0 days 00:03:15</td>\n",
       "      <td>8.5</td>\n",
       "      <td>6.1</td>\n",
       "      <td>...</td>\n",
       "      <td>0.0</td>\n",
       "      <td>0.0</td>\n",
       "      <td>0.0</td>\n",
       "      <td>0.0</td>\n",
       "      <td>0.0</td>\n",
       "      <td>0.0</td>\n",
       "      <td>0.0</td>\n",
       "      <td>0.0</td>\n",
       "      <td>0 days 00:02:34</td>\n",
       "      <td>True</td>\n",
       "    </tr>\n",
       "    <tr>\n",
       "      <th>297</th>\n",
       "      <td>2</td>\n",
       "      <td>2018</td>\n",
       "      <td>465</td>\n",
       "      <td>2023-01-01 18:21:00</td>\n",
       "      <td>18:25:00</td>\n",
       "      <td>0 days 00:03:27</td>\n",
       "      <td>-1 days +23:59:11</td>\n",
       "      <td>0 days 00:04:16</td>\n",
       "      <td>8.5</td>\n",
       "      <td>6.1</td>\n",
       "      <td>...</td>\n",
       "      <td>0.0</td>\n",
       "      <td>0.0</td>\n",
       "      <td>0.0</td>\n",
       "      <td>0.0</td>\n",
       "      <td>0.0</td>\n",
       "      <td>0.0</td>\n",
       "      <td>0.0</td>\n",
       "      <td>0.0</td>\n",
       "      <td>0 days 00:03:15</td>\n",
       "      <td>True</td>\n",
       "    </tr>\n",
       "    <tr>\n",
       "      <th>...</th>\n",
       "      <td>...</td>\n",
       "      <td>...</td>\n",
       "      <td>...</td>\n",
       "      <td>...</td>\n",
       "      <td>...</td>\n",
       "      <td>...</td>\n",
       "      <td>...</td>\n",
       "      <td>...</td>\n",
       "      <td>...</td>\n",
       "      <td>...</td>\n",
       "      <td>...</td>\n",
       "      <td>...</td>\n",
       "      <td>...</td>\n",
       "      <td>...</td>\n",
       "      <td>...</td>\n",
       "      <td>...</td>\n",
       "      <td>...</td>\n",
       "      <td>...</td>\n",
       "      <td>...</td>\n",
       "      <td>...</td>\n",
       "      <td>...</td>\n",
       "    </tr>\n",
       "    <tr>\n",
       "      <th>1713148</th>\n",
       "      <td>70</td>\n",
       "      <td>2084</td>\n",
       "      <td>465</td>\n",
       "      <td>2023-12-31 13:51:00</td>\n",
       "      <td>13:55:00</td>\n",
       "      <td>0.0</td>\n",
       "      <td>0 days 00:00:57</td>\n",
       "      <td>0.0</td>\n",
       "      <td>0.0</td>\n",
       "      <td>0.0</td>\n",
       "      <td>...</td>\n",
       "      <td>0.0</td>\n",
       "      <td>0.0</td>\n",
       "      <td>0.0</td>\n",
       "      <td>0.0</td>\n",
       "      <td>0.0</td>\n",
       "      <td>0.0</td>\n",
       "      <td>0.0</td>\n",
       "      <td>0.0</td>\n",
       "      <td>0.0</td>\n",
       "      <td>True</td>\n",
       "    </tr>\n",
       "    <tr>\n",
       "      <th>1713220</th>\n",
       "      <td>70</td>\n",
       "      <td>2086</td>\n",
       "      <td>465</td>\n",
       "      <td>2023-12-31 17:51:00</td>\n",
       "      <td>17:55:00</td>\n",
       "      <td>0.0</td>\n",
       "      <td>0 days 00:00:25</td>\n",
       "      <td>0.0</td>\n",
       "      <td>0.0</td>\n",
       "      <td>0.0</td>\n",
       "      <td>...</td>\n",
       "      <td>0.0</td>\n",
       "      <td>0.0</td>\n",
       "      <td>0.0</td>\n",
       "      <td>0.0</td>\n",
       "      <td>0.0</td>\n",
       "      <td>0.0</td>\n",
       "      <td>0.0</td>\n",
       "      <td>0.0</td>\n",
       "      <td>0.0</td>\n",
       "      <td>True</td>\n",
       "    </tr>\n",
       "    <tr>\n",
       "      <th>1713292</th>\n",
       "      <td>70</td>\n",
       "      <td>2088</td>\n",
       "      <td>465</td>\n",
       "      <td>2023-12-31 21:51:00</td>\n",
       "      <td>21:55:00</td>\n",
       "      <td>0.0</td>\n",
       "      <td>-1 days +23:59:42</td>\n",
       "      <td>0.0</td>\n",
       "      <td>0.0</td>\n",
       "      <td>0.0</td>\n",
       "      <td>...</td>\n",
       "      <td>0.0</td>\n",
       "      <td>0.0</td>\n",
       "      <td>0.0</td>\n",
       "      <td>0.0</td>\n",
       "      <td>0.0</td>\n",
       "      <td>0.0</td>\n",
       "      <td>0.0</td>\n",
       "      <td>0.0</td>\n",
       "      <td>0.0</td>\n",
       "      <td>True</td>\n",
       "    </tr>\n",
       "    <tr>\n",
       "      <th>1713376</th>\n",
       "      <td>70</td>\n",
       "      <td>2178</td>\n",
       "      <td>465</td>\n",
       "      <td>2023-12-31 22:21:00</td>\n",
       "      <td>22:25:00</td>\n",
       "      <td>0.0</td>\n",
       "      <td>0 days 00:00:11</td>\n",
       "      <td>0.0</td>\n",
       "      <td>0.0</td>\n",
       "      <td>0.0</td>\n",
       "      <td>...</td>\n",
       "      <td>0.0</td>\n",
       "      <td>0.0</td>\n",
       "      <td>0.0</td>\n",
       "      <td>0.0</td>\n",
       "      <td>0.0</td>\n",
       "      <td>0.0</td>\n",
       "      <td>0.0</td>\n",
       "      <td>0.0</td>\n",
       "      <td>0.0</td>\n",
       "      <td>True</td>\n",
       "    </tr>\n",
       "    <tr>\n",
       "      <th>1713460</th>\n",
       "      <td>70</td>\n",
       "      <td>2188</td>\n",
       "      <td>465</td>\n",
       "      <td>2023-12-31 23:15:00</td>\n",
       "      <td>23:19:00</td>\n",
       "      <td>0 days 00:00:55</td>\n",
       "      <td>0 days 00:00:20</td>\n",
       "      <td>0 days 00:00:35</td>\n",
       "      <td>0.0</td>\n",
       "      <td>0.0</td>\n",
       "      <td>...</td>\n",
       "      <td>0.0</td>\n",
       "      <td>0.0</td>\n",
       "      <td>0.0</td>\n",
       "      <td>0.0</td>\n",
       "      <td>0.0</td>\n",
       "      <td>0.0</td>\n",
       "      <td>0.0</td>\n",
       "      <td>0.0</td>\n",
       "      <td>0.0</td>\n",
       "      <td>True</td>\n",
       "    </tr>\n",
       "  </tbody>\n",
       "</table>\n",
       "<p>13794 rows × 33 columns</p>\n",
       "</div>"
      ]
     },
     "execution_count": 81,
     "metadata": {},
     "output_type": "execute_result"
    }
   ],
   "execution_count": 81
  },
  {
   "metadata": {
    "ExecuteTime": {
     "end_time": "2024-11-02T19:19:31.084804Z",
     "start_time": "2024-11-02T19:17:36.176647Z"
    }
   },
   "cell_type": "code",
   "source": [
    "events=[] \n",
    "for line in [2,147]:\n",
    "    #esemény és időjárás adat\n",
    "    e = get_events_pred_data(get_events_data(weather_df,coord_dict,line),line)\n",
    "    e = add_line_info(e,line_status)\n",
    "    e = add_previous_train_delay(e)\n",
    "    events.append(e)\n",
    "data=pd.concat(events)"
   ],
   "id": "e5804de1ce526f9",
   "outputs": [
    {
     "name": "stderr",
     "output_type": "stream",
     "text": [
      "C:\\Users\\ELTE\\AppData\\Local\\Temp\\ipykernel_25188\\3635430046.py:42: DtypeWarning: Columns (16,17) have mixed types. Specify dtype option on import or set low_memory=False.\n",
      "  e=pd.read_csv(passanger_info_folder+event_file_name+str(line)+'.txt',sep=',',encoding='iso-8859-2')\n"
     ]
    },
    {
     "name": "stdout",
     "output_type": "stream",
     "text": [
      "2023-01-01 00:00:00  -  2023-12-31 00:00:00\n"
     ]
    },
    {
     "name": "stderr",
     "output_type": "stream",
     "text": [
      "C:\\Users\\ELTE\\AppData\\Local\\Temp\\ipykernel_25188\\583904592.py:11: FutureWarning: Setting an item of incompatible dtype is deprecated and will raise in a future error of pandas. Value '[nan nan nan ... nan nan nan]' has dtype incompatible with float64, please explicitly cast to a compatible dtype first.\n",
      "  e.update(joined)\n",
      "C:\\Users\\ELTE\\AppData\\Local\\Temp\\ipykernel_25188\\583904592.py:11: FutureWarning: Setting an item of incompatible dtype is deprecated and will raise in a future error of pandas. Value '[nan nan nan ... nan nan nan]' has dtype incompatible with float64, please explicitly cast to a compatible dtype first.\n",
      "  e.update(joined)\n",
      "C:\\Users\\ELTE\\AppData\\Local\\Temp\\ipykernel_25188\\583904592.py:11: FutureWarning: Setting an item of incompatible dtype is deprecated and will raise in a future error of pandas. Value '[nan nan nan ... nan nan nan]' has dtype incompatible with float64, please explicitly cast to a compatible dtype first.\n",
      "  e.update(joined)\n",
      "C:\\Users\\ELTE\\AppData\\Local\\Temp\\ipykernel_25188\\583904592.py:12: FutureWarning: Setting an item of incompatible dtype is deprecated and will raise an error in a future version of pandas. Value '0.0' has dtype incompatible with datetime64[ns], please explicitly cast to a compatible dtype first.\n",
      "  e.fillna(0.0,inplace=True)\n",
      "C:\\Users\\ELTE\\AppData\\Local\\Temp\\ipykernel_25188\\583904592.py:12: FutureWarning: Setting an item of incompatible dtype is deprecated and will raise an error in a future version of pandas. Value '0.0' has dtype incompatible with timedelta64[ns], please explicitly cast to a compatible dtype first.\n",
      "  e.fillna(0.0,inplace=True)\n",
      "C:\\Users\\ELTE\\AppData\\Local\\Temp\\ipykernel_25188\\3635430046.py:42: DtypeWarning: Columns (22) have mixed types. Specify dtype option on import or set low_memory=False.\n",
      "  e=pd.read_csv(passanger_info_folder+event_file_name+str(line)+'.txt',sep=',',encoding='iso-8859-2')\n"
     ]
    },
    {
     "name": "stdout",
     "output_type": "stream",
     "text": [
      "2023-01-01 00:00:00  -  2023-12-31 00:00:00\n"
     ]
    },
    {
     "name": "stderr",
     "output_type": "stream",
     "text": [
      "C:\\Users\\ELTE\\AppData\\Local\\Temp\\ipykernel_25188\\583904592.py:11: FutureWarning: Setting an item of incompatible dtype is deprecated and will raise in a future error of pandas. Value '[nan nan nan ... nan nan nan]' has dtype incompatible with float64, please explicitly cast to a compatible dtype first.\n",
      "  e.update(joined)\n",
      "C:\\Users\\ELTE\\AppData\\Local\\Temp\\ipykernel_25188\\583904592.py:11: FutureWarning: Setting an item of incompatible dtype is deprecated and will raise in a future error of pandas. Value '[nan nan nan ... nan nan nan]' has dtype incompatible with float64, please explicitly cast to a compatible dtype first.\n",
      "  e.update(joined)\n",
      "C:\\Users\\ELTE\\AppData\\Local\\Temp\\ipykernel_25188\\583904592.py:11: FutureWarning: Setting an item of incompatible dtype is deprecated and will raise in a future error of pandas. Value '[nan nan nan ... nan nan nan]' has dtype incompatible with float64, please explicitly cast to a compatible dtype first.\n",
      "  e.update(joined)\n",
      "C:\\Users\\ELTE\\AppData\\Local\\Temp\\ipykernel_25188\\583904592.py:12: FutureWarning: Setting an item of incompatible dtype is deprecated and will raise an error in a future version of pandas. Value '0.0' has dtype incompatible with datetime64[ns], please explicitly cast to a compatible dtype first.\n",
      "  e.fillna(0.0,inplace=True)\n",
      "C:\\Users\\ELTE\\AppData\\Local\\Temp\\ipykernel_25188\\583904592.py:12: FutureWarning: Setting an item of incompatible dtype is deprecated and will raise an error in a future version of pandas. Value '0.0' has dtype incompatible with timedelta64[ns], please explicitly cast to a compatible dtype first.\n",
      "  e.fillna(0.0,inplace=True)\n"
     ]
    }
   ],
   "execution_count": 83
  },
  {
   "metadata": {
    "ExecuteTime": {
     "end_time": "2024-11-03T08:40:58.870142Z",
     "start_time": "2024-11-03T08:38:11.880925Z"
    }
   },
   "cell_type": "code",
   "source": [
    "# TODO nem az igazi, pkl helyette most\n",
    "#save_data_with_types(data,data_root+'data.csv')\n",
    "\n",
    "    "
   ],
   "id": "18bb515b23ac26df",
   "outputs": [],
   "execution_count": 88
  },
  {
   "metadata": {
    "ExecuteTime": {
     "end_time": "2024-11-04T08:54:32.658713Z",
     "start_time": "2024-11-04T08:52:25.239219Z"
    }
   },
   "cell_type": "code",
   "source": "data.to_pickle(data_root+'data.pkl')",
   "id": "91bebe94e2b776e0",
   "outputs": [],
   "execution_count": 89
  },
  {
   "metadata": {},
   "cell_type": "code",
   "outputs": [],
   "execution_count": null,
   "source": " ",
   "id": "1370e3553018656"
  },
  {
   "metadata": {},
   "cell_type": "code",
   "outputs": [],
   "execution_count": null,
   "source": "\n",
   "id": "333b3463957f0965"
  }
 ],
 "metadata": {
  "kernelspec": {
   "display_name": "Python 3",
   "language": "python",
   "name": "python3"
  },
  "language_info": {
   "codemirror_mode": {
    "name": "ipython",
    "version": 2
   },
   "file_extension": ".py",
   "mimetype": "text/x-python",
   "name": "python",
   "nbconvert_exporter": "python",
   "pygments_lexer": "ipython2",
   "version": "2.7.6"
  }
 },
 "nbformat": 4,
 "nbformat_minor": 5
}

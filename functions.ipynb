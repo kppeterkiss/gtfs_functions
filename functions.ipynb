{
 "cells": [
  {
   "metadata": {},
   "cell_type": "markdown",
   "source": "# Állomások lokációi és a legközelebbi meteorológia mérőállomás",
   "id": "26709ef63d844984"
  },
  {
   "metadata": {
    "ExecuteTime": {
     "end_time": "2024-11-24T18:58:37.320258Z",
     "start_time": "2024-11-24T18:58:36.644053Z"
    }
   },
   "cell_type": "code",
   "source": "import pandas as pd",
   "id": "initial_id",
   "outputs": [],
   "execution_count": 1
  },
  {
   "metadata": {
    "ExecuteTime": {
     "end_time": "2024-11-24T18:58:37.330251Z",
     "start_time": "2024-11-24T18:58:37.320924Z"
    }
   },
   "cell_type": "code",
   "source": [
    "from config import data_root,weather_folder,gtfs_folder,gtfs_stops_file,passanger_info_folder,years_to_process\n",
    "'''data_root=\"data/\"\n",
    "weather_folder=data_root+\"odp/\"\n",
    "gtfs_folder=data_root+\"gtfsMavMenetrend/\"\n",
    "gtfs_stops_file=\"stops.txt\"\n",
    "'''\n",
    "def get_location_data():\n",
    "    gtfs_stops=pd.read_csv(gtfs_folder+gtfs_stops_file)\n",
    "    locs=[]\n",
    "    passanger_info_folders=[passanger_info_folder+str(y)+\"/\" for y in years_to_process]\n",
    "    for l in passanger_info_folders:\n",
    "        passanger_info_locations_file=l+\"t_szolg_helyek.txt\"\n",
    "        places_=pd.read_csv(passanger_info_locations_file,sep=',',encoding='iso-8859-2')\n",
    "        locs.append(places_)\n",
    "    places=pd.concat(locs,axis=0)\n",
    "    for l in locs:\n",
    "        del l\n",
    "    #TODO check multiple appearence\n",
    "    places=places.groupby('TELJES_NEV').agg(\"last\")\n",
    "    places_with_gtfs=places.merge(gtfs_stops,how='left', left_on='POLGARI_NEV', right_on='stop_name')\n",
    "    return places_with_gtfs\n"
   ],
   "id": "8a4137a9fbe94e6",
   "outputs": [],
   "execution_count": 2
  },
  {
   "metadata": {
    "ExecuteTime": {
     "end_time": "2024-11-24T18:58:38.456093Z",
     "start_time": "2024-11-24T18:58:37.332261Z"
    }
   },
   "cell_type": "code",
   "source": "locations=get_location_data()",
   "id": "78d4ac5e09764a12",
   "outputs": [],
   "execution_count": 3
  },
  {
   "metadata": {
    "ExecuteTime": {
     "end_time": "2024-11-24T18:58:38.477718Z",
     "start_time": "2024-11-24T18:58:38.457684Z"
    }
   },
   "cell_type": "code",
   "source": "locations.head()",
   "id": "64f7756f7f3022d9",
   "outputs": [
    {
     "data": {
      "text/plain": [
       "   OR_KOD  SZH_KOD           SZH_NEV       POLGARI_NEV  SZH_TIP_KOD  \\\n",
       "0      55  5504135  Aba-Sárkeresztúr  Aba-Sárkeresztúr            1   \n",
       "1      55  5507229          Abaliget          Abaliget            1   \n",
       "2      55  5515610         Abapuszta         Abapuszta            2   \n",
       "3      55  5513326          Abaújkér          Abaújkér            2   \n",
       "4      55  5513326          Abaújkér          Abaújkér            2   \n",
       "\n",
       "   TEHERVONAT  UTASFORGALOM  UZEMVALT  HATARALLOMAS  UZEM_VVALL_VPE_ID  ...  \\\n",
       "0         1.0           1.0         0             0                2.0  ...   \n",
       "1         1.0           1.0         0             0                2.0  ...   \n",
       "2         0.0           1.0         0             0                2.0  ...   \n",
       "3         0.0           1.0         0             0                2.0  ...   \n",
       "4         0.0           1.0         0             0                2.0  ...   \n",
       "\n",
       "   stop_name stop_desc   stop_lat   stop_lon  zone_id  stop_url location_type  \\\n",
       "0        NaN       NaN        NaN        NaN      NaN       NaN           NaN   \n",
       "1   Abaliget       NaN  46.152778  18.073611      NaN       NaN           0.0   \n",
       "2        NaN       NaN        NaN        NaN      NaN       NaN           NaN   \n",
       "3   Abaújkér       NaN  48.309444  21.198333      NaN       NaN           0.0   \n",
       "4   Abaújkér       NaN  48.309444  21.198333      NaN       NaN           0.0   \n",
       "\n",
       "   parent_station  stop_timezone  wheelchair_boarding  \n",
       "0             NaN            NaN                  NaN  \n",
       "1             NaN            NaN                  2.0  \n",
       "2             NaN            NaN                  NaN  \n",
       "3             NaN            NaN                  2.0  \n",
       "4             NaN            NaN                  2.0  \n",
       "\n",
       "[5 rows x 26 columns]"
      ],
      "text/html": [
       "<div>\n",
       "<style scoped>\n",
       "    .dataframe tbody tr th:only-of-type {\n",
       "        vertical-align: middle;\n",
       "    }\n",
       "\n",
       "    .dataframe tbody tr th {\n",
       "        vertical-align: top;\n",
       "    }\n",
       "\n",
       "    .dataframe thead th {\n",
       "        text-align: right;\n",
       "    }\n",
       "</style>\n",
       "<table border=\"1\" class=\"dataframe\">\n",
       "  <thead>\n",
       "    <tr style=\"text-align: right;\">\n",
       "      <th></th>\n",
       "      <th>OR_KOD</th>\n",
       "      <th>SZH_KOD</th>\n",
       "      <th>SZH_NEV</th>\n",
       "      <th>POLGARI_NEV</th>\n",
       "      <th>SZH_TIP_KOD</th>\n",
       "      <th>TEHERVONAT</th>\n",
       "      <th>UTASFORGALOM</th>\n",
       "      <th>UZEMVALT</th>\n",
       "      <th>HATARALLOMAS</th>\n",
       "      <th>UZEM_VVALL_VPE_ID</th>\n",
       "      <th>...</th>\n",
       "      <th>stop_name</th>\n",
       "      <th>stop_desc</th>\n",
       "      <th>stop_lat</th>\n",
       "      <th>stop_lon</th>\n",
       "      <th>zone_id</th>\n",
       "      <th>stop_url</th>\n",
       "      <th>location_type</th>\n",
       "      <th>parent_station</th>\n",
       "      <th>stop_timezone</th>\n",
       "      <th>wheelchair_boarding</th>\n",
       "    </tr>\n",
       "  </thead>\n",
       "  <tbody>\n",
       "    <tr>\n",
       "      <th>0</th>\n",
       "      <td>55</td>\n",
       "      <td>5504135</td>\n",
       "      <td>Aba-Sárkeresztúr</td>\n",
       "      <td>Aba-Sárkeresztúr</td>\n",
       "      <td>1</td>\n",
       "      <td>1.0</td>\n",
       "      <td>1.0</td>\n",
       "      <td>0</td>\n",
       "      <td>0</td>\n",
       "      <td>2.0</td>\n",
       "      <td>...</td>\n",
       "      <td>NaN</td>\n",
       "      <td>NaN</td>\n",
       "      <td>NaN</td>\n",
       "      <td>NaN</td>\n",
       "      <td>NaN</td>\n",
       "      <td>NaN</td>\n",
       "      <td>NaN</td>\n",
       "      <td>NaN</td>\n",
       "      <td>NaN</td>\n",
       "      <td>NaN</td>\n",
       "    </tr>\n",
       "    <tr>\n",
       "      <th>1</th>\n",
       "      <td>55</td>\n",
       "      <td>5507229</td>\n",
       "      <td>Abaliget</td>\n",
       "      <td>Abaliget</td>\n",
       "      <td>1</td>\n",
       "      <td>1.0</td>\n",
       "      <td>1.0</td>\n",
       "      <td>0</td>\n",
       "      <td>0</td>\n",
       "      <td>2.0</td>\n",
       "      <td>...</td>\n",
       "      <td>Abaliget</td>\n",
       "      <td>NaN</td>\n",
       "      <td>46.152778</td>\n",
       "      <td>18.073611</td>\n",
       "      <td>NaN</td>\n",
       "      <td>NaN</td>\n",
       "      <td>0.0</td>\n",
       "      <td>NaN</td>\n",
       "      <td>NaN</td>\n",
       "      <td>2.0</td>\n",
       "    </tr>\n",
       "    <tr>\n",
       "      <th>2</th>\n",
       "      <td>55</td>\n",
       "      <td>5515610</td>\n",
       "      <td>Abapuszta</td>\n",
       "      <td>Abapuszta</td>\n",
       "      <td>2</td>\n",
       "      <td>0.0</td>\n",
       "      <td>1.0</td>\n",
       "      <td>0</td>\n",
       "      <td>0</td>\n",
       "      <td>2.0</td>\n",
       "      <td>...</td>\n",
       "      <td>NaN</td>\n",
       "      <td>NaN</td>\n",
       "      <td>NaN</td>\n",
       "      <td>NaN</td>\n",
       "      <td>NaN</td>\n",
       "      <td>NaN</td>\n",
       "      <td>NaN</td>\n",
       "      <td>NaN</td>\n",
       "      <td>NaN</td>\n",
       "      <td>NaN</td>\n",
       "    </tr>\n",
       "    <tr>\n",
       "      <th>3</th>\n",
       "      <td>55</td>\n",
       "      <td>5513326</td>\n",
       "      <td>Abaújkér</td>\n",
       "      <td>Abaújkér</td>\n",
       "      <td>2</td>\n",
       "      <td>0.0</td>\n",
       "      <td>1.0</td>\n",
       "      <td>0</td>\n",
       "      <td>0</td>\n",
       "      <td>2.0</td>\n",
       "      <td>...</td>\n",
       "      <td>Abaújkér</td>\n",
       "      <td>NaN</td>\n",
       "      <td>48.309444</td>\n",
       "      <td>21.198333</td>\n",
       "      <td>NaN</td>\n",
       "      <td>NaN</td>\n",
       "      <td>0.0</td>\n",
       "      <td>NaN</td>\n",
       "      <td>NaN</td>\n",
       "      <td>2.0</td>\n",
       "    </tr>\n",
       "    <tr>\n",
       "      <th>4</th>\n",
       "      <td>55</td>\n",
       "      <td>5513326</td>\n",
       "      <td>Abaújkér</td>\n",
       "      <td>Abaújkér</td>\n",
       "      <td>2</td>\n",
       "      <td>0.0</td>\n",
       "      <td>1.0</td>\n",
       "      <td>0</td>\n",
       "      <td>0</td>\n",
       "      <td>2.0</td>\n",
       "      <td>...</td>\n",
       "      <td>Abaújkér</td>\n",
       "      <td>NaN</td>\n",
       "      <td>48.309444</td>\n",
       "      <td>21.198333</td>\n",
       "      <td>NaN</td>\n",
       "      <td>NaN</td>\n",
       "      <td>0.0</td>\n",
       "      <td>NaN</td>\n",
       "      <td>NaN</td>\n",
       "      <td>2.0</td>\n",
       "    </tr>\n",
       "  </tbody>\n",
       "</table>\n",
       "<p>5 rows × 26 columns</p>\n",
       "</div>"
      ]
     },
     "execution_count": 4,
     "metadata": {},
     "output_type": "execute_result"
    }
   ],
   "execution_count": 4
  },
  {
   "metadata": {
    "ExecuteTime": {
     "end_time": "2024-11-24T18:58:38.482395Z",
     "start_time": "2024-11-24T18:58:38.479237Z"
    }
   },
   "cell_type": "code",
   "source": "",
   "id": "49eaadebd38d5bb2",
   "outputs": [],
   "execution_count": 4
  },
  {
   "metadata": {
    "ExecuteTime": {
     "end_time": "2024-11-24T18:58:38.491631Z",
     "start_time": "2024-11-24T18:58:38.483401Z"
    }
   },
   "cell_type": "code",
   "source": [
    "from math import radians, sin, cos, sqrt, atan2\n",
    "\n",
    "# Function to calculate distance\n",
    "def calculate_distance(lat1, lon1, lat2, lon2):\n",
    "    R = 6371.0  # Earth radius in kilometers\n",
    "\n",
    "    lat1, lon1, lat2, lon2 = map(radians, [lat1, lon1, lat2, lon2])\n",
    "\n",
    "    dlon = lon2 - lon1\n",
    "    dlat = lat2 - lat1\n",
    "\n",
    "    a = sin(dlat / 2)**2 + cos(lat1) * cos(lat2) * sin(dlon / 2)**2\n",
    "    c = 2 * atan2(sqrt(a), sqrt(1 - a))\n",
    "\n",
    "    distance = R * c\n",
    "    return distance\n",
    "'''\n",
    "# Coordinates of two locations\n",
    "lat1, lon1 = 52.2296756, 21.0122287  # Warsaw, Poland\n",
    "lat2, lon2 = 41.8919300, 12.5113300  # Rome, Italy\n",
    "\n",
    "# Calculate the distance\n",
    "distance = calculate_distance(lat1, lon1, lat2, lon2)\n",
    "print(f\"The distance is {distance} kilometers.\")\n",
    "'''"
   ],
   "id": "3a7f3581910033e6",
   "outputs": [
    {
     "data": {
      "text/plain": [
       "'\\n# Coordinates of two locations\\nlat1, lon1 = 52.2296756, 21.0122287  # Warsaw, Poland\\nlat2, lon2 = 41.8919300, 12.5113300  # Rome, Italy\\n\\n# Calculate the distance\\ndistance = calculate_distance(lat1, lon1, lat2, lon2)\\nprint(f\"The distance is {distance} kilometers.\")\\n'"
      ]
     },
     "execution_count": 5,
     "metadata": {},
     "output_type": "execute_result"
    }
   ],
   "execution_count": 5
  },
  {
   "metadata": {
    "ExecuteTime": {
     "end_time": "2024-11-24T18:58:38.494831Z",
     "start_time": "2024-11-24T18:58:38.492639Z"
    }
   },
   "cell_type": "code",
   "source": "",
   "id": "c81f0d05f6198e31",
   "outputs": [],
   "execution_count": 5
  },
  {
   "metadata": {
    "ExecuteTime": {
     "end_time": "2024-11-24T18:58:38.508291Z",
     "start_time": "2024-11-24T18:58:38.495837Z"
    }
   },
   "cell_type": "code",
   "source": [
    "weather_meta_file_name=weather_folder+\"weather_meta_avg.csv\"\n",
    "met_stat_locations=pd.read_csv(weather_meta_file_name,sep=',',encoding='iso-8859-2')\n",
    "met_stat_locations"
   ],
   "id": "2f41417d653bdf50",
   "outputs": [
    {
     "data": {
      "text/plain": [
       "            Loc        Lat        Lon\n",
       "0      Budapest  47.507300  19.031400\n",
       "1      Debrecen  47.531438  21.625387\n",
       "2     Keszthely  46.742617  17.227400\n",
       "3       Miskolc  48.123882  20.837100\n",
       "4   Nyiregyhaza  47.969911  21.767344\n",
       "5          Pecs  46.087188  18.277832\n",
       "6        Sopron  47.687800  16.603233\n",
       "7        Szeged  46.251943  20.114371\n",
       "8   Szombathely  47.249480  16.623060\n",
       "9       Turkeve  47.105900  20.734733\n",
       "10     Budapest  47.507300  19.031400\n",
       "11     Debrecen  47.531438  21.625387\n",
       "12    Keszthely  46.742617  17.227400\n",
       "13      Miskolc  48.123882  20.837100\n",
       "14  Nyiregyhaza  47.969911  21.767344\n",
       "15         Pecs  46.087188  18.277832\n",
       "16       Sopron  47.687800  16.603233\n",
       "17       Szeged  46.289690  20.185060\n",
       "18  Szombathely  47.249480  16.623060\n",
       "19      Turkeve  47.105900  20.734733"
      ],
      "text/html": [
       "<div>\n",
       "<style scoped>\n",
       "    .dataframe tbody tr th:only-of-type {\n",
       "        vertical-align: middle;\n",
       "    }\n",
       "\n",
       "    .dataframe tbody tr th {\n",
       "        vertical-align: top;\n",
       "    }\n",
       "\n",
       "    .dataframe thead th {\n",
       "        text-align: right;\n",
       "    }\n",
       "</style>\n",
       "<table border=\"1\" class=\"dataframe\">\n",
       "  <thead>\n",
       "    <tr style=\"text-align: right;\">\n",
       "      <th></th>\n",
       "      <th>Loc</th>\n",
       "      <th>Lat</th>\n",
       "      <th>Lon</th>\n",
       "    </tr>\n",
       "  </thead>\n",
       "  <tbody>\n",
       "    <tr>\n",
       "      <th>0</th>\n",
       "      <td>Budapest</td>\n",
       "      <td>47.507300</td>\n",
       "      <td>19.031400</td>\n",
       "    </tr>\n",
       "    <tr>\n",
       "      <th>1</th>\n",
       "      <td>Debrecen</td>\n",
       "      <td>47.531438</td>\n",
       "      <td>21.625387</td>\n",
       "    </tr>\n",
       "    <tr>\n",
       "      <th>2</th>\n",
       "      <td>Keszthely</td>\n",
       "      <td>46.742617</td>\n",
       "      <td>17.227400</td>\n",
       "    </tr>\n",
       "    <tr>\n",
       "      <th>3</th>\n",
       "      <td>Miskolc</td>\n",
       "      <td>48.123882</td>\n",
       "      <td>20.837100</td>\n",
       "    </tr>\n",
       "    <tr>\n",
       "      <th>4</th>\n",
       "      <td>Nyiregyhaza</td>\n",
       "      <td>47.969911</td>\n",
       "      <td>21.767344</td>\n",
       "    </tr>\n",
       "    <tr>\n",
       "      <th>5</th>\n",
       "      <td>Pecs</td>\n",
       "      <td>46.087188</td>\n",
       "      <td>18.277832</td>\n",
       "    </tr>\n",
       "    <tr>\n",
       "      <th>6</th>\n",
       "      <td>Sopron</td>\n",
       "      <td>47.687800</td>\n",
       "      <td>16.603233</td>\n",
       "    </tr>\n",
       "    <tr>\n",
       "      <th>7</th>\n",
       "      <td>Szeged</td>\n",
       "      <td>46.251943</td>\n",
       "      <td>20.114371</td>\n",
       "    </tr>\n",
       "    <tr>\n",
       "      <th>8</th>\n",
       "      <td>Szombathely</td>\n",
       "      <td>47.249480</td>\n",
       "      <td>16.623060</td>\n",
       "    </tr>\n",
       "    <tr>\n",
       "      <th>9</th>\n",
       "      <td>Turkeve</td>\n",
       "      <td>47.105900</td>\n",
       "      <td>20.734733</td>\n",
       "    </tr>\n",
       "    <tr>\n",
       "      <th>10</th>\n",
       "      <td>Budapest</td>\n",
       "      <td>47.507300</td>\n",
       "      <td>19.031400</td>\n",
       "    </tr>\n",
       "    <tr>\n",
       "      <th>11</th>\n",
       "      <td>Debrecen</td>\n",
       "      <td>47.531438</td>\n",
       "      <td>21.625387</td>\n",
       "    </tr>\n",
       "    <tr>\n",
       "      <th>12</th>\n",
       "      <td>Keszthely</td>\n",
       "      <td>46.742617</td>\n",
       "      <td>17.227400</td>\n",
       "    </tr>\n",
       "    <tr>\n",
       "      <th>13</th>\n",
       "      <td>Miskolc</td>\n",
       "      <td>48.123882</td>\n",
       "      <td>20.837100</td>\n",
       "    </tr>\n",
       "    <tr>\n",
       "      <th>14</th>\n",
       "      <td>Nyiregyhaza</td>\n",
       "      <td>47.969911</td>\n",
       "      <td>21.767344</td>\n",
       "    </tr>\n",
       "    <tr>\n",
       "      <th>15</th>\n",
       "      <td>Pecs</td>\n",
       "      <td>46.087188</td>\n",
       "      <td>18.277832</td>\n",
       "    </tr>\n",
       "    <tr>\n",
       "      <th>16</th>\n",
       "      <td>Sopron</td>\n",
       "      <td>47.687800</td>\n",
       "      <td>16.603233</td>\n",
       "    </tr>\n",
       "    <tr>\n",
       "      <th>17</th>\n",
       "      <td>Szeged</td>\n",
       "      <td>46.289690</td>\n",
       "      <td>20.185060</td>\n",
       "    </tr>\n",
       "    <tr>\n",
       "      <th>18</th>\n",
       "      <td>Szombathely</td>\n",
       "      <td>47.249480</td>\n",
       "      <td>16.623060</td>\n",
       "    </tr>\n",
       "    <tr>\n",
       "      <th>19</th>\n",
       "      <td>Turkeve</td>\n",
       "      <td>47.105900</td>\n",
       "      <td>20.734733</td>\n",
       "    </tr>\n",
       "  </tbody>\n",
       "</table>\n",
       "</div>"
      ]
     },
     "execution_count": 6,
     "metadata": {},
     "output_type": "execute_result"
    }
   ],
   "execution_count": 6
  },
  {
   "metadata": {
    "ExecuteTime": {
     "end_time": "2024-11-24T18:58:39.542829Z",
     "start_time": "2024-11-24T18:58:38.509306Z"
    }
   },
   "cell_type": "code",
   "source": [
    "def get_min_dist_loc(loc_df,lat,lon):\n",
    "    loc_df['d']=loc_df.apply(lambda x: calculate_distance(lat,lon,x['Lat'],x['Lon']),axis=1)\n",
    "    return loc_df.loc[loc_df['d'].idxmin()]['Loc']\n",
    "def get_Locations_coordinates(locations_df,met_locations):\n",
    "    coord_dict=locations_df[['SZH_KOD','stop_lat','stop_lon']].loc[locations_df['stop_lat'].notna()]\n",
    "    coord_dict['SZH_KOD']=coord_dict['SZH_KOD'].apply(lambda x: str(x)[2:]).astype(int)\n",
    "    coord_dict['Legközelebbi állomás']=coord_dict.apply(lambda x: get_min_dist_loc(met_locations,x['stop_lat'],x['stop_lon']),axis=1)\n",
    "    return coord_dict\n",
    "coord_dict=get_Locations_coordinates(locations,met_stat_locations)"
   ],
   "id": "22d840f0e2a136fc",
   "outputs": [],
   "execution_count": 7
  },
  {
   "metadata": {
    "ExecuteTime": {
     "end_time": "2024-11-24T18:58:39.554305Z",
     "start_time": "2024-11-24T18:58:39.543839Z"
    }
   },
   "cell_type": "code",
   "source": "coord_dict.head()",
   "id": "b9e074841f2bc598",
   "outputs": [
    {
     "data": {
      "text/plain": [
       "   SZH_KOD   stop_lat   stop_lon Legközelebbi állomás\n",
       "1     7229  46.152778  18.073611                 Pecs\n",
       "3    13326  48.309444  21.198333              Miskolc\n",
       "4    13326  48.309444  21.198333              Miskolc\n",
       "5    13300  48.286944  21.181667              Miskolc\n",
       "6    13318  48.268333  21.179722              Miskolc"
      ],
      "text/html": [
       "<div>\n",
       "<style scoped>\n",
       "    .dataframe tbody tr th:only-of-type {\n",
       "        vertical-align: middle;\n",
       "    }\n",
       "\n",
       "    .dataframe tbody tr th {\n",
       "        vertical-align: top;\n",
       "    }\n",
       "\n",
       "    .dataframe thead th {\n",
       "        text-align: right;\n",
       "    }\n",
       "</style>\n",
       "<table border=\"1\" class=\"dataframe\">\n",
       "  <thead>\n",
       "    <tr style=\"text-align: right;\">\n",
       "      <th></th>\n",
       "      <th>SZH_KOD</th>\n",
       "      <th>stop_lat</th>\n",
       "      <th>stop_lon</th>\n",
       "      <th>Legközelebbi állomás</th>\n",
       "    </tr>\n",
       "  </thead>\n",
       "  <tbody>\n",
       "    <tr>\n",
       "      <th>1</th>\n",
       "      <td>7229</td>\n",
       "      <td>46.152778</td>\n",
       "      <td>18.073611</td>\n",
       "      <td>Pecs</td>\n",
       "    </tr>\n",
       "    <tr>\n",
       "      <th>3</th>\n",
       "      <td>13326</td>\n",
       "      <td>48.309444</td>\n",
       "      <td>21.198333</td>\n",
       "      <td>Miskolc</td>\n",
       "    </tr>\n",
       "    <tr>\n",
       "      <th>4</th>\n",
       "      <td>13326</td>\n",
       "      <td>48.309444</td>\n",
       "      <td>21.198333</td>\n",
       "      <td>Miskolc</td>\n",
       "    </tr>\n",
       "    <tr>\n",
       "      <th>5</th>\n",
       "      <td>13300</td>\n",
       "      <td>48.286944</td>\n",
       "      <td>21.181667</td>\n",
       "      <td>Miskolc</td>\n",
       "    </tr>\n",
       "    <tr>\n",
       "      <th>6</th>\n",
       "      <td>13318</td>\n",
       "      <td>48.268333</td>\n",
       "      <td>21.179722</td>\n",
       "      <td>Miskolc</td>\n",
       "    </tr>\n",
       "  </tbody>\n",
       "</table>\n",
       "</div>"
      ]
     },
     "execution_count": 8,
     "metadata": {},
     "output_type": "execute_result"
    }
   ],
   "execution_count": 8
  },
  {
   "metadata": {
    "ExecuteTime": {
     "end_time": "2024-11-24T18:58:39.562706Z",
     "start_time": "2024-11-24T18:58:39.557317Z"
    }
   },
   "cell_type": "code",
   "source": [
    "'''\n",
    "event_file_name=\"vonat_esemenyek_\"\n",
    "\n",
    "events=pd.read_csv(passanger_info_folder+event_file_name+str(2)+'.txt',sep=',',encoding='iso-8859-2')\n",
    "events.head()\n",
    "'''"
   ],
   "id": "fb519e53103a63fc",
   "outputs": [
    {
     "data": {
      "text/plain": [
       "'\\nevent_file_name=\"vonat_esemenyek_\"\\n\\nevents=pd.read_csv(passanger_info_folder+event_file_name+str(2)+\\'.txt\\',sep=\\',\\',encoding=\\'iso-8859-2\\')\\nevents.head()\\n'"
      ]
     },
     "execution_count": 9,
     "metadata": {},
     "output_type": "execute_result"
    }
   ],
   "execution_count": 9
  },
  {
   "metadata": {
    "ExecuteTime": {
     "end_time": "2024-11-24T18:58:39.569717Z",
     "start_time": "2024-11-24T18:58:39.564715Z"
    }
   },
   "cell_type": "code",
   "source": "#a=events['IDO'].unique()",
   "id": "399a29cb713a8c82",
   "outputs": [],
   "execution_count": 10
  },
  {
   "metadata": {
    "ExecuteTime": {
     "end_time": "2024-11-24T18:58:39.576467Z",
     "start_time": "2024-11-24T18:58:39.572243Z"
    }
   },
   "cell_type": "code",
   "source": "#days=pd.to_datetime(events['KOZLEKEDESI_NAP'],format='%Y.%m.%d',errors='coerce')",
   "id": "e5f784045c0580ce",
   "outputs": [],
   "execution_count": 11
  },
  {
   "metadata": {
    "ExecuteTime": {
     "end_time": "2024-11-24T18:58:39.584473Z",
     "start_time": "2024-11-24T18:58:39.577478Z"
    }
   },
   "cell_type": "code",
   "source": [
    "'''\n",
    "min_date=days.min()\n",
    "max_date=days.max()\n",
    "print(min_date,' - ',max_date)\n",
    "'''"
   ],
   "id": "b23ae57bce296d51",
   "outputs": [
    {
     "data": {
      "text/plain": [
       "\"\\nmin_date=days.min()\\nmax_date=days.max()\\nprint(min_date,' - ',max_date)\\n\""
      ]
     },
     "execution_count": 12,
     "metadata": {},
     "output_type": "execute_result"
    }
   ],
   "execution_count": 12
  },
  {
   "metadata": {},
   "cell_type": "markdown",
   "source": [
    "Mit használunk a késésnél előrejelzésnél?\n",
    "- Szakasz: \n",
    "- előző késés\n",
    "- előző vonat áthaladás\n",
    "- előző vonat késés \n",
    "\n",
    "- szakaszhoz hozzáadjuk pálya állapotot\n",
    "\n",
    "potenciálisan :\n",
    "- átlagsebesség a szakaszon\n",
    "\n"
   ],
   "id": "d835bd0b19df3878"
  },
  {
   "metadata": {
    "ExecuteTime": {
     "end_time": "2024-11-24T18:58:39.589847Z",
     "start_time": "2024-11-24T18:58:39.586986Z"
    }
   },
   "cell_type": "code",
   "source": "",
   "id": "974165d3c885123b",
   "outputs": [],
   "execution_count": 12
  },
  {
   "metadata": {
    "ExecuteTime": {
     "end_time": "2024-11-24T18:58:39.950933Z",
     "start_time": "2024-11-24T18:58:39.590856Z"
    }
   },
   "cell_type": "code",
   "source": [
    "weather_file_name='weather.csv'\n",
    "import datetime\n",
    "\n",
    "weather_df=pd.read_csv(weather_folder+weather_file_name,sep=',',encoding='iso-8859-2',parse_dates=['Time'],date_format='%Y-%m-%d')\n",
    "#weather_df=weather_df.loc[weather_df['Time'].between(min_date,max_date)]\n"
   ],
   "id": "1941e7dff891a7fd",
   "outputs": [],
   "execution_count": 13
  },
  {
   "metadata": {
    "ExecuteTime": {
     "end_time": "2024-11-24T18:58:39.963689Z",
     "start_time": "2024-11-24T18:58:39.952967Z"
    }
   },
   "cell_type": "code",
   "source": "weather_df.head()",
   "id": "c48e253ffe7ac32c",
   "outputs": [
    {
     "data": {
      "text/plain": [
       "        Loc       Time   tx     t    tn    r\n",
       "0  Budapest 1901-01-01 -0.4  -5.7  -9.2  1.9\n",
       "1  Budapest 1901-01-02 -6.6  -9.3 -11.3  0.0\n",
       "2  Budapest 1901-01-03 -6.6  -9.1 -10.8  0.8\n",
       "3  Budapest 1901-01-04 -9.8 -11.0 -12.4  0.2\n",
       "4  Budapest 1901-01-05 -9.0 -11.1 -15.5  0.0"
      ],
      "text/html": [
       "<div>\n",
       "<style scoped>\n",
       "    .dataframe tbody tr th:only-of-type {\n",
       "        vertical-align: middle;\n",
       "    }\n",
       "\n",
       "    .dataframe tbody tr th {\n",
       "        vertical-align: top;\n",
       "    }\n",
       "\n",
       "    .dataframe thead th {\n",
       "        text-align: right;\n",
       "    }\n",
       "</style>\n",
       "<table border=\"1\" class=\"dataframe\">\n",
       "  <thead>\n",
       "    <tr style=\"text-align: right;\">\n",
       "      <th></th>\n",
       "      <th>Loc</th>\n",
       "      <th>Time</th>\n",
       "      <th>tx</th>\n",
       "      <th>t</th>\n",
       "      <th>tn</th>\n",
       "      <th>r</th>\n",
       "    </tr>\n",
       "  </thead>\n",
       "  <tbody>\n",
       "    <tr>\n",
       "      <th>0</th>\n",
       "      <td>Budapest</td>\n",
       "      <td>1901-01-01</td>\n",
       "      <td>-0.4</td>\n",
       "      <td>-5.7</td>\n",
       "      <td>-9.2</td>\n",
       "      <td>1.9</td>\n",
       "    </tr>\n",
       "    <tr>\n",
       "      <th>1</th>\n",
       "      <td>Budapest</td>\n",
       "      <td>1901-01-02</td>\n",
       "      <td>-6.6</td>\n",
       "      <td>-9.3</td>\n",
       "      <td>-11.3</td>\n",
       "      <td>0.0</td>\n",
       "    </tr>\n",
       "    <tr>\n",
       "      <th>2</th>\n",
       "      <td>Budapest</td>\n",
       "      <td>1901-01-03</td>\n",
       "      <td>-6.6</td>\n",
       "      <td>-9.1</td>\n",
       "      <td>-10.8</td>\n",
       "      <td>0.8</td>\n",
       "    </tr>\n",
       "    <tr>\n",
       "      <th>3</th>\n",
       "      <td>Budapest</td>\n",
       "      <td>1901-01-04</td>\n",
       "      <td>-9.8</td>\n",
       "      <td>-11.0</td>\n",
       "      <td>-12.4</td>\n",
       "      <td>0.2</td>\n",
       "    </tr>\n",
       "    <tr>\n",
       "      <th>4</th>\n",
       "      <td>Budapest</td>\n",
       "      <td>1901-01-05</td>\n",
       "      <td>-9.0</td>\n",
       "      <td>-11.1</td>\n",
       "      <td>-15.5</td>\n",
       "      <td>0.0</td>\n",
       "    </tr>\n",
       "  </tbody>\n",
       "</table>\n",
       "</div>"
      ]
     },
     "execution_count": 14,
     "metadata": {},
     "output_type": "execute_result"
    }
   ],
   "execution_count": 14
  },
  {
   "metadata": {
    "ExecuteTime": {
     "end_time": "2024-11-24T19:29:32.636249Z",
     "start_time": "2024-11-24T19:28:22.905482Z"
    }
   },
   "cell_type": "code",
   "source": [
    "from config import event_file_name\n",
    "import numpy as np\n",
    "\n",
    "\n",
    "date_format='%Y.%m.%d %H:%M:%S'\n",
    "drop_cols=['IND_CEL_JELZO','HATARESEM_JELZO','KOFE_IDO','KOFE_MODDAT']\n",
    "\n",
    "\n",
    "# TODO lehet évenként kezelni\n",
    "def process_events(events):\n",
    "    \n",
    "    events=events.drop(columns=drop_cols)\n",
    "    events['IDO']=pd.to_datetime(events['IDO'],format=date_format,errors='coerce')\n",
    "    events['TENY_IDO']=pd.to_datetime(events['TENY_IDO'],format=date_format,errors='coerce')\n",
    "    events['OSSZ_KESES']=events['TENY_IDO']-events['IDO']\n",
    "\n",
    "    events['SZH_KOD']=pd.to_numeric(events.apply(lambda x:'%s%s' % (x['ORSZAG_KOD'],x['ALLOMAS']),axis=1))\n",
    "\n",
    "\n",
    "    events[['ELOZO_KESES','ELOZO_ALLOMAS','ELOZO_ESEMENY_IDO','ELOZO_SZH_KOD']]=events.groupby(['VONATSZAM','KOZLEKEDESI_NAP'])[['OSSZ_KESES','ALLOMAS','IDO','SZH_KOD']].shift()\n",
    "    events['KESES']=events['OSSZ_KESES']-events['ELOZO_KESES'] \n",
    "\n",
    "    events['TERV_IDOTARTAM (m)']= (events['IDO']-events['ELOZO_ESEMENY_IDO']).dt.seconds/60\n",
    "    events['RELATIV_KESES']=  (events['KESES']/np.timedelta64(1, 'm'))/events['TERV_IDOTARTAM (m)']\n",
    "\n",
    "    events[['ELOZO_TERV_IDOTARTAM (m)','ELOZO_RELATIV_KESES']]=events.groupby(['VONATSZAM','KOZLEKEDESI_NAP'])[['TERV_IDOTARTAM (m)','RELATIV_KESES']].shift()\n",
    "\n",
    "\n",
    "   \n",
    "    events[['ELOZO_ALLOMAS','ELOZO_SZH_KOD']]=events[['ELOZO_ALLOMAS','ELOZO_SZH_KOD']].fillna(0)\n",
    "    events['ELOZO_ALLOMAS'] = events['ELOZO_ALLOMAS'].astype(int)\n",
    "    events['ELOZO_SZH_KOD'] = events['ELOZO_SZH_KOD'].astype(int)\n",
    "\n",
    "\n",
    "    # TODO duplicate?\n",
    "    events['KOZLEKEDESI_NAP']=pd.to_datetime(events['KOZLEKEDESI_NAP'],format=\"%Y.%m.%d\",errors='coerce')\n",
    "    #events['KOZLEKEDESI_NAP_DT']=events['IDO'].dt.date\n",
    "    events['MENETREND_IDO']=events['IDO'].dt.time\n",
    "    #events['prev_Delay']=events.groupby(['VONATSZAM','KOZLEKEDESI_NAP'])['Delay'].shift()\n",
    "    min_date=events['KOZLEKEDESI_NAP'].min()\n",
    "    max_date=events['KOZLEKEDESI_NAP'].max()\n",
    "    print(min_date,' - ',max_date)\n",
    "    return events,min_date,max_date\n",
    "\n",
    "def add_weather_data(coord_dict,weather_df,events):\n",
    "    #events = e.copy()\n",
    "    events['IndulóÁllomás']=events.groupby(['VONATSZAM','KOZLEKEDESI_NAP']).first().reset_index()['ALLOMAS'].astype(int)\n",
    "    events=events.merge(coord_dict, how='left', left_on='IndulóÁllomás',right_on='SZH_KOD')\n",
    "    events = events.merge(weather_df, how='left', left_on=['Legközelebbi állomás', 'KOZLEKEDESI_NAP'],\n",
    "                              right_on=['Loc', 'Time'])\n",
    "    return events\n",
    "\n",
    "def get_events_data(weather_df,coord_dict,year=2022,line=2 ):\n",
    "    events_=[]\n",
    "    l= passanger_info_folder + str(year) + \"/\"\n",
    "    e_=pd.read_csv(l+event_file_name+str(line)+'.txt',sep=',',encoding='iso-8859-2')\n",
    "    events_.append(e_)\n",
    "    \n",
    "    e=pd.concat(events_,axis=0)\n",
    "    del events_\n",
    "    e,min_date,max_date=process_events(e)\n",
    "    weather_df=weather_df.loc[weather_df['Time'].between(min_date,max_date)]\n",
    "\n",
    "    e=add_weather_data(coord_dict,weather_df,e)\n",
    "    junk_from_joins=['Loc','SZH_KOD_x','SZH_KOD_y','stop_lat','stop_lon','Time','Legközelebbi állomás','IndulóÁllomás']\n",
    "    \n",
    "    \n",
    "    e.drop(columns=junk_from_joins,inplace=True)\n",
    "    return e\n",
    "\n",
    "events_2=get_events_data(weather_df,coord_dict)  \n",
    "\n"
   ],
   "id": "6f45929f1def63db",
   "outputs": [
    {
     "name": "stderr",
     "output_type": "stream",
     "text": [
      "C:\\Users\\ELTE\\AppData\\Local\\Temp\\ipykernel_7280\\2781791593.py:56: DtypeWarning: Columns (16,17,28) have mixed types. Specify dtype option on import or set low_memory=False.\n",
      "  e_=pd.read_csv(l+event_file_name+str(line)+'.txt',sep=',',encoding='iso-8859-2')\n"
     ]
    },
    {
     "name": "stdout",
     "output_type": "stream",
     "text": [
      "2022-01-01 00:00:00  -  2023-12-31 00:00:00\n"
     ]
    }
   ],
   "execution_count": 20
  },
  {
   "metadata": {
    "ExecuteTime": {
     "end_time": "2024-11-24T19:00:00.956404Z",
     "start_time": "2024-11-24T19:00:00.932678Z"
    }
   },
   "cell_type": "code",
   "source": "",
   "id": "ea37367942d8a295",
   "outputs": [],
   "execution_count": 15
  },
  {
   "metadata": {},
   "cell_type": "markdown",
   "source": "",
   "id": "c19b7a35116960fd"
  },
  {
   "metadata": {
    "ExecuteTime": {
     "end_time": "2024-11-24T19:36:58.428144Z",
     "start_time": "2024-11-24T19:36:50.349375Z"
    }
   },
   "cell_type": "code",
   "source": [
    "import numpy as np\n",
    "#elegánsabb lenne VONATSZAM és VONAL nélkül, de ahhot több adat kell majd..\n",
    "# ELOZO_ESEMENY_IDO a line status joinhoz -terv\n",
    "#TODO  LINE egy közelítés az állapot leírására, ezen majd lehet dolgozni azért...\n",
    "#TODO ELOZO_KESES elkodolhat maradek információkat ezen is lehet majd dolgozni, bár rendenkezésre állhat\n",
    "#TODO VONATSZAM szintén menetrendi, prioritás információk, de túl sok lehetőség,és ellentmond a logikánknak inkább érdemes dobni\n",
    "#érdekes lehet : MOZDONYAZONOSITO, UIC, VONTATO_TIPUS\n",
    "to_keep=['VONAL','VONATSZAM','VONTATO_TIPUS','IDO','ELOZO_ESEMENY_IDO','ALLOMAS','ELOZO_ALLOMAS','MENETREND_IDO','OSSZ_KESES','ELOZO_KESES','KESES','RELATIV_KESES','TERV_IDOTARTAM (m)','tx','t','tn','r']\n",
    "def get_events_pred_data(processed, line=2):\n",
    "    #ezek azok amik kellenek most, és később is\n",
    "    processed=processed[to_keep]\n",
    "    processed['LINE']=line\n",
    "    processed['ID']=  processed['ELOZO_ALLOMAS'].astype(str)+\"-\"+processed['ALLOMAS'].astype(str)\n",
    "\n",
    "    processed.drop(columns=['ELOZO_ALLOMAS','ALLOMAS','IDO'],inplace=True)\n",
    "    return processed\n",
    "d2=get_events_pred_data(events_2,2)\n",
    "d2.to_pickle(data_root+'test_events_data.pkl')\n"
   ],
   "id": "702744f338f76079",
   "outputs": [
    {
     "name": "stderr",
     "output_type": "stream",
     "text": [
      "C:\\Users\\ELTE\\AppData\\Local\\Temp\\ipykernel_7280\\759602514.py:12: SettingWithCopyWarning: \n",
      "A value is trying to be set on a copy of a slice from a DataFrame.\n",
      "Try using .loc[row_indexer,col_indexer] = value instead\n",
      "\n",
      "See the caveats in the documentation: https://pandas.pydata.org/pandas-docs/stable/user_guide/indexing.html#returning-a-view-versus-a-copy\n",
      "  processed['LINE']=line\n",
      "C:\\Users\\ELTE\\AppData\\Local\\Temp\\ipykernel_7280\\759602514.py:13: SettingWithCopyWarning: \n",
      "A value is trying to be set on a copy of a slice from a DataFrame.\n",
      "Try using .loc[row_indexer,col_indexer] = value instead\n",
      "\n",
      "See the caveats in the documentation: https://pandas.pydata.org/pandas-docs/stable/user_guide/indexing.html#returning-a-view-versus-a-copy\n",
      "  processed['ID']=  processed['ELOZO_ALLOMAS'].astype(str)+\"-\"+processed['ALLOMAS'].astype(str)\n",
      "C:\\Users\\ELTE\\AppData\\Local\\Temp\\ipykernel_7280\\759602514.py:15: SettingWithCopyWarning: \n",
      "A value is trying to be set on a copy of a slice from a DataFrame\n",
      "\n",
      "See the caveats in the documentation: https://pandas.pydata.org/pandas-docs/stable/user_guide/indexing.html#returning-a-view-versus-a-copy\n",
      "  processed.drop(columns=['ELOZO_ALLOMAS','ALLOMAS','IDO'],inplace=True)\n"
     ]
    }
   ],
   "execution_count": 21
  },
  {
   "metadata": {},
   "cell_type": "code",
   "source": [
    "\n",
    "    "
   ],
   "id": "99f300843341dd5c",
   "outputs": [],
   "execution_count": null
  },
  {
   "metadata": {},
   "cell_type": "code",
   "source": "",
   "id": "d68626d0826adec9",
   "outputs": [],
   "execution_count": null
  },
  {
   "metadata": {},
   "cell_type": "markdown",
   "source": [
    "# Vonatfej - TODO\n",
    "nem tudom mire lesz még jó.."
   ],
   "id": "4d8c7a34270cc279"
  },
  {
   "metadata": {},
   "cell_type": "code",
   "source": [
    "#TODO \n",
    "def get_train_head(line=2):\n",
    "    heads=[]\n",
    "    for l in  [passanger_info_folder+str(y)+\"/\" for y in years_to_process]:\n",
    "        fn = l + f'vonat_fej_{str(line)}.txt'\n",
    "        h = pd.read_csv(fn,sep=',',encoding='iso-8859-2')\n",
    "        heads.append(h)\n",
    "    train_head=pd.concat(heads,axis=0)    \n",
    "    train_head['ERK_IDO_MN']=pd.to_datetime(train_head['ERK_IDO'],format='%Y.%m.%d %H:%M:%S').dt.time\n",
    "    train_head['IND_IDO_MN']=pd.to_datetime(train_head['IND_IDO'],format='%Y.%m.%d %H:%M:%S').dt.time\n",
    "    return train_head\n",
    "\n",
    "head_2=get_train_head()"
   ],
   "id": "dc7d03800311f48e",
   "outputs": [],
   "execution_count": null
  },
  {
   "metadata": {},
   "cell_type": "code",
   "source": "head_2.head()",
   "id": "26ce0e6c70d53d08",
   "outputs": [],
   "execution_count": null
  },
  {
   "metadata": {},
   "cell_type": "code",
   "source": [
    "def get_different_heads(train_head,train_id):\n",
    "    if train_id:\n",
    "        train_head=train_head.loc[train_head['VONATSZAM']==train_id]\n",
    "    train_head['KOZLEKEDESI_NAP_DT']=pd.to_datetime(train_head['IND_IDO'],format='%Y.%m.%d %H:%M:%S').dt.date\n",
    "    separate_trains_in_schedule=train_head[['VONATSZAM','VNEM_KOD','IND_ALL_KOD','CEL_ALL_KOD','CEL_ESEMENY_SORSZAM','KOZLEKEDESI_NAP_DT']].drop_duplicates()\n",
    "    route_start_ends= separate_trains_in_schedule.groupby(['VONATSZAM','IND_ALL_KOD','CEL_ALL_KOD','CEL_ESEMENY_SORSZAM'])['KOZLEKEDESI_NAP_DT'].agg(first=\"min\",last=\"max\",count=\"count\")\n",
    "    return route_start_ends\n",
    "def get_different_schedules(head,events,train_id=None):\n",
    "    train_event_data=events\n",
    "    if train_id:\n",
    "        train_event_data=train_event_data.loc[train_event_data['VONATSZAM']==train_id]\n",
    "    route_start_ends = get_different_heads(head,train_id)\n",
    "    schedule_variants=train_event_data.loc[train_event_data['KOZLEKEDESI_NAP_DT'].isin(route_start_ends['first'])]\n",
    "    return schedule_variants\n",
    "\n",
    "    \n",
    "    \n",
    "    \n",
    "\n",
    "variants = get_different_schedules(head_2,events_2,train_id=2010)    "
   ],
   "id": "d342a55568413412",
   "outputs": [],
   "execution_count": null
  },
  {
   "metadata": {},
   "cell_type": "markdown",
   "source": "# Menetrend variációk Vizualizációja",
   "id": "b3e9deea8c1b6708"
  },
  {
   "metadata": {},
   "cell_type": "code",
   "source": [
    "import datetime\n",
    "\n",
    "variants = variants[['KOZLEKEDESI_NAP_DT', 'ELOZO_ALLOMAS', 'ELOZO_ESEMENY_IDO', 'ALLOMAS', 'MENETREND_IDO']].dropna()\n",
    "variants['ELOZO_ESEMENY_IDO']=variants['ELOZO_ESEMENY_IDO'].dt.time\n",
    "# todo astype to creation\n",
    "\n",
    "variants.head()"
   ],
   "id": "aba5bd34947e47ed",
   "outputs": [],
   "execution_count": null
  },
  {
   "metadata": {},
   "cell_type": "code",
   "source": [
    "\n",
    "today_ = datetime.date.today()\n",
    "variants['Start'] = variants.apply(\n",
    "    lambda x: datetime.datetime.combine(today_, x['ELOZO_ESEMENY_IDO']), axis=1)\n",
    "variants['Finish'] = variants.apply(\n",
    "    lambda x: datetime.datetime.combine(today_, x['MENETREND_IDO']), axis=1)\n",
    "variants['Task'] = variants['ELOZO_ALLOMAS'].astype(str) + '-' + \\\n",
    "                                     variants['ALLOMAS'].astype(str)\n",
    "\n"
   ],
   "id": "e0aed58f8fa3a8dd",
   "outputs": [],
   "execution_count": null
  },
  {
   "metadata": {},
   "cell_type": "code",
   "source": [
    "import plotly.express as px\n",
    "\n",
    "fig = px.timeline(variants, x_start=\"Start\", x_end=\"Finish\", y=\"KOZLEKEDESI_NAP_DT\", color=\"Task\")\n",
    "fig.update_yaxes(autorange=\"reversed\", dtick=1)\n",
    "\n",
    "fig.show()"
   ],
   "id": "b6d45a661ac39c92",
   "outputs": [],
   "execution_count": null
  },
  {
   "metadata": {},
   "cell_type": "markdown",
   "source": [
    "### Data Preprocessing \n",
    "\n",
    "# Lassújel és vágányzár"
   ],
   "id": "fa074e14a58b5f4f"
  },
  {
   "metadata": {},
   "cell_type": "code",
   "source": [
    "import pandas as pd\n",
    "\n",
    "slow_signal_tables = pd.read_excel('data/obstacles/lassújel_2_147_vonal_20220101-20231231_AI-hoz.xlsx',\n",
    "                                   sheet_name=['ZVZ_KEIHEAD', 'ZVZ_KIZARASOK', 'ZVZ_VZTHEAD'])\n",
    "closure_tables = pd.read_excel('data/obstacles/vágányzár_2_147_vonal_20220101-20231231_AI-hoz.xlsx    ',\n",
    "                               sheet_name=['ZVZ_KIZARASOK', 'ZVZ_VZTHEAD'])\n"
   ],
   "id": "858dc80c4afbb044",
   "outputs": [],
   "execution_count": null
  },
  {
   "metadata": {},
   "cell_type": "code",
   "source": [
    "ss_parts=slow_signal_tables['ZVZ_KIZARASOK'].copy()\n",
    "ss_parts.drop(axis=0,index=0,inplace=True)\n",
    "\n",
    "\n",
    "ss_parts['Kizárásszám']=ss_parts['Kizárásszám'].astype(str)\n",
    "\n",
    "\n",
    "to_drop=['Kizárás tétel','Kizárás típusa','Kezdő SZH statisztikai szám','Záró SZH statisztikai szám','Lassúmenet kezdő szelvény','Lassúmenet záró szelvény','Változó munkahelyen kitűzött','Lassúmenet mértéke tehervonatra (km/h)','Kis teljesítményű dízel kitoló','Dízel kitoló szükséges','Nagy teljesítményű dízel kitoló', 'Állomási bizt.ber. kikapcsolás szükséges','Vonali bizt. ber. kikapcsolás szükséges',\"INF vonal\",\"INF vonal.1\",\"HÜSZ vonal\",\"HÜSZ vonal.1\"]\n",
    "#todo később jól jöhetnek: \n",
    "# Lassúmenet kezdő szelvény, Lassúmenet záró szelvény,Lassúmenet mértéke tehervonatra (km/h),Kis teljesítményű dízel kitoló (csupa 0),Dízel kitoló szükséges (nincs ilyen),Nagy teljesítményű dízel kitoló (nincs ilyen),Állomási bizt.ber. kikapcsolás szükséges(nincs ilyen)\n",
    "# kérdéses: Változó munkahelyen kitűzött, Kizárás típusa (redundáns?)\n",
    "#todo kezdő, záró szolgálati hely mindig egy minimális szakasz?\n",
    "cols= ss_parts.columns\n",
    "for d in to_drop:\n",
    "    if d not in cols:\n",
    "        print('Missing:',d)\n",
    "    \n",
    "ss_parts.drop(columns=to_drop,inplace=True)\n",
    "\n",
    "#lassúmenet iránya egy adott sínpárra/vágányra vonatkozik, de sínpár is lehet\n",
    "# Vágányzár VZ írja le melyik vágányról beszélünk.\n",
    "\n",
    "# ha > akkor a jobb oldali lehet érdekesebb \n",
    "#ss_parts['S_ID']=ss_parts.apply(lambda x: transform_SZH_KOD(x['Kezdő szolgálati hely'],x['Záró szolgálati hely']) if \">\" in x[\"Lassúmenet iránya\"] else -1   ,axis=1)\n",
    "\n",
    "# ha  < akkor a bal \n",
    "#ss_parts['S_ID_R']=ss_parts.apply(lambda x: transform_SZH_KOD(x['Záró szolgálati hely'],x['Kezdő szolgálati hely']) if \"<\" in x[\"Lassúmenet iránya\"] else -1 ,axis=1)\n",
    "\n",
    "# kellene olyasmi hogy Irány szerinti oldal, és ellentétes oldal lezárva ehhez érdemes lehet kettészedni az irányokat..\n",
    "# todo: VZ van jobb/bal oldali közlekedés? most abból indulunk ki, hogy van valmilyen szinten azaz szakszmenti és ellentétes - J: I(rány) a nem fordítottnál, E(llentétes) a fordítottnál, B  E(llenttes) a nem fordítottnál és I a fordítottnál\n",
    "\n",
    "#todo VZ elméletben lehet A is, gyakorlatban csak 1 és 4 van\n",
    "ss_parts.loc[ss_parts['Záró szolgálati hely'].isna(),'Záró szolgálati hely']=ss_parts['Kezdő szolgálati hely']\n",
    "\n",
    "ss_parts_fw = ss_parts[ss_parts['Lassúmenet iránya'].str.contains(\">\")]\n",
    "ss_parts_bw = ss_parts[ss_parts['Lassúmenet iránya'].str.contains(\"<\")]\n",
    "\n",
    "def set_section_id(df):\n",
    "    df['Kezdő szolgálati hely']=df['Kezdő szolgálati hely'].str.replace('M-55','')\n",
    "    df['Záró szolgálati hely']=df['Záró szolgálati hely'].str.replace('M-55','')\n",
    "    \n",
    "    df['ID']=df['Kezdő szolgálati hely'].astype(str)+\"-\"+df['Záró szolgálati hely'].astype(str)\n",
    "\n",
    "def encode_directions(dff,dfb):\n",
    "    dff[\"I\"]=dff.apply(lambda x: 1 if x['Vágány (VZ)'] in [1,3,4]  else 0,axis=1)\n",
    "    dff[\"E\"]=dff.apply(lambda x: 1 if x['Vágány (VZ)'] in [2,3,4]  else 0,axis=1)\n",
    "    dff[\"ÁI\"]=dff.apply(lambda x: 1 if x['Átmenő vágány típusa'] in ['A','Á','J']  else 0,axis=1)\n",
    "    dff[\"ÁE\"]=dff.apply(lambda x: 1 if x['Átmenő vágány típusa'] in ['A','Á','B']  else 0,axis=1)\n",
    "    \n",
    "    dfb[\"I\"]=dfb.apply(lambda x: 1 if x['Vágány (VZ)'] in [2,3,4]  else 0,axis=1)\n",
    "    dfb[\"E\"]=dfb.apply(lambda x: 1 if x['Vágány (VZ)'] in [1,3,4]  else 0,axis=1)\n",
    "    dfb[\"ÁI\"]=dfb.apply(lambda x: 1 if x['Átmenő vágány típusa'] in ['A','Á','B']  else 0,axis=1)\n",
    "    dfb[\"ÁE\"]=dfb.apply(lambda x: 1 if x['Átmenő vágány típusa'] in ['A','Á','J']  else 0,axis=1)\n",
    "    dfb[['Kezdő szolgálati hely','Záró szolgálati hely']]=dfb[['Záró szolgálati hely','Kezdő szolgálati hely']]\n",
    "    return pd.concat([dff,dfb],axis=0)\n",
    "\n",
    "\n",
    "ss_parts=encode_directions(ss_parts_fw,ss_parts_bw)\n",
    "set_section_id(ss_parts)\n",
    "\n",
    "ss_parts = ss_parts.drop(columns=['Kezdő szolgálati hely','Záró szolgálati hely','Lassúmenet iránya','Vágány (VZ)','Átmenő vágány típusa']) \n",
    "\n",
    "ss_parts.head()"
   ],
   "id": "999451d4cd7c2408",
   "outputs": [],
   "execution_count": null
  },
  {
   "metadata": {},
   "cell_type": "code",
   "source": [
    "# csak lassújelnél\n",
    "# helyettesítsük 0-val VZ-nál?\n",
    "ss_parts['Lassúmenet mértéke motorvonatra (km/h)']=ss_parts['Lassúmenet mértéke motorvonatra (km/h)'].fillna(ss_parts['Lassúmenet mértéke (km/h)'])\n",
    "#todo pontosítás lassúmenet mekkora része az adott szakasznak? - A tervidő segíthet\n",
    "#todo milyen vonat?? motor? "
   ],
   "id": "b99a121dc0a031c2",
   "outputs": [],
   "execution_count": null
  },
  {
   "metadata": {},
   "cell_type": "code",
   "source": [
    "import numpy as np\n",
    "# igen/nem\n",
    "ss_parts['Fels.vez. kikapcsolása']=ss_parts['Fels.vez. kikapcsolása'].map({np.nan:0,'X':1})\n",
    "# ideiglenes az, ami hatással lehet a késésre, elvileg az állandónak már benne kellene lenni a menetrendben \n",
    "ss_parts['Lassúmenet típusa']=ss_parts['Lassúmenet típusa'].map({'Á':0,'I':1})\n",
    "#ss_parts=pd.get_dummies(ss_parts, columns=['Érintett objektum típusa'],dtype=int)\n"
   ],
   "id": "89926aa35739b8e5",
   "outputs": [],
   "execution_count": null
  },
  {
   "metadata": {},
   "cell_type": "code",
   "source": [
    "ss_status = slow_signal_tables['ZVZ_KEIHEAD'].copy()\n",
    "\n",
    "ss_status.drop(axis=0,index=0,inplace=True)\n",
    "ss_status['Vágányzár KEI ID']=ss_status['Vágányzár KEI ID'].astype(str).str.replace('.0','')\n",
    "#ss_status['Utolsó jóváhagyott kezdés dátuma']=pd.to_datetime( ss_status['Utolsó jóváhagyott kezdés dátuma'],format='%Y-%m-%d').dt.date    \n",
    "#ss_status['Utolsó jóváhagyott kezdés időpontja']=pd.to_datetime( ss_status['Utolsó jóváhagyott kezdés időpontja']).dt.time\n",
    "\n",
    "#excel típus információ lehet, alapból dátum datetime64[ns] lesz, így visszakovert után formátum változik\n",
    "ss_status['Kezdés']= pd.to_datetime(ss_status['Utolsó jóváhagyott kezdés dátuma'].astype(str)+' '+ss_status['Utolsó jóváhagyott kezdés időpontja'].astype(str),format='%Y-%m-%d %H:%M:%S')\n",
    "#ss_status['Utolsó jóváhagyott befejezés dátuma']=pd.to_datetime( ss_status['Utolsó jóváhagyott befejezés dátuma'],format='%Y-%m-%d').dt.date    \n",
    "#ss_status['Utolsó jóváhagyott befejezés időpontja']=pd.to_datetime( ss_status['Utolsó befejezés kezdés időpontja']).dt.time\n",
    "\n",
    "#\n",
    "ss_status['Befejezés']= pd.to_datetime(ss_status['Utolsó jóváhagyott befejezés dátuma'].astype(str)+' '+ss_status['Utolsó jóváhagyott befejezés időpontja'].astype(str),format='%Y-%m-%d %H:%M:%S',errors='coerce')\n",
    "\n",
    "\n",
    "'''\n",
    "ss_status['Tény-indítás (dátum)']=pd.to_datetime( ss_status['Tény-indítás (dátum)'],format='%Y-%m-%d').dt.date   \n",
    "ss_status['TényIndít.időpontja']=pd.to_datetime( ss_status['TényIndít.időpontja']).dt.time\n",
    "ss_status['Tény-befejez.(dátum)']=pd.to_datetime( ss_status['Tény-befejez.(dátum)'],format='%Y-%m-%d').dt.date   \n",
    "ss_status['Tény-befej.ideje']=pd.to_datetime( ss_status['Tény-befej.ideje']).dt.time\n",
    "'''\n",
    "\n",
    "to_drop_head=['Státusséma','Utolsó jóváhagyott kezdés dátuma','Utolsó jóváhagyott kezdés időpontja','Utolsó jóváhagyott befejezés dátuma','Utolsó jóváhagyott befejezés időpontja','Státusséma','Vágányzár Státus','Korlátozás típus']\n",
    "ss_status=ss_status.drop(columns=to_drop_head)\n"
   ],
   "id": "a59a289efde7f9f1",
   "outputs": [],
   "execution_count": null
  },
  {
   "metadata": {},
   "cell_type": "code",
   "source": "merged=ss_parts.merge(ss_status,how='left',left_on='Kizárásszám',right_on='Vágányzár KEI ID')\n",
   "id": "e656d0bac8cfdbb6",
   "outputs": [],
   "execution_count": null
  },
  {
   "metadata": {},
   "cell_type": "code",
   "source": [
    "c_head=closure_tables['ZVZ_VZTHEAD'].copy()\n",
    "# \"lemondott\" -  akkor ez nem történt meg?\n",
    "canceled=['KNJM','LEMD','LEMM','LEMO','KELU']\n",
    "# \"törölt\" ez mit jelent ? szintén nem történt meg?   \n",
    "deleted=['ELUT','VPEE','VTÖR','KELU']\n",
    "not_valid=canceled+deleted\n",
    "c_head['Státus'] = 1\n",
    "c_head.loc[c_head['Vágányzár Státus'].isin(not_valid), \"Státus\"] = 0\n",
    "\n",
    "c_head['Kiutalt menetvonalak zavartatása nélkül'] = c_head['Kiutalt menetvonalak zavartatása nélkül'].map(\n",
    "    {np.nan: 0, 'X': 1})\n",
    "c_head.drop(axis=0,index=0,inplace=True)\n",
    "c_head['Vágányzár VZT ID']=c_head['Vágányzár VZT ID'].astype(str).str.replace('.0','')\n",
    "#ss_status['Utolsó jóváhagyott kezdés dátuma']=pd.to_datetime( ss_status['Utolsó jóváhagyott kezdés dátuma'],format='%Y-%m-%d').dt.date    \n",
    "#ss_status['Utolsó jóváhagyott kezdés időpontja']=pd.to_datetime( ss_status['Utolsó jóváhagyott kezdés időpontja']).dt.time\n",
    "\n",
    "#excel típus információ lehet, alapból dátum datetime64[ns] lesz, így visszakovert után formátum változik\n",
    "c_head['Kezdés']= pd.to_datetime(c_head['Tény-indítás (dátum)'].astype(str)+' '+c_head['TényIndít.időpontja'].astype(str),format='%Y-%m-%d %H:%M:%S',errors='coerce')\n",
    "#ss_status['Utolsó jóváhagyott befejezés dátuma']=pd.to_datetime( ss_status['Utolsó jóváhagyott befejezés dátuma'],format='%Y-%m-%d').dt.date    \n",
    "#ss_status['Utolsó jóváhagyott befejezés időpontja']=pd.to_datetime( ss_status['Utolsó befejezés kezdés időpontja']).dt.time\n",
    "\n",
    "#\n",
    "c_head['Befejezés']= pd.to_datetime(c_head['Tény-befejez.(dátum)'].astype(str)+' '+c_head['Tény-befej.ideje'].astype(str),format='%Y-%m-%d %H:%M:%S',errors='coerce')\n",
    "#ementrend szempontjából nem érdekes\n",
    "to_drop_c_head=['Korlátozás típus','Korlátozottan.rend.álló kap.','Státusséma','Vágányzár Státus','Tény-indítás (dátum)','TényIndít.időpontja','Tény-befejez.(dátum)','Tény-befej.ideje','Utolsó jóváhagyott befejezés dátuma','Utolsó jóváhagyott befejezés időpontja','Utolsó jóváhagyott kezdés dátuma','Utolsó jóváhagyott kezdés időpontja','Vágányzár túllépve','Van vonatkésés','Pótolni kell']\n",
    "\n",
    "c_head.drop(columns=to_drop_c_head,inplace=True)"
   ],
   "id": "e4e5df7bf1fbcdb1",
   "outputs": [],
   "execution_count": null
  },
  {
   "metadata": {},
   "cell_type": "code",
   "source": [
    "c_parts = closure_tables['ZVZ_KIZARASOK'].copy()\n",
    "\n",
    "c_parts.loc[c_parts['Záró szolgálati hely'].isna(), 'Záró szolgálati hely'] = c_parts['Kezdő szolgálati hely']\n",
    "c_parts_bw=c_parts.copy()\n",
    "\n",
    "\n",
    "\n",
    "#TODO  Vágány (VZ) és 'Átmenő vágány típusa' ugyanannak néz ki mint lassújelnél, ugyanazt a logikát csináljuk itt is \n",
    "#itt vannak 1,2,3,4 értékek VZ-nél, elvileg lehet 'A' itt is \n",
    "\n",
    "c_parts=encode_directions(c_parts,c_parts_bw)\n",
    "set_section_id(c_parts)\n",
    "\n",
    "c_parts = c_parts.drop(columns=['Kezdő szolgálati hely','Záró szolgálati hely','Vágány (VZ)','Átmenő vágány típusa']) \n",
    "to_drop_gen=['Kizárás tétel','Kizárás típusa','Kezdő SZH statisztikai szám','Záró SZH statisztikai szám','Kis teljesítményű dízel kitoló','Dízel kitoló szükséges','Nagy teljesítményű dízel kitoló', 'Állomási bizt.ber. kikapcsolás szükséges','Vonali bizt. ber. kikapcsolás szükséges',\"INF vonal\",\"INF vonal.1\",\"HÜSZ vonal\",\"HÜSZ vonal.1\"]\n",
    "\n",
    "to_drop_ss=['Lassúmenet kezdő szelvény','Lassúmenet záró szelvény','Változó munkahelyen kitűzött','Lassúmenet mértéke tehervonatra (km/h)']\n",
    "c_parts['Fels.vez. kikapcsolása']=c_parts['Fels.vez. kikapcsolása'].map({np.nan:0,'X':1})\n",
    "\n",
    "c_parts.drop(columns=to_drop_gen,inplace=True)\n",
    "\n",
    "#TODO ezen azért lehet majd még gondolkodni...\n",
    "#c_parts['Lassúmenet mértéke (km/h)']=0.0\n",
    "#c_parts['Lassúmenet mértéke motorvonatra (km/h)']=0.0\n",
    "#TODO ez lehet gáz\n",
    "#c_parts['Lassúmenet hossza']=0\n",
    "#c_parts['Lassúmenet típusa']=1\n",
    "\n",
    "c_parts['Kizárásszám']=c_parts['Kizárásszám'].astype(str).str.replace('.0','')\n",
    "\n",
    "c_merged=c_parts.merge(c_head,how='left',left_on='Kizárásszám',right_on='Vágányzár VZT ID')\n",
    "\n"
   ],
   "id": "93c3f956e2626049",
   "outputs": [],
   "execution_count": null
  },
  {
   "metadata": {},
   "cell_type": "code",
   "source": "",
   "id": "393c925f4caf7823",
   "outputs": [],
   "execution_count": null
  },
  {
   "metadata": {},
   "cell_type": "code",
   "source": [
    "merged['Kizárás (1=VZ,2=LJ)']=2\n",
    "c_merged['Kizárás (1=VZ,2=LJ)']=1"
   ],
   "id": "75c42d3374933b84",
   "outputs": [],
   "execution_count": null
  },
  {
   "metadata": {},
   "cell_type": "code",
   "source": [
    "line_status=pd.concat([merged,c_merged])\n",
    "del merged,c_merged\n",
    "line_status.head()"
   ],
   "id": "84c55306ab4655a0",
   "outputs": [],
   "execution_count": null
  },
  {
   "metadata": {},
   "cell_type": "code",
   "source": [
    "final_drop=['Vágányzár KEI ID','Vágányzár VZT ID']\n",
    "line_status.drop(columns=final_drop,inplace=True)"
   ],
   "id": "bf2b62ec9d5ffff8",
   "outputs": [],
   "execution_count": null
  },
  {
   "metadata": {},
   "cell_type": "code",
   "source": "line_status.fillna(0.0,inplace=True)\n",
   "id": "17a805c634eddd07",
   "outputs": [],
   "execution_count": null
  },
  {
   "metadata": {},
   "cell_type": "code",
   "source": "line_status.head()",
   "id": "b3fe9b0c9009a6ef",
   "outputs": [],
   "execution_count": null
  },
  {
   "metadata": {},
   "cell_type": "code",
   "source": [
    "fn='data/line_status.csv'\n",
    "line_status.to_pickle(fn)\n",
    "del line_status\n",
    "\n",
    "# load\n",
    "df = pd.read_pickle(fn)"
   ],
   "id": "f19b7da70c400934",
   "outputs": [],
   "execution_count": null
  },
  {
   "metadata": {},
   "cell_type": "code",
   "source": "df.head()",
   "id": "847ec6a56fb1c8bf",
   "outputs": [],
   "execution_count": null
  },
  {
   "metadata": {},
   "cell_type": "markdown",
   "source": "# Végső összerakás",
   "id": "5010e7f8b0645a7a"
  },
  {
   "metadata": {
    "ExecuteTime": {
     "end_time": "2024-11-24T19:38:02.817348Z",
     "start_time": "2024-11-24T19:37:30.224151Z"
    }
   },
   "cell_type": "code",
   "source": [
    "def add_line_info(e, line_info):\n",
    "    #e=events.copy()\n",
    "    #d2.reset_index(inplace=True)\n",
    "    joined = e.merge(line_info,on='ID',how='inner')\n",
    "    # todo miért kell???\n",
    "    joined['Kezdés']=pd.to_datetime(joined['Kezdés'])\n",
    "    joined['Befejezés']=pd.to_datetime(joined['Befejezés'])\n",
    "    #ezek azok az események, ahol volt valami korlátozás\n",
    "    joined = joined[joined['ELOZO_ESEMENY_IDO'].between(joined['Kezdés'],joined['Befejezés'])]\n",
    "    e=e.reindex(columns=joined.columns)\n",
    "    e.update(joined)\n",
    "    e.fillna(0.0,inplace=True)\n",
    "    return e\n",
    "\n",
    "\n",
    "\n",
    "fn='data/line_status.csv'\n",
    "\n",
    "line_status = pd.read_pickle(fn)\n",
    "events_with_line_info=add_line_info(d2, line_status)\n",
    "events_with_line_info.head()\n",
    "    "
   ],
   "id": "534f57daac7b6d9d",
   "outputs": [
    {
     "name": "stderr",
     "output_type": "stream",
     "text": [
      "C:\\Users\\ELTE\\AppData\\Local\\Temp\\ipykernel_7280\\2260000315.py:11: FutureWarning: Setting an item of incompatible dtype is deprecated and will raise in a future error of pandas. Value '[nan nan nan ... nan nan nan]' has dtype incompatible with float64, please explicitly cast to a compatible dtype first.\n",
      "  e.update(joined)\n",
      "C:\\Users\\ELTE\\AppData\\Local\\Temp\\ipykernel_7280\\2260000315.py:11: FutureWarning: Setting an item of incompatible dtype is deprecated and will raise in a future error of pandas. Value '[nan nan nan ... nan nan nan]' has dtype incompatible with float64, please explicitly cast to a compatible dtype first.\n",
      "  e.update(joined)\n",
      "C:\\Users\\ELTE\\AppData\\Local\\Temp\\ipykernel_7280\\2260000315.py:11: FutureWarning: Setting an item of incompatible dtype is deprecated and will raise in a future error of pandas. Value '[nan nan nan ... nan nan nan]' has dtype incompatible with float64, please explicitly cast to a compatible dtype first.\n",
      "  e.update(joined)\n",
      "C:\\Users\\ELTE\\AppData\\Local\\Temp\\ipykernel_7280\\2260000315.py:12: FutureWarning: Setting an item of incompatible dtype is deprecated and will raise an error in a future version of pandas. Value '0.0' has dtype incompatible with datetime64[ns], please explicitly cast to a compatible dtype first.\n",
      "  e.fillna(0.0,inplace=True)\n",
      "C:\\Users\\ELTE\\AppData\\Local\\Temp\\ipykernel_7280\\2260000315.py:12: FutureWarning: Setting an item of incompatible dtype is deprecated and will raise an error in a future version of pandas. Value '0.0' has dtype incompatible with timedelta64[ns], please explicitly cast to a compatible dtype first.\n",
      "  e.fillna(0.0,inplace=True)\n"
     ]
    },
    {
     "data": {
      "text/plain": [
       "  VONAL  VONATSZAM  VONTATO_TIPUS    ELOZO_ESEMENY_IDO MENETREND_IDO  \\\n",
       "0    70       2010            465                  0.0      00:25:00   \n",
       "1    70       2010            465  2022-01-01 00:25:00      00:29:00   \n",
       "2     2       2010            465  2022-01-01 00:29:00      00:30:00   \n",
       "3     2       2010            465  2022-01-01 00:30:00      00:35:00   \n",
       "4     2       2010            465  2022-01-01 00:35:00      00:36:00   \n",
       "\n",
       "          OSSZ_KESES        ELOZO_KESES              KESES  RELATIV_KESES  \\\n",
       "0    0 days 00:00:24                0.0                0.0       0.000000   \n",
       "1    0 days 00:01:10    0 days 00:00:24    0 days 00:00:46       0.191667   \n",
       "2    0 days 00:00:40    0 days 00:01:10  -1 days +23:59:30      -0.500000   \n",
       "3  -1 days +23:59:55    0 days 00:00:40  -1 days +23:59:15      -0.150000   \n",
       "4    0 days 00:00:09  -1 days +23:59:55    0 days 00:00:14       0.233333   \n",
       "\n",
       "   TERV_IDOTARTAM (m)  ...  Fels.vez. kikapcsolása    I    E   ÁI   ÁE Kezdés  \\\n",
       "0                 0.0  ...                     0.0  0.0  0.0  0.0  0.0    0.0   \n",
       "1                 4.0  ...                     0.0  0.0  0.0  0.0  0.0    0.0   \n",
       "2                 1.0  ...                     0.0  0.0  0.0  0.0  0.0    0.0   \n",
       "3                 5.0  ...                     0.0  0.0  0.0  0.0  0.0    0.0   \n",
       "4                 1.0  ...                     0.0  0.0  0.0  0.0  0.0    0.0   \n",
       "\n",
       "  Befejezés  Kizárás (1=VZ,2=LJ)  Kiutalt menetvonalak zavartatása nélkül  \\\n",
       "0       0.0                  0.0                                      0.0   \n",
       "1       0.0                  0.0                                      0.0   \n",
       "2       0.0                  0.0                                      0.0   \n",
       "3       0.0                  0.0                                      0.0   \n",
       "4       0.0                  0.0                                      0.0   \n",
       "\n",
       "   Státus  \n",
       "0     0.0  \n",
       "1     0.0  \n",
       "2     0.0  \n",
       "3     0.0  \n",
       "4     0.0  \n",
       "\n",
       "[5 rows x 32 columns]"
      ],
      "text/html": [
       "<div>\n",
       "<style scoped>\n",
       "    .dataframe tbody tr th:only-of-type {\n",
       "        vertical-align: middle;\n",
       "    }\n",
       "\n",
       "    .dataframe tbody tr th {\n",
       "        vertical-align: top;\n",
       "    }\n",
       "\n",
       "    .dataframe thead th {\n",
       "        text-align: right;\n",
       "    }\n",
       "</style>\n",
       "<table border=\"1\" class=\"dataframe\">\n",
       "  <thead>\n",
       "    <tr style=\"text-align: right;\">\n",
       "      <th></th>\n",
       "      <th>VONAL</th>\n",
       "      <th>VONATSZAM</th>\n",
       "      <th>VONTATO_TIPUS</th>\n",
       "      <th>ELOZO_ESEMENY_IDO</th>\n",
       "      <th>MENETREND_IDO</th>\n",
       "      <th>OSSZ_KESES</th>\n",
       "      <th>ELOZO_KESES</th>\n",
       "      <th>KESES</th>\n",
       "      <th>RELATIV_KESES</th>\n",
       "      <th>TERV_IDOTARTAM (m)</th>\n",
       "      <th>...</th>\n",
       "      <th>Fels.vez. kikapcsolása</th>\n",
       "      <th>I</th>\n",
       "      <th>E</th>\n",
       "      <th>ÁI</th>\n",
       "      <th>ÁE</th>\n",
       "      <th>Kezdés</th>\n",
       "      <th>Befejezés</th>\n",
       "      <th>Kizárás (1=VZ,2=LJ)</th>\n",
       "      <th>Kiutalt menetvonalak zavartatása nélkül</th>\n",
       "      <th>Státus</th>\n",
       "    </tr>\n",
       "  </thead>\n",
       "  <tbody>\n",
       "    <tr>\n",
       "      <th>0</th>\n",
       "      <td>70</td>\n",
       "      <td>2010</td>\n",
       "      <td>465</td>\n",
       "      <td>0.0</td>\n",
       "      <td>00:25:00</td>\n",
       "      <td>0 days 00:00:24</td>\n",
       "      <td>0.0</td>\n",
       "      <td>0.0</td>\n",
       "      <td>0.000000</td>\n",
       "      <td>0.0</td>\n",
       "      <td>...</td>\n",
       "      <td>0.0</td>\n",
       "      <td>0.0</td>\n",
       "      <td>0.0</td>\n",
       "      <td>0.0</td>\n",
       "      <td>0.0</td>\n",
       "      <td>0.0</td>\n",
       "      <td>0.0</td>\n",
       "      <td>0.0</td>\n",
       "      <td>0.0</td>\n",
       "      <td>0.0</td>\n",
       "    </tr>\n",
       "    <tr>\n",
       "      <th>1</th>\n",
       "      <td>70</td>\n",
       "      <td>2010</td>\n",
       "      <td>465</td>\n",
       "      <td>2022-01-01 00:25:00</td>\n",
       "      <td>00:29:00</td>\n",
       "      <td>0 days 00:01:10</td>\n",
       "      <td>0 days 00:00:24</td>\n",
       "      <td>0 days 00:00:46</td>\n",
       "      <td>0.191667</td>\n",
       "      <td>4.0</td>\n",
       "      <td>...</td>\n",
       "      <td>0.0</td>\n",
       "      <td>0.0</td>\n",
       "      <td>0.0</td>\n",
       "      <td>0.0</td>\n",
       "      <td>0.0</td>\n",
       "      <td>0.0</td>\n",
       "      <td>0.0</td>\n",
       "      <td>0.0</td>\n",
       "      <td>0.0</td>\n",
       "      <td>0.0</td>\n",
       "    </tr>\n",
       "    <tr>\n",
       "      <th>2</th>\n",
       "      <td>2</td>\n",
       "      <td>2010</td>\n",
       "      <td>465</td>\n",
       "      <td>2022-01-01 00:29:00</td>\n",
       "      <td>00:30:00</td>\n",
       "      <td>0 days 00:00:40</td>\n",
       "      <td>0 days 00:01:10</td>\n",
       "      <td>-1 days +23:59:30</td>\n",
       "      <td>-0.500000</td>\n",
       "      <td>1.0</td>\n",
       "      <td>...</td>\n",
       "      <td>0.0</td>\n",
       "      <td>0.0</td>\n",
       "      <td>0.0</td>\n",
       "      <td>0.0</td>\n",
       "      <td>0.0</td>\n",
       "      <td>0.0</td>\n",
       "      <td>0.0</td>\n",
       "      <td>0.0</td>\n",
       "      <td>0.0</td>\n",
       "      <td>0.0</td>\n",
       "    </tr>\n",
       "    <tr>\n",
       "      <th>3</th>\n",
       "      <td>2</td>\n",
       "      <td>2010</td>\n",
       "      <td>465</td>\n",
       "      <td>2022-01-01 00:30:00</td>\n",
       "      <td>00:35:00</td>\n",
       "      <td>-1 days +23:59:55</td>\n",
       "      <td>0 days 00:00:40</td>\n",
       "      <td>-1 days +23:59:15</td>\n",
       "      <td>-0.150000</td>\n",
       "      <td>5.0</td>\n",
       "      <td>...</td>\n",
       "      <td>0.0</td>\n",
       "      <td>0.0</td>\n",
       "      <td>0.0</td>\n",
       "      <td>0.0</td>\n",
       "      <td>0.0</td>\n",
       "      <td>0.0</td>\n",
       "      <td>0.0</td>\n",
       "      <td>0.0</td>\n",
       "      <td>0.0</td>\n",
       "      <td>0.0</td>\n",
       "    </tr>\n",
       "    <tr>\n",
       "      <th>4</th>\n",
       "      <td>2</td>\n",
       "      <td>2010</td>\n",
       "      <td>465</td>\n",
       "      <td>2022-01-01 00:35:00</td>\n",
       "      <td>00:36:00</td>\n",
       "      <td>0 days 00:00:09</td>\n",
       "      <td>-1 days +23:59:55</td>\n",
       "      <td>0 days 00:00:14</td>\n",
       "      <td>0.233333</td>\n",
       "      <td>1.0</td>\n",
       "      <td>...</td>\n",
       "      <td>0.0</td>\n",
       "      <td>0.0</td>\n",
       "      <td>0.0</td>\n",
       "      <td>0.0</td>\n",
       "      <td>0.0</td>\n",
       "      <td>0.0</td>\n",
       "      <td>0.0</td>\n",
       "      <td>0.0</td>\n",
       "      <td>0.0</td>\n",
       "      <td>0.0</td>\n",
       "    </tr>\n",
       "  </tbody>\n",
       "</table>\n",
       "<p>5 rows × 32 columns</p>\n",
       "</div>"
      ]
     },
     "execution_count": 22,
     "metadata": {},
     "output_type": "execute_result"
    }
   ],
   "execution_count": 22
  },
  {
   "metadata": {},
   "cell_type": "code",
   "source": [
    "# https://stackoverflow.com/questions/50422404/save-and-export-dtypes-information-of-a-python-pandas-dataframe\n",
    "def save_data_with_types(df,fn):\n",
    "    with open(fn, 'wt') as f:\n",
    "        f.write(',' + ','.join(map(str, df.dtypes)) + '\\n')\n",
    "        df.to_csv(f, lineterminator='\\n')\n",
    "\n",
    "def load_data(fn): \n",
    "    with open(fn, 'rt') as f:\n",
    "        types = next(f).rstrip().split(',')[1:]\n",
    "        columns = next(f).rstrip().split(',')[1:]\n",
    "        df = pd.read_csv(f, dtype=dict(zip(columns, types)), index_col=0, names=columns)\n",
    "        return df"
   ],
   "id": "5e5abfe52750bbb1",
   "outputs": [],
   "execution_count": null
  },
  {
   "metadata": {
    "ExecuteTime": {
     "end_time": "2024-11-24T19:38:05.099199Z",
     "start_time": "2024-11-24T19:38:02.821651Z"
    }
   },
   "cell_type": "code",
   "source": [
    "def add_previous_train_delay(e):\n",
    "    #e=events.copy()\n",
    "    #TODO érdemes lehet mozdonyid-ra is csoportosítani\n",
    "    e[['ELOZO VONAT KESES','ELOZO STATUS','ELOZO VONAT RELATIV KESES']]=e.groupby('ID')[['KESES','Kizárásszám','RELATIV_KESES']].shift()\n",
    "    e['VONAL STATUSZ VALTOZOTT']=e['ELOZO STATUS']!=e['Kizárásszám']\n",
    "    e.drop(columns=['ELOZO STATUS','ELOZO STATUS'],inplace=True)\n",
    "    return e\n",
    "\n",
    "events_with_line_info=add_previous_train_delay(events_with_line_info)"
   ],
   "id": "b454c11cccf88913",
   "outputs": [],
   "execution_count": 23
  },
  {
   "metadata": {},
   "cell_type": "code",
   "source": "events_with_line_info.loc[events_with_line_info['ID']==\"10033-10082\"]",
   "id": "ba0e758e112ed947",
   "outputs": [],
   "execution_count": null
  },
  {
   "metadata": {
    "ExecuteTime": {
     "end_time": "2024-11-24T19:38:40.729812Z",
     "start_time": "2024-11-24T19:38:40.123682Z"
    }
   },
   "cell_type": "code",
   "source": "del events_with_line_info",
   "id": "7543430ba530beb",
   "outputs": [],
   "execution_count": 24
  },
  {
   "metadata": {
    "ExecuteTime": {
     "end_time": "2024-11-24T19:43:17.579087Z",
     "start_time": "2024-11-24T19:38:42.910724Z"
    }
   },
   "cell_type": "code",
   "source": [
    "events=[] \n",
    "for year in years_to_process:\n",
    "    for line in [2,147]:\n",
    "        #esemény és időjárás adat\n",
    "        e = get_events_pred_data(get_events_data(weather_df,coord_dict,year,line),line)\n",
    "        e = add_line_info(e,line_status)\n",
    "        e = add_previous_train_delay(e)\n",
    "        events.append(e)\n",
    "data=pd.concat(events)"
   ],
   "id": "e5804de1ce526f9",
   "outputs": [
    {
     "name": "stderr",
     "output_type": "stream",
     "text": [
      "C:\\Users\\ELTE\\AppData\\Local\\Temp\\ipykernel_7280\\2781791593.py:56: DtypeWarning: Columns (16,17,28) have mixed types. Specify dtype option on import or set low_memory=False.\n",
      "  e_=pd.read_csv(l+event_file_name+str(line)+'.txt',sep=',',encoding='iso-8859-2')\n"
     ]
    },
    {
     "name": "stdout",
     "output_type": "stream",
     "text": [
      "2022-01-01 00:00:00  -  2023-12-31 00:00:00\n"
     ]
    },
    {
     "name": "stderr",
     "output_type": "stream",
     "text": [
      "C:\\Users\\ELTE\\AppData\\Local\\Temp\\ipykernel_7280\\2260000315.py:11: FutureWarning: Setting an item of incompatible dtype is deprecated and will raise in a future error of pandas. Value '[nan nan nan ... nan nan nan]' has dtype incompatible with float64, please explicitly cast to a compatible dtype first.\n",
      "  e.update(joined)\n",
      "C:\\Users\\ELTE\\AppData\\Local\\Temp\\ipykernel_7280\\2260000315.py:11: FutureWarning: Setting an item of incompatible dtype is deprecated and will raise in a future error of pandas. Value '[nan nan nan ... nan nan nan]' has dtype incompatible with float64, please explicitly cast to a compatible dtype first.\n",
      "  e.update(joined)\n",
      "C:\\Users\\ELTE\\AppData\\Local\\Temp\\ipykernel_7280\\2260000315.py:11: FutureWarning: Setting an item of incompatible dtype is deprecated and will raise in a future error of pandas. Value '[nan nan nan ... nan nan nan]' has dtype incompatible with float64, please explicitly cast to a compatible dtype first.\n",
      "  e.update(joined)\n",
      "C:\\Users\\ELTE\\AppData\\Local\\Temp\\ipykernel_7280\\2260000315.py:12: FutureWarning: Setting an item of incompatible dtype is deprecated and will raise an error in a future version of pandas. Value '0.0' has dtype incompatible with datetime64[ns], please explicitly cast to a compatible dtype first.\n",
      "  e.fillna(0.0,inplace=True)\n",
      "C:\\Users\\ELTE\\AppData\\Local\\Temp\\ipykernel_7280\\2260000315.py:12: FutureWarning: Setting an item of incompatible dtype is deprecated and will raise an error in a future version of pandas. Value '0.0' has dtype incompatible with timedelta64[ns], please explicitly cast to a compatible dtype first.\n",
      "  e.fillna(0.0,inplace=True)\n",
      "C:\\Users\\ELTE\\AppData\\Local\\Temp\\ipykernel_7280\\2781791593.py:56: DtypeWarning: Columns (22) have mixed types. Specify dtype option on import or set low_memory=False.\n",
      "  e_=pd.read_csv(l+event_file_name+str(line)+'.txt',sep=',',encoding='iso-8859-2')\n"
     ]
    },
    {
     "name": "stdout",
     "output_type": "stream",
     "text": [
      "2022-01-01 00:00:00  -  2023-12-31 00:00:00\n"
     ]
    },
    {
     "name": "stderr",
     "output_type": "stream",
     "text": [
      "C:\\Users\\ELTE\\AppData\\Local\\Temp\\ipykernel_7280\\2260000315.py:11: FutureWarning: Setting an item of incompatible dtype is deprecated and will raise in a future error of pandas. Value '[nan nan nan ... nan nan nan]' has dtype incompatible with float64, please explicitly cast to a compatible dtype first.\n",
      "  e.update(joined)\n",
      "C:\\Users\\ELTE\\AppData\\Local\\Temp\\ipykernel_7280\\2260000315.py:11: FutureWarning: Setting an item of incompatible dtype is deprecated and will raise in a future error of pandas. Value '[nan nan nan ... nan nan nan]' has dtype incompatible with float64, please explicitly cast to a compatible dtype first.\n",
      "  e.update(joined)\n",
      "C:\\Users\\ELTE\\AppData\\Local\\Temp\\ipykernel_7280\\2260000315.py:11: FutureWarning: Setting an item of incompatible dtype is deprecated and will raise in a future error of pandas. Value '[nan nan nan ... nan nan nan]' has dtype incompatible with float64, please explicitly cast to a compatible dtype first.\n",
      "  e.update(joined)\n",
      "C:\\Users\\ELTE\\AppData\\Local\\Temp\\ipykernel_7280\\2260000315.py:12: FutureWarning: Setting an item of incompatible dtype is deprecated and will raise an error in a future version of pandas. Value '0.0' has dtype incompatible with datetime64[ns], please explicitly cast to a compatible dtype first.\n",
      "  e.fillna(0.0,inplace=True)\n",
      "C:\\Users\\ELTE\\AppData\\Local\\Temp\\ipykernel_7280\\2260000315.py:12: FutureWarning: Setting an item of incompatible dtype is deprecated and will raise an error in a future version of pandas. Value '0.0' has dtype incompatible with timedelta64[ns], please explicitly cast to a compatible dtype first.\n",
      "  e.fillna(0.0,inplace=True)\n",
      "C:\\Users\\ELTE\\AppData\\Local\\Temp\\ipykernel_7280\\2781791593.py:56: DtypeWarning: Columns (16,17) have mixed types. Specify dtype option on import or set low_memory=False.\n",
      "  e_=pd.read_csv(l+event_file_name+str(line)+'.txt',sep=',',encoding='iso-8859-2')\n"
     ]
    },
    {
     "name": "stdout",
     "output_type": "stream",
     "text": [
      "2023-01-01 00:00:00  -  2023-12-31 00:00:00\n"
     ]
    },
    {
     "name": "stderr",
     "output_type": "stream",
     "text": [
      "C:\\Users\\ELTE\\AppData\\Local\\Temp\\ipykernel_7280\\2260000315.py:11: FutureWarning: Setting an item of incompatible dtype is deprecated and will raise in a future error of pandas. Value '[nan nan nan ... nan nan nan]' has dtype incompatible with float64, please explicitly cast to a compatible dtype first.\n",
      "  e.update(joined)\n",
      "C:\\Users\\ELTE\\AppData\\Local\\Temp\\ipykernel_7280\\2260000315.py:11: FutureWarning: Setting an item of incompatible dtype is deprecated and will raise in a future error of pandas. Value '[nan nan nan ... nan nan nan]' has dtype incompatible with float64, please explicitly cast to a compatible dtype first.\n",
      "  e.update(joined)\n",
      "C:\\Users\\ELTE\\AppData\\Local\\Temp\\ipykernel_7280\\2260000315.py:11: FutureWarning: Setting an item of incompatible dtype is deprecated and will raise in a future error of pandas. Value '[nan nan nan ... nan nan nan]' has dtype incompatible with float64, please explicitly cast to a compatible dtype first.\n",
      "  e.update(joined)\n",
      "C:\\Users\\ELTE\\AppData\\Local\\Temp\\ipykernel_7280\\2260000315.py:12: FutureWarning: Setting an item of incompatible dtype is deprecated and will raise an error in a future version of pandas. Value '0.0' has dtype incompatible with datetime64[ns], please explicitly cast to a compatible dtype first.\n",
      "  e.fillna(0.0,inplace=True)\n",
      "C:\\Users\\ELTE\\AppData\\Local\\Temp\\ipykernel_7280\\2260000315.py:12: FutureWarning: Setting an item of incompatible dtype is deprecated and will raise an error in a future version of pandas. Value '0.0' has dtype incompatible with timedelta64[ns], please explicitly cast to a compatible dtype first.\n",
      "  e.fillna(0.0,inplace=True)\n",
      "C:\\Users\\ELTE\\AppData\\Local\\Temp\\ipykernel_7280\\2781791593.py:56: DtypeWarning: Columns (22) have mixed types. Specify dtype option on import or set low_memory=False.\n",
      "  e_=pd.read_csv(l+event_file_name+str(line)+'.txt',sep=',',encoding='iso-8859-2')\n"
     ]
    },
    {
     "name": "stdout",
     "output_type": "stream",
     "text": [
      "2023-01-01 00:00:00  -  2023-12-31 00:00:00\n"
     ]
    },
    {
     "name": "stderr",
     "output_type": "stream",
     "text": [
      "C:\\Users\\ELTE\\AppData\\Local\\Temp\\ipykernel_7280\\2260000315.py:11: FutureWarning: Setting an item of incompatible dtype is deprecated and will raise in a future error of pandas. Value '[nan nan nan ... nan nan nan]' has dtype incompatible with float64, please explicitly cast to a compatible dtype first.\n",
      "  e.update(joined)\n",
      "C:\\Users\\ELTE\\AppData\\Local\\Temp\\ipykernel_7280\\2260000315.py:11: FutureWarning: Setting an item of incompatible dtype is deprecated and will raise in a future error of pandas. Value '[nan nan nan ... nan nan nan]' has dtype incompatible with float64, please explicitly cast to a compatible dtype first.\n",
      "  e.update(joined)\n",
      "C:\\Users\\ELTE\\AppData\\Local\\Temp\\ipykernel_7280\\2260000315.py:11: FutureWarning: Setting an item of incompatible dtype is deprecated and will raise in a future error of pandas. Value '[nan nan nan ... nan nan nan]' has dtype incompatible with float64, please explicitly cast to a compatible dtype first.\n",
      "  e.update(joined)\n",
      "C:\\Users\\ELTE\\AppData\\Local\\Temp\\ipykernel_7280\\2260000315.py:12: FutureWarning: Setting an item of incompatible dtype is deprecated and will raise an error in a future version of pandas. Value '0.0' has dtype incompatible with datetime64[ns], please explicitly cast to a compatible dtype first.\n",
      "  e.fillna(0.0,inplace=True)\n",
      "C:\\Users\\ELTE\\AppData\\Local\\Temp\\ipykernel_7280\\2260000315.py:12: FutureWarning: Setting an item of incompatible dtype is deprecated and will raise an error in a future version of pandas. Value '0.0' has dtype incompatible with timedelta64[ns], please explicitly cast to a compatible dtype first.\n",
      "  e.fillna(0.0,inplace=True)\n"
     ]
    }
   ],
   "execution_count": 25
  },
  {
   "metadata": {},
   "cell_type": "code",
   "source": [
    "# TODO nem az igazi, pkl helyette most\n",
    "#save_data_with_types(data,data_root+'data.csv')\n",
    "\n",
    "    "
   ],
   "id": "18bb515b23ac26df",
   "outputs": [],
   "execution_count": null
  },
  {
   "metadata": {
    "ExecuteTime": {
     "end_time": "2024-11-24T19:48:40.038254Z",
     "start_time": "2024-11-24T19:43:17.640846Z"
    }
   },
   "cell_type": "code",
   "source": "data.to_pickle(data_root+'data.pkl')",
   "id": "91bebe94e2b776e0",
   "outputs": [],
   "execution_count": 26
  },
  {
   "metadata": {},
   "cell_type": "code",
   "source": " ",
   "id": "1370e3553018656",
   "outputs": [],
   "execution_count": null
  },
  {
   "metadata": {},
   "cell_type": "code",
   "source": [
    "\n",
    "print(\"hello\")\n"
   ],
   "id": "333b3463957f0965",
   "outputs": [],
   "execution_count": null
  },
  {
   "metadata": {},
   "cell_type": "code",
   "source": "",
   "id": "ea44d6873dbdd79c",
   "outputs": [],
   "execution_count": null
  }
 ],
 "metadata": {
  "kernelspec": {
   "display_name": "Python 3",
   "language": "python",
   "name": "python3"
  },
  "language_info": {
   "codemirror_mode": {
    "name": "ipython",
    "version": 2
   },
   "file_extension": ".py",
   "mimetype": "text/x-python",
   "name": "python",
   "nbconvert_exporter": "python",
   "pygments_lexer": "ipython2",
   "version": "2.7.6"
  }
 },
 "nbformat": 4,
 "nbformat_minor": 5
}

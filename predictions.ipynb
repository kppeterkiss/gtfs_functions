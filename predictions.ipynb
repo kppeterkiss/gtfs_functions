{
 "cells": [
  {
   "cell_type": "code",
   "id": "initial_id",
   "metadata": {
    "collapsed": true,
    "ExecuteTime": {
     "end_time": "2024-11-04T20:03:39.620561Z",
     "start_time": "2024-11-04T20:03:37.673167Z"
    }
   },
   "source": "import pandas as pd",
   "outputs": [],
   "execution_count": 1
  },
  {
   "metadata": {
    "ExecuteTime": {
     "end_time": "2024-11-04T18:06:21.487894Z",
     "start_time": "2024-11-04T18:06:21.477870Z"
    }
   },
   "cell_type": "code",
   "source": [
    "def load_data(fn): \n",
    "    with open(fn, 'rt') as f:\n",
    "        types = next(f).rstrip().split(',')[1:]\n",
    "        columns = next(f).rstrip().split(',')[1:]\n",
    "        df = pd.read_csv(f, dtype=dict(zip(columns, types)), index_col=0, names=columns)\n",
    "        return df"
   ],
   "id": "24f7da327c95677a",
   "outputs": [],
   "execution_count": 2
  },
  {
   "metadata": {
    "ExecuteTime": {
     "end_time": "2024-11-04T20:03:52.428852Z",
     "start_time": "2024-11-04T20:03:52.423951Z"
    }
   },
   "cell_type": "code",
   "source": [
    "data_root = \"data/\"\n",
    "datafn= \"data.csv\""
   ],
   "id": "8414e604476e21d9",
   "outputs": [],
   "execution_count": 4
  },
  {
   "metadata": {
    "ExecuteTime": {
     "end_time": "2024-11-04T18:07:02.037Z",
     "start_time": "2024-11-04T18:06:21.504664Z"
    }
   },
   "cell_type": "code",
   "source": [
    "#raw_data =load_data(data_root+datafn)\n",
    "raw_data=pd.read_pickle(data_root+'data.pkl')\n"
   ],
   "id": "c5688790312e3027",
   "outputs": [],
   "execution_count": 4
  },
  {
   "metadata": {
    "ExecuteTime": {
     "end_time": "2024-11-04T18:07:02.388499Z",
     "start_time": "2024-11-04T18:07:02.100010Z"
    }
   },
   "cell_type": "code",
   "source": "raw_data.head()",
   "id": "d31e071dd9ee53c9",
   "outputs": [
    {
     "data": {
      "text/plain": [
       "  VONAL  VONATSZAM  VONTATO_TIPUS    ELOZO_ESEMENY_IDO MENETREND_IDO  \\\n",
       "0    70       2010            465                  0.0      00:25:00   \n",
       "1    70       2010            465  2023-01-01 00:25:00      00:25:00   \n",
       "2    70       2010            465  2023-01-01 00:25:00      00:29:00   \n",
       "3     2       2010            465  2023-01-01 00:29:00      00:30:00   \n",
       "4     2       2010            465  2023-01-01 00:30:00      00:35:00   \n",
       "\n",
       "          OSSZ_KESES      ELOZO_KESES              KESES   tx    t  ...    E  \\\n",
       "0                0.0              0.0                0.0  8.5  6.1  ...  0.0   \n",
       "1    0 days 00:00:24              0.0                0.0  8.5  6.1  ...  0.0   \n",
       "2    0 days 00:01:07  0 days 00:00:24    0 days 00:00:43  8.5  6.1  ...  0.0   \n",
       "3    0 days 00:00:58  0 days 00:01:07  -1 days +23:59:51  8.5  6.1  ...  0.0   \n",
       "4  -1 days +23:59:50  0 days 00:00:58  -1 days +23:58:52  8.5  6.1  ...  0.0   \n",
       "\n",
       "    ÁI   ÁE Kezdés  Befejezés Kizárás (1=VZ,2=LJ)  \\\n",
       "0  0.0  0.0    0.0        0.0                 0.0   \n",
       "1  0.0  0.0    0.0        0.0                 0.0   \n",
       "2  0.0  0.0    0.0        0.0                 0.0   \n",
       "3  0.0  0.0    0.0        0.0                 0.0   \n",
       "4  0.0  0.0    0.0        0.0                 0.0   \n",
       "\n",
       "   Kiutalt menetvonalak zavartatása nélkül  Státus  ELOZO VONAT KESES  \\\n",
       "0                                      0.0     0.0                NaN   \n",
       "1                                      0.0     0.0                NaN   \n",
       "2                                      0.0     0.0                NaN   \n",
       "3                                      0.0     0.0                NaN   \n",
       "4                                      0.0     0.0                NaN   \n",
       "\n",
       "   VONAL STATUSZ VALTOZOTT  \n",
       "0                    False  \n",
       "1                    False  \n",
       "2                    False  \n",
       "3                    False  \n",
       "4                    False  \n",
       "\n",
       "[5 rows x 33 columns]"
      ],
      "text/html": [
       "<div>\n",
       "<style scoped>\n",
       "    .dataframe tbody tr th:only-of-type {\n",
       "        vertical-align: middle;\n",
       "    }\n",
       "\n",
       "    .dataframe tbody tr th {\n",
       "        vertical-align: top;\n",
       "    }\n",
       "\n",
       "    .dataframe thead th {\n",
       "        text-align: right;\n",
       "    }\n",
       "</style>\n",
       "<table border=\"1\" class=\"dataframe\">\n",
       "  <thead>\n",
       "    <tr style=\"text-align: right;\">\n",
       "      <th></th>\n",
       "      <th>VONAL</th>\n",
       "      <th>VONATSZAM</th>\n",
       "      <th>VONTATO_TIPUS</th>\n",
       "      <th>ELOZO_ESEMENY_IDO</th>\n",
       "      <th>MENETREND_IDO</th>\n",
       "      <th>OSSZ_KESES</th>\n",
       "      <th>ELOZO_KESES</th>\n",
       "      <th>KESES</th>\n",
       "      <th>tx</th>\n",
       "      <th>t</th>\n",
       "      <th>...</th>\n",
       "      <th>E</th>\n",
       "      <th>ÁI</th>\n",
       "      <th>ÁE</th>\n",
       "      <th>Kezdés</th>\n",
       "      <th>Befejezés</th>\n",
       "      <th>Kizárás (1=VZ,2=LJ)</th>\n",
       "      <th>Kiutalt menetvonalak zavartatása nélkül</th>\n",
       "      <th>Státus</th>\n",
       "      <th>ELOZO VONAT KESES</th>\n",
       "      <th>VONAL STATUSZ VALTOZOTT</th>\n",
       "    </tr>\n",
       "  </thead>\n",
       "  <tbody>\n",
       "    <tr>\n",
       "      <th>0</th>\n",
       "      <td>70</td>\n",
       "      <td>2010</td>\n",
       "      <td>465</td>\n",
       "      <td>0.0</td>\n",
       "      <td>00:25:00</td>\n",
       "      <td>0.0</td>\n",
       "      <td>0.0</td>\n",
       "      <td>0.0</td>\n",
       "      <td>8.5</td>\n",
       "      <td>6.1</td>\n",
       "      <td>...</td>\n",
       "      <td>0.0</td>\n",
       "      <td>0.0</td>\n",
       "      <td>0.0</td>\n",
       "      <td>0.0</td>\n",
       "      <td>0.0</td>\n",
       "      <td>0.0</td>\n",
       "      <td>0.0</td>\n",
       "      <td>0.0</td>\n",
       "      <td>NaN</td>\n",
       "      <td>False</td>\n",
       "    </tr>\n",
       "    <tr>\n",
       "      <th>1</th>\n",
       "      <td>70</td>\n",
       "      <td>2010</td>\n",
       "      <td>465</td>\n",
       "      <td>2023-01-01 00:25:00</td>\n",
       "      <td>00:25:00</td>\n",
       "      <td>0 days 00:00:24</td>\n",
       "      <td>0.0</td>\n",
       "      <td>0.0</td>\n",
       "      <td>8.5</td>\n",
       "      <td>6.1</td>\n",
       "      <td>...</td>\n",
       "      <td>0.0</td>\n",
       "      <td>0.0</td>\n",
       "      <td>0.0</td>\n",
       "      <td>0.0</td>\n",
       "      <td>0.0</td>\n",
       "      <td>0.0</td>\n",
       "      <td>0.0</td>\n",
       "      <td>0.0</td>\n",
       "      <td>NaN</td>\n",
       "      <td>False</td>\n",
       "    </tr>\n",
       "    <tr>\n",
       "      <th>2</th>\n",
       "      <td>70</td>\n",
       "      <td>2010</td>\n",
       "      <td>465</td>\n",
       "      <td>2023-01-01 00:25:00</td>\n",
       "      <td>00:29:00</td>\n",
       "      <td>0 days 00:01:07</td>\n",
       "      <td>0 days 00:00:24</td>\n",
       "      <td>0 days 00:00:43</td>\n",
       "      <td>8.5</td>\n",
       "      <td>6.1</td>\n",
       "      <td>...</td>\n",
       "      <td>0.0</td>\n",
       "      <td>0.0</td>\n",
       "      <td>0.0</td>\n",
       "      <td>0.0</td>\n",
       "      <td>0.0</td>\n",
       "      <td>0.0</td>\n",
       "      <td>0.0</td>\n",
       "      <td>0.0</td>\n",
       "      <td>NaN</td>\n",
       "      <td>False</td>\n",
       "    </tr>\n",
       "    <tr>\n",
       "      <th>3</th>\n",
       "      <td>2</td>\n",
       "      <td>2010</td>\n",
       "      <td>465</td>\n",
       "      <td>2023-01-01 00:29:00</td>\n",
       "      <td>00:30:00</td>\n",
       "      <td>0 days 00:00:58</td>\n",
       "      <td>0 days 00:01:07</td>\n",
       "      <td>-1 days +23:59:51</td>\n",
       "      <td>8.5</td>\n",
       "      <td>6.1</td>\n",
       "      <td>...</td>\n",
       "      <td>0.0</td>\n",
       "      <td>0.0</td>\n",
       "      <td>0.0</td>\n",
       "      <td>0.0</td>\n",
       "      <td>0.0</td>\n",
       "      <td>0.0</td>\n",
       "      <td>0.0</td>\n",
       "      <td>0.0</td>\n",
       "      <td>NaN</td>\n",
       "      <td>False</td>\n",
       "    </tr>\n",
       "    <tr>\n",
       "      <th>4</th>\n",
       "      <td>2</td>\n",
       "      <td>2010</td>\n",
       "      <td>465</td>\n",
       "      <td>2023-01-01 00:30:00</td>\n",
       "      <td>00:35:00</td>\n",
       "      <td>-1 days +23:59:50</td>\n",
       "      <td>0 days 00:00:58</td>\n",
       "      <td>-1 days +23:58:52</td>\n",
       "      <td>8.5</td>\n",
       "      <td>6.1</td>\n",
       "      <td>...</td>\n",
       "      <td>0.0</td>\n",
       "      <td>0.0</td>\n",
       "      <td>0.0</td>\n",
       "      <td>0.0</td>\n",
       "      <td>0.0</td>\n",
       "      <td>0.0</td>\n",
       "      <td>0.0</td>\n",
       "      <td>0.0</td>\n",
       "      <td>NaN</td>\n",
       "      <td>False</td>\n",
       "    </tr>\n",
       "  </tbody>\n",
       "</table>\n",
       "<p>5 rows × 33 columns</p>\n",
       "</div>"
      ]
     },
     "execution_count": 5,
     "metadata": {},
     "output_type": "execute_result"
    }
   ],
   "execution_count": 5
  },
  {
   "metadata": {
    "ExecuteTime": {
     "end_time": "2024-11-04T18:07:02.405146Z",
     "start_time": "2024-11-04T18:07:02.393516Z"
    }
   },
   "cell_type": "code",
   "source": [
    "import datetime\n",
    "def convert_time_to_minute(input):\n",
    "    if isinstance(input,datetime.time):\n",
    "        return float(input.hour*60+input.minute)\n",
    "    if isinstance(input,datetime.timedelta):\n",
    "        ret = input.total_seconds()/60\n",
    "       # if datetime.timedelta(0)>input:\n",
    "       #     return -ret\n",
    "        return ret\n",
    "    if isinstance(input,float):\n",
    "        return input\n",
    "    return -1.0"
   ],
   "id": "be66b9ba92baf2d4",
   "outputs": [],
   "execution_count": 6
  },
  {
   "metadata": {
    "ExecuteTime": {
     "end_time": "2024-11-04T18:07:02.421153Z",
     "start_time": "2024-11-04T18:07:02.411158Z"
    }
   },
   "cell_type": "code",
   "source": "# átalakítjuk időt percekké",
   "id": "bea3510fece59336",
   "outputs": [],
   "execution_count": 7
  },
  {
   "metadata": {
    "ExecuteTime": {
     "end_time": "2024-11-04T18:07:11.761619Z",
     "start_time": "2024-11-04T18:07:02.426235Z"
    }
   },
   "cell_type": "code",
   "source": "raw_data[['MENETREND_IDO','ELOZO_KESES','ELOZO VONAT KESES','KESES']] = raw_data[['MENETREND_IDO','ELOZO_KESES','ELOZO VONAT KESES','KESES']].map(convert_time_to_minute)\n",
   "id": "7d7c5ea1e28cb35a",
   "outputs": [],
   "execution_count": 8
  },
  {
   "metadata": {
    "ExecuteTime": {
     "end_time": "2024-11-04T18:07:16.653060Z",
     "start_time": "2024-11-04T18:07:11.767958Z"
    }
   },
   "cell_type": "code",
   "source": [
    "#TODO boolean vs categorical?\n",
    "#TODO Vonal, Line mit kellene kezdeni velük? kicsit kölséges használni őket..\n",
    "#raw_data[['VONATSZAM','VONAL','VONTATO_TIPUS','Lassúmenet típusa','Kizárás (1=VZ,2=LJ)','Kiutalt menetvonalak zavartatása nélkül','Státus','Fels.vez. kikapcsolása']]=raw_data[['VONATSZAM','VONAL','VONTATO_TIPUS','Lassúmenet típusa','Kizárás (1=VZ,2=LJ)','Kiutalt menetvonalak zavartatása nélkül','Státus','Fels.vez. kikapcsolása']].astype(\"category\")\n",
    "\n",
    "# sklearn nem bír  category-kal\n",
    "raw_data.drop(columns=['VONATSZAM','VONAL','VONTATO_TIPUS'],inplace=True)\n"
   ],
   "id": "f65819485e89ac5b",
   "outputs": [],
   "execution_count": 9
  },
  {
   "metadata": {
    "ExecuteTime": {
     "end_time": "2024-11-04T18:07:17.686318Z",
     "start_time": "2024-11-04T18:07:16.665241Z"
    }
   },
   "cell_type": "code",
   "source": "raw_data=raw_data.drop(columns=['ELOZO_ESEMENY_IDO','ID','Kizárásszám','Kezdés','Befejezés','LINE','OSSZ_KESES'])\n",
   "id": "c1bfa83a90af9d8d",
   "outputs": [],
   "execution_count": 10
  },
  {
   "metadata": {
    "ExecuteTime": {
     "end_time": "2024-11-04T18:07:17.725232Z",
     "start_time": "2024-11-04T18:07:17.690328Z"
    }
   },
   "cell_type": "code",
   "source": "raw_data.dtypes\n",
   "id": "e9bda6887b2600ad",
   "outputs": [
    {
     "data": {
      "text/plain": [
       "MENETREND_IDO                              float64\n",
       "ELOZO_KESES                                float64\n",
       "KESES                                      float64\n",
       "tx                                         float64\n",
       "t                                          float64\n",
       "tn                                         float64\n",
       "r                                          float64\n",
       "TERV_IDOTARTAM                             float64\n",
       "Érintett objektum típusa                   float64\n",
       "Lassúmenet típusa                          float64\n",
       "Lassúmenet hossza                          float64\n",
       "Lassúmenet mértéke (km/h)                  float64\n",
       "Lassúmenet mértéke motorvonatra (km/h)     float64\n",
       "Fels.vez. kikapcsolása                     float64\n",
       "I                                          float64\n",
       "E                                          float64\n",
       "ÁI                                         float64\n",
       "ÁE                                         float64\n",
       "Kizárás (1=VZ,2=LJ)                        float64\n",
       "Kiutalt menetvonalak zavartatása nélkül    float64\n",
       "Státus                                     float64\n",
       "ELOZO VONAT KESES                          float64\n",
       "VONAL STATUSZ VALTOZOTT                       bool\n",
       "dtype: object"
      ]
     },
     "execution_count": 11,
     "metadata": {},
     "output_type": "execute_result"
    }
   ],
   "execution_count": 11
  },
  {
   "metadata": {
    "ExecuteTime": {
     "end_time": "2024-11-04T18:16:36.822920Z",
     "start_time": "2024-11-04T18:16:36.784832Z"
    }
   },
   "cell_type": "code",
   "source": "raw_data.head()",
   "id": "a09069806bd36ada",
   "outputs": [
    {
     "data": {
      "text/plain": [
       "   MENETREND_IDO  ELOZO_KESES     KESES   tx    t   tn    r  TERV_IDOTARTAM  \\\n",
       "0           25.0     0.000000  0.000000  8.5  6.1  3.4  0.0             0.0   \n",
       "1           25.0     0.000000  0.000000  8.5  6.1  3.4  0.0             0.0   \n",
       "2           29.0     0.400000  0.716667  8.5  6.1  3.4  0.0           240.0   \n",
       "3           30.0     1.116667 -0.150000  8.5  6.1  3.4  0.0            60.0   \n",
       "4           35.0     0.966667 -1.133333  8.5  6.1  3.4  0.0           300.0   \n",
       "\n",
       "   Érintett objektum típusa  Lassúmenet típusa  ...  Fels.vez. kikapcsolása  \\\n",
       "0                       0.0                0.0  ...                     0.0   \n",
       "1                       0.0                0.0  ...                     0.0   \n",
       "2                       0.0                0.0  ...                     0.0   \n",
       "3                       0.0                0.0  ...                     0.0   \n",
       "4                       0.0                0.0  ...                     0.0   \n",
       "\n",
       "     I    E   ÁI   ÁE  Kizárás (1=VZ,2=LJ)  \\\n",
       "0  0.0  0.0  0.0  0.0                  0.0   \n",
       "1  0.0  0.0  0.0  0.0                  0.0   \n",
       "2  0.0  0.0  0.0  0.0                  0.0   \n",
       "3  0.0  0.0  0.0  0.0                  0.0   \n",
       "4  0.0  0.0  0.0  0.0                  0.0   \n",
       "\n",
       "   Kiutalt menetvonalak zavartatása nélkül  Státus  ELOZO VONAT KESES  \\\n",
       "0                                      0.0     0.0                NaN   \n",
       "1                                      0.0     0.0                NaN   \n",
       "2                                      0.0     0.0                NaN   \n",
       "3                                      0.0     0.0                NaN   \n",
       "4                                      0.0     0.0                NaN   \n",
       "\n",
       "   VONAL STATUSZ VALTOZOTT  \n",
       "0                    False  \n",
       "1                    False  \n",
       "2                    False  \n",
       "3                    False  \n",
       "4                    False  \n",
       "\n",
       "[5 rows x 23 columns]"
      ],
      "text/html": [
       "<div>\n",
       "<style scoped>\n",
       "    .dataframe tbody tr th:only-of-type {\n",
       "        vertical-align: middle;\n",
       "    }\n",
       "\n",
       "    .dataframe tbody tr th {\n",
       "        vertical-align: top;\n",
       "    }\n",
       "\n",
       "    .dataframe thead th {\n",
       "        text-align: right;\n",
       "    }\n",
       "</style>\n",
       "<table border=\"1\" class=\"dataframe\">\n",
       "  <thead>\n",
       "    <tr style=\"text-align: right;\">\n",
       "      <th></th>\n",
       "      <th>MENETREND_IDO</th>\n",
       "      <th>ELOZO_KESES</th>\n",
       "      <th>KESES</th>\n",
       "      <th>tx</th>\n",
       "      <th>t</th>\n",
       "      <th>tn</th>\n",
       "      <th>r</th>\n",
       "      <th>TERV_IDOTARTAM</th>\n",
       "      <th>Érintett objektum típusa</th>\n",
       "      <th>Lassúmenet típusa</th>\n",
       "      <th>...</th>\n",
       "      <th>Fels.vez. kikapcsolása</th>\n",
       "      <th>I</th>\n",
       "      <th>E</th>\n",
       "      <th>ÁI</th>\n",
       "      <th>ÁE</th>\n",
       "      <th>Kizárás (1=VZ,2=LJ)</th>\n",
       "      <th>Kiutalt menetvonalak zavartatása nélkül</th>\n",
       "      <th>Státus</th>\n",
       "      <th>ELOZO VONAT KESES</th>\n",
       "      <th>VONAL STATUSZ VALTOZOTT</th>\n",
       "    </tr>\n",
       "  </thead>\n",
       "  <tbody>\n",
       "    <tr>\n",
       "      <th>0</th>\n",
       "      <td>25.0</td>\n",
       "      <td>0.000000</td>\n",
       "      <td>0.000000</td>\n",
       "      <td>8.5</td>\n",
       "      <td>6.1</td>\n",
       "      <td>3.4</td>\n",
       "      <td>0.0</td>\n",
       "      <td>0.0</td>\n",
       "      <td>0.0</td>\n",
       "      <td>0.0</td>\n",
       "      <td>...</td>\n",
       "      <td>0.0</td>\n",
       "      <td>0.0</td>\n",
       "      <td>0.0</td>\n",
       "      <td>0.0</td>\n",
       "      <td>0.0</td>\n",
       "      <td>0.0</td>\n",
       "      <td>0.0</td>\n",
       "      <td>0.0</td>\n",
       "      <td>NaN</td>\n",
       "      <td>False</td>\n",
       "    </tr>\n",
       "    <tr>\n",
       "      <th>1</th>\n",
       "      <td>25.0</td>\n",
       "      <td>0.000000</td>\n",
       "      <td>0.000000</td>\n",
       "      <td>8.5</td>\n",
       "      <td>6.1</td>\n",
       "      <td>3.4</td>\n",
       "      <td>0.0</td>\n",
       "      <td>0.0</td>\n",
       "      <td>0.0</td>\n",
       "      <td>0.0</td>\n",
       "      <td>...</td>\n",
       "      <td>0.0</td>\n",
       "      <td>0.0</td>\n",
       "      <td>0.0</td>\n",
       "      <td>0.0</td>\n",
       "      <td>0.0</td>\n",
       "      <td>0.0</td>\n",
       "      <td>0.0</td>\n",
       "      <td>0.0</td>\n",
       "      <td>NaN</td>\n",
       "      <td>False</td>\n",
       "    </tr>\n",
       "    <tr>\n",
       "      <th>2</th>\n",
       "      <td>29.0</td>\n",
       "      <td>0.400000</td>\n",
       "      <td>0.716667</td>\n",
       "      <td>8.5</td>\n",
       "      <td>6.1</td>\n",
       "      <td>3.4</td>\n",
       "      <td>0.0</td>\n",
       "      <td>240.0</td>\n",
       "      <td>0.0</td>\n",
       "      <td>0.0</td>\n",
       "      <td>...</td>\n",
       "      <td>0.0</td>\n",
       "      <td>0.0</td>\n",
       "      <td>0.0</td>\n",
       "      <td>0.0</td>\n",
       "      <td>0.0</td>\n",
       "      <td>0.0</td>\n",
       "      <td>0.0</td>\n",
       "      <td>0.0</td>\n",
       "      <td>NaN</td>\n",
       "      <td>False</td>\n",
       "    </tr>\n",
       "    <tr>\n",
       "      <th>3</th>\n",
       "      <td>30.0</td>\n",
       "      <td>1.116667</td>\n",
       "      <td>-0.150000</td>\n",
       "      <td>8.5</td>\n",
       "      <td>6.1</td>\n",
       "      <td>3.4</td>\n",
       "      <td>0.0</td>\n",
       "      <td>60.0</td>\n",
       "      <td>0.0</td>\n",
       "      <td>0.0</td>\n",
       "      <td>...</td>\n",
       "      <td>0.0</td>\n",
       "      <td>0.0</td>\n",
       "      <td>0.0</td>\n",
       "      <td>0.0</td>\n",
       "      <td>0.0</td>\n",
       "      <td>0.0</td>\n",
       "      <td>0.0</td>\n",
       "      <td>0.0</td>\n",
       "      <td>NaN</td>\n",
       "      <td>False</td>\n",
       "    </tr>\n",
       "    <tr>\n",
       "      <th>4</th>\n",
       "      <td>35.0</td>\n",
       "      <td>0.966667</td>\n",
       "      <td>-1.133333</td>\n",
       "      <td>8.5</td>\n",
       "      <td>6.1</td>\n",
       "      <td>3.4</td>\n",
       "      <td>0.0</td>\n",
       "      <td>300.0</td>\n",
       "      <td>0.0</td>\n",
       "      <td>0.0</td>\n",
       "      <td>...</td>\n",
       "      <td>0.0</td>\n",
       "      <td>0.0</td>\n",
       "      <td>0.0</td>\n",
       "      <td>0.0</td>\n",
       "      <td>0.0</td>\n",
       "      <td>0.0</td>\n",
       "      <td>0.0</td>\n",
       "      <td>0.0</td>\n",
       "      <td>NaN</td>\n",
       "      <td>False</td>\n",
       "    </tr>\n",
       "  </tbody>\n",
       "</table>\n",
       "<p>5 rows × 23 columns</p>\n",
       "</div>"
      ]
     },
     "execution_count": 12,
     "metadata": {},
     "output_type": "execute_result"
    }
   ],
   "execution_count": 12
  },
  {
   "metadata": {
    "ExecuteTime": {
     "end_time": "2024-11-04T18:17:52.091147Z",
     "start_time": "2024-11-04T18:17:28.687907Z"
    }
   },
   "cell_type": "code",
   "source": "raw_data.to_csv(data_root+'preprocessed_data.csv')\n",
   "id": "d74af63a1024cca6",
   "outputs": [],
   "execution_count": 13
  },
  {
   "metadata": {},
   "cell_type": "code",
   "outputs": [],
   "execution_count": null,
   "source": "",
   "id": "d864ed982883b86"
  },
  {
   "metadata": {},
   "cell_type": "markdown",
   "source": "# input és output ",
   "id": "45023a9a3cc9648c"
  },
  {
   "metadata": {
    "ExecuteTime": {
     "end_time": "2024-11-04T20:04:05.060028Z",
     "start_time": "2024-11-04T20:03:59.292409Z"
    }
   },
   "cell_type": "code",
   "source": "raw_data=pd.read_csv(data_root+'preprocessed_data.csv')\n",
   "id": "9a0c45d2539bcaef",
   "outputs": [],
   "execution_count": 5
  },
  {
   "metadata": {
    "ExecuteTime": {
     "end_time": "2024-11-04T20:04:15.382547Z",
     "start_time": "2024-11-04T20:04:14.498257Z"
    }
   },
   "cell_type": "code",
   "source": [
    "pd_y= raw_data['KESES']\n",
    "pd_X = raw_data.drop(columns=['KESES'])"
   ],
   "id": "ae6d8d2851b49d7c",
   "outputs": [],
   "execution_count": 6
  },
  {
   "metadata": {
    "ExecuteTime": {
     "end_time": "2024-11-04T20:04:21.043766Z",
     "start_time": "2024-11-04T20:04:18.343661Z"
    }
   },
   "cell_type": "code",
   "source": [
    "from sklearn.model_selection import train_test_split\n",
    "X_train, X_test, y_train, y_test = train_test_split(pd_X, pd_y, test_size=0.3, random_state=44)"
   ],
   "id": "bcd948e892f65c04",
   "outputs": [],
   "execution_count": 7
  },
  {
   "metadata": {
    "ExecuteTime": {
     "end_time": "2024-11-04T20:04:41.561320Z",
     "start_time": "2024-11-04T20:04:23.375128Z"
    }
   },
   "cell_type": "code",
   "source": [
    "from sklearn.tree import DecisionTreeRegressor\n",
    "model = DecisionTreeRegressor(random_state=44)\n",
    "model.fit(X_train, y_train)\n",
    "predictions = model.predict(X_test)"
   ],
   "id": "d4fb6d174ce980dc",
   "outputs": [],
   "execution_count": 8
  },
  {
   "metadata": {
    "jupyter": {
     "is_executing": true
    }
   },
   "cell_type": "code",
   "source": [
    "'''\n",
    "from sklearn.tree import plot_tree\n",
    "import matplotlib.pyplot as plt\n",
    "plt.figure(figsize=(10,8), dpi=150)\n",
    "plot_tree(model, feature_names=pd_X.columns);\n",
    "'''"
   ],
   "id": "6d398bb424311174",
   "outputs": [],
   "execution_count": null
  },
  {
   "metadata": {
    "jupyter": {
     "is_executing": true
    }
   },
   "cell_type": "code",
   "source": "type(X_test)",
   "id": "68449f91c2e4a7d",
   "outputs": [],
   "execution_count": null
  },
  {
   "metadata": {
    "ExecuteTime": {
     "end_time": "2024-11-04T20:19:35.956704Z",
     "start_time": "2024-11-04T20:19:35.943705Z"
    }
   },
   "cell_type": "code",
   "source": "X_train.shape[0]",
   "id": "46e88ac0cc1afab2",
   "outputs": [
    {
     "data": {
      "text/plain": [
       "1350058"
      ]
     },
     "execution_count": 27,
     "metadata": {},
     "output_type": "execute_result"
    }
   ],
   "execution_count": 27
  },
  {
   "metadata": {
    "ExecuteTime": {
     "end_time": "2024-11-04T20:19:15.273080Z",
     "start_time": "2024-11-04T20:19:15.262026Z"
    }
   },
   "cell_type": "code",
   "source": "X_test.shape[0]",
   "id": "63333f23182f8873",
   "outputs": [
    {
     "data": {
      "text/plain": [
       "578597"
      ]
     },
     "execution_count": 26,
     "metadata": {},
     "output_type": "execute_result"
    }
   ],
   "execution_count": 26
  },
  {
   "metadata": {
    "ExecuteTime": {
     "end_time": "2024-11-04T20:06:16.378796Z",
     "start_time": "2024-11-04T20:06:16.286192Z"
    }
   },
   "cell_type": "code",
   "source": "eval_df=pd.concat([X_test[['TERV_IDOTARTAM']],y_test],axis=1)",
   "id": "cbecd608730c05a2",
   "outputs": [],
   "execution_count": 11
  },
  {
   "metadata": {
    "ExecuteTime": {
     "end_time": "2024-11-04T20:06:31.164985Z",
     "start_time": "2024-11-04T20:06:31.131097Z"
    }
   },
   "cell_type": "code",
   "source": "eval_df['predictions']=predictions",
   "id": "3dcae1bf2dc4c0e2",
   "outputs": [],
   "execution_count": 12
  },
  {
   "metadata": {
    "ExecuteTime": {
     "end_time": "2024-11-04T20:06:39.510782Z",
     "start_time": "2024-11-04T20:06:39.458541Z"
    }
   },
   "cell_type": "code",
   "source": "eval_df.head()",
   "id": "dd6ab997abc855d7",
   "outputs": [
    {
     "data": {
      "text/plain": [
       "         TERV_IDOTARTAM     KESES  predictions\n",
       "1224451            60.0 -0.200000    -0.516667\n",
       "311804            120.0 -0.266667    -0.616667\n",
       "1245018            60.0  0.316667     0.216667\n",
       "1036497            60.0 -0.483333     0.266667\n",
       "792395            120.0 -0.400000     0.983333"
      ],
      "text/html": [
       "<div>\n",
       "<style scoped>\n",
       "    .dataframe tbody tr th:only-of-type {\n",
       "        vertical-align: middle;\n",
       "    }\n",
       "\n",
       "    .dataframe tbody tr th {\n",
       "        vertical-align: top;\n",
       "    }\n",
       "\n",
       "    .dataframe thead th {\n",
       "        text-align: right;\n",
       "    }\n",
       "</style>\n",
       "<table border=\"1\" class=\"dataframe\">\n",
       "  <thead>\n",
       "    <tr style=\"text-align: right;\">\n",
       "      <th></th>\n",
       "      <th>TERV_IDOTARTAM</th>\n",
       "      <th>KESES</th>\n",
       "      <th>predictions</th>\n",
       "    </tr>\n",
       "  </thead>\n",
       "  <tbody>\n",
       "    <tr>\n",
       "      <th>1224451</th>\n",
       "      <td>60.0</td>\n",
       "      <td>-0.200000</td>\n",
       "      <td>-0.516667</td>\n",
       "    </tr>\n",
       "    <tr>\n",
       "      <th>311804</th>\n",
       "      <td>120.0</td>\n",
       "      <td>-0.266667</td>\n",
       "      <td>-0.616667</td>\n",
       "    </tr>\n",
       "    <tr>\n",
       "      <th>1245018</th>\n",
       "      <td>60.0</td>\n",
       "      <td>0.316667</td>\n",
       "      <td>0.216667</td>\n",
       "    </tr>\n",
       "    <tr>\n",
       "      <th>1036497</th>\n",
       "      <td>60.0</td>\n",
       "      <td>-0.483333</td>\n",
       "      <td>0.266667</td>\n",
       "    </tr>\n",
       "    <tr>\n",
       "      <th>792395</th>\n",
       "      <td>120.0</td>\n",
       "      <td>-0.400000</td>\n",
       "      <td>0.983333</td>\n",
       "    </tr>\n",
       "  </tbody>\n",
       "</table>\n",
       "</div>"
      ]
     },
     "execution_count": 13,
     "metadata": {},
     "output_type": "execute_result"
    }
   ],
   "execution_count": 13
  },
  {
   "metadata": {
    "ExecuteTime": {
     "end_time": "2024-11-04T20:32:40.520163Z",
     "start_time": "2024-11-04T20:32:40.439170Z"
    }
   },
   "cell_type": "code",
   "source": [
    "eval_df['Tény']=eval_df['TERV_IDOTARTAM']+eval_df['KESES']\n",
    "eval_df['Pred']=eval_df['TERV_IDOTARTAM']+eval_df['predictions']\n",
    "eval_df['PE']=(eval_df['Tény']-eval_df['Pred'])/eval_df['Tény'] *100\n",
    "eval_df['PE1']=(eval_df['KESES']-eval_df['predictions'])/eval_df['KESES'] *100\n"
   ],
   "id": "9eb75165efa1bf3b",
   "outputs": [],
   "execution_count": 31
  },
  {
   "metadata": {
    "ExecuteTime": {
     "end_time": "2024-11-04T20:33:30.116119Z",
     "start_time": "2024-11-04T20:33:30.103870Z"
    }
   },
   "cell_type": "code",
   "source": "eval_df.tail()",
   "id": "cb50bad6f7ed1e21",
   "outputs": [
    {
     "data": {
      "text/plain": [
       "         TERV_IDOTARTAM     KESES  predictions        Tény        Pred  \\\n",
       "1559032           240.0  0.316667     0.333333  240.316667  240.333333   \n",
       "1038341           180.0  0.083333     0.283333  180.083333  180.283333   \n",
       "1727299           540.0  0.366667     0.983333  540.366667  540.983333   \n",
       "1871785           180.0  0.050000    -2.466667  180.050000  177.533333   \n",
       "804449             60.0 -0.183333    -0.150000   59.816667   59.850000   \n",
       "\n",
       "               PE          PE1  \n",
       "1559032 -0.006935    -5.263158  \n",
       "1038341 -0.111060  -240.000000  \n",
       "1727299 -0.114120  -168.181818  \n",
       "1871785  1.397760  5033.333333  \n",
       "804449  -0.055726    18.181818  "
      ],
      "text/html": [
       "<div>\n",
       "<style scoped>\n",
       "    .dataframe tbody tr th:only-of-type {\n",
       "        vertical-align: middle;\n",
       "    }\n",
       "\n",
       "    .dataframe tbody tr th {\n",
       "        vertical-align: top;\n",
       "    }\n",
       "\n",
       "    .dataframe thead th {\n",
       "        text-align: right;\n",
       "    }\n",
       "</style>\n",
       "<table border=\"1\" class=\"dataframe\">\n",
       "  <thead>\n",
       "    <tr style=\"text-align: right;\">\n",
       "      <th></th>\n",
       "      <th>TERV_IDOTARTAM</th>\n",
       "      <th>KESES</th>\n",
       "      <th>predictions</th>\n",
       "      <th>Tény</th>\n",
       "      <th>Pred</th>\n",
       "      <th>PE</th>\n",
       "      <th>PE1</th>\n",
       "    </tr>\n",
       "  </thead>\n",
       "  <tbody>\n",
       "    <tr>\n",
       "      <th>1559032</th>\n",
       "      <td>240.0</td>\n",
       "      <td>0.316667</td>\n",
       "      <td>0.333333</td>\n",
       "      <td>240.316667</td>\n",
       "      <td>240.333333</td>\n",
       "      <td>-0.006935</td>\n",
       "      <td>-5.263158</td>\n",
       "    </tr>\n",
       "    <tr>\n",
       "      <th>1038341</th>\n",
       "      <td>180.0</td>\n",
       "      <td>0.083333</td>\n",
       "      <td>0.283333</td>\n",
       "      <td>180.083333</td>\n",
       "      <td>180.283333</td>\n",
       "      <td>-0.111060</td>\n",
       "      <td>-240.000000</td>\n",
       "    </tr>\n",
       "    <tr>\n",
       "      <th>1727299</th>\n",
       "      <td>540.0</td>\n",
       "      <td>0.366667</td>\n",
       "      <td>0.983333</td>\n",
       "      <td>540.366667</td>\n",
       "      <td>540.983333</td>\n",
       "      <td>-0.114120</td>\n",
       "      <td>-168.181818</td>\n",
       "    </tr>\n",
       "    <tr>\n",
       "      <th>1871785</th>\n",
       "      <td>180.0</td>\n",
       "      <td>0.050000</td>\n",
       "      <td>-2.466667</td>\n",
       "      <td>180.050000</td>\n",
       "      <td>177.533333</td>\n",
       "      <td>1.397760</td>\n",
       "      <td>5033.333333</td>\n",
       "    </tr>\n",
       "    <tr>\n",
       "      <th>804449</th>\n",
       "      <td>60.0</td>\n",
       "      <td>-0.183333</td>\n",
       "      <td>-0.150000</td>\n",
       "      <td>59.816667</td>\n",
       "      <td>59.850000</td>\n",
       "      <td>-0.055726</td>\n",
       "      <td>18.181818</td>\n",
       "    </tr>\n",
       "  </tbody>\n",
       "</table>\n",
       "</div>"
      ]
     },
     "execution_count": 34,
     "metadata": {},
     "output_type": "execute_result"
    }
   ],
   "execution_count": 34
  },
  {
   "metadata": {
    "ExecuteTime": {
     "end_time": "2024-11-04T20:18:09.603722Z",
     "start_time": "2024-11-04T20:18:09.513571Z"
    }
   },
   "cell_type": "code",
   "source": "eval_df=eval_df[eval_df['TERV_IDOTARTAM']>0]",
   "id": "be9a80dcf061ba2d",
   "outputs": [],
   "execution_count": 24
  },
  {
   "metadata": {
    "ExecuteTime": {
     "end_time": "2024-11-04T20:18:12.776471Z",
     "start_time": "2024-11-04T20:18:12.743469Z"
    }
   },
   "cell_type": "code",
   "source": "eval_df['PE'].describe()",
   "id": "ebae1d416f0a1080",
   "outputs": [
    {
     "data": {
      "text/plain": [
       "count    418789.000000\n",
       "mean         -0.017498\n",
       "std           1.039408\n",
       "min        -295.975232\n",
       "25%          -0.125156\n",
       "50%           0.000000\n",
       "75%           0.112045\n",
       "max          48.108186\n",
       "Name: PE, dtype: float64"
      ]
     },
     "execution_count": 25,
     "metadata": {},
     "output_type": "execute_result"
    }
   ],
   "execution_count": 25
  },
  {
   "metadata": {
    "ExecuteTime": {
     "end_time": "2024-11-04T20:32:50.810027Z",
     "start_time": "2024-11-04T20:32:50.768547Z"
    }
   },
   "cell_type": "code",
   "source": "eval_df['PE1'].describe()",
   "id": "55cb4e76dcd5028c",
   "outputs": [
    {
     "name": "stderr",
     "output_type": "stream",
     "text": [
      "C:\\Users\\ELTE\\miniconda3\\envs\\gtfs_env_311\\Lib\\site-packages\\numpy\\core\\_methods.py:49: RuntimeWarning: invalid value encountered in reduce\n",
      "  return umr_sum(a, axis, dtype, out, keepdims, initial, where)\n"
     ]
    },
    {
     "data": {
      "text/plain": [
       "count    4.085900e+05\n",
       "mean              NaN\n",
       "std               NaN\n",
       "min              -inf\n",
       "25%     -2.500000e+01\n",
       "50%      1.052632e+01\n",
       "75%      7.500000e+01\n",
       "max               inf\n",
       "Name: PE1, dtype: float64"
      ]
     },
     "execution_count": 33,
     "metadata": {},
     "output_type": "execute_result"
    }
   ],
   "execution_count": 33
  },
  {
   "metadata": {
    "ExecuteTime": {
     "end_time": "2024-11-04T20:15:33.805360Z",
     "start_time": "2024-11-04T20:15:33.796590Z"
    }
   },
   "cell_type": "code",
   "source": "errors=eval_df.loc[pd.isna(eval_df['Pred'])]",
   "id": "ac428bfefcefaf2d",
   "outputs": [],
   "execution_count": 20
  },
  {
   "metadata": {
    "ExecuteTime": {
     "end_time": "2024-11-04T20:15:45.215294Z",
     "start_time": "2024-11-04T20:15:45.203234Z"
    }
   },
   "cell_type": "code",
   "source": "errors.head()",
   "id": "e9604c073b8cc31c",
   "outputs": [
    {
     "data": {
      "text/plain": [
       "Empty DataFrame\n",
       "Columns: [TERV_IDOTARTAM, KESES, predictions, Tény, Pred, PE]\n",
       "Index: []"
      ],
      "text/html": [
       "<div>\n",
       "<style scoped>\n",
       "    .dataframe tbody tr th:only-of-type {\n",
       "        vertical-align: middle;\n",
       "    }\n",
       "\n",
       "    .dataframe tbody tr th {\n",
       "        vertical-align: top;\n",
       "    }\n",
       "\n",
       "    .dataframe thead th {\n",
       "        text-align: right;\n",
       "    }\n",
       "</style>\n",
       "<table border=\"1\" class=\"dataframe\">\n",
       "  <thead>\n",
       "    <tr style=\"text-align: right;\">\n",
       "      <th></th>\n",
       "      <th>TERV_IDOTARTAM</th>\n",
       "      <th>KESES</th>\n",
       "      <th>predictions</th>\n",
       "      <th>Tény</th>\n",
       "      <th>Pred</th>\n",
       "      <th>PE</th>\n",
       "    </tr>\n",
       "  </thead>\n",
       "  <tbody>\n",
       "  </tbody>\n",
       "</table>\n",
       "</div>"
      ]
     },
     "execution_count": 21,
     "metadata": {},
     "output_type": "execute_result"
    }
   ],
   "execution_count": 21
  },
  {
   "metadata": {},
   "cell_type": "code",
   "outputs": [],
   "execution_count": null,
   "source": "",
   "id": "5c78e37b47c6ab09"
  }
 ],
 "metadata": {
  "kernelspec": {
   "display_name": "Python 3",
   "language": "python",
   "name": "python3"
  },
  "language_info": {
   "codemirror_mode": {
    "name": "ipython",
    "version": 2
   },
   "file_extension": ".py",
   "mimetype": "text/x-python",
   "name": "python",
   "nbconvert_exporter": "python",
   "pygments_lexer": "ipython2",
   "version": "2.7.6"
  }
 },
 "nbformat": 4,
 "nbformat_minor": 5
}

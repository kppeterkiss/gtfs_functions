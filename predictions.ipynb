{
 "cells": [
  {
   "metadata": {},
   "cell_type": "markdown",
   "source": "# Homogén adatok átalakítása modell tanításhoz",
   "id": "eb4830a135e6d98e"
  },
  {
   "metadata": {
    "ExecuteTime": {
     "end_time": "2024-11-24T20:00:48.726761Z",
     "start_time": "2024-11-24T20:00:46.325508Z"
    }
   },
   "cell_type": "code",
   "source": [
    "import pandas as pd\n",
    "from sklearn.preprocessing import MinMaxScaler"
   ],
   "id": "initial_id",
   "outputs": [],
   "execution_count": 1
  },
  {
   "metadata": {
    "ExecuteTime": {
     "end_time": "2024-11-24T20:00:48.732850Z",
     "start_time": "2024-11-24T20:00:48.728371Z"
    }
   },
   "cell_type": "code",
   "source": [
    "def load_data(fn): \n",
    "    with open(fn, 'rt') as f:\n",
    "        types = next(f).rstrip().split(',')[1:]\n",
    "        columns = next(f).rstrip().split(',')[1:]\n",
    "        df = pd.read_csv(f, dtype=dict(zip(columns, types)), index_col=0, names=columns)\n",
    "        return df"
   ],
   "id": "24f7da327c95677a",
   "outputs": [],
   "execution_count": 2
  },
  {
   "metadata": {
    "ExecuteTime": {
     "end_time": "2024-11-24T20:00:48.736902Z",
     "start_time": "2024-11-24T20:00:48.733900Z"
    }
   },
   "cell_type": "code",
   "source": "",
   "id": "96177083407842c7",
   "outputs": [],
   "execution_count": 2
  },
  {
   "metadata": {
    "ExecuteTime": {
     "end_time": "2024-11-24T20:00:48.778657Z",
     "start_time": "2024-11-24T20:00:48.737952Z"
    }
   },
   "cell_type": "code",
   "source": "!free -m",
   "id": "eff6e4398f353a4a",
   "outputs": [
    {
     "name": "stderr",
     "output_type": "stream",
     "text": [
      "'free' is not recognized as an internal or external command,\n",
      "operable program or batch file.\n"
     ]
    }
   ],
   "execution_count": 3
  },
  {
   "metadata": {
    "ExecuteTime": {
     "end_time": "2024-11-24T20:00:48.790646Z",
     "start_time": "2024-11-24T20:00:48.781318Z"
    }
   },
   "cell_type": "code",
   "source": [
    "import random\n",
    "import calendar\n",
    "from datetime import datetime\n",
    "'''\n",
    "def pick_random_days(year):\n",
    "    random_days = {}\n",
    "    for month in range(1, 13):\n",
    "        days_in_month = calendar.monthrange(year, month)[1]\n",
    "        random_days[calendar.month_name[month]] = random.sample(range(1, days_in_month + 1), 3)\n",
    "        date = datetime(year, month, day)\n",
    "    return random_days\n",
    "\n",
    "year = 2024\n",
    "random_days = pick_random_days(year)\n",
    "random.seed(42)\n",
    "for month, days in random_days.items():\n",
    "    \n",
    "    print(f\"{month}: {days}\")\n",
    "    \n",
    "''' \n",
    "import random\n",
    "from datetime import datetime, timedelta\n",
    "random.seed(42)\n",
    "def random_dates(years,validation_day_no, size_reducing_day_no):\n",
    "    all_random_dates=validation_day_no+size_reducing_day_no\n",
    "    dates = []\n",
    "    size_reducing_dates=[]\n",
    "    for year in years:\n",
    "        for month in range(1, 13):\n",
    "            for i in range(all_random_dates):\n",
    "                # Generate a random day in the current month\n",
    "                day = random.randint(1, 28)  # To avoid issues with different month lengths\n",
    "                date = datetime(year, month, day).date()\n",
    "                if i>=validation_day_no:\n",
    "                    size_reducing_dates.append(date)\n",
    "                else:\n",
    "                    dates.append(date)\n",
    "    return dates,size_reducing_dates\n",
    "\n",
    "# Example usage\n",
    "years = [2022,2023]\n",
    "random_days,days_to_keep = random_dates(years,3,10)\n",
    "for date in random_days:\n",
    "    print(date)"
   ],
   "id": "745473e4586c4098",
   "outputs": [
    {
     "name": "stdout",
     "output_type": "stream",
     "text": [
      "2022-01-21\n",
      "2022-01-04\n",
      "2022-01-01\n",
      "2022-02-03\n",
      "2022-02-19\n",
      "2022-02-14\n",
      "2022-03-23\n",
      "2022-03-21\n",
      "2022-03-23\n",
      "2022-04-26\n",
      "2022-04-06\n",
      "2022-04-23\n",
      "2022-05-04\n",
      "2022-05-12\n",
      "2022-05-28\n",
      "2022-06-03\n",
      "2022-06-18\n",
      "2022-06-10\n",
      "2022-07-22\n",
      "2022-07-08\n",
      "2022-07-25\n",
      "2022-08-27\n",
      "2022-08-12\n",
      "2022-08-06\n",
      "2022-09-21\n",
      "2022-09-06\n",
      "2022-09-18\n",
      "2022-10-22\n",
      "2022-10-11\n",
      "2022-10-27\n",
      "2022-11-03\n",
      "2022-11-07\n",
      "2022-11-19\n",
      "2022-12-05\n",
      "2022-12-08\n",
      "2022-12-24\n",
      "2023-01-05\n",
      "2023-01-17\n",
      "2023-01-16\n",
      "2023-02-14\n",
      "2023-02-20\n",
      "2023-02-03\n",
      "2023-03-24\n",
      "2023-03-04\n",
      "2023-03-22\n",
      "2023-04-15\n",
      "2023-04-01\n",
      "2023-04-24\n",
      "2023-05-27\n",
      "2023-05-21\n",
      "2023-05-17\n",
      "2023-06-20\n",
      "2023-06-11\n",
      "2023-06-16\n",
      "2023-07-03\n",
      "2023-07-03\n",
      "2023-07-24\n",
      "2023-08-18\n",
      "2023-08-06\n",
      "2023-08-09\n",
      "2023-09-23\n",
      "2023-09-10\n",
      "2023-09-13\n",
      "2023-10-11\n",
      "2023-10-01\n",
      "2023-10-19\n",
      "2023-11-03\n",
      "2023-11-02\n",
      "2023-11-28\n",
      "2023-12-24\n",
      "2023-12-19\n",
      "2023-12-19\n"
     ]
    }
   ],
   "execution_count": 4
  },
  {
   "metadata": {
    "ExecuteTime": {
     "end_time": "2024-11-24T20:00:48.801660Z",
     "start_time": "2024-11-24T20:00:48.792656Z"
    }
   },
   "cell_type": "code",
   "source": [
    "'''import random\n",
    "random.seed(45)   \n",
    "print(random.random())\n",
    "print(random.random())\n",
    "random.seed(45)   \n",
    "print(random.random())\n",
    "print(random.random())\n",
    "'''"
   ],
   "id": "2ae885720171d85f",
   "outputs": [
    {
     "data": {
      "text/plain": [
       "'import random\\nrandom.seed(45)   \\nprint(random.random())\\nprint(random.random())\\nrandom.seed(45)   \\nprint(random.random())\\nprint(random.random())\\n'"
      ]
     },
     "execution_count": 5,
     "metadata": {},
     "output_type": "execute_result"
    }
   ],
   "execution_count": 5
  },
  {
   "metadata": {
    "ExecuteTime": {
     "end_time": "2024-11-24T20:00:48.809845Z",
     "start_time": "2024-11-24T20:00:48.803839Z"
    }
   },
   "cell_type": "code",
   "source": [
    "#data_root = \"data/\"\n",
    "from config import data_root\n",
    "#datafn= \"data.csv\""
   ],
   "id": "8414e604476e21d9",
   "outputs": [],
   "execution_count": 6
  },
  {
   "metadata": {
    "ExecuteTime": {
     "end_time": "2024-11-24T20:04:11.857799Z",
     "start_time": "2024-11-24T20:00:48.811914Z"
    }
   },
   "cell_type": "code",
   "source": [
    "import numpy as np\n",
    "#raw_data =load_data(data_root+datafn)\n",
    "raw_data=pd.read_pickle(data_root+'data.pkl')\n",
    "raw_data.replace([np.inf, -np.inf], np.nan, inplace=True)\n",
    "raw_data.dropna( inplace=True)\n"
   ],
   "id": "c5688790312e3027",
   "outputs": [],
   "execution_count": 7
  },
  {
   "metadata": {
    "ExecuteTime": {
     "end_time": "2024-11-24T20:04:20.342586Z",
     "start_time": "2024-11-24T20:04:11.898063Z"
    }
   },
   "cell_type": "code",
   "source": [
    "raw_data['KOZLEKEDESI_NAP']=pd.to_datetime(raw_data['ELOZO_ESEMENY_IDO']).dt.date\n",
    "df_to_validate_orig = raw_data[raw_data['KOZLEKEDESI_NAP'].isin(random_days)]\n",
    "df_to_validate_orig.to_pickle(data_root+'validation_orig.pkl')\n",
    "del df_to_validate_orig\n",
    "\n"
   ],
   "id": "cdd49238d63e8103",
   "outputs": [],
   "execution_count": 8
  },
  {
   "metadata": {
    "ExecuteTime": {
     "end_time": "2024-11-24T20:04:20.390816Z",
     "start_time": "2024-11-24T20:04:20.345430Z"
    }
   },
   "cell_type": "code",
   "source": "raw_data.dtypes",
   "id": "d31e071dd9ee53c9",
   "outputs": [
    {
     "data": {
      "text/plain": [
       "VONAL                                       object\n",
       "VONATSZAM                                    int64\n",
       "VONTATO_TIPUS                                int64\n",
       "ELOZO_ESEMENY_IDO                           object\n",
       "MENETREND_IDO                               object\n",
       "OSSZ_KESES                                  object\n",
       "ELOZO_KESES                                 object\n",
       "KESES                                       object\n",
       "RELATIV_KESES                              float64\n",
       "TERV_IDOTARTAM (m)                         float64\n",
       "tx                                         float64\n",
       "t                                          float64\n",
       "tn                                         float64\n",
       "r                                          float64\n",
       "LINE                                         int64\n",
       "ID                                          object\n",
       "Kizárásszám                                 object\n",
       "Érintett objektum típusa                   float64\n",
       "Lassúmenet típusa                          float64\n",
       "Lassúmenet hossza                          float64\n",
       "Lassúmenet mértéke (km/h)                  float64\n",
       "Lassúmenet mértéke motorvonatra (km/h)     float64\n",
       "Fels.vez. kikapcsolása                     float64\n",
       "I                                          float64\n",
       "E                                          float64\n",
       "ÁI                                         float64\n",
       "ÁE                                         float64\n",
       "Kezdés                                      object\n",
       "Befejezés                                   object\n",
       "Kizárás (1=VZ,2=LJ)                        float64\n",
       "Kiutalt menetvonalak zavartatása nélkül    float64\n",
       "Státus                                     float64\n",
       "ELOZO VONAT KESES                           object\n",
       "ELOZO VONAT RELATIV KESES                  float64\n",
       "VONAL STATUSZ VALTOZOTT                       bool\n",
       "KOZLEKEDESI_NAP                             object\n",
       "dtype: object"
      ]
     },
     "execution_count": 9,
     "metadata": {},
     "output_type": "execute_result"
    }
   ],
   "execution_count": 9
  },
  {
   "metadata": {
    "ExecuteTime": {
     "end_time": "2024-11-24T20:04:20.406178Z",
     "start_time": "2024-11-24T20:04:20.393824Z"
    }
   },
   "cell_type": "code",
   "source": [
    "import datetime\n",
    "def convert_time_to_minute(input):\n",
    "    if isinstance(input,datetime.time):\n",
    "        return float(input.hour*60+input.minute)\n",
    "    #TODO does totalseconds return some decent value for negativ timedelta? \n",
    "    # ANS: it is good\n",
    "    if isinstance(input,datetime.timedelta):\n",
    "        ret = input.total_seconds()/60\n",
    "       # if datetime.timedelta(0)>input:\n",
    "       #     return -ret\n",
    "        return ret\n",
    "    if isinstance(input,float):\n",
    "        return input\n",
    "    return -1.0"
   ],
   "id": "be66b9ba92baf2d4",
   "outputs": [],
   "execution_count": 10
  },
  {
   "metadata": {
    "ExecuteTime": {
     "end_time": "2024-11-24T20:04:20.414186Z",
     "start_time": "2024-11-24T20:04:20.409189Z"
    }
   },
   "cell_type": "code",
   "source": "# átalakítjuk időt percekké",
   "id": "bea3510fece59336",
   "outputs": [],
   "execution_count": 11
  },
  {
   "metadata": {
    "ExecuteTime": {
     "end_time": "2024-11-24T20:05:01.606153Z",
     "start_time": "2024-11-24T20:04:20.418220Z"
    }
   },
   "cell_type": "code",
   "source": [
    "def prepare_for_training(raw_data):\n",
    "    raw_data[['MENETREND_IDO','ELOZO_KESES','ELOZO VONAT KESES','KESES']] = raw_data[['MENETREND_IDO','ELOZO_KESES','ELOZO VONAT KESES','KESES']].map(convert_time_to_minute)\n",
    "    \n",
    "    \n",
    "    raw_data['VONAL STATUSZ VALTOZOTT']=raw_data['VONAL STATUSZ VALTOZOTT'].head().astype(float)\n",
    "    raw_data.fillna(0.0,inplace=True)\n",
    "    \n",
    "prepare_for_training(raw_data)"
   ],
   "id": "7d7c5ea1e28cb35a",
   "outputs": [],
   "execution_count": 12
  },
  {
   "metadata": {
    "ExecuteTime": {
     "end_time": "2024-11-24T20:05:33.197786Z",
     "start_time": "2024-11-24T20:05:01.640300Z"
    }
   },
   "cell_type": "code",
   "source": [
    "#TODO boolean vs categorical?\n",
    "#TODO Vonal, Line mit kellene kezdeni velük? kicsit kölséges használni őket..\n",
    "#raw_data[['VONATSZAM','VONAL','VONTATO_TIPUS','Lassúmenet típusa','Kizárás (1=VZ,2=LJ)','Kiutalt menetvonalak zavartatása nélkül','Státus','Fels.vez. kikapcsolása']]=raw_data[['VONATSZAM','VONAL','VONTATO_TIPUS','Lassúmenet típusa','Kizárás (1=VZ,2=LJ)','Kiutalt menetvonalak zavartatása nélkül','Státus','Fels.vez. kikapcsolása']].astype(\"category\")\n",
    "\n",
    "# sklearn nem bír  category-kal\n",
    "#raw_data.drop(columns=['VONATSZAM','VONAL','VONTATO_TIPUS'],inplace=True)\n",
    "\n",
    "# vonatszám kell majd spearman-hez\n",
    "raw_data.drop(columns=['VONAL','VONTATO_TIPUS'],inplace=True)\n"
   ],
   "id": "f65819485e89ac5b",
   "outputs": [],
   "execution_count": 13
  },
  {
   "metadata": {
    "ExecuteTime": {
     "end_time": "2024-11-24T20:05:40.342747Z",
     "start_time": "2024-11-24T20:05:33.208820Z"
    }
   },
   "cell_type": "code",
   "source": [
    "\n",
    "#\n",
    "raw_data=raw_data.drop(columns=['ELOZO_ESEMENY_IDO','ID','Kizárásszám','Kezdés','Befejezés','LINE','OSSZ_KESES'])\n"
   ],
   "id": "c1bfa83a90af9d8d",
   "outputs": [],
   "execution_count": 14
  },
  {
   "metadata": {
    "ExecuteTime": {
     "end_time": "2024-11-24T20:05:40.388523Z",
     "start_time": "2024-11-24T20:05:40.346765Z"
    }
   },
   "cell_type": "code",
   "source": "raw_data.dtypes\n",
   "id": "e9bda6887b2600ad",
   "outputs": [
    {
     "data": {
      "text/plain": [
       "VONATSZAM                                    int64\n",
       "MENETREND_IDO                              float64\n",
       "ELOZO_KESES                                float64\n",
       "KESES                                      float64\n",
       "RELATIV_KESES                              float64\n",
       "TERV_IDOTARTAM (m)                         float64\n",
       "tx                                         float64\n",
       "t                                          float64\n",
       "tn                                         float64\n",
       "r                                          float64\n",
       "Érintett objektum típusa                   float64\n",
       "Lassúmenet típusa                          float64\n",
       "Lassúmenet hossza                          float64\n",
       "Lassúmenet mértéke (km/h)                  float64\n",
       "Lassúmenet mértéke motorvonatra (km/h)     float64\n",
       "Fels.vez. kikapcsolása                     float64\n",
       "I                                          float64\n",
       "E                                          float64\n",
       "ÁI                                         float64\n",
       "ÁE                                         float64\n",
       "Kizárás (1=VZ,2=LJ)                        float64\n",
       "Kiutalt menetvonalak zavartatása nélkül    float64\n",
       "Státus                                     float64\n",
       "ELOZO VONAT KESES                          float64\n",
       "ELOZO VONAT RELATIV KESES                  float64\n",
       "VONAL STATUSZ VALTOZOTT                    float64\n",
       "KOZLEKEDESI_NAP                             object\n",
       "dtype: object"
      ]
     },
     "execution_count": 15,
     "metadata": {},
     "output_type": "execute_result"
    }
   ],
   "execution_count": 15
  },
  {
   "metadata": {
    "ExecuteTime": {
     "end_time": "2024-11-24T20:05:40.507514Z",
     "start_time": "2024-11-24T20:05:40.389532Z"
    }
   },
   "cell_type": "code",
   "source": "raw_data.head()",
   "id": "a09069806bd36ada",
   "outputs": [
    {
     "data": {
      "text/plain": [
       "    VONATSZAM  MENETREND_IDO  ELOZO_KESES     KESES  RELATIV_KESES  \\\n",
       "47       2019          241.0     1.166667 -0.216667      -0.216667   \n",
       "50       2019          245.0     1.716667  0.133333       0.133333   \n",
       "52       2019          250.0     1.800000 -0.433333      -0.433333   \n",
       "56       2019          256.0     2.366667 -0.383333      -0.383333   \n",
       "60       2019          261.0     2.300000  0.416667       0.416667   \n",
       "\n",
       "    TERV_IDOTARTAM (m)    tx     t   tn    r  ...    E   ÁI   ÁE  \\\n",
       "47                 1.0  14.1  12.2  7.7  0.0  ...  0.0  0.0  0.0   \n",
       "50                 1.0  14.1  12.2  7.7  0.0  ...  0.0  0.0  0.0   \n",
       "52                 1.0  14.1  12.2  7.7  0.0  ...  0.0  0.0  0.0   \n",
       "56                 1.0  14.1  12.2  7.7  0.0  ...  0.0  0.0  0.0   \n",
       "60                 1.0  14.1  12.2  7.7  0.0  ...  0.0  0.0  0.0   \n",
       "\n",
       "    Kizárás (1=VZ,2=LJ)  Kiutalt menetvonalak zavartatása nélkül  Státus  \\\n",
       "47                  0.0                                      0.0     0.0   \n",
       "50                  0.0                                      0.0     0.0   \n",
       "52                  0.0                                      0.0     0.0   \n",
       "56                  0.0                                      0.0     0.0   \n",
       "60                  0.0                                      0.0     0.0   \n",
       "\n",
       "    ELOZO VONAT KESES  ELOZO VONAT RELATIV KESES  VONAL STATUSZ VALTOZOTT  \\\n",
       "47          -0.550000                  -0.550000                      0.0   \n",
       "50           0.066667                   0.066667                      0.0   \n",
       "52          -0.600000                  -0.600000                      0.0   \n",
       "56          -0.583333                  -0.583333                      0.0   \n",
       "60          -0.350000                  -0.350000                      0.0   \n",
       "\n",
       "    KOZLEKEDESI_NAP  \n",
       "47       2022-01-01  \n",
       "50       2022-01-01  \n",
       "52       2022-01-01  \n",
       "56       2022-01-01  \n",
       "60       2022-01-01  \n",
       "\n",
       "[5 rows x 27 columns]"
      ],
      "text/html": [
       "<div>\n",
       "<style scoped>\n",
       "    .dataframe tbody tr th:only-of-type {\n",
       "        vertical-align: middle;\n",
       "    }\n",
       "\n",
       "    .dataframe tbody tr th {\n",
       "        vertical-align: top;\n",
       "    }\n",
       "\n",
       "    .dataframe thead th {\n",
       "        text-align: right;\n",
       "    }\n",
       "</style>\n",
       "<table border=\"1\" class=\"dataframe\">\n",
       "  <thead>\n",
       "    <tr style=\"text-align: right;\">\n",
       "      <th></th>\n",
       "      <th>VONATSZAM</th>\n",
       "      <th>MENETREND_IDO</th>\n",
       "      <th>ELOZO_KESES</th>\n",
       "      <th>KESES</th>\n",
       "      <th>RELATIV_KESES</th>\n",
       "      <th>TERV_IDOTARTAM (m)</th>\n",
       "      <th>tx</th>\n",
       "      <th>t</th>\n",
       "      <th>tn</th>\n",
       "      <th>r</th>\n",
       "      <th>...</th>\n",
       "      <th>E</th>\n",
       "      <th>ÁI</th>\n",
       "      <th>ÁE</th>\n",
       "      <th>Kizárás (1=VZ,2=LJ)</th>\n",
       "      <th>Kiutalt menetvonalak zavartatása nélkül</th>\n",
       "      <th>Státus</th>\n",
       "      <th>ELOZO VONAT KESES</th>\n",
       "      <th>ELOZO VONAT RELATIV KESES</th>\n",
       "      <th>VONAL STATUSZ VALTOZOTT</th>\n",
       "      <th>KOZLEKEDESI_NAP</th>\n",
       "    </tr>\n",
       "  </thead>\n",
       "  <tbody>\n",
       "    <tr>\n",
       "      <th>47</th>\n",
       "      <td>2019</td>\n",
       "      <td>241.0</td>\n",
       "      <td>1.166667</td>\n",
       "      <td>-0.216667</td>\n",
       "      <td>-0.216667</td>\n",
       "      <td>1.0</td>\n",
       "      <td>14.1</td>\n",
       "      <td>12.2</td>\n",
       "      <td>7.7</td>\n",
       "      <td>0.0</td>\n",
       "      <td>...</td>\n",
       "      <td>0.0</td>\n",
       "      <td>0.0</td>\n",
       "      <td>0.0</td>\n",
       "      <td>0.0</td>\n",
       "      <td>0.0</td>\n",
       "      <td>0.0</td>\n",
       "      <td>-0.550000</td>\n",
       "      <td>-0.550000</td>\n",
       "      <td>0.0</td>\n",
       "      <td>2022-01-01</td>\n",
       "    </tr>\n",
       "    <tr>\n",
       "      <th>50</th>\n",
       "      <td>2019</td>\n",
       "      <td>245.0</td>\n",
       "      <td>1.716667</td>\n",
       "      <td>0.133333</td>\n",
       "      <td>0.133333</td>\n",
       "      <td>1.0</td>\n",
       "      <td>14.1</td>\n",
       "      <td>12.2</td>\n",
       "      <td>7.7</td>\n",
       "      <td>0.0</td>\n",
       "      <td>...</td>\n",
       "      <td>0.0</td>\n",
       "      <td>0.0</td>\n",
       "      <td>0.0</td>\n",
       "      <td>0.0</td>\n",
       "      <td>0.0</td>\n",
       "      <td>0.0</td>\n",
       "      <td>0.066667</td>\n",
       "      <td>0.066667</td>\n",
       "      <td>0.0</td>\n",
       "      <td>2022-01-01</td>\n",
       "    </tr>\n",
       "    <tr>\n",
       "      <th>52</th>\n",
       "      <td>2019</td>\n",
       "      <td>250.0</td>\n",
       "      <td>1.800000</td>\n",
       "      <td>-0.433333</td>\n",
       "      <td>-0.433333</td>\n",
       "      <td>1.0</td>\n",
       "      <td>14.1</td>\n",
       "      <td>12.2</td>\n",
       "      <td>7.7</td>\n",
       "      <td>0.0</td>\n",
       "      <td>...</td>\n",
       "      <td>0.0</td>\n",
       "      <td>0.0</td>\n",
       "      <td>0.0</td>\n",
       "      <td>0.0</td>\n",
       "      <td>0.0</td>\n",
       "      <td>0.0</td>\n",
       "      <td>-0.600000</td>\n",
       "      <td>-0.600000</td>\n",
       "      <td>0.0</td>\n",
       "      <td>2022-01-01</td>\n",
       "    </tr>\n",
       "    <tr>\n",
       "      <th>56</th>\n",
       "      <td>2019</td>\n",
       "      <td>256.0</td>\n",
       "      <td>2.366667</td>\n",
       "      <td>-0.383333</td>\n",
       "      <td>-0.383333</td>\n",
       "      <td>1.0</td>\n",
       "      <td>14.1</td>\n",
       "      <td>12.2</td>\n",
       "      <td>7.7</td>\n",
       "      <td>0.0</td>\n",
       "      <td>...</td>\n",
       "      <td>0.0</td>\n",
       "      <td>0.0</td>\n",
       "      <td>0.0</td>\n",
       "      <td>0.0</td>\n",
       "      <td>0.0</td>\n",
       "      <td>0.0</td>\n",
       "      <td>-0.583333</td>\n",
       "      <td>-0.583333</td>\n",
       "      <td>0.0</td>\n",
       "      <td>2022-01-01</td>\n",
       "    </tr>\n",
       "    <tr>\n",
       "      <th>60</th>\n",
       "      <td>2019</td>\n",
       "      <td>261.0</td>\n",
       "      <td>2.300000</td>\n",
       "      <td>0.416667</td>\n",
       "      <td>0.416667</td>\n",
       "      <td>1.0</td>\n",
       "      <td>14.1</td>\n",
       "      <td>12.2</td>\n",
       "      <td>7.7</td>\n",
       "      <td>0.0</td>\n",
       "      <td>...</td>\n",
       "      <td>0.0</td>\n",
       "      <td>0.0</td>\n",
       "      <td>0.0</td>\n",
       "      <td>0.0</td>\n",
       "      <td>0.0</td>\n",
       "      <td>0.0</td>\n",
       "      <td>-0.350000</td>\n",
       "      <td>-0.350000</td>\n",
       "      <td>0.0</td>\n",
       "      <td>2022-01-01</td>\n",
       "    </tr>\n",
       "  </tbody>\n",
       "</table>\n",
       "<p>5 rows × 27 columns</p>\n",
       "</div>"
      ]
     },
     "execution_count": 16,
     "metadata": {},
     "output_type": "execute_result"
    }
   ],
   "execution_count": 16
  },
  {
   "metadata": {
    "ExecuteTime": {
     "end_time": "2024-11-24T20:05:41.078571Z",
     "start_time": "2024-11-24T20:05:40.509522Z"
    }
   },
   "cell_type": "code",
   "source": [
    "df_to_validate = raw_data[raw_data['KOZLEKEDESI_NAP'].isin(random_days)]\n",
    "#NEM HASZNÁLJUK AZ EGÉSZ ADATOT\n",
    "df_remaining = raw_data[raw_data['KOZLEKEDESI_NAP'].isin(days_to_keep)]"
   ],
   "id": "375c192407dba89b",
   "outputs": [],
   "execution_count": 17
  },
  {
   "metadata": {
    "ExecuteTime": {
     "end_time": "2024-11-24T20:05:41.083933Z",
     "start_time": "2024-11-24T20:05:41.080582Z"
    }
   },
   "cell_type": "code",
   "source": [
    "#ez is kell spearmann-hez\n",
    "#df_to_validate.drop(columns=['KOZLEKEDESI_NAP'],inplace=True)\n",
    "#df_remaining.drop(columns=['KOZLEKEDESI_NAP'],inplace=True)\n"
   ],
   "id": "f493899fd5b75949",
   "outputs": [],
   "execution_count": 18
  },
  {
   "metadata": {
    "ExecuteTime": {
     "end_time": "2024-11-24T20:06:03.806821Z",
     "start_time": "2024-11-24T20:05:41.085530Z"
    }
   },
   "cell_type": "code",
   "source": [
    "#raw_data.to_csv(data_root+'preprocessed_data.csv', index=False)\n",
    "df_to_validate.to_csv(data_root+'validation_data.csv', index=False)\n",
    "df_remaining.to_csv(data_root+'train_test_data.csv', index=False)\n",
    "\n"
   ],
   "id": "d74af63a1024cca6",
   "outputs": [],
   "execution_count": 19
  },
  {
   "metadata": {
    "ExecuteTime": {
     "end_time": "2024-11-24T20:06:03.898865Z",
     "start_time": "2024-11-24T20:06:03.821155Z"
    }
   },
   "cell_type": "code",
   "source": [
    "del raw_data\n",
    "del df_to_validate\n",
    "del df_remaining"
   ],
   "id": "d864ed982883b86",
   "outputs": [],
   "execution_count": 20
  },
  {
   "metadata": {},
   "cell_type": "markdown",
   "source": [
    "# Modellek tanítása\n",
    "\n",
    "A modellek tanításához elég innentől futtatni."
   ],
   "id": "45023a9a3cc9648c"
  },
  {
   "metadata": {
    "ExecuteTime": {
     "end_time": "2024-11-24T21:14:34.629635Z",
     "start_time": "2024-11-24T21:14:31.055204Z"
    }
   },
   "cell_type": "code",
   "source": [
    "import pandas as pd\n",
    "data_root = \"data/\"\n",
    "\n",
    "raw_data=pd.read_csv(data_root+'train_test_data.csv')\n",
    "#raw_data['VONAL STATUSZ VALTOZOTT']=raw_data['VONAL STATUSZ VALTOZOTT'].head().astype(float)\n",
    "\n"
   ],
   "id": "9a0c45d2539bcaef",
   "outputs": [],
   "execution_count": 1
  },
  {
   "metadata": {
    "ExecuteTime": {
     "end_time": "2024-11-24T21:14:34.666119Z",
     "start_time": "2024-11-24T21:14:34.631640Z"
    }
   },
   "cell_type": "code",
   "source": [
    "\n",
    "raw_data.head()\n"
   ],
   "id": "4cafeb67947e406d",
   "outputs": [
    {
     "data": {
      "text/plain": [
       "   VONATSZAM  MENETREND_IDO  ELOZO_KESES     KESES  RELATIV_KESES  \\\n",
       "0       2181            3.0     0.116667  0.166667       0.083333   \n",
       "1       2181            7.0     0.766667 -1.116667      -0.279167   \n",
       "2       2181           10.0    -0.350000 -0.916667      -0.305556   \n",
       "3       2181           11.0    -1.266667 -0.366667      -0.366667   \n",
       "4       2181           13.0     0.166667  0.100000       0.050000   \n",
       "\n",
       "   TERV_IDOTARTAM (m)    tx     t   tn    r  ...    E   ÁI   ÁE  \\\n",
       "0                 2.0  14.3  10.1  4.8  0.4  ...  0.0  0.0  0.0   \n",
       "1                 4.0  14.3  10.1  4.8  0.4  ...  0.0  0.0  0.0   \n",
       "2                 3.0  14.3  10.1  4.8  0.4  ...  0.0  0.0  0.0   \n",
       "3                 1.0  14.3  10.1  4.8  0.4  ...  0.0  0.0  0.0   \n",
       "4                 2.0  14.3  10.1  4.8  0.4  ...  0.0  0.0  0.0   \n",
       "\n",
       "   Kizárás (1=VZ,2=LJ)  Kiutalt menetvonalak zavartatása nélkül  Státus  \\\n",
       "0                  0.0                                      0.0     0.0   \n",
       "1                  0.0                                      0.0     0.0   \n",
       "2                  0.0                                      0.0     0.0   \n",
       "3                  0.0                                      0.0     0.0   \n",
       "4                  0.0                                      0.0     0.0   \n",
       "\n",
       "   ELOZO VONAT KESES  ELOZO VONAT RELATIV KESES  VONAL STATUSZ VALTOZOTT  \\\n",
       "0           0.233333                   0.116667                      0.0   \n",
       "1          -1.016667                  -0.254167                      0.0   \n",
       "2          -0.850000                  -0.283333                      0.0   \n",
       "3          -0.333333                  -0.333333                      0.0   \n",
       "4           0.100000                   0.050000                      0.0   \n",
       "\n",
       "   KOZLEKEDESI_NAP  \n",
       "0       2022-01-04  \n",
       "1       2022-01-04  \n",
       "2       2022-01-04  \n",
       "3       2022-01-04  \n",
       "4       2022-01-04  \n",
       "\n",
       "[5 rows x 27 columns]"
      ],
      "text/html": [
       "<div>\n",
       "<style scoped>\n",
       "    .dataframe tbody tr th:only-of-type {\n",
       "        vertical-align: middle;\n",
       "    }\n",
       "\n",
       "    .dataframe tbody tr th {\n",
       "        vertical-align: top;\n",
       "    }\n",
       "\n",
       "    .dataframe thead th {\n",
       "        text-align: right;\n",
       "    }\n",
       "</style>\n",
       "<table border=\"1\" class=\"dataframe\">\n",
       "  <thead>\n",
       "    <tr style=\"text-align: right;\">\n",
       "      <th></th>\n",
       "      <th>VONATSZAM</th>\n",
       "      <th>MENETREND_IDO</th>\n",
       "      <th>ELOZO_KESES</th>\n",
       "      <th>KESES</th>\n",
       "      <th>RELATIV_KESES</th>\n",
       "      <th>TERV_IDOTARTAM (m)</th>\n",
       "      <th>tx</th>\n",
       "      <th>t</th>\n",
       "      <th>tn</th>\n",
       "      <th>r</th>\n",
       "      <th>...</th>\n",
       "      <th>E</th>\n",
       "      <th>ÁI</th>\n",
       "      <th>ÁE</th>\n",
       "      <th>Kizárás (1=VZ,2=LJ)</th>\n",
       "      <th>Kiutalt menetvonalak zavartatása nélkül</th>\n",
       "      <th>Státus</th>\n",
       "      <th>ELOZO VONAT KESES</th>\n",
       "      <th>ELOZO VONAT RELATIV KESES</th>\n",
       "      <th>VONAL STATUSZ VALTOZOTT</th>\n",
       "      <th>KOZLEKEDESI_NAP</th>\n",
       "    </tr>\n",
       "  </thead>\n",
       "  <tbody>\n",
       "    <tr>\n",
       "      <th>0</th>\n",
       "      <td>2181</td>\n",
       "      <td>3.0</td>\n",
       "      <td>0.116667</td>\n",
       "      <td>0.166667</td>\n",
       "      <td>0.083333</td>\n",
       "      <td>2.0</td>\n",
       "      <td>14.3</td>\n",
       "      <td>10.1</td>\n",
       "      <td>4.8</td>\n",
       "      <td>0.4</td>\n",
       "      <td>...</td>\n",
       "      <td>0.0</td>\n",
       "      <td>0.0</td>\n",
       "      <td>0.0</td>\n",
       "      <td>0.0</td>\n",
       "      <td>0.0</td>\n",
       "      <td>0.0</td>\n",
       "      <td>0.233333</td>\n",
       "      <td>0.116667</td>\n",
       "      <td>0.0</td>\n",
       "      <td>2022-01-04</td>\n",
       "    </tr>\n",
       "    <tr>\n",
       "      <th>1</th>\n",
       "      <td>2181</td>\n",
       "      <td>7.0</td>\n",
       "      <td>0.766667</td>\n",
       "      <td>-1.116667</td>\n",
       "      <td>-0.279167</td>\n",
       "      <td>4.0</td>\n",
       "      <td>14.3</td>\n",
       "      <td>10.1</td>\n",
       "      <td>4.8</td>\n",
       "      <td>0.4</td>\n",
       "      <td>...</td>\n",
       "      <td>0.0</td>\n",
       "      <td>0.0</td>\n",
       "      <td>0.0</td>\n",
       "      <td>0.0</td>\n",
       "      <td>0.0</td>\n",
       "      <td>0.0</td>\n",
       "      <td>-1.016667</td>\n",
       "      <td>-0.254167</td>\n",
       "      <td>0.0</td>\n",
       "      <td>2022-01-04</td>\n",
       "    </tr>\n",
       "    <tr>\n",
       "      <th>2</th>\n",
       "      <td>2181</td>\n",
       "      <td>10.0</td>\n",
       "      <td>-0.350000</td>\n",
       "      <td>-0.916667</td>\n",
       "      <td>-0.305556</td>\n",
       "      <td>3.0</td>\n",
       "      <td>14.3</td>\n",
       "      <td>10.1</td>\n",
       "      <td>4.8</td>\n",
       "      <td>0.4</td>\n",
       "      <td>...</td>\n",
       "      <td>0.0</td>\n",
       "      <td>0.0</td>\n",
       "      <td>0.0</td>\n",
       "      <td>0.0</td>\n",
       "      <td>0.0</td>\n",
       "      <td>0.0</td>\n",
       "      <td>-0.850000</td>\n",
       "      <td>-0.283333</td>\n",
       "      <td>0.0</td>\n",
       "      <td>2022-01-04</td>\n",
       "    </tr>\n",
       "    <tr>\n",
       "      <th>3</th>\n",
       "      <td>2181</td>\n",
       "      <td>11.0</td>\n",
       "      <td>-1.266667</td>\n",
       "      <td>-0.366667</td>\n",
       "      <td>-0.366667</td>\n",
       "      <td>1.0</td>\n",
       "      <td>14.3</td>\n",
       "      <td>10.1</td>\n",
       "      <td>4.8</td>\n",
       "      <td>0.4</td>\n",
       "      <td>...</td>\n",
       "      <td>0.0</td>\n",
       "      <td>0.0</td>\n",
       "      <td>0.0</td>\n",
       "      <td>0.0</td>\n",
       "      <td>0.0</td>\n",
       "      <td>0.0</td>\n",
       "      <td>-0.333333</td>\n",
       "      <td>-0.333333</td>\n",
       "      <td>0.0</td>\n",
       "      <td>2022-01-04</td>\n",
       "    </tr>\n",
       "    <tr>\n",
       "      <th>4</th>\n",
       "      <td>2181</td>\n",
       "      <td>13.0</td>\n",
       "      <td>0.166667</td>\n",
       "      <td>0.100000</td>\n",
       "      <td>0.050000</td>\n",
       "      <td>2.0</td>\n",
       "      <td>14.3</td>\n",
       "      <td>10.1</td>\n",
       "      <td>4.8</td>\n",
       "      <td>0.4</td>\n",
       "      <td>...</td>\n",
       "      <td>0.0</td>\n",
       "      <td>0.0</td>\n",
       "      <td>0.0</td>\n",
       "      <td>0.0</td>\n",
       "      <td>0.0</td>\n",
       "      <td>0.0</td>\n",
       "      <td>0.100000</td>\n",
       "      <td>0.050000</td>\n",
       "      <td>0.0</td>\n",
       "      <td>2022-01-04</td>\n",
       "    </tr>\n",
       "  </tbody>\n",
       "</table>\n",
       "<p>5 rows × 27 columns</p>\n",
       "</div>"
      ]
     },
     "execution_count": 2,
     "metadata": {},
     "output_type": "execute_result"
    }
   ],
   "execution_count": 2
  },
  {
   "metadata": {
    "ExecuteTime": {
     "end_time": "2024-11-24T21:14:36.874314Z",
     "start_time": "2024-11-24T21:14:34.667125Z"
    }
   },
   "cell_type": "code",
   "source": [
    "from sklearn.preprocessing import MinMaxScaler\n",
    "from sklearn.model_selection import train_test_split\n",
    "def split_train_test(data, normalize=False):\n",
    "    raw_data=data.copy()\n",
    "    X_scaler=None\n",
    "    y_scaler=None\n",
    "    pd_y= raw_data[['KESES']]\n",
    "    pd_X = raw_data.drop(columns=['KESES','RELATIV_KESES'])\n",
    "    if normalize:\n",
    "        X_scaler = MinMaxScaler()\n",
    "        pd_X[pd_X.columns] = X_scaler.fit_transform(pd_X[pd_X.columns])\n",
    "        y_scaler=MinMaxScaler()\n",
    "        pd_y[pd_y.columns] = y_scaler.fit_transform(pd_y[pd_y.columns])\n",
    "   \n",
    "    '''\n",
    "    if normalize:\n",
    "        scaler = MinMaxScaler()\n",
    "        pd_X[pd_X.columns] = scaler.fit_transform(pd_X[pd_X.columns])\n",
    "    '''\n",
    "    X_train, X_test, y_train, y_test = train_test_split(pd_X, pd_y, test_size=0.3, random_state=44)\n",
    "    return X_train, X_test, y_train, y_test,X_scaler,y_scaler"
   ],
   "id": "bcd948e892f65c04",
   "outputs": [],
   "execution_count": 3
  },
  {
   "metadata": {
    "ExecuteTime": {
     "end_time": "2024-11-24T21:14:37.731984Z",
     "start_time": "2024-11-24T21:14:36.876319Z"
    }
   },
   "cell_type": "code",
   "source": [
    "X_train, X_test, y_train, y_test,_,_ = split_train_test(raw_data)\n",
    "X_train.drop(columns=['VONATSZAM','KOZLEKEDESI_NAP'], inplace=True)\n",
    "X_test.drop(columns=['VONATSZAM','KOZLEKEDESI_NAP'], inplace=True)\n",
    "\n",
    "''''\n",
    "TrTD= X_train[['VONATSZAM','KOZLEKEDESI_NAP']]\n",
    "X_train.drop(columns=['VONATSZAM','KOZLEKEDESI_NAP'], inplace=True)\n",
    "TeTD= X_test[['VONATSZAM','KOZLEKEDESI_NAP']]\n",
    "X_test.drop(columns=['VONATSZAM','KOZLEKEDESI_NAP'], inplace=True)\n",
    "'''"
   ],
   "id": "a9badb95d39a214a",
   "outputs": [
    {
     "data": {
      "text/plain": [
       "\"'\\nTrTD= X_train[['VONATSZAM','KOZLEKEDESI_NAP']]\\nX_train.drop(columns=['VONATSZAM','KOZLEKEDESI_NAP'], inplace=True)\\nTeTD= X_test[['VONATSZAM','KOZLEKEDESI_NAP']]\\nX_test.drop(columns=['VONATSZAM','KOZLEKEDESI_NAP'], inplace=True)\\n\""
      ]
     },
     "execution_count": 4,
     "metadata": {},
     "output_type": "execute_result"
    }
   ],
   "execution_count": 4
  },
  {
   "metadata": {
    "ExecuteTime": {
     "end_time": "2024-11-24T21:14:37.759431Z",
     "start_time": "2024-11-24T21:14:37.735Z"
    }
   },
   "cell_type": "code",
   "source": "X_train.head()",
   "id": "15d36ab535475ef2",
   "outputs": [
    {
     "data": {
      "text/plain": [
       "         MENETREND_IDO  ELOZO_KESES  TERV_IDOTARTAM (m)    tx    t   tn    r  \\\n",
       "447118            11.0    -1.316667                 1.0   0.0  0.0  0.0  0.0   \n",
       "1024071          422.0     0.700000                 2.0   0.0  0.0  0.0  0.0   \n",
       "48134            588.0     0.216667                 4.0   0.0  0.0  0.0  0.0   \n",
       "732685          1196.0     2.000000                 0.0  10.4  8.2  5.9  0.2   \n",
       "124196           507.0     4.700000                 2.0   0.0  0.0  0.0  0.0   \n",
       "\n",
       "         Érintett objektum típusa  Lassúmenet típusa  Lassúmenet hossza  ...  \\\n",
       "447118                        0.0                0.0                0.0  ...   \n",
       "1024071                       0.0                0.0                0.0  ...   \n",
       "48134                         0.0                0.0                0.0  ...   \n",
       "732685                        0.0                0.0                0.0  ...   \n",
       "124196                        0.0                0.0                0.0  ...   \n",
       "\n",
       "           I    E   ÁI   ÁE  Kizárás (1=VZ,2=LJ)  \\\n",
       "447118   0.0  0.0  0.0  0.0                  0.0   \n",
       "1024071  0.0  0.0  0.0  0.0                  0.0   \n",
       "48134    0.0  0.0  0.0  0.0                  0.0   \n",
       "732685   0.0  0.0  0.0  0.0                  0.0   \n",
       "124196   0.0  0.0  0.0  0.0                  0.0   \n",
       "\n",
       "         Kiutalt menetvonalak zavartatása nélkül  Státus  ELOZO VONAT KESES  \\\n",
       "447118                                       0.0     0.0          -0.183333   \n",
       "1024071                                      0.0     0.0          -0.016667   \n",
       "48134                                        0.0     0.0          -0.216667   \n",
       "732685                                       0.0     0.0           0.000000   \n",
       "124196                                       0.0     0.0          -0.633333   \n",
       "\n",
       "         ELOZO VONAT RELATIV KESES  VONAL STATUSZ VALTOZOTT  \n",
       "447118                   -0.183333                      0.0  \n",
       "1024071                  -0.008333                      0.0  \n",
       "48134                    -0.054167                      0.0  \n",
       "732685                    0.000000                      0.0  \n",
       "124196                   -0.316667                      0.0  \n",
       "\n",
       "[5 rows x 23 columns]"
      ],
      "text/html": [
       "<div>\n",
       "<style scoped>\n",
       "    .dataframe tbody tr th:only-of-type {\n",
       "        vertical-align: middle;\n",
       "    }\n",
       "\n",
       "    .dataframe tbody tr th {\n",
       "        vertical-align: top;\n",
       "    }\n",
       "\n",
       "    .dataframe thead th {\n",
       "        text-align: right;\n",
       "    }\n",
       "</style>\n",
       "<table border=\"1\" class=\"dataframe\">\n",
       "  <thead>\n",
       "    <tr style=\"text-align: right;\">\n",
       "      <th></th>\n",
       "      <th>MENETREND_IDO</th>\n",
       "      <th>ELOZO_KESES</th>\n",
       "      <th>TERV_IDOTARTAM (m)</th>\n",
       "      <th>tx</th>\n",
       "      <th>t</th>\n",
       "      <th>tn</th>\n",
       "      <th>r</th>\n",
       "      <th>Érintett objektum típusa</th>\n",
       "      <th>Lassúmenet típusa</th>\n",
       "      <th>Lassúmenet hossza</th>\n",
       "      <th>...</th>\n",
       "      <th>I</th>\n",
       "      <th>E</th>\n",
       "      <th>ÁI</th>\n",
       "      <th>ÁE</th>\n",
       "      <th>Kizárás (1=VZ,2=LJ)</th>\n",
       "      <th>Kiutalt menetvonalak zavartatása nélkül</th>\n",
       "      <th>Státus</th>\n",
       "      <th>ELOZO VONAT KESES</th>\n",
       "      <th>ELOZO VONAT RELATIV KESES</th>\n",
       "      <th>VONAL STATUSZ VALTOZOTT</th>\n",
       "    </tr>\n",
       "  </thead>\n",
       "  <tbody>\n",
       "    <tr>\n",
       "      <th>447118</th>\n",
       "      <td>11.0</td>\n",
       "      <td>-1.316667</td>\n",
       "      <td>1.0</td>\n",
       "      <td>0.0</td>\n",
       "      <td>0.0</td>\n",
       "      <td>0.0</td>\n",
       "      <td>0.0</td>\n",
       "      <td>0.0</td>\n",
       "      <td>0.0</td>\n",
       "      <td>0.0</td>\n",
       "      <td>...</td>\n",
       "      <td>0.0</td>\n",
       "      <td>0.0</td>\n",
       "      <td>0.0</td>\n",
       "      <td>0.0</td>\n",
       "      <td>0.0</td>\n",
       "      <td>0.0</td>\n",
       "      <td>0.0</td>\n",
       "      <td>-0.183333</td>\n",
       "      <td>-0.183333</td>\n",
       "      <td>0.0</td>\n",
       "    </tr>\n",
       "    <tr>\n",
       "      <th>1024071</th>\n",
       "      <td>422.0</td>\n",
       "      <td>0.700000</td>\n",
       "      <td>2.0</td>\n",
       "      <td>0.0</td>\n",
       "      <td>0.0</td>\n",
       "      <td>0.0</td>\n",
       "      <td>0.0</td>\n",
       "      <td>0.0</td>\n",
       "      <td>0.0</td>\n",
       "      <td>0.0</td>\n",
       "      <td>...</td>\n",
       "      <td>0.0</td>\n",
       "      <td>0.0</td>\n",
       "      <td>0.0</td>\n",
       "      <td>0.0</td>\n",
       "      <td>0.0</td>\n",
       "      <td>0.0</td>\n",
       "      <td>0.0</td>\n",
       "      <td>-0.016667</td>\n",
       "      <td>-0.008333</td>\n",
       "      <td>0.0</td>\n",
       "    </tr>\n",
       "    <tr>\n",
       "      <th>48134</th>\n",
       "      <td>588.0</td>\n",
       "      <td>0.216667</td>\n",
       "      <td>4.0</td>\n",
       "      <td>0.0</td>\n",
       "      <td>0.0</td>\n",
       "      <td>0.0</td>\n",
       "      <td>0.0</td>\n",
       "      <td>0.0</td>\n",
       "      <td>0.0</td>\n",
       "      <td>0.0</td>\n",
       "      <td>...</td>\n",
       "      <td>0.0</td>\n",
       "      <td>0.0</td>\n",
       "      <td>0.0</td>\n",
       "      <td>0.0</td>\n",
       "      <td>0.0</td>\n",
       "      <td>0.0</td>\n",
       "      <td>0.0</td>\n",
       "      <td>-0.216667</td>\n",
       "      <td>-0.054167</td>\n",
       "      <td>0.0</td>\n",
       "    </tr>\n",
       "    <tr>\n",
       "      <th>732685</th>\n",
       "      <td>1196.0</td>\n",
       "      <td>2.000000</td>\n",
       "      <td>0.0</td>\n",
       "      <td>10.4</td>\n",
       "      <td>8.2</td>\n",
       "      <td>5.9</td>\n",
       "      <td>0.2</td>\n",
       "      <td>0.0</td>\n",
       "      <td>0.0</td>\n",
       "      <td>0.0</td>\n",
       "      <td>...</td>\n",
       "      <td>0.0</td>\n",
       "      <td>0.0</td>\n",
       "      <td>0.0</td>\n",
       "      <td>0.0</td>\n",
       "      <td>0.0</td>\n",
       "      <td>0.0</td>\n",
       "      <td>0.0</td>\n",
       "      <td>0.000000</td>\n",
       "      <td>0.000000</td>\n",
       "      <td>0.0</td>\n",
       "    </tr>\n",
       "    <tr>\n",
       "      <th>124196</th>\n",
       "      <td>507.0</td>\n",
       "      <td>4.700000</td>\n",
       "      <td>2.0</td>\n",
       "      <td>0.0</td>\n",
       "      <td>0.0</td>\n",
       "      <td>0.0</td>\n",
       "      <td>0.0</td>\n",
       "      <td>0.0</td>\n",
       "      <td>0.0</td>\n",
       "      <td>0.0</td>\n",
       "      <td>...</td>\n",
       "      <td>0.0</td>\n",
       "      <td>0.0</td>\n",
       "      <td>0.0</td>\n",
       "      <td>0.0</td>\n",
       "      <td>0.0</td>\n",
       "      <td>0.0</td>\n",
       "      <td>0.0</td>\n",
       "      <td>-0.633333</td>\n",
       "      <td>-0.316667</td>\n",
       "      <td>0.0</td>\n",
       "    </tr>\n",
       "  </tbody>\n",
       "</table>\n",
       "<p>5 rows × 23 columns</p>\n",
       "</div>"
      ]
     },
     "execution_count": 5,
     "metadata": {},
     "output_type": "execute_result"
    }
   ],
   "execution_count": 5
  },
  {
   "metadata": {
    "ExecuteTime": {
     "end_time": "2024-11-24T21:14:37.765437Z",
     "start_time": "2024-11-24T21:14:37.762442Z"
    }
   },
   "cell_type": "code",
   "source": "",
   "id": "96a6b7cce2d64619",
   "outputs": [],
   "execution_count": 5
  },
  {
   "metadata": {},
   "cell_type": "markdown",
   "source": "# DecisionTreeRegressor",
   "id": "ec733712d9884c16"
  },
  {
   "metadata": {
    "ExecuteTime": {
     "end_time": "2024-11-24T21:15:16.747911Z",
     "start_time": "2024-11-24T21:14:37.766747Z"
    }
   },
   "cell_type": "code",
   "source": [
    "max_depth=[]\n",
    "\n",
    "from sklearn.tree import DecisionTreeRegressor\n",
    "from sklearn.ensemble import RandomForestRegressor\n",
    "from sklearn.model_selection import GridSearchCV\n",
    "# https://www.geeksforgeeks.org/how-to-tune-a-decision-tree-in-hyperparameter-tuning/\n",
    "def train_DRT(X_train, X_test, y_train):\n",
    "    \n",
    "    # Define the parameter grid to tune the hyperparameters\n",
    "    param_grid = {\n",
    "        'max_depth': [10, 20, 30, None]\n",
    "    }\n",
    "    dtree_reg = DecisionTreeRegressor(random_state=42) # Initialize a decision tree regressor\n",
    "    grid_search = GridSearchCV(estimator=dtree_reg, param_grid=param_grid, \n",
    "                           cv=3, n_jobs=-1,verbose=2,scoring='neg_mean_squared_error')\n",
    "    grid_search.fit(X_train, y_train)\n",
    "    model = grid_search.best_estimator_\n",
    "    best_params = grid_search.best_params_\n",
    "    predictions = model.predict(X_test)\n",
    "    return model, predictions\n",
    "'''\n",
    "def train_DRTF(X_train, X_test, y_train):\n",
    "    \n",
    "        # Define the parameter grid to tune the hyperparameters\n",
    "    param_grid = {\n",
    "        'max_depth': [10, 20, 30, None],\n",
    "        'min_samples_split': [2, 5, 10],\n",
    "        'min_samples_leaf': [1, 2, 4]\n",
    "    }\n",
    "    dtree_reg = RandomForestRegressor(random_state=42) # Initialize a decision tree regressor\n",
    "    grid_search = GridSearchCV(estimator=dtree_reg, param_grid=param_grid, \n",
    "                           cv=3, n_jobs=-1,verbose=2,scoring='neg_mean_squared_error')\n",
    "    grid_search.fit(X_train, y_train)\n",
    "    model = grid_search.best_estimator_\n",
    "    predictions = model.predict(X_test)\n",
    "    return model, predictions\n",
    "'''\n",
    "model, predictions = train_DRT(X_train,X_test, y_train)"
   ],
   "id": "d4fb6d174ce980dc",
   "outputs": [
    {
     "name": "stdout",
     "output_type": "stream",
     "text": [
      "Fitting 3 folds for each of 4 candidates, totalling 12 fits\n"
     ]
    }
   ],
   "execution_count": 6
  },
  {
   "metadata": {
    "ExecuteTime": {
     "end_time": "2024-11-24T21:15:16.777827Z",
     "start_time": "2024-11-24T21:15:16.756916Z"
    }
   },
   "cell_type": "code",
   "source": [
    "'''\n",
    "from sklearn.tree import plot_tree\n",
    "import matplotlib.pyplot as plt\n",
    "plt.figure(figsize=(10,8), dpi=150)\n",
    "plot_tree(model, feature_names=pd_X.columns);\n",
    "'''"
   ],
   "id": "6d398bb424311174",
   "outputs": [
    {
     "data": {
      "text/plain": [
       "'\\nfrom sklearn.tree import plot_tree\\nimport matplotlib.pyplot as plt\\nplt.figure(figsize=(10,8), dpi=150)\\nplot_tree(model, feature_names=pd_X.columns);\\n'"
      ]
     },
     "execution_count": 7,
     "metadata": {},
     "output_type": "execute_result"
    }
   ],
   "execution_count": 7
  },
  {
   "metadata": {
    "ExecuteTime": {
     "end_time": "2024-11-24T21:15:16.782360Z",
     "start_time": "2024-11-24T21:15:16.779836Z"
    }
   },
   "cell_type": "code",
   "source": "",
   "id": "cbecd608730c05a2",
   "outputs": [],
   "execution_count": 7
  },
  {
   "metadata": {
    "ExecuteTime": {
     "end_time": "2024-11-24T21:15:16.793457Z",
     "start_time": "2024-11-24T21:15:16.783377Z"
    }
   },
   "cell_type": "code",
   "source": [
    "\n",
    "def evaluate_model(X_test, y_test, predictions):\n",
    "    eval_df=pd.concat([X_test[['TERV_IDOTARTAM (m)']],y_test],axis=1)\n",
    "    eval_df['predictions']=predictions\n",
    "    eval_df['Tény']=eval_df['TERV_IDOTARTAM (m)']+eval_df['KESES']\n",
    "    eval_df['Pred']=eval_df['TERV_IDOTARTAM (m)']+eval_df['predictions']\n",
    "    eval_df=eval_df[eval_df['TERV_IDOTARTAM (m)']>0]\n",
    "    eval_df['PE']=(eval_df['Tény']-eval_df['Pred'])/eval_df['Tény'] *100\n",
    "    eval_df['MAPE']=abs((eval_df['Tény']-eval_df['Pred'])/eval_df['Tény']) *100\n",
    "    eval_df['PE1']=(eval_df['KESES']-eval_df['predictions'])/eval_df['KESES'] *100\n",
    "    eval_df['MAPE1']=abs((eval_df['KESES']-eval_df['predictions'])/eval_df['KESES']) *100\n",
    "\n",
    "    return eval_df"
   ],
   "id": "3dcae1bf2dc4c0e2",
   "outputs": [],
   "execution_count": 8
  },
  {
   "metadata": {
    "ExecuteTime": {
     "end_time": "2024-11-24T21:15:16.892170Z",
     "start_time": "2024-11-24T21:15:16.795464Z"
    }
   },
   "cell_type": "code",
   "source": "eval_df = evaluate_model(X_test, y_test, predictions)\n",
   "id": "6f7a8392dbdee8b3",
   "outputs": [],
   "execution_count": 9
  },
  {
   "metadata": {
    "ExecuteTime": {
     "end_time": "2024-11-24T21:15:16.911289Z",
     "start_time": "2024-11-24T21:15:16.893703Z"
    }
   },
   "cell_type": "code",
   "source": "eval_df.head()",
   "id": "dd6ab997abc855d7",
   "outputs": [
    {
     "data": {
      "text/plain": [
       "         TERV_IDOTARTAM (m)     KESES  predictions      Tény      Pred  \\\n",
       "1096781                 1.0 -0.283333    -0.219197  0.716667  0.780803   \n",
       "1016002                 1.0  0.283333     0.135181  1.283333  1.135181   \n",
       "53208                   2.0 -0.066667     0.699738  1.933333  2.699738   \n",
       "1032627                 1.0 -0.200000    -0.195810  0.800000  0.804190   \n",
       "830943                  3.0  0.000000     0.047569  3.000000  3.047569   \n",
       "\n",
       "                PE       MAPE          PE1        MAPE1  \n",
       "1096781  -8.949322   8.949322    22.636520    22.636520  \n",
       "1016002  11.544309  11.544309    52.288930    52.288930  \n",
       "53208   -39.641597  39.641597  1149.606299  1149.606299  \n",
       "1032627  -0.523744   0.523744     2.094976     2.094976  \n",
       "830943   -1.585626   1.585626         -inf          inf  "
      ],
      "text/html": [
       "<div>\n",
       "<style scoped>\n",
       "    .dataframe tbody tr th:only-of-type {\n",
       "        vertical-align: middle;\n",
       "    }\n",
       "\n",
       "    .dataframe tbody tr th {\n",
       "        vertical-align: top;\n",
       "    }\n",
       "\n",
       "    .dataframe thead th {\n",
       "        text-align: right;\n",
       "    }\n",
       "</style>\n",
       "<table border=\"1\" class=\"dataframe\">\n",
       "  <thead>\n",
       "    <tr style=\"text-align: right;\">\n",
       "      <th></th>\n",
       "      <th>TERV_IDOTARTAM (m)</th>\n",
       "      <th>KESES</th>\n",
       "      <th>predictions</th>\n",
       "      <th>Tény</th>\n",
       "      <th>Pred</th>\n",
       "      <th>PE</th>\n",
       "      <th>MAPE</th>\n",
       "      <th>PE1</th>\n",
       "      <th>MAPE1</th>\n",
       "    </tr>\n",
       "  </thead>\n",
       "  <tbody>\n",
       "    <tr>\n",
       "      <th>1096781</th>\n",
       "      <td>1.0</td>\n",
       "      <td>-0.283333</td>\n",
       "      <td>-0.219197</td>\n",
       "      <td>0.716667</td>\n",
       "      <td>0.780803</td>\n",
       "      <td>-8.949322</td>\n",
       "      <td>8.949322</td>\n",
       "      <td>22.636520</td>\n",
       "      <td>22.636520</td>\n",
       "    </tr>\n",
       "    <tr>\n",
       "      <th>1016002</th>\n",
       "      <td>1.0</td>\n",
       "      <td>0.283333</td>\n",
       "      <td>0.135181</td>\n",
       "      <td>1.283333</td>\n",
       "      <td>1.135181</td>\n",
       "      <td>11.544309</td>\n",
       "      <td>11.544309</td>\n",
       "      <td>52.288930</td>\n",
       "      <td>52.288930</td>\n",
       "    </tr>\n",
       "    <tr>\n",
       "      <th>53208</th>\n",
       "      <td>2.0</td>\n",
       "      <td>-0.066667</td>\n",
       "      <td>0.699738</td>\n",
       "      <td>1.933333</td>\n",
       "      <td>2.699738</td>\n",
       "      <td>-39.641597</td>\n",
       "      <td>39.641597</td>\n",
       "      <td>1149.606299</td>\n",
       "      <td>1149.606299</td>\n",
       "    </tr>\n",
       "    <tr>\n",
       "      <th>1032627</th>\n",
       "      <td>1.0</td>\n",
       "      <td>-0.200000</td>\n",
       "      <td>-0.195810</td>\n",
       "      <td>0.800000</td>\n",
       "      <td>0.804190</td>\n",
       "      <td>-0.523744</td>\n",
       "      <td>0.523744</td>\n",
       "      <td>2.094976</td>\n",
       "      <td>2.094976</td>\n",
       "    </tr>\n",
       "    <tr>\n",
       "      <th>830943</th>\n",
       "      <td>3.0</td>\n",
       "      <td>0.000000</td>\n",
       "      <td>0.047569</td>\n",
       "      <td>3.000000</td>\n",
       "      <td>3.047569</td>\n",
       "      <td>-1.585626</td>\n",
       "      <td>1.585626</td>\n",
       "      <td>-inf</td>\n",
       "      <td>inf</td>\n",
       "    </tr>\n",
       "  </tbody>\n",
       "</table>\n",
       "</div>"
      ]
     },
     "execution_count": 10,
     "metadata": {},
     "output_type": "execute_result"
    }
   ],
   "execution_count": 10
  },
  {
   "metadata": {
    "ExecuteTime": {
     "end_time": "2024-11-24T21:15:16.922153Z",
     "start_time": "2024-11-24T21:15:16.913295Z"
    }
   },
   "cell_type": "code",
   "source": "eval_df.tail()",
   "id": "cb50bad6f7ed1e21",
   "outputs": [
    {
     "data": {
      "text/plain": [
       "        TERV_IDOTARTAM (m)     KESES  predictions      Tény      Pred  \\\n",
       "53702                  3.0 -0.183333    -0.096982  2.816667  2.903018   \n",
       "898021                 1.0 -0.066667     0.135181  0.933333  1.135181   \n",
       "159082                 1.0 -0.450000    -0.381898  0.550000  0.618102   \n",
       "77781                  2.0 -0.400000    -0.382248  1.600000  1.617752   \n",
       "946224                 5.0 -0.583333    -0.407042  4.416667  4.592958   \n",
       "\n",
       "               PE       MAPE         PE1       MAPE1  \n",
       "53702   -3.065712   3.065712   47.100477   47.100477  \n",
       "898021 -21.626575  21.626575  302.772049  302.772049  \n",
       "159082 -12.382251  12.382251   15.133862   15.133862  \n",
       "77781   -1.109473   1.109473    4.437892    4.437892  \n",
       "946224  -3.991495   3.991495   30.221317   30.221317  "
      ],
      "text/html": [
       "<div>\n",
       "<style scoped>\n",
       "    .dataframe tbody tr th:only-of-type {\n",
       "        vertical-align: middle;\n",
       "    }\n",
       "\n",
       "    .dataframe tbody tr th {\n",
       "        vertical-align: top;\n",
       "    }\n",
       "\n",
       "    .dataframe thead th {\n",
       "        text-align: right;\n",
       "    }\n",
       "</style>\n",
       "<table border=\"1\" class=\"dataframe\">\n",
       "  <thead>\n",
       "    <tr style=\"text-align: right;\">\n",
       "      <th></th>\n",
       "      <th>TERV_IDOTARTAM (m)</th>\n",
       "      <th>KESES</th>\n",
       "      <th>predictions</th>\n",
       "      <th>Tény</th>\n",
       "      <th>Pred</th>\n",
       "      <th>PE</th>\n",
       "      <th>MAPE</th>\n",
       "      <th>PE1</th>\n",
       "      <th>MAPE1</th>\n",
       "    </tr>\n",
       "  </thead>\n",
       "  <tbody>\n",
       "    <tr>\n",
       "      <th>53702</th>\n",
       "      <td>3.0</td>\n",
       "      <td>-0.183333</td>\n",
       "      <td>-0.096982</td>\n",
       "      <td>2.816667</td>\n",
       "      <td>2.903018</td>\n",
       "      <td>-3.065712</td>\n",
       "      <td>3.065712</td>\n",
       "      <td>47.100477</td>\n",
       "      <td>47.100477</td>\n",
       "    </tr>\n",
       "    <tr>\n",
       "      <th>898021</th>\n",
       "      <td>1.0</td>\n",
       "      <td>-0.066667</td>\n",
       "      <td>0.135181</td>\n",
       "      <td>0.933333</td>\n",
       "      <td>1.135181</td>\n",
       "      <td>-21.626575</td>\n",
       "      <td>21.626575</td>\n",
       "      <td>302.772049</td>\n",
       "      <td>302.772049</td>\n",
       "    </tr>\n",
       "    <tr>\n",
       "      <th>159082</th>\n",
       "      <td>1.0</td>\n",
       "      <td>-0.450000</td>\n",
       "      <td>-0.381898</td>\n",
       "      <td>0.550000</td>\n",
       "      <td>0.618102</td>\n",
       "      <td>-12.382251</td>\n",
       "      <td>12.382251</td>\n",
       "      <td>15.133862</td>\n",
       "      <td>15.133862</td>\n",
       "    </tr>\n",
       "    <tr>\n",
       "      <th>77781</th>\n",
       "      <td>2.0</td>\n",
       "      <td>-0.400000</td>\n",
       "      <td>-0.382248</td>\n",
       "      <td>1.600000</td>\n",
       "      <td>1.617752</td>\n",
       "      <td>-1.109473</td>\n",
       "      <td>1.109473</td>\n",
       "      <td>4.437892</td>\n",
       "      <td>4.437892</td>\n",
       "    </tr>\n",
       "    <tr>\n",
       "      <th>946224</th>\n",
       "      <td>5.0</td>\n",
       "      <td>-0.583333</td>\n",
       "      <td>-0.407042</td>\n",
       "      <td>4.416667</td>\n",
       "      <td>4.592958</td>\n",
       "      <td>-3.991495</td>\n",
       "      <td>3.991495</td>\n",
       "      <td>30.221317</td>\n",
       "      <td>30.221317</td>\n",
       "    </tr>\n",
       "  </tbody>\n",
       "</table>\n",
       "</div>"
      ]
     },
     "execution_count": 11,
     "metadata": {},
     "output_type": "execute_result"
    }
   ],
   "execution_count": 11
  },
  {
   "metadata": {
    "ExecuteTime": {
     "end_time": "2024-11-24T21:15:16.958580Z",
     "start_time": "2024-11-24T21:15:16.928161Z"
    }
   },
   "cell_type": "code",
   "source": "eval_df['PE'].describe()",
   "id": "ebae1d416f0a1080",
   "outputs": [
    {
     "data": {
      "text/plain": [
       "count    3.347440e+05\n",
       "mean             -inf\n",
       "std               NaN\n",
       "min              -inf\n",
       "25%     -1.289340e+01\n",
       "50%     -2.315416e+00\n",
       "75%      4.498052e+00\n",
       "max      1.629843e+04\n",
       "Name: PE, dtype: float64"
      ]
     },
     "execution_count": 12,
     "metadata": {},
     "output_type": "execute_result"
    }
   ],
   "execution_count": 12
  },
  {
   "metadata": {
    "ExecuteTime": {
     "end_time": "2024-11-24T21:15:16.986962Z",
     "start_time": "2024-11-24T21:15:16.960586Z"
    }
   },
   "cell_type": "code",
   "source": "eval_df['PE1'].describe()",
   "id": "55cb4e76dcd5028c",
   "outputs": [
    {
     "name": "stderr",
     "output_type": "stream",
     "text": [
      "C:\\Users\\ELTE\\miniconda3\\envs\\gtfs_env_311\\Lib\\site-packages\\numpy\\core\\_methods.py:49: RuntimeWarning: invalid value encountered in reduce\n",
      "  return umr_sum(a, axis, dtype, out, keepdims, initial, where)\n"
     ]
    },
    {
     "data": {
      "text/plain": [
       "count    3.347420e+05\n",
       "mean              NaN\n",
       "std               NaN\n",
       "min              -inf\n",
       "25%     -6.544933e+00\n",
       "50%      2.773835e+01\n",
       "75%      7.796329e+01\n",
       "max               inf\n",
       "Name: PE1, dtype: float64"
      ]
     },
     "execution_count": 13,
     "metadata": {},
     "output_type": "execute_result"
    }
   ],
   "execution_count": 13
  },
  {
   "metadata": {
    "ExecuteTime": {
     "end_time": "2024-11-24T21:15:17.005937Z",
     "start_time": "2024-11-24T21:15:16.987968Z"
    }
   },
   "cell_type": "code",
   "source": [
    "import joblib\n",
    "# modellek mentése, beolvasása:\n",
    "# könyvtárszerkezet: <model gyökér>/<model típus>/<használt adat típusa>/<plusz infó>/<model file(ok)> \n",
    "\n",
    "\n",
    "import os\n",
    "model_location=\"model/\"\n",
    "# Check if the directory exists\n",
    "if not os.path.exists(model_location):\n",
    "    # Create the directory\n",
    "    os.makedirs(model_location)\n",
    "\n",
    "def get_location_and_name(model_name, model_desc,data_desc):\n",
    "    loc=   model_location+'/'+model_name+'/'+data_desc+'/'+model_desc+\"/\"\n",
    "    name = model_name + '_' + data_desc + '_' + model_desc\n",
    "    return loc, name\n",
    "def save_sklearn_model(model,model_name,data_desc,model_desc='base'):\n",
    "    loc,name=get_location_and_name(model_name,model_desc,data_desc)    \n",
    "    if not os.path.exists(loc):\n",
    "        # Create the directory\n",
    "        os.makedirs(loc)\n",
    "    # Save the model to a file\n",
    "    joblib.dump(model, f'{loc}{name}.joblib')\n",
    "    \n",
    "def get_nn_model_name(epochs, data_desc):\n",
    "    return f'NN_{data_desc}_epoch_{epochs}'\n",
    "\n",
    "def save_NN(model,X_scaler,y_scaler,history,data_desc, model_desc='base'):\n",
    "    loc,name=get_location_and_name('NN',model_desc,data_desc)    \n",
    "    if not os.path.exists(loc):\n",
    "        # Create the directory\n",
    "        os.makedirs(loc) \n",
    "    save_sklearn_model(X_scaler,'X_scaler',data_desc)\n",
    "    save_sklearn_model(y_scaler,'y_scaler',data_desc)\n",
    "    torch.save(model, loc+name+'.pth')\n",
    "    plt.plot(history)\n",
    "    plt.savefig(loc+'history.png')\n",
    "\n",
    "def load_NN(path):\n",
    "    ret={}\n",
    "    for f in os.listdir(path):\n",
    "        if f.endswith('.pth'):\n",
    "            print('Loading model:', path+f)\n",
    "            ret['model'] = torch.load(path+f, weights_only=False)\n",
    "        elif f.endswith('.joblib'):\n",
    "            if 'X_scaler' in f:\n",
    "                ret['X_scaler'] = joblib.load(path+f)\n",
    "            elif 'y_scaler' in f:\n",
    "                ret['y_scaler'] = joblib.load(path+f)\n",
    "            else:\n",
    "                print(f'Unspecified joblib file: {f}')\n",
    "        else:\n",
    "                print(f'Unspecified file: {f}')\n",
    "    return ret\n",
    "\n",
    "def load_NNs(model_path):\n",
    "    # könyvtárszerkezet: <model gyökér>/<model típus>/<használt adat típusa>/<plusz infó>/<model file(ok)> \n",
    "\n",
    "    ret={}\n",
    "    #dir=data_desc\n",
    "    for dir in os.listdir(model_path+'NN'):\n",
    "        ret[dir]={}\n",
    "        if os.path.isdir(model_path+'NN/'+dir+'/'):\n",
    "            print('reading '+ dir)\n",
    "            #dir2=model_desc\n",
    "            for dir2 in os.listdir(dir):\n",
    "                print('reading '+ dir+'/'+dir2)\n",
    "                ret[dir][dir2]['model']=load_NN(model_path+'NN/'+dir+'/'+dir2)\n",
    "                ret[dir][dir2]['data_desc']=dir\n",
    "                ret[dir][dir2]['model_desc']=dir2\n",
    "    return ret\n",
    "\n",
    "def load_NN_by_desc(model_desc,data_desc):\n",
    "    loc,name= get_location_and_name('NN',model_desc,data_desc)\n",
    "    ret=load_NN(loc)\n",
    "    ret['model_desc']=model_desc\n",
    "    ret['data_desc']=data_desc\n",
    "    return ret\n",
    "\n",
    "def load_sk_by_desc(model_name,model_desc,data_desc):\n",
    "    loc,name= get_location_and_name(model_name,model_desc,data_desc)\n",
    "    return {'model':joblib.load(f'{loc}/{name}.joblib'),'model_name':model_name,'data_desc':data_desc,'model_desc':model_desc}\n",
    "    \n",
    "    \n",
    "#def load_models():\n",
    "    \n",
    "    \n",
    "\n"
   ],
   "id": "5bf1aefbbb3ff160",
   "outputs": [],
   "execution_count": 14
  },
  {
   "metadata": {
    "ExecuteTime": {
     "end_time": "2024-11-24T21:15:17.014943Z",
     "start_time": "2024-11-24T21:15:17.006942Z"
    }
   },
   "cell_type": "code",
   "source": "save_sklearn_model(model,'RT','Base')\n",
   "id": "88218a02969b49a4",
   "outputs": [],
   "execution_count": 15
  },
  {
   "metadata": {
    "ExecuteTime": {
     "end_time": "2024-11-24T21:15:17.019003Z",
     "start_time": "2024-11-24T21:15:17.016180Z"
    }
   },
   "cell_type": "code",
   "source": "del model",
   "id": "8be46a45bc364166",
   "outputs": [],
   "execution_count": 16
  },
  {
   "metadata": {},
   "cell_type": "markdown",
   "source": "# Egyszerű neurális háló",
   "id": "f65d13c42935daf1"
  },
  {
   "metadata": {
    "ExecuteTime": {
     "end_time": "2024-11-24T21:15:17.027010Z",
     "start_time": "2024-11-24T21:15:17.020008Z"
    }
   },
   "cell_type": "code",
   "source": "X_train.dtypes\n",
   "id": "a503acb92abc09dc",
   "outputs": [
    {
     "data": {
      "text/plain": [
       "MENETREND_IDO                              float64\n",
       "ELOZO_KESES                                float64\n",
       "TERV_IDOTARTAM (m)                         float64\n",
       "tx                                         float64\n",
       "t                                          float64\n",
       "tn                                         float64\n",
       "r                                          float64\n",
       "Érintett objektum típusa                   float64\n",
       "Lassúmenet típusa                          float64\n",
       "Lassúmenet hossza                          float64\n",
       "Lassúmenet mértéke (km/h)                  float64\n",
       "Lassúmenet mértéke motorvonatra (km/h)     float64\n",
       "Fels.vez. kikapcsolása                     float64\n",
       "I                                          float64\n",
       "E                                          float64\n",
       "ÁI                                         float64\n",
       "ÁE                                         float64\n",
       "Kizárás (1=VZ,2=LJ)                        float64\n",
       "Kiutalt menetvonalak zavartatása nélkül    float64\n",
       "Státus                                     float64\n",
       "ELOZO VONAT KESES                          float64\n",
       "ELOZO VONAT RELATIV KESES                  float64\n",
       "VONAL STATUSZ VALTOZOTT                    float64\n",
       "dtype: object"
      ]
     },
     "execution_count": 17,
     "metadata": {},
     "output_type": "execute_result"
    }
   ],
   "execution_count": 17
  },
  {
   "metadata": {},
   "cell_type": "markdown",
   "source": [
    "plusz normalizálás kellhet:\n",
    "normalized_df=(df-df.mean())/df.std()\n",
    "to use min-max normalization:\n",
    "\n",
    "normalized_df=(df-df.min())/(df.max()-df.min())"
   ],
   "id": "687667008b024472"
  },
  {
   "metadata": {},
   "cell_type": "markdown",
   "source": [
    "kicsit alaposabb tréneléshez: \n",
    "\n",
    "https://machinelearningmastery.com/how-to-grid-search-hyperparameters-for-pytorch-models/"
   ],
   "id": "f7858717b6dc8a4a"
  },
  {
   "metadata": {
    "jupyter": {
     "is_executing": true
    }
   },
   "cell_type": "code",
   "source": "print('hello')",
   "id": "379bb98fe1c6a519",
   "outputs": [],
   "execution_count": null
  },
  {
   "metadata": {
    "ExecuteTime": {
     "end_time": "2024-11-24T21:15:24.778129Z",
     "start_time": "2024-11-24T21:15:17.033436Z"
    }
   },
   "cell_type": "code",
   "source": [
    "#X=pd_X.values\n",
    "#y=pd_y.values\n",
    "import torch\n",
    "# train-test split of the dataset\n",
    "raw_data.drop(columns=['VONATSZAM','KOZLEKEDESI_NAP'],inplace=True)\n",
    "\n",
    "X_train, X_test, y_train, y_test,X_scaler,y_scaler = split_train_test(raw_data,True)\n",
    "def get_data_tensors(X_train, X_test, y_train, y_test):\n",
    "    X_train_t = torch.tensor(X_train.values, dtype=torch.float32)\n",
    "    y_train_t = torch.tensor(y_train.values, dtype=torch.float32).reshape(-1, 1)\n",
    "    X_test_t = torch.tensor(X_test.values, dtype=torch.float32)\n",
    "    y_test_t = torch.tensor(y_test.values, dtype=torch.float32).reshape(-1, 1)\n",
    "    return X_train_t, X_test_t, y_train_t, y_test_t\n",
    "X_train_t, X_test_t, y_train_t, y_test_t = get_data_tensors(X_train, X_test, y_train, y_test)\n"
   ],
   "id": "dacb2cd3597debc4",
   "outputs": [
    {
     "name": "stderr",
     "output_type": "stream",
     "text": [
      "C:\\Users\\ELTE\\AppData\\Local\\Temp\\ipykernel_16036\\731282939.py:13: SettingWithCopyWarning: \n",
      "A value is trying to be set on a copy of a slice from a DataFrame.\n",
      "Try using .loc[row_indexer,col_indexer] = value instead\n",
      "\n",
      "See the caveats in the documentation: https://pandas.pydata.org/pandas-docs/stable/user_guide/indexing.html#returning-a-view-versus-a-copy\n",
      "  pd_y[pd_y.columns] = y_scaler.fit_transform(pd_y[pd_y.columns])\n"
     ]
    }
   ],
   "execution_count": 19
  },
  {
   "metadata": {
    "ExecuteTime": {
     "end_time": "2024-11-24T21:15:24.793439Z",
     "start_time": "2024-11-24T21:15:24.784135Z"
    }
   },
   "cell_type": "code",
   "source": "input_size=X_train.shape[1]",
   "id": "b0ceb88e7a2670fa",
   "outputs": [],
   "execution_count": 20
  },
  {
   "metadata": {
    "ExecuteTime": {
     "end_time": "2024-11-24T21:15:24.804560Z",
     "start_time": "2024-11-24T21:15:24.795447Z"
    }
   },
   "cell_type": "code",
   "source": [
    "import torch\n",
    "import torch.nn as nn\n",
    "# Define the model\n",
    "        \n",
    "\n",
    "\n",
    "def get_NN_model(input_size):\n",
    "    model = nn.Sequential(\n",
    "        nn.Linear(input_size, 24),\n",
    "        nn.ReLU(),\n",
    "        nn.Linear(24, 12),\n",
    "        nn.ReLU(),\n",
    "        nn.Linear(12, 6),\n",
    "        nn.ReLU(),\n",
    "        nn.Linear(6, 1)\n",
    "    )\n",
    "    return model"
   ],
   "id": "9d98d329e9054def",
   "outputs": [],
   "execution_count": 21
  },
  {
   "metadata": {
    "ExecuteTime": {
     "end_time": "2024-11-24T21:15:24.818650Z",
     "start_time": "2024-11-24T21:15:24.805585Z"
    }
   },
   "cell_type": "code",
   "source": "model_nn = get_NN_model(input_size)",
   "id": "6956ca8818e69d7",
   "outputs": [],
   "execution_count": 22
  },
  {
   "metadata": {
    "ExecuteTime": {
     "end_time": "2024-11-24T21:15:24.825694Z",
     "start_time": "2024-11-24T21:15:24.819670Z"
    }
   },
   "cell_type": "code",
   "source": [
    "import torch.nn as nn\n",
    "import torch.optim as optim\n",
    "\n",
    "# loss function and optimizer\n",
    "def get_optimizer(model, lr=0.0001):\n",
    "    loss_fn = nn.MSELoss()  # mean square error\n",
    "    optimizer = optim.Adam(model.parameters(), lr)\n",
    "    return optimizer, loss_fn"
   ],
   "id": "23344d190f485be",
   "outputs": [],
   "execution_count": 23
  },
  {
   "metadata": {
    "ExecuteTime": {
     "end_time": "2024-11-24T21:15:26.537120Z",
     "start_time": "2024-11-24T21:15:24.826702Z"
    }
   },
   "cell_type": "code",
   "source": "optimizer, loss_fn = get_optimizer(model_nn, 0.0001)",
   "id": "6d070298f1e68d8f",
   "outputs": [],
   "execution_count": 24
  },
  {
   "metadata": {
    "ExecuteTime": {
     "end_time": "2024-11-24T21:15:26.543377Z",
     "start_time": "2024-11-24T21:15:26.538191Z"
    }
   },
   "cell_type": "code",
   "source": "X_train.shape",
   "id": "8b8f7aefb5a8e9ba",
   "outputs": [
    {
     "data": {
      "text/plain": [
       "(815943, 23)"
      ]
     },
     "execution_count": 25,
     "metadata": {},
     "output_type": "execute_result"
    }
   ],
   "execution_count": 25
  },
  {
   "metadata": {
    "ExecuteTime": {
     "end_time": "2024-11-24T21:15:26.555620Z",
     "start_time": "2024-11-24T21:15:26.544428Z"
    }
   },
   "cell_type": "code",
   "source": [
    "import numpy as np\n",
    "import torch\n",
    "import tqdm\n",
    "import copy\n",
    "from sklearn.model_selection import train_test_split\n",
    "\n",
    "'''\n",
    "# train-test split of the dataset\n",
    "X_train, X_test, y_train, y_test = train_test_split(X, y, train_size=0.7, shuffle=True)\n",
    "X_train = torch.tensor(X_train, dtype=torch.float32)\n",
    "y_train = torch.tensor(y_train, dtype=torch.float32).reshape(-1, 1)\n",
    "X_test = torch.tensor(X_test, dtype=torch.float32)\n",
    "y_test = torch.tensor(y_test, dtype=torch.float32).reshape(-1, 1)\n",
    "'''\n",
    "def reset_model(model):\n",
    "    for layer in model.children():\n",
    "       if hasattr(layer, 'reset_parameters'):\n",
    "           layer.reset_parameters()\n",
    "\n",
    "def train_NN(X_train, X_test, y_train, y_test, model, loss_fn, optimizer,n_epochs = 2):\n",
    "    batch_size = 10  # size of each batch\n",
    "    batch_start = torch.arange(0, len(X_train), batch_size)\n",
    "    reset_model(model_nn)\n",
    "    # Hold the best model\n",
    "    best_mse = np.inf   # init to infinity\n",
    "    best_weights = None\n",
    "    history = {}\n",
    "    for lr in [0.0001, 0.001, 0.01, 0.1]:\n",
    "        optimizer, loss_fn=get_optimizer(model_nn, lr)\n",
    "        history[lr] = []\n",
    "        # training loop\n",
    "        for epoch in range(n_epochs):\n",
    "            model.train()\n",
    "            with tqdm.tqdm(batch_start, unit=\"batch\", mininterval=0, disable=True) as bar:\n",
    "                bar.set_description(f\"Epoch {epoch}\")\n",
    "                for start in bar:\n",
    "                    # take a batch\n",
    "                    X_batch = X_train[start:start+batch_size]\n",
    "                    y_batch = y_train[start:start+batch_size]\n",
    "                    # forward pass\n",
    "                    y_pred = model_nn(X_batch)\n",
    "                    loss = loss_fn(y_pred, y_batch)\n",
    "                    # backward pass\n",
    "                    optimizer.zero_grad()\n",
    "                    loss.backward()\n",
    "                    # update weights\n",
    "                    optimizer.step()\n",
    "                    # print progress\n",
    "                    bar.set_postfix(mse=float(loss))\n",
    "            # evaluate accuracy at end of each epoch\n",
    "            model.eval()\n",
    "            y_pred = model(X_test)\n",
    "            mse = loss_fn(y_pred, y_test)\n",
    "            mse = float(mse)\n",
    "            print(\"Epoch:\",epoch,'MSE:', mse, 'Best mse',best_mse)\n",
    "            history[lr].append(mse)\n",
    "            if mse < best_mse:\n",
    "                best_mse = mse\n",
    "                best_weights = copy.deepcopy(model.state_dict())\n",
    "     \n",
    "    # restore model and return best accuracy\n",
    "    model.load_state_dict(best_weights)\n",
    "    return history, best_mse, best_weights, model"
   ],
   "id": "6d02f6dc46faef7e",
   "outputs": [],
   "execution_count": 26
  },
  {
   "metadata": {
    "jupyter": {
     "is_executing": true
    },
    "ExecuteTime": {
     "start_time": "2024-11-24T21:15:26.556627Z"
    }
   },
   "cell_type": "code",
   "source": "history, best_mse, best_weights, model_nn=train_NN(X_train_t, X_test_t, y_train_t, y_test_t, model_nn, loss_fn, optimizer,30)",
   "id": "7520380378b0129",
   "outputs": [
    {
     "name": "stdout",
     "output_type": "stream",
     "text": [
      "Epoch: 0 MSE: 2.9745913707301952e-05 Best mse inf\n",
      "Epoch: 1 MSE: 2.8932106943102553e-05 Best mse 2.9745913707301952e-05\n",
      "Epoch: 2 MSE: 2.871659307857044e-05 Best mse 2.8932106943102553e-05\n",
      "Epoch: 3 MSE: 2.850079908967018e-05 Best mse 2.871659307857044e-05\n",
      "Epoch: 4 MSE: 2.8271910196053796e-05 Best mse 2.850079908967018e-05\n",
      "Epoch: 5 MSE: 2.8120854040025733e-05 Best mse 2.8271910196053796e-05\n",
      "Epoch: 6 MSE: 2.7930016585742123e-05 Best mse 2.8120854040025733e-05\n",
      "Epoch: 7 MSE: 2.7620817490969785e-05 Best mse 2.7930016585742123e-05\n",
      "Epoch: 8 MSE: 2.7029715056414716e-05 Best mse 2.7620817490969785e-05\n",
      "Epoch: 9 MSE: 2.685054460016545e-05 Best mse 2.7029715056414716e-05\n"
     ]
    }
   ],
   "execution_count": null
  },
  {
   "metadata": {
    "jupyter": {
     "is_executing": true
    }
   },
   "cell_type": "code",
   "source": [
    "import matplotlib.pyplot as plt\n",
    "\n",
    "for k, v in history.items():\n",
    "    plt.plot(v, label = 'lr='+k)\n"
   ],
   "id": "dc1e92cd9456f94",
   "outputs": [],
   "execution_count": null
  },
  {
   "metadata": {
    "jupyter": {
     "is_executing": true
    }
   },
   "cell_type": "code",
   "source": [
    "\n",
    "import matplotlib.pyplot as plt\n",
    "print(\"MSE: %.2f\" % best_mse)\n",
    "print(\"RMSE: %.2f\" % np.sqrt(best_mse))\n",
    "plt.plot(history)\n",
    "plt.show()"
   ],
   "id": "1eb071eb8f0de6d1",
   "outputs": [],
   "execution_count": null
  },
  {
   "metadata": {
    "jupyter": {
     "is_executing": true
    }
   },
   "cell_type": "code",
   "source": "y_pred = model_nn(X_test_t)",
   "id": "50b96a2a2ad578cb",
   "outputs": [],
   "execution_count": null
  },
  {
   "metadata": {
    "jupyter": {
     "is_executing": true
    }
   },
   "cell_type": "code",
   "source": "y_pred=y_pred.detach().numpy()",
   "id": "ddbc74b791069177",
   "outputs": [],
   "execution_count": null
  },
  {
   "metadata": {
    "jupyter": {
     "is_executing": true
    }
   },
   "cell_type": "code",
   "source": [
    "#TODO kell ez? \n",
    "\n",
    "X_test[X_test.columns]=X_scaler.inverse_transform(X_test_t)\n",
    "y_test[y_test.columns] =y_scaler.inverse_transform(y_test_t)"
   ],
   "id": "942c365317268781",
   "outputs": [],
   "execution_count": null
  },
  {
   "metadata": {
    "jupyter": {
     "is_executing": true
    }
   },
   "cell_type": "code",
   "source": "y_pred=y_scaler.inverse_transform(y_pred)\n",
   "id": "6fa088057a12c755",
   "outputs": [],
   "execution_count": null
  },
  {
   "metadata": {
    "jupyter": {
     "is_executing": true
    }
   },
   "cell_type": "code",
   "source": "eval_df_nn=evaluate_model(X_test, y_test, y_pred)",
   "id": "216a20b3641a6dbf",
   "outputs": [],
   "execution_count": null
  },
  {
   "metadata": {
    "jupyter": {
     "is_executing": true
    }
   },
   "cell_type": "code",
   "source": "eval_df_nn.head()",
   "id": "35efa0cf13df216c",
   "outputs": [],
   "execution_count": null
  },
  {
   "metadata": {
    "jupyter": {
     "is_executing": true
    }
   },
   "cell_type": "code",
   "source": "save_NN(model_nn,X_scaler,y_scaler,history,'Base')",
   "id": "88d5ede920ec6caa",
   "outputs": [],
   "execution_count": null
  },
  {
   "metadata": {
    "jupyter": {
     "is_executing": true
    }
   },
   "cell_type": "code",
   "source": "del model_nn",
   "id": "747058570cf8fbec",
   "outputs": [],
   "execution_count": null
  },
  {
   "metadata": {},
   "cell_type": "markdown",
   "source": [
    "# Kisebb adaton:\n",
    "\n",
    "most rendelkezésre álló adat:\n",
    "- utastájékoztatásból terv- és tényídők\n",
    "- időjárás\n",
    "\n",
    "Azaz dobjuk a lassújel és vágányzár adatokat\n"
   ],
   "id": "a079287cde85f2df"
  },
  {
   "metadata": {
    "jupyter": {
     "is_executing": true
    }
   },
   "cell_type": "code",
   "source": "attrs_to_use=['MENETREND_IDO','ELOZO_KESES','KESES','tx','t','tn','r','TERV_IDOTARTAM','ELOZO VONAT KESES']",
   "id": "b7594316686fcbf2",
   "outputs": [],
   "execution_count": null
  },
  {
   "metadata": {
    "jupyter": {
     "is_executing": true
    }
   },
   "cell_type": "code",
   "source": [
    "raw_data_small=raw_data[attrs_to_use]\n",
    "def train_and_evaluate_DRT(data):\n",
    "    history=None\n",
    "    X_scaler=None\n",
    "    y_scaler=None\n",
    "    X_train, X_test, y_train, y_test,_,_ = split_train_test(data)\n",
    "    model, predictions = train_DRT(X_train,X_test, y_train)\n",
    "    eval_df = evaluate_model(X_test, y_test, predictions)\n",
    "    return model,eval_df,X_scaler,y_scaler,history\n",
    "\n",
    "\n",
    "\n"
   ],
   "id": "8a4451ff576f68f3",
   "outputs": [],
   "execution_count": null
  },
  {
   "metadata": {
    "jupyter": {
     "is_executing": true
    }
   },
   "cell_type": "code",
   "source": "raw_data_small.head()",
   "id": "6ddaa5b3a63ae99b",
   "outputs": [],
   "execution_count": null
  },
  {
   "metadata": {
    "jupyter": {
     "is_executing": true
    }
   },
   "cell_type": "code",
   "source": "model_s,eval_df_s,_,_,_=train_and_evaluate_DRT(raw_data_small)",
   "id": "b36cbdeacae5c12a",
   "outputs": [],
   "execution_count": null
  },
  {
   "metadata": {
    "jupyter": {
     "is_executing": true
    }
   },
   "cell_type": "code",
   "source": "eval_df_s.head()",
   "id": "30224f198b40d3d5",
   "outputs": [],
   "execution_count": null
  },
  {
   "metadata": {
    "jupyter": {
     "is_executing": true
    }
   },
   "cell_type": "code",
   "source": "eval_df_s[['PE','PE1']].describe()\n",
   "id": "e9328084ee9ac42a",
   "outputs": [],
   "execution_count": null
  },
  {
   "metadata": {
    "jupyter": {
     "is_executing": true
    }
   },
   "cell_type": "code",
   "source": "",
   "id": "43719b9d0c50ea53",
   "outputs": [],
   "execution_count": null
  },
  {
   "metadata": {
    "jupyter": {
     "is_executing": true
    }
   },
   "cell_type": "code",
   "source": "save_sklearn_model(model_s,'RT','Small')\n",
   "id": "567aa364f70949de",
   "outputs": [],
   "execution_count": null
  },
  {
   "metadata": {
    "jupyter": {
     "is_executing": true
    }
   },
   "cell_type": "code",
   "source": "del model_s",
   "id": "a459f105180e185c",
   "outputs": [],
   "execution_count": null
  },
  {
   "metadata": {
    "jupyter": {
     "is_executing": true
    }
   },
   "cell_type": "code",
   "source": [
    "raw_data_small=raw_data[attrs_to_use]\n",
    "def train_and_evaluate_NN(data, epoch=20, lr=0.0001):\n",
    "    X_train, X_test, y_train, y_test,X_scaler,y_scaler = split_train_test(data,True)\n",
    "    X_train_t, X_test_t, y_train_t, y_test_t = get_data_tensors(X_train, X_test, y_train, y_test)\n",
    "    input_size=X_train.shape[1]\n",
    "    model = get_NN_model(input_size)\n",
    "    optimizer, loss_fn = get_optimizer(model, lr)\n",
    "    history, best_mse, best_weights, model=train_NN(X_train_t, X_test_t, y_train_t, y_test_t, model, loss_fn, optimizer, epoch)\n",
    "    y_pred = model(X_test_t)\n",
    "    y_pred=y_pred.detach().numpy()\n",
    "    X_test[X_test.columns]=X_scaler.inverse_transform(X_test_t)\n",
    "    y_test[y_test.columns] =y_scaler.inverse_transform(y_test_t)\n",
    "    y_pred=y_scaler.inverse_transform(y_pred)\n",
    "    eval_df_nn = evaluate_model(X_test, y_test, y_pred)\n",
    "    return model,eval_df_nn,X_scaler,y_scaler,history\n"
   ],
   "id": "f917126543c60abd",
   "outputs": [],
   "execution_count": null
  },
  {
   "metadata": {
    "jupyter": {
     "is_executing": true
    }
   },
   "cell_type": "code",
   "source": [
    "model_nn_s,eval_df_nn_s,X_scaler_s,y_scaler, history_s=train_and_evaluate_NN(raw_data_small,3)\n",
    "\n",
    "\n",
    "    "
   ],
   "id": "f203c3532925c649",
   "outputs": [],
   "execution_count": null
  },
  {
   "metadata": {
    "jupyter": {
     "is_executing": true
    }
   },
   "cell_type": "code",
   "source": [
    "save_NN(model_nn_s,X_scaler_s,y_scaler,history_s,'Small')\n",
    "\n"
   ],
   "id": "5d140d8a24b2288b",
   "outputs": [],
   "execution_count": null
  },
  {
   "metadata": {
    "jupyter": {
     "is_executing": true
    }
   },
   "cell_type": "code",
   "source": "eval_df_nn_s.head()",
   "id": "f9c53c32014a47cd",
   "outputs": [],
   "execution_count": null
  },
  {
   "metadata": {
    "jupyter": {
     "is_executing": true
    }
   },
   "cell_type": "code",
   "source": [
    "print(\"MSE: %.2f\" % best_mse)\n",
    "print(\"RMSE: %.2f\" % np.sqrt(best_mse))\n",
    "plt.plot(history_s)\n",
    "plt.show()"
   ],
   "id": "89a66106afddd148",
   "outputs": [],
   "execution_count": null
  },
  {
   "metadata": {
    "jupyter": {
     "is_executing": true
    }
   },
   "cell_type": "code",
   "source": "eval_df_nn_s[['MAPE','MAPE1']].describe()",
   "id": "f2eabb8c0eb59c71",
   "outputs": [],
   "execution_count": null
  },
  {
   "metadata": {
    "jupyter": {
     "is_executing": true
    }
   },
   "cell_type": "code",
   "source": "del model_nn_s",
   "id": "f9efbb39d62c1a80",
   "outputs": [],
   "execution_count": null
  },
  {
   "metadata": {
    "jupyter": {
     "is_executing": true
    }
   },
   "cell_type": "code",
   "source": [
    "del raw_data_small\n",
    "del raw_data\n",
    "    "
   ],
   "id": "b21aedb69a8a911d",
   "outputs": [],
   "execution_count": null
  },
  {
   "metadata": {},
   "cell_type": "markdown",
   "source": "# loading the models and validate them",
   "id": "ac6ad6ec80a8c924"
  },
  {
   "metadata": {},
   "cell_type": "markdown",
   "source": "",
   "id": "54e578f30c335ea"
  },
  {
   "metadata": {
    "jupyter": {
     "is_executing": true
    }
   },
   "cell_type": "code",
   "source": [
    "validation_data=pd.read_csv(data_root+'validation_data.csv')\n",
    "y=validation_data['KESES']\n",
    "X=validation_data.drop(columns=['KESES','RELATIV_KESES'])\n",
    "X_additional=X[['VONATSZAM','KOZLEKEDESI_NAP']]\n",
    "X.drop(columns=['VONATSZAM','KOZLEKEDESI_NAP'], inplace=True)\n",
    "if 'KESES' in attrs_to_use:\n",
    "    attrs_to_use.remove('KESES')\n",
    "X_small=X[attrs_to_use]\n",
    "\n",
    "\n",
    "\n"
   ],
   "id": "33f75d5b5b54f65f",
   "outputs": [],
   "execution_count": null
  },
  {
   "metadata": {
    "jupyter": {
     "is_executing": true
    }
   },
   "cell_type": "code",
   "source": [
    "#model/data_desc/model_desc\n",
    "base_RT = load_sk_by_desc('RT','base','Base')['model']\n",
    "small_RT = load_sk_by_desc('RT','base','Small')['model']\n"
   ],
   "id": "733f7e3ea67c2ff7",
   "outputs": [],
   "execution_count": null
  },
  {
   "metadata": {
    "jupyter": {
     "is_executing": true
    }
   },
   "cell_type": "code",
   "source": [
    "y_pred_dt_base=small_RT.predict(X_small)\n",
    "#small_RT_res=evaluate_model(X_small,y,y_pred)\n",
    "y_pred_dt_small=base_RT.predict(X)\n",
    "#base_RT_res=evaluate_model(X,y,y_pred)\n"
   ],
   "id": "4f9ad000d7a65ca0",
   "outputs": [],
   "execution_count": null
  },
  {
   "metadata": {
    "jupyter": {
     "is_executing": true
    }
   },
   "cell_type": "code",
   "source": [
    "del small_RT\n",
    "del base_RT"
   ],
   "id": "517f2fda2c1eb90d",
   "outputs": [],
   "execution_count": null
  },
  {
   "metadata": {
    "jupyter": {
     "is_executing": true
    }
   },
   "cell_type": "code",
   "source": "validation_data.head()",
   "id": "b4b5b7ed285f3685",
   "outputs": [],
   "execution_count": null
  },
  {
   "metadata": {
    "jupyter": {
     "is_executing": true
    }
   },
   "cell_type": "code",
   "source": [
    "import torch\n",
    "base_X_scaler=load_sk_by_desc('X_scaler','base','base')['model']\n",
    "base_y_scaler=load_sk_by_desc('y_scaler','base','base')['model']\n",
    "\n",
    "X_t = torch.tensor(base_X_scaler.transform(X), dtype=torch.float32)\n",
    "nn_base=load_NN('./model/NN/base/base/')['model']\n",
    "y_pred_nn_base=base_y_scaler.inverse_transform(nn_base(X_t).detach().numpy())\n",
    "del base_X_scaler\n",
    "del base_y_scaler\n",
    "del nn_base\n",
    "del X_t\n"
   ],
   "id": "c0030a6a75dfbe3f",
   "outputs": [],
   "execution_count": null
  },
  {
   "metadata": {
    "jupyter": {
     "is_executing": true
    }
   },
   "cell_type": "code",
   "source": "attrs_to_use",
   "id": "9c7a9b3489a88a97",
   "outputs": [],
   "execution_count": null
  },
  {
   "metadata": {
    "jupyter": {
     "is_executing": true
    }
   },
   "cell_type": "code",
   "source": "",
   "id": "c9fa9176a5e34a71",
   "outputs": [],
   "execution_count": null
  },
  {
   "metadata": {
    "jupyter": {
     "is_executing": true
    }
   },
   "cell_type": "code",
   "source": [
    "\n",
    "\n",
    "small_X_scaler=load_sk_by_desc('X_scaler','base','Small')['model']\n",
    "small_y_scaler=load_sk_by_desc('y_scaler','base','Small')['model']\n",
    "\n",
    "X_t = torch.tensor(small_X_scaler.transform(X_small), dtype=torch.float32)\n",
    "nn_small=load_NN('./model/NN/Small/base/')['model']\n",
    "y_pred_nn_small=small_y_scaler.inverse_transform(nn_small(X_t).detach().numpy())\n",
    "del small_X_scaler\n",
    "del small_y_scaler\n",
    "del nn_small\n",
    "del X_t\n",
    "\n"
   ],
   "id": "f0fd29e1e366e145",
   "outputs": [],
   "execution_count": null
  },
  {
   "metadata": {
    "jupyter": {
     "is_executing": true
    }
   },
   "cell_type": "code",
   "source": [
    "del y\n",
    "del X\n",
    "del X_small"
   ],
   "id": "25db3a03b20f8461",
   "outputs": [],
   "execution_count": null
  },
  {
   "metadata": {
    "jupyter": {
     "is_executing": true
    }
   },
   "cell_type": "code",
   "source": [
    "names = ['P-NN','P-NN-small','P-DT','P-DT-small','KESES']\n",
    "preds=[y_pred_nn_base.squeeze(),y_pred_nn_small.squeeze(),y_pred_dt_base,y_pred_dt_small,y]\n",
    "cols_to_add=pd.DataFrame(dict(zip(names,preds)))"
   ],
   "id": "257be9c8cc7292db",
   "outputs": [],
   "execution_count": null
  },
  {
   "metadata": {
    "jupyter": {
     "is_executing": true
    }
   },
   "cell_type": "code",
   "source": "type(y_pred_dt_small[:5])",
   "id": "79f1196a13e80019",
   "outputs": [],
   "execution_count": null
  },
  {
   "metadata": {
    "jupyter": {
     "is_executing": true
    }
   },
   "cell_type": "code",
   "source": "y_pred_dt_small.reshape(1,).shape",
   "id": "f3d1018800fe390",
   "outputs": [],
   "execution_count": null
  },
  {
   "metadata": {
    "jupyter": {
     "is_executing": true
    }
   },
   "cell_type": "code",
   "source": "type(y_pred_nn_base[:5])",
   "id": "7eff494b99ffd4d2",
   "outputs": [],
   "execution_count": null
  },
  {
   "metadata": {
    "jupyter": {
     "is_executing": true
    }
   },
   "cell_type": "code",
   "source": "y_pred_nn_base.squeeze().shape",
   "id": "f3ddcf06c746a976",
   "outputs": [],
   "execution_count": null
  },
  {
   "metadata": {
    "jupyter": {
     "is_executing": true
    }
   },
   "cell_type": "code",
   "source": [
    "df_to_validate_orig=pd.read_pickle(data_root+'validation_orig.pkl')\n",
    "df_to_validate_orig.drop(columns=['KESES'], inplace=True)"
   ],
   "id": "789b3805d2dac961",
   "outputs": [],
   "execution_count": null
  },
  {
   "metadata": {
    "jupyter": {
     "is_executing": true
    }
   },
   "cell_type": "code",
   "source": [
    "df_to_validate_orig.reset_index(drop=True, inplace=True)\n",
    "cols_to_add.reset_index(drop=True, inplace=True)"
   ],
   "id": "b6f1e71445ceb6bf",
   "outputs": [],
   "execution_count": null
  },
  {
   "metadata": {
    "jupyter": {
     "is_executing": true
    }
   },
   "cell_type": "code",
   "source": "eval_df=pd.concat([df_to_validate_orig,cols_to_add], axis=1)",
   "id": "e5911c3d8d95edb3",
   "outputs": [],
   "execution_count": null
  },
  {
   "metadata": {
    "jupyter": {
     "is_executing": true
    }
   },
   "cell_type": "code",
   "source": "eval_df.head()",
   "id": "7c309c0f960d4574",
   "outputs": [],
   "execution_count": null
  },
  {
   "metadata": {
    "jupyter": {
     "is_executing": true
    }
   },
   "cell_type": "code",
   "source": [
    "eval_df['KOZLEKEDESI_NAP']=pd.to_datetime(eval_df['ELOZO_ESEMENY_IDO']).dt.date\n",
    "eval_df['TENY_IDOTARTAM']=eval_df['TERV_IDOTARTAM (m)']+eval_df['KESES']\n",
    "\n",
    "for n in names:\n",
    "    eval_df['JOSOLT_IDOTARTAM ' + n]=eval_df['TERV_IDOTARTAM (m)']+eval_df[n]\n",
    "    eval_df=eval_df[['VONATSZAM','KOZLEKEDESI_NAP','KESES','OSSZ_KESES']+names]\n",
    "    # menetido alapján\n",
    "    eval_df[f'{n} APE (MENETIDO)']=abs(eval_df['TENY_IDOTARTAM']-eval_df['JOSOLT_IDOTARTAM ' + n])/eval_df['TENY_IDOTARTAM'] *100\n",
    "    eval_df[f'{n} APE (KESES)']=abs(eval_df['KESES']-eval_df[n])/eval_df['KESES'] *100\n",
    "    \n"
   ],
   "id": "29ac71e837183b35",
   "outputs": [],
   "execution_count": null
  },
  {
   "metadata": {
    "jupyter": {
     "is_executing": true
    }
   },
   "cell_type": "code",
   "source": "df_to_validate_orig.shape",
   "id": "b502f94a2e33e3ea",
   "outputs": [],
   "execution_count": null
  },
  {
   "metadata": {
    "jupyter": {
     "is_executing": true
    }
   },
   "cell_type": "code",
   "source": "cols_to_add.shape",
   "id": "36b0848e662d518d",
   "outputs": [],
   "execution_count": null
  },
  {
   "metadata": {
    "jupyter": {
     "is_executing": true
    }
   },
   "cell_type": "code",
   "source": "",
   "id": "bf0718c5407a20b6",
   "outputs": [],
   "execution_count": null
  }
 ],
 "metadata": {
  "kernelspec": {
   "display_name": "Python 3",
   "language": "python",
   "name": "python3"
  },
  "language_info": {
   "codemirror_mode": {
    "name": "ipython",
    "version": 2
   },
   "file_extension": ".py",
   "mimetype": "text/x-python",
   "name": "python",
   "nbconvert_exporter": "python",
   "pygments_lexer": "ipython2",
   "version": "2.7.6"
  }
 },
 "nbformat": 4,
 "nbformat_minor": 5
}

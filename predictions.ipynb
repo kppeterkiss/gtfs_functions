{
 "cells": [
  {
   "metadata": {},
   "cell_type": "markdown",
   "source": "# Homogén adatok átalakítása modell tanításhoz",
   "id": "eb4830a135e6d98e"
  },
  {
   "metadata": {
    "ExecuteTime": {
     "end_time": "2024-11-24T20:00:48.726761Z",
     "start_time": "2024-11-24T20:00:46.325508Z"
    }
   },
   "cell_type": "code",
   "source": [
    "import pandas as pd\n",
    "from sklearn.preprocessing import MinMaxScaler"
   ],
   "id": "initial_id",
   "outputs": [],
   "execution_count": 1
  },
  {
   "metadata": {
    "ExecuteTime": {
     "end_time": "2024-11-24T20:00:48.732850Z",
     "start_time": "2024-11-24T20:00:48.728371Z"
    }
   },
   "cell_type": "code",
   "source": [
    "def load_data(fn): \n",
    "    with open(fn, 'rt') as f:\n",
    "        types = next(f).rstrip().split(',')[1:]\n",
    "        columns = next(f).rstrip().split(',')[1:]\n",
    "        df = pd.read_csv(f, dtype=dict(zip(columns, types)), index_col=0, names=columns)\n",
    "        return df"
   ],
   "id": "24f7da327c95677a",
   "outputs": [],
   "execution_count": 2
  },
  {
   "metadata": {
    "ExecuteTime": {
     "end_time": "2024-11-24T20:00:48.736902Z",
     "start_time": "2024-11-24T20:00:48.733900Z"
    }
   },
   "cell_type": "code",
   "source": "",
   "id": "96177083407842c7",
   "outputs": [],
   "execution_count": 2
  },
  {
   "metadata": {
    "ExecuteTime": {
     "end_time": "2024-11-24T20:00:48.778657Z",
     "start_time": "2024-11-24T20:00:48.737952Z"
    }
   },
   "cell_type": "code",
   "source": "!free -m",
   "id": "eff6e4398f353a4a",
   "outputs": [
    {
     "name": "stderr",
     "output_type": "stream",
     "text": [
      "'free' is not recognized as an internal or external command,\n",
      "operable program or batch file.\n"
     ]
    }
   ],
   "execution_count": 3
  },
  {
   "metadata": {
    "ExecuteTime": {
     "end_time": "2024-11-24T20:00:48.790646Z",
     "start_time": "2024-11-24T20:00:48.781318Z"
    }
   },
   "cell_type": "code",
   "source": [
    "import random\n",
    "import calendar\n",
    "from datetime import datetime\n",
    "'''\n",
    "def pick_random_days(year):\n",
    "    random_days = {}\n",
    "    for month in range(1, 13):\n",
    "        days_in_month = calendar.monthrange(year, month)[1]\n",
    "        random_days[calendar.month_name[month]] = random.sample(range(1, days_in_month + 1), 3)\n",
    "        date = datetime(year, month, day)\n",
    "    return random_days\n",
    "\n",
    "year = 2024\n",
    "random_days = pick_random_days(year)\n",
    "random.seed(42)\n",
    "for month, days in random_days.items():\n",
    "    \n",
    "    print(f\"{month}: {days}\")\n",
    "    \n",
    "''' \n",
    "import random\n",
    "from datetime import datetime, timedelta\n",
    "random.seed(42)\n",
    "def random_dates(years,validation_day_no, size_reducing_day_no):\n",
    "    all_random_dates=validation_day_no+size_reducing_day_no\n",
    "    dates = []\n",
    "    size_reducing_dates=[]\n",
    "    for year in years:\n",
    "        for month in range(1, 13):\n",
    "            for i in range(all_random_dates):\n",
    "                # Generate a random day in the current month\n",
    "                day = random.randint(1, 28)  # To avoid issues with different month lengths\n",
    "                date = datetime(year, month, day).date()\n",
    "                if i>=validation_day_no:\n",
    "                    size_reducing_dates.append(date)\n",
    "                else:\n",
    "                    dates.append(date)\n",
    "    return dates,size_reducing_dates\n",
    "\n",
    "# Example usage\n",
    "years = [2022,2023]\n",
    "random_days,days_to_keep = random_dates(years,3,10)\n",
    "for date in random_days:\n",
    "    print(date)"
   ],
   "id": "745473e4586c4098",
   "outputs": [
    {
     "name": "stdout",
     "output_type": "stream",
     "text": [
      "2022-01-21\n",
      "2022-01-04\n",
      "2022-01-01\n",
      "2022-02-03\n",
      "2022-02-19\n",
      "2022-02-14\n",
      "2022-03-23\n",
      "2022-03-21\n",
      "2022-03-23\n",
      "2022-04-26\n",
      "2022-04-06\n",
      "2022-04-23\n",
      "2022-05-04\n",
      "2022-05-12\n",
      "2022-05-28\n",
      "2022-06-03\n",
      "2022-06-18\n",
      "2022-06-10\n",
      "2022-07-22\n",
      "2022-07-08\n",
      "2022-07-25\n",
      "2022-08-27\n",
      "2022-08-12\n",
      "2022-08-06\n",
      "2022-09-21\n",
      "2022-09-06\n",
      "2022-09-18\n",
      "2022-10-22\n",
      "2022-10-11\n",
      "2022-10-27\n",
      "2022-11-03\n",
      "2022-11-07\n",
      "2022-11-19\n",
      "2022-12-05\n",
      "2022-12-08\n",
      "2022-12-24\n",
      "2023-01-05\n",
      "2023-01-17\n",
      "2023-01-16\n",
      "2023-02-14\n",
      "2023-02-20\n",
      "2023-02-03\n",
      "2023-03-24\n",
      "2023-03-04\n",
      "2023-03-22\n",
      "2023-04-15\n",
      "2023-04-01\n",
      "2023-04-24\n",
      "2023-05-27\n",
      "2023-05-21\n",
      "2023-05-17\n",
      "2023-06-20\n",
      "2023-06-11\n",
      "2023-06-16\n",
      "2023-07-03\n",
      "2023-07-03\n",
      "2023-07-24\n",
      "2023-08-18\n",
      "2023-08-06\n",
      "2023-08-09\n",
      "2023-09-23\n",
      "2023-09-10\n",
      "2023-09-13\n",
      "2023-10-11\n",
      "2023-10-01\n",
      "2023-10-19\n",
      "2023-11-03\n",
      "2023-11-02\n",
      "2023-11-28\n",
      "2023-12-24\n",
      "2023-12-19\n",
      "2023-12-19\n"
     ]
    }
   ],
   "execution_count": 4
  },
  {
   "metadata": {
    "ExecuteTime": {
     "end_time": "2024-11-24T20:00:48.801660Z",
     "start_time": "2024-11-24T20:00:48.792656Z"
    }
   },
   "cell_type": "code",
   "source": [
    "'''import random\n",
    "random.seed(45)   \n",
    "print(random.random())\n",
    "print(random.random())\n",
    "random.seed(45)   \n",
    "print(random.random())\n",
    "print(random.random())\n",
    "'''"
   ],
   "id": "2ae885720171d85f",
   "outputs": [
    {
     "data": {
      "text/plain": [
       "'import random\\nrandom.seed(45)   \\nprint(random.random())\\nprint(random.random())\\nrandom.seed(45)   \\nprint(random.random())\\nprint(random.random())\\n'"
      ]
     },
     "execution_count": 5,
     "metadata": {},
     "output_type": "execute_result"
    }
   ],
   "execution_count": 5
  },
  {
   "metadata": {
    "ExecuteTime": {
     "end_time": "2024-11-24T20:00:48.809845Z",
     "start_time": "2024-11-24T20:00:48.803839Z"
    }
   },
   "cell_type": "code",
   "source": [
    "#data_root = \"data/\"\n",
    "from config import data_root\n",
    "#datafn= \"data.csv\""
   ],
   "id": "8414e604476e21d9",
   "outputs": [],
   "execution_count": 6
  },
  {
   "metadata": {
    "ExecuteTime": {
     "end_time": "2024-11-24T20:04:11.857799Z",
     "start_time": "2024-11-24T20:00:48.811914Z"
    }
   },
   "cell_type": "code",
   "source": [
    "import numpy as np\n",
    "#raw_data =load_data(data_root+datafn)\n",
    "raw_data=pd.read_pickle(data_root+'data.pkl')\n",
    "raw_data.replace([np.inf, -np.inf], np.nan, inplace=True)\n",
    "raw_data.dropna( inplace=True)\n"
   ],
   "id": "c5688790312e3027",
   "outputs": [],
   "execution_count": 7
  },
  {
   "metadata": {
    "ExecuteTime": {
     "end_time": "2024-11-24T20:04:20.342586Z",
     "start_time": "2024-11-24T20:04:11.898063Z"
    }
   },
   "cell_type": "code",
   "source": [
    "raw_data['KOZLEKEDESI_NAP']=pd.to_datetime(raw_data['ELOZO_ESEMENY_IDO']).dt.date\n",
    "df_to_validate_orig = raw_data[raw_data['KOZLEKEDESI_NAP'].isin(random_days)]\n",
    "df_to_validate_orig.to_pickle(data_root+'validation_orig.pkl')\n",
    "del df_to_validate_orig\n",
    "\n"
   ],
   "id": "cdd49238d63e8103",
   "outputs": [],
   "execution_count": 8
  },
  {
   "metadata": {
    "ExecuteTime": {
     "end_time": "2024-11-24T20:04:20.390816Z",
     "start_time": "2024-11-24T20:04:20.345430Z"
    }
   },
   "cell_type": "code",
   "source": "raw_data.dtypes",
   "id": "d31e071dd9ee53c9",
   "outputs": [
    {
     "data": {
      "text/plain": [
       "VONAL                                       object\n",
       "VONATSZAM                                    int64\n",
       "VONTATO_TIPUS                                int64\n",
       "ELOZO_ESEMENY_IDO                           object\n",
       "MENETREND_IDO                               object\n",
       "OSSZ_KESES                                  object\n",
       "ELOZO_KESES                                 object\n",
       "KESES                                       object\n",
       "RELATIV_KESES                              float64\n",
       "TERV_IDOTARTAM (m)                         float64\n",
       "tx                                         float64\n",
       "t                                          float64\n",
       "tn                                         float64\n",
       "r                                          float64\n",
       "LINE                                         int64\n",
       "ID                                          object\n",
       "Kizárásszám                                 object\n",
       "Érintett objektum típusa                   float64\n",
       "Lassúmenet típusa                          float64\n",
       "Lassúmenet hossza                          float64\n",
       "Lassúmenet mértéke (km/h)                  float64\n",
       "Lassúmenet mértéke motorvonatra (km/h)     float64\n",
       "Fels.vez. kikapcsolása                     float64\n",
       "I                                          float64\n",
       "E                                          float64\n",
       "ÁI                                         float64\n",
       "ÁE                                         float64\n",
       "Kezdés                                      object\n",
       "Befejezés                                   object\n",
       "Kizárás (1=VZ,2=LJ)                        float64\n",
       "Kiutalt menetvonalak zavartatása nélkül    float64\n",
       "Státus                                     float64\n",
       "ELOZO VONAT KESES                           object\n",
       "ELOZO VONAT RELATIV KESES                  float64\n",
       "VONAL STATUSZ VALTOZOTT                       bool\n",
       "KOZLEKEDESI_NAP                             object\n",
       "dtype: object"
      ]
     },
     "execution_count": 9,
     "metadata": {},
     "output_type": "execute_result"
    }
   ],
   "execution_count": 9
  },
  {
   "metadata": {
    "ExecuteTime": {
     "end_time": "2024-11-24T20:04:20.406178Z",
     "start_time": "2024-11-24T20:04:20.393824Z"
    }
   },
   "cell_type": "code",
   "source": [
    "import datetime\n",
    "def convert_time_to_minute(input):\n",
    "    if isinstance(input,datetime.time):\n",
    "        return float(input.hour*60+input.minute)\n",
    "    #TODO does totalseconds return some decent value for negativ timedelta? \n",
    "    # ANS: it is good\n",
    "    if isinstance(input,datetime.timedelta):\n",
    "        ret = input.total_seconds()/60\n",
    "       # if datetime.timedelta(0)>input:\n",
    "       #     return -ret\n",
    "        return ret\n",
    "    if isinstance(input,float):\n",
    "        return input\n",
    "    return -1.0"
   ],
   "id": "be66b9ba92baf2d4",
   "outputs": [],
   "execution_count": 10
  },
  {
   "metadata": {
    "ExecuteTime": {
     "end_time": "2024-11-24T20:04:20.414186Z",
     "start_time": "2024-11-24T20:04:20.409189Z"
    }
   },
   "cell_type": "code",
   "source": "# átalakítjuk időt percekké",
   "id": "bea3510fece59336",
   "outputs": [],
   "execution_count": 11
  },
  {
   "metadata": {
    "ExecuteTime": {
     "end_time": "2024-11-24T20:05:01.606153Z",
     "start_time": "2024-11-24T20:04:20.418220Z"
    }
   },
   "cell_type": "code",
   "source": [
    "def prepare_for_training(raw_data):\n",
    "    raw_data[['MENETREND_IDO','ELOZO_KESES','ELOZO VONAT KESES','KESES']] = raw_data[['MENETREND_IDO','ELOZO_KESES','ELOZO VONAT KESES','KESES']].map(convert_time_to_minute)\n",
    "    \n",
    "    \n",
    "    raw_data['VONAL STATUSZ VALTOZOTT']=raw_data['VONAL STATUSZ VALTOZOTT'].head().astype(float)\n",
    "    raw_data.fillna(0.0,inplace=True)\n",
    "    \n",
    "prepare_for_training(raw_data)"
   ],
   "id": "7d7c5ea1e28cb35a",
   "outputs": [],
   "execution_count": 12
  },
  {
   "metadata": {
    "ExecuteTime": {
     "end_time": "2024-11-24T20:05:33.197786Z",
     "start_time": "2024-11-24T20:05:01.640300Z"
    }
   },
   "cell_type": "code",
   "source": [
    "#TODO boolean vs categorical?\n",
    "#TODO Vonal, Line mit kellene kezdeni velük? kicsit kölséges használni őket..\n",
    "#raw_data[['VONATSZAM','VONAL','VONTATO_TIPUS','Lassúmenet típusa','Kizárás (1=VZ,2=LJ)','Kiutalt menetvonalak zavartatása nélkül','Státus','Fels.vez. kikapcsolása']]=raw_data[['VONATSZAM','VONAL','VONTATO_TIPUS','Lassúmenet típusa','Kizárás (1=VZ,2=LJ)','Kiutalt menetvonalak zavartatása nélkül','Státus','Fels.vez. kikapcsolása']].astype(\"category\")\n",
    "\n",
    "# sklearn nem bír  category-kal\n",
    "#raw_data.drop(columns=['VONATSZAM','VONAL','VONTATO_TIPUS'],inplace=True)\n",
    "\n",
    "# vonatszám kell majd spearman-hez\n",
    "raw_data.drop(columns=['VONAL','VONTATO_TIPUS'],inplace=True)\n"
   ],
   "id": "f65819485e89ac5b",
   "outputs": [],
   "execution_count": 13
  },
  {
   "metadata": {
    "ExecuteTime": {
     "end_time": "2024-11-24T20:05:40.342747Z",
     "start_time": "2024-11-24T20:05:33.208820Z"
    }
   },
   "cell_type": "code",
   "source": [
    "\n",
    "#\n",
    "raw_data=raw_data.drop(columns=['ELOZO_ESEMENY_IDO','ID','Kizárásszám','Kezdés','Befejezés','LINE','OSSZ_KESES'])\n"
   ],
   "id": "c1bfa83a90af9d8d",
   "outputs": [],
   "execution_count": 14
  },
  {
   "metadata": {
    "ExecuteTime": {
     "end_time": "2024-11-24T20:05:40.388523Z",
     "start_time": "2024-11-24T20:05:40.346765Z"
    }
   },
   "cell_type": "code",
   "source": "raw_data.dtypes\n",
   "id": "e9bda6887b2600ad",
   "outputs": [
    {
     "data": {
      "text/plain": [
       "VONATSZAM                                    int64\n",
       "MENETREND_IDO                              float64\n",
       "ELOZO_KESES                                float64\n",
       "KESES                                      float64\n",
       "RELATIV_KESES                              float64\n",
       "TERV_IDOTARTAM (m)                         float64\n",
       "tx                                         float64\n",
       "t                                          float64\n",
       "tn                                         float64\n",
       "r                                          float64\n",
       "Érintett objektum típusa                   float64\n",
       "Lassúmenet típusa                          float64\n",
       "Lassúmenet hossza                          float64\n",
       "Lassúmenet mértéke (km/h)                  float64\n",
       "Lassúmenet mértéke motorvonatra (km/h)     float64\n",
       "Fels.vez. kikapcsolása                     float64\n",
       "I                                          float64\n",
       "E                                          float64\n",
       "ÁI                                         float64\n",
       "ÁE                                         float64\n",
       "Kizárás (1=VZ,2=LJ)                        float64\n",
       "Kiutalt menetvonalak zavartatása nélkül    float64\n",
       "Státus                                     float64\n",
       "ELOZO VONAT KESES                          float64\n",
       "ELOZO VONAT RELATIV KESES                  float64\n",
       "VONAL STATUSZ VALTOZOTT                    float64\n",
       "KOZLEKEDESI_NAP                             object\n",
       "dtype: object"
      ]
     },
     "execution_count": 15,
     "metadata": {},
     "output_type": "execute_result"
    }
   ],
   "execution_count": 15
  },
  {
   "metadata": {
    "ExecuteTime": {
     "end_time": "2024-11-24T20:05:40.507514Z",
     "start_time": "2024-11-24T20:05:40.389532Z"
    }
   },
   "cell_type": "code",
   "source": "raw_data.head()",
   "id": "a09069806bd36ada",
   "outputs": [
    {
     "data": {
      "text/plain": [
       "    VONATSZAM  MENETREND_IDO  ELOZO_KESES     KESES  RELATIV_KESES  \\\n",
       "47       2019          241.0     1.166667 -0.216667      -0.216667   \n",
       "50       2019          245.0     1.716667  0.133333       0.133333   \n",
       "52       2019          250.0     1.800000 -0.433333      -0.433333   \n",
       "56       2019          256.0     2.366667 -0.383333      -0.383333   \n",
       "60       2019          261.0     2.300000  0.416667       0.416667   \n",
       "\n",
       "    TERV_IDOTARTAM (m)    tx     t   tn    r  ...    E   ÁI   ÁE  \\\n",
       "47                 1.0  14.1  12.2  7.7  0.0  ...  0.0  0.0  0.0   \n",
       "50                 1.0  14.1  12.2  7.7  0.0  ...  0.0  0.0  0.0   \n",
       "52                 1.0  14.1  12.2  7.7  0.0  ...  0.0  0.0  0.0   \n",
       "56                 1.0  14.1  12.2  7.7  0.0  ...  0.0  0.0  0.0   \n",
       "60                 1.0  14.1  12.2  7.7  0.0  ...  0.0  0.0  0.0   \n",
       "\n",
       "    Kizárás (1=VZ,2=LJ)  Kiutalt menetvonalak zavartatása nélkül  Státus  \\\n",
       "47                  0.0                                      0.0     0.0   \n",
       "50                  0.0                                      0.0     0.0   \n",
       "52                  0.0                                      0.0     0.0   \n",
       "56                  0.0                                      0.0     0.0   \n",
       "60                  0.0                                      0.0     0.0   \n",
       "\n",
       "    ELOZO VONAT KESES  ELOZO VONAT RELATIV KESES  VONAL STATUSZ VALTOZOTT  \\\n",
       "47          -0.550000                  -0.550000                      0.0   \n",
       "50           0.066667                   0.066667                      0.0   \n",
       "52          -0.600000                  -0.600000                      0.0   \n",
       "56          -0.583333                  -0.583333                      0.0   \n",
       "60          -0.350000                  -0.350000                      0.0   \n",
       "\n",
       "    KOZLEKEDESI_NAP  \n",
       "47       2022-01-01  \n",
       "50       2022-01-01  \n",
       "52       2022-01-01  \n",
       "56       2022-01-01  \n",
       "60       2022-01-01  \n",
       "\n",
       "[5 rows x 27 columns]"
      ],
      "text/html": [
       "<div>\n",
       "<style scoped>\n",
       "    .dataframe tbody tr th:only-of-type {\n",
       "        vertical-align: middle;\n",
       "    }\n",
       "\n",
       "    .dataframe tbody tr th {\n",
       "        vertical-align: top;\n",
       "    }\n",
       "\n",
       "    .dataframe thead th {\n",
       "        text-align: right;\n",
       "    }\n",
       "</style>\n",
       "<table border=\"1\" class=\"dataframe\">\n",
       "  <thead>\n",
       "    <tr style=\"text-align: right;\">\n",
       "      <th></th>\n",
       "      <th>VONATSZAM</th>\n",
       "      <th>MENETREND_IDO</th>\n",
       "      <th>ELOZO_KESES</th>\n",
       "      <th>KESES</th>\n",
       "      <th>RELATIV_KESES</th>\n",
       "      <th>TERV_IDOTARTAM (m)</th>\n",
       "      <th>tx</th>\n",
       "      <th>t</th>\n",
       "      <th>tn</th>\n",
       "      <th>r</th>\n",
       "      <th>...</th>\n",
       "      <th>E</th>\n",
       "      <th>ÁI</th>\n",
       "      <th>ÁE</th>\n",
       "      <th>Kizárás (1=VZ,2=LJ)</th>\n",
       "      <th>Kiutalt menetvonalak zavartatása nélkül</th>\n",
       "      <th>Státus</th>\n",
       "      <th>ELOZO VONAT KESES</th>\n",
       "      <th>ELOZO VONAT RELATIV KESES</th>\n",
       "      <th>VONAL STATUSZ VALTOZOTT</th>\n",
       "      <th>KOZLEKEDESI_NAP</th>\n",
       "    </tr>\n",
       "  </thead>\n",
       "  <tbody>\n",
       "    <tr>\n",
       "      <th>47</th>\n",
       "      <td>2019</td>\n",
       "      <td>241.0</td>\n",
       "      <td>1.166667</td>\n",
       "      <td>-0.216667</td>\n",
       "      <td>-0.216667</td>\n",
       "      <td>1.0</td>\n",
       "      <td>14.1</td>\n",
       "      <td>12.2</td>\n",
       "      <td>7.7</td>\n",
       "      <td>0.0</td>\n",
       "      <td>...</td>\n",
       "      <td>0.0</td>\n",
       "      <td>0.0</td>\n",
       "      <td>0.0</td>\n",
       "      <td>0.0</td>\n",
       "      <td>0.0</td>\n",
       "      <td>0.0</td>\n",
       "      <td>-0.550000</td>\n",
       "      <td>-0.550000</td>\n",
       "      <td>0.0</td>\n",
       "      <td>2022-01-01</td>\n",
       "    </tr>\n",
       "    <tr>\n",
       "      <th>50</th>\n",
       "      <td>2019</td>\n",
       "      <td>245.0</td>\n",
       "      <td>1.716667</td>\n",
       "      <td>0.133333</td>\n",
       "      <td>0.133333</td>\n",
       "      <td>1.0</td>\n",
       "      <td>14.1</td>\n",
       "      <td>12.2</td>\n",
       "      <td>7.7</td>\n",
       "      <td>0.0</td>\n",
       "      <td>...</td>\n",
       "      <td>0.0</td>\n",
       "      <td>0.0</td>\n",
       "      <td>0.0</td>\n",
       "      <td>0.0</td>\n",
       "      <td>0.0</td>\n",
       "      <td>0.0</td>\n",
       "      <td>0.066667</td>\n",
       "      <td>0.066667</td>\n",
       "      <td>0.0</td>\n",
       "      <td>2022-01-01</td>\n",
       "    </tr>\n",
       "    <tr>\n",
       "      <th>52</th>\n",
       "      <td>2019</td>\n",
       "      <td>250.0</td>\n",
       "      <td>1.800000</td>\n",
       "      <td>-0.433333</td>\n",
       "      <td>-0.433333</td>\n",
       "      <td>1.0</td>\n",
       "      <td>14.1</td>\n",
       "      <td>12.2</td>\n",
       "      <td>7.7</td>\n",
       "      <td>0.0</td>\n",
       "      <td>...</td>\n",
       "      <td>0.0</td>\n",
       "      <td>0.0</td>\n",
       "      <td>0.0</td>\n",
       "      <td>0.0</td>\n",
       "      <td>0.0</td>\n",
       "      <td>0.0</td>\n",
       "      <td>-0.600000</td>\n",
       "      <td>-0.600000</td>\n",
       "      <td>0.0</td>\n",
       "      <td>2022-01-01</td>\n",
       "    </tr>\n",
       "    <tr>\n",
       "      <th>56</th>\n",
       "      <td>2019</td>\n",
       "      <td>256.0</td>\n",
       "      <td>2.366667</td>\n",
       "      <td>-0.383333</td>\n",
       "      <td>-0.383333</td>\n",
       "      <td>1.0</td>\n",
       "      <td>14.1</td>\n",
       "      <td>12.2</td>\n",
       "      <td>7.7</td>\n",
       "      <td>0.0</td>\n",
       "      <td>...</td>\n",
       "      <td>0.0</td>\n",
       "      <td>0.0</td>\n",
       "      <td>0.0</td>\n",
       "      <td>0.0</td>\n",
       "      <td>0.0</td>\n",
       "      <td>0.0</td>\n",
       "      <td>-0.583333</td>\n",
       "      <td>-0.583333</td>\n",
       "      <td>0.0</td>\n",
       "      <td>2022-01-01</td>\n",
       "    </tr>\n",
       "    <tr>\n",
       "      <th>60</th>\n",
       "      <td>2019</td>\n",
       "      <td>261.0</td>\n",
       "      <td>2.300000</td>\n",
       "      <td>0.416667</td>\n",
       "      <td>0.416667</td>\n",
       "      <td>1.0</td>\n",
       "      <td>14.1</td>\n",
       "      <td>12.2</td>\n",
       "      <td>7.7</td>\n",
       "      <td>0.0</td>\n",
       "      <td>...</td>\n",
       "      <td>0.0</td>\n",
       "      <td>0.0</td>\n",
       "      <td>0.0</td>\n",
       "      <td>0.0</td>\n",
       "      <td>0.0</td>\n",
       "      <td>0.0</td>\n",
       "      <td>-0.350000</td>\n",
       "      <td>-0.350000</td>\n",
       "      <td>0.0</td>\n",
       "      <td>2022-01-01</td>\n",
       "    </tr>\n",
       "  </tbody>\n",
       "</table>\n",
       "<p>5 rows × 27 columns</p>\n",
       "</div>"
      ]
     },
     "execution_count": 16,
     "metadata": {},
     "output_type": "execute_result"
    }
   ],
   "execution_count": 16
  },
  {
   "metadata": {
    "ExecuteTime": {
     "end_time": "2024-11-24T20:05:41.078571Z",
     "start_time": "2024-11-24T20:05:40.509522Z"
    }
   },
   "cell_type": "code",
   "source": [
    "df_to_validate = raw_data[raw_data['KOZLEKEDESI_NAP'].isin(random_days)]\n",
    "#NEM HASZNÁLJUK AZ EGÉSZ ADATOT\n",
    "df_remaining = raw_data[raw_data['KOZLEKEDESI_NAP'].isin(days_to_keep)]"
   ],
   "id": "375c192407dba89b",
   "outputs": [],
   "execution_count": 17
  },
  {
   "metadata": {
    "ExecuteTime": {
     "end_time": "2024-11-24T20:05:41.083933Z",
     "start_time": "2024-11-24T20:05:41.080582Z"
    }
   },
   "cell_type": "code",
   "source": [
    "#ez is kell spearmann-hez\n",
    "#df_to_validate.drop(columns=['KOZLEKEDESI_NAP'],inplace=True)\n",
    "#df_remaining.drop(columns=['KOZLEKEDESI_NAP'],inplace=True)\n"
   ],
   "id": "f493899fd5b75949",
   "outputs": [],
   "execution_count": 18
  },
  {
   "metadata": {
    "ExecuteTime": {
     "end_time": "2024-11-24T20:06:03.806821Z",
     "start_time": "2024-11-24T20:05:41.085530Z"
    }
   },
   "cell_type": "code",
   "source": [
    "#raw_data.to_csv(data_root+'preprocessed_data.csv', index=False)\n",
    "df_to_validate.to_csv(data_root+'validation_data.csv', index=False)\n",
    "df_remaining.to_csv(data_root+'train_test_data.csv', index=False)\n",
    "\n"
   ],
   "id": "d74af63a1024cca6",
   "outputs": [],
   "execution_count": 19
  },
  {
   "metadata": {
    "ExecuteTime": {
     "end_time": "2024-11-24T20:06:03.898865Z",
     "start_time": "2024-11-24T20:06:03.821155Z"
    }
   },
   "cell_type": "code",
   "source": [
    "del raw_data\n",
    "del df_to_validate\n",
    "del df_remaining"
   ],
   "id": "d864ed982883b86",
   "outputs": [],
   "execution_count": 20
  },
  {
   "metadata": {},
   "cell_type": "markdown",
   "source": [
    "# Modellek tanítása\n",
    "\n",
    "A modellek tanításához elég innentől futtatni."
   ],
   "id": "45023a9a3cc9648c"
  },
  {
   "metadata": {
    "ExecuteTime": {
     "end_time": "2024-11-25T20:21:07.667758Z",
     "start_time": "2024-11-25T20:21:03.425542Z"
    }
   },
   "cell_type": "code",
   "source": [
    "import pandas as pd\n",
    "data_root = \"data/\"\n",
    "\n",
    "raw_data=pd.read_csv(data_root+'train_test_data.csv')\n",
    "#raw_data['VONAL STATUSZ VALTOZOTT']=raw_data['VONAL STATUSZ VALTOZOTT'].head().astype(float)\n",
    "\n"
   ],
   "id": "9a0c45d2539bcaef",
   "outputs": [],
   "execution_count": 1
  },
  {
   "metadata": {
    "ExecuteTime": {
     "end_time": "2024-11-25T20:15:01.469723Z",
     "start_time": "2024-11-25T20:15:01.425992Z"
    }
   },
   "cell_type": "code",
   "source": [
    "\n",
    "raw_data.head()\n"
   ],
   "id": "4cafeb67947e406d",
   "outputs": [
    {
     "data": {
      "text/plain": [
       "   VONATSZAM  MENETREND_IDO  ELOZO_KESES     KESES  RELATIV_KESES  \\\n",
       "0       2181            3.0     0.116667  0.166667       0.083333   \n",
       "1       2181            7.0     0.766667 -1.116667      -0.279167   \n",
       "2       2181           10.0    -0.350000 -0.916667      -0.305556   \n",
       "3       2181           11.0    -1.266667 -0.366667      -0.366667   \n",
       "4       2181           13.0     0.166667  0.100000       0.050000   \n",
       "\n",
       "   TERV_IDOTARTAM (m)    tx     t   tn    r  ...    E   ÁI   ÁE  \\\n",
       "0                 2.0  14.3  10.1  4.8  0.4  ...  0.0  0.0  0.0   \n",
       "1                 4.0  14.3  10.1  4.8  0.4  ...  0.0  0.0  0.0   \n",
       "2                 3.0  14.3  10.1  4.8  0.4  ...  0.0  0.0  0.0   \n",
       "3                 1.0  14.3  10.1  4.8  0.4  ...  0.0  0.0  0.0   \n",
       "4                 2.0  14.3  10.1  4.8  0.4  ...  0.0  0.0  0.0   \n",
       "\n",
       "   Kizárás (1=VZ,2=LJ)  Kiutalt menetvonalak zavartatása nélkül  Státus  \\\n",
       "0                  0.0                                      0.0     0.0   \n",
       "1                  0.0                                      0.0     0.0   \n",
       "2                  0.0                                      0.0     0.0   \n",
       "3                  0.0                                      0.0     0.0   \n",
       "4                  0.0                                      0.0     0.0   \n",
       "\n",
       "   ELOZO VONAT KESES  ELOZO VONAT RELATIV KESES  VONAL STATUSZ VALTOZOTT  \\\n",
       "0           0.233333                   0.116667                      0.0   \n",
       "1          -1.016667                  -0.254167                      0.0   \n",
       "2          -0.850000                  -0.283333                      0.0   \n",
       "3          -0.333333                  -0.333333                      0.0   \n",
       "4           0.100000                   0.050000                      0.0   \n",
       "\n",
       "   KOZLEKEDESI_NAP  \n",
       "0       2022-01-04  \n",
       "1       2022-01-04  \n",
       "2       2022-01-04  \n",
       "3       2022-01-04  \n",
       "4       2022-01-04  \n",
       "\n",
       "[5 rows x 27 columns]"
      ],
      "text/html": [
       "<div>\n",
       "<style scoped>\n",
       "    .dataframe tbody tr th:only-of-type {\n",
       "        vertical-align: middle;\n",
       "    }\n",
       "\n",
       "    .dataframe tbody tr th {\n",
       "        vertical-align: top;\n",
       "    }\n",
       "\n",
       "    .dataframe thead th {\n",
       "        text-align: right;\n",
       "    }\n",
       "</style>\n",
       "<table border=\"1\" class=\"dataframe\">\n",
       "  <thead>\n",
       "    <tr style=\"text-align: right;\">\n",
       "      <th></th>\n",
       "      <th>VONATSZAM</th>\n",
       "      <th>MENETREND_IDO</th>\n",
       "      <th>ELOZO_KESES</th>\n",
       "      <th>KESES</th>\n",
       "      <th>RELATIV_KESES</th>\n",
       "      <th>TERV_IDOTARTAM (m)</th>\n",
       "      <th>tx</th>\n",
       "      <th>t</th>\n",
       "      <th>tn</th>\n",
       "      <th>r</th>\n",
       "      <th>...</th>\n",
       "      <th>E</th>\n",
       "      <th>ÁI</th>\n",
       "      <th>ÁE</th>\n",
       "      <th>Kizárás (1=VZ,2=LJ)</th>\n",
       "      <th>Kiutalt menetvonalak zavartatása nélkül</th>\n",
       "      <th>Státus</th>\n",
       "      <th>ELOZO VONAT KESES</th>\n",
       "      <th>ELOZO VONAT RELATIV KESES</th>\n",
       "      <th>VONAL STATUSZ VALTOZOTT</th>\n",
       "      <th>KOZLEKEDESI_NAP</th>\n",
       "    </tr>\n",
       "  </thead>\n",
       "  <tbody>\n",
       "    <tr>\n",
       "      <th>0</th>\n",
       "      <td>2181</td>\n",
       "      <td>3.0</td>\n",
       "      <td>0.116667</td>\n",
       "      <td>0.166667</td>\n",
       "      <td>0.083333</td>\n",
       "      <td>2.0</td>\n",
       "      <td>14.3</td>\n",
       "      <td>10.1</td>\n",
       "      <td>4.8</td>\n",
       "      <td>0.4</td>\n",
       "      <td>...</td>\n",
       "      <td>0.0</td>\n",
       "      <td>0.0</td>\n",
       "      <td>0.0</td>\n",
       "      <td>0.0</td>\n",
       "      <td>0.0</td>\n",
       "      <td>0.0</td>\n",
       "      <td>0.233333</td>\n",
       "      <td>0.116667</td>\n",
       "      <td>0.0</td>\n",
       "      <td>2022-01-04</td>\n",
       "    </tr>\n",
       "    <tr>\n",
       "      <th>1</th>\n",
       "      <td>2181</td>\n",
       "      <td>7.0</td>\n",
       "      <td>0.766667</td>\n",
       "      <td>-1.116667</td>\n",
       "      <td>-0.279167</td>\n",
       "      <td>4.0</td>\n",
       "      <td>14.3</td>\n",
       "      <td>10.1</td>\n",
       "      <td>4.8</td>\n",
       "      <td>0.4</td>\n",
       "      <td>...</td>\n",
       "      <td>0.0</td>\n",
       "      <td>0.0</td>\n",
       "      <td>0.0</td>\n",
       "      <td>0.0</td>\n",
       "      <td>0.0</td>\n",
       "      <td>0.0</td>\n",
       "      <td>-1.016667</td>\n",
       "      <td>-0.254167</td>\n",
       "      <td>0.0</td>\n",
       "      <td>2022-01-04</td>\n",
       "    </tr>\n",
       "    <tr>\n",
       "      <th>2</th>\n",
       "      <td>2181</td>\n",
       "      <td>10.0</td>\n",
       "      <td>-0.350000</td>\n",
       "      <td>-0.916667</td>\n",
       "      <td>-0.305556</td>\n",
       "      <td>3.0</td>\n",
       "      <td>14.3</td>\n",
       "      <td>10.1</td>\n",
       "      <td>4.8</td>\n",
       "      <td>0.4</td>\n",
       "      <td>...</td>\n",
       "      <td>0.0</td>\n",
       "      <td>0.0</td>\n",
       "      <td>0.0</td>\n",
       "      <td>0.0</td>\n",
       "      <td>0.0</td>\n",
       "      <td>0.0</td>\n",
       "      <td>-0.850000</td>\n",
       "      <td>-0.283333</td>\n",
       "      <td>0.0</td>\n",
       "      <td>2022-01-04</td>\n",
       "    </tr>\n",
       "    <tr>\n",
       "      <th>3</th>\n",
       "      <td>2181</td>\n",
       "      <td>11.0</td>\n",
       "      <td>-1.266667</td>\n",
       "      <td>-0.366667</td>\n",
       "      <td>-0.366667</td>\n",
       "      <td>1.0</td>\n",
       "      <td>14.3</td>\n",
       "      <td>10.1</td>\n",
       "      <td>4.8</td>\n",
       "      <td>0.4</td>\n",
       "      <td>...</td>\n",
       "      <td>0.0</td>\n",
       "      <td>0.0</td>\n",
       "      <td>0.0</td>\n",
       "      <td>0.0</td>\n",
       "      <td>0.0</td>\n",
       "      <td>0.0</td>\n",
       "      <td>-0.333333</td>\n",
       "      <td>-0.333333</td>\n",
       "      <td>0.0</td>\n",
       "      <td>2022-01-04</td>\n",
       "    </tr>\n",
       "    <tr>\n",
       "      <th>4</th>\n",
       "      <td>2181</td>\n",
       "      <td>13.0</td>\n",
       "      <td>0.166667</td>\n",
       "      <td>0.100000</td>\n",
       "      <td>0.050000</td>\n",
       "      <td>2.0</td>\n",
       "      <td>14.3</td>\n",
       "      <td>10.1</td>\n",
       "      <td>4.8</td>\n",
       "      <td>0.4</td>\n",
       "      <td>...</td>\n",
       "      <td>0.0</td>\n",
       "      <td>0.0</td>\n",
       "      <td>0.0</td>\n",
       "      <td>0.0</td>\n",
       "      <td>0.0</td>\n",
       "      <td>0.0</td>\n",
       "      <td>0.100000</td>\n",
       "      <td>0.050000</td>\n",
       "      <td>0.0</td>\n",
       "      <td>2022-01-04</td>\n",
       "    </tr>\n",
       "  </tbody>\n",
       "</table>\n",
       "<p>5 rows × 27 columns</p>\n",
       "</div>"
      ]
     },
     "execution_count": 181,
     "metadata": {},
     "output_type": "execute_result"
    }
   ],
   "execution_count": 181
  },
  {
   "metadata": {
    "ExecuteTime": {
     "end_time": "2024-11-25T20:21:09.511989Z",
     "start_time": "2024-11-25T20:21:07.668776Z"
    }
   },
   "cell_type": "code",
   "source": [
    "from sklearn.preprocessing import MinMaxScaler\n",
    "from sklearn.model_selection import train_test_split\n",
    "def split_train_test(data, normalize=False):\n",
    "    raw_data=data.copy()\n",
    "    X_scaler=None\n",
    "    y_scaler=None\n",
    "    pd_y= raw_data[['KESES']]\n",
    "    pd_X = raw_data.drop(columns=['KESES'])\n",
    "    if 'RELATIV_KESES' in raw_data.columns:\n",
    "        pd_X.drop(columns=['RELATIV_KESES'],inplace=True)\n",
    "    if normalize:\n",
    "        X_scaler = MinMaxScaler()\n",
    "        pd_X[pd_X.columns] = X_scaler.fit_transform(pd_X[pd_X.columns])\n",
    "        y_scaler=MinMaxScaler()\n",
    "        pd_y[pd_y.columns] = y_scaler.fit_transform(pd_y[pd_y.columns])\n",
    "   \n",
    "    '''\n",
    "    if normalize:\n",
    "        scaler = MinMaxScaler()\n",
    "        pd_X[pd_X.columns] = scaler.fit_transform(pd_X[pd_X.columns])\n",
    "    '''\n",
    "    X_train, X_test, y_train, y_test = train_test_split(pd_X, pd_y, test_size=0.3, random_state=44)\n",
    "    return X_train, X_test, y_train, y_test,X_scaler,y_scaler"
   ],
   "id": "bcd948e892f65c04",
   "outputs": [],
   "execution_count": 2
  },
  {
   "metadata": {
    "ExecuteTime": {
     "end_time": "2024-11-25T20:21:11.064943Z",
     "start_time": "2024-11-25T20:21:09.513224Z"
    }
   },
   "cell_type": "code",
   "source": [
    "X_train, X_test, y_train, y_test,_,_ = split_train_test(raw_data)\n",
    "X_train.drop(columns=['VONATSZAM','KOZLEKEDESI_NAP'], inplace=True)\n",
    "X_test.drop(columns=['VONATSZAM','KOZLEKEDESI_NAP'], inplace=True)\n",
    "\n",
    "''''\n",
    "TrTD= X_train[['VONATSZAM','KOZLEKEDESI_NAP']]\n",
    "X_train.drop(columns=['VONATSZAM','KOZLEKEDESI_NAP'], inplace=True)\n",
    "TeTD= X_test[['VONATSZAM','KOZLEKEDESI_NAP']]\n",
    "X_test.drop(columns=['VONATSZAM','KOZLEKEDESI_NAP'], inplace=True)\n",
    "'''"
   ],
   "id": "a9badb95d39a214a",
   "outputs": [
    {
     "data": {
      "text/plain": [
       "\"'\\nTrTD= X_train[['VONATSZAM','KOZLEKEDESI_NAP']]\\nX_train.drop(columns=['VONATSZAM','KOZLEKEDESI_NAP'], inplace=True)\\nTeTD= X_test[['VONATSZAM','KOZLEKEDESI_NAP']]\\nX_test.drop(columns=['VONATSZAM','KOZLEKEDESI_NAP'], inplace=True)\\n\""
      ]
     },
     "execution_count": 3,
     "metadata": {},
     "output_type": "execute_result"
    }
   ],
   "execution_count": 3
  },
  {
   "metadata": {
    "ExecuteTime": {
     "end_time": "2024-11-25T20:21:11.123495Z",
     "start_time": "2024-11-25T20:21:11.070960Z"
    }
   },
   "cell_type": "code",
   "source": "X_train.head()",
   "id": "15d36ab535475ef2",
   "outputs": [
    {
     "data": {
      "text/plain": [
       "         MENETREND_IDO  ELOZO_KESES  TERV_IDOTARTAM (m)    tx    t   tn    r  \\\n",
       "447118            11.0    -1.316667                 1.0   0.0  0.0  0.0  0.0   \n",
       "1024071          422.0     0.700000                 2.0   0.0  0.0  0.0  0.0   \n",
       "48134            588.0     0.216667                 4.0   0.0  0.0  0.0  0.0   \n",
       "732685          1196.0     2.000000                 0.0  10.4  8.2  5.9  0.2   \n",
       "124196           507.0     4.700000                 2.0   0.0  0.0  0.0  0.0   \n",
       "\n",
       "         Érintett objektum típusa  Lassúmenet típusa  Lassúmenet hossza  ...  \\\n",
       "447118                        0.0                0.0                0.0  ...   \n",
       "1024071                       0.0                0.0                0.0  ...   \n",
       "48134                         0.0                0.0                0.0  ...   \n",
       "732685                        0.0                0.0                0.0  ...   \n",
       "124196                        0.0                0.0                0.0  ...   \n",
       "\n",
       "           I    E   ÁI   ÁE  Kizárás (1=VZ,2=LJ)  \\\n",
       "447118   0.0  0.0  0.0  0.0                  0.0   \n",
       "1024071  0.0  0.0  0.0  0.0                  0.0   \n",
       "48134    0.0  0.0  0.0  0.0                  0.0   \n",
       "732685   0.0  0.0  0.0  0.0                  0.0   \n",
       "124196   0.0  0.0  0.0  0.0                  0.0   \n",
       "\n",
       "         Kiutalt menetvonalak zavartatása nélkül  Státus  ELOZO VONAT KESES  \\\n",
       "447118                                       0.0     0.0          -0.183333   \n",
       "1024071                                      0.0     0.0          -0.016667   \n",
       "48134                                        0.0     0.0          -0.216667   \n",
       "732685                                       0.0     0.0           0.000000   \n",
       "124196                                       0.0     0.0          -0.633333   \n",
       "\n",
       "         ELOZO VONAT RELATIV KESES  VONAL STATUSZ VALTOZOTT  \n",
       "447118                   -0.183333                      0.0  \n",
       "1024071                  -0.008333                      0.0  \n",
       "48134                    -0.054167                      0.0  \n",
       "732685                    0.000000                      0.0  \n",
       "124196                   -0.316667                      0.0  \n",
       "\n",
       "[5 rows x 23 columns]"
      ],
      "text/html": [
       "<div>\n",
       "<style scoped>\n",
       "    .dataframe tbody tr th:only-of-type {\n",
       "        vertical-align: middle;\n",
       "    }\n",
       "\n",
       "    .dataframe tbody tr th {\n",
       "        vertical-align: top;\n",
       "    }\n",
       "\n",
       "    .dataframe thead th {\n",
       "        text-align: right;\n",
       "    }\n",
       "</style>\n",
       "<table border=\"1\" class=\"dataframe\">\n",
       "  <thead>\n",
       "    <tr style=\"text-align: right;\">\n",
       "      <th></th>\n",
       "      <th>MENETREND_IDO</th>\n",
       "      <th>ELOZO_KESES</th>\n",
       "      <th>TERV_IDOTARTAM (m)</th>\n",
       "      <th>tx</th>\n",
       "      <th>t</th>\n",
       "      <th>tn</th>\n",
       "      <th>r</th>\n",
       "      <th>Érintett objektum típusa</th>\n",
       "      <th>Lassúmenet típusa</th>\n",
       "      <th>Lassúmenet hossza</th>\n",
       "      <th>...</th>\n",
       "      <th>I</th>\n",
       "      <th>E</th>\n",
       "      <th>ÁI</th>\n",
       "      <th>ÁE</th>\n",
       "      <th>Kizárás (1=VZ,2=LJ)</th>\n",
       "      <th>Kiutalt menetvonalak zavartatása nélkül</th>\n",
       "      <th>Státus</th>\n",
       "      <th>ELOZO VONAT KESES</th>\n",
       "      <th>ELOZO VONAT RELATIV KESES</th>\n",
       "      <th>VONAL STATUSZ VALTOZOTT</th>\n",
       "    </tr>\n",
       "  </thead>\n",
       "  <tbody>\n",
       "    <tr>\n",
       "      <th>447118</th>\n",
       "      <td>11.0</td>\n",
       "      <td>-1.316667</td>\n",
       "      <td>1.0</td>\n",
       "      <td>0.0</td>\n",
       "      <td>0.0</td>\n",
       "      <td>0.0</td>\n",
       "      <td>0.0</td>\n",
       "      <td>0.0</td>\n",
       "      <td>0.0</td>\n",
       "      <td>0.0</td>\n",
       "      <td>...</td>\n",
       "      <td>0.0</td>\n",
       "      <td>0.0</td>\n",
       "      <td>0.0</td>\n",
       "      <td>0.0</td>\n",
       "      <td>0.0</td>\n",
       "      <td>0.0</td>\n",
       "      <td>0.0</td>\n",
       "      <td>-0.183333</td>\n",
       "      <td>-0.183333</td>\n",
       "      <td>0.0</td>\n",
       "    </tr>\n",
       "    <tr>\n",
       "      <th>1024071</th>\n",
       "      <td>422.0</td>\n",
       "      <td>0.700000</td>\n",
       "      <td>2.0</td>\n",
       "      <td>0.0</td>\n",
       "      <td>0.0</td>\n",
       "      <td>0.0</td>\n",
       "      <td>0.0</td>\n",
       "      <td>0.0</td>\n",
       "      <td>0.0</td>\n",
       "      <td>0.0</td>\n",
       "      <td>...</td>\n",
       "      <td>0.0</td>\n",
       "      <td>0.0</td>\n",
       "      <td>0.0</td>\n",
       "      <td>0.0</td>\n",
       "      <td>0.0</td>\n",
       "      <td>0.0</td>\n",
       "      <td>0.0</td>\n",
       "      <td>-0.016667</td>\n",
       "      <td>-0.008333</td>\n",
       "      <td>0.0</td>\n",
       "    </tr>\n",
       "    <tr>\n",
       "      <th>48134</th>\n",
       "      <td>588.0</td>\n",
       "      <td>0.216667</td>\n",
       "      <td>4.0</td>\n",
       "      <td>0.0</td>\n",
       "      <td>0.0</td>\n",
       "      <td>0.0</td>\n",
       "      <td>0.0</td>\n",
       "      <td>0.0</td>\n",
       "      <td>0.0</td>\n",
       "      <td>0.0</td>\n",
       "      <td>...</td>\n",
       "      <td>0.0</td>\n",
       "      <td>0.0</td>\n",
       "      <td>0.0</td>\n",
       "      <td>0.0</td>\n",
       "      <td>0.0</td>\n",
       "      <td>0.0</td>\n",
       "      <td>0.0</td>\n",
       "      <td>-0.216667</td>\n",
       "      <td>-0.054167</td>\n",
       "      <td>0.0</td>\n",
       "    </tr>\n",
       "    <tr>\n",
       "      <th>732685</th>\n",
       "      <td>1196.0</td>\n",
       "      <td>2.000000</td>\n",
       "      <td>0.0</td>\n",
       "      <td>10.4</td>\n",
       "      <td>8.2</td>\n",
       "      <td>5.9</td>\n",
       "      <td>0.2</td>\n",
       "      <td>0.0</td>\n",
       "      <td>0.0</td>\n",
       "      <td>0.0</td>\n",
       "      <td>...</td>\n",
       "      <td>0.0</td>\n",
       "      <td>0.0</td>\n",
       "      <td>0.0</td>\n",
       "      <td>0.0</td>\n",
       "      <td>0.0</td>\n",
       "      <td>0.0</td>\n",
       "      <td>0.0</td>\n",
       "      <td>0.000000</td>\n",
       "      <td>0.000000</td>\n",
       "      <td>0.0</td>\n",
       "    </tr>\n",
       "    <tr>\n",
       "      <th>124196</th>\n",
       "      <td>507.0</td>\n",
       "      <td>4.700000</td>\n",
       "      <td>2.0</td>\n",
       "      <td>0.0</td>\n",
       "      <td>0.0</td>\n",
       "      <td>0.0</td>\n",
       "      <td>0.0</td>\n",
       "      <td>0.0</td>\n",
       "      <td>0.0</td>\n",
       "      <td>0.0</td>\n",
       "      <td>...</td>\n",
       "      <td>0.0</td>\n",
       "      <td>0.0</td>\n",
       "      <td>0.0</td>\n",
       "      <td>0.0</td>\n",
       "      <td>0.0</td>\n",
       "      <td>0.0</td>\n",
       "      <td>0.0</td>\n",
       "      <td>-0.633333</td>\n",
       "      <td>-0.316667</td>\n",
       "      <td>0.0</td>\n",
       "    </tr>\n",
       "  </tbody>\n",
       "</table>\n",
       "<p>5 rows × 23 columns</p>\n",
       "</div>"
      ]
     },
     "execution_count": 4,
     "metadata": {},
     "output_type": "execute_result"
    }
   ],
   "execution_count": 4
  },
  {
   "metadata": {
    "ExecuteTime": {
     "end_time": "2024-11-25T17:33:50.581651Z",
     "start_time": "2024-11-25T17:33:50.571924Z"
    }
   },
   "cell_type": "code",
   "source": "",
   "id": "96a6b7cce2d64619",
   "outputs": [],
   "execution_count": 118
  },
  {
   "metadata": {},
   "cell_type": "markdown",
   "source": "# DecisionTreeRegressor",
   "id": "ec733712d9884c16"
  },
  {
   "metadata": {
    "ExecuteTime": {
     "end_time": "2024-11-25T20:22:20.908861Z",
     "start_time": "2024-11-25T20:21:25.020742Z"
    }
   },
   "cell_type": "code",
   "source": [
    "max_depth=[]\n",
    "\n",
    "from sklearn.tree import DecisionTreeRegressor\n",
    "from sklearn.ensemble import RandomForestRegressor\n",
    "from sklearn.model_selection import GridSearchCV\n",
    "# https://www.geeksforgeeks.org/how-to-tune-a-decision-tree-in-hyperparameter-tuning/\n",
    "def train_DRT(X_train, X_test, y_train):\n",
    "    \n",
    "    # Define the parameter grid to tune the hyperparameters\n",
    "    param_grid = {\n",
    "        'max_depth': [10, 20, 30, None]\n",
    "    }\n",
    "    dtree_reg = DecisionTreeRegressor(random_state=42) # Initialize a decision tree regressor\n",
    "    grid_search = GridSearchCV(estimator=dtree_reg, param_grid=param_grid, \n",
    "                           cv=3, n_jobs=-1,verbose=2,scoring='neg_mean_squared_error')\n",
    "    grid_search.fit(X_train, y_train)\n",
    "    model = grid_search.best_estimator_\n",
    "    best_params = grid_search.best_params_\n",
    "    predictions = model.predict(X_test)\n",
    "    return model, predictions\n",
    "'''\n",
    "def train_DRTF(X_train, X_test, y_train):\n",
    "    \n",
    "        # Define the parameter grid to tune the hyperparameters\n",
    "    param_grid = {\n",
    "        'max_depth': [10, 20, 30, None],\n",
    "        'min_samples_split': [2, 5, 10],\n",
    "        'min_samples_leaf': [1, 2, 4]\n",
    "    }\n",
    "    dtree_reg = RandomForestRegressor(random_state=42) # Initialize a decision tree regressor\n",
    "    grid_search = GridSearchCV(estimator=dtree_reg, param_grid=param_grid, \n",
    "                           cv=3, n_jobs=-1,verbose=2,scoring='neg_mean_squared_error')\n",
    "    grid_search.fit(X_train, y_train)\n",
    "    model = grid_search.best_estimator_\n",
    "    predictions = model.predict(X_test)\n",
    "    return model, predictions\n",
    "'''\n",
    "model, predictions = train_DRT(X_train,X_test, y_train)"
   ],
   "id": "d4fb6d174ce980dc",
   "outputs": [
    {
     "name": "stdout",
     "output_type": "stream",
     "text": [
      "Fitting 3 folds for each of 4 candidates, totalling 12 fits\n"
     ]
    }
   ],
   "execution_count": 5
  },
  {
   "metadata": {
    "ExecuteTime": {
     "end_time": "2024-11-25T17:34:49.268125Z",
     "start_time": "2024-11-25T17:34:49.167329Z"
    }
   },
   "cell_type": "code",
   "source": [
    "'''\n",
    "from sklearn.tree import plot_tree\n",
    "import matplotlib.pyplot as plt\n",
    "plt.figure(figsize=(10,8), dpi=150)\n",
    "plot_tree(model, feature_names=pd_X.columns);\n",
    "'''"
   ],
   "id": "6d398bb424311174",
   "outputs": [
    {
     "data": {
      "text/plain": [
       "'\\nfrom sklearn.tree import plot_tree\\nimport matplotlib.pyplot as plt\\nplt.figure(figsize=(10,8), dpi=150)\\nplot_tree(model, feature_names=pd_X.columns);\\n'"
      ]
     },
     "execution_count": 120,
     "metadata": {},
     "output_type": "execute_result"
    }
   ],
   "execution_count": 120
  },
  {
   "metadata": {
    "ExecuteTime": {
     "end_time": "2024-11-25T17:34:49.289251Z",
     "start_time": "2024-11-25T17:34:49.280479Z"
    }
   },
   "cell_type": "code",
   "source": "",
   "id": "cbecd608730c05a2",
   "outputs": [],
   "execution_count": 120
  },
  {
   "metadata": {
    "ExecuteTime": {
     "end_time": "2024-11-25T20:22:20.948015Z",
     "start_time": "2024-11-25T20:22:20.920733Z"
    }
   },
   "cell_type": "code",
   "source": [
    "\n",
    "def evaluate_model(X_test, y_test, predictions):\n",
    "    eval_df=pd.concat([X_test[['TERV_IDOTARTAM (m)']],y_test],axis=1)\n",
    "    eval_df['predictions']=predictions\n",
    "    eval_df['Tény']=eval_df['TERV_IDOTARTAM (m)']+eval_df['KESES']\n",
    "    eval_df['Pred']=eval_df['TERV_IDOTARTAM (m)']+eval_df['predictions']\n",
    "    eval_df=eval_df[eval_df['TERV_IDOTARTAM (m)']>0]\n",
    "    eval_df['PE']=(eval_df['Tény']-eval_df['Pred'])/eval_df['Tény'] *100\n",
    "    eval_df['MAPE']=abs((eval_df['Tény']-eval_df['Pred'])/eval_df['Tény']) *100\n",
    "    eval_df['PE1']=(eval_df['KESES']-eval_df['predictions'])/eval_df['KESES'] *100\n",
    "    eval_df['MAPE1']=abs((eval_df['KESES']-eval_df['predictions'])/eval_df['KESES']) *100\n",
    "\n",
    "    return eval_df"
   ],
   "id": "3dcae1bf2dc4c0e2",
   "outputs": [],
   "execution_count": 6
  },
  {
   "metadata": {
    "ExecuteTime": {
     "end_time": "2024-11-25T20:22:21.086517Z",
     "start_time": "2024-11-25T20:22:20.951552Z"
    }
   },
   "cell_type": "code",
   "source": "eval_df = evaluate_model(X_test, y_test, predictions)\n",
   "id": "6f7a8392dbdee8b3",
   "outputs": [],
   "execution_count": 7
  },
  {
   "metadata": {
    "ExecuteTime": {
     "end_time": "2024-11-25T20:22:21.127032Z",
     "start_time": "2024-11-25T20:22:21.089529Z"
    }
   },
   "cell_type": "code",
   "source": "eval_df.head()",
   "id": "dd6ab997abc855d7",
   "outputs": [
    {
     "data": {
      "text/plain": [
       "         TERV_IDOTARTAM (m)     KESES  predictions      Tény      Pred  \\\n",
       "1096781                 1.0 -0.283333    -0.219197  0.716667  0.780803   \n",
       "1016002                 1.0  0.283333     0.135181  1.283333  1.135181   \n",
       "53208                   2.0 -0.066667     0.699738  1.933333  2.699738   \n",
       "1032627                 1.0 -0.200000    -0.195810  0.800000  0.804190   \n",
       "830943                  3.0  0.000000     0.047569  3.000000  3.047569   \n",
       "\n",
       "                PE       MAPE          PE1        MAPE1  \n",
       "1096781  -8.949322   8.949322    22.636520    22.636520  \n",
       "1016002  11.544309  11.544309    52.288930    52.288930  \n",
       "53208   -39.641597  39.641597  1149.606299  1149.606299  \n",
       "1032627  -0.523744   0.523744     2.094976     2.094976  \n",
       "830943   -1.585626   1.585626         -inf          inf  "
      ],
      "text/html": [
       "<div>\n",
       "<style scoped>\n",
       "    .dataframe tbody tr th:only-of-type {\n",
       "        vertical-align: middle;\n",
       "    }\n",
       "\n",
       "    .dataframe tbody tr th {\n",
       "        vertical-align: top;\n",
       "    }\n",
       "\n",
       "    .dataframe thead th {\n",
       "        text-align: right;\n",
       "    }\n",
       "</style>\n",
       "<table border=\"1\" class=\"dataframe\">\n",
       "  <thead>\n",
       "    <tr style=\"text-align: right;\">\n",
       "      <th></th>\n",
       "      <th>TERV_IDOTARTAM (m)</th>\n",
       "      <th>KESES</th>\n",
       "      <th>predictions</th>\n",
       "      <th>Tény</th>\n",
       "      <th>Pred</th>\n",
       "      <th>PE</th>\n",
       "      <th>MAPE</th>\n",
       "      <th>PE1</th>\n",
       "      <th>MAPE1</th>\n",
       "    </tr>\n",
       "  </thead>\n",
       "  <tbody>\n",
       "    <tr>\n",
       "      <th>1096781</th>\n",
       "      <td>1.0</td>\n",
       "      <td>-0.283333</td>\n",
       "      <td>-0.219197</td>\n",
       "      <td>0.716667</td>\n",
       "      <td>0.780803</td>\n",
       "      <td>-8.949322</td>\n",
       "      <td>8.949322</td>\n",
       "      <td>22.636520</td>\n",
       "      <td>22.636520</td>\n",
       "    </tr>\n",
       "    <tr>\n",
       "      <th>1016002</th>\n",
       "      <td>1.0</td>\n",
       "      <td>0.283333</td>\n",
       "      <td>0.135181</td>\n",
       "      <td>1.283333</td>\n",
       "      <td>1.135181</td>\n",
       "      <td>11.544309</td>\n",
       "      <td>11.544309</td>\n",
       "      <td>52.288930</td>\n",
       "      <td>52.288930</td>\n",
       "    </tr>\n",
       "    <tr>\n",
       "      <th>53208</th>\n",
       "      <td>2.0</td>\n",
       "      <td>-0.066667</td>\n",
       "      <td>0.699738</td>\n",
       "      <td>1.933333</td>\n",
       "      <td>2.699738</td>\n",
       "      <td>-39.641597</td>\n",
       "      <td>39.641597</td>\n",
       "      <td>1149.606299</td>\n",
       "      <td>1149.606299</td>\n",
       "    </tr>\n",
       "    <tr>\n",
       "      <th>1032627</th>\n",
       "      <td>1.0</td>\n",
       "      <td>-0.200000</td>\n",
       "      <td>-0.195810</td>\n",
       "      <td>0.800000</td>\n",
       "      <td>0.804190</td>\n",
       "      <td>-0.523744</td>\n",
       "      <td>0.523744</td>\n",
       "      <td>2.094976</td>\n",
       "      <td>2.094976</td>\n",
       "    </tr>\n",
       "    <tr>\n",
       "      <th>830943</th>\n",
       "      <td>3.0</td>\n",
       "      <td>0.000000</td>\n",
       "      <td>0.047569</td>\n",
       "      <td>3.000000</td>\n",
       "      <td>3.047569</td>\n",
       "      <td>-1.585626</td>\n",
       "      <td>1.585626</td>\n",
       "      <td>-inf</td>\n",
       "      <td>inf</td>\n",
       "    </tr>\n",
       "  </tbody>\n",
       "</table>\n",
       "</div>"
      ]
     },
     "execution_count": 8,
     "metadata": {},
     "output_type": "execute_result"
    }
   ],
   "execution_count": 8
  },
  {
   "metadata": {
    "ExecuteTime": {
     "end_time": "2024-11-25T20:22:21.162900Z",
     "start_time": "2024-11-25T20:22:21.131050Z"
    }
   },
   "cell_type": "code",
   "source": "eval_df[eval_df['MAPE1']>100]",
   "id": "cb50bad6f7ed1e21",
   "outputs": [
    {
     "data": {
      "text/plain": [
       "         TERV_IDOTARTAM (m)     KESES  predictions      Tény      Pred  \\\n",
       "53208                   2.0 -0.066667     0.699738  1.933333  2.699738   \n",
       "830943                  3.0  0.000000     0.047569  3.000000  3.047569   \n",
       "189855                  1.0 -0.350000     0.283829  0.650000  1.283829   \n",
       "651312                  1.0 -0.566667     0.157391  0.433333  1.157391   \n",
       "553411                  4.0 -0.416667     0.312240  3.583333  4.312240   \n",
       "...                     ...       ...          ...       ...       ...   \n",
       "69106                   3.0  0.450000    -0.026293  3.450000  2.973707   \n",
       "158066                  2.0 -0.183333    -0.564781  1.816667  1.435219   \n",
       "608201                  4.0  0.000000     0.699738  4.000000  4.699738   \n",
       "1130930                 1.0  0.000000     0.047569  1.000000  1.047569   \n",
       "898021                  1.0 -0.066667     0.135181  0.933333  1.135181   \n",
       "\n",
       "                 PE        MAPE          PE1        MAPE1  \n",
       "53208    -39.641597   39.641597  1149.606299  1149.606299  \n",
       "830943    -1.585626    1.585626         -inf          inf  \n",
       "189855   -97.512133   97.512133   181.093962   181.093962  \n",
       "651312  -167.090150  167.090150   127.774820   127.774820  \n",
       "553411   -20.341594   20.341594   174.937705   174.937705  \n",
       "...             ...         ...          ...          ...  \n",
       "69106     13.805597   13.805597   105.842907   105.842907  \n",
       "158066    20.997136   20.997136  -208.062526   208.062526  \n",
       "608201   -17.493438   17.493438         -inf          inf  \n",
       "1130930   -4.756878    4.756878         -inf          inf  \n",
       "898021   -21.626575   21.626575   302.772049   302.772049  \n",
       "\n",
       "[94356 rows x 9 columns]"
      ],
      "text/html": [
       "<div>\n",
       "<style scoped>\n",
       "    .dataframe tbody tr th:only-of-type {\n",
       "        vertical-align: middle;\n",
       "    }\n",
       "\n",
       "    .dataframe tbody tr th {\n",
       "        vertical-align: top;\n",
       "    }\n",
       "\n",
       "    .dataframe thead th {\n",
       "        text-align: right;\n",
       "    }\n",
       "</style>\n",
       "<table border=\"1\" class=\"dataframe\">\n",
       "  <thead>\n",
       "    <tr style=\"text-align: right;\">\n",
       "      <th></th>\n",
       "      <th>TERV_IDOTARTAM (m)</th>\n",
       "      <th>KESES</th>\n",
       "      <th>predictions</th>\n",
       "      <th>Tény</th>\n",
       "      <th>Pred</th>\n",
       "      <th>PE</th>\n",
       "      <th>MAPE</th>\n",
       "      <th>PE1</th>\n",
       "      <th>MAPE1</th>\n",
       "    </tr>\n",
       "  </thead>\n",
       "  <tbody>\n",
       "    <tr>\n",
       "      <th>53208</th>\n",
       "      <td>2.0</td>\n",
       "      <td>-0.066667</td>\n",
       "      <td>0.699738</td>\n",
       "      <td>1.933333</td>\n",
       "      <td>2.699738</td>\n",
       "      <td>-39.641597</td>\n",
       "      <td>39.641597</td>\n",
       "      <td>1149.606299</td>\n",
       "      <td>1149.606299</td>\n",
       "    </tr>\n",
       "    <tr>\n",
       "      <th>830943</th>\n",
       "      <td>3.0</td>\n",
       "      <td>0.000000</td>\n",
       "      <td>0.047569</td>\n",
       "      <td>3.000000</td>\n",
       "      <td>3.047569</td>\n",
       "      <td>-1.585626</td>\n",
       "      <td>1.585626</td>\n",
       "      <td>-inf</td>\n",
       "      <td>inf</td>\n",
       "    </tr>\n",
       "    <tr>\n",
       "      <th>189855</th>\n",
       "      <td>1.0</td>\n",
       "      <td>-0.350000</td>\n",
       "      <td>0.283829</td>\n",
       "      <td>0.650000</td>\n",
       "      <td>1.283829</td>\n",
       "      <td>-97.512133</td>\n",
       "      <td>97.512133</td>\n",
       "      <td>181.093962</td>\n",
       "      <td>181.093962</td>\n",
       "    </tr>\n",
       "    <tr>\n",
       "      <th>651312</th>\n",
       "      <td>1.0</td>\n",
       "      <td>-0.566667</td>\n",
       "      <td>0.157391</td>\n",
       "      <td>0.433333</td>\n",
       "      <td>1.157391</td>\n",
       "      <td>-167.090150</td>\n",
       "      <td>167.090150</td>\n",
       "      <td>127.774820</td>\n",
       "      <td>127.774820</td>\n",
       "    </tr>\n",
       "    <tr>\n",
       "      <th>553411</th>\n",
       "      <td>4.0</td>\n",
       "      <td>-0.416667</td>\n",
       "      <td>0.312240</td>\n",
       "      <td>3.583333</td>\n",
       "      <td>4.312240</td>\n",
       "      <td>-20.341594</td>\n",
       "      <td>20.341594</td>\n",
       "      <td>174.937705</td>\n",
       "      <td>174.937705</td>\n",
       "    </tr>\n",
       "    <tr>\n",
       "      <th>...</th>\n",
       "      <td>...</td>\n",
       "      <td>...</td>\n",
       "      <td>...</td>\n",
       "      <td>...</td>\n",
       "      <td>...</td>\n",
       "      <td>...</td>\n",
       "      <td>...</td>\n",
       "      <td>...</td>\n",
       "      <td>...</td>\n",
       "    </tr>\n",
       "    <tr>\n",
       "      <th>69106</th>\n",
       "      <td>3.0</td>\n",
       "      <td>0.450000</td>\n",
       "      <td>-0.026293</td>\n",
       "      <td>3.450000</td>\n",
       "      <td>2.973707</td>\n",
       "      <td>13.805597</td>\n",
       "      <td>13.805597</td>\n",
       "      <td>105.842907</td>\n",
       "      <td>105.842907</td>\n",
       "    </tr>\n",
       "    <tr>\n",
       "      <th>158066</th>\n",
       "      <td>2.0</td>\n",
       "      <td>-0.183333</td>\n",
       "      <td>-0.564781</td>\n",
       "      <td>1.816667</td>\n",
       "      <td>1.435219</td>\n",
       "      <td>20.997136</td>\n",
       "      <td>20.997136</td>\n",
       "      <td>-208.062526</td>\n",
       "      <td>208.062526</td>\n",
       "    </tr>\n",
       "    <tr>\n",
       "      <th>608201</th>\n",
       "      <td>4.0</td>\n",
       "      <td>0.000000</td>\n",
       "      <td>0.699738</td>\n",
       "      <td>4.000000</td>\n",
       "      <td>4.699738</td>\n",
       "      <td>-17.493438</td>\n",
       "      <td>17.493438</td>\n",
       "      <td>-inf</td>\n",
       "      <td>inf</td>\n",
       "    </tr>\n",
       "    <tr>\n",
       "      <th>1130930</th>\n",
       "      <td>1.0</td>\n",
       "      <td>0.000000</td>\n",
       "      <td>0.047569</td>\n",
       "      <td>1.000000</td>\n",
       "      <td>1.047569</td>\n",
       "      <td>-4.756878</td>\n",
       "      <td>4.756878</td>\n",
       "      <td>-inf</td>\n",
       "      <td>inf</td>\n",
       "    </tr>\n",
       "    <tr>\n",
       "      <th>898021</th>\n",
       "      <td>1.0</td>\n",
       "      <td>-0.066667</td>\n",
       "      <td>0.135181</td>\n",
       "      <td>0.933333</td>\n",
       "      <td>1.135181</td>\n",
       "      <td>-21.626575</td>\n",
       "      <td>21.626575</td>\n",
       "      <td>302.772049</td>\n",
       "      <td>302.772049</td>\n",
       "    </tr>\n",
       "  </tbody>\n",
       "</table>\n",
       "<p>94356 rows × 9 columns</p>\n",
       "</div>"
      ]
     },
     "execution_count": 9,
     "metadata": {},
     "output_type": "execute_result"
    }
   ],
   "execution_count": 9
  },
  {
   "metadata": {
    "ExecuteTime": {
     "end_time": "2024-11-25T20:22:21.190174Z",
     "start_time": "2024-11-25T20:22:21.164912Z"
    }
   },
   "cell_type": "code",
   "source": "eval_df[eval_df['MAPE']>100].head()\n",
   "id": "d8f73c9124e1fb2a",
   "outputs": [
    {
     "data": {
      "text/plain": [
       "         TERV_IDOTARTAM (m)     KESES  predictions      Tény      Pred  \\\n",
       "651312                  1.0 -0.566667     0.157391  0.433333  1.157391   \n",
       "1147611                 2.0 -1.400000    -0.026293  0.600000  1.973707   \n",
       "99653                   1.0 -0.533333     0.131364  0.466667  1.131364   \n",
       "408371                  1.0 -0.533333     0.135181  0.466667  1.135181   \n",
       "1117387                 1.0 -0.500000     0.135181  0.500000  1.135181   \n",
       "\n",
       "                 PE        MAPE         PE1       MAPE1  \n",
       "651312  -167.090150  167.090150  127.774820  127.774820  \n",
       "1147611 -228.951153  228.951153   98.121923   98.121923  \n",
       "99653   -142.435159  142.435159  124.630764  124.630764  \n",
       "408371  -143.253150  143.253150  125.346506  125.346506  \n",
       "1117387 -127.036273  127.036273  127.036273  127.036273  "
      ],
      "text/html": [
       "<div>\n",
       "<style scoped>\n",
       "    .dataframe tbody tr th:only-of-type {\n",
       "        vertical-align: middle;\n",
       "    }\n",
       "\n",
       "    .dataframe tbody tr th {\n",
       "        vertical-align: top;\n",
       "    }\n",
       "\n",
       "    .dataframe thead th {\n",
       "        text-align: right;\n",
       "    }\n",
       "</style>\n",
       "<table border=\"1\" class=\"dataframe\">\n",
       "  <thead>\n",
       "    <tr style=\"text-align: right;\">\n",
       "      <th></th>\n",
       "      <th>TERV_IDOTARTAM (m)</th>\n",
       "      <th>KESES</th>\n",
       "      <th>predictions</th>\n",
       "      <th>Tény</th>\n",
       "      <th>Pred</th>\n",
       "      <th>PE</th>\n",
       "      <th>MAPE</th>\n",
       "      <th>PE1</th>\n",
       "      <th>MAPE1</th>\n",
       "    </tr>\n",
       "  </thead>\n",
       "  <tbody>\n",
       "    <tr>\n",
       "      <th>651312</th>\n",
       "      <td>1.0</td>\n",
       "      <td>-0.566667</td>\n",
       "      <td>0.157391</td>\n",
       "      <td>0.433333</td>\n",
       "      <td>1.157391</td>\n",
       "      <td>-167.090150</td>\n",
       "      <td>167.090150</td>\n",
       "      <td>127.774820</td>\n",
       "      <td>127.774820</td>\n",
       "    </tr>\n",
       "    <tr>\n",
       "      <th>1147611</th>\n",
       "      <td>2.0</td>\n",
       "      <td>-1.400000</td>\n",
       "      <td>-0.026293</td>\n",
       "      <td>0.600000</td>\n",
       "      <td>1.973707</td>\n",
       "      <td>-228.951153</td>\n",
       "      <td>228.951153</td>\n",
       "      <td>98.121923</td>\n",
       "      <td>98.121923</td>\n",
       "    </tr>\n",
       "    <tr>\n",
       "      <th>99653</th>\n",
       "      <td>1.0</td>\n",
       "      <td>-0.533333</td>\n",
       "      <td>0.131364</td>\n",
       "      <td>0.466667</td>\n",
       "      <td>1.131364</td>\n",
       "      <td>-142.435159</td>\n",
       "      <td>142.435159</td>\n",
       "      <td>124.630764</td>\n",
       "      <td>124.630764</td>\n",
       "    </tr>\n",
       "    <tr>\n",
       "      <th>408371</th>\n",
       "      <td>1.0</td>\n",
       "      <td>-0.533333</td>\n",
       "      <td>0.135181</td>\n",
       "      <td>0.466667</td>\n",
       "      <td>1.135181</td>\n",
       "      <td>-143.253150</td>\n",
       "      <td>143.253150</td>\n",
       "      <td>125.346506</td>\n",
       "      <td>125.346506</td>\n",
       "    </tr>\n",
       "    <tr>\n",
       "      <th>1117387</th>\n",
       "      <td>1.0</td>\n",
       "      <td>-0.500000</td>\n",
       "      <td>0.135181</td>\n",
       "      <td>0.500000</td>\n",
       "      <td>1.135181</td>\n",
       "      <td>-127.036273</td>\n",
       "      <td>127.036273</td>\n",
       "      <td>127.036273</td>\n",
       "      <td>127.036273</td>\n",
       "    </tr>\n",
       "  </tbody>\n",
       "</table>\n",
       "</div>"
      ]
     },
     "execution_count": 10,
     "metadata": {},
     "output_type": "execute_result"
    }
   ],
   "execution_count": 10
  },
  {
   "metadata": {
    "ExecuteTime": {
     "end_time": "2024-11-25T20:22:21.242831Z",
     "start_time": "2024-11-25T20:22:21.193192Z"
    }
   },
   "cell_type": "code",
   "source": "eval_df['PE'].describe()",
   "id": "ebae1d416f0a1080",
   "outputs": [
    {
     "data": {
      "text/plain": [
       "count    3.347440e+05\n",
       "mean             -inf\n",
       "std               NaN\n",
       "min              -inf\n",
       "25%     -1.289340e+01\n",
       "50%     -2.315416e+00\n",
       "75%      4.498052e+00\n",
       "max      1.629843e+04\n",
       "Name: PE, dtype: float64"
      ]
     },
     "execution_count": 11,
     "metadata": {},
     "output_type": "execute_result"
    }
   ],
   "execution_count": 11
  },
  {
   "metadata": {
    "ExecuteTime": {
     "end_time": "2024-11-25T20:22:21.289306Z",
     "start_time": "2024-11-25T20:22:21.244855Z"
    }
   },
   "cell_type": "code",
   "source": "eval_df['PE1'].describe()",
   "id": "55cb4e76dcd5028c",
   "outputs": [
    {
     "name": "stderr",
     "output_type": "stream",
     "text": [
      "C:\\Users\\ELTE\\miniconda3\\envs\\gtfs_env_311\\Lib\\site-packages\\numpy\\core\\_methods.py:49: RuntimeWarning: invalid value encountered in reduce\n",
      "  return umr_sum(a, axis, dtype, out, keepdims, initial, where)\n"
     ]
    },
    {
     "data": {
      "text/plain": [
       "count    3.347420e+05\n",
       "mean              NaN\n",
       "std               NaN\n",
       "min              -inf\n",
       "25%     -6.544933e+00\n",
       "50%      2.773835e+01\n",
       "75%      7.796329e+01\n",
       "max               inf\n",
       "Name: PE1, dtype: float64"
      ]
     },
     "execution_count": 12,
     "metadata": {},
     "output_type": "execute_result"
    }
   ],
   "execution_count": 12
  },
  {
   "metadata": {
    "ExecuteTime": {
     "end_time": "2024-11-26T05:27:27.656707Z",
     "start_time": "2024-11-26T05:27:26.087443Z"
    }
   },
   "cell_type": "code",
   "source": [
    "import joblib\n",
    "# modellek mentése, beolvasása:\n",
    "# könyvtárszerkezet: <model gyökér>/<model típus>/<használt adat típusa>/<plusz infó>/<model file(ok)> \n",
    "\n",
    "import matplotlib.pyplot as plt\n",
    "\n",
    "import os\n",
    "model_location=\"model/\"\n",
    "# Check if the directory exists\n",
    "if not os.path.exists(model_location):\n",
    "    # Create the directory\n",
    "    os.makedirs(model_location)\n",
    "\n",
    "def get_location_and_name(model_name, model_desc,data_desc):\n",
    "    loc=   model_location+'/'+model_name+'/'+data_desc+'/'+model_desc+\"/\"\n",
    "    name = model_name + '_' + data_desc + '_' + model_desc\n",
    "    return loc, name\n",
    "def save_sklearn_model(model,model_name,data_desc,model_desc='base'):\n",
    "    loc,name=get_location_and_name(model_name,model_desc,data_desc)    \n",
    "    if not os.path.exists(loc):\n",
    "        # Create the directory\n",
    "        os.makedirs(loc)\n",
    "    # Save the model to a file\n",
    "    joblib.dump(model, f'{loc}{name}.joblib')\n",
    "    \n",
    "def get_nn_model_name(epochs, data_desc):\n",
    "    return f'NN_{data_desc}_epoch_{epochs}'\n",
    "\n",
    "def save_NN(model,X_scaler,y_scaler,history,data_desc, model_desc='base'):\n",
    "    loc,name=get_location_and_name('NN',model_desc,data_desc)    \n",
    "    if not os.path.exists(loc):\n",
    "        # Create the directory\n",
    "        os.makedirs(loc) \n",
    "    save_sklearn_model(X_scaler,'X_scaler',data_desc)\n",
    "    save_sklearn_model(y_scaler,'y_scaler',data_desc)\n",
    "    torch.save(model, loc+name+'.pth')\n",
    "\n",
    "\n",
    "    for k, v in history.items():\n",
    "        plt.plot(v, label='lr=' + str(k))\n",
    "\n",
    "    plt.legend(loc=\"upper left\")\n",
    "\n",
    "    plt.savefig(loc+'history.png')\n",
    "\n",
    "def load_NN(path):\n",
    "    ret={}\n",
    "    for f in os.listdir(path):\n",
    "        if f.endswith('.pth'):\n",
    "            print('Loading model:', path+f)\n",
    "            ret['model'] = torch.load(path+f, weights_only=False)\n",
    "        elif f.endswith('.joblib'):\n",
    "            if 'X_scaler' in f:\n",
    "                ret['X_scaler'] = joblib.load(path+f)\n",
    "            elif 'y_scaler' in f:\n",
    "                ret['y_scaler'] = joblib.load(path+f)\n",
    "            else:\n",
    "                print(f'Unspecified joblib file: {f}')\n",
    "        else:\n",
    "                print(f'Unspecified file: {f}')\n",
    "    return ret\n",
    "\n",
    "def load_NNs(model_path):\n",
    "    # könyvtárszerkezet: <model gyökér>/<model típus>/<használt adat típusa>/<plusz infó>/<model file(ok)> \n",
    "\n",
    "    ret={}\n",
    "    #dir=data_desc\n",
    "    for dir in os.listdir(model_path+'NN'):\n",
    "        ret[dir]={}\n",
    "        if os.path.isdir(model_path+'NN/'+dir+'/'):\n",
    "            print('reading '+ dir)\n",
    "            #dir2=model_desc\n",
    "            for dir2 in os.listdir(dir):\n",
    "                print('reading '+ dir+'/'+dir2)\n",
    "                ret[dir][dir2]['model']=load_NN(model_path+'NN/'+dir+'/'+dir2)\n",
    "                ret[dir][dir2]['data_desc']=dir\n",
    "                ret[dir][dir2]['model_desc']=dir2\n",
    "    return ret\n",
    "\n",
    "def load_NN_by_desc(model_desc,data_desc):\n",
    "    loc,name= get_location_and_name('NN',model_desc,data_desc)\n",
    "    ret=load_NN(loc)\n",
    "    ret['model_desc']=model_desc\n",
    "    ret['data_desc']=data_desc\n",
    "    return ret\n",
    "\n",
    "def load_sk_by_desc(model_name,model_desc,data_desc):\n",
    "    loc,name= get_location_and_name(model_name,model_desc,data_desc)\n",
    "    return {'model':joblib.load(f'{loc}/{name}.joblib'),'model_name':model_name,'data_desc':data_desc,'model_desc':model_desc}\n",
    "    \n",
    "    \n",
    "#def load_models():\n",
    "    \n",
    "    \n",
    "\n"
   ],
   "id": "5bf1aefbbb3ff160",
   "outputs": [],
   "execution_count": 12
  },
  {
   "metadata": {
    "ExecuteTime": {
     "end_time": "2024-11-25T20:22:22.458890Z",
     "start_time": "2024-11-25T20:22:22.443739Z"
    }
   },
   "cell_type": "code",
   "source": "save_sklearn_model(model,'RT','Base')\n",
   "id": "88218a02969b49a4",
   "outputs": [],
   "execution_count": 14
  },
  {
   "metadata": {
    "ExecuteTime": {
     "end_time": "2024-11-25T20:22:22.467901Z",
     "start_time": "2024-11-25T20:22:22.461901Z"
    }
   },
   "cell_type": "code",
   "source": "del model",
   "id": "8be46a45bc364166",
   "outputs": [],
   "execution_count": 15
  },
  {
   "metadata": {},
   "cell_type": "markdown",
   "source": "# Egyszerű neurális háló",
   "id": "f65d13c42935daf1"
  },
  {
   "metadata": {
    "ExecuteTime": {
     "end_time": "2024-11-25T17:34:50.403529Z",
     "start_time": "2024-11-25T17:34:50.381520Z"
    }
   },
   "cell_type": "code",
   "source": "X_train.dtypes\n",
   "id": "a503acb92abc09dc",
   "outputs": [
    {
     "data": {
      "text/plain": [
       "MENETREND_IDO                              float64\n",
       "ELOZO_KESES                                float64\n",
       "RELATIV_KESES                              float64\n",
       "TERV_IDOTARTAM (m)                         float64\n",
       "tx                                         float64\n",
       "t                                          float64\n",
       "tn                                         float64\n",
       "r                                          float64\n",
       "Érintett objektum típusa                   float64\n",
       "Lassúmenet típusa                          float64\n",
       "Lassúmenet hossza                          float64\n",
       "Lassúmenet mértéke (km/h)                  float64\n",
       "Lassúmenet mértéke motorvonatra (km/h)     float64\n",
       "Fels.vez. kikapcsolása                     float64\n",
       "I                                          float64\n",
       "E                                          float64\n",
       "ÁI                                         float64\n",
       "ÁE                                         float64\n",
       "Kizárás (1=VZ,2=LJ)                        float64\n",
       "Kiutalt menetvonalak zavartatása nélkül    float64\n",
       "Státus                                     float64\n",
       "ELOZO VONAT KESES                          float64\n",
       "ELOZO VONAT RELATIV KESES                  float64\n",
       "VONAL STATUSZ VALTOZOTT                    float64\n",
       "dtype: object"
      ]
     },
     "execution_count": 131,
     "metadata": {},
     "output_type": "execute_result"
    }
   ],
   "execution_count": 131
  },
  {
   "metadata": {},
   "cell_type": "markdown",
   "source": [
    "plusz normalizálás kellhet:\n",
    "normalized_df=(df-df.mean())/df.std()\n",
    "to use min-max normalization:\n",
    "\n",
    "normalized_df=(df-df.min())/(df.max()-df.min())"
   ],
   "id": "687667008b024472"
  },
  {
   "metadata": {},
   "cell_type": "markdown",
   "source": [
    "kicsit alaposabb tréneléshez: \n",
    "\n",
    "https://machinelearningmastery.com/how-to-grid-search-hyperparameters-for-pytorch-models/"
   ],
   "id": "f7858717b6dc8a4a"
  },
  {
   "metadata": {
    "ExecuteTime": {
     "end_time": "2024-11-25T20:22:37.579252Z",
     "start_time": "2024-11-25T20:22:37.575225Z"
    }
   },
   "cell_type": "code",
   "source": "print('hello')",
   "id": "379bb98fe1c6a519",
   "outputs": [
    {
     "name": "stdout",
     "output_type": "stream",
     "text": [
      "hello\n"
     ]
    }
   ],
   "execution_count": 16
  },
  {
   "metadata": {
    "ExecuteTime": {
     "end_time": "2024-11-25T20:22:45.886552Z",
     "start_time": "2024-11-25T20:22:40.172468Z"
    }
   },
   "cell_type": "code",
   "source": [
    "#X=pd_X.values\n",
    "#y=pd_y.values\n",
    "import torch\n",
    "# train-test split of the dataset\n",
    "raw_data.drop(columns=['VONATSZAM','KOZLEKEDESI_NAP'],inplace=True)\n",
    "\n",
    "X_train, X_test, y_train, y_test,X_scaler,y_scaler = split_train_test(raw_data,True)\n",
    "def get_data_tensors(X_train, X_test, y_train, y_test):\n",
    "    X_train_t = torch.tensor(X_train.values, dtype=torch.float32)\n",
    "    y_train_t = torch.tensor(y_train.values, dtype=torch.float32).reshape(-1, 1)\n",
    "    X_test_t = torch.tensor(X_test.values, dtype=torch.float32)\n",
    "    y_test_t = torch.tensor(y_test.values, dtype=torch.float32).reshape(-1, 1)\n",
    "    return X_train_t, X_test_t, y_train_t, y_test_t\n",
    "X_train_t, X_test_t, y_train_t, y_test_t = get_data_tensors(X_train, X_test, y_train, y_test)\n"
   ],
   "id": "dacb2cd3597debc4",
   "outputs": [
    {
     "name": "stderr",
     "output_type": "stream",
     "text": [
      "C:\\Users\\ELTE\\AppData\\Local\\Temp\\ipykernel_18172\\3857565312.py:15: SettingWithCopyWarning: \n",
      "A value is trying to be set on a copy of a slice from a DataFrame.\n",
      "Try using .loc[row_indexer,col_indexer] = value instead\n",
      "\n",
      "See the caveats in the documentation: https://pandas.pydata.org/pandas-docs/stable/user_guide/indexing.html#returning-a-view-versus-a-copy\n",
      "  pd_y[pd_y.columns] = y_scaler.fit_transform(pd_y[pd_y.columns])\n"
     ]
    }
   ],
   "execution_count": 17
  },
  {
   "metadata": {
    "ExecuteTime": {
     "end_time": "2024-11-25T20:22:50.889581Z",
     "start_time": "2024-11-25T20:22:50.884580Z"
    }
   },
   "cell_type": "code",
   "source": "input_size=X_train.shape[1]",
   "id": "b0ceb88e7a2670fa",
   "outputs": [],
   "execution_count": 18
  },
  {
   "metadata": {
    "ExecuteTime": {
     "end_time": "2024-11-25T20:22:52.387698Z",
     "start_time": "2024-11-25T20:22:52.381520Z"
    }
   },
   "cell_type": "code",
   "source": [
    "import torch\n",
    "import torch.nn as nn\n",
    "# Define the model\n",
    "        \n",
    "\n",
    "\n",
    "def get_NN_model(input_size):\n",
    "    model = nn.Sequential(\n",
    "        nn.Linear(input_size, 24),\n",
    "        nn.ReLU(),\n",
    "        nn.Linear(24, 12),\n",
    "        nn.ReLU(),\n",
    "        nn.Linear(12, 6),\n",
    "        nn.ReLU(),\n",
    "        nn.Linear(6, 1)\n",
    "    )\n",
    "    return model"
   ],
   "id": "9d98d329e9054def",
   "outputs": [],
   "execution_count": 19
  },
  {
   "metadata": {
    "ExecuteTime": {
     "end_time": "2024-11-25T17:34:56.968327Z",
     "start_time": "2024-11-25T17:34:56.902271Z"
    }
   },
   "cell_type": "code",
   "source": "model_nn = get_NN_model(input_size)",
   "id": "6956ca8818e69d7",
   "outputs": [],
   "execution_count": 136
  },
  {
   "metadata": {
    "ExecuteTime": {
     "end_time": "2024-11-25T20:22:59.256660Z",
     "start_time": "2024-11-25T20:22:59.249686Z"
    }
   },
   "cell_type": "code",
   "source": [
    "import torch.nn as nn\n",
    "import torch.optim as optim\n",
    "\n",
    "# loss function and optimizer\n",
    "def get_optimizer(model, lr=0.0001):\n",
    "    loss_fn = nn.MSELoss()  # mean square error\n",
    "    optimizer = optim.Adam(model.parameters(), lr)\n",
    "    return optimizer, loss_fn"
   ],
   "id": "23344d190f485be",
   "outputs": [],
   "execution_count": 20
  },
  {
   "metadata": {
    "ExecuteTime": {
     "end_time": "2024-11-25T17:34:57.033316Z",
     "start_time": "2024-11-25T17:34:56.991323Z"
    }
   },
   "cell_type": "code",
   "source": "optimizer, loss_fn = get_optimizer(model_nn, 0.0001)",
   "id": "6d070298f1e68d8f",
   "outputs": [],
   "execution_count": 138
  },
  {
   "metadata": {
    "ExecuteTime": {
     "end_time": "2024-11-25T17:34:57.078122Z",
     "start_time": "2024-11-25T17:34:57.038849Z"
    }
   },
   "cell_type": "code",
   "source": "X_train.shape",
   "id": "8b8f7aefb5a8e9ba",
   "outputs": [
    {
     "data": {
      "text/plain": [
       "(815943, 24)"
      ]
     },
     "execution_count": 139,
     "metadata": {},
     "output_type": "execute_result"
    }
   ],
   "execution_count": 139
  },
  {
   "metadata": {
    "ExecuteTime": {
     "end_time": "2024-11-25T20:23:04.346112Z",
     "start_time": "2024-11-25T20:23:04.334942Z"
    }
   },
   "cell_type": "code",
   "source": [
    "import numpy as np\n",
    "import torch\n",
    "import tqdm\n",
    "import copy\n",
    "from sklearn.model_selection import train_test_split\n",
    "\n",
    "'''\n",
    "# train-test split of the dataset\n",
    "X_train, X_test, y_train, y_test = train_test_split(X, y, train_size=0.7, shuffle=True)\n",
    "X_train = torch.tensor(X_train, dtype=torch.float32)\n",
    "y_train = torch.tensor(y_train, dtype=torch.float32).reshape(-1, 1)\n",
    "X_test = torch.tensor(X_test, dtype=torch.float32)\n",
    "y_test = torch.tensor(y_test, dtype=torch.float32).reshape(-1, 1)\n",
    "'''\n",
    "def reset_model(model):\n",
    "    for layer in model.children():\n",
    "       if hasattr(layer, 'reset_parameters'):\n",
    "           layer.reset_parameters()\n",
    "\n",
    "def train_NN(X_train, X_test, y_train, y_test, model, loss_fn, optimizer,n_epochs = 2):\n",
    "    batch_size = 10  # size of each batch\n",
    "    batch_start = torch.arange(0, len(X_train), batch_size)\n",
    "    # Hold the best model\n",
    "    best_mse = np.inf   # init to infinity\n",
    "    best_weights = None\n",
    "    history = {}\n",
    "    for lr in [0.0001, 0.001, 0.0005]:\n",
    "        reset_model(model)\n",
    "        optimizer, loss_fn=get_optimizer(model, lr)\n",
    "        history[lr] = []\n",
    "        # training loop\n",
    "        for epoch in range(n_epochs):\n",
    "            model.train()\n",
    "            with tqdm.tqdm(batch_start, unit=\"batch\", mininterval=0, disable=True) as bar:\n",
    "                bar.set_description(f\"Epoch {epoch}\")\n",
    "                for start in bar:\n",
    "                    # take a batch\n",
    "                    X_batch = X_train[start:start+batch_size]\n",
    "                    y_batch = y_train[start:start+batch_size]\n",
    "                    # forward pass\n",
    "                    y_pred = model(X_batch)\n",
    "                    loss = loss_fn(y_pred, y_batch)\n",
    "                    # backward pass\n",
    "                    optimizer.zero_grad()\n",
    "                    loss.backward()\n",
    "                    # update weights\n",
    "                    optimizer.step()\n",
    "                    # print progress\n",
    "                    bar.set_postfix(mse=float(loss))\n",
    "            # evaluate accuracy at end of each epoch\n",
    "            model.eval()\n",
    "            y_pred = model(X_test)\n",
    "            mse = loss_fn(y_pred, y_test)\n",
    "            mse = float(mse)\n",
    "            print(\"Epoch:\",epoch,'MSE:', mse, 'Best mse',best_mse)\n",
    "            history[lr].append(mse)\n",
    "            if mse < best_mse:\n",
    "                best_mse = mse\n",
    "                best_weights = copy.deepcopy(model.state_dict())\n",
    "     \n",
    "    # restore model and return best accuracy\n",
    "    model.load_state_dict(best_weights)\n",
    "    return history, best_mse, best_weights, model"
   ],
   "id": "6d02f6dc46faef7e",
   "outputs": [],
   "execution_count": 21
  },
  {
   "metadata": {
    "jupyter": {
     "is_executing": true
    },
    "ExecuteTime": {
     "start_time": "2024-11-25T17:34:57.128825Z"
    }
   },
   "cell_type": "code",
   "source": "history, best_mse, best_weights, model_nn=train_NN(X_train_t, X_test_t, y_train_t, y_test_t, model_nn, loss_fn, optimizer,20)",
   "id": "7520380378b0129",
   "outputs": [
    {
     "name": "stdout",
     "output_type": "stream",
     "text": [
      "Epoch: 0 MSE: 5.040772066422505e-06 Best mse inf\n",
      "Epoch: 1 MSE: 3.1390407002618304e-06 Best mse 5.040772066422505e-06\n",
      "Epoch: 2 MSE: 2.256999550809269e-06 Best mse 3.1390407002618304e-06\n",
      "Epoch: 3 MSE: 1.5119883300940273e-06 Best mse 2.256999550809269e-06\n",
      "Epoch: 4 MSE: 1.2034764722557156e-06 Best mse 1.5119883300940273e-06\n",
      "Epoch: 5 MSE: 1.0828345011759666e-06 Best mse 1.2034764722557156e-06\n",
      "Epoch: 6 MSE: 1.006958655125345e-06 Best mse 1.0828345011759666e-06\n",
      "Epoch: 7 MSE: 9.562402283336269e-07 Best mse 1.006958655125345e-06\n",
      "Epoch: 8 MSE: 9.060535717253515e-07 Best mse 9.562402283336269e-07\n",
      "Epoch: 9 MSE: 8.612513511252473e-07 Best mse 9.060535717253515e-07\n",
      "Epoch: 10 MSE: 8.137428721965989e-07 Best mse 8.612513511252473e-07\n",
      "Epoch: 11 MSE: 7.804831057001138e-07 Best mse 8.137428721965989e-07\n",
      "Epoch: 12 MSE: 7.55545215724851e-07 Best mse 7.804831057001138e-07\n",
      "Epoch: 3 MSE: 7.801287438269355e-07 Best mse 5.735263925998879e-07\n",
      "Epoch: 4 MSE: 4.0129569356395223e-07 Best mse 5.735263925998879e-07\n",
      "Epoch: 5 MSE: 2.802457288453297e-07 Best mse 4.0129569356395223e-07\n",
      "Epoch: 6 MSE: 2.6666168650990585e-07 Best mse 2.802457288453297e-07\n",
      "Epoch: 7 MSE: 2.960551626074448e-07 Best mse 2.6666168650990585e-07\n",
      "Epoch: 8 MSE: 3.7301143152035365e-07 Best mse 2.6666168650990585e-07\n",
      "Epoch: 9 MSE: 3.0317093546727847e-07 Best mse 2.6666168650990585e-07\n",
      "Epoch: 10 MSE: 2.810468515690445e-07 Best mse 2.6666168650990585e-07\n",
      "Epoch: 11 MSE: 2.1195759813963377e-07 Best mse 2.6666168650990585e-07\n",
      "Epoch: 12 MSE: 2.3339300980751432e-07 Best mse 2.1195759813963377e-07\n",
      "Epoch: 13 MSE: 2.355548218702097e-07 Best mse 2.1195759813963377e-07\n",
      "Epoch: 14 MSE: 2.3140273697208613e-07 Best mse 2.1195759813963377e-07\n",
      "Epoch: 15 MSE: 2.389032829341886e-07 Best mse 2.1195759813963377e-07\n",
      "Epoch: 16 MSE: 2.2303144930901908e-07 Best mse 2.1195759813963377e-07\n",
      "Epoch: 17 MSE: 2.5743895548657747e-07 Best mse 2.1195759813963377e-07\n",
      "Epoch: 18 MSE: 2.275800170536968e-07 Best mse 2.1195759813963377e-07\n",
      "Epoch: 19 MSE: 2.2351264306053054e-07 Best mse 2.1195759813963377e-07\n",
      "Epoch: 0 MSE: 1.1003082818206167e-06 Best mse 2.1195759813963377e-07\n",
      "Epoch: 1 MSE: 8.512307658747886e-07 Best mse 2.1195759813963377e-07\n",
      "Epoch: 2 MSE: 5.079522225059918e-07 Best mse 2.1195759813963377e-07\n",
      "Epoch: 3 MSE: 5.299791610013926e-07 Best mse 2.1195759813963377e-07\n",
      "Epoch: 4 MSE: 4.6129545694384433e-07 Best mse 2.1195759813963377e-07\n",
      "Epoch: 5 MSE: 3.981825216214929e-07 Best mse 2.1195759813963377e-07\n",
      "Epoch: 6 MSE: 4.0523030975236907e-07 Best mse 2.1195759813963377e-07\n",
      "Epoch: 7 MSE: 6.030772965459619e-07 Best mse 2.1195759813963377e-07\n",
      "Epoch: 8 MSE: 4.4147617472845013e-07 Best mse 2.1195759813963377e-07\n",
      "Epoch: 9 MSE: 3.5921468111155264e-07 Best mse 2.1195759813963377e-07\n",
      "Epoch: 10 MSE: 2.422674469926278e-07 Best mse 2.1195759813963377e-07\n",
      "Epoch: 11 MSE: 2.7760390253206424e-07 Best mse 2.1195759813963377e-07\n",
      "Epoch: 12 MSE: 2.4626393724247464e-07 Best mse 2.1195759813963377e-07\n",
      "Epoch: 13 MSE: 2.502312952401553e-07 Best mse 2.1195759813963377e-07\n",
      "Epoch: 14 MSE: 1.8476988827842433e-07 Best mse 2.1195759813963377e-07\n",
      "Epoch: 15 MSE: 1.4692038519115158e-07 Best mse 1.8476988827842433e-07\n",
      "Epoch: 16 MSE: 3.357319826591265e-07 Best mse 1.4692038519115158e-07\n",
      "Epoch: 17 MSE: 2.863342558612203e-07 Best mse 1.4692038519115158e-07\n",
      "Epoch: 18 MSE: 2.481341425664141e-07 Best mse 1.4692038519115158e-07\n",
      "Epoch: 19 MSE: 2.4182514835047186e-07 Best mse 1.4692038519115158e-07\n"
     ]
    }
   ],
   "execution_count": null
  },
  {
   "metadata": {
    "ExecuteTime": {
     "end_time": "2024-11-25T19:07:44.051725Z",
     "start_time": "2024-11-25T19:07:43.941565Z"
    }
   },
   "cell_type": "code",
   "source": [
    "import matplotlib.pyplot as plt\n",
    "\n",
    "for k, v in history.items():\n",
    "    plt.plot(v, label = 'lr='+str(k))\n",
    "    \n",
    "plt.legend(loc=\"upper left\")\n",
    "\n",
    "\n"
   ],
   "id": "dc1e92cd9456f94",
   "outputs": [
    {
     "data": {
      "text/plain": [
       "<matplotlib.legend.Legend at 0x1dec1a65090>"
      ]
     },
     "execution_count": 152,
     "metadata": {},
     "output_type": "execute_result"
    },
    {
     "data": {
      "text/plain": [
       "<Figure size 640x480 with 1 Axes>"
      ],
      "image/png": "[encoded data removed]"
     },
     "metadata": {},
     "output_type": "display_data"
    }
   ],
   "execution_count": 152
  },
  {
   "metadata": {
    "jupyter": {
     "is_executing": true
    },
    "ExecuteTime": {
     "start_time": "2024-11-25T19:07:43.370176Z"
    }
   },
   "cell_type": "code",
   "source": "",
   "id": "1eb071eb8f0de6d1",
   "outputs": [],
   "execution_count": null
  },
  {
   "metadata": {
    "jupyter": {
     "is_executing": true
    },
    "ExecuteTime": {
     "start_time": "2024-11-25T19:07:43.375116Z"
    }
   },
   "cell_type": "code",
   "source": "y_pred = model_nn(X_test_t)",
   "id": "50b96a2a2ad578cb",
   "outputs": [],
   "execution_count": null
  },
  {
   "metadata": {
    "jupyter": {
     "is_executing": true
    },
    "ExecuteTime": {
     "start_time": "2024-11-25T19:07:43.436854Z"
    }
   },
   "cell_type": "code",
   "source": "y_pred=y_pred.detach().numpy()",
   "id": "ddbc74b791069177",
   "outputs": [],
   "execution_count": null
  },
  {
   "metadata": {
    "jupyter": {
     "is_executing": true
    },
    "ExecuteTime": {
     "start_time": "2024-11-25T19:07:43.444223Z"
    }
   },
   "cell_type": "code",
   "source": [
    "#TODO kell ez? \n",
    "\n",
    "X_test[X_test.columns]=X_scaler.inverse_transform(X_test_t)\n",
    "y_test[y_test.columns] =y_scaler.inverse_transform(y_test_t)"
   ],
   "id": "942c365317268781",
   "outputs": [],
   "execution_count": null
  },
  {
   "metadata": {
    "jupyter": {
     "is_executing": true
    },
    "ExecuteTime": {
     "start_time": "2024-11-25T19:07:43.558948Z"
    }
   },
   "cell_type": "code",
   "source": "y_pred=y_scaler.inverse_transform(y_pred)\n",
   "id": "6fa088057a12c755",
   "outputs": [],
   "execution_count": null
  },
  {
   "metadata": {
    "jupyter": {
     "is_executing": true
    },
    "ExecuteTime": {
     "start_time": "2024-11-25T19:07:43.568111Z"
    }
   },
   "cell_type": "code",
   "source": "eval_df_nn=evaluate_model(X_test, y_test, y_pred)",
   "id": "216a20b3641a6dbf",
   "outputs": [],
   "execution_count": null
  },
  {
   "metadata": {
    "jupyter": {
     "is_executing": true
    },
    "ExecuteTime": {
     "start_time": "2024-11-25T19:07:43.649951Z"
    }
   },
   "cell_type": "code",
   "source": "eval_df_nn.head()",
   "id": "35efa0cf13df216c",
   "outputs": [
    {
     "data": {
      "text/plain": [
       "         TERV_IDOTARTAM (m)         KESES  predictions      Tény      Pred  \\\n",
       "1096781                 1.0 -2.833336e-01    -0.301531  0.716666  0.698469   \n",
       "1016002                 1.0  2.833343e-01     0.271183  1.283334  1.271183   \n",
       "53208                   2.0 -6.666564e-02    -0.066931  1.933334  1.933069   \n",
       "1032627                 1.0 -1.999996e-01    -0.216998  0.800000  0.783002   \n",
       "830943                  3.0  3.164013e-07     0.014936  3.000000  3.014936   \n",
       "\n",
       "               PE      MAPE           PE1         MAPE1  \n",
       "1096781  2.539148  2.539148 -6.422540e+00  6.422540e+00  \n",
       "1016002  0.946886  0.946886  4.288826e+00  4.288826e+00  \n",
       "53208    0.013742  0.013742 -3.985105e-01  3.985105e-01  \n",
       "1032627  2.124822  2.124822 -8.499306e+00  8.499306e+00  \n",
       "830943  -0.497866  0.497866 -4.720583e+06  4.720583e+06  "
      ],
      "text/html": [
       "<div>\n",
       "<style scoped>\n",
       "    .dataframe tbody tr th:only-of-type {\n",
       "        vertical-align: middle;\n",
       "    }\n",
       "\n",
       "    .dataframe tbody tr th {\n",
       "        vertical-align: top;\n",
       "    }\n",
       "\n",
       "    .dataframe thead th {\n",
       "        text-align: right;\n",
       "    }\n",
       "</style>\n",
       "<table border=\"1\" class=\"dataframe\">\n",
       "  <thead>\n",
       "    <tr style=\"text-align: right;\">\n",
       "      <th></th>\n",
       "      <th>TERV_IDOTARTAM (m)</th>\n",
       "      <th>KESES</th>\n",
       "      <th>predictions</th>\n",
       "      <th>Tény</th>\n",
       "      <th>Pred</th>\n",
       "      <th>PE</th>\n",
       "      <th>MAPE</th>\n",
       "      <th>PE1</th>\n",
       "      <th>MAPE1</th>\n",
       "    </tr>\n",
       "  </thead>\n",
       "  <tbody>\n",
       "    <tr>\n",
       "      <th>1096781</th>\n",
       "      <td>1.0</td>\n",
       "      <td>-2.833336e-01</td>\n",
       "      <td>-0.301531</td>\n",
       "      <td>0.716666</td>\n",
       "      <td>0.698469</td>\n",
       "      <td>2.539148</td>\n",
       "      <td>2.539148</td>\n",
       "      <td>-6.422540e+00</td>\n",
       "      <td>6.422540e+00</td>\n",
       "    </tr>\n",
       "    <tr>\n",
       "      <th>1016002</th>\n",
       "      <td>1.0</td>\n",
       "      <td>2.833343e-01</td>\n",
       "      <td>0.271183</td>\n",
       "      <td>1.283334</td>\n",
       "      <td>1.271183</td>\n",
       "      <td>0.946886</td>\n",
       "      <td>0.946886</td>\n",
       "      <td>4.288826e+00</td>\n",
       "      <td>4.288826e+00</td>\n",
       "    </tr>\n",
       "    <tr>\n",
       "      <th>53208</th>\n",
       "      <td>2.0</td>\n",
       "      <td>-6.666564e-02</td>\n",
       "      <td>-0.066931</td>\n",
       "      <td>1.933334</td>\n",
       "      <td>1.933069</td>\n",
       "      <td>0.013742</td>\n",
       "      <td>0.013742</td>\n",
       "      <td>-3.985105e-01</td>\n",
       "      <td>3.985105e-01</td>\n",
       "    </tr>\n",
       "    <tr>\n",
       "      <th>1032627</th>\n",
       "      <td>1.0</td>\n",
       "      <td>-1.999996e-01</td>\n",
       "      <td>-0.216998</td>\n",
       "      <td>0.800000</td>\n",
       "      <td>0.783002</td>\n",
       "      <td>2.124822</td>\n",
       "      <td>2.124822</td>\n",
       "      <td>-8.499306e+00</td>\n",
       "      <td>8.499306e+00</td>\n",
       "    </tr>\n",
       "    <tr>\n",
       "      <th>830943</th>\n",
       "      <td>3.0</td>\n",
       "      <td>3.164013e-07</td>\n",
       "      <td>0.014936</td>\n",
       "      <td>3.000000</td>\n",
       "      <td>3.014936</td>\n",
       "      <td>-0.497866</td>\n",
       "      <td>0.497866</td>\n",
       "      <td>-4.720583e+06</td>\n",
       "      <td>4.720583e+06</td>\n",
       "    </tr>\n",
       "  </tbody>\n",
       "</table>\n",
       "</div>"
      ]
     },
     "execution_count": 148,
     "metadata": {},
     "output_type": "execute_result"
    }
   ],
   "execution_count": null
  },
  {
   "metadata": {
    "jupyter": {
     "is_executing": true
    },
    "ExecuteTime": {
     "start_time": "2024-11-25T19:07:43.666561Z"
    }
   },
   "cell_type": "code",
   "source": "eval_df_nn['MAPE'].describe()",
   "id": "fa832f388156d4ce",
   "outputs": [
    {
     "data": {
      "text/plain": [
       "count    3.347450e+05\n",
       "mean     6.562679e+02\n",
       "std      1.044971e+05\n",
       "min      1.776357e-13\n",
       "25%      4.005444e-01\n",
       "50%      7.820961e-01\n",
       "75%      2.006230e+00\n",
       "max      2.070871e+07\n",
       "Name: MAPE, dtype: float64"
      ]
     },
     "execution_count": 149,
     "metadata": {},
     "output_type": "execute_result"
    }
   ],
   "execution_count": null
  },
  {
   "metadata": {
    "jupyter": {
     "is_executing": true
    },
    "ExecuteTime": {
     "start_time": "2024-11-25T19:07:43.696393Z"
    }
   },
   "cell_type": "code",
   "source": "eval_df_nn['MAPE1'].describe()\n",
   "id": "f262afdf8ef36d4b",
   "outputs": [
    {
     "data": {
      "text/plain": [
       "count    3.347450e+05\n",
       "mean     2.608368e+05\n",
       "std      2.385684e+06\n",
       "min      6.622777e-07\n",
       "25%      2.135588e+00\n",
       "50%      4.289823e+00\n",
       "75%      8.595523e+00\n",
       "max      5.857634e+08\n",
       "Name: MAPE1, dtype: float64"
      ]
     },
     "execution_count": 150,
     "metadata": {},
     "output_type": "execute_result"
    }
   ],
   "execution_count": null
  },
  {
   "metadata": {},
   "cell_type": "markdown",
   "source": "",
   "id": "d04ec72f9ce5b141"
  },
  {
   "metadata": {
    "jupyter": {
     "is_executing": true
    },
    "ExecuteTime": {
     "start_time": "2024-11-25T19:07:43.773963Z"
    }
   },
   "cell_type": "code",
   "source": "save_NN(model_nn,X_scaler,y_scaler,history,'Base')",
   "id": "88d5ede920ec6caa",
   "outputs": [
    {
     "data": {
      "text/plain": [
       "<Figure size 640x480 with 1 Axes>"
      ],
      "image/png": "[encoded data removed]"
     },
     "metadata": {},
     "output_type": "display_data"
    }
   ],
   "execution_count": null
  },
  {
   "metadata": {
    "jupyter": {
     "is_executing": true
    },
    "ExecuteTime": {
     "start_time": "2024-11-25T19:07:44.052730Z"
    }
   },
   "cell_type": "code",
   "source": "del model_nn",
   "id": "747058570cf8fbec",
   "outputs": [],
   "execution_count": null
  },
  {
   "metadata": {},
   "cell_type": "markdown",
   "source": [
    "# Kisebb adaton:\n",
    "\n",
    "most rendelkezésre álló adat:\n",
    "- utastájékoztatásból terv- és tényídők\n",
    "- időjárás\n",
    "\n",
    "Azaz dobjuk a lassújel és vágányzár adatokat\n"
   ],
   "id": "a079287cde85f2df"
  },
  {
   "metadata": {
    "jupyter": {
     "is_executing": true
    },
    "ExecuteTime": {
     "start_time": "2024-11-25T19:07:44.172553Z"
    }
   },
   "cell_type": "code",
   "source": "raw_data.columns",
   "id": "72befd41163ee41f",
   "outputs": [
    {
     "data": {
      "text/plain": [
       "Index(['MENETREND_IDO', 'ELOZO_KESES', 'KESES', 'RELATIV_KESES',\n",
       "       'TERV_IDOTARTAM (m)', 'tx', 't', 'tn', 'r', 'Érintett objektum típusa',\n",
       "       'Lassúmenet típusa', 'Lassúmenet hossza', 'Lassúmenet mértéke (km/h)',\n",
       "       'Lassúmenet mértéke motorvonatra (km/h)', 'Fels.vez. kikapcsolása', 'I',\n",
       "       'E', 'ÁI', 'ÁE', 'Kizárás (1=VZ,2=LJ)',\n",
       "       'Kiutalt menetvonalak zavartatása nélkül', 'Státus',\n",
       "       'ELOZO VONAT KESES', 'ELOZO VONAT RELATIV KESES',\n",
       "       'VONAL STATUSZ VALTOZOTT'],\n",
       "      dtype='object')"
      ]
     },
     "execution_count": 154,
     "metadata": {},
     "output_type": "execute_result"
    }
   ],
   "execution_count": null
  },
  {
   "metadata": {
    "ExecuteTime": {
     "end_time": "2024-11-26T05:27:10.813107Z",
     "start_time": "2024-11-26T05:27:10.806100Z"
    }
   },
   "cell_type": "code",
   "source": "attrs_to_use=['MENETREND_IDO','ELOZO_KESES','KESES','tx','t','tn','r','TERV_IDOTARTAM (m)','ELOZO VONAT KESES','ELOZO VONAT RELATIV KESES']",
   "id": "b7594316686fcbf2",
   "outputs": [],
   "execution_count": 9
  },
  {
   "metadata": {
    "ExecuteTime": {
     "end_time": "2024-11-25T20:23:21.891575Z",
     "start_time": "2024-11-25T20:23:21.851560Z"
    }
   },
   "cell_type": "code",
   "source": "raw_data_small=raw_data[attrs_to_use]\n",
   "id": "38dccda43df59a81",
   "outputs": [],
   "execution_count": 23
  },
  {
   "metadata": {
    "ExecuteTime": {
     "end_time": "2024-11-25T20:23:29.188425Z",
     "start_time": "2024-11-25T20:23:29.182615Z"
    }
   },
   "cell_type": "code",
   "source": [
    "def train_and_evaluate_DRT(data):\n",
    "    history=None\n",
    "    X_scaler=None\n",
    "    y_scaler=None\n",
    "    X_train, X_test, y_train, y_test,_,_ = split_train_test(data)\n",
    "    model, predictions = train_DRT(X_train,X_test, y_train)\n",
    "    eval_df = evaluate_model(X_test, y_test, predictions)\n",
    "    return model,eval_df,X_scaler,y_scaler,history\n",
    "\n",
    "\n",
    "\n"
   ],
   "id": "8a4451ff576f68f3",
   "outputs": [],
   "execution_count": 24
  },
  {
   "metadata": {
    "ExecuteTime": {
     "end_time": "2024-11-25T20:23:30.546057Z",
     "start_time": "2024-11-25T20:23:30.530927Z"
    }
   },
   "cell_type": "code",
   "source": "raw_data_small.head()",
   "id": "6ddaa5b3a63ae99b",
   "outputs": [
    {
     "data": {
      "text/plain": [
       "   MENETREND_IDO  ELOZO_KESES     KESES    tx     t   tn    r  \\\n",
       "0            3.0     0.116667  0.166667  14.3  10.1  4.8  0.4   \n",
       "1            7.0     0.766667 -1.116667  14.3  10.1  4.8  0.4   \n",
       "2           10.0    -0.350000 -0.916667  14.3  10.1  4.8  0.4   \n",
       "3           11.0    -1.266667 -0.366667  14.3  10.1  4.8  0.4   \n",
       "4           13.0     0.166667  0.100000  14.3  10.1  4.8  0.4   \n",
       "\n",
       "   TERV_IDOTARTAM (m)  ELOZO VONAT KESES  ELOZO VONAT RELATIV KESES  \n",
       "0                 2.0           0.233333                   0.116667  \n",
       "1                 4.0          -1.016667                  -0.254167  \n",
       "2                 3.0          -0.850000                  -0.283333  \n",
       "3                 1.0          -0.333333                  -0.333333  \n",
       "4                 2.0           0.100000                   0.050000  "
      ],
      "text/html": [
       "<div>\n",
       "<style scoped>\n",
       "    .dataframe tbody tr th:only-of-type {\n",
       "        vertical-align: middle;\n",
       "    }\n",
       "\n",
       "    .dataframe tbody tr th {\n",
       "        vertical-align: top;\n",
       "    }\n",
       "\n",
       "    .dataframe thead th {\n",
       "        text-align: right;\n",
       "    }\n",
       "</style>\n",
       "<table border=\"1\" class=\"dataframe\">\n",
       "  <thead>\n",
       "    <tr style=\"text-align: right;\">\n",
       "      <th></th>\n",
       "      <th>MENETREND_IDO</th>\n",
       "      <th>ELOZO_KESES</th>\n",
       "      <th>KESES</th>\n",
       "      <th>tx</th>\n",
       "      <th>t</th>\n",
       "      <th>tn</th>\n",
       "      <th>r</th>\n",
       "      <th>TERV_IDOTARTAM (m)</th>\n",
       "      <th>ELOZO VONAT KESES</th>\n",
       "      <th>ELOZO VONAT RELATIV KESES</th>\n",
       "    </tr>\n",
       "  </thead>\n",
       "  <tbody>\n",
       "    <tr>\n",
       "      <th>0</th>\n",
       "      <td>3.0</td>\n",
       "      <td>0.116667</td>\n",
       "      <td>0.166667</td>\n",
       "      <td>14.3</td>\n",
       "      <td>10.1</td>\n",
       "      <td>4.8</td>\n",
       "      <td>0.4</td>\n",
       "      <td>2.0</td>\n",
       "      <td>0.233333</td>\n",
       "      <td>0.116667</td>\n",
       "    </tr>\n",
       "    <tr>\n",
       "      <th>1</th>\n",
       "      <td>7.0</td>\n",
       "      <td>0.766667</td>\n",
       "      <td>-1.116667</td>\n",
       "      <td>14.3</td>\n",
       "      <td>10.1</td>\n",
       "      <td>4.8</td>\n",
       "      <td>0.4</td>\n",
       "      <td>4.0</td>\n",
       "      <td>-1.016667</td>\n",
       "      <td>-0.254167</td>\n",
       "    </tr>\n",
       "    <tr>\n",
       "      <th>2</th>\n",
       "      <td>10.0</td>\n",
       "      <td>-0.350000</td>\n",
       "      <td>-0.916667</td>\n",
       "      <td>14.3</td>\n",
       "      <td>10.1</td>\n",
       "      <td>4.8</td>\n",
       "      <td>0.4</td>\n",
       "      <td>3.0</td>\n",
       "      <td>-0.850000</td>\n",
       "      <td>-0.283333</td>\n",
       "    </tr>\n",
       "    <tr>\n",
       "      <th>3</th>\n",
       "      <td>11.0</td>\n",
       "      <td>-1.266667</td>\n",
       "      <td>-0.366667</td>\n",
       "      <td>14.3</td>\n",
       "      <td>10.1</td>\n",
       "      <td>4.8</td>\n",
       "      <td>0.4</td>\n",
       "      <td>1.0</td>\n",
       "      <td>-0.333333</td>\n",
       "      <td>-0.333333</td>\n",
       "    </tr>\n",
       "    <tr>\n",
       "      <th>4</th>\n",
       "      <td>13.0</td>\n",
       "      <td>0.166667</td>\n",
       "      <td>0.100000</td>\n",
       "      <td>14.3</td>\n",
       "      <td>10.1</td>\n",
       "      <td>4.8</td>\n",
       "      <td>0.4</td>\n",
       "      <td>2.0</td>\n",
       "      <td>0.100000</td>\n",
       "      <td>0.050000</td>\n",
       "    </tr>\n",
       "  </tbody>\n",
       "</table>\n",
       "</div>"
      ]
     },
     "execution_count": 25,
     "metadata": {},
     "output_type": "execute_result"
    }
   ],
   "execution_count": 25
  },
  {
   "metadata": {
    "ExecuteTime": {
     "end_time": "2024-11-25T20:24:01.880457Z",
     "start_time": "2024-11-25T20:23:31.795559Z"
    }
   },
   "cell_type": "code",
   "source": "model_s,eval_df_s,_,_,_=train_and_evaluate_DRT(raw_data_small)",
   "id": "b36cbdeacae5c12a",
   "outputs": [
    {
     "name": "stdout",
     "output_type": "stream",
     "text": [
      "Fitting 3 folds for each of 4 candidates, totalling 12 fits\n"
     ]
    }
   ],
   "execution_count": 26
  },
  {
   "metadata": {
    "ExecuteTime": {
     "end_time": "2024-11-25T20:24:01.893521Z",
     "start_time": "2024-11-25T20:24:01.882974Z"
    }
   },
   "cell_type": "code",
   "source": "eval_df_s.head()",
   "id": "30224f198b40d3d5",
   "outputs": [
    {
     "data": {
      "text/plain": [
       "         TERV_IDOTARTAM (m)     KESES  predictions      Tény      Pred  \\\n",
       "1096781                 1.0 -0.283333    -0.219197  0.716667  0.780803   \n",
       "1016002                 1.0  0.283333     0.135181  1.283333  1.135181   \n",
       "53208                   2.0 -0.066667     0.699738  1.933333  2.699738   \n",
       "1032627                 1.0 -0.200000    -0.195810  0.800000  0.804190   \n",
       "830943                  3.0  0.000000     0.047569  3.000000  3.047569   \n",
       "\n",
       "                PE       MAPE          PE1        MAPE1  \n",
       "1096781  -8.949322   8.949322    22.636520    22.636520  \n",
       "1016002  11.544309  11.544309    52.288930    52.288930  \n",
       "53208   -39.641597  39.641597  1149.606299  1149.606299  \n",
       "1032627  -0.523744   0.523744     2.094976     2.094976  \n",
       "830943   -1.585626   1.585626         -inf          inf  "
      ],
      "text/html": [
       "<div>\n",
       "<style scoped>\n",
       "    .dataframe tbody tr th:only-of-type {\n",
       "        vertical-align: middle;\n",
       "    }\n",
       "\n",
       "    .dataframe tbody tr th {\n",
       "        vertical-align: top;\n",
       "    }\n",
       "\n",
       "    .dataframe thead th {\n",
       "        text-align: right;\n",
       "    }\n",
       "</style>\n",
       "<table border=\"1\" class=\"dataframe\">\n",
       "  <thead>\n",
       "    <tr style=\"text-align: right;\">\n",
       "      <th></th>\n",
       "      <th>TERV_IDOTARTAM (m)</th>\n",
       "      <th>KESES</th>\n",
       "      <th>predictions</th>\n",
       "      <th>Tény</th>\n",
       "      <th>Pred</th>\n",
       "      <th>PE</th>\n",
       "      <th>MAPE</th>\n",
       "      <th>PE1</th>\n",
       "      <th>MAPE1</th>\n",
       "    </tr>\n",
       "  </thead>\n",
       "  <tbody>\n",
       "    <tr>\n",
       "      <th>1096781</th>\n",
       "      <td>1.0</td>\n",
       "      <td>-0.283333</td>\n",
       "      <td>-0.219197</td>\n",
       "      <td>0.716667</td>\n",
       "      <td>0.780803</td>\n",
       "      <td>-8.949322</td>\n",
       "      <td>8.949322</td>\n",
       "      <td>22.636520</td>\n",
       "      <td>22.636520</td>\n",
       "    </tr>\n",
       "    <tr>\n",
       "      <th>1016002</th>\n",
       "      <td>1.0</td>\n",
       "      <td>0.283333</td>\n",
       "      <td>0.135181</td>\n",
       "      <td>1.283333</td>\n",
       "      <td>1.135181</td>\n",
       "      <td>11.544309</td>\n",
       "      <td>11.544309</td>\n",
       "      <td>52.288930</td>\n",
       "      <td>52.288930</td>\n",
       "    </tr>\n",
       "    <tr>\n",
       "      <th>53208</th>\n",
       "      <td>2.0</td>\n",
       "      <td>-0.066667</td>\n",
       "      <td>0.699738</td>\n",
       "      <td>1.933333</td>\n",
       "      <td>2.699738</td>\n",
       "      <td>-39.641597</td>\n",
       "      <td>39.641597</td>\n",
       "      <td>1149.606299</td>\n",
       "      <td>1149.606299</td>\n",
       "    </tr>\n",
       "    <tr>\n",
       "      <th>1032627</th>\n",
       "      <td>1.0</td>\n",
       "      <td>-0.200000</td>\n",
       "      <td>-0.195810</td>\n",
       "      <td>0.800000</td>\n",
       "      <td>0.804190</td>\n",
       "      <td>-0.523744</td>\n",
       "      <td>0.523744</td>\n",
       "      <td>2.094976</td>\n",
       "      <td>2.094976</td>\n",
       "    </tr>\n",
       "    <tr>\n",
       "      <th>830943</th>\n",
       "      <td>3.0</td>\n",
       "      <td>0.000000</td>\n",
       "      <td>0.047569</td>\n",
       "      <td>3.000000</td>\n",
       "      <td>3.047569</td>\n",
       "      <td>-1.585626</td>\n",
       "      <td>1.585626</td>\n",
       "      <td>-inf</td>\n",
       "      <td>inf</td>\n",
       "    </tr>\n",
       "  </tbody>\n",
       "</table>\n",
       "</div>"
      ]
     },
     "execution_count": 27,
     "metadata": {},
     "output_type": "execute_result"
    }
   ],
   "execution_count": 27
  },
  {
   "metadata": {
    "ExecuteTime": {
     "end_time": "2024-11-25T20:24:01.956060Z",
     "start_time": "2024-11-25T20:24:01.894527Z"
    }
   },
   "cell_type": "code",
   "source": "eval_df_s[['MAPE','MAPE1']].describe()\n",
   "id": "e9328084ee9ac42a",
   "outputs": [
    {
     "data": {
      "text/plain": [
       "               MAPE         MAPE1\n",
       "count  3.347440e+05  3.347420e+05\n",
       "mean            inf           inf\n",
       "std             NaN           NaN\n",
       "min    0.000000e+00  0.000000e+00\n",
       "25%    3.141642e+00  2.023356e+01\n",
       "50%    8.075548e+00  5.158378e+01\n",
       "75%    2.080130e+01  1.132314e+02\n",
       "max             inf           inf"
      ],
      "text/html": [
       "<div>\n",
       "<style scoped>\n",
       "    .dataframe tbody tr th:only-of-type {\n",
       "        vertical-align: middle;\n",
       "    }\n",
       "\n",
       "    .dataframe tbody tr th {\n",
       "        vertical-align: top;\n",
       "    }\n",
       "\n",
       "    .dataframe thead th {\n",
       "        text-align: right;\n",
       "    }\n",
       "</style>\n",
       "<table border=\"1\" class=\"dataframe\">\n",
       "  <thead>\n",
       "    <tr style=\"text-align: right;\">\n",
       "      <th></th>\n",
       "      <th>MAPE</th>\n",
       "      <th>MAPE1</th>\n",
       "    </tr>\n",
       "  </thead>\n",
       "  <tbody>\n",
       "    <tr>\n",
       "      <th>count</th>\n",
       "      <td>3.347440e+05</td>\n",
       "      <td>3.347420e+05</td>\n",
       "    </tr>\n",
       "    <tr>\n",
       "      <th>mean</th>\n",
       "      <td>inf</td>\n",
       "      <td>inf</td>\n",
       "    </tr>\n",
       "    <tr>\n",
       "      <th>std</th>\n",
       "      <td>NaN</td>\n",
       "      <td>NaN</td>\n",
       "    </tr>\n",
       "    <tr>\n",
       "      <th>min</th>\n",
       "      <td>0.000000e+00</td>\n",
       "      <td>0.000000e+00</td>\n",
       "    </tr>\n",
       "    <tr>\n",
       "      <th>25%</th>\n",
       "      <td>3.141642e+00</td>\n",
       "      <td>2.023356e+01</td>\n",
       "    </tr>\n",
       "    <tr>\n",
       "      <th>50%</th>\n",
       "      <td>8.075548e+00</td>\n",
       "      <td>5.158378e+01</td>\n",
       "    </tr>\n",
       "    <tr>\n",
       "      <th>75%</th>\n",
       "      <td>2.080130e+01</td>\n",
       "      <td>1.132314e+02</td>\n",
       "    </tr>\n",
       "    <tr>\n",
       "      <th>max</th>\n",
       "      <td>inf</td>\n",
       "      <td>inf</td>\n",
       "    </tr>\n",
       "  </tbody>\n",
       "</table>\n",
       "</div>"
      ]
     },
     "execution_count": 28,
     "metadata": {},
     "output_type": "execute_result"
    }
   ],
   "execution_count": 28
  },
  {
   "metadata": {
    "jupyter": {
     "is_executing": true
    },
    "ExecuteTime": {
     "start_time": "2024-11-25T19:08:27.376819Z"
    }
   },
   "cell_type": "code",
   "source": "",
   "id": "43719b9d0c50ea53",
   "outputs": [],
   "execution_count": null
  },
  {
   "metadata": {
    "ExecuteTime": {
     "end_time": "2024-11-25T20:24:01.968462Z",
     "start_time": "2024-11-25T20:24:01.957482Z"
    }
   },
   "cell_type": "code",
   "source": "save_sklearn_model(model_s,'RT','Small')\n",
   "id": "567aa364f70949de",
   "outputs": [],
   "execution_count": 29
  },
  {
   "metadata": {
    "ExecuteTime": {
     "end_time": "2024-11-25T20:24:01.974981Z",
     "start_time": "2024-11-25T20:24:01.970974Z"
    }
   },
   "cell_type": "code",
   "source": "del model_s",
   "id": "a459f105180e185c",
   "outputs": [],
   "execution_count": 30
  },
  {
   "metadata": {
    "ExecuteTime": {
     "end_time": "2024-11-25T20:25:28.275603Z",
     "start_time": "2024-11-25T20:25:28.232256Z"
    }
   },
   "cell_type": "code",
   "source": [
    "raw_data_small=raw_data[attrs_to_use]\n",
    "def train_and_evaluate_NN(data, epoch=20, lr=0.0001):\n",
    "    X_train, X_test, y_train, y_test,X_scaler,y_scaler = split_train_test(data,True)\n",
    "    X_train_t, X_test_t, y_train_t, y_test_t = get_data_tensors(X_train, X_test, y_train, y_test)\n",
    "    input_size=X_train.shape[1]\n",
    "    model = get_NN_model(input_size)\n",
    "    #optimizer, loss_fn = get_optimizer(model, lr)\n",
    "    history, best_mse, best_weights, model=train_NN(X_train_t, X_test_t, y_train_t, y_test_t, model, None, None, epoch)\n",
    "    y_pred = model(X_test_t)\n",
    "    y_pred=y_pred.detach().numpy()\n",
    "    X_test[X_test.columns]=X_scaler.inverse_transform(X_test_t)\n",
    "    y_test[y_test.columns] =y_scaler.inverse_transform(y_test_t)\n",
    "    y_pred=y_scaler.inverse_transform(y_pred)\n",
    "    eval_df_nn = evaluate_model(X_test, y_test, y_pred)\n",
    "    return model,eval_df_nn,X_scaler,y_scaler,history\n"
   ],
   "id": "f917126543c60abd",
   "outputs": [],
   "execution_count": 33
  },
  {
   "metadata": {
    "ExecuteTime": {
     "end_time": "2024-11-25T21:24:27.821022Z",
     "start_time": "2024-11-25T20:25:29.381916Z"
    }
   },
   "cell_type": "code",
   "source": [
    "model_nn_s,eval_df_nn_s,X_scaler_s,y_scaler, history_s=train_and_evaluate_NN(raw_data_small,20)\n",
    "\n",
    "\n",
    "    "
   ],
   "id": "f203c3532925c649",
   "outputs": [
    {
     "name": "stderr",
     "output_type": "stream",
     "text": [
      "C:\\Users\\ELTE\\AppData\\Local\\Temp\\ipykernel_18172\\3857565312.py:15: SettingWithCopyWarning: \n",
      "A value is trying to be set on a copy of a slice from a DataFrame.\n",
      "Try using .loc[row_indexer,col_indexer] = value instead\n",
      "\n",
      "See the caveats in the documentation: https://pandas.pydata.org/pandas-docs/stable/user_guide/indexing.html#returning-a-view-versus-a-copy\n",
      "  pd_y[pd_y.columns] = y_scaler.fit_transform(pd_y[pd_y.columns])\n"
     ]
    },
    {
     "name": "stdout",
     "output_type": "stream",
     "text": [
      "Epoch: 0 MSE: 3.41435479640495e-05 Best mse inf\n",
      "Epoch: 1 MSE: 3.41435479640495e-05 Best mse 3.41435479640495e-05\n",
      "Epoch: 2 MSE: 3.41435479640495e-05 Best mse 3.41435479640495e-05\n",
      "Epoch: 3 MSE: 3.41435479640495e-05 Best mse 3.41435479640495e-05\n",
      "Epoch: 4 MSE: 3.41435479640495e-05 Best mse 3.41435479640495e-05\n",
      "Epoch: 5 MSE: 3.41435479640495e-05 Best mse 3.41435479640495e-05\n",
      "Epoch: 6 MSE: 3.41435479640495e-05 Best mse 3.41435479640495e-05\n",
      "Epoch: 7 MSE: 3.41435479640495e-05 Best mse 3.41435479640495e-05\n",
      "Epoch: 8 MSE: 3.41435479640495e-05 Best mse 3.41435479640495e-05\n",
      "Epoch: 9 MSE: 3.41435479640495e-05 Best mse 3.41435479640495e-05\n",
      "Epoch: 10 MSE: 3.41435479640495e-05 Best mse 3.41435479640495e-05\n",
      "Epoch: 11 MSE: 3.41435479640495e-05 Best mse 3.41435479640495e-05\n",
      "Epoch: 12 MSE: 3.41435479640495e-05 Best mse 3.41435479640495e-05\n",
      "Epoch: 13 MSE: 3.41435479640495e-05 Best mse 3.41435479640495e-05\n",
      "Epoch: 14 MSE: 3.41435479640495e-05 Best mse 3.41435479640495e-05\n",
      "Epoch: 15 MSE: 3.41435479640495e-05 Best mse 3.41435479640495e-05\n",
      "Epoch: 16 MSE: 3.41435479640495e-05 Best mse 3.41435479640495e-05\n",
      "Epoch: 17 MSE: 3.41435479640495e-05 Best mse 3.41435479640495e-05\n",
      "Epoch: 18 MSE: 3.41435479640495e-05 Best mse 3.41435479640495e-05\n",
      "Epoch: 19 MSE: 3.41435479640495e-05 Best mse 3.41435479640495e-05\n",
      "Epoch: 0 MSE: 2.5696905140648596e-05 Best mse 3.41435479640495e-05\n",
      "Epoch: 1 MSE: 3.657607885543257e-05 Best mse 2.5696905140648596e-05\n",
      "Epoch: 2 MSE: 3.657607885543257e-05 Best mse 2.5696905140648596e-05\n",
      "Epoch: 3 MSE: 3.657607885543257e-05 Best mse 2.5696905140648596e-05\n",
      "Epoch: 4 MSE: 3.657607885543257e-05 Best mse 2.5696905140648596e-05\n",
      "Epoch: 5 MSE: 3.657607885543257e-05 Best mse 2.5696905140648596e-05\n",
      "Epoch: 6 MSE: 3.657607885543257e-05 Best mse 2.5696905140648596e-05\n",
      "Epoch: 7 MSE: 3.657607885543257e-05 Best mse 2.5696905140648596e-05\n",
      "Epoch: 8 MSE: 3.657607885543257e-05 Best mse 2.5696905140648596e-05\n",
      "Epoch: 9 MSE: 3.657607885543257e-05 Best mse 2.5696905140648596e-05\n",
      "Epoch: 10 MSE: 3.657607885543257e-05 Best mse 2.5696905140648596e-05\n",
      "Epoch: 11 MSE: 3.657607885543257e-05 Best mse 2.5696905140648596e-05\n",
      "Epoch: 12 MSE: 3.657607885543257e-05 Best mse 2.5696905140648596e-05\n",
      "Epoch: 13 MSE: 3.657607885543257e-05 Best mse 2.5696905140648596e-05\n",
      "Epoch: 14 MSE: 3.657607885543257e-05 Best mse 2.5696905140648596e-05\n",
      "Epoch: 15 MSE: 3.657607885543257e-05 Best mse 2.5696905140648596e-05\n",
      "Epoch: 16 MSE: 3.657607885543257e-05 Best mse 2.5696905140648596e-05\n",
      "Epoch: 17 MSE: 3.657607885543257e-05 Best mse 2.5696905140648596e-05\n",
      "Epoch: 18 MSE: 3.657607885543257e-05 Best mse 2.5696905140648596e-05\n",
      "Epoch: 19 MSE: 3.657607885543257e-05 Best mse 2.5696905140648596e-05\n",
      "Epoch: 0 MSE: 2.628055153763853e-05 Best mse 2.5696905140648596e-05\n",
      "Epoch: 1 MSE: 2.5777591872611083e-05 Best mse 2.5696905140648596e-05\n",
      "Epoch: 2 MSE: 2.5774223104235716e-05 Best mse 2.5696905140648596e-05\n",
      "Epoch: 3 MSE: 2.603546090540476e-05 Best mse 2.5696905140648596e-05\n",
      "Epoch: 4 MSE: 2.6050729502458125e-05 Best mse 2.5696905140648596e-05\n",
      "Epoch: 5 MSE: 2.6880090445047244e-05 Best mse 2.5696905140648596e-05\n",
      "Epoch: 6 MSE: 2.7840409529744647e-05 Best mse 2.5696905140648596e-05\n",
      "Epoch: 7 MSE: 2.7257665351498872e-05 Best mse 2.5696905140648596e-05\n",
      "Epoch: 8 MSE: 2.8141526854597032e-05 Best mse 2.5696905140648596e-05\n",
      "Epoch: 9 MSE: 2.77870349236764e-05 Best mse 2.5696905140648596e-05\n",
      "Epoch: 10 MSE: 2.7888612748938613e-05 Best mse 2.5696905140648596e-05\n",
      "Epoch: 11 MSE: 2.7880087145604193e-05 Best mse 2.5696905140648596e-05\n",
      "Epoch: 12 MSE: 2.7879630579263903e-05 Best mse 2.5696905140648596e-05\n",
      "Epoch: 13 MSE: 2.7511010557645932e-05 Best mse 2.5696905140648596e-05\n",
      "Epoch: 14 MSE: 2.6393705411464907e-05 Best mse 2.5696905140648596e-05\n",
      "Epoch: 15 MSE: 2.5940775230992585e-05 Best mse 2.5696905140648596e-05\n",
      "Epoch: 16 MSE: 2.5856110369204544e-05 Best mse 2.5696905140648596e-05\n",
      "Epoch: 17 MSE: 2.6203471861663274e-05 Best mse 2.5696905140648596e-05\n",
      "Epoch: 18 MSE: 2.6662681193556637e-05 Best mse 2.5696905140648596e-05\n",
      "Epoch: 19 MSE: 2.6511890609981492e-05 Best mse 2.5696905140648596e-05\n"
     ]
    }
   ],
   "execution_count": 34
  },
  {
   "metadata": {
    "ExecuteTime": {
     "end_time": "2024-11-25T21:26:56.391356Z",
     "start_time": "2024-11-25T21:26:55.259824Z"
    }
   },
   "cell_type": "code",
   "source": [
    "save_NN(model_nn_s,X_scaler_s,y_scaler,history_s,'Small')\n",
    "\n"
   ],
   "id": "5d140d8a24b2288b",
   "outputs": [
    {
     "data": {
      "text/plain": [
       "<Figure size 640x480 with 1 Axes>"
      ],
      "image/png": "[encoded data removed]"
     },
     "metadata": {},
     "output_type": "display_data"
    }
   ],
   "execution_count": 35
  },
  {
   "metadata": {
    "ExecuteTime": {
     "end_time": "2024-11-25T21:27:11.959212Z",
     "start_time": "2024-11-25T21:27:11.949096Z"
    }
   },
   "cell_type": "code",
   "source": "eval_df_nn_s.head()",
   "id": "f9c53c32014a47cd",
   "outputs": [
    {
     "data": {
      "text/plain": [
       "         TERV_IDOTARTAM (m)         KESES  predictions      Tény      Pred  \\\n",
       "1096781                 1.0 -2.833336e-01    -0.093632  0.716666  0.906368   \n",
       "1016002                 1.0  2.833343e-01     0.158543  1.283334  1.158544   \n",
       "53208                   2.0 -6.666564e-02     0.946883  1.933334  2.946883   \n",
       "1032627                 1.0 -1.999996e-01     0.007799  0.800000  1.007799   \n",
       "830943                  3.0  3.164013e-07     0.248797  3.000000  3.248798   \n",
       "\n",
       "                PE       MAPE           PE1         MAPE1  \n",
       "1096781 -26.470010  26.470010  6.695345e+01  6.695345e+01  \n",
       "1016002   9.723950   9.723950  4.404366e+01  4.404366e+01  \n",
       "53208   -52.424911  52.424911  1.520347e+03  1.520347e+03  \n",
       "1032627 -25.974796  25.974796  1.038994e+02  1.038994e+02  \n",
       "830943   -8.293236   8.293236 -7.863340e+07  7.863340e+07  "
      ],
      "text/html": [
       "<div>\n",
       "<style scoped>\n",
       "    .dataframe tbody tr th:only-of-type {\n",
       "        vertical-align: middle;\n",
       "    }\n",
       "\n",
       "    .dataframe tbody tr th {\n",
       "        vertical-align: top;\n",
       "    }\n",
       "\n",
       "    .dataframe thead th {\n",
       "        text-align: right;\n",
       "    }\n",
       "</style>\n",
       "<table border=\"1\" class=\"dataframe\">\n",
       "  <thead>\n",
       "    <tr style=\"text-align: right;\">\n",
       "      <th></th>\n",
       "      <th>TERV_IDOTARTAM (m)</th>\n",
       "      <th>KESES</th>\n",
       "      <th>predictions</th>\n",
       "      <th>Tény</th>\n",
       "      <th>Pred</th>\n",
       "      <th>PE</th>\n",
       "      <th>MAPE</th>\n",
       "      <th>PE1</th>\n",
       "      <th>MAPE1</th>\n",
       "    </tr>\n",
       "  </thead>\n",
       "  <tbody>\n",
       "    <tr>\n",
       "      <th>1096781</th>\n",
       "      <td>1.0</td>\n",
       "      <td>-2.833336e-01</td>\n",
       "      <td>-0.093632</td>\n",
       "      <td>0.716666</td>\n",
       "      <td>0.906368</td>\n",
       "      <td>-26.470010</td>\n",
       "      <td>26.470010</td>\n",
       "      <td>6.695345e+01</td>\n",
       "      <td>6.695345e+01</td>\n",
       "    </tr>\n",
       "    <tr>\n",
       "      <th>1016002</th>\n",
       "      <td>1.0</td>\n",
       "      <td>2.833343e-01</td>\n",
       "      <td>0.158543</td>\n",
       "      <td>1.283334</td>\n",
       "      <td>1.158544</td>\n",
       "      <td>9.723950</td>\n",
       "      <td>9.723950</td>\n",
       "      <td>4.404366e+01</td>\n",
       "      <td>4.404366e+01</td>\n",
       "    </tr>\n",
       "    <tr>\n",
       "      <th>53208</th>\n",
       "      <td>2.0</td>\n",
       "      <td>-6.666564e-02</td>\n",
       "      <td>0.946883</td>\n",
       "      <td>1.933334</td>\n",
       "      <td>2.946883</td>\n",
       "      <td>-52.424911</td>\n",
       "      <td>52.424911</td>\n",
       "      <td>1.520347e+03</td>\n",
       "      <td>1.520347e+03</td>\n",
       "    </tr>\n",
       "    <tr>\n",
       "      <th>1032627</th>\n",
       "      <td>1.0</td>\n",
       "      <td>-1.999996e-01</td>\n",
       "      <td>0.007799</td>\n",
       "      <td>0.800000</td>\n",
       "      <td>1.007799</td>\n",
       "      <td>-25.974796</td>\n",
       "      <td>25.974796</td>\n",
       "      <td>1.038994e+02</td>\n",
       "      <td>1.038994e+02</td>\n",
       "    </tr>\n",
       "    <tr>\n",
       "      <th>830943</th>\n",
       "      <td>3.0</td>\n",
       "      <td>3.164013e-07</td>\n",
       "      <td>0.248797</td>\n",
       "      <td>3.000000</td>\n",
       "      <td>3.248798</td>\n",
       "      <td>-8.293236</td>\n",
       "      <td>8.293236</td>\n",
       "      <td>-7.863340e+07</td>\n",
       "      <td>7.863340e+07</td>\n",
       "    </tr>\n",
       "  </tbody>\n",
       "</table>\n",
       "</div>"
      ]
     },
     "execution_count": 36,
     "metadata": {},
     "output_type": "execute_result"
    }
   ],
   "execution_count": 36
  },
  {
   "metadata": {
    "ExecuteTime": {
     "end_time": "2024-11-25T21:27:12.909096Z",
     "start_time": "2024-11-25T21:27:12.904558Z"
    }
   },
   "cell_type": "code",
   "source": "",
   "id": "89a66106afddd148",
   "outputs": [],
   "execution_count": 36
  },
  {
   "metadata": {
    "ExecuteTime": {
     "end_time": "2024-11-25T21:27:13.480702Z",
     "start_time": "2024-11-25T21:27:13.432919Z"
    }
   },
   "cell_type": "code",
   "source": "eval_df_nn_s[['MAPE','MAPE1']].describe()",
   "id": "f2eabb8c0eb59c71",
   "outputs": [
    {
     "data": {
      "text/plain": [
       "               MAPE         MAPE1\n",
       "count  3.347450e+05  3.347450e+05\n",
       "mean   8.957245e+03  2.942559e+06\n",
       "std    1.335253e+06  2.160184e+07\n",
       "min    6.223986e-05  5.493332e-04\n",
       "25%    6.226832e+00  4.523875e+01\n",
       "50%    1.494601e+01  7.624991e+01\n",
       "75%    3.200387e+01  1.394789e+02\n",
       "max    2.748233e+08  8.690156e+08"
      ],
      "text/html": [
       "<div>\n",
       "<style scoped>\n",
       "    .dataframe tbody tr th:only-of-type {\n",
       "        vertical-align: middle;\n",
       "    }\n",
       "\n",
       "    .dataframe tbody tr th {\n",
       "        vertical-align: top;\n",
       "    }\n",
       "\n",
       "    .dataframe thead th {\n",
       "        text-align: right;\n",
       "    }\n",
       "</style>\n",
       "<table border=\"1\" class=\"dataframe\">\n",
       "  <thead>\n",
       "    <tr style=\"text-align: right;\">\n",
       "      <th></th>\n",
       "      <th>MAPE</th>\n",
       "      <th>MAPE1</th>\n",
       "    </tr>\n",
       "  </thead>\n",
       "  <tbody>\n",
       "    <tr>\n",
       "      <th>count</th>\n",
       "      <td>3.347450e+05</td>\n",
       "      <td>3.347450e+05</td>\n",
       "    </tr>\n",
       "    <tr>\n",
       "      <th>mean</th>\n",
       "      <td>8.957245e+03</td>\n",
       "      <td>2.942559e+06</td>\n",
       "    </tr>\n",
       "    <tr>\n",
       "      <th>std</th>\n",
       "      <td>1.335253e+06</td>\n",
       "      <td>2.160184e+07</td>\n",
       "    </tr>\n",
       "    <tr>\n",
       "      <th>min</th>\n",
       "      <td>6.223986e-05</td>\n",
       "      <td>5.493332e-04</td>\n",
       "    </tr>\n",
       "    <tr>\n",
       "      <th>25%</th>\n",
       "      <td>6.226832e+00</td>\n",
       "      <td>4.523875e+01</td>\n",
       "    </tr>\n",
       "    <tr>\n",
       "      <th>50%</th>\n",
       "      <td>1.494601e+01</td>\n",
       "      <td>7.624991e+01</td>\n",
       "    </tr>\n",
       "    <tr>\n",
       "      <th>75%</th>\n",
       "      <td>3.200387e+01</td>\n",
       "      <td>1.394789e+02</td>\n",
       "    </tr>\n",
       "    <tr>\n",
       "      <th>max</th>\n",
       "      <td>2.748233e+08</td>\n",
       "      <td>8.690156e+08</td>\n",
       "    </tr>\n",
       "  </tbody>\n",
       "</table>\n",
       "</div>"
      ]
     },
     "execution_count": 37,
     "metadata": {},
     "output_type": "execute_result"
    }
   ],
   "execution_count": 37
  },
  {
   "metadata": {
    "ExecuteTime": {
     "end_time": "2024-11-25T21:27:18.412814Z",
     "start_time": "2024-11-25T21:27:18.405372Z"
    }
   },
   "cell_type": "code",
   "source": "del model_nn_s",
   "id": "f9efbb39d62c1a80",
   "outputs": [],
   "execution_count": 38
  },
  {
   "metadata": {
    "ExecuteTime": {
     "end_time": "2024-11-25T21:27:19.389430Z",
     "start_time": "2024-11-25T21:27:19.359521Z"
    }
   },
   "cell_type": "code",
   "source": [
    "del raw_data_small\n",
    "del raw_data\n",
    "    "
   ],
   "id": "b21aedb69a8a911d",
   "outputs": [],
   "execution_count": 39
  },
  {
   "metadata": {},
   "cell_type": "markdown",
   "source": "# loading the models and validate them",
   "id": "ac6ad6ec80a8c924"
  },
  {
   "metadata": {
    "ExecuteTime": {
     "end_time": "2024-11-26T05:33:10.868966Z",
     "start_time": "2024-11-26T05:33:10.863538Z"
    }
   },
   "cell_type": "code",
   "source": [
    "import pandas as pd\n",
    "from config import data_root"
   ],
   "id": "5c98b2db76a597a1",
   "outputs": [],
   "execution_count": 23
  },
  {
   "metadata": {},
   "cell_type": "markdown",
   "source": "",
   "id": "54e578f30c335ea"
  },
  {
   "metadata": {
    "ExecuteTime": {
     "end_time": "2024-11-26T05:33:14.032882Z",
     "start_time": "2024-11-26T05:33:12.392192Z"
    }
   },
   "cell_type": "code",
   "source": [
    "validation_data=pd.read_csv(data_root+'validation_data.csv')\n",
    "y=validation_data['KESES']\n",
    "X=validation_data.drop(columns=['KESES','RELATIV_KESES'])\n",
    "X_additional=X[['VONATSZAM','KOZLEKEDESI_NAP']]\n",
    "X.drop(columns=['VONATSZAM','KOZLEKEDESI_NAP'], inplace=True)\n",
    "if 'KESES' in attrs_to_use:\n",
    "    attrs_to_use.remove('KESES')\n",
    "X_small=X[attrs_to_use]\n",
    "\n",
    "\n",
    "\n"
   ],
   "id": "33f75d5b5b54f65f",
   "outputs": [],
   "execution_count": 24
  },
  {
   "metadata": {
    "ExecuteTime": {
     "end_time": "2024-11-26T07:04:33.394828Z",
     "start_time": "2024-11-26T07:04:33.334371Z"
    }
   },
   "cell_type": "code",
   "source": [
    "#model/data_desc/model_desc\n",
    "base_RT = load_sk_by_desc('RT','base','Base')['model']\n",
    "small_RT = load_sk_by_desc('RT','base','Small')['model']\n"
   ],
   "id": "733f7e3ea67c2ff7",
   "outputs": [],
   "execution_count": 75
  },
  {
   "metadata": {
    "ExecuteTime": {
     "end_time": "2024-11-26T07:04:52.746813Z",
     "start_time": "2024-11-26T07:04:52.734410Z"
    }
   },
   "cell_type": "code",
   "source": "base_RT.feature_names_in_",
   "id": "9fb5d752f1949927",
   "outputs": [
    {
     "data": {
      "text/plain": [
       "array(['MENETREND_IDO', 'ELOZO_KESES', 'TERV_IDOTARTAM (m)', 'tx', 't',\n",
       "       'tn', 'r', 'Érintett objektum típusa', 'Lassúmenet típusa',\n",
       "       'Lassúmenet hossza', 'Lassúmenet mértéke (km/h)',\n",
       "       'Lassúmenet mértéke motorvonatra (km/h)', 'Fels.vez. kikapcsolása',\n",
       "       'I', 'E', 'ÁI', 'ÁE', 'Kizárás (1=VZ,2=LJ)',\n",
       "       'Kiutalt menetvonalak zavartatása nélkül', 'Státus',\n",
       "       'ELOZO VONAT KESES', 'ELOZO VONAT RELATIV KESES',\n",
       "       'VONAL STATUSZ VALTOZOTT'], dtype=object)"
      ]
     },
     "execution_count": 76,
     "metadata": {},
     "output_type": "execute_result"
    }
   ],
   "execution_count": 76
  },
  {
   "metadata": {
    "ExecuteTime": {
     "end_time": "2024-11-26T07:05:18.290369Z",
     "start_time": "2024-11-26T07:05:18.284126Z"
    }
   },
   "cell_type": "code",
   "source": "small_RT.feature_names_in_\n",
   "id": "c7795dd5cae14b0e",
   "outputs": [
    {
     "data": {
      "text/plain": [
       "array(['MENETREND_IDO', 'ELOZO_KESES', 'tx', 't', 'tn', 'r',\n",
       "       'TERV_IDOTARTAM (m)', 'ELOZO VONAT KESES',\n",
       "       'ELOZO VONAT RELATIV KESES'], dtype=object)"
      ]
     },
     "execution_count": 77,
     "metadata": {},
     "output_type": "execute_result"
    }
   ],
   "execution_count": 77
  },
  {
   "metadata": {
    "ExecuteTime": {
     "end_time": "2024-11-26T05:33:15.373086Z",
     "start_time": "2024-11-26T05:33:15.325258Z"
    }
   },
   "cell_type": "code",
   "source": [
    "y_pred_dt_base=small_RT.predict(X_small)\n",
    "#small_RT_res=evaluate_model(X_small,y,y_pred)\n",
    "\n"
   ],
   "id": "4f9ad000d7a65ca0",
   "outputs": [],
   "execution_count": 26
  },
  {
   "metadata": {
    "ExecuteTime": {
     "end_time": "2024-11-26T05:33:16.638709Z",
     "start_time": "2024-11-26T05:33:16.573785Z"
    }
   },
   "cell_type": "code",
   "source": [
    "y_pred_dt_small=base_RT.predict(X)\n",
    "#base_RT_res=evaluate_model(X,y,y_pred)"
   ],
   "id": "b4c38c5d42904048",
   "outputs": [],
   "execution_count": 27
  },
  {
   "metadata": {
    "ExecuteTime": {
     "end_time": "2024-11-26T05:33:19.304390Z",
     "start_time": "2024-11-26T05:33:19.298428Z"
    }
   },
   "cell_type": "code",
   "source": [
    "del small_RT\n",
    "del base_RT"
   ],
   "id": "517f2fda2c1eb90d",
   "outputs": [],
   "execution_count": 28
  },
  {
   "metadata": {
    "ExecuteTime": {
     "end_time": "2024-11-26T05:33:20.762638Z",
     "start_time": "2024-11-26T05:33:20.747690Z"
    }
   },
   "cell_type": "code",
   "source": "validation_data.head()",
   "id": "b4b5b7ed285f3685",
   "outputs": [
    {
     "data": {
      "text/plain": [
       "   VONATSZAM  MENETREND_IDO  ELOZO_KESES     KESES  RELATIV_KESES  \\\n",
       "0       2019          241.0     1.166667 -0.216667      -0.216667   \n",
       "1       2019          245.0     1.716667  0.133333       0.133333   \n",
       "2       2019          250.0     1.800000 -0.433333      -0.433333   \n",
       "3       2019          256.0     2.366667 -0.383333      -0.383333   \n",
       "4       2019          261.0     2.300000  0.416667       0.416667   \n",
       "\n",
       "   TERV_IDOTARTAM (m)    tx     t   tn    r  ...    E   ÁI   ÁE  \\\n",
       "0                 1.0  14.1  12.2  7.7  0.0  ...  0.0  0.0  0.0   \n",
       "1                 1.0  14.1  12.2  7.7  0.0  ...  0.0  0.0  0.0   \n",
       "2                 1.0  14.1  12.2  7.7  0.0  ...  0.0  0.0  0.0   \n",
       "3                 1.0  14.1  12.2  7.7  0.0  ...  0.0  0.0  0.0   \n",
       "4                 1.0  14.1  12.2  7.7  0.0  ...  0.0  0.0  0.0   \n",
       "\n",
       "   Kizárás (1=VZ,2=LJ)  Kiutalt menetvonalak zavartatása nélkül  Státus  \\\n",
       "0                  0.0                                      0.0     0.0   \n",
       "1                  0.0                                      0.0     0.0   \n",
       "2                  0.0                                      0.0     0.0   \n",
       "3                  0.0                                      0.0     0.0   \n",
       "4                  0.0                                      0.0     0.0   \n",
       "\n",
       "   ELOZO VONAT KESES  ELOZO VONAT RELATIV KESES  VONAL STATUSZ VALTOZOTT  \\\n",
       "0          -0.550000                  -0.550000                      0.0   \n",
       "1           0.066667                   0.066667                      0.0   \n",
       "2          -0.600000                  -0.600000                      0.0   \n",
       "3          -0.583333                  -0.583333                      0.0   \n",
       "4          -0.350000                  -0.350000                      0.0   \n",
       "\n",
       "   KOZLEKEDESI_NAP  \n",
       "0       2022-01-01  \n",
       "1       2022-01-01  \n",
       "2       2022-01-01  \n",
       "3       2022-01-01  \n",
       "4       2022-01-01  \n",
       "\n",
       "[5 rows x 27 columns]"
      ],
      "text/html": [
       "<div>\n",
       "<style scoped>\n",
       "    .dataframe tbody tr th:only-of-type {\n",
       "        vertical-align: middle;\n",
       "    }\n",
       "\n",
       "    .dataframe tbody tr th {\n",
       "        vertical-align: top;\n",
       "    }\n",
       "\n",
       "    .dataframe thead th {\n",
       "        text-align: right;\n",
       "    }\n",
       "</style>\n",
       "<table border=\"1\" class=\"dataframe\">\n",
       "  <thead>\n",
       "    <tr style=\"text-align: right;\">\n",
       "      <th></th>\n",
       "      <th>VONATSZAM</th>\n",
       "      <th>MENETREND_IDO</th>\n",
       "      <th>ELOZO_KESES</th>\n",
       "      <th>KESES</th>\n",
       "      <th>RELATIV_KESES</th>\n",
       "      <th>TERV_IDOTARTAM (m)</th>\n",
       "      <th>tx</th>\n",
       "      <th>t</th>\n",
       "      <th>tn</th>\n",
       "      <th>r</th>\n",
       "      <th>...</th>\n",
       "      <th>E</th>\n",
       "      <th>ÁI</th>\n",
       "      <th>ÁE</th>\n",
       "      <th>Kizárás (1=VZ,2=LJ)</th>\n",
       "      <th>Kiutalt menetvonalak zavartatása nélkül</th>\n",
       "      <th>Státus</th>\n",
       "      <th>ELOZO VONAT KESES</th>\n",
       "      <th>ELOZO VONAT RELATIV KESES</th>\n",
       "      <th>VONAL STATUSZ VALTOZOTT</th>\n",
       "      <th>KOZLEKEDESI_NAP</th>\n",
       "    </tr>\n",
       "  </thead>\n",
       "  <tbody>\n",
       "    <tr>\n",
       "      <th>0</th>\n",
       "      <td>2019</td>\n",
       "      <td>241.0</td>\n",
       "      <td>1.166667</td>\n",
       "      <td>-0.216667</td>\n",
       "      <td>-0.216667</td>\n",
       "      <td>1.0</td>\n",
       "      <td>14.1</td>\n",
       "      <td>12.2</td>\n",
       "      <td>7.7</td>\n",
       "      <td>0.0</td>\n",
       "      <td>...</td>\n",
       "      <td>0.0</td>\n",
       "      <td>0.0</td>\n",
       "      <td>0.0</td>\n",
       "      <td>0.0</td>\n",
       "      <td>0.0</td>\n",
       "      <td>0.0</td>\n",
       "      <td>-0.550000</td>\n",
       "      <td>-0.550000</td>\n",
       "      <td>0.0</td>\n",
       "      <td>2022-01-01</td>\n",
       "    </tr>\n",
       "    <tr>\n",
       "      <th>1</th>\n",
       "      <td>2019</td>\n",
       "      <td>245.0</td>\n",
       "      <td>1.716667</td>\n",
       "      <td>0.133333</td>\n",
       "      <td>0.133333</td>\n",
       "      <td>1.0</td>\n",
       "      <td>14.1</td>\n",
       "      <td>12.2</td>\n",
       "      <td>7.7</td>\n",
       "      <td>0.0</td>\n",
       "      <td>...</td>\n",
       "      <td>0.0</td>\n",
       "      <td>0.0</td>\n",
       "      <td>0.0</td>\n",
       "      <td>0.0</td>\n",
       "      <td>0.0</td>\n",
       "      <td>0.0</td>\n",
       "      <td>0.066667</td>\n",
       "      <td>0.066667</td>\n",
       "      <td>0.0</td>\n",
       "      <td>2022-01-01</td>\n",
       "    </tr>\n",
       "    <tr>\n",
       "      <th>2</th>\n",
       "      <td>2019</td>\n",
       "      <td>250.0</td>\n",
       "      <td>1.800000</td>\n",
       "      <td>-0.433333</td>\n",
       "      <td>-0.433333</td>\n",
       "      <td>1.0</td>\n",
       "      <td>14.1</td>\n",
       "      <td>12.2</td>\n",
       "      <td>7.7</td>\n",
       "      <td>0.0</td>\n",
       "      <td>...</td>\n",
       "      <td>0.0</td>\n",
       "      <td>0.0</td>\n",
       "      <td>0.0</td>\n",
       "      <td>0.0</td>\n",
       "      <td>0.0</td>\n",
       "      <td>0.0</td>\n",
       "      <td>-0.600000</td>\n",
       "      <td>-0.600000</td>\n",
       "      <td>0.0</td>\n",
       "      <td>2022-01-01</td>\n",
       "    </tr>\n",
       "    <tr>\n",
       "      <th>3</th>\n",
       "      <td>2019</td>\n",
       "      <td>256.0</td>\n",
       "      <td>2.366667</td>\n",
       "      <td>-0.383333</td>\n",
       "      <td>-0.383333</td>\n",
       "      <td>1.0</td>\n",
       "      <td>14.1</td>\n",
       "      <td>12.2</td>\n",
       "      <td>7.7</td>\n",
       "      <td>0.0</td>\n",
       "      <td>...</td>\n",
       "      <td>0.0</td>\n",
       "      <td>0.0</td>\n",
       "      <td>0.0</td>\n",
       "      <td>0.0</td>\n",
       "      <td>0.0</td>\n",
       "      <td>0.0</td>\n",
       "      <td>-0.583333</td>\n",
       "      <td>-0.583333</td>\n",
       "      <td>0.0</td>\n",
       "      <td>2022-01-01</td>\n",
       "    </tr>\n",
       "    <tr>\n",
       "      <th>4</th>\n",
       "      <td>2019</td>\n",
       "      <td>261.0</td>\n",
       "      <td>2.300000</td>\n",
       "      <td>0.416667</td>\n",
       "      <td>0.416667</td>\n",
       "      <td>1.0</td>\n",
       "      <td>14.1</td>\n",
       "      <td>12.2</td>\n",
       "      <td>7.7</td>\n",
       "      <td>0.0</td>\n",
       "      <td>...</td>\n",
       "      <td>0.0</td>\n",
       "      <td>0.0</td>\n",
       "      <td>0.0</td>\n",
       "      <td>0.0</td>\n",
       "      <td>0.0</td>\n",
       "      <td>0.0</td>\n",
       "      <td>-0.350000</td>\n",
       "      <td>-0.350000</td>\n",
       "      <td>0.0</td>\n",
       "      <td>2022-01-01</td>\n",
       "    </tr>\n",
       "  </tbody>\n",
       "</table>\n",
       "<p>5 rows × 27 columns</p>\n",
       "</div>"
      ]
     },
     "execution_count": 29,
     "metadata": {},
     "output_type": "execute_result"
    }
   ],
   "execution_count": 29
  },
  {
   "metadata": {
    "ExecuteTime": {
     "end_time": "2024-11-26T05:33:31.074936Z",
     "start_time": "2024-11-26T05:33:31.026746Z"
    }
   },
   "cell_type": "code",
   "source": [
    "import torch\n",
    "base_X_scaler=load_sk_by_desc('X_scaler','base','base')['model']\n",
    "base_y_scaler=load_sk_by_desc('y_scaler','base','base')['model']\n",
    "\n",
    "X_t = torch.tensor(base_X_scaler.transform(X), dtype=torch.float32)\n",
    "nn_base=load_NN('./model/NN/base/base/')['model']\n",
    "y_pred_nn_base=base_y_scaler.inverse_transform(nn_base(X_t).detach().numpy())\n",
    "del base_X_scaler\n",
    "del base_y_scaler\n",
    "del nn_base\n",
    "del X_t\n"
   ],
   "id": "c0030a6a75dfbe3f",
   "outputs": [
    {
     "ename": "ValueError",
     "evalue": "The feature names should match those that were passed during fit.\nFeature names seen at fit time, yet now missing:\n- RELATIV_KESES\n",
     "output_type": "error",
     "traceback": [
      "\u001B[1;31m---------------------------------------------------------------------------\u001B[0m",
      "\u001B[1;31mValueError\u001B[0m                                Traceback (most recent call last)",
      "Cell \u001B[1;32mIn[30], line 5\u001B[0m\n\u001B[0;32m      2\u001B[0m base_X_scaler\u001B[38;5;241m=\u001B[39mload_sk_by_desc(\u001B[38;5;124m'\u001B[39m\u001B[38;5;124mX_scaler\u001B[39m\u001B[38;5;124m'\u001B[39m,\u001B[38;5;124m'\u001B[39m\u001B[38;5;124mbase\u001B[39m\u001B[38;5;124m'\u001B[39m,\u001B[38;5;124m'\u001B[39m\u001B[38;5;124mbase\u001B[39m\u001B[38;5;124m'\u001B[39m)[\u001B[38;5;124m'\u001B[39m\u001B[38;5;124mmodel\u001B[39m\u001B[38;5;124m'\u001B[39m]\n\u001B[0;32m      3\u001B[0m base_y_scaler\u001B[38;5;241m=\u001B[39mload_sk_by_desc(\u001B[38;5;124m'\u001B[39m\u001B[38;5;124my_scaler\u001B[39m\u001B[38;5;124m'\u001B[39m,\u001B[38;5;124m'\u001B[39m\u001B[38;5;124mbase\u001B[39m\u001B[38;5;124m'\u001B[39m,\u001B[38;5;124m'\u001B[39m\u001B[38;5;124mbase\u001B[39m\u001B[38;5;124m'\u001B[39m)[\u001B[38;5;124m'\u001B[39m\u001B[38;5;124mmodel\u001B[39m\u001B[38;5;124m'\u001B[39m]\n\u001B[1;32m----> 5\u001B[0m X_t \u001B[38;5;241m=\u001B[39m torch\u001B[38;5;241m.\u001B[39mtensor(base_X_scaler\u001B[38;5;241m.\u001B[39mtransform(X), dtype\u001B[38;5;241m=\u001B[39mtorch\u001B[38;5;241m.\u001B[39mfloat32)\n\u001B[0;32m      6\u001B[0m nn_base\u001B[38;5;241m=\u001B[39mload_NN(\u001B[38;5;124m'\u001B[39m\u001B[38;5;124m./model/NN/base/base/\u001B[39m\u001B[38;5;124m'\u001B[39m)[\u001B[38;5;124m'\u001B[39m\u001B[38;5;124mmodel\u001B[39m\u001B[38;5;124m'\u001B[39m]\n\u001B[0;32m      7\u001B[0m y_pred_nn_base\u001B[38;5;241m=\u001B[39mbase_y_scaler\u001B[38;5;241m.\u001B[39minverse_transform(nn_base(X_t)\u001B[38;5;241m.\u001B[39mdetach()\u001B[38;5;241m.\u001B[39mnumpy())\n",
      "File \u001B[1;32m~\\miniconda3\\envs\\gtfs_env_311\\Lib\\site-packages\\sklearn\\utils\\_set_output.py:313\u001B[0m, in \u001B[0;36m_wrap_method_output.<locals>.wrapped\u001B[1;34m(self, X, *args, **kwargs)\u001B[0m\n\u001B[0;32m    311\u001B[0m \u001B[38;5;129m@wraps\u001B[39m(f)\n\u001B[0;32m    312\u001B[0m \u001B[38;5;28;01mdef\u001B[39;00m \u001B[38;5;21mwrapped\u001B[39m(\u001B[38;5;28mself\u001B[39m, X, \u001B[38;5;241m*\u001B[39margs, \u001B[38;5;241m*\u001B[39m\u001B[38;5;241m*\u001B[39mkwargs):\n\u001B[1;32m--> 313\u001B[0m     data_to_wrap \u001B[38;5;241m=\u001B[39m f(\u001B[38;5;28mself\u001B[39m, X, \u001B[38;5;241m*\u001B[39margs, \u001B[38;5;241m*\u001B[39m\u001B[38;5;241m*\u001B[39mkwargs)\n\u001B[0;32m    314\u001B[0m     \u001B[38;5;28;01mif\u001B[39;00m \u001B[38;5;28misinstance\u001B[39m(data_to_wrap, \u001B[38;5;28mtuple\u001B[39m):\n\u001B[0;32m    315\u001B[0m         \u001B[38;5;66;03m# only wrap the first output for cross decomposition\u001B[39;00m\n\u001B[0;32m    316\u001B[0m         return_tuple \u001B[38;5;241m=\u001B[39m (\n\u001B[0;32m    317\u001B[0m             _wrap_data_with_container(method, data_to_wrap[\u001B[38;5;241m0\u001B[39m], X, \u001B[38;5;28mself\u001B[39m),\n\u001B[0;32m    318\u001B[0m             \u001B[38;5;241m*\u001B[39mdata_to_wrap[\u001B[38;5;241m1\u001B[39m:],\n\u001B[0;32m    319\u001B[0m         )\n",
      "File \u001B[1;32m~\\miniconda3\\envs\\gtfs_env_311\\Lib\\site-packages\\sklearn\\preprocessing\\_data.py:534\u001B[0m, in \u001B[0;36mMinMaxScaler.transform\u001B[1;34m(self, X)\u001B[0m\n\u001B[0;32m    530\u001B[0m check_is_fitted(\u001B[38;5;28mself\u001B[39m)\n\u001B[0;32m    532\u001B[0m xp, _ \u001B[38;5;241m=\u001B[39m get_namespace(X)\n\u001B[1;32m--> 534\u001B[0m X \u001B[38;5;241m=\u001B[39m \u001B[38;5;28mself\u001B[39m\u001B[38;5;241m.\u001B[39m_validate_data(\n\u001B[0;32m    535\u001B[0m     X,\n\u001B[0;32m    536\u001B[0m     copy\u001B[38;5;241m=\u001B[39m\u001B[38;5;28mself\u001B[39m\u001B[38;5;241m.\u001B[39mcopy,\n\u001B[0;32m    537\u001B[0m     dtype\u001B[38;5;241m=\u001B[39m_array_api\u001B[38;5;241m.\u001B[39msupported_float_dtypes(xp),\n\u001B[0;32m    538\u001B[0m     force_writeable\u001B[38;5;241m=\u001B[39m\u001B[38;5;28;01mTrue\u001B[39;00m,\n\u001B[0;32m    539\u001B[0m     force_all_finite\u001B[38;5;241m=\u001B[39m\u001B[38;5;124m\"\u001B[39m\u001B[38;5;124mallow-nan\u001B[39m\u001B[38;5;124m\"\u001B[39m,\n\u001B[0;32m    540\u001B[0m     reset\u001B[38;5;241m=\u001B[39m\u001B[38;5;28;01mFalse\u001B[39;00m,\n\u001B[0;32m    541\u001B[0m )\n\u001B[0;32m    543\u001B[0m X \u001B[38;5;241m*\u001B[39m\u001B[38;5;241m=\u001B[39m \u001B[38;5;28mself\u001B[39m\u001B[38;5;241m.\u001B[39mscale_\n\u001B[0;32m    544\u001B[0m X \u001B[38;5;241m+\u001B[39m\u001B[38;5;241m=\u001B[39m \u001B[38;5;28mself\u001B[39m\u001B[38;5;241m.\u001B[39mmin_\n",
      "File \u001B[1;32m~\\miniconda3\\envs\\gtfs_env_311\\Lib\\site-packages\\sklearn\\base.py:608\u001B[0m, in \u001B[0;36mBaseEstimator._validate_data\u001B[1;34m(self, X, y, reset, validate_separately, cast_to_ndarray, **check_params)\u001B[0m\n\u001B[0;32m    537\u001B[0m \u001B[38;5;28;01mdef\u001B[39;00m \u001B[38;5;21m_validate_data\u001B[39m(\n\u001B[0;32m    538\u001B[0m     \u001B[38;5;28mself\u001B[39m,\n\u001B[0;32m    539\u001B[0m     X\u001B[38;5;241m=\u001B[39m\u001B[38;5;124m\"\u001B[39m\u001B[38;5;124mno_validation\u001B[39m\u001B[38;5;124m\"\u001B[39m,\n\u001B[1;32m   (...)\u001B[0m\n\u001B[0;32m    544\u001B[0m     \u001B[38;5;241m*\u001B[39m\u001B[38;5;241m*\u001B[39mcheck_params,\n\u001B[0;32m    545\u001B[0m ):\n\u001B[0;32m    546\u001B[0m \u001B[38;5;250m    \u001B[39m\u001B[38;5;124;03m\"\"\"Validate input data and set or check the `n_features_in_` attribute.\u001B[39;00m\n\u001B[0;32m    547\u001B[0m \n\u001B[0;32m    548\u001B[0m \u001B[38;5;124;03m    Parameters\u001B[39;00m\n\u001B[1;32m   (...)\u001B[0m\n\u001B[0;32m    606\u001B[0m \u001B[38;5;124;03m        validated.\u001B[39;00m\n\u001B[0;32m    607\u001B[0m \u001B[38;5;124;03m    \"\"\"\u001B[39;00m\n\u001B[1;32m--> 608\u001B[0m     \u001B[38;5;28mself\u001B[39m\u001B[38;5;241m.\u001B[39m_check_feature_names(X, reset\u001B[38;5;241m=\u001B[39mreset)\n\u001B[0;32m    610\u001B[0m     \u001B[38;5;28;01mif\u001B[39;00m y \u001B[38;5;129;01mis\u001B[39;00m \u001B[38;5;28;01mNone\u001B[39;00m \u001B[38;5;129;01mand\u001B[39;00m \u001B[38;5;28mself\u001B[39m\u001B[38;5;241m.\u001B[39m_get_tags()[\u001B[38;5;124m\"\u001B[39m\u001B[38;5;124mrequires_y\u001B[39m\u001B[38;5;124m\"\u001B[39m]:\n\u001B[0;32m    611\u001B[0m         \u001B[38;5;28;01mraise\u001B[39;00m \u001B[38;5;167;01mValueError\u001B[39;00m(\n\u001B[0;32m    612\u001B[0m             \u001B[38;5;124mf\u001B[39m\u001B[38;5;124m\"\u001B[39m\u001B[38;5;124mThis \u001B[39m\u001B[38;5;132;01m{\u001B[39;00m\u001B[38;5;28mself\u001B[39m\u001B[38;5;241m.\u001B[39m\u001B[38;5;18m__class__\u001B[39m\u001B[38;5;241m.\u001B[39m\u001B[38;5;18m__name__\u001B[39m\u001B[38;5;132;01m}\u001B[39;00m\u001B[38;5;124m estimator \u001B[39m\u001B[38;5;124m\"\u001B[39m\n\u001B[0;32m    613\u001B[0m             \u001B[38;5;124m\"\u001B[39m\u001B[38;5;124mrequires y to be passed, but the target y is None.\u001B[39m\u001B[38;5;124m\"\u001B[39m\n\u001B[0;32m    614\u001B[0m         )\n",
      "File \u001B[1;32m~\\miniconda3\\envs\\gtfs_env_311\\Lib\\site-packages\\sklearn\\base.py:535\u001B[0m, in \u001B[0;36mBaseEstimator._check_feature_names\u001B[1;34m(self, X, reset)\u001B[0m\n\u001B[0;32m    530\u001B[0m \u001B[38;5;28;01mif\u001B[39;00m \u001B[38;5;129;01mnot\u001B[39;00m missing_names \u001B[38;5;129;01mand\u001B[39;00m \u001B[38;5;129;01mnot\u001B[39;00m unexpected_names:\n\u001B[0;32m    531\u001B[0m     message \u001B[38;5;241m+\u001B[39m\u001B[38;5;241m=\u001B[39m (\n\u001B[0;32m    532\u001B[0m         \u001B[38;5;124m\"\u001B[39m\u001B[38;5;124mFeature names must be in the same order as they were in fit.\u001B[39m\u001B[38;5;130;01m\\n\u001B[39;00m\u001B[38;5;124m\"\u001B[39m\n\u001B[0;32m    533\u001B[0m     )\n\u001B[1;32m--> 535\u001B[0m \u001B[38;5;28;01mraise\u001B[39;00m \u001B[38;5;167;01mValueError\u001B[39;00m(message)\n",
      "\u001B[1;31mValueError\u001B[0m: The feature names should match those that were passed during fit.\nFeature names seen at fit time, yet now missing:\n- RELATIV_KESES\n"
     ]
    }
   ],
   "execution_count": 30
  },
  {
   "metadata": {
    "jupyter": {
     "is_executing": true
    },
    "ExecuteTime": {
     "start_time": "2024-11-25T20:08:34.371255Z"
    }
   },
   "cell_type": "code",
   "source": "attrs_to_use",
   "id": "9c7a9b3489a88a97",
   "outputs": [],
   "execution_count": null
  },
  {
   "metadata": {
    "jupyter": {
     "is_executing": true
    },
    "ExecuteTime": {
     "start_time": "2024-11-25T20:08:34.373255Z"
    }
   },
   "cell_type": "code",
   "source": "",
   "id": "c9fa9176a5e34a71",
   "outputs": [],
   "execution_count": null
  },
  {
   "metadata": {
    "ExecuteTime": {
     "end_time": "2024-11-26T05:33:35.202427Z",
     "start_time": "2024-11-26T05:33:35.105389Z"
    }
   },
   "cell_type": "code",
   "source": [
    "\n",
    "\n",
    "small_X_scaler=load_sk_by_desc('X_scaler','base','Small')['model']\n",
    "small_y_scaler=load_sk_by_desc('y_scaler','base','Small')['model']\n",
    "\n",
    "X_t = torch.tensor(small_X_scaler.transform(X_small), dtype=torch.float32)\n",
    "nn_small=load_NN('./model/NN/Small/base/')['model']\n",
    "y_pred_nn_small=small_y_scaler.inverse_transform(nn_small(X_t).detach().numpy())\n",
    "del small_X_scaler\n",
    "del small_y_scaler\n",
    "del nn_small\n",
    "del X_t\n",
    "\n"
   ],
   "id": "f0fd29e1e366e145",
   "outputs": [
    {
     "name": "stdout",
     "output_type": "stream",
     "text": [
      "Unspecified file: history.png\n",
      "Loading model: ./model/NN/Small/base/NN_Small_base.pth\n"
     ]
    }
   ],
   "execution_count": 31
  },
  {
   "metadata": {
    "ExecuteTime": {
     "end_time": "2024-11-26T05:33:53.359615Z",
     "start_time": "2024-11-26T05:33:53.350681Z"
    }
   },
   "cell_type": "code",
   "source": [
    "#del y\n",
    "del X\n",
    "del X_small"
   ],
   "id": "25db3a03b20f8461",
   "outputs": [],
   "execution_count": 32
  },
  {
   "metadata": {
    "ExecuteTime": {
     "end_time": "2024-11-26T05:33:54.511310Z",
     "start_time": "2024-11-26T05:33:54.500297Z"
    }
   },
   "cell_type": "code",
   "source": [
    "names = ['P-NN-small','P-DT','P-DT-small','KESES']\n",
    "#preds=[y_pred_nn_base.squeeze(),y_pred_nn_small.squeeze(),y_pred_dt_base,y_pred_dt_small,y]\n",
    "preds=[y_pred_nn_small.squeeze(),y_pred_dt_base,y_pred_dt_small,y]\n",
    "cols_to_add=pd.DataFrame(dict(zip(names,preds)))"
   ],
   "id": "257be9c8cc7292db",
   "outputs": [],
   "execution_count": 33
  },
  {
   "metadata": {
    "jupyter": {
     "is_executing": true
    },
    "ExecuteTime": {
     "start_time": "2024-11-25T20:08:34.378255Z"
    }
   },
   "cell_type": "code",
   "source": "type(y_pred_dt_small[:5])",
   "id": "79f1196a13e80019",
   "outputs": [],
   "execution_count": null
  },
  {
   "metadata": {
    "jupyter": {
     "is_executing": true
    },
    "ExecuteTime": {
     "start_time": "2024-11-25T20:08:34.379256Z"
    }
   },
   "cell_type": "code",
   "source": "y_pred_dt_small.reshape(1,).shape",
   "id": "f3d1018800fe390",
   "outputs": [],
   "execution_count": null
  },
  {
   "metadata": {
    "jupyter": {
     "is_executing": true
    },
    "ExecuteTime": {
     "start_time": "2024-11-25T20:08:34.380255Z"
    }
   },
   "cell_type": "code",
   "source": "type(y_pred_nn_base[:5])",
   "id": "7eff494b99ffd4d2",
   "outputs": [],
   "execution_count": null
  },
  {
   "metadata": {
    "jupyter": {
     "is_executing": true
    },
    "ExecuteTime": {
     "start_time": "2024-11-25T20:08:34.382255Z"
    }
   },
   "cell_type": "code",
   "source": "y_pred_nn_base.squeeze().shape",
   "id": "f3ddcf06c746a976",
   "outputs": [],
   "execution_count": null
  },
  {
   "metadata": {
    "ExecuteTime": {
     "end_time": "2024-11-26T05:34:11.660436Z",
     "start_time": "2024-11-26T05:34:07.480373Z"
    }
   },
   "cell_type": "code",
   "source": [
    "df_to_validate_orig=pd.read_pickle(data_root+'validation_orig.pkl')\n",
    "df_to_validate_orig.drop(columns=['KESES'], inplace=True)"
   ],
   "id": "789b3805d2dac961",
   "outputs": [],
   "execution_count": 34
  },
  {
   "metadata": {
    "ExecuteTime": {
     "end_time": "2024-11-26T05:34:15.213533Z",
     "start_time": "2024-11-26T05:34:15.206067Z"
    }
   },
   "cell_type": "code",
   "source": [
    "df_to_validate_orig.reset_index(drop=True, inplace=True)\n",
    "cols_to_add.reset_index(drop=True, inplace=True)"
   ],
   "id": "b6f1e71445ceb6bf",
   "outputs": [],
   "execution_count": 35
  },
  {
   "metadata": {
    "ExecuteTime": {
     "end_time": "2024-11-26T05:34:16.301520Z",
     "start_time": "2024-11-26T05:34:15.716758Z"
    }
   },
   "cell_type": "code",
   "source": "eval_df=pd.concat([df_to_validate_orig,cols_to_add], axis=1)",
   "id": "e5911c3d8d95edb3",
   "outputs": [],
   "execution_count": 36
  },
  {
   "metadata": {
    "ExecuteTime": {
     "end_time": "2024-11-26T05:34:19.833008Z",
     "start_time": "2024-11-26T05:34:19.818004Z"
    }
   },
   "cell_type": "code",
   "source": "eval_df.head()",
   "id": "7c309c0f960d4574",
   "outputs": [
    {
     "data": {
      "text/plain": [
       "  VONAL  VONATSZAM  VONTATO_TIPUS    ELOZO_ESEMENY_IDO MENETREND_IDO  \\\n",
       "0     2       2019            465  2022-01-01 04:00:00      04:01:00   \n",
       "1     2       2019            465  2022-01-01 04:04:00      04:05:00   \n",
       "2     2       2019            465  2022-01-01 04:09:00      04:10:00   \n",
       "3     2       2019            465  2022-01-01 04:15:00      04:16:00   \n",
       "4     2       2019            465  2022-01-01 04:20:00      04:21:00   \n",
       "\n",
       "        OSSZ_KESES      ELOZO_KESES  RELATIV_KESES  TERV_IDOTARTAM (m)    tx  \\\n",
       "0  0 days 00:00:57  0 days 00:01:10      -0.216667                 1.0  14.1   \n",
       "1  0 days 00:01:51  0 days 00:01:43       0.133333                 1.0  14.1   \n",
       "2  0 days 00:01:22  0 days 00:01:48      -0.433333                 1.0  14.1   \n",
       "3  0 days 00:01:59  0 days 00:02:22      -0.383333                 1.0  14.1   \n",
       "4  0 days 00:02:43  0 days 00:02:18       0.416667                 1.0  14.1   \n",
       "\n",
       "   ...  Kiutalt menetvonalak zavartatása nélkül  Státus  ELOZO VONAT KESES  \\\n",
       "0  ...                                      0.0     0.0  -1 days +23:59:27   \n",
       "1  ...                                      0.0     0.0    0 days 00:00:04   \n",
       "2  ...                                      0.0     0.0  -1 days +23:59:24   \n",
       "3  ...                                      0.0     0.0  -1 days +23:59:25   \n",
       "4  ...                                      0.0     0.0  -1 days +23:59:39   \n",
       "\n",
       "   ELOZO VONAT RELATIV KESES VONAL STATUSZ VALTOZOTT KOZLEKEDESI_NAP  \\\n",
       "0                  -0.550000                   False      2022-01-01   \n",
       "1                   0.066667                   False      2022-01-01   \n",
       "2                  -0.600000                   False      2022-01-01   \n",
       "3                  -0.583333                   False      2022-01-01   \n",
       "4                  -0.350000                   False      2022-01-01   \n",
       "\n",
       "   P-NN-small      P-DT  P-DT-small     KESES  \n",
       "0   -0.021600 -0.381898   -0.381898 -0.216667  \n",
       "1   -0.000548 -0.194139   -0.194139  0.133333  \n",
       "2   -0.027108 -0.372194   -0.372194 -0.433333  \n",
       "3   -0.029669 -0.372194   -0.372194 -0.383333  \n",
       "4   -0.020017 -0.381898   -0.381898  0.416667  \n",
       "\n",
       "[5 rows x 39 columns]"
      ],
      "text/html": [
       "<div>\n",
       "<style scoped>\n",
       "    .dataframe tbody tr th:only-of-type {\n",
       "        vertical-align: middle;\n",
       "    }\n",
       "\n",
       "    .dataframe tbody tr th {\n",
       "        vertical-align: top;\n",
       "    }\n",
       "\n",
       "    .dataframe thead th {\n",
       "        text-align: right;\n",
       "    }\n",
       "</style>\n",
       "<table border=\"1\" class=\"dataframe\">\n",
       "  <thead>\n",
       "    <tr style=\"text-align: right;\">\n",
       "      <th></th>\n",
       "      <th>VONAL</th>\n",
       "      <th>VONATSZAM</th>\n",
       "      <th>VONTATO_TIPUS</th>\n",
       "      <th>ELOZO_ESEMENY_IDO</th>\n",
       "      <th>MENETREND_IDO</th>\n",
       "      <th>OSSZ_KESES</th>\n",
       "      <th>ELOZO_KESES</th>\n",
       "      <th>RELATIV_KESES</th>\n",
       "      <th>TERV_IDOTARTAM (m)</th>\n",
       "      <th>tx</th>\n",
       "      <th>...</th>\n",
       "      <th>Kiutalt menetvonalak zavartatása nélkül</th>\n",
       "      <th>Státus</th>\n",
       "      <th>ELOZO VONAT KESES</th>\n",
       "      <th>ELOZO VONAT RELATIV KESES</th>\n",
       "      <th>VONAL STATUSZ VALTOZOTT</th>\n",
       "      <th>KOZLEKEDESI_NAP</th>\n",
       "      <th>P-NN-small</th>\n",
       "      <th>P-DT</th>\n",
       "      <th>P-DT-small</th>\n",
       "      <th>KESES</th>\n",
       "    </tr>\n",
       "  </thead>\n",
       "  <tbody>\n",
       "    <tr>\n",
       "      <th>0</th>\n",
       "      <td>2</td>\n",
       "      <td>2019</td>\n",
       "      <td>465</td>\n",
       "      <td>2022-01-01 04:00:00</td>\n",
       "      <td>04:01:00</td>\n",
       "      <td>0 days 00:00:57</td>\n",
       "      <td>0 days 00:01:10</td>\n",
       "      <td>-0.216667</td>\n",
       "      <td>1.0</td>\n",
       "      <td>14.1</td>\n",
       "      <td>...</td>\n",
       "      <td>0.0</td>\n",
       "      <td>0.0</td>\n",
       "      <td>-1 days +23:59:27</td>\n",
       "      <td>-0.550000</td>\n",
       "      <td>False</td>\n",
       "      <td>2022-01-01</td>\n",
       "      <td>-0.021600</td>\n",
       "      <td>-0.381898</td>\n",
       "      <td>-0.381898</td>\n",
       "      <td>-0.216667</td>\n",
       "    </tr>\n",
       "    <tr>\n",
       "      <th>1</th>\n",
       "      <td>2</td>\n",
       "      <td>2019</td>\n",
       "      <td>465</td>\n",
       "      <td>2022-01-01 04:04:00</td>\n",
       "      <td>04:05:00</td>\n",
       "      <td>0 days 00:01:51</td>\n",
       "      <td>0 days 00:01:43</td>\n",
       "      <td>0.133333</td>\n",
       "      <td>1.0</td>\n",
       "      <td>14.1</td>\n",
       "      <td>...</td>\n",
       "      <td>0.0</td>\n",
       "      <td>0.0</td>\n",
       "      <td>0 days 00:00:04</td>\n",
       "      <td>0.066667</td>\n",
       "      <td>False</td>\n",
       "      <td>2022-01-01</td>\n",
       "      <td>-0.000548</td>\n",
       "      <td>-0.194139</td>\n",
       "      <td>-0.194139</td>\n",
       "      <td>0.133333</td>\n",
       "    </tr>\n",
       "    <tr>\n",
       "      <th>2</th>\n",
       "      <td>2</td>\n",
       "      <td>2019</td>\n",
       "      <td>465</td>\n",
       "      <td>2022-01-01 04:09:00</td>\n",
       "      <td>04:10:00</td>\n",
       "      <td>0 days 00:01:22</td>\n",
       "      <td>0 days 00:01:48</td>\n",
       "      <td>-0.433333</td>\n",
       "      <td>1.0</td>\n",
       "      <td>14.1</td>\n",
       "      <td>...</td>\n",
       "      <td>0.0</td>\n",
       "      <td>0.0</td>\n",
       "      <td>-1 days +23:59:24</td>\n",
       "      <td>-0.600000</td>\n",
       "      <td>False</td>\n",
       "      <td>2022-01-01</td>\n",
       "      <td>-0.027108</td>\n",
       "      <td>-0.372194</td>\n",
       "      <td>-0.372194</td>\n",
       "      <td>-0.433333</td>\n",
       "    </tr>\n",
       "    <tr>\n",
       "      <th>3</th>\n",
       "      <td>2</td>\n",
       "      <td>2019</td>\n",
       "      <td>465</td>\n",
       "      <td>2022-01-01 04:15:00</td>\n",
       "      <td>04:16:00</td>\n",
       "      <td>0 days 00:01:59</td>\n",
       "      <td>0 days 00:02:22</td>\n",
       "      <td>-0.383333</td>\n",
       "      <td>1.0</td>\n",
       "      <td>14.1</td>\n",
       "      <td>...</td>\n",
       "      <td>0.0</td>\n",
       "      <td>0.0</td>\n",
       "      <td>-1 days +23:59:25</td>\n",
       "      <td>-0.583333</td>\n",
       "      <td>False</td>\n",
       "      <td>2022-01-01</td>\n",
       "      <td>-0.029669</td>\n",
       "      <td>-0.372194</td>\n",
       "      <td>-0.372194</td>\n",
       "      <td>-0.383333</td>\n",
       "    </tr>\n",
       "    <tr>\n",
       "      <th>4</th>\n",
       "      <td>2</td>\n",
       "      <td>2019</td>\n",
       "      <td>465</td>\n",
       "      <td>2022-01-01 04:20:00</td>\n",
       "      <td>04:21:00</td>\n",
       "      <td>0 days 00:02:43</td>\n",
       "      <td>0 days 00:02:18</td>\n",
       "      <td>0.416667</td>\n",
       "      <td>1.0</td>\n",
       "      <td>14.1</td>\n",
       "      <td>...</td>\n",
       "      <td>0.0</td>\n",
       "      <td>0.0</td>\n",
       "      <td>-1 days +23:59:39</td>\n",
       "      <td>-0.350000</td>\n",
       "      <td>False</td>\n",
       "      <td>2022-01-01</td>\n",
       "      <td>-0.020017</td>\n",
       "      <td>-0.381898</td>\n",
       "      <td>-0.381898</td>\n",
       "      <td>0.416667</td>\n",
       "    </tr>\n",
       "  </tbody>\n",
       "</table>\n",
       "<p>5 rows × 39 columns</p>\n",
       "</div>"
      ]
     },
     "execution_count": 37,
     "metadata": {},
     "output_type": "execute_result"
    }
   ],
   "execution_count": 37
  },
  {
   "metadata": {
    "ExecuteTime": {
     "end_time": "2024-11-26T05:34:56.097417Z",
     "start_time": "2024-11-26T05:34:53.029900Z"
    }
   },
   "cell_type": "code",
   "source": "eval_df.to_pickle(data_root+'validation_res.pkl')",
   "id": "2a46bfafbbe2fdce",
   "outputs": [],
   "execution_count": 38
  },
  {
   "metadata": {
    "ExecuteTime": {
     "end_time": "2024-11-26T06:41:52.018456Z",
     "start_time": "2024-11-26T06:41:48.961783Z"
    }
   },
   "cell_type": "code",
   "source": "preds_=pd.read_pickle(data_root+'validation_res.pkl')\n",
   "id": "f81dbcb1357f8c14",
   "outputs": [],
   "execution_count": 46
  },
  {
   "metadata": {
    "ExecuteTime": {
     "end_time": "2024-11-26T06:42:03.207908Z",
     "start_time": "2024-11-26T06:42:02.710093Z"
    }
   },
   "cell_type": "code",
   "source": "preds_",
   "id": "7674f8073d5cd45d",
   "outputs": [
    {
     "data": {
      "text/plain": [
       "       VONAL  VONATSZAM  VONTATO_TIPUS    ELOZO_ESEMENY_IDO MENETREND_IDO  \\\n",
       "0          2       2019            465  2022-01-01 04:00:00      04:01:00   \n",
       "1          2       2019            465  2022-01-01 04:04:00      04:05:00   \n",
       "2          2       2019            465  2022-01-01 04:09:00      04:10:00   \n",
       "3          2       2019            465  2022-01-01 04:15:00      04:16:00   \n",
       "4          2       2019            465  2022-01-01 04:20:00      04:21:00   \n",
       "...      ...        ...            ...                  ...           ...   \n",
       "375751   147      37467           1953  2023-12-24 08:03:00      08:04:00   \n",
       "375752   147      37467           1953  2023-12-24 08:04:00      08:09:00   \n",
       "375753   147      37467           1953  2023-12-24 08:09:00      08:14:00   \n",
       "375754   147      37467           1953  2023-12-24 08:14:00      08:25:00   \n",
       "375755   147      37467           1953  2023-12-24 08:25:00      08:25:00   \n",
       "\n",
       "             OSSZ_KESES      ELOZO_KESES  RELATIV_KESES  TERV_IDOTARTAM (m)  \\\n",
       "0       0 days 00:00:57  0 days 00:01:10      -0.216667                 1.0   \n",
       "1       0 days 00:01:51  0 days 00:01:43       0.133333                 1.0   \n",
       "2       0 days 00:01:22  0 days 00:01:48      -0.433333                 1.0   \n",
       "3       0 days 00:01:59  0 days 00:02:22      -0.383333                 1.0   \n",
       "4       0 days 00:02:43  0 days 00:02:18       0.416667                 1.0   \n",
       "...                 ...              ...            ...                 ...   \n",
       "375751  0 days 00:00:03  0 days 00:00:30      -0.450000                 1.0   \n",
       "375752  0 days 00:00:35  0 days 00:00:03       0.106667                 5.0   \n",
       "375753  0 days 00:00:06  0 days 00:00:47      -0.136667                 5.0   \n",
       "375754  0 days 00:00:31  0 days 00:00:19       0.018182                11.0   \n",
       "375755              0.0  0 days 00:00:31       0.000000                 0.0   \n",
       "\n",
       "          tx  ...  Kiutalt menetvonalak zavartatása nélkül  Státus  \\\n",
       "0       14.1  ...                                      0.0     0.0   \n",
       "1       14.1  ...                                      0.0     0.0   \n",
       "2       14.1  ...                                      0.0     0.0   \n",
       "3       14.1  ...                                      0.0     0.0   \n",
       "4       14.1  ...                                      0.0     0.0   \n",
       "...      ...  ...                                      ...     ...   \n",
       "375751   0.0  ...                                      0.0     0.0   \n",
       "375752   0.0  ...                                      0.0     0.0   \n",
       "375753   0.0  ...                                      0.0     0.0   \n",
       "375754   0.0  ...                                      0.0     0.0   \n",
       "375755   0.0  ...                                      0.0     0.0   \n",
       "\n",
       "        ELOZO VONAT KESES  ELOZO VONAT RELATIV KESES VONAL STATUSZ VALTOZOTT  \\\n",
       "0       -1 days +23:59:27                  -0.550000                   False   \n",
       "1         0 days 00:00:04                   0.066667                   False   \n",
       "2       -1 days +23:59:24                  -0.600000                   False   \n",
       "3       -1 days +23:59:25                  -0.583333                   False   \n",
       "4       -1 days +23:59:39                  -0.350000                   False   \n",
       "...                   ...                        ...                     ...   \n",
       "375751    0 days 00:00:47                   0.783333                   False   \n",
       "375752    0 days 00:00:01                   0.003333                   False   \n",
       "375753  -1 days +23:59:18                  -0.140000                   False   \n",
       "375754    0 days 00:00:07                   0.010606                   False   \n",
       "375755                0.0                   0.000000                   False   \n",
       "\n",
       "       KOZLEKEDESI_NAP  P-NN-small      P-DT  P-DT-small     KESES  \n",
       "0           2022-01-01   -0.021600 -0.381898   -0.381898 -0.216667  \n",
       "1           2022-01-01   -0.000548 -0.194139   -0.194139  0.133333  \n",
       "2           2022-01-01   -0.027108 -0.372194   -0.372194 -0.433333  \n",
       "3           2022-01-01   -0.029669 -0.372194   -0.372194 -0.383333  \n",
       "4           2022-01-01   -0.020017 -0.381898   -0.381898  0.416667  \n",
       "...                ...         ...       ...         ...       ...  \n",
       "375751      2023-12-24    0.320030  0.135181    0.135181 -0.450000  \n",
       "375752      2023-12-24    0.136535  0.027540    0.027540  0.533333  \n",
       "375753      2023-12-24   -0.309108 -0.638815   -0.638815 -0.683333  \n",
       "375754      2023-12-24    0.181106  0.200716    0.200716  0.200000  \n",
       "375755      2023-12-24    0.101795 -0.089303   -0.089303  0.000000  \n",
       "\n",
       "[375756 rows x 39 columns]"
      ],
      "text/html": [
       "<div>\n",
       "<style scoped>\n",
       "    .dataframe tbody tr th:only-of-type {\n",
       "        vertical-align: middle;\n",
       "    }\n",
       "\n",
       "    .dataframe tbody tr th {\n",
       "        vertical-align: top;\n",
       "    }\n",
       "\n",
       "    .dataframe thead th {\n",
       "        text-align: right;\n",
       "    }\n",
       "</style>\n",
       "<table border=\"1\" class=\"dataframe\">\n",
       "  <thead>\n",
       "    <tr style=\"text-align: right;\">\n",
       "      <th></th>\n",
       "      <th>VONAL</th>\n",
       "      <th>VONATSZAM</th>\n",
       "      <th>VONTATO_TIPUS</th>\n",
       "      <th>ELOZO_ESEMENY_IDO</th>\n",
       "      <th>MENETREND_IDO</th>\n",
       "      <th>OSSZ_KESES</th>\n",
       "      <th>ELOZO_KESES</th>\n",
       "      <th>RELATIV_KESES</th>\n",
       "      <th>TERV_IDOTARTAM (m)</th>\n",
       "      <th>tx</th>\n",
       "      <th>...</th>\n",
       "      <th>Kiutalt menetvonalak zavartatása nélkül</th>\n",
       "      <th>Státus</th>\n",
       "      <th>ELOZO VONAT KESES</th>\n",
       "      <th>ELOZO VONAT RELATIV KESES</th>\n",
       "      <th>VONAL STATUSZ VALTOZOTT</th>\n",
       "      <th>KOZLEKEDESI_NAP</th>\n",
       "      <th>P-NN-small</th>\n",
       "      <th>P-DT</th>\n",
       "      <th>P-DT-small</th>\n",
       "      <th>KESES</th>\n",
       "    </tr>\n",
       "  </thead>\n",
       "  <tbody>\n",
       "    <tr>\n",
       "      <th>0</th>\n",
       "      <td>2</td>\n",
       "      <td>2019</td>\n",
       "      <td>465</td>\n",
       "      <td>2022-01-01 04:00:00</td>\n",
       "      <td>04:01:00</td>\n",
       "      <td>0 days 00:00:57</td>\n",
       "      <td>0 days 00:01:10</td>\n",
       "      <td>-0.216667</td>\n",
       "      <td>1.0</td>\n",
       "      <td>14.1</td>\n",
       "      <td>...</td>\n",
       "      <td>0.0</td>\n",
       "      <td>0.0</td>\n",
       "      <td>-1 days +23:59:27</td>\n",
       "      <td>-0.550000</td>\n",
       "      <td>False</td>\n",
       "      <td>2022-01-01</td>\n",
       "      <td>-0.021600</td>\n",
       "      <td>-0.381898</td>\n",
       "      <td>-0.381898</td>\n",
       "      <td>-0.216667</td>\n",
       "    </tr>\n",
       "    <tr>\n",
       "      <th>1</th>\n",
       "      <td>2</td>\n",
       "      <td>2019</td>\n",
       "      <td>465</td>\n",
       "      <td>2022-01-01 04:04:00</td>\n",
       "      <td>04:05:00</td>\n",
       "      <td>0 days 00:01:51</td>\n",
       "      <td>0 days 00:01:43</td>\n",
       "      <td>0.133333</td>\n",
       "      <td>1.0</td>\n",
       "      <td>14.1</td>\n",
       "      <td>...</td>\n",
       "      <td>0.0</td>\n",
       "      <td>0.0</td>\n",
       "      <td>0 days 00:00:04</td>\n",
       "      <td>0.066667</td>\n",
       "      <td>False</td>\n",
       "      <td>2022-01-01</td>\n",
       "      <td>-0.000548</td>\n",
       "      <td>-0.194139</td>\n",
       "      <td>-0.194139</td>\n",
       "      <td>0.133333</td>\n",
       "    </tr>\n",
       "    <tr>\n",
       "      <th>2</th>\n",
       "      <td>2</td>\n",
       "      <td>2019</td>\n",
       "      <td>465</td>\n",
       "      <td>2022-01-01 04:09:00</td>\n",
       "      <td>04:10:00</td>\n",
       "      <td>0 days 00:01:22</td>\n",
       "      <td>0 days 00:01:48</td>\n",
       "      <td>-0.433333</td>\n",
       "      <td>1.0</td>\n",
       "      <td>14.1</td>\n",
       "      <td>...</td>\n",
       "      <td>0.0</td>\n",
       "      <td>0.0</td>\n",
       "      <td>-1 days +23:59:24</td>\n",
       "      <td>-0.600000</td>\n",
       "      <td>False</td>\n",
       "      <td>2022-01-01</td>\n",
       "      <td>-0.027108</td>\n",
       "      <td>-0.372194</td>\n",
       "      <td>-0.372194</td>\n",
       "      <td>-0.433333</td>\n",
       "    </tr>\n",
       "    <tr>\n",
       "      <th>3</th>\n",
       "      <td>2</td>\n",
       "      <td>2019</td>\n",
       "      <td>465</td>\n",
       "      <td>2022-01-01 04:15:00</td>\n",
       "      <td>04:16:00</td>\n",
       "      <td>0 days 00:01:59</td>\n",
       "      <td>0 days 00:02:22</td>\n",
       "      <td>-0.383333</td>\n",
       "      <td>1.0</td>\n",
       "      <td>14.1</td>\n",
       "      <td>...</td>\n",
       "      <td>0.0</td>\n",
       "      <td>0.0</td>\n",
       "      <td>-1 days +23:59:25</td>\n",
       "      <td>-0.583333</td>\n",
       "      <td>False</td>\n",
       "      <td>2022-01-01</td>\n",
       "      <td>-0.029669</td>\n",
       "      <td>-0.372194</td>\n",
       "      <td>-0.372194</td>\n",
       "      <td>-0.383333</td>\n",
       "    </tr>\n",
       "    <tr>\n",
       "      <th>4</th>\n",
       "      <td>2</td>\n",
       "      <td>2019</td>\n",
       "      <td>465</td>\n",
       "      <td>2022-01-01 04:20:00</td>\n",
       "      <td>04:21:00</td>\n",
       "      <td>0 days 00:02:43</td>\n",
       "      <td>0 days 00:02:18</td>\n",
       "      <td>0.416667</td>\n",
       "      <td>1.0</td>\n",
       "      <td>14.1</td>\n",
       "      <td>...</td>\n",
       "      <td>0.0</td>\n",
       "      <td>0.0</td>\n",
       "      <td>-1 days +23:59:39</td>\n",
       "      <td>-0.350000</td>\n",
       "      <td>False</td>\n",
       "      <td>2022-01-01</td>\n",
       "      <td>-0.020017</td>\n",
       "      <td>-0.381898</td>\n",
       "      <td>-0.381898</td>\n",
       "      <td>0.416667</td>\n",
       "    </tr>\n",
       "    <tr>\n",
       "      <th>...</th>\n",
       "      <td>...</td>\n",
       "      <td>...</td>\n",
       "      <td>...</td>\n",
       "      <td>...</td>\n",
       "      <td>...</td>\n",
       "      <td>...</td>\n",
       "      <td>...</td>\n",
       "      <td>...</td>\n",
       "      <td>...</td>\n",
       "      <td>...</td>\n",
       "      <td>...</td>\n",
       "      <td>...</td>\n",
       "      <td>...</td>\n",
       "      <td>...</td>\n",
       "      <td>...</td>\n",
       "      <td>...</td>\n",
       "      <td>...</td>\n",
       "      <td>...</td>\n",
       "      <td>...</td>\n",
       "      <td>...</td>\n",
       "      <td>...</td>\n",
       "    </tr>\n",
       "    <tr>\n",
       "      <th>375751</th>\n",
       "      <td>147</td>\n",
       "      <td>37467</td>\n",
       "      <td>1953</td>\n",
       "      <td>2023-12-24 08:03:00</td>\n",
       "      <td>08:04:00</td>\n",
       "      <td>0 days 00:00:03</td>\n",
       "      <td>0 days 00:00:30</td>\n",
       "      <td>-0.450000</td>\n",
       "      <td>1.0</td>\n",
       "      <td>0.0</td>\n",
       "      <td>...</td>\n",
       "      <td>0.0</td>\n",
       "      <td>0.0</td>\n",
       "      <td>0 days 00:00:47</td>\n",
       "      <td>0.783333</td>\n",
       "      <td>False</td>\n",
       "      <td>2023-12-24</td>\n",
       "      <td>0.320030</td>\n",
       "      <td>0.135181</td>\n",
       "      <td>0.135181</td>\n",
       "      <td>-0.450000</td>\n",
       "    </tr>\n",
       "    <tr>\n",
       "      <th>375752</th>\n",
       "      <td>147</td>\n",
       "      <td>37467</td>\n",
       "      <td>1953</td>\n",
       "      <td>2023-12-24 08:04:00</td>\n",
       "      <td>08:09:00</td>\n",
       "      <td>0 days 00:00:35</td>\n",
       "      <td>0 days 00:00:03</td>\n",
       "      <td>0.106667</td>\n",
       "      <td>5.0</td>\n",
       "      <td>0.0</td>\n",
       "      <td>...</td>\n",
       "      <td>0.0</td>\n",
       "      <td>0.0</td>\n",
       "      <td>0 days 00:00:01</td>\n",
       "      <td>0.003333</td>\n",
       "      <td>False</td>\n",
       "      <td>2023-12-24</td>\n",
       "      <td>0.136535</td>\n",
       "      <td>0.027540</td>\n",
       "      <td>0.027540</td>\n",
       "      <td>0.533333</td>\n",
       "    </tr>\n",
       "    <tr>\n",
       "      <th>375753</th>\n",
       "      <td>147</td>\n",
       "      <td>37467</td>\n",
       "      <td>1953</td>\n",
       "      <td>2023-12-24 08:09:00</td>\n",
       "      <td>08:14:00</td>\n",
       "      <td>0 days 00:00:06</td>\n",
       "      <td>0 days 00:00:47</td>\n",
       "      <td>-0.136667</td>\n",
       "      <td>5.0</td>\n",
       "      <td>0.0</td>\n",
       "      <td>...</td>\n",
       "      <td>0.0</td>\n",
       "      <td>0.0</td>\n",
       "      <td>-1 days +23:59:18</td>\n",
       "      <td>-0.140000</td>\n",
       "      <td>False</td>\n",
       "      <td>2023-12-24</td>\n",
       "      <td>-0.309108</td>\n",
       "      <td>-0.638815</td>\n",
       "      <td>-0.638815</td>\n",
       "      <td>-0.683333</td>\n",
       "    </tr>\n",
       "    <tr>\n",
       "      <th>375754</th>\n",
       "      <td>147</td>\n",
       "      <td>37467</td>\n",
       "      <td>1953</td>\n",
       "      <td>2023-12-24 08:14:00</td>\n",
       "      <td>08:25:00</td>\n",
       "      <td>0 days 00:00:31</td>\n",
       "      <td>0 days 00:00:19</td>\n",
       "      <td>0.018182</td>\n",
       "      <td>11.0</td>\n",
       "      <td>0.0</td>\n",
       "      <td>...</td>\n",
       "      <td>0.0</td>\n",
       "      <td>0.0</td>\n",
       "      <td>0 days 00:00:07</td>\n",
       "      <td>0.010606</td>\n",
       "      <td>False</td>\n",
       "      <td>2023-12-24</td>\n",
       "      <td>0.181106</td>\n",
       "      <td>0.200716</td>\n",
       "      <td>0.200716</td>\n",
       "      <td>0.200000</td>\n",
       "    </tr>\n",
       "    <tr>\n",
       "      <th>375755</th>\n",
       "      <td>147</td>\n",
       "      <td>37467</td>\n",
       "      <td>1953</td>\n",
       "      <td>2023-12-24 08:25:00</td>\n",
       "      <td>08:25:00</td>\n",
       "      <td>0.0</td>\n",
       "      <td>0 days 00:00:31</td>\n",
       "      <td>0.000000</td>\n",
       "      <td>0.0</td>\n",
       "      <td>0.0</td>\n",
       "      <td>...</td>\n",
       "      <td>0.0</td>\n",
       "      <td>0.0</td>\n",
       "      <td>0.0</td>\n",
       "      <td>0.000000</td>\n",
       "      <td>False</td>\n",
       "      <td>2023-12-24</td>\n",
       "      <td>0.101795</td>\n",
       "      <td>-0.089303</td>\n",
       "      <td>-0.089303</td>\n",
       "      <td>0.000000</td>\n",
       "    </tr>\n",
       "  </tbody>\n",
       "</table>\n",
       "<p>375756 rows × 39 columns</p>\n",
       "</div>"
      ]
     },
     "execution_count": 47,
     "metadata": {},
     "output_type": "execute_result"
    }
   ],
   "execution_count": 47
  },
  {
   "metadata": {
    "ExecuteTime": {
     "end_time": "2024-11-26T06:42:31.349311Z",
     "start_time": "2024-11-26T06:42:31.324795Z"
    }
   },
   "cell_type": "code",
   "source": "preds.columns",
   "id": "5131e5334a391681",
   "outputs": [
    {
     "ename": "AttributeError",
     "evalue": "'list' object has no attribute 'columns'",
     "output_type": "error",
     "traceback": [
      "\u001B[1;31m---------------------------------------------------------------------------\u001B[0m",
      "\u001B[1;31mAttributeError\u001B[0m                            Traceback (most recent call last)",
      "Cell \u001B[1;32mIn[48], line 1\u001B[0m\n\u001B[1;32m----> 1\u001B[0m preds\u001B[38;5;241m.\u001B[39mcolumns\n",
      "\u001B[1;31mAttributeError\u001B[0m: 'list' object has no attribute 'columns'"
     ]
    }
   ],
   "execution_count": 48
  },
  {
   "metadata": {
    "ExecuteTime": {
     "end_time": "2024-11-26T07:39:11.968469Z",
     "start_time": "2024-11-26T07:39:11.772034Z"
    }
   },
   "cell_type": "code",
   "source": "eval_df=preds_.copy()",
   "id": "7b1630f04d0fcc8b",
   "outputs": [],
   "execution_count": 95
  },
  {
   "metadata": {
    "ExecuteTime": {
     "end_time": "2024-11-26T07:39:12.314511Z",
     "start_time": "2024-11-26T07:39:11.970010Z"
    }
   },
   "cell_type": "code",
   "source": [
    "eval_df['KOZLEKEDESI_NAP']=pd.to_datetime(eval_df['ELOZO_ESEMENY_IDO']).dt.date\n",
    "eval_df['TENY_IDOTARTAM']=eval_df['TERV_IDOTARTAM (m)']+eval_df['KESES']\n",
    "if 'KESES' in names:\n",
    "    names.remove('KESES')\n",
    "eval_df=eval_df[['VONATSZAM','KOZLEKEDESI_NAP','KESES','OSSZ_KESES','TENY_IDOTARTAM','TERV_IDOTARTAM (m)']+names]\n",
    "metrics=[]\n",
    "aes=[]\n",
    "ape_stat_s=[]\n",
    "apes_delay_s=[]\n",
    "for n in names:\n",
    "    print(n)\n",
    "    eval_df['JOSOLT_IDOTARTAM ' + n]=eval_df['TERV_IDOTARTAM (m)']+eval_df[n]\n",
    "    \n",
    "    # menetido alapján\n",
    "    eval_df[f'{n} AE (MENETIDO)']=abs(eval_df['TENY_IDOTARTAM']-eval_df['JOSOLT_IDOTARTAM ' + n])\n",
    "    metrics.append(f'{n} AE (MENETIDO)')\n",
    "    aes.append(f'{n} AE (MENETIDO)')\n",
    "\n",
    "    eval_df[f'{n} APE (MENETIDO)']=abs(eval_df['TENY_IDOTARTAM']-eval_df['JOSOLT_IDOTARTAM ' + n])/eval_df['TENY_IDOTARTAM'] *100\n",
    "    metrics.append(f'{n} APE (MENETIDO)')\n",
    "    ape_stat_s.append(f'{n} APE (MENETIDO)')\n",
    "\n",
    "    eval_df[f'{n} APE (KESES)']=abs(eval_df['KESES']-eval_df[n])/eval_df['KESES'] *100\n",
    "    metrics.append(f'{n} APE (KESES)')\n",
    "    apes_delay_s.append(f'{n} APE (KESES)')\n",
    "\n"
   ],
   "id": "29ac71e837183b35",
   "outputs": [
    {
     "name": "stdout",
     "output_type": "stream",
     "text": [
      "P-NN-small\n",
      "P-DT\n",
      "P-DT-small\n"
     ]
    }
   ],
   "execution_count": 96
  },
  {
   "metadata": {
    "ExecuteTime": {
     "end_time": "2024-11-26T07:23:50.305148Z",
     "start_time": "2024-11-26T07:23:50.254028Z"
    }
   },
   "cell_type": "code",
   "source": "ae_res=eval_df[aes].describe()",
   "id": "e807d3c6cf6a8f33",
   "outputs": [],
   "execution_count": 81
  },
  {
   "metadata": {
    "ExecuteTime": {
     "end_time": "2024-11-26T07:26:19.000851Z",
     "start_time": "2024-11-26T07:26:18.989952Z"
    }
   },
   "cell_type": "code",
   "source": "print(ae_res.to_latex())",
   "id": "5bd062579083456d",
   "outputs": [
    {
     "name": "stdout",
     "output_type": "stream",
     "text": [
      "\\begin{tabular}{lrrr}\n",
      "\\toprule\n",
      " & P-NN-small AE (MENETIDO) & P-DT AE (MENETIDO) & P-DT-small AE (MENETIDO) \\\\\n",
      "\\midrule\n",
      "count & 375756.000000 & 375756.000000 & 375756.000000 \\\\\n",
      "mean & 0.376994 & 0.272791 & 0.272951 \\\\\n",
      "std & 0.616813 & 0.579716 & 0.580614 \\\\\n",
      "min & 0.000007 & 0.000000 & 0.000000 \\\\\n",
      "25% & 0.120238 & 0.058766 & 0.058766 \\\\\n",
      "50% & 0.253240 & 0.139245 & 0.139290 \\\\\n",
      "75% & 0.428092 & 0.290157 & 0.290157 \\\\\n",
      "max & 79.268958 & 79.457042 & 79.457042 \\\\\n",
      "\\bottomrule\n",
      "\\end{tabular}\n",
      "\n"
     ]
    }
   ],
   "execution_count": 83
  },
  {
   "metadata": {
    "ExecuteTime": {
     "end_time": "2024-11-26T06:56:35.889202Z",
     "start_time": "2024-11-26T06:56:35.685865Z"
    }
   },
   "cell_type": "code",
   "source": "eval_df[metrics].describe()",
   "id": "6cd2fc4a8412fcb6",
   "outputs": [
    {
     "data": {
      "text/plain": [
       "       P-NN-small AE (MENETIDO)  P-NN-small APE (MENETIDO)  \\\n",
       "count             375756.000000               3.757560e+05   \n",
       "mean                   0.376994                        inf   \n",
       "std                    0.616813                        NaN   \n",
       "min                    0.000007              -1.637744e+04   \n",
       "25%                    0.120238               6.475098e+00   \n",
       "50%                    0.253240               1.569051e+01   \n",
       "75%                    0.428092               3.673366e+01   \n",
       "max                   79.268958                        inf   \n",
       "\n",
       "       P-NN-small APE (KESES)  P-DT AE (MENETIDO)  P-DT APE (MENETIDO)  \\\n",
       "count            3.757560e+05       375756.000000         3.632570e+05   \n",
       "mean                      inf            0.272791                  inf   \n",
       "std                       NaN            0.579716                  NaN   \n",
       "min             -1.532330e+04            0.000000        -1.489422e+04   \n",
       "25%             -7.748312e+01            0.058766         3.141642e+00   \n",
       "50%             -2.933776e+01            0.139245         8.181594e+00   \n",
       "75%              9.072160e+01            0.290157         2.142627e+01   \n",
       "max                       inf           79.457042                  inf   \n",
       "\n",
       "       P-DT APE (KESES)  P-DT-small AE (MENETIDO)  P-DT-small APE (MENETIDO)  \\\n",
       "count      3.632530e+05             375756.000000               3.632570e+05   \n",
       "mean                inf                  0.272951                        inf   \n",
       "std                 NaN                  0.580614                        NaN   \n",
       "min       -1.975000e+04                  0.000000              -1.489422e+04   \n",
       "25%       -4.941619e+01                  0.058766               3.141642e+00   \n",
       "50%       -7.407380e+00                  0.139290               8.181594e+00   \n",
       "75%        6.349195e+01                  0.290157               2.142627e+01   \n",
       "max                 inf                 79.457042                        inf   \n",
       "\n",
       "       P-DT-small APE (KESES)  \n",
       "count            3.632530e+05  \n",
       "mean                      inf  \n",
       "std                       NaN  \n",
       "min             -1.975000e+04  \n",
       "25%             -4.941619e+01  \n",
       "50%             -7.407380e+00  \n",
       "75%              6.349195e+01  \n",
       "max                       inf  "
      ],
      "text/html": [
       "<div>\n",
       "<style scoped>\n",
       "    .dataframe tbody tr th:only-of-type {\n",
       "        vertical-align: middle;\n",
       "    }\n",
       "\n",
       "    .dataframe tbody tr th {\n",
       "        vertical-align: top;\n",
       "    }\n",
       "\n",
       "    .dataframe thead th {\n",
       "        text-align: right;\n",
       "    }\n",
       "</style>\n",
       "<table border=\"1\" class=\"dataframe\">\n",
       "  <thead>\n",
       "    <tr style=\"text-align: right;\">\n",
       "      <th></th>\n",
       "      <th>P-NN-small AE (MENETIDO)</th>\n",
       "      <th>P-NN-small APE (MENETIDO)</th>\n",
       "      <th>P-NN-small APE (KESES)</th>\n",
       "      <th>P-DT AE (MENETIDO)</th>\n",
       "      <th>P-DT APE (MENETIDO)</th>\n",
       "      <th>P-DT APE (KESES)</th>\n",
       "      <th>P-DT-small AE (MENETIDO)</th>\n",
       "      <th>P-DT-small APE (MENETIDO)</th>\n",
       "      <th>P-DT-small APE (KESES)</th>\n",
       "    </tr>\n",
       "  </thead>\n",
       "  <tbody>\n",
       "    <tr>\n",
       "      <th>count</th>\n",
       "      <td>375756.000000</td>\n",
       "      <td>3.757560e+05</td>\n",
       "      <td>3.757560e+05</td>\n",
       "      <td>375756.000000</td>\n",
       "      <td>3.632570e+05</td>\n",
       "      <td>3.632530e+05</td>\n",
       "      <td>375756.000000</td>\n",
       "      <td>3.632570e+05</td>\n",
       "      <td>3.632530e+05</td>\n",
       "    </tr>\n",
       "    <tr>\n",
       "      <th>mean</th>\n",
       "      <td>0.376994</td>\n",
       "      <td>inf</td>\n",
       "      <td>inf</td>\n",
       "      <td>0.272791</td>\n",
       "      <td>inf</td>\n",
       "      <td>inf</td>\n",
       "      <td>0.272951</td>\n",
       "      <td>inf</td>\n",
       "      <td>inf</td>\n",
       "    </tr>\n",
       "    <tr>\n",
       "      <th>std</th>\n",
       "      <td>0.616813</td>\n",
       "      <td>NaN</td>\n",
       "      <td>NaN</td>\n",
       "      <td>0.579716</td>\n",
       "      <td>NaN</td>\n",
       "      <td>NaN</td>\n",
       "      <td>0.580614</td>\n",
       "      <td>NaN</td>\n",
       "      <td>NaN</td>\n",
       "    </tr>\n",
       "    <tr>\n",
       "      <th>min</th>\n",
       "      <td>0.000007</td>\n",
       "      <td>-1.637744e+04</td>\n",
       "      <td>-1.532330e+04</td>\n",
       "      <td>0.000000</td>\n",
       "      <td>-1.489422e+04</td>\n",
       "      <td>-1.975000e+04</td>\n",
       "      <td>0.000000</td>\n",
       "      <td>-1.489422e+04</td>\n",
       "      <td>-1.975000e+04</td>\n",
       "    </tr>\n",
       "    <tr>\n",
       "      <th>25%</th>\n",
       "      <td>0.120238</td>\n",
       "      <td>6.475098e+00</td>\n",
       "      <td>-7.748312e+01</td>\n",
       "      <td>0.058766</td>\n",
       "      <td>3.141642e+00</td>\n",
       "      <td>-4.941619e+01</td>\n",
       "      <td>0.058766</td>\n",
       "      <td>3.141642e+00</td>\n",
       "      <td>-4.941619e+01</td>\n",
       "    </tr>\n",
       "    <tr>\n",
       "      <th>50%</th>\n",
       "      <td>0.253240</td>\n",
       "      <td>1.569051e+01</td>\n",
       "      <td>-2.933776e+01</td>\n",
       "      <td>0.139245</td>\n",
       "      <td>8.181594e+00</td>\n",
       "      <td>-7.407380e+00</td>\n",
       "      <td>0.139290</td>\n",
       "      <td>8.181594e+00</td>\n",
       "      <td>-7.407380e+00</td>\n",
       "    </tr>\n",
       "    <tr>\n",
       "      <th>75%</th>\n",
       "      <td>0.428092</td>\n",
       "      <td>3.673366e+01</td>\n",
       "      <td>9.072160e+01</td>\n",
       "      <td>0.290157</td>\n",
       "      <td>2.142627e+01</td>\n",
       "      <td>6.349195e+01</td>\n",
       "      <td>0.290157</td>\n",
       "      <td>2.142627e+01</td>\n",
       "      <td>6.349195e+01</td>\n",
       "    </tr>\n",
       "    <tr>\n",
       "      <th>max</th>\n",
       "      <td>79.268958</td>\n",
       "      <td>inf</td>\n",
       "      <td>inf</td>\n",
       "      <td>79.457042</td>\n",
       "      <td>inf</td>\n",
       "      <td>inf</td>\n",
       "      <td>79.457042</td>\n",
       "      <td>inf</td>\n",
       "      <td>inf</td>\n",
       "    </tr>\n",
       "  </tbody>\n",
       "</table>\n",
       "</div>"
      ]
     },
     "execution_count": 74,
     "metadata": {},
     "output_type": "execute_result"
    }
   ],
   "execution_count": 74
  },
  {
   "metadata": {
    "ExecuteTime": {
     "end_time": "2024-11-26T07:53:10.461959Z",
     "start_time": "2024-11-26T07:53:10.311917Z"
    }
   },
   "cell_type": "code",
   "source": "eval_df_restrcited=eval_df[(eval_df['KESES']>5) & (eval_df['TERV_IDOTARTAM (m)']>10)]",
   "id": "b502f94a2e33e3ea",
   "outputs": [],
   "execution_count": 101
  },
  {
   "metadata": {
    "ExecuteTime": {
     "end_time": "2024-11-26T07:53:14.314253Z",
     "start_time": "2024-11-26T07:53:14.228509Z"
    }
   },
   "cell_type": "code",
   "source": "eval_df_restrcited.head()",
   "id": "ed5d6a6220a1b546",
   "outputs": [
    {
     "data": {
      "text/plain": [
       "        VONATSZAM KOZLEKEDESI_NAP      KESES       OSSZ_KESES  TENY_IDOTARTAM  \\\n",
       "127525       2034      2023-04-15   7.250000  0 days 00:08:38       60.250000   \n",
       "128051       2067      2023-04-15   7.033333  0 days 00:09:19       60.033333   \n",
       "128170       2077      2023-04-15   5.033333  0 days 00:05:35       58.033333   \n",
       "224816      32619      2023-04-01  11.433333  0 days 00:14:12       24.433333   \n",
       "224819      32619      2023-04-01   5.650000  0 days 00:21:25       18.650000   \n",
       "\n",
       "        TERV_IDOTARTAM (m)  P-NN-small      P-DT  P-DT-small  \\\n",
       "127525                53.0   -0.827470  0.285190    0.285190   \n",
       "128051                53.0   -0.805491  0.285190    0.285190   \n",
       "128170                53.0   -0.755018  0.000000    0.000000   \n",
       "224816                13.0   -0.428698 -0.907062   -0.907062   \n",
       "224819                13.0   -0.273311 -0.712405   -0.712405   \n",
       "\n",
       "        JOSOLT_IDOTARTAM P-NN-small  ...  P-NN-small APE (MENETIDO)  \\\n",
       "127525                    52.172530  ...                  13.406589   \n",
       "128051                    52.194509  ...                  13.057453   \n",
       "128170                    52.244982  ...                   9.974184   \n",
       "224816                    12.571302  ...                  48.548559   \n",
       "224819                    12.726689  ...                  31.760383   \n",
       "\n",
       "        P-NN-small APE (KESES)  JOSOLT_IDOTARTAM P-DT  P-DT AE (MENETIDO)  \\\n",
       "127525              111.413379              53.285190            6.964810   \n",
       "128051              111.452474              53.285190            6.748143   \n",
       "128170              115.000356              53.000000            5.033333   \n",
       "224816              103.749545              12.092938           12.340396   \n",
       "224819              104.837372              12.287595            6.362405   \n",
       "\n",
       "        P-DT APE (MENETIDO)  P-DT APE (KESES)  JOSOLT_IDOTARTAM P-DT-small  \\\n",
       "127525            11.559850         96.066341                    53.285190   \n",
       "128051            11.240660         95.945162                    53.285190   \n",
       "128170             8.673176        100.000000                    53.000000   \n",
       "224816            50.506394        107.933489                    12.092938   \n",
       "224819            34.114775        112.608946                    12.287595   \n",
       "\n",
       "        P-DT-small AE (MENETIDO)  P-DT-small APE (MENETIDO)  \\\n",
       "127525                  6.964810                  11.559850   \n",
       "128051                  6.748143                  11.240660   \n",
       "128170                  5.033333                   8.673176   \n",
       "224816                 12.340396                  50.506394   \n",
       "224819                  6.362405                  34.114775   \n",
       "\n",
       "        P-DT-small APE (KESES)  \n",
       "127525               96.066341  \n",
       "128051               95.945162  \n",
       "128170              100.000000  \n",
       "224816              107.933489  \n",
       "224819              112.608946  \n",
       "\n",
       "[5 rows x 21 columns]"
      ],
      "text/html": [
       "<div>\n",
       "<style scoped>\n",
       "    .dataframe tbody tr th:only-of-type {\n",
       "        vertical-align: middle;\n",
       "    }\n",
       "\n",
       "    .dataframe tbody tr th {\n",
       "        vertical-align: top;\n",
       "    }\n",
       "\n",
       "    .dataframe thead th {\n",
       "        text-align: right;\n",
       "    }\n",
       "</style>\n",
       "<table border=\"1\" class=\"dataframe\">\n",
       "  <thead>\n",
       "    <tr style=\"text-align: right;\">\n",
       "      <th></th>\n",
       "      <th>VONATSZAM</th>\n",
       "      <th>KOZLEKEDESI_NAP</th>\n",
       "      <th>KESES</th>\n",
       "      <th>OSSZ_KESES</th>\n",
       "      <th>TENY_IDOTARTAM</th>\n",
       "      <th>TERV_IDOTARTAM (m)</th>\n",
       "      <th>P-NN-small</th>\n",
       "      <th>P-DT</th>\n",
       "      <th>P-DT-small</th>\n",
       "      <th>JOSOLT_IDOTARTAM P-NN-small</th>\n",
       "      <th>...</th>\n",
       "      <th>P-NN-small APE (MENETIDO)</th>\n",
       "      <th>P-NN-small APE (KESES)</th>\n",
       "      <th>JOSOLT_IDOTARTAM P-DT</th>\n",
       "      <th>P-DT AE (MENETIDO)</th>\n",
       "      <th>P-DT APE (MENETIDO)</th>\n",
       "      <th>P-DT APE (KESES)</th>\n",
       "      <th>JOSOLT_IDOTARTAM P-DT-small</th>\n",
       "      <th>P-DT-small AE (MENETIDO)</th>\n",
       "      <th>P-DT-small APE (MENETIDO)</th>\n",
       "      <th>P-DT-small APE (KESES)</th>\n",
       "    </tr>\n",
       "  </thead>\n",
       "  <tbody>\n",
       "    <tr>\n",
       "      <th>127525</th>\n",
       "      <td>2034</td>\n",
       "      <td>2023-04-15</td>\n",
       "      <td>7.250000</td>\n",
       "      <td>0 days 00:08:38</td>\n",
       "      <td>60.250000</td>\n",
       "      <td>53.0</td>\n",
       "      <td>-0.827470</td>\n",
       "      <td>0.285190</td>\n",
       "      <td>0.285190</td>\n",
       "      <td>52.172530</td>\n",
       "      <td>...</td>\n",
       "      <td>13.406589</td>\n",
       "      <td>111.413379</td>\n",
       "      <td>53.285190</td>\n",
       "      <td>6.964810</td>\n",
       "      <td>11.559850</td>\n",
       "      <td>96.066341</td>\n",
       "      <td>53.285190</td>\n",
       "      <td>6.964810</td>\n",
       "      <td>11.559850</td>\n",
       "      <td>96.066341</td>\n",
       "    </tr>\n",
       "    <tr>\n",
       "      <th>128051</th>\n",
       "      <td>2067</td>\n",
       "      <td>2023-04-15</td>\n",
       "      <td>7.033333</td>\n",
       "      <td>0 days 00:09:19</td>\n",
       "      <td>60.033333</td>\n",
       "      <td>53.0</td>\n",
       "      <td>-0.805491</td>\n",
       "      <td>0.285190</td>\n",
       "      <td>0.285190</td>\n",
       "      <td>52.194509</td>\n",
       "      <td>...</td>\n",
       "      <td>13.057453</td>\n",
       "      <td>111.452474</td>\n",
       "      <td>53.285190</td>\n",
       "      <td>6.748143</td>\n",
       "      <td>11.240660</td>\n",
       "      <td>95.945162</td>\n",
       "      <td>53.285190</td>\n",
       "      <td>6.748143</td>\n",
       "      <td>11.240660</td>\n",
       "      <td>95.945162</td>\n",
       "    </tr>\n",
       "    <tr>\n",
       "      <th>128170</th>\n",
       "      <td>2077</td>\n",
       "      <td>2023-04-15</td>\n",
       "      <td>5.033333</td>\n",
       "      <td>0 days 00:05:35</td>\n",
       "      <td>58.033333</td>\n",
       "      <td>53.0</td>\n",
       "      <td>-0.755018</td>\n",
       "      <td>0.000000</td>\n",
       "      <td>0.000000</td>\n",
       "      <td>52.244982</td>\n",
       "      <td>...</td>\n",
       "      <td>9.974184</td>\n",
       "      <td>115.000356</td>\n",
       "      <td>53.000000</td>\n",
       "      <td>5.033333</td>\n",
       "      <td>8.673176</td>\n",
       "      <td>100.000000</td>\n",
       "      <td>53.000000</td>\n",
       "      <td>5.033333</td>\n",
       "      <td>8.673176</td>\n",
       "      <td>100.000000</td>\n",
       "    </tr>\n",
       "    <tr>\n",
       "      <th>224816</th>\n",
       "      <td>32619</td>\n",
       "      <td>2023-04-01</td>\n",
       "      <td>11.433333</td>\n",
       "      <td>0 days 00:14:12</td>\n",
       "      <td>24.433333</td>\n",
       "      <td>13.0</td>\n",
       "      <td>-0.428698</td>\n",
       "      <td>-0.907062</td>\n",
       "      <td>-0.907062</td>\n",
       "      <td>12.571302</td>\n",
       "      <td>...</td>\n",
       "      <td>48.548559</td>\n",
       "      <td>103.749545</td>\n",
       "      <td>12.092938</td>\n",
       "      <td>12.340396</td>\n",
       "      <td>50.506394</td>\n",
       "      <td>107.933489</td>\n",
       "      <td>12.092938</td>\n",
       "      <td>12.340396</td>\n",
       "      <td>50.506394</td>\n",
       "      <td>107.933489</td>\n",
       "    </tr>\n",
       "    <tr>\n",
       "      <th>224819</th>\n",
       "      <td>32619</td>\n",
       "      <td>2023-04-01</td>\n",
       "      <td>5.650000</td>\n",
       "      <td>0 days 00:21:25</td>\n",
       "      <td>18.650000</td>\n",
       "      <td>13.0</td>\n",
       "      <td>-0.273311</td>\n",
       "      <td>-0.712405</td>\n",
       "      <td>-0.712405</td>\n",
       "      <td>12.726689</td>\n",
       "      <td>...</td>\n",
       "      <td>31.760383</td>\n",
       "      <td>104.837372</td>\n",
       "      <td>12.287595</td>\n",
       "      <td>6.362405</td>\n",
       "      <td>34.114775</td>\n",
       "      <td>112.608946</td>\n",
       "      <td>12.287595</td>\n",
       "      <td>6.362405</td>\n",
       "      <td>34.114775</td>\n",
       "      <td>112.608946</td>\n",
       "    </tr>\n",
       "  </tbody>\n",
       "</table>\n",
       "<p>5 rows × 21 columns</p>\n",
       "</div>"
      ]
     },
     "execution_count": 102,
     "metadata": {},
     "output_type": "execute_result"
    }
   ],
   "execution_count": 102
  },
  {
   "metadata": {
    "ExecuteTime": {
     "end_time": "2024-11-26T07:53:21.528292Z",
     "start_time": "2024-11-26T07:53:21.504856Z"
    }
   },
   "cell_type": "code",
   "source": "ape_stat_res=eval_df_restrcited[ape_stat_s].describe()",
   "id": "36b0848e662d518d",
   "outputs": [],
   "execution_count": 103
  },
  {
   "metadata": {
    "ExecuteTime": {
     "end_time": "2024-11-26T07:53:24.983571Z",
     "start_time": "2024-11-26T07:53:24.968969Z"
    }
   },
   "cell_type": "code",
   "source": "print(ape_stat_res.to_latex())",
   "id": "635ff09e3e229f0b",
   "outputs": [
    {
     "name": "stdout",
     "output_type": "stream",
     "text": [
      "\\begin{tabular}{lrrr}\n",
      "\\toprule\n",
      " & P-NN-small APE (MENETIDO) & P-DT APE (MENETIDO) & P-DT-small APE (MENETIDO) \\\\\n",
      "\\midrule\n",
      "count & 12.000000 & 12.000000 & 12.000000 \\\\\n",
      "mean & 25.175177 & 24.816343 & 24.816343 \\\\\n",
      "std & 14.705735 & 16.129392 & 16.129392 \\\\\n",
      "min & 9.974184 & 8.673176 & 8.673176 \\\\\n",
      "25% & 13.057453 & 11.240660 & 11.240660 \\\\\n",
      "50% & 22.583486 & 22.181527 & 22.181527 \\\\\n",
      "75% & 34.303893 & 34.114775 & 34.114775 \\\\\n",
      "max & 48.548559 & 50.506394 & 50.506394 \\\\\n",
      "\\bottomrule\n",
      "\\end{tabular}\n",
      "\n"
     ]
    }
   ],
   "execution_count": 104
  },
  {
   "metadata": {
    "ExecuteTime": {
     "end_time": "2024-11-26T07:53:38.294475Z",
     "start_time": "2024-11-26T07:53:38.279684Z"
    }
   },
   "cell_type": "code",
   "source": [
    "apes_delay_res=eval_df_restrcited[apes_delay_s].describe()\n",
    "print(apes_delay_res.to_latex())"
   ],
   "id": "43e4977d8e6f699a",
   "outputs": [
    {
     "name": "stdout",
     "output_type": "stream",
     "text": [
      "\\begin{tabular}{lrrr}\n",
      "\\toprule\n",
      " & P-NN-small APE (KESES) & P-DT APE (KESES) & P-DT-small APE (KESES) \\\\\n",
      "\\midrule\n",
      "count & 12.000000 & 12.000000 & 12.000000 \\\\\n",
      "mean & 106.593949 & 100.265201 & 100.265201 \\\\\n",
      "std & 7.513354 & 8.241808 & 8.241808 \\\\\n",
      "min & 93.110566 & 89.037267 & 89.037267 \\\\\n",
      "25% & 103.749545 & 95.945162 & 95.945162 \\\\\n",
      "50% & 108.125375 & 98.033171 & 98.033171 \\\\\n",
      "75% & 111.452474 & 107.933489 & 107.933489 \\\\\n",
      "max & 115.000356 & 112.608946 & 112.608946 \\\\\n",
      "\\bottomrule\n",
      "\\end{tabular}\n",
      "\n"
     ]
    }
   ],
   "execution_count": 105
  },
  {
   "metadata": {
    "jupyter": {
     "is_executing": true
    },
    "ExecuteTime": {
     "start_time": "2024-11-25T20:08:34.395255Z"
    }
   },
   "cell_type": "code",
   "source": [
    "    \n",
    "def previous_data_and_route(date_and_time:datetime.datetime, train_no):\n",
    "    #todo live\n",
    "    schedule=df_to_validate_orig[df_to_validate_orig['KOZLEKEDESI_NAP']==date_and_time.date and df_to_validate_orig['VONATSZAM']==train_no]\n",
    "    actual_record=schedule['MENETREND_IDO']+schedule['OSSZ_KESES']\n",
    "    actual_record=schedule[schedule['ELOZO_ESEMENY_IDO']<=date_and_time and schedule['MENETREND_IDO']+schedule['OSSZ_KESES']>date_and_time]\n",
    "    schedule_to_go=\n",
    "    \n",
    "    \n",
    "    chedule_past=schedule[schedule['ELOZO_ESEMENY_IDO']>=date_and_time]\n",
    "\n",
    "    last_event_row = df.iloc[df['ELOZO_ESEMENY_IDO'].argmax()]\n",
    "\n",
    "    schedule_to_go=\n",
    "    \n",
    "    \n",
    "\n",
    "def predict(date:datetime.date,time:datetime.time=None,number:int=None):\n",
    "    "
   ],
   "id": "bf0718c5407a20b6",
   "outputs": [],
   "execution_count": null
  },
  {
   "metadata": {
    "ExecuteTime": {
     "end_time": "2024-11-25T20:10:29.725414Z",
     "start_time": "2024-11-25T20:10:29.669760Z"
    }
   },
   "cell_type": "code",
   "source": "print('hello')",
   "id": "674211922d17cc8e",
   "outputs": [
    {
     "name": "stdout",
     "output_type": "stream",
     "text": [
      "hello\n"
     ]
    }
   ],
   "execution_count": 174
  },
  {
   "metadata": {},
   "cell_type": "code",
   "outputs": [],
   "execution_count": null,
   "source": "",
   "id": "e96e9fec70c1385c"
  }
 ],
 "metadata": {
  "kernelspec": {
   "display_name": "Python 3",
   "language": "python",
   "name": "python3"
  },
  "language_info": {
   "codemirror_mode": {
    "name": "ipython",
    "version": 2
   },
   "file_extension": ".py",
   "mimetype": "text/x-python",
   "name": "python",
   "nbconvert_exporter": "python",
   "pygments_lexer": "ipython2",
   "version": "2.7.6"
  }
 },
 "nbformat": 4,
 "nbformat_minor": 5
}

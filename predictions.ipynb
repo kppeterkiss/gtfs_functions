{
 "cells": [
  {
   "metadata": {},
   "cell_type": "markdown",
   "source": "# Homogén adatok átalakítása modell tanításhoz",
   "id": "eb4830a135e6d98e"
  },
  {
   "metadata": {},
   "cell_type": "code",
   "outputs": [],
   "execution_count": 3,
   "source": [
    "import pandas as pd\n",
    "from sklearn.preprocessing import MinMaxScaler"
   ],
   "id": "initial_id"
  },
  {
   "metadata": {
    "ExecuteTime": {
     "end_time": "2024-11-06T12:42:31.711998Z",
     "start_time": "2024-11-06T12:42:31.703930Z"
    }
   },
   "cell_type": "code",
   "source": [
    "def load_data(fn): \n",
    "    with open(fn, 'rt') as f:\n",
    "        types = next(f).rstrip().split(',')[1:]\n",
    "        columns = next(f).rstrip().split(',')[1:]\n",
    "        df = pd.read_csv(f, dtype=dict(zip(columns, types)), index_col=0, names=columns)\n",
    "        return df"
   ],
   "id": "24f7da327c95677a",
   "outputs": [],
   "execution_count": 4
  },
  {
   "metadata": {
    "ExecuteTime": {
     "end_time": "2024-11-06T12:42:31.720236Z",
     "start_time": "2024-11-06T12:42:31.715030Z"
    }
   },
   "cell_type": "code",
   "source": [
    "data_root = \"data/\"\n",
    "datafn= \"data.csv\""
   ],
   "id": "8414e604476e21d9",
   "outputs": [],
   "execution_count": 5
  },
  {
   "metadata": {
    "ExecuteTime": {
     "end_time": "2024-11-06T12:43:32.838276Z",
     "start_time": "2024-11-06T12:42:31.723247Z"
    }
   },
   "cell_type": "code",
   "source": [
    "#raw_data =load_data(data_root+datafn)\n",
    "raw_data=pd.read_pickle(data_root+'data.pkl')\n"
   ],
   "id": "c5688790312e3027",
   "outputs": [],
   "execution_count": 6
  },
  {
   "metadata": {
    "ExecuteTime": {
     "end_time": "2024-11-06T12:43:33.816036Z",
     "start_time": "2024-11-06T12:43:32.998152Z"
    }
   },
   "cell_type": "code",
   "source": "raw_data.head()",
   "id": "d31e071dd9ee53c9",
   "outputs": [
    {
     "data": {
      "text/plain": [
       "  VONAL  VONATSZAM  VONTATO_TIPUS    ELOZO_ESEMENY_IDO MENETREND_IDO  \\\n",
       "0    70       2010            465                  0.0      00:25:00   \n",
       "1    70       2010            465  2023-01-01 00:25:00      00:25:00   \n",
       "2    70       2010            465  2023-01-01 00:25:00      00:29:00   \n",
       "3     2       2010            465  2023-01-01 00:29:00      00:30:00   \n",
       "4     2       2010            465  2023-01-01 00:30:00      00:35:00   \n",
       "\n",
       "          OSSZ_KESES      ELOZO_KESES              KESES   tx    t  ...    E  \\\n",
       "0                0.0              0.0                0.0  8.5  6.1  ...  0.0   \n",
       "1    0 days 00:00:24              0.0                0.0  8.5  6.1  ...  0.0   \n",
       "2    0 days 00:01:07  0 days 00:00:24    0 days 00:00:43  8.5  6.1  ...  0.0   \n",
       "3    0 days 00:00:58  0 days 00:01:07  -1 days +23:59:51  8.5  6.1  ...  0.0   \n",
       "4  -1 days +23:59:50  0 days 00:00:58  -1 days +23:58:52  8.5  6.1  ...  0.0   \n",
       "\n",
       "    ÁI   ÁE Kezdés  Befejezés Kizárás (1=VZ,2=LJ)  \\\n",
       "0  0.0  0.0    0.0        0.0                 0.0   \n",
       "1  0.0  0.0    0.0        0.0                 0.0   \n",
       "2  0.0  0.0    0.0        0.0                 0.0   \n",
       "3  0.0  0.0    0.0        0.0                 0.0   \n",
       "4  0.0  0.0    0.0        0.0                 0.0   \n",
       "\n",
       "   Kiutalt menetvonalak zavartatása nélkül  Státus  ELOZO VONAT KESES  \\\n",
       "0                                      0.0     0.0                NaN   \n",
       "1                                      0.0     0.0                NaN   \n",
       "2                                      0.0     0.0                NaN   \n",
       "3                                      0.0     0.0                NaN   \n",
       "4                                      0.0     0.0                NaN   \n",
       "\n",
       "   VONAL STATUSZ VALTOZOTT  \n",
       "0                    False  \n",
       "1                    False  \n",
       "2                    False  \n",
       "3                    False  \n",
       "4                    False  \n",
       "\n",
       "[5 rows x 33 columns]"
      ],
      "text/html": [
       "<div>\n",
       "<style scoped>\n",
       "    .dataframe tbody tr th:only-of-type {\n",
       "        vertical-align: middle;\n",
       "    }\n",
       "\n",
       "    .dataframe tbody tr th {\n",
       "        vertical-align: top;\n",
       "    }\n",
       "\n",
       "    .dataframe thead th {\n",
       "        text-align: right;\n",
       "    }\n",
       "</style>\n",
       "<table border=\"1\" class=\"dataframe\">\n",
       "  <thead>\n",
       "    <tr style=\"text-align: right;\">\n",
       "      <th></th>\n",
       "      <th>VONAL</th>\n",
       "      <th>VONATSZAM</th>\n",
       "      <th>VONTATO_TIPUS</th>\n",
       "      <th>ELOZO_ESEMENY_IDO</th>\n",
       "      <th>MENETREND_IDO</th>\n",
       "      <th>OSSZ_KESES</th>\n",
       "      <th>ELOZO_KESES</th>\n",
       "      <th>KESES</th>\n",
       "      <th>tx</th>\n",
       "      <th>t</th>\n",
       "      <th>...</th>\n",
       "      <th>E</th>\n",
       "      <th>ÁI</th>\n",
       "      <th>ÁE</th>\n",
       "      <th>Kezdés</th>\n",
       "      <th>Befejezés</th>\n",
       "      <th>Kizárás (1=VZ,2=LJ)</th>\n",
       "      <th>Kiutalt menetvonalak zavartatása nélkül</th>\n",
       "      <th>Státus</th>\n",
       "      <th>ELOZO VONAT KESES</th>\n",
       "      <th>VONAL STATUSZ VALTOZOTT</th>\n",
       "    </tr>\n",
       "  </thead>\n",
       "  <tbody>\n",
       "    <tr>\n",
       "      <th>0</th>\n",
       "      <td>70</td>\n",
       "      <td>2010</td>\n",
       "      <td>465</td>\n",
       "      <td>0.0</td>\n",
       "      <td>00:25:00</td>\n",
       "      <td>0.0</td>\n",
       "      <td>0.0</td>\n",
       "      <td>0.0</td>\n",
       "      <td>8.5</td>\n",
       "      <td>6.1</td>\n",
       "      <td>...</td>\n",
       "      <td>0.0</td>\n",
       "      <td>0.0</td>\n",
       "      <td>0.0</td>\n",
       "      <td>0.0</td>\n",
       "      <td>0.0</td>\n",
       "      <td>0.0</td>\n",
       "      <td>0.0</td>\n",
       "      <td>0.0</td>\n",
       "      <td>NaN</td>\n",
       "      <td>False</td>\n",
       "    </tr>\n",
       "    <tr>\n",
       "      <th>1</th>\n",
       "      <td>70</td>\n",
       "      <td>2010</td>\n",
       "      <td>465</td>\n",
       "      <td>2023-01-01 00:25:00</td>\n",
       "      <td>00:25:00</td>\n",
       "      <td>0 days 00:00:24</td>\n",
       "      <td>0.0</td>\n",
       "      <td>0.0</td>\n",
       "      <td>8.5</td>\n",
       "      <td>6.1</td>\n",
       "      <td>...</td>\n",
       "      <td>0.0</td>\n",
       "      <td>0.0</td>\n",
       "      <td>0.0</td>\n",
       "      <td>0.0</td>\n",
       "      <td>0.0</td>\n",
       "      <td>0.0</td>\n",
       "      <td>0.0</td>\n",
       "      <td>0.0</td>\n",
       "      <td>NaN</td>\n",
       "      <td>False</td>\n",
       "    </tr>\n",
       "    <tr>\n",
       "      <th>2</th>\n",
       "      <td>70</td>\n",
       "      <td>2010</td>\n",
       "      <td>465</td>\n",
       "      <td>2023-01-01 00:25:00</td>\n",
       "      <td>00:29:00</td>\n",
       "      <td>0 days 00:01:07</td>\n",
       "      <td>0 days 00:00:24</td>\n",
       "      <td>0 days 00:00:43</td>\n",
       "      <td>8.5</td>\n",
       "      <td>6.1</td>\n",
       "      <td>...</td>\n",
       "      <td>0.0</td>\n",
       "      <td>0.0</td>\n",
       "      <td>0.0</td>\n",
       "      <td>0.0</td>\n",
       "      <td>0.0</td>\n",
       "      <td>0.0</td>\n",
       "      <td>0.0</td>\n",
       "      <td>0.0</td>\n",
       "      <td>NaN</td>\n",
       "      <td>False</td>\n",
       "    </tr>\n",
       "    <tr>\n",
       "      <th>3</th>\n",
       "      <td>2</td>\n",
       "      <td>2010</td>\n",
       "      <td>465</td>\n",
       "      <td>2023-01-01 00:29:00</td>\n",
       "      <td>00:30:00</td>\n",
       "      <td>0 days 00:00:58</td>\n",
       "      <td>0 days 00:01:07</td>\n",
       "      <td>-1 days +23:59:51</td>\n",
       "      <td>8.5</td>\n",
       "      <td>6.1</td>\n",
       "      <td>...</td>\n",
       "      <td>0.0</td>\n",
       "      <td>0.0</td>\n",
       "      <td>0.0</td>\n",
       "      <td>0.0</td>\n",
       "      <td>0.0</td>\n",
       "      <td>0.0</td>\n",
       "      <td>0.0</td>\n",
       "      <td>0.0</td>\n",
       "      <td>NaN</td>\n",
       "      <td>False</td>\n",
       "    </tr>\n",
       "    <tr>\n",
       "      <th>4</th>\n",
       "      <td>2</td>\n",
       "      <td>2010</td>\n",
       "      <td>465</td>\n",
       "      <td>2023-01-01 00:30:00</td>\n",
       "      <td>00:35:00</td>\n",
       "      <td>-1 days +23:59:50</td>\n",
       "      <td>0 days 00:00:58</td>\n",
       "      <td>-1 days +23:58:52</td>\n",
       "      <td>8.5</td>\n",
       "      <td>6.1</td>\n",
       "      <td>...</td>\n",
       "      <td>0.0</td>\n",
       "      <td>0.0</td>\n",
       "      <td>0.0</td>\n",
       "      <td>0.0</td>\n",
       "      <td>0.0</td>\n",
       "      <td>0.0</td>\n",
       "      <td>0.0</td>\n",
       "      <td>0.0</td>\n",
       "      <td>NaN</td>\n",
       "      <td>False</td>\n",
       "    </tr>\n",
       "  </tbody>\n",
       "</table>\n",
       "<p>5 rows × 33 columns</p>\n",
       "</div>"
      ]
     },
     "execution_count": 7,
     "metadata": {},
     "output_type": "execute_result"
    }
   ],
   "execution_count": 7
  },
  {
   "metadata": {
    "ExecuteTime": {
     "end_time": "2024-11-06T12:43:33.847578Z",
     "start_time": "2024-11-06T12:43:33.822042Z"
    }
   },
   "cell_type": "code",
   "source": [
    "import datetime\n",
    "def convert_time_to_minute(input):\n",
    "    if isinstance(input,datetime.time):\n",
    "        return float(input.hour*60+input.minute)\n",
    "    if isinstance(input,datetime.timedelta):\n",
    "        ret = input.total_seconds()/60\n",
    "       # if datetime.timedelta(0)>input:\n",
    "       #     return -ret\n",
    "        return ret\n",
    "    if isinstance(input,float):\n",
    "        return input\n",
    "    return -1.0"
   ],
   "id": "be66b9ba92baf2d4",
   "outputs": [],
   "execution_count": 8
  },
  {
   "metadata": {
    "ExecuteTime": {
     "end_time": "2024-11-06T12:43:33.862590Z",
     "start_time": "2024-11-06T12:43:33.853654Z"
    }
   },
   "cell_type": "code",
   "source": "# átalakítjuk időt percekké",
   "id": "bea3510fece59336",
   "outputs": [],
   "execution_count": 9
  },
  {
   "metadata": {
    "ExecuteTime": {
     "end_time": "2024-11-06T12:43:54.752329Z",
     "start_time": "2024-11-06T12:43:33.869606Z"
    }
   },
   "cell_type": "code",
   "source": [
    "raw_data[['MENETREND_IDO','ELOZO_KESES','ELOZO VONAT KESES','KESES']] = raw_data[['MENETREND_IDO','ELOZO_KESES','ELOZO VONAT KESES','KESES']].map(convert_time_to_minute)\n",
    "raw_data['VONAL STATUSZ VALTOZOTT']=raw_data['VONAL STATUSZ VALTOZOTT'].head().astype(float)\n",
    "raw_data.fillna(0.0,inplace=True)\n"
   ],
   "id": "7d7c5ea1e28cb35a",
   "outputs": [],
   "execution_count": 10
  },
  {
   "metadata": {
    "ExecuteTime": {
     "end_time": "2024-11-06T12:43:55.698003Z",
     "start_time": "2024-11-06T12:43:54.797347Z"
    }
   },
   "cell_type": "code",
   "source": [
    "#TODO boolean vs categorical?\n",
    "#TODO Vonal, Line mit kellene kezdeni velük? kicsit kölséges használni őket..\n",
    "#raw_data[['VONATSZAM','VONAL','VONTATO_TIPUS','Lassúmenet típusa','Kizárás (1=VZ,2=LJ)','Kiutalt menetvonalak zavartatása nélkül','Státus','Fels.vez. kikapcsolása']]=raw_data[['VONATSZAM','VONAL','VONTATO_TIPUS','Lassúmenet típusa','Kizárás (1=VZ,2=LJ)','Kiutalt menetvonalak zavartatása nélkül','Státus','Fels.vez. kikapcsolása']].astype(\"category\")\n",
    "\n",
    "# sklearn nem bír  category-kal\n",
    "raw_data.drop(columns=['VONATSZAM','VONAL','VONTATO_TIPUS'],inplace=True)\n"
   ],
   "id": "f65819485e89ac5b",
   "outputs": [],
   "execution_count": 11
  },
  {
   "metadata": {
    "ExecuteTime": {
     "end_time": "2024-11-06T12:43:56.617142Z",
     "start_time": "2024-11-06T12:43:55.703518Z"
    }
   },
   "cell_type": "code",
   "source": [
    "\n",
    "#\n",
    "raw_data=raw_data.drop(columns=['ELOZO_ESEMENY_IDO','ID','Kizárásszám','Kezdés','Befejezés','LINE','OSSZ_KESES'])\n"
   ],
   "id": "c1bfa83a90af9d8d",
   "outputs": [],
   "execution_count": 12
  },
  {
   "metadata": {
    "ExecuteTime": {
     "end_time": "2024-11-06T12:43:56.682062Z",
     "start_time": "2024-11-06T12:43:56.622700Z"
    }
   },
   "cell_type": "code",
   "source": "raw_data.dtypes\n",
   "id": "e9bda6887b2600ad",
   "outputs": [
    {
     "data": {
      "text/plain": [
       "MENETREND_IDO                              float64\n",
       "ELOZO_KESES                                float64\n",
       "KESES                                      float64\n",
       "tx                                         float64\n",
       "t                                          float64\n",
       "tn                                         float64\n",
       "r                                          float64\n",
       "TERV_IDOTARTAM                             float64\n",
       "Érintett objektum típusa                   float64\n",
       "Lassúmenet típusa                          float64\n",
       "Lassúmenet hossza                          float64\n",
       "Lassúmenet mértéke (km/h)                  float64\n",
       "Lassúmenet mértéke motorvonatra (km/h)     float64\n",
       "Fels.vez. kikapcsolása                     float64\n",
       "I                                          float64\n",
       "E                                          float64\n",
       "ÁI                                         float64\n",
       "ÁE                                         float64\n",
       "Kizárás (1=VZ,2=LJ)                        float64\n",
       "Kiutalt menetvonalak zavartatása nélkül    float64\n",
       "Státus                                     float64\n",
       "ELOZO VONAT KESES                          float64\n",
       "VONAL STATUSZ VALTOZOTT                    float64\n",
       "dtype: object"
      ]
     },
     "execution_count": 13,
     "metadata": {},
     "output_type": "execute_result"
    }
   ],
   "execution_count": 13
  },
  {
   "metadata": {
    "ExecuteTime": {
     "end_time": "2024-11-06T09:46:41.591470Z",
     "start_time": "2024-11-06T09:46:41.521944Z"
    }
   },
   "cell_type": "code",
   "source": "raw_data.head()",
   "id": "a09069806bd36ada",
   "outputs": [
    {
     "data": {
      "text/plain": [
       "   MENETREND_IDO  ELOZO_KESES     KESES   tx    t   tn    r  TERV_IDOTARTAM  \\\n",
       "0           25.0     0.000000  0.000000  8.5  6.1  3.4  0.0             0.0   \n",
       "1           25.0     0.000000  0.000000  8.5  6.1  3.4  0.0             0.0   \n",
       "2           29.0     0.400000  0.716667  8.5  6.1  3.4  0.0           240.0   \n",
       "3           30.0     1.116667 -0.150000  8.5  6.1  3.4  0.0            60.0   \n",
       "4           35.0     0.966667 -1.133333  8.5  6.1  3.4  0.0           300.0   \n",
       "\n",
       "   Érintett objektum típusa  Lassúmenet típusa  ...  Fels.vez. kikapcsolása  \\\n",
       "0                       0.0                0.0  ...                     0.0   \n",
       "1                       0.0                0.0  ...                     0.0   \n",
       "2                       0.0                0.0  ...                     0.0   \n",
       "3                       0.0                0.0  ...                     0.0   \n",
       "4                       0.0                0.0  ...                     0.0   \n",
       "\n",
       "     I    E   ÁI   ÁE  Kizárás (1=VZ,2=LJ)  \\\n",
       "0  0.0  0.0  0.0  0.0                  0.0   \n",
       "1  0.0  0.0  0.0  0.0                  0.0   \n",
       "2  0.0  0.0  0.0  0.0                  0.0   \n",
       "3  0.0  0.0  0.0  0.0                  0.0   \n",
       "4  0.0  0.0  0.0  0.0                  0.0   \n",
       "\n",
       "   Kiutalt menetvonalak zavartatása nélkül  Státus  ELOZO VONAT KESES  \\\n",
       "0                                      0.0     0.0                NaN   \n",
       "1                                      0.0     0.0                NaN   \n",
       "2                                      0.0     0.0                NaN   \n",
       "3                                      0.0     0.0                NaN   \n",
       "4                                      0.0     0.0                NaN   \n",
       "\n",
       "   VONAL STATUSZ VALTOZOTT  \n",
       "0                      0.0  \n",
       "1                      0.0  \n",
       "2                      0.0  \n",
       "3                      0.0  \n",
       "4                      0.0  \n",
       "\n",
       "[5 rows x 23 columns]"
      ],
      "text/html": [
       "<div>\n",
       "<style scoped>\n",
       "    .dataframe tbody tr th:only-of-type {\n",
       "        vertical-align: middle;\n",
       "    }\n",
       "\n",
       "    .dataframe tbody tr th {\n",
       "        vertical-align: top;\n",
       "    }\n",
       "\n",
       "    .dataframe thead th {\n",
       "        text-align: right;\n",
       "    }\n",
       "</style>\n",
       "<table border=\"1\" class=\"dataframe\">\n",
       "  <thead>\n",
       "    <tr style=\"text-align: right;\">\n",
       "      <th></th>\n",
       "      <th>MENETREND_IDO</th>\n",
       "      <th>ELOZO_KESES</th>\n",
       "      <th>KESES</th>\n",
       "      <th>tx</th>\n",
       "      <th>t</th>\n",
       "      <th>tn</th>\n",
       "      <th>r</th>\n",
       "      <th>TERV_IDOTARTAM</th>\n",
       "      <th>Érintett objektum típusa</th>\n",
       "      <th>Lassúmenet típusa</th>\n",
       "      <th>...</th>\n",
       "      <th>Fels.vez. kikapcsolása</th>\n",
       "      <th>I</th>\n",
       "      <th>E</th>\n",
       "      <th>ÁI</th>\n",
       "      <th>ÁE</th>\n",
       "      <th>Kizárás (1=VZ,2=LJ)</th>\n",
       "      <th>Kiutalt menetvonalak zavartatása nélkül</th>\n",
       "      <th>Státus</th>\n",
       "      <th>ELOZO VONAT KESES</th>\n",
       "      <th>VONAL STATUSZ VALTOZOTT</th>\n",
       "    </tr>\n",
       "  </thead>\n",
       "  <tbody>\n",
       "    <tr>\n",
       "      <th>0</th>\n",
       "      <td>25.0</td>\n",
       "      <td>0.000000</td>\n",
       "      <td>0.000000</td>\n",
       "      <td>8.5</td>\n",
       "      <td>6.1</td>\n",
       "      <td>3.4</td>\n",
       "      <td>0.0</td>\n",
       "      <td>0.0</td>\n",
       "      <td>0.0</td>\n",
       "      <td>0.0</td>\n",
       "      <td>...</td>\n",
       "      <td>0.0</td>\n",
       "      <td>0.0</td>\n",
       "      <td>0.0</td>\n",
       "      <td>0.0</td>\n",
       "      <td>0.0</td>\n",
       "      <td>0.0</td>\n",
       "      <td>0.0</td>\n",
       "      <td>0.0</td>\n",
       "      <td>NaN</td>\n",
       "      <td>0.0</td>\n",
       "    </tr>\n",
       "    <tr>\n",
       "      <th>1</th>\n",
       "      <td>25.0</td>\n",
       "      <td>0.000000</td>\n",
       "      <td>0.000000</td>\n",
       "      <td>8.5</td>\n",
       "      <td>6.1</td>\n",
       "      <td>3.4</td>\n",
       "      <td>0.0</td>\n",
       "      <td>0.0</td>\n",
       "      <td>0.0</td>\n",
       "      <td>0.0</td>\n",
       "      <td>...</td>\n",
       "      <td>0.0</td>\n",
       "      <td>0.0</td>\n",
       "      <td>0.0</td>\n",
       "      <td>0.0</td>\n",
       "      <td>0.0</td>\n",
       "      <td>0.0</td>\n",
       "      <td>0.0</td>\n",
       "      <td>0.0</td>\n",
       "      <td>NaN</td>\n",
       "      <td>0.0</td>\n",
       "    </tr>\n",
       "    <tr>\n",
       "      <th>2</th>\n",
       "      <td>29.0</td>\n",
       "      <td>0.400000</td>\n",
       "      <td>0.716667</td>\n",
       "      <td>8.5</td>\n",
       "      <td>6.1</td>\n",
       "      <td>3.4</td>\n",
       "      <td>0.0</td>\n",
       "      <td>240.0</td>\n",
       "      <td>0.0</td>\n",
       "      <td>0.0</td>\n",
       "      <td>...</td>\n",
       "      <td>0.0</td>\n",
       "      <td>0.0</td>\n",
       "      <td>0.0</td>\n",
       "      <td>0.0</td>\n",
       "      <td>0.0</td>\n",
       "      <td>0.0</td>\n",
       "      <td>0.0</td>\n",
       "      <td>0.0</td>\n",
       "      <td>NaN</td>\n",
       "      <td>0.0</td>\n",
       "    </tr>\n",
       "    <tr>\n",
       "      <th>3</th>\n",
       "      <td>30.0</td>\n",
       "      <td>1.116667</td>\n",
       "      <td>-0.150000</td>\n",
       "      <td>8.5</td>\n",
       "      <td>6.1</td>\n",
       "      <td>3.4</td>\n",
       "      <td>0.0</td>\n",
       "      <td>60.0</td>\n",
       "      <td>0.0</td>\n",
       "      <td>0.0</td>\n",
       "      <td>...</td>\n",
       "      <td>0.0</td>\n",
       "      <td>0.0</td>\n",
       "      <td>0.0</td>\n",
       "      <td>0.0</td>\n",
       "      <td>0.0</td>\n",
       "      <td>0.0</td>\n",
       "      <td>0.0</td>\n",
       "      <td>0.0</td>\n",
       "      <td>NaN</td>\n",
       "      <td>0.0</td>\n",
       "    </tr>\n",
       "    <tr>\n",
       "      <th>4</th>\n",
       "      <td>35.0</td>\n",
       "      <td>0.966667</td>\n",
       "      <td>-1.133333</td>\n",
       "      <td>8.5</td>\n",
       "      <td>6.1</td>\n",
       "      <td>3.4</td>\n",
       "      <td>0.0</td>\n",
       "      <td>300.0</td>\n",
       "      <td>0.0</td>\n",
       "      <td>0.0</td>\n",
       "      <td>...</td>\n",
       "      <td>0.0</td>\n",
       "      <td>0.0</td>\n",
       "      <td>0.0</td>\n",
       "      <td>0.0</td>\n",
       "      <td>0.0</td>\n",
       "      <td>0.0</td>\n",
       "      <td>0.0</td>\n",
       "      <td>0.0</td>\n",
       "      <td>NaN</td>\n",
       "      <td>0.0</td>\n",
       "    </tr>\n",
       "  </tbody>\n",
       "</table>\n",
       "<p>5 rows × 23 columns</p>\n",
       "</div>"
      ]
     },
     "execution_count": 29,
     "metadata": {},
     "output_type": "execute_result"
    }
   ],
   "execution_count": 29
  },
  {
   "metadata": {
    "ExecuteTime": {
     "end_time": "2024-11-06T12:44:31.403674Z",
     "start_time": "2024-11-06T12:43:56.687070Z"
    }
   },
   "cell_type": "code",
   "source": "raw_data.to_csv(data_root+'preprocessed_data.csv', index=False)\n",
   "id": "d74af63a1024cca6",
   "outputs": [],
   "execution_count": 14
  },
  {
   "metadata": {
    "ExecuteTime": {
     "end_time": "2024-11-06T09:47:02.112772Z",
     "start_time": "2024-11-06T09:47:02.105773Z"
    }
   },
   "cell_type": "code",
   "source": "del raw_data",
   "id": "d864ed982883b86",
   "outputs": [],
   "execution_count": 30
  },
  {
   "metadata": {},
   "cell_type": "markdown",
   "source": [
    "# Modellek tanítása\n",
    "\n",
    "A modellek tanításához elég innentől futtatni."
   ],
   "id": "45023a9a3cc9648c"
  },
  {
   "metadata": {
    "ExecuteTime": {
     "end_time": "2024-11-12T06:05:43.971509Z",
     "start_time": "2024-11-12T06:05:38.887936Z"
    }
   },
   "cell_type": "code",
   "source": [
    "import pandas as pd\n",
    "data_root = \"data/\"\n",
    "\n",
    "nn_training_epochs= 20\n",
    "lr=0.0001\n",
    "\n",
    "\n",
    "\n",
    "raw_data=pd.read_csv(data_root+'preprocessed_data.csv')\n",
    "#raw_data['VONAL STATUSZ VALTOZOTT']=raw_data['VONAL STATUSZ VALTOZOTT'].head().astype(float)\n",
    "\n",
    "raw_data.head()\n",
    "\n"
   ],
   "id": "9a0c45d2539bcaef",
   "outputs": [
    {
     "data": {
      "text/plain": [
       "   MENETREND_IDO  ELOZO_KESES     KESES   tx    t   tn    r  TERV_IDOTARTAM  \\\n",
       "0           25.0     0.000000  0.000000  8.5  6.1  3.4  0.0             0.0   \n",
       "1           25.0     0.000000  0.000000  8.5  6.1  3.4  0.0             0.0   \n",
       "2           29.0     0.400000  0.716667  8.5  6.1  3.4  0.0           240.0   \n",
       "3           30.0     1.116667 -0.150000  8.5  6.1  3.4  0.0            60.0   \n",
       "4           35.0     0.966667 -1.133333  8.5  6.1  3.4  0.0           300.0   \n",
       "\n",
       "   Érintett objektum típusa  Lassúmenet típusa  ...  Fels.vez. kikapcsolása  \\\n",
       "0                       0.0                0.0  ...                     0.0   \n",
       "1                       0.0                0.0  ...                     0.0   \n",
       "2                       0.0                0.0  ...                     0.0   \n",
       "3                       0.0                0.0  ...                     0.0   \n",
       "4                       0.0                0.0  ...                     0.0   \n",
       "\n",
       "     I    E   ÁI   ÁE  Kizárás (1=VZ,2=LJ)  \\\n",
       "0  0.0  0.0  0.0  0.0                  0.0   \n",
       "1  0.0  0.0  0.0  0.0                  0.0   \n",
       "2  0.0  0.0  0.0  0.0                  0.0   \n",
       "3  0.0  0.0  0.0  0.0                  0.0   \n",
       "4  0.0  0.0  0.0  0.0                  0.0   \n",
       "\n",
       "   Kiutalt menetvonalak zavartatása nélkül  Státus  ELOZO VONAT KESES  \\\n",
       "0                                      0.0     0.0                0.0   \n",
       "1                                      0.0     0.0                0.0   \n",
       "2                                      0.0     0.0                0.0   \n",
       "3                                      0.0     0.0                0.0   \n",
       "4                                      0.0     0.0                0.0   \n",
       "\n",
       "   VONAL STATUSZ VALTOZOTT  \n",
       "0                      0.0  \n",
       "1                      0.0  \n",
       "2                      0.0  \n",
       "3                      0.0  \n",
       "4                      0.0  \n",
       "\n",
       "[5 rows x 23 columns]"
      ],
      "text/html": [
       "<div>\n",
       "<style scoped>\n",
       "    .dataframe tbody tr th:only-of-type {\n",
       "        vertical-align: middle;\n",
       "    }\n",
       "\n",
       "    .dataframe tbody tr th {\n",
       "        vertical-align: top;\n",
       "    }\n",
       "\n",
       "    .dataframe thead th {\n",
       "        text-align: right;\n",
       "    }\n",
       "</style>\n",
       "<table border=\"1\" class=\"dataframe\">\n",
       "  <thead>\n",
       "    <tr style=\"text-align: right;\">\n",
       "      <th></th>\n",
       "      <th>MENETREND_IDO</th>\n",
       "      <th>ELOZO_KESES</th>\n",
       "      <th>KESES</th>\n",
       "      <th>tx</th>\n",
       "      <th>t</th>\n",
       "      <th>tn</th>\n",
       "      <th>r</th>\n",
       "      <th>TERV_IDOTARTAM</th>\n",
       "      <th>Érintett objektum típusa</th>\n",
       "      <th>Lassúmenet típusa</th>\n",
       "      <th>...</th>\n",
       "      <th>Fels.vez. kikapcsolása</th>\n",
       "      <th>I</th>\n",
       "      <th>E</th>\n",
       "      <th>ÁI</th>\n",
       "      <th>ÁE</th>\n",
       "      <th>Kizárás (1=VZ,2=LJ)</th>\n",
       "      <th>Kiutalt menetvonalak zavartatása nélkül</th>\n",
       "      <th>Státus</th>\n",
       "      <th>ELOZO VONAT KESES</th>\n",
       "      <th>VONAL STATUSZ VALTOZOTT</th>\n",
       "    </tr>\n",
       "  </thead>\n",
       "  <tbody>\n",
       "    <tr>\n",
       "      <th>0</th>\n",
       "      <td>25.0</td>\n",
       "      <td>0.000000</td>\n",
       "      <td>0.000000</td>\n",
       "      <td>8.5</td>\n",
       "      <td>6.1</td>\n",
       "      <td>3.4</td>\n",
       "      <td>0.0</td>\n",
       "      <td>0.0</td>\n",
       "      <td>0.0</td>\n",
       "      <td>0.0</td>\n",
       "      <td>...</td>\n",
       "      <td>0.0</td>\n",
       "      <td>0.0</td>\n",
       "      <td>0.0</td>\n",
       "      <td>0.0</td>\n",
       "      <td>0.0</td>\n",
       "      <td>0.0</td>\n",
       "      <td>0.0</td>\n",
       "      <td>0.0</td>\n",
       "      <td>0.0</td>\n",
       "      <td>0.0</td>\n",
       "    </tr>\n",
       "    <tr>\n",
       "      <th>1</th>\n",
       "      <td>25.0</td>\n",
       "      <td>0.000000</td>\n",
       "      <td>0.000000</td>\n",
       "      <td>8.5</td>\n",
       "      <td>6.1</td>\n",
       "      <td>3.4</td>\n",
       "      <td>0.0</td>\n",
       "      <td>0.0</td>\n",
       "      <td>0.0</td>\n",
       "      <td>0.0</td>\n",
       "      <td>...</td>\n",
       "      <td>0.0</td>\n",
       "      <td>0.0</td>\n",
       "      <td>0.0</td>\n",
       "      <td>0.0</td>\n",
       "      <td>0.0</td>\n",
       "      <td>0.0</td>\n",
       "      <td>0.0</td>\n",
       "      <td>0.0</td>\n",
       "      <td>0.0</td>\n",
       "      <td>0.0</td>\n",
       "    </tr>\n",
       "    <tr>\n",
       "      <th>2</th>\n",
       "      <td>29.0</td>\n",
       "      <td>0.400000</td>\n",
       "      <td>0.716667</td>\n",
       "      <td>8.5</td>\n",
       "      <td>6.1</td>\n",
       "      <td>3.4</td>\n",
       "      <td>0.0</td>\n",
       "      <td>240.0</td>\n",
       "      <td>0.0</td>\n",
       "      <td>0.0</td>\n",
       "      <td>...</td>\n",
       "      <td>0.0</td>\n",
       "      <td>0.0</td>\n",
       "      <td>0.0</td>\n",
       "      <td>0.0</td>\n",
       "      <td>0.0</td>\n",
       "      <td>0.0</td>\n",
       "      <td>0.0</td>\n",
       "      <td>0.0</td>\n",
       "      <td>0.0</td>\n",
       "      <td>0.0</td>\n",
       "    </tr>\n",
       "    <tr>\n",
       "      <th>3</th>\n",
       "      <td>30.0</td>\n",
       "      <td>1.116667</td>\n",
       "      <td>-0.150000</td>\n",
       "      <td>8.5</td>\n",
       "      <td>6.1</td>\n",
       "      <td>3.4</td>\n",
       "      <td>0.0</td>\n",
       "      <td>60.0</td>\n",
       "      <td>0.0</td>\n",
       "      <td>0.0</td>\n",
       "      <td>...</td>\n",
       "      <td>0.0</td>\n",
       "      <td>0.0</td>\n",
       "      <td>0.0</td>\n",
       "      <td>0.0</td>\n",
       "      <td>0.0</td>\n",
       "      <td>0.0</td>\n",
       "      <td>0.0</td>\n",
       "      <td>0.0</td>\n",
       "      <td>0.0</td>\n",
       "      <td>0.0</td>\n",
       "    </tr>\n",
       "    <tr>\n",
       "      <th>4</th>\n",
       "      <td>35.0</td>\n",
       "      <td>0.966667</td>\n",
       "      <td>-1.133333</td>\n",
       "      <td>8.5</td>\n",
       "      <td>6.1</td>\n",
       "      <td>3.4</td>\n",
       "      <td>0.0</td>\n",
       "      <td>300.0</td>\n",
       "      <td>0.0</td>\n",
       "      <td>0.0</td>\n",
       "      <td>...</td>\n",
       "      <td>0.0</td>\n",
       "      <td>0.0</td>\n",
       "      <td>0.0</td>\n",
       "      <td>0.0</td>\n",
       "      <td>0.0</td>\n",
       "      <td>0.0</td>\n",
       "      <td>0.0</td>\n",
       "      <td>0.0</td>\n",
       "      <td>0.0</td>\n",
       "      <td>0.0</td>\n",
       "    </tr>\n",
       "  </tbody>\n",
       "</table>\n",
       "<p>5 rows × 23 columns</p>\n",
       "</div>"
      ]
     },
     "execution_count": 99,
     "metadata": {},
     "output_type": "execute_result"
    }
   ],
   "execution_count": 99
  },
  {
   "metadata": {
    "ExecuteTime": {
     "end_time": "2024-11-12T06:05:49.194803Z",
     "start_time": "2024-11-12T06:05:49.168750Z"
    }
   },
   "cell_type": "code",
   "source": [
    "from sklearn.preprocessing import MinMaxScaler\n",
    "from sklearn.model_selection import train_test_split\n",
    "def split_train_test(data, normalize=False):\n",
    "    raw_data=data.copy()\n",
    "    X_scaler=None\n",
    "    y_scaler=None\n",
    "    pd_y= raw_data[['KESES']]\n",
    "    pd_X = raw_data.drop(columns=['KESES'])\n",
    "    if normalize:\n",
    "        X_scaler = MinMaxScaler()\n",
    "        pd_X[pd_X.columns] = X_scaler.fit_transform(pd_X[pd_X.columns])\n",
    "        y_scaler=MinMaxScaler()\n",
    "        pd_y[pd_y.columns] = y_scaler.fit_transform(pd_y[pd_y.columns])\n",
    "   \n",
    "    '''\n",
    "    if normalize:\n",
    "        scaler = MinMaxScaler()\n",
    "        pd_X[pd_X.columns] = scaler.fit_transform(pd_X[pd_X.columns])\n",
    "    '''\n",
    "    X_train, X_test, y_train, y_test = train_test_split(pd_X, pd_y, test_size=0.3, random_state=44)\n",
    "    return X_train, X_test, y_train, y_test,X_scaler,y_scaler"
   ],
   "id": "bcd948e892f65c04",
   "outputs": [],
   "execution_count": 100
  },
  {
   "metadata": {
    "ExecuteTime": {
     "end_time": "2024-11-12T06:06:02.706967Z",
     "start_time": "2024-11-12T06:05:59.679331Z"
    }
   },
   "cell_type": "code",
   "source": "X_train, X_test, y_train, y_test,_,_ = split_train_test(raw_data)\n",
   "id": "a9badb95d39a214a",
   "outputs": [],
   "execution_count": 101
  },
  {
   "metadata": {
    "ExecuteTime": {
     "end_time": "2024-11-12T06:06:02.856627Z",
     "start_time": "2024-11-12T06:06:02.716139Z"
    }
   },
   "cell_type": "code",
   "source": "X_train.head()",
   "id": "15d36ab535475ef2",
   "outputs": [
    {
     "data": {
      "text/plain": [
       "         MENETREND_IDO  ELOZO_KESES   tx    t   tn    r  TERV_IDOTARTAM  \\\n",
       "1789775          381.0     1.066667  0.0  0.0  0.0  0.0            60.0   \n",
       "191705          1163.0    -0.133333  0.0  0.0  0.0  0.0            60.0   \n",
       "97247            986.0     0.816667  0.0  0.0  0.0  0.0           120.0   \n",
       "1382130          855.0     0.266667  0.0  0.0  0.0  0.0           120.0   \n",
       "863843           619.0     3.866667  0.0  0.0  0.0  0.0             0.0   \n",
       "\n",
       "         Érintett objektum típusa  Lassúmenet típusa  Lassúmenet hossza  ...  \\\n",
       "1789775                       0.0                0.0                0.0  ...   \n",
       "191705                        0.0                0.0                0.0  ...   \n",
       "97247                         0.0                0.0                0.0  ...   \n",
       "1382130                       0.0                0.0                0.0  ...   \n",
       "863843                        0.0                0.0                0.0  ...   \n",
       "\n",
       "         Fels.vez. kikapcsolása    I    E   ÁI   ÁE  Kizárás (1=VZ,2=LJ)  \\\n",
       "1789775                     0.0  0.0  0.0  0.0  0.0                  0.0   \n",
       "191705                      0.0  0.0  0.0  0.0  0.0                  0.0   \n",
       "97247                       0.0  0.0  0.0  0.0  0.0                  0.0   \n",
       "1382130                     0.0  0.0  0.0  0.0  0.0                  0.0   \n",
       "863843                      0.0  0.0  0.0  0.0  0.0                  0.0   \n",
       "\n",
       "         Kiutalt menetvonalak zavartatása nélkül  Státus  ELOZO VONAT KESES  \\\n",
       "1789775                                      0.0     0.0          -0.816667   \n",
       "191705                                       0.0     0.0          -0.416667   \n",
       "97247                                        0.0     0.0          -0.050000   \n",
       "1382130                                      0.0     0.0          -0.166667   \n",
       "863843                                       0.0     0.0           0.783333   \n",
       "\n",
       "         VONAL STATUSZ VALTOZOTT  \n",
       "1789775                      0.0  \n",
       "191705                       0.0  \n",
       "97247                        0.0  \n",
       "1382130                      0.0  \n",
       "863843                       0.0  \n",
       "\n",
       "[5 rows x 22 columns]"
      ],
      "text/html": [
       "<div>\n",
       "<style scoped>\n",
       "    .dataframe tbody tr th:only-of-type {\n",
       "        vertical-align: middle;\n",
       "    }\n",
       "\n",
       "    .dataframe tbody tr th {\n",
       "        vertical-align: top;\n",
       "    }\n",
       "\n",
       "    .dataframe thead th {\n",
       "        text-align: right;\n",
       "    }\n",
       "</style>\n",
       "<table border=\"1\" class=\"dataframe\">\n",
       "  <thead>\n",
       "    <tr style=\"text-align: right;\">\n",
       "      <th></th>\n",
       "      <th>MENETREND_IDO</th>\n",
       "      <th>ELOZO_KESES</th>\n",
       "      <th>tx</th>\n",
       "      <th>t</th>\n",
       "      <th>tn</th>\n",
       "      <th>r</th>\n",
       "      <th>TERV_IDOTARTAM</th>\n",
       "      <th>Érintett objektum típusa</th>\n",
       "      <th>Lassúmenet típusa</th>\n",
       "      <th>Lassúmenet hossza</th>\n",
       "      <th>...</th>\n",
       "      <th>Fels.vez. kikapcsolása</th>\n",
       "      <th>I</th>\n",
       "      <th>E</th>\n",
       "      <th>ÁI</th>\n",
       "      <th>ÁE</th>\n",
       "      <th>Kizárás (1=VZ,2=LJ)</th>\n",
       "      <th>Kiutalt menetvonalak zavartatása nélkül</th>\n",
       "      <th>Státus</th>\n",
       "      <th>ELOZO VONAT KESES</th>\n",
       "      <th>VONAL STATUSZ VALTOZOTT</th>\n",
       "    </tr>\n",
       "  </thead>\n",
       "  <tbody>\n",
       "    <tr>\n",
       "      <th>1789775</th>\n",
       "      <td>381.0</td>\n",
       "      <td>1.066667</td>\n",
       "      <td>0.0</td>\n",
       "      <td>0.0</td>\n",
       "      <td>0.0</td>\n",
       "      <td>0.0</td>\n",
       "      <td>60.0</td>\n",
       "      <td>0.0</td>\n",
       "      <td>0.0</td>\n",
       "      <td>0.0</td>\n",
       "      <td>...</td>\n",
       "      <td>0.0</td>\n",
       "      <td>0.0</td>\n",
       "      <td>0.0</td>\n",
       "      <td>0.0</td>\n",
       "      <td>0.0</td>\n",
       "      <td>0.0</td>\n",
       "      <td>0.0</td>\n",
       "      <td>0.0</td>\n",
       "      <td>-0.816667</td>\n",
       "      <td>0.0</td>\n",
       "    </tr>\n",
       "    <tr>\n",
       "      <th>191705</th>\n",
       "      <td>1163.0</td>\n",
       "      <td>-0.133333</td>\n",
       "      <td>0.0</td>\n",
       "      <td>0.0</td>\n",
       "      <td>0.0</td>\n",
       "      <td>0.0</td>\n",
       "      <td>60.0</td>\n",
       "      <td>0.0</td>\n",
       "      <td>0.0</td>\n",
       "      <td>0.0</td>\n",
       "      <td>...</td>\n",
       "      <td>0.0</td>\n",
       "      <td>0.0</td>\n",
       "      <td>0.0</td>\n",
       "      <td>0.0</td>\n",
       "      <td>0.0</td>\n",
       "      <td>0.0</td>\n",
       "      <td>0.0</td>\n",
       "      <td>0.0</td>\n",
       "      <td>-0.416667</td>\n",
       "      <td>0.0</td>\n",
       "    </tr>\n",
       "    <tr>\n",
       "      <th>97247</th>\n",
       "      <td>986.0</td>\n",
       "      <td>0.816667</td>\n",
       "      <td>0.0</td>\n",
       "      <td>0.0</td>\n",
       "      <td>0.0</td>\n",
       "      <td>0.0</td>\n",
       "      <td>120.0</td>\n",
       "      <td>0.0</td>\n",
       "      <td>0.0</td>\n",
       "      <td>0.0</td>\n",
       "      <td>...</td>\n",
       "      <td>0.0</td>\n",
       "      <td>0.0</td>\n",
       "      <td>0.0</td>\n",
       "      <td>0.0</td>\n",
       "      <td>0.0</td>\n",
       "      <td>0.0</td>\n",
       "      <td>0.0</td>\n",
       "      <td>0.0</td>\n",
       "      <td>-0.050000</td>\n",
       "      <td>0.0</td>\n",
       "    </tr>\n",
       "    <tr>\n",
       "      <th>1382130</th>\n",
       "      <td>855.0</td>\n",
       "      <td>0.266667</td>\n",
       "      <td>0.0</td>\n",
       "      <td>0.0</td>\n",
       "      <td>0.0</td>\n",
       "      <td>0.0</td>\n",
       "      <td>120.0</td>\n",
       "      <td>0.0</td>\n",
       "      <td>0.0</td>\n",
       "      <td>0.0</td>\n",
       "      <td>...</td>\n",
       "      <td>0.0</td>\n",
       "      <td>0.0</td>\n",
       "      <td>0.0</td>\n",
       "      <td>0.0</td>\n",
       "      <td>0.0</td>\n",
       "      <td>0.0</td>\n",
       "      <td>0.0</td>\n",
       "      <td>0.0</td>\n",
       "      <td>-0.166667</td>\n",
       "      <td>0.0</td>\n",
       "    </tr>\n",
       "    <tr>\n",
       "      <th>863843</th>\n",
       "      <td>619.0</td>\n",
       "      <td>3.866667</td>\n",
       "      <td>0.0</td>\n",
       "      <td>0.0</td>\n",
       "      <td>0.0</td>\n",
       "      <td>0.0</td>\n",
       "      <td>0.0</td>\n",
       "      <td>0.0</td>\n",
       "      <td>0.0</td>\n",
       "      <td>0.0</td>\n",
       "      <td>...</td>\n",
       "      <td>0.0</td>\n",
       "      <td>0.0</td>\n",
       "      <td>0.0</td>\n",
       "      <td>0.0</td>\n",
       "      <td>0.0</td>\n",
       "      <td>0.0</td>\n",
       "      <td>0.0</td>\n",
       "      <td>0.0</td>\n",
       "      <td>0.783333</td>\n",
       "      <td>0.0</td>\n",
       "    </tr>\n",
       "  </tbody>\n",
       "</table>\n",
       "<p>5 rows × 22 columns</p>\n",
       "</div>"
      ]
     },
     "execution_count": 102,
     "metadata": {},
     "output_type": "execute_result"
    }
   ],
   "execution_count": 102
  },
  {
   "metadata": {
    "ExecuteTime": {
     "end_time": "2024-11-05T17:09:20.307197Z",
     "start_time": "2024-11-05T17:09:20.293364Z"
    }
   },
   "cell_type": "code",
   "source": "",
   "id": "96a6b7cce2d64619",
   "outputs": [],
   "execution_count": 5
  },
  {
   "metadata": {},
   "cell_type": "markdown",
   "source": "# DecisionTreeRegressor",
   "id": "ec733712d9884c16"
  },
  {
   "metadata": {
    "ExecuteTime": {
     "end_time": "2024-11-12T06:37:44.439163Z",
     "start_time": "2024-11-12T06:37:32.777631Z"
    }
   },
   "cell_type": "code",
   "source": [
    "from sklearn.tree import DecisionTreeRegressor\n",
    "def train_DRT(X_train, X_test, y_train):\n",
    "    model = DecisionTreeRegressor(random_state=44)\n",
    "    model.fit(X_train, y_train)\n",
    "    predictions = model.predict(X_test)\n",
    "    return model, predictions\n",
    "model, predictions = train_DRT(X_train,X_test, y_train)"
   ],
   "id": "d4fb6d174ce980dc",
   "outputs": [],
   "execution_count": 146
  },
  {
   "metadata": {},
   "cell_type": "code",
   "source": [
    "'''\n",
    "from sklearn.tree import plot_tree\n",
    "import matplotlib.pyplot as plt\n",
    "plt.figure(figsize=(10,8), dpi=150)\n",
    "plot_tree(model, feature_names=pd_X.columns);\n",
    "'''"
   ],
   "id": "6d398bb424311174",
   "outputs": [],
   "execution_count": null
  },
  {
   "metadata": {},
   "cell_type": "code",
   "source": "type(X_test)",
   "id": "68449f91c2e4a7d",
   "outputs": [],
   "execution_count": null
  },
  {
   "metadata": {},
   "cell_type": "code",
   "source": "X_train.shape[0]",
   "id": "46e88ac0cc1afab2",
   "outputs": [],
   "execution_count": null
  },
  {
   "metadata": {},
   "cell_type": "code",
   "source": "X_test.shape[0]",
   "id": "63333f23182f8873",
   "outputs": [],
   "execution_count": null
  },
  {
   "metadata": {},
   "cell_type": "code",
   "source": "",
   "id": "cbecd608730c05a2",
   "outputs": [],
   "execution_count": null
  },
  {
   "metadata": {
    "ExecuteTime": {
     "end_time": "2024-11-12T06:06:31.578114Z",
     "start_time": "2024-11-12T06:06:31.559692Z"
    }
   },
   "cell_type": "code",
   "source": [
    "def evaluate_model(X_test, y_test, predictions):\n",
    "    eval_df=pd.concat([X_test[['TERV_IDOTARTAM']],y_test],axis=1)\n",
    "    eval_df['predictions']=predictions\n",
    "    eval_df['Tény']=eval_df['TERV_IDOTARTAM']+eval_df['KESES']\n",
    "    eval_df['Pred']=eval_df['TERV_IDOTARTAM']+eval_df['predictions']\n",
    "    eval_df=eval_df[eval_df['TERV_IDOTARTAM']>0]\n",
    "    eval_df['PE']=(eval_df['Tény']-eval_df['Pred'])/eval_df['Tény'] *100\n",
    "    eval_df['MAPE']=abs((eval_df['Tény']-eval_df['Pred'])/eval_df['Tény']) *100\n",
    "    eval_df['PE1']=(eval_df['KESES']-eval_df['predictions'])/eval_df['KESES'] *100\n",
    "    eval_df['MAPE1']=abs((eval_df['KESES']-eval_df['predictions'])/eval_df['KESES']) *100\n",
    "\n",
    "    return eval_df"
   ],
   "id": "3dcae1bf2dc4c0e2",
   "outputs": [],
   "execution_count": 104
  },
  {
   "metadata": {
    "ExecuteTime": {
     "end_time": "2024-11-12T06:06:33.664740Z",
     "start_time": "2024-11-12T06:06:33.357629Z"
    }
   },
   "cell_type": "code",
   "source": "eval_df = evaluate_model(X_test, y_test, predictions)\n",
   "id": "6f7a8392dbdee8b3",
   "outputs": [],
   "execution_count": 105
  },
  {
   "metadata": {
    "ExecuteTime": {
     "end_time": "2024-11-12T06:06:35.211547Z",
     "start_time": "2024-11-12T06:06:35.168331Z"
    }
   },
   "cell_type": "code",
   "source": "eval_df.head()",
   "id": "dd6ab997abc855d7",
   "outputs": [
    {
     "data": {
      "text/plain": [
       "         TERV_IDOTARTAM     KESES  predictions        Tény        Pred  \\\n",
       "1224451            60.0 -0.200000    -0.150000   59.800000   59.850000   \n",
       "311804            120.0 -0.266667    -0.383333  119.733333  119.616667   \n",
       "1245018            60.0  0.316667     0.233333   60.316667   60.233333   \n",
       "1036497            60.0 -0.483333    -0.283333   59.516667   59.716667   \n",
       "792395            120.0 -0.400000    -0.033333  119.600000  119.966667   \n",
       "\n",
       "               PE      MAPE        PE1      MAPE1  \n",
       "1224451 -0.083612  0.083612  25.000000  25.000000  \n",
       "311804   0.097439  0.097439 -43.750000  43.750000  \n",
       "1245018  0.138160  0.138160  26.315789  26.315789  \n",
       "1036497 -0.336040  0.336040  41.379310  41.379310  \n",
       "792395  -0.306577  0.306577  91.666667  91.666667  "
      ],
      "text/html": [
       "<div>\n",
       "<style scoped>\n",
       "    .dataframe tbody tr th:only-of-type {\n",
       "        vertical-align: middle;\n",
       "    }\n",
       "\n",
       "    .dataframe tbody tr th {\n",
       "        vertical-align: top;\n",
       "    }\n",
       "\n",
       "    .dataframe thead th {\n",
       "        text-align: right;\n",
       "    }\n",
       "</style>\n",
       "<table border=\"1\" class=\"dataframe\">\n",
       "  <thead>\n",
       "    <tr style=\"text-align: right;\">\n",
       "      <th></th>\n",
       "      <th>TERV_IDOTARTAM</th>\n",
       "      <th>KESES</th>\n",
       "      <th>predictions</th>\n",
       "      <th>Tény</th>\n",
       "      <th>Pred</th>\n",
       "      <th>PE</th>\n",
       "      <th>MAPE</th>\n",
       "      <th>PE1</th>\n",
       "      <th>MAPE1</th>\n",
       "    </tr>\n",
       "  </thead>\n",
       "  <tbody>\n",
       "    <tr>\n",
       "      <th>1224451</th>\n",
       "      <td>60.0</td>\n",
       "      <td>-0.200000</td>\n",
       "      <td>-0.150000</td>\n",
       "      <td>59.800000</td>\n",
       "      <td>59.850000</td>\n",
       "      <td>-0.083612</td>\n",
       "      <td>0.083612</td>\n",
       "      <td>25.000000</td>\n",
       "      <td>25.000000</td>\n",
       "    </tr>\n",
       "    <tr>\n",
       "      <th>311804</th>\n",
       "      <td>120.0</td>\n",
       "      <td>-0.266667</td>\n",
       "      <td>-0.383333</td>\n",
       "      <td>119.733333</td>\n",
       "      <td>119.616667</td>\n",
       "      <td>0.097439</td>\n",
       "      <td>0.097439</td>\n",
       "      <td>-43.750000</td>\n",
       "      <td>43.750000</td>\n",
       "    </tr>\n",
       "    <tr>\n",
       "      <th>1245018</th>\n",
       "      <td>60.0</td>\n",
       "      <td>0.316667</td>\n",
       "      <td>0.233333</td>\n",
       "      <td>60.316667</td>\n",
       "      <td>60.233333</td>\n",
       "      <td>0.138160</td>\n",
       "      <td>0.138160</td>\n",
       "      <td>26.315789</td>\n",
       "      <td>26.315789</td>\n",
       "    </tr>\n",
       "    <tr>\n",
       "      <th>1036497</th>\n",
       "      <td>60.0</td>\n",
       "      <td>-0.483333</td>\n",
       "      <td>-0.283333</td>\n",
       "      <td>59.516667</td>\n",
       "      <td>59.716667</td>\n",
       "      <td>-0.336040</td>\n",
       "      <td>0.336040</td>\n",
       "      <td>41.379310</td>\n",
       "      <td>41.379310</td>\n",
       "    </tr>\n",
       "    <tr>\n",
       "      <th>792395</th>\n",
       "      <td>120.0</td>\n",
       "      <td>-0.400000</td>\n",
       "      <td>-0.033333</td>\n",
       "      <td>119.600000</td>\n",
       "      <td>119.966667</td>\n",
       "      <td>-0.306577</td>\n",
       "      <td>0.306577</td>\n",
       "      <td>91.666667</td>\n",
       "      <td>91.666667</td>\n",
       "    </tr>\n",
       "  </tbody>\n",
       "</table>\n",
       "</div>"
      ]
     },
     "execution_count": 106,
     "metadata": {},
     "output_type": "execute_result"
    }
   ],
   "execution_count": 106
  },
  {
   "metadata": {
    "ExecuteTime": {
     "end_time": "2024-11-12T06:06:35.411483Z",
     "start_time": "2024-11-12T06:06:35.395129Z"
    }
   },
   "cell_type": "code",
   "source": "eval_df.tail()",
   "id": "cb50bad6f7ed1e21",
   "outputs": [
    {
     "data": {
      "text/plain": [
       "         TERV_IDOTARTAM     KESES  predictions        Tény        Pred  \\\n",
       "1559032           240.0  0.316667     0.300000  240.316667  240.300000   \n",
       "1038341           180.0  0.083333     0.250000  180.083333  180.250000   \n",
       "1727299           540.0  0.366667     0.100000  540.366667  540.100000   \n",
       "1871785           180.0  0.050000     0.533333  180.050000  180.533333   \n",
       "804449             60.0 -0.183333    -0.266667   59.816667   59.733333   \n",
       "\n",
       "               PE      MAPE         PE1       MAPE1  \n",
       "1559032  0.006935  0.006935    5.263158    5.263158  \n",
       "1038341 -0.092550  0.092550 -200.000000  200.000000  \n",
       "1727299  0.049349  0.049349   72.727273   72.727273  \n",
       "1871785 -0.268444  0.268444 -966.666667  966.666667  \n",
       "804449   0.139315  0.139315  -45.454545   45.454545  "
      ],
      "text/html": [
       "<div>\n",
       "<style scoped>\n",
       "    .dataframe tbody tr th:only-of-type {\n",
       "        vertical-align: middle;\n",
       "    }\n",
       "\n",
       "    .dataframe tbody tr th {\n",
       "        vertical-align: top;\n",
       "    }\n",
       "\n",
       "    .dataframe thead th {\n",
       "        text-align: right;\n",
       "    }\n",
       "</style>\n",
       "<table border=\"1\" class=\"dataframe\">\n",
       "  <thead>\n",
       "    <tr style=\"text-align: right;\">\n",
       "      <th></th>\n",
       "      <th>TERV_IDOTARTAM</th>\n",
       "      <th>KESES</th>\n",
       "      <th>predictions</th>\n",
       "      <th>Tény</th>\n",
       "      <th>Pred</th>\n",
       "      <th>PE</th>\n",
       "      <th>MAPE</th>\n",
       "      <th>PE1</th>\n",
       "      <th>MAPE1</th>\n",
       "    </tr>\n",
       "  </thead>\n",
       "  <tbody>\n",
       "    <tr>\n",
       "      <th>1559032</th>\n",
       "      <td>240.0</td>\n",
       "      <td>0.316667</td>\n",
       "      <td>0.300000</td>\n",
       "      <td>240.316667</td>\n",
       "      <td>240.300000</td>\n",
       "      <td>0.006935</td>\n",
       "      <td>0.006935</td>\n",
       "      <td>5.263158</td>\n",
       "      <td>5.263158</td>\n",
       "    </tr>\n",
       "    <tr>\n",
       "      <th>1038341</th>\n",
       "      <td>180.0</td>\n",
       "      <td>0.083333</td>\n",
       "      <td>0.250000</td>\n",
       "      <td>180.083333</td>\n",
       "      <td>180.250000</td>\n",
       "      <td>-0.092550</td>\n",
       "      <td>0.092550</td>\n",
       "      <td>-200.000000</td>\n",
       "      <td>200.000000</td>\n",
       "    </tr>\n",
       "    <tr>\n",
       "      <th>1727299</th>\n",
       "      <td>540.0</td>\n",
       "      <td>0.366667</td>\n",
       "      <td>0.100000</td>\n",
       "      <td>540.366667</td>\n",
       "      <td>540.100000</td>\n",
       "      <td>0.049349</td>\n",
       "      <td>0.049349</td>\n",
       "      <td>72.727273</td>\n",
       "      <td>72.727273</td>\n",
       "    </tr>\n",
       "    <tr>\n",
       "      <th>1871785</th>\n",
       "      <td>180.0</td>\n",
       "      <td>0.050000</td>\n",
       "      <td>0.533333</td>\n",
       "      <td>180.050000</td>\n",
       "      <td>180.533333</td>\n",
       "      <td>-0.268444</td>\n",
       "      <td>0.268444</td>\n",
       "      <td>-966.666667</td>\n",
       "      <td>966.666667</td>\n",
       "    </tr>\n",
       "    <tr>\n",
       "      <th>804449</th>\n",
       "      <td>60.0</td>\n",
       "      <td>-0.183333</td>\n",
       "      <td>-0.266667</td>\n",
       "      <td>59.816667</td>\n",
       "      <td>59.733333</td>\n",
       "      <td>0.139315</td>\n",
       "      <td>0.139315</td>\n",
       "      <td>-45.454545</td>\n",
       "      <td>45.454545</td>\n",
       "    </tr>\n",
       "  </tbody>\n",
       "</table>\n",
       "</div>"
      ]
     },
     "execution_count": 107,
     "metadata": {},
     "output_type": "execute_result"
    }
   ],
   "execution_count": 107
  },
  {
   "metadata": {
    "ExecuteTime": {
     "end_time": "2024-11-12T06:06:35.905193Z",
     "start_time": "2024-11-12T06:06:35.875193Z"
    }
   },
   "cell_type": "code",
   "source": "eval_df['PE'].describe()",
   "id": "ebae1d416f0a1080",
   "outputs": [
    {
     "data": {
      "text/plain": [
       "count    418789.000000\n",
       "mean         -0.015062\n",
       "std           1.021037\n",
       "min        -268.421053\n",
       "25%          -0.111982\n",
       "50%           0.000000\n",
       "75%           0.111297\n",
       "max          48.395914\n",
       "Name: PE, dtype: float64"
      ]
     },
     "execution_count": 108,
     "metadata": {},
     "output_type": "execute_result"
    }
   ],
   "execution_count": 108
  },
  {
   "metadata": {
    "ExecuteTime": {
     "end_time": "2024-11-12T06:06:36.485379Z",
     "start_time": "2024-11-12T06:06:36.423546Z"
    }
   },
   "cell_type": "code",
   "source": "eval_df['PE1'].describe()",
   "id": "55cb4e76dcd5028c",
   "outputs": [
    {
     "name": "stderr",
     "output_type": "stream",
     "text": [
      "C:\\Users\\ELTE\\miniconda3\\envs\\gtfs_env_311\\Lib\\site-packages\\numpy\\core\\_methods.py:49: RuntimeWarning: invalid value encountered in reduce\n",
      "  return umr_sum(a, axis, dtype, out, keepdims, initial, where)\n"
     ]
    },
    {
     "data": {
      "text/plain": [
       "count    4.089220e+05\n",
       "mean              NaN\n",
       "std               NaN\n",
       "min              -inf\n",
       "25%     -2.461233e+01\n",
       "50%      9.090909e+00\n",
       "75%      6.818182e+01\n",
       "max               inf\n",
       "Name: PE1, dtype: float64"
      ]
     },
     "execution_count": 109,
     "metadata": {},
     "output_type": "execute_result"
    }
   ],
   "execution_count": 109
  },
  {
   "metadata": {
    "ExecuteTime": {
     "end_time": "2024-11-12T06:20:33.167978Z",
     "start_time": "2024-11-12T06:20:33.002345Z"
    }
   },
   "cell_type": "code",
   "source": [
    "import joblib\n",
    "# modellek mentése, beolvasása:\n",
    "# könyvtárszerkezet: <model gyökér>/<model típus>/<használt adat típusa>/<plusz infó>/<model file(ok)> \n",
    "\n",
    "\n",
    "import os\n",
    "model_location=\"model/\"\n",
    "# Check if the directory exists\n",
    "if not os.path.exists(model_location):\n",
    "    # Create the directory\n",
    "    os.makedirs(model_location)\n",
    "\n",
    "def get_location_and_name(model_name, model_desc,data_desc):\n",
    "    loc=   model_location+'/'+model_name+'/'+data_desc+'/'+model_desc+\"/\"\n",
    "    name = model_name + '_' + data_desc + '_' + model_desc\n",
    "    return loc, name\n",
    "def save_sklearn_model(model,model_name,data_desc,model_desc='base'):\n",
    "    loc,name=get_location_and_name(model_name,model_desc,data_desc)    \n",
    "    if not os.path.exists(loc):\n",
    "        # Create the directory\n",
    "        os.makedirs(loc)\n",
    "    # Save the model to a file\n",
    "    joblib.dump(model, f'{loc}{name}.joblib')\n",
    "    \n",
    "def get_nn_model_name(epochs, data_desc):\n",
    "    return f'NN_{data_desc}_epoch_{epochs}'\n",
    "\n",
    "def save_NN(model,X_scaler,y_scaler,history,data_desc, model_desc='base'):\n",
    "    loc,name=get_location_and_name('NN',model_desc,data_desc)    \n",
    "    if not os.path.exists(loc):\n",
    "        # Create the directory\n",
    "        os.makedirs(loc) \n",
    "    save_sklearn_model(X_scaler,'X_scaler',data_desc)\n",
    "    save_sklearn_model(y_scaler,'y_scaler',data_desc)\n",
    "    torch.save(model, loc+name+'.pth')\n",
    "    plt.plot(history)\n",
    "    plt.savefig(loc+'history.png')\n",
    "\n",
    "def load_NN(path):\n",
    "    ret={}\n",
    "    for f in os.listdir(path):\n",
    "        if f.endswith('.pth'):\n",
    "            ret['model'] = torch.load(path+f, weights_only=False)\n",
    "        elif f.endswith('.joblib'):\n",
    "            if 'X_scaler' in f:\n",
    "                ret['X_scaler'] = joblib.load(path+f)\n",
    "            elif 'y_scaler' in f:\n",
    "                ret['y_scaler'] = joblib.load(path+f)\n",
    "            else:\n",
    "                print(f'Unspecified joblib file: {f}')\n",
    "        else:\n",
    "                print(f'Unspecified file: {f}')\n",
    "    return ret\n",
    "\n",
    "def load_NNs(model_path):\n",
    "    # könyvtárszerkezet: <model gyökér>/<model típus>/<használt adat típusa>/<plusz infó>/<model file(ok)> \n",
    "\n",
    "    ret={}\n",
    "    #dir=data_desc\n",
    "    for dir in os.listdir(model_path+'NN'):\n",
    "        ret[dir]={}\n",
    "        if os.path.isdir(model_path+'NN/'+dir+'/'):\n",
    "            print('reading '+ dir)\n",
    "            #dir2=model_desc\n",
    "            for dir2 in os.listdir(dir):\n",
    "                print('reading '+ dir+'/'+dir2)\n",
    "                ret[dir][dir2]=load_NN(model_path+'NN/'+dir+'/'+dir2)\n",
    "                ret[dir][dir2]['data_desc']=dir\n",
    "                ret[dir][dir2]['model_desc']=dir2\n",
    "    return ret\n",
    "\n",
    "def load_NN_by_desc(model_desc,data_desc):\n",
    "    loc,name= get_location_and_name('NN',model_desc,data_desc)\n",
    "    ret=load_NN(loc)\n",
    "    ret['model_desc']=model_desc\n",
    "    ret['data_desc']=data_desc\n",
    "    return ret\n",
    "\n",
    "def load_sk_by_desc(model_name,model_desc,data_desc):\n",
    "    loc,name= get_location_and_name(model_name,model_desc,data_desc)\n",
    "    return {'model':joblib.load(f'{loc}/{name}.joblib'),'model_name':model_name,'data_desc':data_desc,'model_desc':model_desc}\n",
    "    \n",
    "    \n",
    "#def load_models():\n",
    "    \n",
    "    \n",
    "\n"
   ],
   "id": "5bf1aefbbb3ff160",
   "outputs": [],
   "execution_count": 134
  },
  {
   "metadata": {
    "ExecuteTime": {
     "end_time": "2024-11-12T06:18:34.710924Z",
     "start_time": "2024-11-12T06:18:32.019012Z"
    }
   },
   "cell_type": "code",
   "source": "save_sklearn_model(model,'RT','Base')\n",
   "id": "88218a02969b49a4",
   "outputs": [],
   "execution_count": 133
  },
  {
   "metadata": {
    "ExecuteTime": {
     "end_time": "2024-11-12T07:01:01.607290Z",
     "start_time": "2024-11-12T07:01:01.573982Z"
    }
   },
   "cell_type": "code",
   "source": "del model",
   "id": "8be46a45bc364166",
   "outputs": [],
   "execution_count": 162
  },
  {
   "metadata": {},
   "cell_type": "markdown",
   "source": "# Egyszerű neurális háló",
   "id": "f65d13c42935daf1"
  },
  {
   "metadata": {},
   "cell_type": "code",
   "outputs": [],
   "execution_count": null,
   "source": "X_train.dtypes\n",
   "id": "a503acb92abc09dc"
  },
  {
   "metadata": {},
   "cell_type": "markdown",
   "source": [
    "plusz normalizálás kellhet:\n",
    "normalized_df=(df-df.mean())/df.std()\n",
    "to use min-max normalization:\n",
    "\n",
    "normalized_df=(df-df.min())/(df.max()-df.min())"
   ],
   "id": "687667008b024472"
  },
  {
   "metadata": {},
   "cell_type": "code",
   "outputs": [],
   "execution_count": null,
   "source": "",
   "id": "e0fe4eb29a9e4f32"
  },
  {
   "metadata": {},
   "cell_type": "code",
   "outputs": [
    {
     "name": "stderr",
     "output_type": "stream",
     "text": [
      "C:\\Users\\ELTE\\AppData\\Local\\Temp\\ipykernel_6884\\2956716844.py:13: SettingWithCopyWarning: \n",
      "A value is trying to be set on a copy of a slice from a DataFrame.\n",
      "Try using .loc[row_indexer,col_indexer] = value instead\n",
      "\n",
      "See the caveats in the documentation: https://pandas.pydata.org/pandas-docs/stable/user_guide/indexing.html#returning-a-view-versus-a-copy\n",
      "  pd_y[pd_y.columns] = y_scaler.fit_transform(pd_y[pd_y.columns])\n"
     ]
    }
   ],
   "execution_count": 110,
   "source": [
    "#X=pd_X.values\n",
    "#y=pd_y.values\n",
    "import torch\n",
    "# train-test split of the dataset\n",
    "X_train, X_test, y_train, y_test,X_scaler,y_scaler = split_train_test(raw_data,True)\n",
    "def get_data_tensors(X_train, X_test, y_train, y_test):\n",
    "    X_train_t = torch.tensor(X_train.values, dtype=torch.float32)\n",
    "    y_train_t = torch.tensor(y_train.values, dtype=torch.float32).reshape(-1, 1)\n",
    "    X_test_t = torch.tensor(X_test.values, dtype=torch.float32)\n",
    "    y_test_t = torch.tensor(y_test.values, dtype=torch.float32).reshape(-1, 1)\n",
    "    return X_train_t, X_test_t, y_train_t, y_test_t\n",
    "X_train_t, X_test_t, y_train_t, y_test_t = get_data_tensors(X_train, X_test, y_train, y_test)\n"
   ],
   "id": "dacb2cd3597debc4"
  },
  {
   "metadata": {},
   "cell_type": "code",
   "outputs": [],
   "execution_count": 111,
   "source": "input_size=X_train.shape[1]",
   "id": "b0ceb88e7a2670fa"
  },
  {
   "metadata": {},
   "cell_type": "code",
   "outputs": [],
   "execution_count": 112,
   "source": [
    "import torch\n",
    "import torch.nn as nn\n",
    "# Define the model\n",
    "def get_NN_model(input_size):\n",
    "    model = nn.Sequential(\n",
    "        nn.Linear(input_size, 24),\n",
    "        nn.ReLU(),\n",
    "        nn.Linear(24, 12),\n",
    "        nn.ReLU(),\n",
    "        nn.Linear(12, 6),\n",
    "        nn.ReLU(),\n",
    "        nn.Linear(6, 1)\n",
    "    )\n",
    "    return model"
   ],
   "id": "9d98d329e9054def"
  },
  {
   "metadata": {},
   "cell_type": "code",
   "outputs": [],
   "execution_count": 113,
   "source": "model_nn = get_NN_model(input_size)",
   "id": "6956ca8818e69d7"
  },
  {
   "metadata": {},
   "cell_type": "code",
   "outputs": [],
   "execution_count": 114,
   "source": [
    "import torch.nn as nn\n",
    "import torch.optim as optim\n",
    "\n",
    "# loss function and optimizer\n",
    "def get_optimizer(model, lr):\n",
    "    loss_fn = nn.MSELoss()  # mean square error\n",
    "    optimizer = optim.Adam(model.parameters(), lr=0.0001)\n",
    "    return optimizer, loss_fn"
   ],
   "id": "23344d190f485be"
  },
  {
   "metadata": {},
   "cell_type": "code",
   "outputs": [],
   "execution_count": 116,
   "source": "optimizer, loss_fn = get_optimizer(model_nn, 0.0001)",
   "id": "6d070298f1e68d8f"
  },
  {
   "metadata": {},
   "cell_type": "code",
   "outputs": [
    {
     "data": {
      "text/plain": [
       "(1350058, 22)"
      ]
     },
     "execution_count": 117,
     "metadata": {},
     "output_type": "execute_result"
    }
   ],
   "execution_count": 117,
   "source": "X_train.shape",
   "id": "8b8f7aefb5a8e9ba"
  },
  {
   "metadata": {},
   "cell_type": "code",
   "outputs": [],
   "execution_count": 121,
   "source": [
    "import numpy as np\n",
    "import torch\n",
    "import tqdm\n",
    "import copy\n",
    "from sklearn.model_selection import train_test_split\n",
    "\n",
    "'''\n",
    "# train-test split of the dataset\n",
    "X_train, X_test, y_train, y_test = train_test_split(X, y, train_size=0.7, shuffle=True)\n",
    "X_train = torch.tensor(X_train, dtype=torch.float32)\n",
    "y_train = torch.tensor(y_train, dtype=torch.float32).reshape(-1, 1)\n",
    "X_test = torch.tensor(X_test, dtype=torch.float32)\n",
    "y_test = torch.tensor(y_test, dtype=torch.float32).reshape(-1, 1)\n",
    "'''\n",
    "def train_NN(X_train, X_test, y_train, y_test, model, loss_fn, optimizer,n_epochs = 3):\n",
    "    batch_size = 10  # size of each batch\n",
    "    batch_start = torch.arange(0, len(X_train), batch_size)\n",
    "     \n",
    "    # Hold the best model\n",
    "    best_mse = np.inf   # init to infinity\n",
    "    best_weights = None\n",
    "    history = []\n",
    "     \n",
    "    # training loop\n",
    "    for epoch in range(n_epochs):\n",
    "        model.train()\n",
    "        with tqdm.tqdm(batch_start, unit=\"batch\", mininterval=0, disable=True) as bar:\n",
    "            bar.set_description(f\"Epoch {epoch}\")\n",
    "            for start in bar:\n",
    "                # take a batch\n",
    "                X_batch = X_train[start:start+batch_size]\n",
    "                y_batch = y_train[start:start+batch_size]\n",
    "                # forward pass\n",
    "                y_pred = model(X_batch)\n",
    "                loss = loss_fn(y_pred, y_batch)\n",
    "                # backward pass\n",
    "                optimizer.zero_grad()\n",
    "                loss.backward()\n",
    "                # update weights\n",
    "                optimizer.step()\n",
    "                # print progress\n",
    "                bar.set_postfix(mse=float(loss))\n",
    "        # evaluate accuracy at end of each epoch\n",
    "        model.eval()\n",
    "        y_pred = model(X_test)\n",
    "        mse = loss_fn(y_pred, y_test)\n",
    "        mse = float(mse)\n",
    "        print(\"Epoch:\",epoch,'MSE:', mse, 'Best mse',best_mse)\n",
    "        history.append(mse)\n",
    "        if mse < best_mse:\n",
    "            best_mse = mse\n",
    "            best_weights = copy.deepcopy(model.state_dict())\n",
    "     \n",
    "    # restore model and return best accuracy\n",
    "    model.load_state_dict(best_weights)\n",
    "    return history, best_mse, best_weights, model"
   ],
   "id": "6d02f6dc46faef7e"
  },
  {
   "metadata": {},
   "cell_type": "code",
   "outputs": [
    {
     "name": "stdout",
     "output_type": "stream",
     "text": [
      "Epoch: 0 MSE: 1.9589890143834054e-05 Best mse inf\n",
      "Epoch: 1 MSE: 1.9232818885939196e-05 Best mse 1.9589890143834054e-05\n",
      "Epoch: 2 MSE: 1.8984555936185643e-05 Best mse 1.9232818885939196e-05\n"
     ]
    }
   ],
   "execution_count": 122,
   "source": "history, best_mse, best_weights, model_nn=train_NN(X_train_t, X_test_t, y_train_t, y_test_t, model_nn, loss_fn, optimizer)",
   "id": "7520380378b0129"
  },
  {
   "metadata": {},
   "cell_type": "code",
   "outputs": [
    {
     "data": {
      "text/plain": [
       "[1.9589890143834054e-05, 1.9232818885939196e-05, 1.8984555936185643e-05]"
      ]
     },
     "execution_count": 123,
     "metadata": {},
     "output_type": "execute_result"
    }
   ],
   "execution_count": 123,
   "source": "history",
   "id": "dc1e92cd9456f94"
  },
  {
   "metadata": {},
   "cell_type": "code",
   "outputs": [
    {
     "name": "stdout",
     "output_type": "stream",
     "text": [
      "MSE: 0.00\n",
      "RMSE: 0.00\n"
     ]
    },
    {
     "data": {
      "text/plain": [
       "<Figure size 640x480 with 1 Axes>"
      ],
      "image/png": "[encoded data removed]"
     },
     "metadata": {},
     "output_type": "display_data"
    }
   ],
   "execution_count": 124,
   "source": [
    "\n",
    "import matplotlib.pyplot as plt\n",
    "print(\"MSE: %.2f\" % best_mse)\n",
    "print(\"RMSE: %.2f\" % np.sqrt(best_mse))\n",
    "plt.plot(history)\n",
    "plt.show()"
   ],
   "id": "1eb071eb8f0de6d1"
  },
  {
   "metadata": {},
   "cell_type": "code",
   "outputs": [],
   "execution_count": 127,
   "source": "y_pred = model_nn(X_test_t)",
   "id": "50b96a2a2ad578cb"
  },
  {
   "metadata": {},
   "cell_type": "code",
   "outputs": [],
   "execution_count": 128,
   "source": "y_pred=y_pred.detach().numpy()",
   "id": "ddbc74b791069177"
  },
  {
   "metadata": {},
   "cell_type": "code",
   "outputs": [],
   "execution_count": 129,
   "source": [
    "#TODO kell ez? \n",
    "\n",
    "X_test[X_test.columns]=X_scaler.inverse_transform(X_test_t)\n",
    "y_test[y_test.columns] =y_scaler.inverse_transform(y_test_t)"
   ],
   "id": "942c365317268781"
  },
  {
   "metadata": {},
   "cell_type": "code",
   "outputs": [],
   "execution_count": 130,
   "source": "y_pred=y_scaler.inverse_transform(y_pred)\n",
   "id": "6fa088057a12c755"
  },
  {
   "metadata": {},
   "cell_type": "code",
   "outputs": [],
   "execution_count": 131,
   "source": "eval_df_nn=evaluate_model(X_test, y_test, y_pred)",
   "id": "216a20b3641a6dbf"
  },
  {
   "metadata": {},
   "cell_type": "code",
   "outputs": [
    {
     "data": {
      "text/plain": [
       "         TERV_IDOTARTAM     KESES  predictions        Tény        Pred  \\\n",
       "1224451       60.000001 -0.199998    -0.109433   59.800003   59.890568   \n",
       "311804       120.000002 -0.266666    -0.161355  119.733336  119.838646   \n",
       "1245018       60.000001  0.316669    -0.137107   60.316670   59.862894   \n",
       "1036497       60.000001 -0.483334    -0.119287   59.516667   59.880714   \n",
       "792395       120.000002 -0.400002    -0.146060  119.600000  119.853942   \n",
       "\n",
       "               PE      MAPE         PE1       MAPE1  \n",
       "1224451 -0.151447  0.151447   45.283195   45.283195  \n",
       "311804  -0.087954  0.087954   39.491627   39.491627  \n",
       "1245018  0.752321  0.752321  143.296522  143.296522  \n",
       "1036497 -0.611671  0.611671   75.319869   75.319869  \n",
       "792395  -0.212326  0.212326   63.485198   63.485198  "
      ],
      "text/html": [
       "<div>\n",
       "<style scoped>\n",
       "    .dataframe tbody tr th:only-of-type {\n",
       "        vertical-align: middle;\n",
       "    }\n",
       "\n",
       "    .dataframe tbody tr th {\n",
       "        vertical-align: top;\n",
       "    }\n",
       "\n",
       "    .dataframe thead th {\n",
       "        text-align: right;\n",
       "    }\n",
       "</style>\n",
       "<table border=\"1\" class=\"dataframe\">\n",
       "  <thead>\n",
       "    <tr style=\"text-align: right;\">\n",
       "      <th></th>\n",
       "      <th>TERV_IDOTARTAM</th>\n",
       "      <th>KESES</th>\n",
       "      <th>predictions</th>\n",
       "      <th>Tény</th>\n",
       "      <th>Pred</th>\n",
       "      <th>PE</th>\n",
       "      <th>MAPE</th>\n",
       "      <th>PE1</th>\n",
       "      <th>MAPE1</th>\n",
       "    </tr>\n",
       "  </thead>\n",
       "  <tbody>\n",
       "    <tr>\n",
       "      <th>1224451</th>\n",
       "      <td>60.000001</td>\n",
       "      <td>-0.199998</td>\n",
       "      <td>-0.109433</td>\n",
       "      <td>59.800003</td>\n",
       "      <td>59.890568</td>\n",
       "      <td>-0.151447</td>\n",
       "      <td>0.151447</td>\n",
       "      <td>45.283195</td>\n",
       "      <td>45.283195</td>\n",
       "    </tr>\n",
       "    <tr>\n",
       "      <th>311804</th>\n",
       "      <td>120.000002</td>\n",
       "      <td>-0.266666</td>\n",
       "      <td>-0.161355</td>\n",
       "      <td>119.733336</td>\n",
       "      <td>119.838646</td>\n",
       "      <td>-0.087954</td>\n",
       "      <td>0.087954</td>\n",
       "      <td>39.491627</td>\n",
       "      <td>39.491627</td>\n",
       "    </tr>\n",
       "    <tr>\n",
       "      <th>1245018</th>\n",
       "      <td>60.000001</td>\n",
       "      <td>0.316669</td>\n",
       "      <td>-0.137107</td>\n",
       "      <td>60.316670</td>\n",
       "      <td>59.862894</td>\n",
       "      <td>0.752321</td>\n",
       "      <td>0.752321</td>\n",
       "      <td>143.296522</td>\n",
       "      <td>143.296522</td>\n",
       "    </tr>\n",
       "    <tr>\n",
       "      <th>1036497</th>\n",
       "      <td>60.000001</td>\n",
       "      <td>-0.483334</td>\n",
       "      <td>-0.119287</td>\n",
       "      <td>59.516667</td>\n",
       "      <td>59.880714</td>\n",
       "      <td>-0.611671</td>\n",
       "      <td>0.611671</td>\n",
       "      <td>75.319869</td>\n",
       "      <td>75.319869</td>\n",
       "    </tr>\n",
       "    <tr>\n",
       "      <th>792395</th>\n",
       "      <td>120.000002</td>\n",
       "      <td>-0.400002</td>\n",
       "      <td>-0.146060</td>\n",
       "      <td>119.600000</td>\n",
       "      <td>119.853942</td>\n",
       "      <td>-0.212326</td>\n",
       "      <td>0.212326</td>\n",
       "      <td>63.485198</td>\n",
       "      <td>63.485198</td>\n",
       "    </tr>\n",
       "  </tbody>\n",
       "</table>\n",
       "</div>"
      ]
     },
     "execution_count": 132,
     "metadata": {},
     "output_type": "execute_result"
    }
   ],
   "execution_count": 132,
   "source": "eval_df_nn.head()",
   "id": "35efa0cf13df216c"
  },
  {
   "metadata": {
    "ExecuteTime": {
     "end_time": "2024-11-12T06:20:56.996398Z",
     "start_time": "2024-11-12T06:20:55.848521Z"
    }
   },
   "cell_type": "code",
   "source": "save_NN(model_nn,X_scaler,y_scaler,history,'base')",
   "id": "88d5ede920ec6caa",
   "outputs": [
    {
     "data": {
      "text/plain": [
       "<Figure size 640x480 with 1 Axes>"
      ],
      "image/png": "[encoded data removed]"
     },
     "metadata": {},
     "output_type": "display_data"
    }
   ],
   "execution_count": 135
  },
  {
   "metadata": {
    "ExecuteTime": {
     "end_time": "2024-11-12T06:21:34.399275Z",
     "start_time": "2024-11-12T06:21:34.356151Z"
    }
   },
   "cell_type": "code",
   "source": "del model_nn",
   "id": "747058570cf8fbec",
   "outputs": [],
   "execution_count": 136
  },
  {
   "metadata": {},
   "cell_type": "markdown",
   "source": [
    "# Kisebb adaton:\n",
    "\n",
    "most rendelkezésre álló adat:\n",
    "- utastájékoztatásból terv- és tényídők\n",
    "- időjárás\n",
    "\n",
    "Azaz dobjuk a lassújel és vágányzár adatokat\n"
   ],
   "id": "a079287cde85f2df"
  },
  {
   "metadata": {
    "ExecuteTime": {
     "end_time": "2024-11-12T06:21:40.525034Z",
     "start_time": "2024-11-12T06:21:40.462773Z"
    }
   },
   "cell_type": "code",
   "source": "attrs_to_use=['MENETREND_IDO','ELOZO_KESES','KESES','tx','t','tn','r','TERV_IDOTARTAM','ELOZO VONAT KESES']",
   "id": "b7594316686fcbf2",
   "outputs": [],
   "execution_count": 137
  },
  {
   "metadata": {
    "ExecuteTime": {
     "end_time": "2024-11-12T06:37:10.675655Z",
     "start_time": "2024-11-12T06:37:08.598275Z"
    }
   },
   "cell_type": "code",
   "source": [
    "raw_data_small=raw_data[attrs_to_use]\n",
    "def train_and_evaluate_DRT(data):\n",
    "    history=None\n",
    "    X_scaler=None\n",
    "    y_scaler=None\n",
    "    X_train, X_test, y_train, y_test,_,_ = split_train_test(data)\n",
    "    model, predictions = train_DRT(X_train,X_test, y_train)\n",
    "    eval_df = evaluate_model(X_test, y_test, predictions)\n",
    "    return model,eval_df,X_scaler,y_scaler,history\n",
    "\n",
    "\n",
    "\n"
   ],
   "id": "8a4451ff576f68f3",
   "outputs": [],
   "execution_count": 144
  },
  {
   "metadata": {
    "ExecuteTime": {
     "end_time": "2024-11-12T06:35:04.752646Z",
     "start_time": "2024-11-12T06:35:04.618374Z"
    }
   },
   "cell_type": "code",
   "source": "raw_data_small.head()",
   "id": "6ddaa5b3a63ae99b",
   "outputs": [
    {
     "data": {
      "text/plain": [
       "   MENETREND_IDO  ELOZO_KESES     KESES   tx    t   tn    r  TERV_IDOTARTAM  \\\n",
       "0           25.0     0.000000  0.000000  8.5  6.1  3.4  0.0             0.0   \n",
       "1           25.0     0.000000  0.000000  8.5  6.1  3.4  0.0             0.0   \n",
       "2           29.0     0.400000  0.716667  8.5  6.1  3.4  0.0           240.0   \n",
       "3           30.0     1.116667 -0.150000  8.5  6.1  3.4  0.0            60.0   \n",
       "4           35.0     0.966667 -1.133333  8.5  6.1  3.4  0.0           300.0   \n",
       "\n",
       "   ELOZO VONAT KESES  \n",
       "0                0.0  \n",
       "1                0.0  \n",
       "2                0.0  \n",
       "3                0.0  \n",
       "4                0.0  "
      ],
      "text/html": [
       "<div>\n",
       "<style scoped>\n",
       "    .dataframe tbody tr th:only-of-type {\n",
       "        vertical-align: middle;\n",
       "    }\n",
       "\n",
       "    .dataframe tbody tr th {\n",
       "        vertical-align: top;\n",
       "    }\n",
       "\n",
       "    .dataframe thead th {\n",
       "        text-align: right;\n",
       "    }\n",
       "</style>\n",
       "<table border=\"1\" class=\"dataframe\">\n",
       "  <thead>\n",
       "    <tr style=\"text-align: right;\">\n",
       "      <th></th>\n",
       "      <th>MENETREND_IDO</th>\n",
       "      <th>ELOZO_KESES</th>\n",
       "      <th>KESES</th>\n",
       "      <th>tx</th>\n",
       "      <th>t</th>\n",
       "      <th>tn</th>\n",
       "      <th>r</th>\n",
       "      <th>TERV_IDOTARTAM</th>\n",
       "      <th>ELOZO VONAT KESES</th>\n",
       "    </tr>\n",
       "  </thead>\n",
       "  <tbody>\n",
       "    <tr>\n",
       "      <th>0</th>\n",
       "      <td>25.0</td>\n",
       "      <td>0.000000</td>\n",
       "      <td>0.000000</td>\n",
       "      <td>8.5</td>\n",
       "      <td>6.1</td>\n",
       "      <td>3.4</td>\n",
       "      <td>0.0</td>\n",
       "      <td>0.0</td>\n",
       "      <td>0.0</td>\n",
       "    </tr>\n",
       "    <tr>\n",
       "      <th>1</th>\n",
       "      <td>25.0</td>\n",
       "      <td>0.000000</td>\n",
       "      <td>0.000000</td>\n",
       "      <td>8.5</td>\n",
       "      <td>6.1</td>\n",
       "      <td>3.4</td>\n",
       "      <td>0.0</td>\n",
       "      <td>0.0</td>\n",
       "      <td>0.0</td>\n",
       "    </tr>\n",
       "    <tr>\n",
       "      <th>2</th>\n",
       "      <td>29.0</td>\n",
       "      <td>0.400000</td>\n",
       "      <td>0.716667</td>\n",
       "      <td>8.5</td>\n",
       "      <td>6.1</td>\n",
       "      <td>3.4</td>\n",
       "      <td>0.0</td>\n",
       "      <td>240.0</td>\n",
       "      <td>0.0</td>\n",
       "    </tr>\n",
       "    <tr>\n",
       "      <th>3</th>\n",
       "      <td>30.0</td>\n",
       "      <td>1.116667</td>\n",
       "      <td>-0.150000</td>\n",
       "      <td>8.5</td>\n",
       "      <td>6.1</td>\n",
       "      <td>3.4</td>\n",
       "      <td>0.0</td>\n",
       "      <td>60.0</td>\n",
       "      <td>0.0</td>\n",
       "    </tr>\n",
       "    <tr>\n",
       "      <th>4</th>\n",
       "      <td>35.0</td>\n",
       "      <td>0.966667</td>\n",
       "      <td>-1.133333</td>\n",
       "      <td>8.5</td>\n",
       "      <td>6.1</td>\n",
       "      <td>3.4</td>\n",
       "      <td>0.0</td>\n",
       "      <td>300.0</td>\n",
       "      <td>0.0</td>\n",
       "    </tr>\n",
       "  </tbody>\n",
       "</table>\n",
       "</div>"
      ]
     },
     "execution_count": 143,
     "metadata": {},
     "output_type": "execute_result"
    }
   ],
   "execution_count": 143
  },
  {
   "metadata": {
    "ExecuteTime": {
     "end_time": "2024-11-12T06:38:58.237433Z",
     "start_time": "2024-11-12T06:38:41.354689Z"
    }
   },
   "cell_type": "code",
   "source": "model_s,eval_df_s,_,_,_=train_and_evaluate_DRT(raw_data_small)",
   "id": "b36cbdeacae5c12a",
   "outputs": [],
   "execution_count": 148
  },
  {
   "metadata": {
    "ExecuteTime": {
     "end_time": "2024-11-12T06:38:58.330895Z",
     "start_time": "2024-11-12T06:38:58.262433Z"
    }
   },
   "cell_type": "code",
   "source": "eval_df_s.head()",
   "id": "30224f198b40d3d5",
   "outputs": [
    {
     "data": {
      "text/plain": [
       "         TERV_IDOTARTAM     KESES  predictions        Tény        Pred  \\\n",
       "1224451            60.0 -0.200000    -0.150000   59.800000   59.850000   \n",
       "311804            120.0 -0.266667    -0.383333  119.733333  119.616667   \n",
       "1245018            60.0  0.316667     0.233333   60.316667   60.233333   \n",
       "1036497            60.0 -0.483333    -0.283333   59.516667   59.716667   \n",
       "792395            120.0 -0.400000    -0.033333  119.600000  119.966667   \n",
       "\n",
       "               PE      MAPE        PE1      MAPE1  \n",
       "1224451 -0.083612  0.083612  25.000000  25.000000  \n",
       "311804   0.097439  0.097439 -43.750000  43.750000  \n",
       "1245018  0.138160  0.138160  26.315789  26.315789  \n",
       "1036497 -0.336040  0.336040  41.379310  41.379310  \n",
       "792395  -0.306577  0.306577  91.666667  91.666667  "
      ],
      "text/html": [
       "<div>\n",
       "<style scoped>\n",
       "    .dataframe tbody tr th:only-of-type {\n",
       "        vertical-align: middle;\n",
       "    }\n",
       "\n",
       "    .dataframe tbody tr th {\n",
       "        vertical-align: top;\n",
       "    }\n",
       "\n",
       "    .dataframe thead th {\n",
       "        text-align: right;\n",
       "    }\n",
       "</style>\n",
       "<table border=\"1\" class=\"dataframe\">\n",
       "  <thead>\n",
       "    <tr style=\"text-align: right;\">\n",
       "      <th></th>\n",
       "      <th>TERV_IDOTARTAM</th>\n",
       "      <th>KESES</th>\n",
       "      <th>predictions</th>\n",
       "      <th>Tény</th>\n",
       "      <th>Pred</th>\n",
       "      <th>PE</th>\n",
       "      <th>MAPE</th>\n",
       "      <th>PE1</th>\n",
       "      <th>MAPE1</th>\n",
       "    </tr>\n",
       "  </thead>\n",
       "  <tbody>\n",
       "    <tr>\n",
       "      <th>1224451</th>\n",
       "      <td>60.0</td>\n",
       "      <td>-0.200000</td>\n",
       "      <td>-0.150000</td>\n",
       "      <td>59.800000</td>\n",
       "      <td>59.850000</td>\n",
       "      <td>-0.083612</td>\n",
       "      <td>0.083612</td>\n",
       "      <td>25.000000</td>\n",
       "      <td>25.000000</td>\n",
       "    </tr>\n",
       "    <tr>\n",
       "      <th>311804</th>\n",
       "      <td>120.0</td>\n",
       "      <td>-0.266667</td>\n",
       "      <td>-0.383333</td>\n",
       "      <td>119.733333</td>\n",
       "      <td>119.616667</td>\n",
       "      <td>0.097439</td>\n",
       "      <td>0.097439</td>\n",
       "      <td>-43.750000</td>\n",
       "      <td>43.750000</td>\n",
       "    </tr>\n",
       "    <tr>\n",
       "      <th>1245018</th>\n",
       "      <td>60.0</td>\n",
       "      <td>0.316667</td>\n",
       "      <td>0.233333</td>\n",
       "      <td>60.316667</td>\n",
       "      <td>60.233333</td>\n",
       "      <td>0.138160</td>\n",
       "      <td>0.138160</td>\n",
       "      <td>26.315789</td>\n",
       "      <td>26.315789</td>\n",
       "    </tr>\n",
       "    <tr>\n",
       "      <th>1036497</th>\n",
       "      <td>60.0</td>\n",
       "      <td>-0.483333</td>\n",
       "      <td>-0.283333</td>\n",
       "      <td>59.516667</td>\n",
       "      <td>59.716667</td>\n",
       "      <td>-0.336040</td>\n",
       "      <td>0.336040</td>\n",
       "      <td>41.379310</td>\n",
       "      <td>41.379310</td>\n",
       "    </tr>\n",
       "    <tr>\n",
       "      <th>792395</th>\n",
       "      <td>120.0</td>\n",
       "      <td>-0.400000</td>\n",
       "      <td>-0.033333</td>\n",
       "      <td>119.600000</td>\n",
       "      <td>119.966667</td>\n",
       "      <td>-0.306577</td>\n",
       "      <td>0.306577</td>\n",
       "      <td>91.666667</td>\n",
       "      <td>91.666667</td>\n",
       "    </tr>\n",
       "  </tbody>\n",
       "</table>\n",
       "</div>"
      ]
     },
     "execution_count": 149,
     "metadata": {},
     "output_type": "execute_result"
    }
   ],
   "execution_count": 149
  },
  {
   "metadata": {
    "ExecuteTime": {
     "end_time": "2024-11-12T06:38:58.428046Z",
     "start_time": "2024-11-12T06:38:58.332900Z"
    }
   },
   "cell_type": "code",
   "source": "eval_df_s[['PE','PE1']].describe()\n",
   "id": "e9328084ee9ac42a",
   "outputs": [
    {
     "name": "stderr",
     "output_type": "stream",
     "text": [
      "C:\\Users\\ELTE\\miniconda3\\envs\\gtfs_env_311\\Lib\\site-packages\\numpy\\core\\_methods.py:49: RuntimeWarning: invalid value encountered in reduce\n",
      "  return umr_sum(a, axis, dtype, out, keepdims, initial, where)\n"
     ]
    },
    {
     "data": {
      "text/plain": [
       "                  PE           PE1\n",
       "count  418789.000000  4.089260e+05\n",
       "mean       -0.014418           NaN\n",
       "std         1.011920           NaN\n",
       "min      -268.627451          -inf\n",
       "25%        -0.111982 -2.424242e+01\n",
       "50%         0.000000  9.302326e+00\n",
       "75%         0.111307  6.842105e+01\n",
       "max        48.395914           inf"
      ],
      "text/html": [
       "<div>\n",
       "<style scoped>\n",
       "    .dataframe tbody tr th:only-of-type {\n",
       "        vertical-align: middle;\n",
       "    }\n",
       "\n",
       "    .dataframe tbody tr th {\n",
       "        vertical-align: top;\n",
       "    }\n",
       "\n",
       "    .dataframe thead th {\n",
       "        text-align: right;\n",
       "    }\n",
       "</style>\n",
       "<table border=\"1\" class=\"dataframe\">\n",
       "  <thead>\n",
       "    <tr style=\"text-align: right;\">\n",
       "      <th></th>\n",
       "      <th>PE</th>\n",
       "      <th>PE1</th>\n",
       "    </tr>\n",
       "  </thead>\n",
       "  <tbody>\n",
       "    <tr>\n",
       "      <th>count</th>\n",
       "      <td>418789.000000</td>\n",
       "      <td>4.089260e+05</td>\n",
       "    </tr>\n",
       "    <tr>\n",
       "      <th>mean</th>\n",
       "      <td>-0.014418</td>\n",
       "      <td>NaN</td>\n",
       "    </tr>\n",
       "    <tr>\n",
       "      <th>std</th>\n",
       "      <td>1.011920</td>\n",
       "      <td>NaN</td>\n",
       "    </tr>\n",
       "    <tr>\n",
       "      <th>min</th>\n",
       "      <td>-268.627451</td>\n",
       "      <td>-inf</td>\n",
       "    </tr>\n",
       "    <tr>\n",
       "      <th>25%</th>\n",
       "      <td>-0.111982</td>\n",
       "      <td>-2.424242e+01</td>\n",
       "    </tr>\n",
       "    <tr>\n",
       "      <th>50%</th>\n",
       "      <td>0.000000</td>\n",
       "      <td>9.302326e+00</td>\n",
       "    </tr>\n",
       "    <tr>\n",
       "      <th>75%</th>\n",
       "      <td>0.111307</td>\n",
       "      <td>6.842105e+01</td>\n",
       "    </tr>\n",
       "    <tr>\n",
       "      <th>max</th>\n",
       "      <td>48.395914</td>\n",
       "      <td>inf</td>\n",
       "    </tr>\n",
       "  </tbody>\n",
       "</table>\n",
       "</div>"
      ]
     },
     "execution_count": 150,
     "metadata": {},
     "output_type": "execute_result"
    }
   ],
   "execution_count": 150
  },
  {
   "metadata": {
    "ExecuteTime": {
     "end_time": "2024-11-12T06:38:58.435374Z",
     "start_time": "2024-11-12T06:38:58.430096Z"
    }
   },
   "cell_type": "code",
   "source": "",
   "id": "43719b9d0c50ea53",
   "outputs": [],
   "execution_count": 150
  },
  {
   "metadata": {
    "ExecuteTime": {
     "end_time": "2024-11-12T06:38:58.882649Z",
     "start_time": "2024-11-12T06:38:58.437387Z"
    }
   },
   "cell_type": "code",
   "source": "save_sklearn_model(model_s,'RT','Small')\n",
   "id": "567aa364f70949de",
   "outputs": [],
   "execution_count": 151
  },
  {
   "metadata": {
    "ExecuteTime": {
     "end_time": "2024-11-12T07:01:26.076541Z",
     "start_time": "2024-11-12T07:01:26.060116Z"
    }
   },
   "cell_type": "code",
   "source": "del model_s",
   "id": "a459f105180e185c",
   "outputs": [],
   "execution_count": 163
  },
  {
   "metadata": {
    "ExecuteTime": {
     "end_time": "2024-11-12T06:39:15.096125Z",
     "start_time": "2024-11-12T06:39:14.964328Z"
    }
   },
   "cell_type": "code",
   "source": [
    "raw_data_small=raw_data[attrs_to_use]\n",
    "def train_and_evaluate_NN(data, epoch=10, lr=0.0001):\n",
    "    X_train, X_test, y_train, y_test,X_scaler,y_scaler = split_train_test(data,True)\n",
    "    X_train_t, X_test_t, y_train_t, y_test_t = get_data_tensors(X_train, X_test, y_train, y_test)\n",
    "    input_size=X_train.shape[1]\n",
    "    model = get_NN_model(input_size)\n",
    "    optimizer, loss_fn = get_optimizer(model, lr)\n",
    "    history, best_mse, best_weights, model=train_NN(X_train_t, X_test_t, y_train_t, y_test_t, model, loss_fn, optimizer, epoch)\n",
    "    y_pred = model(X_test_t)\n",
    "    y_pred=y_pred.detach().numpy()\n",
    "    X_test[X_test.columns]=X_scaler.inverse_transform(X_test_t)\n",
    "    y_test[y_test.columns] =y_scaler.inverse_transform(y_test_t)\n",
    "    y_pred=y_scaler.inverse_transform(y_pred)\n",
    "    eval_df_nn = evaluate_model(X_test, y_test, y_pred)\n",
    "    return model,eval_df_nn,X_scaler,y_scaler,history\n"
   ],
   "id": "f917126543c60abd",
   "outputs": [],
   "execution_count": 152
  },
  {
   "metadata": {
    "ExecuteTime": {
     "end_time": "2024-11-12T06:58:55.171823Z",
     "start_time": "2024-11-12T06:54:17.932040Z"
    }
   },
   "cell_type": "code",
   "source": [
    "model_nn_s,eval_df_nn_s,X_scaler_s,y_scaler, history_s=train_and_evaluate_NN(raw_data_small,3)\n",
    "\n",
    "\n",
    "    "
   ],
   "id": "f203c3532925c649",
   "outputs": [
    {
     "name": "stderr",
     "output_type": "stream",
     "text": [
      "C:\\Users\\ELTE\\AppData\\Local\\Temp\\ipykernel_6884\\2956716844.py:13: SettingWithCopyWarning: \n",
      "A value is trying to be set on a copy of a slice from a DataFrame.\n",
      "Try using .loc[row_indexer,col_indexer] = value instead\n",
      "\n",
      "See the caveats in the documentation: https://pandas.pydata.org/pandas-docs/stable/user_guide/indexing.html#returning-a-view-versus-a-copy\n",
      "  pd_y[pd_y.columns] = y_scaler.fit_transform(pd_y[pd_y.columns])\n"
     ]
    },
    {
     "name": "stdout",
     "output_type": "stream",
     "text": [
      "Epoch: 0 MSE: 2.0312982087489218e-05 Best mse inf\n",
      "Epoch: 1 MSE: 1.8248558262712322e-05 Best mse 2.0312982087489218e-05\n",
      "Epoch: 2 MSE: 1.8054355678032152e-05 Best mse 1.8248558262712322e-05\n"
     ]
    }
   ],
   "execution_count": 156
  },
  {
   "metadata": {
    "ExecuteTime": {
     "end_time": "2024-11-12T06:58:55.506860Z",
     "start_time": "2024-11-12T06:58:55.190317Z"
    }
   },
   "cell_type": "code",
   "source": [
    "save_NN(model_nn_s,X_scaler_s,y_scaler,history_s,'Small')\n",
    "\n"
   ],
   "id": "5d140d8a24b2288b",
   "outputs": [
    {
     "data": {
      "text/plain": [
       "<Figure size 640x480 with 1 Axes>"
      ],
      "image/png": "[encoded data removed]"
     },
     "metadata": {},
     "output_type": "display_data"
    }
   ],
   "execution_count": 157
  },
  {
   "metadata": {
    "ExecuteTime": {
     "end_time": "2024-11-12T06:58:55.539761Z",
     "start_time": "2024-11-12T06:58:55.508316Z"
    }
   },
   "cell_type": "code",
   "source": "eval_df_nn_s.head()",
   "id": "f9c53c32014a47cd",
   "outputs": [
    {
     "data": {
      "text/plain": [
       "         TERV_IDOTARTAM     KESES  predictions        Tény        Pred  \\\n",
       "1224451       60.000001 -0.199998    -0.225888   59.800003   59.774113   \n",
       "311804       120.000002 -0.266666    -0.364979  119.733336  119.635023   \n",
       "1245018       60.000001  0.316669    -0.374006   60.316670   59.625995   \n",
       "1036497       60.000001 -0.483334    -0.291266   59.516667   59.708735   \n",
       "792395       120.000002 -0.400002    -0.318691  119.600000  119.681311   \n",
       "\n",
       "               PE      MAPE         PE1       MAPE1  \n",
       "1224451  0.043294  0.043294  -12.944991   12.944991  \n",
       "311804   0.082110  0.082110  -36.867284   36.867284  \n",
       "1245018  1.145081  1.145081  218.106433  218.106433  \n",
       "1036497 -0.322712  0.322712   39.738072   39.738072  \n",
       "792395  -0.067986  0.067986   20.327791   20.327791  "
      ],
      "text/html": [
       "<div>\n",
       "<style scoped>\n",
       "    .dataframe tbody tr th:only-of-type {\n",
       "        vertical-align: middle;\n",
       "    }\n",
       "\n",
       "    .dataframe tbody tr th {\n",
       "        vertical-align: top;\n",
       "    }\n",
       "\n",
       "    .dataframe thead th {\n",
       "        text-align: right;\n",
       "    }\n",
       "</style>\n",
       "<table border=\"1\" class=\"dataframe\">\n",
       "  <thead>\n",
       "    <tr style=\"text-align: right;\">\n",
       "      <th></th>\n",
       "      <th>TERV_IDOTARTAM</th>\n",
       "      <th>KESES</th>\n",
       "      <th>predictions</th>\n",
       "      <th>Tény</th>\n",
       "      <th>Pred</th>\n",
       "      <th>PE</th>\n",
       "      <th>MAPE</th>\n",
       "      <th>PE1</th>\n",
       "      <th>MAPE1</th>\n",
       "    </tr>\n",
       "  </thead>\n",
       "  <tbody>\n",
       "    <tr>\n",
       "      <th>1224451</th>\n",
       "      <td>60.000001</td>\n",
       "      <td>-0.199998</td>\n",
       "      <td>-0.225888</td>\n",
       "      <td>59.800003</td>\n",
       "      <td>59.774113</td>\n",
       "      <td>0.043294</td>\n",
       "      <td>0.043294</td>\n",
       "      <td>-12.944991</td>\n",
       "      <td>12.944991</td>\n",
       "    </tr>\n",
       "    <tr>\n",
       "      <th>311804</th>\n",
       "      <td>120.000002</td>\n",
       "      <td>-0.266666</td>\n",
       "      <td>-0.364979</td>\n",
       "      <td>119.733336</td>\n",
       "      <td>119.635023</td>\n",
       "      <td>0.082110</td>\n",
       "      <td>0.082110</td>\n",
       "      <td>-36.867284</td>\n",
       "      <td>36.867284</td>\n",
       "    </tr>\n",
       "    <tr>\n",
       "      <th>1245018</th>\n",
       "      <td>60.000001</td>\n",
       "      <td>0.316669</td>\n",
       "      <td>-0.374006</td>\n",
       "      <td>60.316670</td>\n",
       "      <td>59.625995</td>\n",
       "      <td>1.145081</td>\n",
       "      <td>1.145081</td>\n",
       "      <td>218.106433</td>\n",
       "      <td>218.106433</td>\n",
       "    </tr>\n",
       "    <tr>\n",
       "      <th>1036497</th>\n",
       "      <td>60.000001</td>\n",
       "      <td>-0.483334</td>\n",
       "      <td>-0.291266</td>\n",
       "      <td>59.516667</td>\n",
       "      <td>59.708735</td>\n",
       "      <td>-0.322712</td>\n",
       "      <td>0.322712</td>\n",
       "      <td>39.738072</td>\n",
       "      <td>39.738072</td>\n",
       "    </tr>\n",
       "    <tr>\n",
       "      <th>792395</th>\n",
       "      <td>120.000002</td>\n",
       "      <td>-0.400002</td>\n",
       "      <td>-0.318691</td>\n",
       "      <td>119.600000</td>\n",
       "      <td>119.681311</td>\n",
       "      <td>-0.067986</td>\n",
       "      <td>0.067986</td>\n",
       "      <td>20.327791</td>\n",
       "      <td>20.327791</td>\n",
       "    </tr>\n",
       "  </tbody>\n",
       "</table>\n",
       "</div>"
      ]
     },
     "execution_count": 158,
     "metadata": {},
     "output_type": "execute_result"
    }
   ],
   "execution_count": 158
  },
  {
   "metadata": {
    "ExecuteTime": {
     "end_time": "2024-11-12T06:58:55.647635Z",
     "start_time": "2024-11-12T06:58:55.540767Z"
    }
   },
   "cell_type": "code",
   "source": [
    "print(\"MSE: %.2f\" % best_mse)\n",
    "print(\"RMSE: %.2f\" % np.sqrt(best_mse))\n",
    "plt.plot(history_s)\n",
    "plt.show()"
   ],
   "id": "89a66106afddd148",
   "outputs": [
    {
     "name": "stdout",
     "output_type": "stream",
     "text": [
      "MSE: 0.00\n",
      "RMSE: 0.00\n"
     ]
    },
    {
     "data": {
      "text/plain": [
       "<Figure size 640x480 with 1 Axes>"
      ],
      "image/png": "[encoded data removed]"
     },
     "metadata": {},
     "output_type": "display_data"
    }
   ],
   "execution_count": 159
  },
  {
   "metadata": {
    "ExecuteTime": {
     "end_time": "2024-11-07T07:52:08.138828Z",
     "start_time": "2024-11-07T07:52:08.075035Z"
    }
   },
   "cell_type": "code",
   "source": "eval_df_nn_s[['MAPE','MAPE1']].describe()",
   "id": "f2eabb8c0eb59c71",
   "outputs": [
    {
     "data": {
      "text/plain": [
       "               MAPE         MAPE1\n",
       "count  4.187890e+05  4.187890e+05\n",
       "mean   3.075355e-01  6.680847e+05\n",
       "std    9.641641e-01  9.131696e+06\n",
       "min    1.002436e-09  1.103793e-07\n",
       "25%    4.190919e-02  1.538485e+01\n",
       "50%    1.116657e-01  4.848440e+01\n",
       "75%    2.668309e-01  1.199961e+02\n",
       "max    2.686274e+02  1.043506e+09"
      ],
      "text/html": [
       "<div>\n",
       "<style scoped>\n",
       "    .dataframe tbody tr th:only-of-type {\n",
       "        vertical-align: middle;\n",
       "    }\n",
       "\n",
       "    .dataframe tbody tr th {\n",
       "        vertical-align: top;\n",
       "    }\n",
       "\n",
       "    .dataframe thead th {\n",
       "        text-align: right;\n",
       "    }\n",
       "</style>\n",
       "<table border=\"1\" class=\"dataframe\">\n",
       "  <thead>\n",
       "    <tr style=\"text-align: right;\">\n",
       "      <th></th>\n",
       "      <th>MAPE</th>\n",
       "      <th>MAPE1</th>\n",
       "    </tr>\n",
       "  </thead>\n",
       "  <tbody>\n",
       "    <tr>\n",
       "      <th>count</th>\n",
       "      <td>4.187890e+05</td>\n",
       "      <td>4.187890e+05</td>\n",
       "    </tr>\n",
       "    <tr>\n",
       "      <th>mean</th>\n",
       "      <td>3.075355e-01</td>\n",
       "      <td>6.680847e+05</td>\n",
       "    </tr>\n",
       "    <tr>\n",
       "      <th>std</th>\n",
       "      <td>9.641641e-01</td>\n",
       "      <td>9.131696e+06</td>\n",
       "    </tr>\n",
       "    <tr>\n",
       "      <th>min</th>\n",
       "      <td>1.002436e-09</td>\n",
       "      <td>1.103793e-07</td>\n",
       "    </tr>\n",
       "    <tr>\n",
       "      <th>25%</th>\n",
       "      <td>4.190919e-02</td>\n",
       "      <td>1.538485e+01</td>\n",
       "    </tr>\n",
       "    <tr>\n",
       "      <th>50%</th>\n",
       "      <td>1.116657e-01</td>\n",
       "      <td>4.848440e+01</td>\n",
       "    </tr>\n",
       "    <tr>\n",
       "      <th>75%</th>\n",
       "      <td>2.668309e-01</td>\n",
       "      <td>1.199961e+02</td>\n",
       "    </tr>\n",
       "    <tr>\n",
       "      <th>max</th>\n",
       "      <td>2.686274e+02</td>\n",
       "      <td>1.043506e+09</td>\n",
       "    </tr>\n",
       "  </tbody>\n",
       "</table>\n",
       "</div>"
      ]
     },
     "execution_count": 88,
     "metadata": {},
     "output_type": "execute_result"
    }
   ],
   "execution_count": 88
  },
  {
   "metadata": {
    "ExecuteTime": {
     "end_time": "2024-11-12T06:59:57.293779Z",
     "start_time": "2024-11-12T06:59:57.171963Z"
    }
   },
   "cell_type": "code",
   "source": "del model_nn_s",
   "id": "f9efbb39d62c1a80",
   "outputs": [],
   "execution_count": 160
  },
  {
   "metadata": {
    "ExecuteTime": {
     "end_time": "2024-11-12T07:00:21.235905Z",
     "start_time": "2024-11-12T07:00:21.142460Z"
    }
   },
   "cell_type": "code",
   "source": [
    "del raw_data_small\n",
    "del raw_data\n",
    "    "
   ],
   "id": "b21aedb69a8a911d",
   "outputs": [],
   "execution_count": 161
  },
  {
   "metadata": {},
   "cell_type": "code",
   "outputs": [],
   "execution_count": null,
   "source": "",
   "id": "33f75d5b5b54f65f"
  }
 ],
 "metadata": {
  "kernelspec": {
   "display_name": "Python 3",
   "language": "python",
   "name": "python3"
  },
  "language_info": {
   "codemirror_mode": {
    "name": "ipython",
    "version": 2
   },
   "file_extension": ".py",
   "mimetype": "text/x-python",
   "name": "python",
   "nbconvert_exporter": "python",
   "pygments_lexer": "ipython2",
   "version": "2.7.6"
  }
 },
 "nbformat": 4,
 "nbformat_minor": 5
}

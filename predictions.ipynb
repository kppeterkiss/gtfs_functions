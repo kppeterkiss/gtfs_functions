{
 "cells": [
  {
   "cell_type": "code",
   "id": "initial_id",
   "metadata": {
    "collapsed": true,
    "ExecuteTime": {
     "end_time": "2024-11-06T12:42:31.701921Z",
     "start_time": "2024-11-06T12:42:27.167675Z"
    }
   },
   "source": [
    "import pandas as pd\n",
    "from sklearn.preprocessing import MinMaxScaler"
   ],
   "outputs": [],
   "execution_count": 3
  },
  {
   "metadata": {
    "ExecuteTime": {
     "end_time": "2024-11-06T12:42:31.711998Z",
     "start_time": "2024-11-06T12:42:31.703930Z"
    }
   },
   "cell_type": "code",
   "source": [
    "def load_data(fn): \n",
    "    with open(fn, 'rt') as f:\n",
    "        types = next(f).rstrip().split(',')[1:]\n",
    "        columns = next(f).rstrip().split(',')[1:]\n",
    "        df = pd.read_csv(f, dtype=dict(zip(columns, types)), index_col=0, names=columns)\n",
    "        return df"
   ],
   "id": "24f7da327c95677a",
   "outputs": [],
   "execution_count": 4
  },
  {
   "metadata": {
    "ExecuteTime": {
     "end_time": "2024-11-06T12:42:31.720236Z",
     "start_time": "2024-11-06T12:42:31.715030Z"
    }
   },
   "cell_type": "code",
   "source": [
    "data_root = \"data/\"\n",
    "datafn= \"data.csv\""
   ],
   "id": "8414e604476e21d9",
   "outputs": [],
   "execution_count": 5
  },
  {
   "metadata": {
    "ExecuteTime": {
     "end_time": "2024-11-06T12:43:32.838276Z",
     "start_time": "2024-11-06T12:42:31.723247Z"
    }
   },
   "cell_type": "code",
   "source": [
    "#raw_data =load_data(data_root+datafn)\n",
    "raw_data=pd.read_pickle(data_root+'data.pkl')\n"
   ],
   "id": "c5688790312e3027",
   "outputs": [],
   "execution_count": 6
  },
  {
   "metadata": {
    "ExecuteTime": {
     "end_time": "2024-11-06T12:43:33.816036Z",
     "start_time": "2024-11-06T12:43:32.998152Z"
    }
   },
   "cell_type": "code",
   "source": "raw_data.head()",
   "id": "d31e071dd9ee53c9",
   "outputs": [
    {
     "data": {
      "text/plain": [
       "  VONAL  VONATSZAM  VONTATO_TIPUS    ELOZO_ESEMENY_IDO MENETREND_IDO  \\\n",
       "0    70       2010            465                  0.0      00:25:00   \n",
       "1    70       2010            465  2023-01-01 00:25:00      00:25:00   \n",
       "2    70       2010            465  2023-01-01 00:25:00      00:29:00   \n",
       "3     2       2010            465  2023-01-01 00:29:00      00:30:00   \n",
       "4     2       2010            465  2023-01-01 00:30:00      00:35:00   \n",
       "\n",
       "          OSSZ_KESES      ELOZO_KESES              KESES   tx    t  ...    E  \\\n",
       "0                0.0              0.0                0.0  8.5  6.1  ...  0.0   \n",
       "1    0 days 00:00:24              0.0                0.0  8.5  6.1  ...  0.0   \n",
       "2    0 days 00:01:07  0 days 00:00:24    0 days 00:00:43  8.5  6.1  ...  0.0   \n",
       "3    0 days 00:00:58  0 days 00:01:07  -1 days +23:59:51  8.5  6.1  ...  0.0   \n",
       "4  -1 days +23:59:50  0 days 00:00:58  -1 days +23:58:52  8.5  6.1  ...  0.0   \n",
       "\n",
       "    ÁI   ÁE Kezdés  Befejezés Kizárás (1=VZ,2=LJ)  \\\n",
       "0  0.0  0.0    0.0        0.0                 0.0   \n",
       "1  0.0  0.0    0.0        0.0                 0.0   \n",
       "2  0.0  0.0    0.0        0.0                 0.0   \n",
       "3  0.0  0.0    0.0        0.0                 0.0   \n",
       "4  0.0  0.0    0.0        0.0                 0.0   \n",
       "\n",
       "   Kiutalt menetvonalak zavartatása nélkül  Státus  ELOZO VONAT KESES  \\\n",
       "0                                      0.0     0.0                NaN   \n",
       "1                                      0.0     0.0                NaN   \n",
       "2                                      0.0     0.0                NaN   \n",
       "3                                      0.0     0.0                NaN   \n",
       "4                                      0.0     0.0                NaN   \n",
       "\n",
       "   VONAL STATUSZ VALTOZOTT  \n",
       "0                    False  \n",
       "1                    False  \n",
       "2                    False  \n",
       "3                    False  \n",
       "4                    False  \n",
       "\n",
       "[5 rows x 33 columns]"
      ],
      "text/html": [
       "<div>\n",
       "<style scoped>\n",
       "    .dataframe tbody tr th:only-of-type {\n",
       "        vertical-align: middle;\n",
       "    }\n",
       "\n",
       "    .dataframe tbody tr th {\n",
       "        vertical-align: top;\n",
       "    }\n",
       "\n",
       "    .dataframe thead th {\n",
       "        text-align: right;\n",
       "    }\n",
       "</style>\n",
       "<table border=\"1\" class=\"dataframe\">\n",
       "  <thead>\n",
       "    <tr style=\"text-align: right;\">\n",
       "      <th></th>\n",
       "      <th>VONAL</th>\n",
       "      <th>VONATSZAM</th>\n",
       "      <th>VONTATO_TIPUS</th>\n",
       "      <th>ELOZO_ESEMENY_IDO</th>\n",
       "      <th>MENETREND_IDO</th>\n",
       "      <th>OSSZ_KESES</th>\n",
       "      <th>ELOZO_KESES</th>\n",
       "      <th>KESES</th>\n",
       "      <th>tx</th>\n",
       "      <th>t</th>\n",
       "      <th>...</th>\n",
       "      <th>E</th>\n",
       "      <th>ÁI</th>\n",
       "      <th>ÁE</th>\n",
       "      <th>Kezdés</th>\n",
       "      <th>Befejezés</th>\n",
       "      <th>Kizárás (1=VZ,2=LJ)</th>\n",
       "      <th>Kiutalt menetvonalak zavartatása nélkül</th>\n",
       "      <th>Státus</th>\n",
       "      <th>ELOZO VONAT KESES</th>\n",
       "      <th>VONAL STATUSZ VALTOZOTT</th>\n",
       "    </tr>\n",
       "  </thead>\n",
       "  <tbody>\n",
       "    <tr>\n",
       "      <th>0</th>\n",
       "      <td>70</td>\n",
       "      <td>2010</td>\n",
       "      <td>465</td>\n",
       "      <td>0.0</td>\n",
       "      <td>00:25:00</td>\n",
       "      <td>0.0</td>\n",
       "      <td>0.0</td>\n",
       "      <td>0.0</td>\n",
       "      <td>8.5</td>\n",
       "      <td>6.1</td>\n",
       "      <td>...</td>\n",
       "      <td>0.0</td>\n",
       "      <td>0.0</td>\n",
       "      <td>0.0</td>\n",
       "      <td>0.0</td>\n",
       "      <td>0.0</td>\n",
       "      <td>0.0</td>\n",
       "      <td>0.0</td>\n",
       "      <td>0.0</td>\n",
       "      <td>NaN</td>\n",
       "      <td>False</td>\n",
       "    </tr>\n",
       "    <tr>\n",
       "      <th>1</th>\n",
       "      <td>70</td>\n",
       "      <td>2010</td>\n",
       "      <td>465</td>\n",
       "      <td>2023-01-01 00:25:00</td>\n",
       "      <td>00:25:00</td>\n",
       "      <td>0 days 00:00:24</td>\n",
       "      <td>0.0</td>\n",
       "      <td>0.0</td>\n",
       "      <td>8.5</td>\n",
       "      <td>6.1</td>\n",
       "      <td>...</td>\n",
       "      <td>0.0</td>\n",
       "      <td>0.0</td>\n",
       "      <td>0.0</td>\n",
       "      <td>0.0</td>\n",
       "      <td>0.0</td>\n",
       "      <td>0.0</td>\n",
       "      <td>0.0</td>\n",
       "      <td>0.0</td>\n",
       "      <td>NaN</td>\n",
       "      <td>False</td>\n",
       "    </tr>\n",
       "    <tr>\n",
       "      <th>2</th>\n",
       "      <td>70</td>\n",
       "      <td>2010</td>\n",
       "      <td>465</td>\n",
       "      <td>2023-01-01 00:25:00</td>\n",
       "      <td>00:29:00</td>\n",
       "      <td>0 days 00:01:07</td>\n",
       "      <td>0 days 00:00:24</td>\n",
       "      <td>0 days 00:00:43</td>\n",
       "      <td>8.5</td>\n",
       "      <td>6.1</td>\n",
       "      <td>...</td>\n",
       "      <td>0.0</td>\n",
       "      <td>0.0</td>\n",
       "      <td>0.0</td>\n",
       "      <td>0.0</td>\n",
       "      <td>0.0</td>\n",
       "      <td>0.0</td>\n",
       "      <td>0.0</td>\n",
       "      <td>0.0</td>\n",
       "      <td>NaN</td>\n",
       "      <td>False</td>\n",
       "    </tr>\n",
       "    <tr>\n",
       "      <th>3</th>\n",
       "      <td>2</td>\n",
       "      <td>2010</td>\n",
       "      <td>465</td>\n",
       "      <td>2023-01-01 00:29:00</td>\n",
       "      <td>00:30:00</td>\n",
       "      <td>0 days 00:00:58</td>\n",
       "      <td>0 days 00:01:07</td>\n",
       "      <td>-1 days +23:59:51</td>\n",
       "      <td>8.5</td>\n",
       "      <td>6.1</td>\n",
       "      <td>...</td>\n",
       "      <td>0.0</td>\n",
       "      <td>0.0</td>\n",
       "      <td>0.0</td>\n",
       "      <td>0.0</td>\n",
       "      <td>0.0</td>\n",
       "      <td>0.0</td>\n",
       "      <td>0.0</td>\n",
       "      <td>0.0</td>\n",
       "      <td>NaN</td>\n",
       "      <td>False</td>\n",
       "    </tr>\n",
       "    <tr>\n",
       "      <th>4</th>\n",
       "      <td>2</td>\n",
       "      <td>2010</td>\n",
       "      <td>465</td>\n",
       "      <td>2023-01-01 00:30:00</td>\n",
       "      <td>00:35:00</td>\n",
       "      <td>-1 days +23:59:50</td>\n",
       "      <td>0 days 00:00:58</td>\n",
       "      <td>-1 days +23:58:52</td>\n",
       "      <td>8.5</td>\n",
       "      <td>6.1</td>\n",
       "      <td>...</td>\n",
       "      <td>0.0</td>\n",
       "      <td>0.0</td>\n",
       "      <td>0.0</td>\n",
       "      <td>0.0</td>\n",
       "      <td>0.0</td>\n",
       "      <td>0.0</td>\n",
       "      <td>0.0</td>\n",
       "      <td>0.0</td>\n",
       "      <td>NaN</td>\n",
       "      <td>False</td>\n",
       "    </tr>\n",
       "  </tbody>\n",
       "</table>\n",
       "<p>5 rows × 33 columns</p>\n",
       "</div>"
      ]
     },
     "execution_count": 7,
     "metadata": {},
     "output_type": "execute_result"
    }
   ],
   "execution_count": 7
  },
  {
   "metadata": {
    "ExecuteTime": {
     "end_time": "2024-11-06T12:43:33.847578Z",
     "start_time": "2024-11-06T12:43:33.822042Z"
    }
   },
   "cell_type": "code",
   "source": [
    "import datetime\n",
    "def convert_time_to_minute(input):\n",
    "    if isinstance(input,datetime.time):\n",
    "        return float(input.hour*60+input.minute)\n",
    "    if isinstance(input,datetime.timedelta):\n",
    "        ret = input.total_seconds()/60\n",
    "       # if datetime.timedelta(0)>input:\n",
    "       #     return -ret\n",
    "        return ret\n",
    "    if isinstance(input,float):\n",
    "        return input\n",
    "    return -1.0"
   ],
   "id": "be66b9ba92baf2d4",
   "outputs": [],
   "execution_count": 8
  },
  {
   "metadata": {
    "ExecuteTime": {
     "end_time": "2024-11-06T12:43:33.862590Z",
     "start_time": "2024-11-06T12:43:33.853654Z"
    }
   },
   "cell_type": "code",
   "source": "# átalakítjuk időt percekké",
   "id": "bea3510fece59336",
   "outputs": [],
   "execution_count": 9
  },
  {
   "metadata": {
    "ExecuteTime": {
     "end_time": "2024-11-06T12:43:54.752329Z",
     "start_time": "2024-11-06T12:43:33.869606Z"
    }
   },
   "cell_type": "code",
   "source": [
    "raw_data[['MENETREND_IDO','ELOZO_KESES','ELOZO VONAT KESES','KESES']] = raw_data[['MENETREND_IDO','ELOZO_KESES','ELOZO VONAT KESES','KESES']].map(convert_time_to_minute)\n",
    "raw_data['VONAL STATUSZ VALTOZOTT']=raw_data['VONAL STATUSZ VALTOZOTT'].head().astype(float)\n",
    "raw_data.fillna(0.0,inplace=True)\n"
   ],
   "id": "7d7c5ea1e28cb35a",
   "outputs": [],
   "execution_count": 10
  },
  {
   "metadata": {
    "ExecuteTime": {
     "end_time": "2024-11-06T12:43:55.698003Z",
     "start_time": "2024-11-06T12:43:54.797347Z"
    }
   },
   "cell_type": "code",
   "source": [
    "#TODO boolean vs categorical?\n",
    "#TODO Vonal, Line mit kellene kezdeni velük? kicsit kölséges használni őket..\n",
    "#raw_data[['VONATSZAM','VONAL','VONTATO_TIPUS','Lassúmenet típusa','Kizárás (1=VZ,2=LJ)','Kiutalt menetvonalak zavartatása nélkül','Státus','Fels.vez. kikapcsolása']]=raw_data[['VONATSZAM','VONAL','VONTATO_TIPUS','Lassúmenet típusa','Kizárás (1=VZ,2=LJ)','Kiutalt menetvonalak zavartatása nélkül','Státus','Fels.vez. kikapcsolása']].astype(\"category\")\n",
    "\n",
    "# sklearn nem bír  category-kal\n",
    "raw_data.drop(columns=['VONATSZAM','VONAL','VONTATO_TIPUS'],inplace=True)\n"
   ],
   "id": "f65819485e89ac5b",
   "outputs": [],
   "execution_count": 11
  },
  {
   "metadata": {
    "ExecuteTime": {
     "end_time": "2024-11-06T12:43:56.617142Z",
     "start_time": "2024-11-06T12:43:55.703518Z"
    }
   },
   "cell_type": "code",
   "source": [
    "\n",
    "#\n",
    "raw_data=raw_data.drop(columns=['ELOZO_ESEMENY_IDO','ID','Kizárásszám','Kezdés','Befejezés','LINE','OSSZ_KESES'])\n"
   ],
   "id": "c1bfa83a90af9d8d",
   "outputs": [],
   "execution_count": 12
  },
  {
   "metadata": {
    "ExecuteTime": {
     "end_time": "2024-11-06T12:43:56.682062Z",
     "start_time": "2024-11-06T12:43:56.622700Z"
    }
   },
   "cell_type": "code",
   "source": "raw_data.dtypes\n",
   "id": "e9bda6887b2600ad",
   "outputs": [
    {
     "data": {
      "text/plain": [
       "MENETREND_IDO                              float64\n",
       "ELOZO_KESES                                float64\n",
       "KESES                                      float64\n",
       "tx                                         float64\n",
       "t                                          float64\n",
       "tn                                         float64\n",
       "r                                          float64\n",
       "TERV_IDOTARTAM                             float64\n",
       "Érintett objektum típusa                   float64\n",
       "Lassúmenet típusa                          float64\n",
       "Lassúmenet hossza                          float64\n",
       "Lassúmenet mértéke (km/h)                  float64\n",
       "Lassúmenet mértéke motorvonatra (km/h)     float64\n",
       "Fels.vez. kikapcsolása                     float64\n",
       "I                                          float64\n",
       "E                                          float64\n",
       "ÁI                                         float64\n",
       "ÁE                                         float64\n",
       "Kizárás (1=VZ,2=LJ)                        float64\n",
       "Kiutalt menetvonalak zavartatása nélkül    float64\n",
       "Státus                                     float64\n",
       "ELOZO VONAT KESES                          float64\n",
       "VONAL STATUSZ VALTOZOTT                    float64\n",
       "dtype: object"
      ]
     },
     "execution_count": 13,
     "metadata": {},
     "output_type": "execute_result"
    }
   ],
   "execution_count": 13
  },
  {
   "metadata": {
    "ExecuteTime": {
     "end_time": "2024-11-06T09:46:41.591470Z",
     "start_time": "2024-11-06T09:46:41.521944Z"
    }
   },
   "cell_type": "code",
   "source": "raw_data.head()",
   "id": "a09069806bd36ada",
   "outputs": [
    {
     "data": {
      "text/plain": [
       "   MENETREND_IDO  ELOZO_KESES     KESES   tx    t   tn    r  TERV_IDOTARTAM  \\\n",
       "0           25.0     0.000000  0.000000  8.5  6.1  3.4  0.0             0.0   \n",
       "1           25.0     0.000000  0.000000  8.5  6.1  3.4  0.0             0.0   \n",
       "2           29.0     0.400000  0.716667  8.5  6.1  3.4  0.0           240.0   \n",
       "3           30.0     1.116667 -0.150000  8.5  6.1  3.4  0.0            60.0   \n",
       "4           35.0     0.966667 -1.133333  8.5  6.1  3.4  0.0           300.0   \n",
       "\n",
       "   Érintett objektum típusa  Lassúmenet típusa  ...  Fels.vez. kikapcsolása  \\\n",
       "0                       0.0                0.0  ...                     0.0   \n",
       "1                       0.0                0.0  ...                     0.0   \n",
       "2                       0.0                0.0  ...                     0.0   \n",
       "3                       0.0                0.0  ...                     0.0   \n",
       "4                       0.0                0.0  ...                     0.0   \n",
       "\n",
       "     I    E   ÁI   ÁE  Kizárás (1=VZ,2=LJ)  \\\n",
       "0  0.0  0.0  0.0  0.0                  0.0   \n",
       "1  0.0  0.0  0.0  0.0                  0.0   \n",
       "2  0.0  0.0  0.0  0.0                  0.0   \n",
       "3  0.0  0.0  0.0  0.0                  0.0   \n",
       "4  0.0  0.0  0.0  0.0                  0.0   \n",
       "\n",
       "   Kiutalt menetvonalak zavartatása nélkül  Státus  ELOZO VONAT KESES  \\\n",
       "0                                      0.0     0.0                NaN   \n",
       "1                                      0.0     0.0                NaN   \n",
       "2                                      0.0     0.0                NaN   \n",
       "3                                      0.0     0.0                NaN   \n",
       "4                                      0.0     0.0                NaN   \n",
       "\n",
       "   VONAL STATUSZ VALTOZOTT  \n",
       "0                      0.0  \n",
       "1                      0.0  \n",
       "2                      0.0  \n",
       "3                      0.0  \n",
       "4                      0.0  \n",
       "\n",
       "[5 rows x 23 columns]"
      ],
      "text/html": [
       "<div>\n",
       "<style scoped>\n",
       "    .dataframe tbody tr th:only-of-type {\n",
       "        vertical-align: middle;\n",
       "    }\n",
       "\n",
       "    .dataframe tbody tr th {\n",
       "        vertical-align: top;\n",
       "    }\n",
       "\n",
       "    .dataframe thead th {\n",
       "        text-align: right;\n",
       "    }\n",
       "</style>\n",
       "<table border=\"1\" class=\"dataframe\">\n",
       "  <thead>\n",
       "    <tr style=\"text-align: right;\">\n",
       "      <th></th>\n",
       "      <th>MENETREND_IDO</th>\n",
       "      <th>ELOZO_KESES</th>\n",
       "      <th>KESES</th>\n",
       "      <th>tx</th>\n",
       "      <th>t</th>\n",
       "      <th>tn</th>\n",
       "      <th>r</th>\n",
       "      <th>TERV_IDOTARTAM</th>\n",
       "      <th>Érintett objektum típusa</th>\n",
       "      <th>Lassúmenet típusa</th>\n",
       "      <th>...</th>\n",
       "      <th>Fels.vez. kikapcsolása</th>\n",
       "      <th>I</th>\n",
       "      <th>E</th>\n",
       "      <th>ÁI</th>\n",
       "      <th>ÁE</th>\n",
       "      <th>Kizárás (1=VZ,2=LJ)</th>\n",
       "      <th>Kiutalt menetvonalak zavartatása nélkül</th>\n",
       "      <th>Státus</th>\n",
       "      <th>ELOZO VONAT KESES</th>\n",
       "      <th>VONAL STATUSZ VALTOZOTT</th>\n",
       "    </tr>\n",
       "  </thead>\n",
       "  <tbody>\n",
       "    <tr>\n",
       "      <th>0</th>\n",
       "      <td>25.0</td>\n",
       "      <td>0.000000</td>\n",
       "      <td>0.000000</td>\n",
       "      <td>8.5</td>\n",
       "      <td>6.1</td>\n",
       "      <td>3.4</td>\n",
       "      <td>0.0</td>\n",
       "      <td>0.0</td>\n",
       "      <td>0.0</td>\n",
       "      <td>0.0</td>\n",
       "      <td>...</td>\n",
       "      <td>0.0</td>\n",
       "      <td>0.0</td>\n",
       "      <td>0.0</td>\n",
       "      <td>0.0</td>\n",
       "      <td>0.0</td>\n",
       "      <td>0.0</td>\n",
       "      <td>0.0</td>\n",
       "      <td>0.0</td>\n",
       "      <td>NaN</td>\n",
       "      <td>0.0</td>\n",
       "    </tr>\n",
       "    <tr>\n",
       "      <th>1</th>\n",
       "      <td>25.0</td>\n",
       "      <td>0.000000</td>\n",
       "      <td>0.000000</td>\n",
       "      <td>8.5</td>\n",
       "      <td>6.1</td>\n",
       "      <td>3.4</td>\n",
       "      <td>0.0</td>\n",
       "      <td>0.0</td>\n",
       "      <td>0.0</td>\n",
       "      <td>0.0</td>\n",
       "      <td>...</td>\n",
       "      <td>0.0</td>\n",
       "      <td>0.0</td>\n",
       "      <td>0.0</td>\n",
       "      <td>0.0</td>\n",
       "      <td>0.0</td>\n",
       "      <td>0.0</td>\n",
       "      <td>0.0</td>\n",
       "      <td>0.0</td>\n",
       "      <td>NaN</td>\n",
       "      <td>0.0</td>\n",
       "    </tr>\n",
       "    <tr>\n",
       "      <th>2</th>\n",
       "      <td>29.0</td>\n",
       "      <td>0.400000</td>\n",
       "      <td>0.716667</td>\n",
       "      <td>8.5</td>\n",
       "      <td>6.1</td>\n",
       "      <td>3.4</td>\n",
       "      <td>0.0</td>\n",
       "      <td>240.0</td>\n",
       "      <td>0.0</td>\n",
       "      <td>0.0</td>\n",
       "      <td>...</td>\n",
       "      <td>0.0</td>\n",
       "      <td>0.0</td>\n",
       "      <td>0.0</td>\n",
       "      <td>0.0</td>\n",
       "      <td>0.0</td>\n",
       "      <td>0.0</td>\n",
       "      <td>0.0</td>\n",
       "      <td>0.0</td>\n",
       "      <td>NaN</td>\n",
       "      <td>0.0</td>\n",
       "    </tr>\n",
       "    <tr>\n",
       "      <th>3</th>\n",
       "      <td>30.0</td>\n",
       "      <td>1.116667</td>\n",
       "      <td>-0.150000</td>\n",
       "      <td>8.5</td>\n",
       "      <td>6.1</td>\n",
       "      <td>3.4</td>\n",
       "      <td>0.0</td>\n",
       "      <td>60.0</td>\n",
       "      <td>0.0</td>\n",
       "      <td>0.0</td>\n",
       "      <td>...</td>\n",
       "      <td>0.0</td>\n",
       "      <td>0.0</td>\n",
       "      <td>0.0</td>\n",
       "      <td>0.0</td>\n",
       "      <td>0.0</td>\n",
       "      <td>0.0</td>\n",
       "      <td>0.0</td>\n",
       "      <td>0.0</td>\n",
       "      <td>NaN</td>\n",
       "      <td>0.0</td>\n",
       "    </tr>\n",
       "    <tr>\n",
       "      <th>4</th>\n",
       "      <td>35.0</td>\n",
       "      <td>0.966667</td>\n",
       "      <td>-1.133333</td>\n",
       "      <td>8.5</td>\n",
       "      <td>6.1</td>\n",
       "      <td>3.4</td>\n",
       "      <td>0.0</td>\n",
       "      <td>300.0</td>\n",
       "      <td>0.0</td>\n",
       "      <td>0.0</td>\n",
       "      <td>...</td>\n",
       "      <td>0.0</td>\n",
       "      <td>0.0</td>\n",
       "      <td>0.0</td>\n",
       "      <td>0.0</td>\n",
       "      <td>0.0</td>\n",
       "      <td>0.0</td>\n",
       "      <td>0.0</td>\n",
       "      <td>0.0</td>\n",
       "      <td>NaN</td>\n",
       "      <td>0.0</td>\n",
       "    </tr>\n",
       "  </tbody>\n",
       "</table>\n",
       "<p>5 rows × 23 columns</p>\n",
       "</div>"
      ]
     },
     "execution_count": 29,
     "metadata": {},
     "output_type": "execute_result"
    }
   ],
   "execution_count": 29
  },
  {
   "metadata": {
    "ExecuteTime": {
     "end_time": "2024-11-06T12:44:31.403674Z",
     "start_time": "2024-11-06T12:43:56.687070Z"
    }
   },
   "cell_type": "code",
   "source": "raw_data.to_csv(data_root+'preprocessed_data.csv', index=False)\n",
   "id": "d74af63a1024cca6",
   "outputs": [],
   "execution_count": 14
  },
  {
   "metadata": {
    "ExecuteTime": {
     "end_time": "2024-11-06T09:47:02.112772Z",
     "start_time": "2024-11-06T09:47:02.105773Z"
    }
   },
   "cell_type": "code",
   "source": "",
   "id": "d864ed982883b86",
   "outputs": [],
   "execution_count": 30
  },
  {
   "metadata": {},
   "cell_type": "markdown",
   "source": [
    "# input és output \n",
    "\n",
    "A modellek tanításához elég innentől futtatni."
   ],
   "id": "45023a9a3cc9648c"
  },
  {
   "metadata": {
    "ExecuteTime": {
     "end_time": "2024-11-07T06:29:21.996999Z",
     "start_time": "2024-11-07T06:29:18.029146Z"
    }
   },
   "cell_type": "code",
   "source": [
    "import pandas as pd\n",
    "data_root = \"data/\"\n",
    "\n",
    "\n",
    "\n",
    "raw_data=pd.read_csv(data_root+'preprocessed_data.csv')\n",
    "#raw_data['VONAL STATUSZ VALTOZOTT']=raw_data['VONAL STATUSZ VALTOZOTT'].head().astype(float)\n",
    "\n",
    "raw_data.head()\n",
    "\n"
   ],
   "id": "9a0c45d2539bcaef",
   "outputs": [
    {
     "data": {
      "text/plain": [
       "   MENETREND_IDO  ELOZO_KESES     KESES   tx    t   tn    r  TERV_IDOTARTAM  \\\n",
       "0           25.0     0.000000  0.000000  8.5  6.1  3.4  0.0             0.0   \n",
       "1           25.0     0.000000  0.000000  8.5  6.1  3.4  0.0             0.0   \n",
       "2           29.0     0.400000  0.716667  8.5  6.1  3.4  0.0           240.0   \n",
       "3           30.0     1.116667 -0.150000  8.5  6.1  3.4  0.0            60.0   \n",
       "4           35.0     0.966667 -1.133333  8.5  6.1  3.4  0.0           300.0   \n",
       "\n",
       "   Érintett objektum típusa  Lassúmenet típusa  ...  Fels.vez. kikapcsolása  \\\n",
       "0                       0.0                0.0  ...                     0.0   \n",
       "1                       0.0                0.0  ...                     0.0   \n",
       "2                       0.0                0.0  ...                     0.0   \n",
       "3                       0.0                0.0  ...                     0.0   \n",
       "4                       0.0                0.0  ...                     0.0   \n",
       "\n",
       "     I    E   ÁI   ÁE  Kizárás (1=VZ,2=LJ)  \\\n",
       "0  0.0  0.0  0.0  0.0                  0.0   \n",
       "1  0.0  0.0  0.0  0.0                  0.0   \n",
       "2  0.0  0.0  0.0  0.0                  0.0   \n",
       "3  0.0  0.0  0.0  0.0                  0.0   \n",
       "4  0.0  0.0  0.0  0.0                  0.0   \n",
       "\n",
       "   Kiutalt menetvonalak zavartatása nélkül  Státus  ELOZO VONAT KESES  \\\n",
       "0                                      0.0     0.0                0.0   \n",
       "1                                      0.0     0.0                0.0   \n",
       "2                                      0.0     0.0                0.0   \n",
       "3                                      0.0     0.0                0.0   \n",
       "4                                      0.0     0.0                0.0   \n",
       "\n",
       "   VONAL STATUSZ VALTOZOTT  \n",
       "0                      0.0  \n",
       "1                      0.0  \n",
       "2                      0.0  \n",
       "3                      0.0  \n",
       "4                      0.0  \n",
       "\n",
       "[5 rows x 23 columns]"
      ],
      "text/html": [
       "<div>\n",
       "<style scoped>\n",
       "    .dataframe tbody tr th:only-of-type {\n",
       "        vertical-align: middle;\n",
       "    }\n",
       "\n",
       "    .dataframe tbody tr th {\n",
       "        vertical-align: top;\n",
       "    }\n",
       "\n",
       "    .dataframe thead th {\n",
       "        text-align: right;\n",
       "    }\n",
       "</style>\n",
       "<table border=\"1\" class=\"dataframe\">\n",
       "  <thead>\n",
       "    <tr style=\"text-align: right;\">\n",
       "      <th></th>\n",
       "      <th>MENETREND_IDO</th>\n",
       "      <th>ELOZO_KESES</th>\n",
       "      <th>KESES</th>\n",
       "      <th>tx</th>\n",
       "      <th>t</th>\n",
       "      <th>tn</th>\n",
       "      <th>r</th>\n",
       "      <th>TERV_IDOTARTAM</th>\n",
       "      <th>Érintett objektum típusa</th>\n",
       "      <th>Lassúmenet típusa</th>\n",
       "      <th>...</th>\n",
       "      <th>Fels.vez. kikapcsolása</th>\n",
       "      <th>I</th>\n",
       "      <th>E</th>\n",
       "      <th>ÁI</th>\n",
       "      <th>ÁE</th>\n",
       "      <th>Kizárás (1=VZ,2=LJ)</th>\n",
       "      <th>Kiutalt menetvonalak zavartatása nélkül</th>\n",
       "      <th>Státus</th>\n",
       "      <th>ELOZO VONAT KESES</th>\n",
       "      <th>VONAL STATUSZ VALTOZOTT</th>\n",
       "    </tr>\n",
       "  </thead>\n",
       "  <tbody>\n",
       "    <tr>\n",
       "      <th>0</th>\n",
       "      <td>25.0</td>\n",
       "      <td>0.000000</td>\n",
       "      <td>0.000000</td>\n",
       "      <td>8.5</td>\n",
       "      <td>6.1</td>\n",
       "      <td>3.4</td>\n",
       "      <td>0.0</td>\n",
       "      <td>0.0</td>\n",
       "      <td>0.0</td>\n",
       "      <td>0.0</td>\n",
       "      <td>...</td>\n",
       "      <td>0.0</td>\n",
       "      <td>0.0</td>\n",
       "      <td>0.0</td>\n",
       "      <td>0.0</td>\n",
       "      <td>0.0</td>\n",
       "      <td>0.0</td>\n",
       "      <td>0.0</td>\n",
       "      <td>0.0</td>\n",
       "      <td>0.0</td>\n",
       "      <td>0.0</td>\n",
       "    </tr>\n",
       "    <tr>\n",
       "      <th>1</th>\n",
       "      <td>25.0</td>\n",
       "      <td>0.000000</td>\n",
       "      <td>0.000000</td>\n",
       "      <td>8.5</td>\n",
       "      <td>6.1</td>\n",
       "      <td>3.4</td>\n",
       "      <td>0.0</td>\n",
       "      <td>0.0</td>\n",
       "      <td>0.0</td>\n",
       "      <td>0.0</td>\n",
       "      <td>...</td>\n",
       "      <td>0.0</td>\n",
       "      <td>0.0</td>\n",
       "      <td>0.0</td>\n",
       "      <td>0.0</td>\n",
       "      <td>0.0</td>\n",
       "      <td>0.0</td>\n",
       "      <td>0.0</td>\n",
       "      <td>0.0</td>\n",
       "      <td>0.0</td>\n",
       "      <td>0.0</td>\n",
       "    </tr>\n",
       "    <tr>\n",
       "      <th>2</th>\n",
       "      <td>29.0</td>\n",
       "      <td>0.400000</td>\n",
       "      <td>0.716667</td>\n",
       "      <td>8.5</td>\n",
       "      <td>6.1</td>\n",
       "      <td>3.4</td>\n",
       "      <td>0.0</td>\n",
       "      <td>240.0</td>\n",
       "      <td>0.0</td>\n",
       "      <td>0.0</td>\n",
       "      <td>...</td>\n",
       "      <td>0.0</td>\n",
       "      <td>0.0</td>\n",
       "      <td>0.0</td>\n",
       "      <td>0.0</td>\n",
       "      <td>0.0</td>\n",
       "      <td>0.0</td>\n",
       "      <td>0.0</td>\n",
       "      <td>0.0</td>\n",
       "      <td>0.0</td>\n",
       "      <td>0.0</td>\n",
       "    </tr>\n",
       "    <tr>\n",
       "      <th>3</th>\n",
       "      <td>30.0</td>\n",
       "      <td>1.116667</td>\n",
       "      <td>-0.150000</td>\n",
       "      <td>8.5</td>\n",
       "      <td>6.1</td>\n",
       "      <td>3.4</td>\n",
       "      <td>0.0</td>\n",
       "      <td>60.0</td>\n",
       "      <td>0.0</td>\n",
       "      <td>0.0</td>\n",
       "      <td>...</td>\n",
       "      <td>0.0</td>\n",
       "      <td>0.0</td>\n",
       "      <td>0.0</td>\n",
       "      <td>0.0</td>\n",
       "      <td>0.0</td>\n",
       "      <td>0.0</td>\n",
       "      <td>0.0</td>\n",
       "      <td>0.0</td>\n",
       "      <td>0.0</td>\n",
       "      <td>0.0</td>\n",
       "    </tr>\n",
       "    <tr>\n",
       "      <th>4</th>\n",
       "      <td>35.0</td>\n",
       "      <td>0.966667</td>\n",
       "      <td>-1.133333</td>\n",
       "      <td>8.5</td>\n",
       "      <td>6.1</td>\n",
       "      <td>3.4</td>\n",
       "      <td>0.0</td>\n",
       "      <td>300.0</td>\n",
       "      <td>0.0</td>\n",
       "      <td>0.0</td>\n",
       "      <td>...</td>\n",
       "      <td>0.0</td>\n",
       "      <td>0.0</td>\n",
       "      <td>0.0</td>\n",
       "      <td>0.0</td>\n",
       "      <td>0.0</td>\n",
       "      <td>0.0</td>\n",
       "      <td>0.0</td>\n",
       "      <td>0.0</td>\n",
       "      <td>0.0</td>\n",
       "      <td>0.0</td>\n",
       "    </tr>\n",
       "  </tbody>\n",
       "</table>\n",
       "<p>5 rows × 23 columns</p>\n",
       "</div>"
      ]
     },
     "execution_count": 57,
     "metadata": {},
     "output_type": "execute_result"
    }
   ],
   "execution_count": 57
  },
  {
   "metadata": {
    "ExecuteTime": {
     "end_time": "2024-11-07T06:40:08.663633Z",
     "start_time": "2024-11-07T06:40:08.579754Z"
    }
   },
   "cell_type": "code",
   "source": [
    "from sklearn.preprocessing import MinMaxScaler\n",
    "from sklearn.model_selection import train_test_split\n",
    "def split_train_test(data, normalize=False):\n",
    "    raw_data=data.copy()\n",
    "    X_scaler=None\n",
    "    y_scaler=None\n",
    "    pd_y= raw_data[['KESES']]\n",
    "    pd_X = raw_data.drop(columns=['KESES'])\n",
    "    if normalize:\n",
    "        X_scaler = MinMaxScaler()\n",
    "        pd_X[pd_X.columns] = X_scaler.fit_transform(pd_X[pd_X.columns])\n",
    "        y_scaler=MinMaxScaler()\n",
    "        pd_y[pd_y.columns] = y_scaler.fit_transform(pd_y[pd_y.columns])\n",
    "   \n",
    "    '''\n",
    "    if normalize:\n",
    "        scaler = MinMaxScaler()\n",
    "        pd_X[pd_X.columns] = scaler.fit_transform(pd_X[pd_X.columns])\n",
    "    '''\n",
    "    X_train, X_test, y_train, y_test = train_test_split(pd_X, pd_y, test_size=0.3, random_state=44)\n",
    "    return X_train, X_test, y_train, y_test,X_scaler,y_scaler"
   ],
   "id": "bcd948e892f65c04",
   "outputs": [],
   "execution_count": 58
  },
  {
   "metadata": {
    "ExecuteTime": {
     "end_time": "2024-11-07T06:15:27.228534Z",
     "start_time": "2024-11-07T06:15:23.869569Z"
    }
   },
   "cell_type": "code",
   "source": "X_train, X_test, y_train, y_test,_,_ = split_train_test(raw_data)\n",
   "id": "a9badb95d39a214a",
   "outputs": [],
   "execution_count": 33
  },
  {
   "metadata": {
    "ExecuteTime": {
     "end_time": "2024-11-06T09:41:38.031652Z",
     "start_time": "2024-11-06T09:41:37.962674Z"
    }
   },
   "cell_type": "code",
   "source": "X_train.head()",
   "id": "15d36ab535475ef2",
   "outputs": [
    {
     "data": {
      "text/plain": [
       "         Unnamed: 0  MENETREND_IDO  ELOZO_KESES   tx    t        tn    r  \\\n",
       "1789775    0.043379       0.264767     0.106729  0.0  0.0  0.135802  0.0   \n",
       "191705     0.111758       0.808200     0.101173  0.0  0.0  0.135802  0.0   \n",
       "97247      0.056692       0.685198     0.105572  0.0  0.0  0.135802  0.0   \n",
       "1382130    0.805736       0.594163     0.103025  0.0  0.0  0.135802  0.0   \n",
       "863843     0.503592       0.430160     0.119694  0.0  0.0  0.135802  0.0   \n",
       "\n",
       "         TERV_IDOTARTAM  Érintett objektum típusa  Lassúmenet típusa  ...  \\\n",
       "1789775        0.018868                       0.0                0.0  ...   \n",
       "191705         0.018868                       0.0                0.0  ...   \n",
       "97247          0.037736                       0.0                0.0  ...   \n",
       "1382130        0.037736                       0.0                0.0  ...   \n",
       "863843         0.000000                       0.0                0.0  ...   \n",
       "\n",
       "         Fels.vez. kikapcsolása    I    E   ÁI   ÁE  Kizárás (1=VZ,2=LJ)  \\\n",
       "1789775                     0.0  0.0  0.0  0.0  0.0                  0.0   \n",
       "191705                      0.0  0.0  0.0  0.0  0.0                  0.0   \n",
       "97247                       0.0  0.0  0.0  0.0  0.0                  0.0   \n",
       "1382130                     0.0  0.0  0.0  0.0  0.0                  0.0   \n",
       "863843                      0.0  0.0  0.0  0.0  0.0                  0.0   \n",
       "\n",
       "         Kiutalt menetvonalak zavartatása nélkül  Státus  ELOZO VONAT KESES  \\\n",
       "1789775                                      0.0     0.0           0.287464   \n",
       "191705                                       0.0     0.0           0.290136   \n",
       "97247                                        0.0     0.0           0.292585   \n",
       "1382130                                      0.0     0.0           0.291806   \n",
       "863843                                       0.0     0.0           0.298152   \n",
       "\n",
       "         VONAL STATUSZ VALTOZOTT  \n",
       "1789775                      NaN  \n",
       "191705                       NaN  \n",
       "97247                        NaN  \n",
       "1382130                      NaN  \n",
       "863843                       NaN  \n",
       "\n",
       "[5 rows x 23 columns]"
      ],
      "text/html": [
       "<div>\n",
       "<style scoped>\n",
       "    .dataframe tbody tr th:only-of-type {\n",
       "        vertical-align: middle;\n",
       "    }\n",
       "\n",
       "    .dataframe tbody tr th {\n",
       "        vertical-align: top;\n",
       "    }\n",
       "\n",
       "    .dataframe thead th {\n",
       "        text-align: right;\n",
       "    }\n",
       "</style>\n",
       "<table border=\"1\" class=\"dataframe\">\n",
       "  <thead>\n",
       "    <tr style=\"text-align: right;\">\n",
       "      <th></th>\n",
       "      <th>Unnamed: 0</th>\n",
       "      <th>MENETREND_IDO</th>\n",
       "      <th>ELOZO_KESES</th>\n",
       "      <th>tx</th>\n",
       "      <th>t</th>\n",
       "      <th>tn</th>\n",
       "      <th>r</th>\n",
       "      <th>TERV_IDOTARTAM</th>\n",
       "      <th>Érintett objektum típusa</th>\n",
       "      <th>Lassúmenet típusa</th>\n",
       "      <th>...</th>\n",
       "      <th>Fels.vez. kikapcsolása</th>\n",
       "      <th>I</th>\n",
       "      <th>E</th>\n",
       "      <th>ÁI</th>\n",
       "      <th>ÁE</th>\n",
       "      <th>Kizárás (1=VZ,2=LJ)</th>\n",
       "      <th>Kiutalt menetvonalak zavartatása nélkül</th>\n",
       "      <th>Státus</th>\n",
       "      <th>ELOZO VONAT KESES</th>\n",
       "      <th>VONAL STATUSZ VALTOZOTT</th>\n",
       "    </tr>\n",
       "  </thead>\n",
       "  <tbody>\n",
       "    <tr>\n",
       "      <th>1789775</th>\n",
       "      <td>0.043379</td>\n",
       "      <td>0.264767</td>\n",
       "      <td>0.106729</td>\n",
       "      <td>0.0</td>\n",
       "      <td>0.0</td>\n",
       "      <td>0.135802</td>\n",
       "      <td>0.0</td>\n",
       "      <td>0.018868</td>\n",
       "      <td>0.0</td>\n",
       "      <td>0.0</td>\n",
       "      <td>...</td>\n",
       "      <td>0.0</td>\n",
       "      <td>0.0</td>\n",
       "      <td>0.0</td>\n",
       "      <td>0.0</td>\n",
       "      <td>0.0</td>\n",
       "      <td>0.0</td>\n",
       "      <td>0.0</td>\n",
       "      <td>0.0</td>\n",
       "      <td>0.287464</td>\n",
       "      <td>NaN</td>\n",
       "    </tr>\n",
       "    <tr>\n",
       "      <th>191705</th>\n",
       "      <td>0.111758</td>\n",
       "      <td>0.808200</td>\n",
       "      <td>0.101173</td>\n",
       "      <td>0.0</td>\n",
       "      <td>0.0</td>\n",
       "      <td>0.135802</td>\n",
       "      <td>0.0</td>\n",
       "      <td>0.018868</td>\n",
       "      <td>0.0</td>\n",
       "      <td>0.0</td>\n",
       "      <td>...</td>\n",
       "      <td>0.0</td>\n",
       "      <td>0.0</td>\n",
       "      <td>0.0</td>\n",
       "      <td>0.0</td>\n",
       "      <td>0.0</td>\n",
       "      <td>0.0</td>\n",
       "      <td>0.0</td>\n",
       "      <td>0.0</td>\n",
       "      <td>0.290136</td>\n",
       "      <td>NaN</td>\n",
       "    </tr>\n",
       "    <tr>\n",
       "      <th>97247</th>\n",
       "      <td>0.056692</td>\n",
       "      <td>0.685198</td>\n",
       "      <td>0.105572</td>\n",
       "      <td>0.0</td>\n",
       "      <td>0.0</td>\n",
       "      <td>0.135802</td>\n",
       "      <td>0.0</td>\n",
       "      <td>0.037736</td>\n",
       "      <td>0.0</td>\n",
       "      <td>0.0</td>\n",
       "      <td>...</td>\n",
       "      <td>0.0</td>\n",
       "      <td>0.0</td>\n",
       "      <td>0.0</td>\n",
       "      <td>0.0</td>\n",
       "      <td>0.0</td>\n",
       "      <td>0.0</td>\n",
       "      <td>0.0</td>\n",
       "      <td>0.0</td>\n",
       "      <td>0.292585</td>\n",
       "      <td>NaN</td>\n",
       "    </tr>\n",
       "    <tr>\n",
       "      <th>1382130</th>\n",
       "      <td>0.805736</td>\n",
       "      <td>0.594163</td>\n",
       "      <td>0.103025</td>\n",
       "      <td>0.0</td>\n",
       "      <td>0.0</td>\n",
       "      <td>0.135802</td>\n",
       "      <td>0.0</td>\n",
       "      <td>0.037736</td>\n",
       "      <td>0.0</td>\n",
       "      <td>0.0</td>\n",
       "      <td>...</td>\n",
       "      <td>0.0</td>\n",
       "      <td>0.0</td>\n",
       "      <td>0.0</td>\n",
       "      <td>0.0</td>\n",
       "      <td>0.0</td>\n",
       "      <td>0.0</td>\n",
       "      <td>0.0</td>\n",
       "      <td>0.0</td>\n",
       "      <td>0.291806</td>\n",
       "      <td>NaN</td>\n",
       "    </tr>\n",
       "    <tr>\n",
       "      <th>863843</th>\n",
       "      <td>0.503592</td>\n",
       "      <td>0.430160</td>\n",
       "      <td>0.119694</td>\n",
       "      <td>0.0</td>\n",
       "      <td>0.0</td>\n",
       "      <td>0.135802</td>\n",
       "      <td>0.0</td>\n",
       "      <td>0.000000</td>\n",
       "      <td>0.0</td>\n",
       "      <td>0.0</td>\n",
       "      <td>...</td>\n",
       "      <td>0.0</td>\n",
       "      <td>0.0</td>\n",
       "      <td>0.0</td>\n",
       "      <td>0.0</td>\n",
       "      <td>0.0</td>\n",
       "      <td>0.0</td>\n",
       "      <td>0.0</td>\n",
       "      <td>0.0</td>\n",
       "      <td>0.298152</td>\n",
       "      <td>NaN</td>\n",
       "    </tr>\n",
       "  </tbody>\n",
       "</table>\n",
       "<p>5 rows × 23 columns</p>\n",
       "</div>"
      ]
     },
     "execution_count": 17,
     "metadata": {},
     "output_type": "execute_result"
    }
   ],
   "execution_count": 17
  },
  {
   "metadata": {
    "ExecuteTime": {
     "end_time": "2024-11-05T17:09:20.307197Z",
     "start_time": "2024-11-05T17:09:20.293364Z"
    }
   },
   "cell_type": "code",
   "source": [
    "import os\n",
    "model_location=\"model/\"\n",
    "# Check if the directory exists\n",
    "if not os.path.exists(model_location):\n",
    "    # Create the directory\n",
    "    os.makedirs(model_location)"
   ],
   "id": "96a6b7cce2d64619",
   "outputs": [],
   "execution_count": 5
  },
  {
   "metadata": {},
   "cell_type": "markdown",
   "source": "# DecisionTreeRegressor",
   "id": "ec733712d9884c16"
  },
  {
   "metadata": {
    "ExecuteTime": {
     "end_time": "2024-11-07T06:47:36.403316Z",
     "start_time": "2024-11-07T06:47:28.111440Z"
    }
   },
   "cell_type": "code",
   "source": [
    "from sklearn.tree import DecisionTreeRegressor\n",
    "def train_DRT(X_train, y_train):\n",
    "    model = DecisionTreeRegressor(random_state=44)\n",
    "    model.fit(X_train, y_train)\n",
    "    predictions = model.predict(X_test)\n",
    "    return model, predictions\n",
    "model, predictions = train_DRT(X_train, y_train)"
   ],
   "id": "d4fb6d174ce980dc",
   "outputs": [],
   "execution_count": 69
  },
  {
   "metadata": {},
   "cell_type": "code",
   "source": [
    "'''\n",
    "from sklearn.tree import plot_tree\n",
    "import matplotlib.pyplot as plt\n",
    "plt.figure(figsize=(10,8), dpi=150)\n",
    "plot_tree(model, feature_names=pd_X.columns);\n",
    "'''"
   ],
   "id": "6d398bb424311174",
   "outputs": [],
   "execution_count": null
  },
  {
   "metadata": {},
   "cell_type": "code",
   "source": "type(X_test)",
   "id": "68449f91c2e4a7d",
   "outputs": [],
   "execution_count": null
  },
  {
   "metadata": {},
   "cell_type": "code",
   "source": "X_train.shape[0]",
   "id": "46e88ac0cc1afab2",
   "outputs": [],
   "execution_count": null
  },
  {
   "metadata": {},
   "cell_type": "code",
   "source": "X_test.shape[0]",
   "id": "63333f23182f8873",
   "outputs": [],
   "execution_count": null
  },
  {
   "metadata": {},
   "cell_type": "code",
   "source": "",
   "id": "cbecd608730c05a2",
   "outputs": [],
   "execution_count": null
  },
  {
   "metadata": {
    "ExecuteTime": {
     "end_time": "2024-11-07T07:51:27.895393Z",
     "start_time": "2024-11-07T07:51:27.823511Z"
    }
   },
   "cell_type": "code",
   "source": [
    "def evaluate_model(X_test, y_test, predictions):\n",
    "    eval_df=pd.concat([X_test[['TERV_IDOTARTAM']],y_test],axis=1)\n",
    "    eval_df['predictions']=predictions\n",
    "    eval_df['Tény']=eval_df['TERV_IDOTARTAM']+eval_df['KESES']\n",
    "    eval_df['Pred']=eval_df['TERV_IDOTARTAM']+eval_df['predictions']\n",
    "    eval_df=eval_df[eval_df['TERV_IDOTARTAM']>0]\n",
    "    eval_df['PE']=(eval_df['Tény']-eval_df['Pred'])/eval_df['Tény'] *100\n",
    "    eval_df['MAPE']=abs((eval_df['Tény']-eval_df['Pred'])/eval_df['Tény']) *100\n",
    "    eval_df['PE1']=(eval_df['KESES']-eval_df['predictions'])/eval_df['KESES'] *100\n",
    "    eval_df['MAPE1']=abs((eval_df['KESES']-eval_df['predictions'])/eval_df['KESES']) *100\n",
    "\n",
    "    return eval_df"
   ],
   "id": "3dcae1bf2dc4c0e2",
   "outputs": [],
   "execution_count": 85
  },
  {
   "metadata": {},
   "cell_type": "code",
   "outputs": [],
   "execution_count": null,
   "source": "eval_df = evaluate_model(X_test, y_test, predictions)\n",
   "id": "6f7a8392dbdee8b3"
  },
  {
   "metadata": {},
   "cell_type": "code",
   "source": "eval_df.head()",
   "id": "dd6ab997abc855d7",
   "outputs": [],
   "execution_count": null
  },
  {
   "metadata": {},
   "cell_type": "code",
   "source": "eval_df.tail()",
   "id": "cb50bad6f7ed1e21",
   "outputs": [],
   "execution_count": null
  },
  {
   "metadata": {},
   "cell_type": "code",
   "source": "eval_df['PE'].describe()",
   "id": "ebae1d416f0a1080",
   "outputs": [],
   "execution_count": null
  },
  {
   "metadata": {},
   "cell_type": "code",
   "source": "eval_df['PE1'].describe()",
   "id": "55cb4e76dcd5028c",
   "outputs": [],
   "execution_count": null
  },
  {
   "metadata": {},
   "cell_type": "markdown",
   "source": "# Egyszerű neurális háló",
   "id": "f65d13c42935daf1"
  },
  {
   "metadata": {},
   "cell_type": "code",
   "source": "X_train.dtypes\n",
   "id": "a503acb92abc09dc",
   "outputs": [],
   "execution_count": null
  },
  {
   "metadata": {},
   "cell_type": "markdown",
   "source": [
    "plusz normalizálás kellhet:\n",
    "normalized_df=(df-df.mean())/df.std()\n",
    "to use min-max normalization:\n",
    "\n",
    "normalized_df=(df-df.min())/(df.max()-df.min())"
   ],
   "id": "687667008b024472"
  },
  {
   "metadata": {},
   "cell_type": "code",
   "outputs": [],
   "execution_count": null,
   "source": "",
   "id": "e0fe4eb29a9e4f32"
  },
  {
   "metadata": {
    "ExecuteTime": {
     "end_time": "2024-11-07T06:40:37.309500Z",
     "start_time": "2024-11-07T06:40:32.652944Z"
    }
   },
   "cell_type": "code",
   "source": [
    "#X=pd_X.values\n",
    "#y=pd_y.values\n",
    "import torch\n",
    "# train-test split of the dataset\n",
    "X_train, X_test, y_train, y_test,X_scaler,y_scaler = split_train_test(raw_data,True)\n",
    "def get_data_tensors(X_train, X_test, y_train, y_test):\n",
    "    X_train_t = torch.tensor(X_train.values, dtype=torch.float32)\n",
    "    y_train_t = torch.tensor(y_train.values, dtype=torch.float32).reshape(-1, 1)\n",
    "    X_test_t = torch.tensor(X_test.values, dtype=torch.float32)\n",
    "    y_test_t = torch.tensor(y_test.values, dtype=torch.float32).reshape(-1, 1)\n",
    "    return X_train_t, X_test_t, y_train_t, y_test_t\n",
    "X_train_t, X_test_t, y_train_t, y_test_t = get_data_tensors(X_train, X_test, y_train, y_test)\n"
   ],
   "id": "dacb2cd3597debc4",
   "outputs": [
    {
     "name": "stderr",
     "output_type": "stream",
     "text": [
      "C:\\Users\\ELTE\\AppData\\Local\\Temp\\ipykernel_6884\\2956716844.py:13: SettingWithCopyWarning: \n",
      "A value is trying to be set on a copy of a slice from a DataFrame.\n",
      "Try using .loc[row_indexer,col_indexer] = value instead\n",
      "\n",
      "See the caveats in the documentation: https://pandas.pydata.org/pandas-docs/stable/user_guide/indexing.html#returning-a-view-versus-a-copy\n",
      "  pd_y[pd_y.columns] = y_scaler.fit_transform(pd_y[pd_y.columns])\n"
     ]
    }
   ],
   "execution_count": 59
  },
  {
   "metadata": {
    "ExecuteTime": {
     "end_time": "2024-11-07T06:19:30.876779Z",
     "start_time": "2024-11-07T06:19:30.862106Z"
    }
   },
   "cell_type": "code",
   "source": "input_size=X_train.shape[1]",
   "id": "b0ceb88e7a2670fa",
   "outputs": [],
   "execution_count": 39
  },
  {
   "metadata": {
    "ExecuteTime": {
     "end_time": "2024-11-07T06:19:31.179395Z",
     "start_time": "2024-11-07T06:19:31.163986Z"
    }
   },
   "cell_type": "code",
   "source": [
    "import torch\n",
    "import torch.nn as nn\n",
    "# Define the model\n",
    "def get_NN_model(input_size):\n",
    "    model = nn.Sequential(\n",
    "        nn.Linear(input_size, 24),\n",
    "        nn.ReLU(),\n",
    "        nn.Linear(24, 12),\n",
    "        nn.ReLU(),\n",
    "        nn.Linear(12, 6),\n",
    "        nn.ReLU(),\n",
    "        nn.Linear(6, 1)\n",
    "    )\n",
    "    return model"
   ],
   "id": "9d98d329e9054def",
   "outputs": [],
   "execution_count": 40
  },
  {
   "metadata": {
    "ExecuteTime": {
     "end_time": "2024-11-07T06:19:32.436896Z",
     "start_time": "2024-11-07T06:19:32.401086Z"
    }
   },
   "cell_type": "code",
   "source": "model = get_NN_model(input_size)",
   "id": "6956ca8818e69d7",
   "outputs": [],
   "execution_count": 41
  },
  {
   "metadata": {
    "ExecuteTime": {
     "end_time": "2024-11-07T06:19:33.375418Z",
     "start_time": "2024-11-07T06:19:33.360350Z"
    }
   },
   "cell_type": "code",
   "source": [
    "import torch.nn as nn\n",
    "import torch.optim as optim\n",
    "\n",
    "# loss function and optimizer\n",
    "def get_optimizer(model, lr):\n",
    "    loss_fn = nn.MSELoss()  # mean square error\n",
    "    optimizer = optim.Adam(model.parameters(), lr=0.0001)\n",
    "    return optimizer, loss_fn"
   ],
   "id": "23344d190f485be",
   "outputs": [],
   "execution_count": 42
  },
  {
   "metadata": {
    "ExecuteTime": {
     "end_time": "2024-11-07T06:19:35.175867Z",
     "start_time": "2024-11-07T06:19:35.127749Z"
    }
   },
   "cell_type": "code",
   "source": "optimizer, loss_fn = get_optimizer(model, 0.0001)",
   "id": "6d070298f1e68d8f",
   "outputs": [],
   "execution_count": 43
  },
  {
   "metadata": {
    "ExecuteTime": {
     "end_time": "2024-11-07T06:19:38.529712Z",
     "start_time": "2024-11-07T06:19:38.460337Z"
    }
   },
   "cell_type": "code",
   "source": "X_train.shape",
   "id": "8b8f7aefb5a8e9ba",
   "outputs": [
    {
     "data": {
      "text/plain": [
       "torch.Size([1350058, 22])"
      ]
     },
     "execution_count": 44,
     "metadata": {},
     "output_type": "execute_result"
    }
   ],
   "execution_count": 44
  },
  {
   "metadata": {
    "ExecuteTime": {
     "end_time": "2024-11-06T10:23:43.672739Z",
     "start_time": "2024-11-06T10:23:43.606020Z"
    }
   },
   "cell_type": "code",
   "source": [
    "X_test_red=X_test[:1000,:]\n",
    "y_test_red=y_test[:1000,:].reshape(-1,1)"
   ],
   "id": "2b65e69d48804fe0",
   "outputs": [],
   "execution_count": 48
  },
  {
   "metadata": {
    "ExecuteTime": {
     "end_time": "2024-11-07T06:19:46.203765Z",
     "start_time": "2024-11-07T06:19:46.176165Z"
    }
   },
   "cell_type": "code",
   "source": [
    "import numpy as np\n",
    "import torch\n",
    "import tqdm\n",
    "import copy\n",
    "from sklearn.model_selection import train_test_split\n",
    "\n",
    "'''\n",
    "# train-test split of the dataset\n",
    "X_train, X_test, y_train, y_test = train_test_split(X, y, train_size=0.7, shuffle=True)\n",
    "X_train = torch.tensor(X_train, dtype=torch.float32)\n",
    "y_train = torch.tensor(y_train, dtype=torch.float32).reshape(-1, 1)\n",
    "X_test = torch.tensor(X_test, dtype=torch.float32)\n",
    "y_test = torch.tensor(y_test, dtype=torch.float32).reshape(-1, 1)\n",
    "'''\n",
    "def train_NN(X_train, X_test, y_train, y_test, model, loss_fn, optimizer):\n",
    "    # training parameters\n",
    "    n_epochs = 3   # number of epochs to run\n",
    "    batch_size = 10  # size of each batch\n",
    "    batch_start = torch.arange(0, len(X_train), batch_size)\n",
    "     \n",
    "    # Hold the best model\n",
    "    best_mse = np.inf   # init to infinity\n",
    "    best_weights = None\n",
    "    history = []\n",
    "     \n",
    "    # training loop\n",
    "    for epoch in range(n_epochs):\n",
    "        model.train()\n",
    "        with tqdm.tqdm(batch_start, unit=\"batch\", mininterval=0, disable=True) as bar:\n",
    "            bar.set_description(f\"Epoch {epoch}\")\n",
    "            for start in bar:\n",
    "                # take a batch\n",
    "                X_batch = X_train[start:start+batch_size]\n",
    "                y_batch = y_train[start:start+batch_size]\n",
    "                # forward pass\n",
    "                y_pred = model(X_batch)\n",
    "                loss = loss_fn(y_pred, y_batch)\n",
    "                # backward pass\n",
    "                optimizer.zero_grad()\n",
    "                loss.backward()\n",
    "                # update weights\n",
    "                optimizer.step()\n",
    "                # print progress\n",
    "                bar.set_postfix(mse=float(loss))\n",
    "        # evaluate accuracy at end of each epoch\n",
    "        model.eval()\n",
    "        y_pred = model(X_test)\n",
    "        mse = loss_fn(y_pred, y_test)\n",
    "        mse = float(mse)\n",
    "        print(\"Epoch:\",epoch,'MSE:', mse, 'Best mse',best_mse)\n",
    "        history.append(mse)\n",
    "        if mse < best_mse:\n",
    "            best_mse = mse\n",
    "            best_weights = copy.deepcopy(model.state_dict())\n",
    "     \n",
    "    # restore model and return best accuracy\n",
    "    model.load_state_dict(best_weights)\n",
    "    return history, best_mse, best_weights, model"
   ],
   "id": "6d02f6dc46faef7e",
   "outputs": [],
   "execution_count": 45
  },
  {
   "metadata": {
    "ExecuteTime": {
     "end_time": "2024-11-07T06:25:27.391377Z",
     "start_time": "2024-11-07T06:19:49.528543Z"
    }
   },
   "cell_type": "code",
   "source": "history, best_mse, best_weights, model=train_NN(X_train_t, X_test_t, y_train_t, y_test_t, model, loss_fn, optimizer)",
   "id": "7520380378b0129",
   "outputs": [
    {
     "name": "stdout",
     "output_type": "stream",
     "text": [
      "Epoch: 0 MSE: 2.037721424130723e-05 Best mse inf\n",
      "Epoch: 1 MSE: 1.912105653900653e-05 Best mse 2.037721424130723e-05\n",
      "Epoch: 2 MSE: 1.8541632016422227e-05 Best mse 1.912105653900653e-05\n"
     ]
    }
   ],
   "execution_count": 46
  },
  {
   "metadata": {
    "ExecuteTime": {
     "end_time": "2024-11-06T13:01:30.058644Z",
     "start_time": "2024-11-06T13:01:29.886406Z"
    }
   },
   "cell_type": "code",
   "source": "history",
   "id": "dc1e92cd9456f94",
   "outputs": [
    {
     "data": {
      "text/plain": [
       "[1.8970589735545218e-05, 1.847240491770208e-05, 1.8313123291591182e-05]"
      ]
     },
     "execution_count": 25,
     "metadata": {},
     "output_type": "execute_result"
    }
   ],
   "execution_count": 25
  },
  {
   "metadata": {
    "ExecuteTime": {
     "end_time": "2024-11-07T06:25:42.549071Z",
     "start_time": "2024-11-07T06:25:42.298448Z"
    }
   },
   "cell_type": "code",
   "source": [
    "\n",
    "import matplotlib.pyplot as plt\n",
    "print(\"MSE: %.2f\" % best_mse)\n",
    "print(\"RMSE: %.2f\" % np.sqrt(best_mse))\n",
    "plt.plot(history)\n",
    "plt.show()"
   ],
   "id": "1eb071eb8f0de6d1",
   "outputs": [
    {
     "name": "stdout",
     "output_type": "stream",
     "text": [
      "MSE: 0.00\n",
      "RMSE: 0.00\n"
     ]
    },
    {
     "data": {
      "text/plain": [
       "<Figure size 640x480 with 1 Axes>"
      ],
      "image/png": "[encoded data removed]"
     },
     "metadata": {},
     "output_type": "display_data"
    }
   ],
   "execution_count": 47
  },
  {
   "metadata": {
    "ExecuteTime": {
     "end_time": "2024-11-07T06:26:47.913160Z",
     "start_time": "2024-11-07T06:26:46.520803Z"
    }
   },
   "cell_type": "code",
   "source": "y_pred = model(X_test)",
   "id": "50b96a2a2ad578cb",
   "outputs": [
    {
     "ename": "TypeError",
     "evalue": "linear(): argument 'input' (position 1) must be Tensor, not numpy.ndarray",
     "output_type": "error",
     "traceback": [
      "\u001B[1;31m---------------------------------------------------------------------------\u001B[0m",
      "\u001B[1;31mTypeError\u001B[0m                                 Traceback (most recent call last)",
      "Cell \u001B[1;32mIn[51], line 1\u001B[0m\n\u001B[1;32m----> 1\u001B[0m y_pred \u001B[38;5;241m=\u001B[39m model(X_test)\u001B[38;5;241m.\u001B[39mdetach()\u001B[38;5;241m.\u001B[39mnumpy()\n",
      "File \u001B[1;32m~\\miniconda3\\envs\\gtfs_env_311\\Lib\\site-packages\\torch\\nn\\modules\\module.py:1736\u001B[0m, in \u001B[0;36mModule._wrapped_call_impl\u001B[1;34m(self, *args, **kwargs)\u001B[0m\n\u001B[0;32m   1734\u001B[0m     \u001B[38;5;28;01mreturn\u001B[39;00m \u001B[38;5;28mself\u001B[39m\u001B[38;5;241m.\u001B[39m_compiled_call_impl(\u001B[38;5;241m*\u001B[39margs, \u001B[38;5;241m*\u001B[39m\u001B[38;5;241m*\u001B[39mkwargs)  \u001B[38;5;66;03m# type: ignore[misc]\u001B[39;00m\n\u001B[0;32m   1735\u001B[0m \u001B[38;5;28;01melse\u001B[39;00m:\n\u001B[1;32m-> 1736\u001B[0m     \u001B[38;5;28;01mreturn\u001B[39;00m \u001B[38;5;28mself\u001B[39m\u001B[38;5;241m.\u001B[39m_call_impl(\u001B[38;5;241m*\u001B[39margs, \u001B[38;5;241m*\u001B[39m\u001B[38;5;241m*\u001B[39mkwargs)\n",
      "File \u001B[1;32m~\\miniconda3\\envs\\gtfs_env_311\\Lib\\site-packages\\torch\\nn\\modules\\module.py:1747\u001B[0m, in \u001B[0;36mModule._call_impl\u001B[1;34m(self, *args, **kwargs)\u001B[0m\n\u001B[0;32m   1742\u001B[0m \u001B[38;5;66;03m# If we don't have any hooks, we want to skip the rest of the logic in\u001B[39;00m\n\u001B[0;32m   1743\u001B[0m \u001B[38;5;66;03m# this function, and just call forward.\u001B[39;00m\n\u001B[0;32m   1744\u001B[0m \u001B[38;5;28;01mif\u001B[39;00m \u001B[38;5;129;01mnot\u001B[39;00m (\u001B[38;5;28mself\u001B[39m\u001B[38;5;241m.\u001B[39m_backward_hooks \u001B[38;5;129;01mor\u001B[39;00m \u001B[38;5;28mself\u001B[39m\u001B[38;5;241m.\u001B[39m_backward_pre_hooks \u001B[38;5;129;01mor\u001B[39;00m \u001B[38;5;28mself\u001B[39m\u001B[38;5;241m.\u001B[39m_forward_hooks \u001B[38;5;129;01mor\u001B[39;00m \u001B[38;5;28mself\u001B[39m\u001B[38;5;241m.\u001B[39m_forward_pre_hooks\n\u001B[0;32m   1745\u001B[0m         \u001B[38;5;129;01mor\u001B[39;00m _global_backward_pre_hooks \u001B[38;5;129;01mor\u001B[39;00m _global_backward_hooks\n\u001B[0;32m   1746\u001B[0m         \u001B[38;5;129;01mor\u001B[39;00m _global_forward_hooks \u001B[38;5;129;01mor\u001B[39;00m _global_forward_pre_hooks):\n\u001B[1;32m-> 1747\u001B[0m     \u001B[38;5;28;01mreturn\u001B[39;00m forward_call(\u001B[38;5;241m*\u001B[39margs, \u001B[38;5;241m*\u001B[39m\u001B[38;5;241m*\u001B[39mkwargs)\n\u001B[0;32m   1749\u001B[0m result \u001B[38;5;241m=\u001B[39m \u001B[38;5;28;01mNone\u001B[39;00m\n\u001B[0;32m   1750\u001B[0m called_always_called_hooks \u001B[38;5;241m=\u001B[39m \u001B[38;5;28mset\u001B[39m()\n",
      "File \u001B[1;32m~\\miniconda3\\envs\\gtfs_env_311\\Lib\\site-packages\\torch\\nn\\modules\\container.py:250\u001B[0m, in \u001B[0;36mSequential.forward\u001B[1;34m(self, input)\u001B[0m\n\u001B[0;32m    248\u001B[0m \u001B[38;5;28;01mdef\u001B[39;00m \u001B[38;5;21mforward\u001B[39m(\u001B[38;5;28mself\u001B[39m, \u001B[38;5;28minput\u001B[39m):\n\u001B[0;32m    249\u001B[0m     \u001B[38;5;28;01mfor\u001B[39;00m module \u001B[38;5;129;01min\u001B[39;00m \u001B[38;5;28mself\u001B[39m:\n\u001B[1;32m--> 250\u001B[0m         \u001B[38;5;28minput\u001B[39m \u001B[38;5;241m=\u001B[39m module(\u001B[38;5;28minput\u001B[39m)\n\u001B[0;32m    251\u001B[0m     \u001B[38;5;28;01mreturn\u001B[39;00m \u001B[38;5;28minput\u001B[39m\n",
      "File \u001B[1;32m~\\miniconda3\\envs\\gtfs_env_311\\Lib\\site-packages\\torch\\nn\\modules\\module.py:1736\u001B[0m, in \u001B[0;36mModule._wrapped_call_impl\u001B[1;34m(self, *args, **kwargs)\u001B[0m\n\u001B[0;32m   1734\u001B[0m     \u001B[38;5;28;01mreturn\u001B[39;00m \u001B[38;5;28mself\u001B[39m\u001B[38;5;241m.\u001B[39m_compiled_call_impl(\u001B[38;5;241m*\u001B[39margs, \u001B[38;5;241m*\u001B[39m\u001B[38;5;241m*\u001B[39mkwargs)  \u001B[38;5;66;03m# type: ignore[misc]\u001B[39;00m\n\u001B[0;32m   1735\u001B[0m \u001B[38;5;28;01melse\u001B[39;00m:\n\u001B[1;32m-> 1736\u001B[0m     \u001B[38;5;28;01mreturn\u001B[39;00m \u001B[38;5;28mself\u001B[39m\u001B[38;5;241m.\u001B[39m_call_impl(\u001B[38;5;241m*\u001B[39margs, \u001B[38;5;241m*\u001B[39m\u001B[38;5;241m*\u001B[39mkwargs)\n",
      "File \u001B[1;32m~\\miniconda3\\envs\\gtfs_env_311\\Lib\\site-packages\\torch\\nn\\modules\\module.py:1747\u001B[0m, in \u001B[0;36mModule._call_impl\u001B[1;34m(self, *args, **kwargs)\u001B[0m\n\u001B[0;32m   1742\u001B[0m \u001B[38;5;66;03m# If we don't have any hooks, we want to skip the rest of the logic in\u001B[39;00m\n\u001B[0;32m   1743\u001B[0m \u001B[38;5;66;03m# this function, and just call forward.\u001B[39;00m\n\u001B[0;32m   1744\u001B[0m \u001B[38;5;28;01mif\u001B[39;00m \u001B[38;5;129;01mnot\u001B[39;00m (\u001B[38;5;28mself\u001B[39m\u001B[38;5;241m.\u001B[39m_backward_hooks \u001B[38;5;129;01mor\u001B[39;00m \u001B[38;5;28mself\u001B[39m\u001B[38;5;241m.\u001B[39m_backward_pre_hooks \u001B[38;5;129;01mor\u001B[39;00m \u001B[38;5;28mself\u001B[39m\u001B[38;5;241m.\u001B[39m_forward_hooks \u001B[38;5;129;01mor\u001B[39;00m \u001B[38;5;28mself\u001B[39m\u001B[38;5;241m.\u001B[39m_forward_pre_hooks\n\u001B[0;32m   1745\u001B[0m         \u001B[38;5;129;01mor\u001B[39;00m _global_backward_pre_hooks \u001B[38;5;129;01mor\u001B[39;00m _global_backward_hooks\n\u001B[0;32m   1746\u001B[0m         \u001B[38;5;129;01mor\u001B[39;00m _global_forward_hooks \u001B[38;5;129;01mor\u001B[39;00m _global_forward_pre_hooks):\n\u001B[1;32m-> 1747\u001B[0m     \u001B[38;5;28;01mreturn\u001B[39;00m forward_call(\u001B[38;5;241m*\u001B[39margs, \u001B[38;5;241m*\u001B[39m\u001B[38;5;241m*\u001B[39mkwargs)\n\u001B[0;32m   1749\u001B[0m result \u001B[38;5;241m=\u001B[39m \u001B[38;5;28;01mNone\u001B[39;00m\n\u001B[0;32m   1750\u001B[0m called_always_called_hooks \u001B[38;5;241m=\u001B[39m \u001B[38;5;28mset\u001B[39m()\n",
      "File \u001B[1;32m~\\miniconda3\\envs\\gtfs_env_311\\Lib\\site-packages\\torch\\nn\\modules\\linear.py:125\u001B[0m, in \u001B[0;36mLinear.forward\u001B[1;34m(self, input)\u001B[0m\n\u001B[0;32m    124\u001B[0m \u001B[38;5;28;01mdef\u001B[39;00m \u001B[38;5;21mforward\u001B[39m(\u001B[38;5;28mself\u001B[39m, \u001B[38;5;28minput\u001B[39m: Tensor) \u001B[38;5;241m-\u001B[39m\u001B[38;5;241m>\u001B[39m Tensor:\n\u001B[1;32m--> 125\u001B[0m     \u001B[38;5;28;01mreturn\u001B[39;00m F\u001B[38;5;241m.\u001B[39mlinear(\u001B[38;5;28minput\u001B[39m, \u001B[38;5;28mself\u001B[39m\u001B[38;5;241m.\u001B[39mweight, \u001B[38;5;28mself\u001B[39m\u001B[38;5;241m.\u001B[39mbias)\n",
      "\u001B[1;31mTypeError\u001B[0m: linear(): argument 'input' (position 1) must be Tensor, not numpy.ndarray"
     ]
    }
   ],
   "execution_count": 51
  },
  {
   "metadata": {
    "ExecuteTime": {
     "end_time": "2024-11-07T06:27:57.157289Z",
     "start_time": "2024-11-07T06:27:57.129814Z"
    }
   },
   "cell_type": "code",
   "source": "y_pred=y_pred.detach().numpy()",
   "id": "ddbc74b791069177",
   "outputs": [],
   "execution_count": 54
  },
  {
   "metadata": {
    "ExecuteTime": {
     "end_time": "2024-11-07T06:41:04.627187Z",
     "start_time": "2024-11-07T06:41:04.217730Z"
    }
   },
   "cell_type": "code",
   "source": [
    "#TODO kell ez? \n",
    "\n",
    "X_test[X_test.columns]=X_scaler.inverse_transform(X_test_t)\n",
    "y_test[y_test.columns] =y_scaler.inverse_transform(y_test_t)"
   ],
   "id": "942c365317268781",
   "outputs": [],
   "execution_count": 60
  },
  {
   "metadata": {
    "ExecuteTime": {
     "end_time": "2024-11-07T06:41:09.418593Z",
     "start_time": "2024-11-07T06:41:09.384534Z"
    }
   },
   "cell_type": "code",
   "source": "y_pred=y_scaler.inverse_transform(y_pred)\n",
   "id": "6fa088057a12c755",
   "outputs": [],
   "execution_count": 61
  },
  {
   "metadata": {
    "ExecuteTime": {
     "end_time": "2024-11-07T06:42:08.846888Z",
     "start_time": "2024-11-07T06:42:08.675283Z"
    }
   },
   "cell_type": "code",
   "source": "eval_df=evaluate_model(X_test, y_test, y_pred)",
   "id": "216a20b3641a6dbf",
   "outputs": [],
   "execution_count": 64
  },
  {
   "metadata": {
    "ExecuteTime": {
     "end_time": "2024-11-07T06:42:19.869908Z",
     "start_time": "2024-11-07T06:42:19.821707Z"
    }
   },
   "cell_type": "code",
   "source": "eval_df.head()",
   "id": "35efa0cf13df216c",
   "outputs": [
    {
     "data": {
      "text/plain": [
       "         TERV_IDOTARTAM     KESES  predictions        Tény       Pred  \\\n",
       "1224451       60.000001 -0.199998   -73.420074   59.800003 -13.420074   \n",
       "311804       120.000002 -0.266666   -82.894241  119.733336  37.105760   \n",
       "1245018       60.000001  0.316669   -83.221870   60.316670 -23.221870   \n",
       "1036497       60.000001 -0.483334   -76.356606   59.516667 -16.356605   \n",
       "792395       120.000002 -0.400002   -93.650978  119.600000  26.349024   \n",
       "\n",
       "                 PE           PE1  \n",
       "1224451  122.441594 -36610.393346  \n",
       "311804    69.009666 -30985.409750  \n",
       "1245018  138.499920  26380.427008  \n",
       "1036497  127.482393 -15697.908125  \n",
       "792395    77.969044 -23312.621718  "
      ],
      "text/html": [
       "<div>\n",
       "<style scoped>\n",
       "    .dataframe tbody tr th:only-of-type {\n",
       "        vertical-align: middle;\n",
       "    }\n",
       "\n",
       "    .dataframe tbody tr th {\n",
       "        vertical-align: top;\n",
       "    }\n",
       "\n",
       "    .dataframe thead th {\n",
       "        text-align: right;\n",
       "    }\n",
       "</style>\n",
       "<table border=\"1\" class=\"dataframe\">\n",
       "  <thead>\n",
       "    <tr style=\"text-align: right;\">\n",
       "      <th></th>\n",
       "      <th>TERV_IDOTARTAM</th>\n",
       "      <th>KESES</th>\n",
       "      <th>predictions</th>\n",
       "      <th>Tény</th>\n",
       "      <th>Pred</th>\n",
       "      <th>PE</th>\n",
       "      <th>PE1</th>\n",
       "    </tr>\n",
       "  </thead>\n",
       "  <tbody>\n",
       "    <tr>\n",
       "      <th>1224451</th>\n",
       "      <td>60.000001</td>\n",
       "      <td>-0.199998</td>\n",
       "      <td>-73.420074</td>\n",
       "      <td>59.800003</td>\n",
       "      <td>-13.420074</td>\n",
       "      <td>122.441594</td>\n",
       "      <td>-36610.393346</td>\n",
       "    </tr>\n",
       "    <tr>\n",
       "      <th>311804</th>\n",
       "      <td>120.000002</td>\n",
       "      <td>-0.266666</td>\n",
       "      <td>-82.894241</td>\n",
       "      <td>119.733336</td>\n",
       "      <td>37.105760</td>\n",
       "      <td>69.009666</td>\n",
       "      <td>-30985.409750</td>\n",
       "    </tr>\n",
       "    <tr>\n",
       "      <th>1245018</th>\n",
       "      <td>60.000001</td>\n",
       "      <td>0.316669</td>\n",
       "      <td>-83.221870</td>\n",
       "      <td>60.316670</td>\n",
       "      <td>-23.221870</td>\n",
       "      <td>138.499920</td>\n",
       "      <td>26380.427008</td>\n",
       "    </tr>\n",
       "    <tr>\n",
       "      <th>1036497</th>\n",
       "      <td>60.000001</td>\n",
       "      <td>-0.483334</td>\n",
       "      <td>-76.356606</td>\n",
       "      <td>59.516667</td>\n",
       "      <td>-16.356605</td>\n",
       "      <td>127.482393</td>\n",
       "      <td>-15697.908125</td>\n",
       "    </tr>\n",
       "    <tr>\n",
       "      <th>792395</th>\n",
       "      <td>120.000002</td>\n",
       "      <td>-0.400002</td>\n",
       "      <td>-93.650978</td>\n",
       "      <td>119.600000</td>\n",
       "      <td>26.349024</td>\n",
       "      <td>77.969044</td>\n",
       "      <td>-23312.621718</td>\n",
       "    </tr>\n",
       "  </tbody>\n",
       "</table>\n",
       "</div>"
      ]
     },
     "execution_count": 65,
     "metadata": {},
     "output_type": "execute_result"
    }
   ],
   "execution_count": 65
  },
  {
   "metadata": {},
   "cell_type": "code",
   "source": "torch.save(model, 'model.pth')",
   "id": "88d5ede920ec6caa",
   "outputs": [],
   "execution_count": null
  },
  {
   "metadata": {},
   "cell_type": "markdown",
   "source": [
    "# Kisebb adaton:\n",
    "\n",
    "most rendelkezésre álló adat:\n",
    "- utastájékoztatásból terv- és tényídők\n",
    "- időjárás\n",
    "\n",
    "Azaz dobjuk a lassújel és vágányzár adatokat\n"
   ],
   "id": "a079287cde85f2df"
  },
  {
   "metadata": {
    "ExecuteTime": {
     "end_time": "2024-11-07T06:46:55.816637Z",
     "start_time": "2024-11-07T06:46:55.723736Z"
    }
   },
   "cell_type": "code",
   "source": "attrs_to_use=['MENETREND_IDO','ELOZO_KESES','KESES','tx','t','tn','r','TERV_IDOTARTAM','ELOZO VONAT KESES']",
   "id": "b7594316686fcbf2",
   "outputs": [],
   "execution_count": 66
  },
  {
   "metadata": {
    "ExecuteTime": {
     "end_time": "2024-11-07T06:48:53.694753Z",
     "start_time": "2024-11-07T06:48:36.592653Z"
    }
   },
   "cell_type": "code",
   "source": [
    "raw_data_small=raw_data[attrs_to_use]\n",
    "X_train, X_test, y_train, y_test,_,_ = split_train_test(raw_data_small)\n",
    "model, predictions = train_DRT(X_train, y_train)\n",
    "eval_df = evaluate_model(X_test, y_test, predictions)\n",
    "\n",
    "\n"
   ],
   "id": "8a4451ff576f68f3",
   "outputs": [],
   "execution_count": 70
  },
  {
   "metadata": {
    "ExecuteTime": {
     "end_time": "2024-11-07T06:48:53.815056Z",
     "start_time": "2024-11-07T06:48:53.724832Z"
    }
   },
   "cell_type": "code",
   "source": "eval_df.head()",
   "id": "30224f198b40d3d5",
   "outputs": [
    {
     "data": {
      "text/plain": [
       "         TERV_IDOTARTAM     KESES  predictions        Tény        Pred  \\\n",
       "1224451            60.0 -0.200000    -0.150000   59.800000   59.850000   \n",
       "311804            120.0 -0.266667    -0.383333  119.733333  119.616667   \n",
       "1245018            60.0  0.316667     0.233333   60.316667   60.233333   \n",
       "1036497            60.0 -0.483333    -0.283333   59.516667   59.716667   \n",
       "792395            120.0 -0.400000    -0.033333  119.600000  119.966667   \n",
       "\n",
       "               PE        PE1  \n",
       "1224451 -0.083612  25.000000  \n",
       "311804   0.097439 -43.750000  \n",
       "1245018  0.138160  26.315789  \n",
       "1036497 -0.336040  41.379310  \n",
       "792395  -0.306577  91.666667  "
      ],
      "text/html": [
       "<div>\n",
       "<style scoped>\n",
       "    .dataframe tbody tr th:only-of-type {\n",
       "        vertical-align: middle;\n",
       "    }\n",
       "\n",
       "    .dataframe tbody tr th {\n",
       "        vertical-align: top;\n",
       "    }\n",
       "\n",
       "    .dataframe thead th {\n",
       "        text-align: right;\n",
       "    }\n",
       "</style>\n",
       "<table border=\"1\" class=\"dataframe\">\n",
       "  <thead>\n",
       "    <tr style=\"text-align: right;\">\n",
       "      <th></th>\n",
       "      <th>TERV_IDOTARTAM</th>\n",
       "      <th>KESES</th>\n",
       "      <th>predictions</th>\n",
       "      <th>Tény</th>\n",
       "      <th>Pred</th>\n",
       "      <th>PE</th>\n",
       "      <th>PE1</th>\n",
       "    </tr>\n",
       "  </thead>\n",
       "  <tbody>\n",
       "    <tr>\n",
       "      <th>1224451</th>\n",
       "      <td>60.0</td>\n",
       "      <td>-0.200000</td>\n",
       "      <td>-0.150000</td>\n",
       "      <td>59.800000</td>\n",
       "      <td>59.850000</td>\n",
       "      <td>-0.083612</td>\n",
       "      <td>25.000000</td>\n",
       "    </tr>\n",
       "    <tr>\n",
       "      <th>311804</th>\n",
       "      <td>120.0</td>\n",
       "      <td>-0.266667</td>\n",
       "      <td>-0.383333</td>\n",
       "      <td>119.733333</td>\n",
       "      <td>119.616667</td>\n",
       "      <td>0.097439</td>\n",
       "      <td>-43.750000</td>\n",
       "    </tr>\n",
       "    <tr>\n",
       "      <th>1245018</th>\n",
       "      <td>60.0</td>\n",
       "      <td>0.316667</td>\n",
       "      <td>0.233333</td>\n",
       "      <td>60.316667</td>\n",
       "      <td>60.233333</td>\n",
       "      <td>0.138160</td>\n",
       "      <td>26.315789</td>\n",
       "    </tr>\n",
       "    <tr>\n",
       "      <th>1036497</th>\n",
       "      <td>60.0</td>\n",
       "      <td>-0.483333</td>\n",
       "      <td>-0.283333</td>\n",
       "      <td>59.516667</td>\n",
       "      <td>59.716667</td>\n",
       "      <td>-0.336040</td>\n",
       "      <td>41.379310</td>\n",
       "    </tr>\n",
       "    <tr>\n",
       "      <th>792395</th>\n",
       "      <td>120.0</td>\n",
       "      <td>-0.400000</td>\n",
       "      <td>-0.033333</td>\n",
       "      <td>119.600000</td>\n",
       "      <td>119.966667</td>\n",
       "      <td>-0.306577</td>\n",
       "      <td>91.666667</td>\n",
       "    </tr>\n",
       "  </tbody>\n",
       "</table>\n",
       "</div>"
      ]
     },
     "execution_count": 71,
     "metadata": {},
     "output_type": "execute_result"
    }
   ],
   "execution_count": 71
  },
  {
   "metadata": {
    "ExecuteTime": {
     "end_time": "2024-11-07T07:42:38.368322Z",
     "start_time": "2024-11-07T07:42:37.482635Z"
    }
   },
   "cell_type": "code",
   "source": "eval_df[['PE','PE1']].describe()\n",
   "id": "e9328084ee9ac42a",
   "outputs": [
    {
     "name": "stderr",
     "output_type": "stream",
     "text": [
      "C:\\Users\\ELTE\\miniconda3\\envs\\gtfs_env_311\\Lib\\site-packages\\numpy\\core\\_methods.py:49: RuntimeWarning: invalid value encountered in reduce\n",
      "  return umr_sum(a, axis, dtype, out, keepdims, initial, where)\n"
     ]
    },
    {
     "data": {
      "text/plain": [
       "                  PE           PE1\n",
       "count  418789.000000  4.089260e+05\n",
       "mean       -0.014418           NaN\n",
       "std         1.011920           NaN\n",
       "min      -268.627451          -inf\n",
       "25%        -0.111982 -2.424242e+01\n",
       "50%         0.000000  9.302326e+00\n",
       "75%         0.111307  6.842105e+01\n",
       "max        48.395914           inf"
      ],
      "text/html": [
       "<div>\n",
       "<style scoped>\n",
       "    .dataframe tbody tr th:only-of-type {\n",
       "        vertical-align: middle;\n",
       "    }\n",
       "\n",
       "    .dataframe tbody tr th {\n",
       "        vertical-align: top;\n",
       "    }\n",
       "\n",
       "    .dataframe thead th {\n",
       "        text-align: right;\n",
       "    }\n",
       "</style>\n",
       "<table border=\"1\" class=\"dataframe\">\n",
       "  <thead>\n",
       "    <tr style=\"text-align: right;\">\n",
       "      <th></th>\n",
       "      <th>PE</th>\n",
       "      <th>PE1</th>\n",
       "    </tr>\n",
       "  </thead>\n",
       "  <tbody>\n",
       "    <tr>\n",
       "      <th>count</th>\n",
       "      <td>418789.000000</td>\n",
       "      <td>4.089260e+05</td>\n",
       "    </tr>\n",
       "    <tr>\n",
       "      <th>mean</th>\n",
       "      <td>-0.014418</td>\n",
       "      <td>NaN</td>\n",
       "    </tr>\n",
       "    <tr>\n",
       "      <th>std</th>\n",
       "      <td>1.011920</td>\n",
       "      <td>NaN</td>\n",
       "    </tr>\n",
       "    <tr>\n",
       "      <th>min</th>\n",
       "      <td>-268.627451</td>\n",
       "      <td>-inf</td>\n",
       "    </tr>\n",
       "    <tr>\n",
       "      <th>25%</th>\n",
       "      <td>-0.111982</td>\n",
       "      <td>-2.424242e+01</td>\n",
       "    </tr>\n",
       "    <tr>\n",
       "      <th>50%</th>\n",
       "      <td>0.000000</td>\n",
       "      <td>9.302326e+00</td>\n",
       "    </tr>\n",
       "    <tr>\n",
       "      <th>75%</th>\n",
       "      <td>0.111307</td>\n",
       "      <td>6.842105e+01</td>\n",
       "    </tr>\n",
       "    <tr>\n",
       "      <th>max</th>\n",
       "      <td>48.395914</td>\n",
       "      <td>inf</td>\n",
       "    </tr>\n",
       "  </tbody>\n",
       "</table>\n",
       "</div>"
      ]
     },
     "execution_count": 80,
     "metadata": {},
     "output_type": "execute_result"
    }
   ],
   "execution_count": 80
  },
  {
   "metadata": {
    "ExecuteTime": {
     "end_time": "2024-11-07T07:15:28.338893Z",
     "start_time": "2024-11-07T07:11:24.167680Z"
    }
   },
   "cell_type": "code",
   "source": [
    "raw_data_small=raw_data[attrs_to_use]\n",
    "X_train, X_test, y_train, y_test,X_scaler,y_scaler = split_train_test(raw_data_small,True)\n",
    "X_train_t, X_test_t, y_train_t, y_test_t = get_data_tensors(X_train, X_test, y_train, y_test)\n",
    "input_size=X_train.shape[1]\n",
    "model = get_NN_model(input_size)\n",
    "optimizer, loss_fn = get_optimizer(model, 0.0001)\n",
    "history, best_mse, best_weights, model=train_NN(X_train_t, X_test_t, y_train_t, y_test_t, model, loss_fn, optimizer)\n",
    "y_pred = model(X_test_t)\n",
    "y_pred=y_pred.detach().numpy()\n",
    "X_test[X_test.columns]=X_scaler.inverse_transform(X_test_t)\n",
    "y_test[y_test.columns] =y_scaler.inverse_transform(y_test_t)\n",
    "y_pred=y_scaler.inverse_transform(y_pred)\n",
    "eval_df_nn = evaluate_model(X_test, y_test, predictions)\n"
   ],
   "id": "f917126543c60abd",
   "outputs": [
    {
     "name": "stderr",
     "output_type": "stream",
     "text": [
      "C:\\Users\\ELTE\\AppData\\Local\\Temp\\ipykernel_6884\\2956716844.py:13: SettingWithCopyWarning: \n",
      "A value is trying to be set on a copy of a slice from a DataFrame.\n",
      "Try using .loc[row_indexer,col_indexer] = value instead\n",
      "\n",
      "See the caveats in the documentation: https://pandas.pydata.org/pandas-docs/stable/user_guide/indexing.html#returning-a-view-versus-a-copy\n",
      "  pd_y[pd_y.columns] = y_scaler.fit_transform(pd_y[pd_y.columns])\n"
     ]
    },
    {
     "name": "stdout",
     "output_type": "stream",
     "text": [
      "Epoch: 0 MSE: 2.1291965822456405e-05 Best mse inf\n",
      "Epoch: 1 MSE: 1.9857572624459863e-05 Best mse 2.1291965822456405e-05\n",
      "Epoch: 2 MSE: 1.964805596799124e-05 Best mse 1.9857572624459863e-05\n"
     ]
    },
    {
     "ename": "RuntimeError",
     "evalue": "Can't call numpy() on Tensor that requires grad. Use tensor.detach().numpy() instead.",
     "output_type": "error",
     "traceback": [
      "\u001B[1;31m---------------------------------------------------------------------------\u001B[0m",
      "\u001B[1;31mRuntimeError\u001B[0m                              Traceback (most recent call last)",
      "Cell \u001B[1;32mIn[74], line 11\u001B[0m\n\u001B[0;32m      9\u001B[0m X_test[X_test\u001B[38;5;241m.\u001B[39mcolumns]\u001B[38;5;241m=\u001B[39mX_scaler\u001B[38;5;241m.\u001B[39minverse_transform(X_test_t)\n\u001B[0;32m     10\u001B[0m y_test[y_test\u001B[38;5;241m.\u001B[39mcolumns] \u001B[38;5;241m=\u001B[39my_scaler\u001B[38;5;241m.\u001B[39minverse_transform(y_test_t)\n\u001B[1;32m---> 11\u001B[0m y_pred\u001B[38;5;241m=\u001B[39my_scaler\u001B[38;5;241m.\u001B[39minverse_transform(y_pred)\n\u001B[0;32m     12\u001B[0m eval_df_nn \u001B[38;5;241m=\u001B[39m evaluate_model(X_test, y_test, predictions)\n",
      "File \u001B[1;32m~\\miniconda3\\envs\\gtfs_env_311\\Lib\\site-packages\\sklearn\\preprocessing\\_data.py:566\u001B[0m, in \u001B[0;36mMinMaxScaler.inverse_transform\u001B[1;34m(self, X)\u001B[0m\n\u001B[0;32m    562\u001B[0m check_is_fitted(\u001B[38;5;28mself\u001B[39m)\n\u001B[0;32m    564\u001B[0m xp, _ \u001B[38;5;241m=\u001B[39m get_namespace(X)\n\u001B[1;32m--> 566\u001B[0m X \u001B[38;5;241m=\u001B[39m check_array(\n\u001B[0;32m    567\u001B[0m     X,\n\u001B[0;32m    568\u001B[0m     copy\u001B[38;5;241m=\u001B[39m\u001B[38;5;28mself\u001B[39m\u001B[38;5;241m.\u001B[39mcopy,\n\u001B[0;32m    569\u001B[0m     dtype\u001B[38;5;241m=\u001B[39m_array_api\u001B[38;5;241m.\u001B[39msupported_float_dtypes(xp),\n\u001B[0;32m    570\u001B[0m     force_writeable\u001B[38;5;241m=\u001B[39m\u001B[38;5;28;01mTrue\u001B[39;00m,\n\u001B[0;32m    571\u001B[0m     force_all_finite\u001B[38;5;241m=\u001B[39m\u001B[38;5;124m\"\u001B[39m\u001B[38;5;124mallow-nan\u001B[39m\u001B[38;5;124m\"\u001B[39m,\n\u001B[0;32m    572\u001B[0m )\n\u001B[0;32m    574\u001B[0m X \u001B[38;5;241m-\u001B[39m\u001B[38;5;241m=\u001B[39m \u001B[38;5;28mself\u001B[39m\u001B[38;5;241m.\u001B[39mmin_\n\u001B[0;32m    575\u001B[0m X \u001B[38;5;241m/\u001B[39m\u001B[38;5;241m=\u001B[39m \u001B[38;5;28mself\u001B[39m\u001B[38;5;241m.\u001B[39mscale_\n",
      "File \u001B[1;32m~\\miniconda3\\envs\\gtfs_env_311\\Lib\\site-packages\\sklearn\\utils\\validation.py:1012\u001B[0m, in \u001B[0;36mcheck_array\u001B[1;34m(array, accept_sparse, accept_large_sparse, dtype, order, copy, force_writeable, force_all_finite, ensure_2d, allow_nd, ensure_min_samples, ensure_min_features, estimator, input_name)\u001B[0m\n\u001B[0;32m   1010\u001B[0m         array \u001B[38;5;241m=\u001B[39m xp\u001B[38;5;241m.\u001B[39mastype(array, dtype, copy\u001B[38;5;241m=\u001B[39m\u001B[38;5;28;01mFalse\u001B[39;00m)\n\u001B[0;32m   1011\u001B[0m     \u001B[38;5;28;01melse\u001B[39;00m:\n\u001B[1;32m-> 1012\u001B[0m         array \u001B[38;5;241m=\u001B[39m _asarray_with_order(array, order\u001B[38;5;241m=\u001B[39morder, dtype\u001B[38;5;241m=\u001B[39mdtype, xp\u001B[38;5;241m=\u001B[39mxp)\n\u001B[0;32m   1013\u001B[0m \u001B[38;5;28;01mexcept\u001B[39;00m ComplexWarning \u001B[38;5;28;01mas\u001B[39;00m complex_warning:\n\u001B[0;32m   1014\u001B[0m     \u001B[38;5;28;01mraise\u001B[39;00m \u001B[38;5;167;01mValueError\u001B[39;00m(\n\u001B[0;32m   1015\u001B[0m         \u001B[38;5;124m\"\u001B[39m\u001B[38;5;124mComplex data not supported\u001B[39m\u001B[38;5;130;01m\\n\u001B[39;00m\u001B[38;5;132;01m{}\u001B[39;00m\u001B[38;5;130;01m\\n\u001B[39;00m\u001B[38;5;124m\"\u001B[39m\u001B[38;5;241m.\u001B[39mformat(array)\n\u001B[0;32m   1016\u001B[0m     ) \u001B[38;5;28;01mfrom\u001B[39;00m \u001B[38;5;21;01mcomplex_warning\u001B[39;00m\n",
      "File \u001B[1;32m~\\miniconda3\\envs\\gtfs_env_311\\Lib\\site-packages\\sklearn\\utils\\_array_api.py:751\u001B[0m, in \u001B[0;36m_asarray_with_order\u001B[1;34m(array, dtype, order, copy, xp, device)\u001B[0m\n\u001B[0;32m    749\u001B[0m     array \u001B[38;5;241m=\u001B[39m numpy\u001B[38;5;241m.\u001B[39marray(array, order\u001B[38;5;241m=\u001B[39morder, dtype\u001B[38;5;241m=\u001B[39mdtype)\n\u001B[0;32m    750\u001B[0m \u001B[38;5;28;01melse\u001B[39;00m:\n\u001B[1;32m--> 751\u001B[0m     array \u001B[38;5;241m=\u001B[39m numpy\u001B[38;5;241m.\u001B[39masarray(array, order\u001B[38;5;241m=\u001B[39morder, dtype\u001B[38;5;241m=\u001B[39mdtype)\n\u001B[0;32m    753\u001B[0m \u001B[38;5;66;03m# At this point array is a NumPy ndarray. We convert it to an array\u001B[39;00m\n\u001B[0;32m    754\u001B[0m \u001B[38;5;66;03m# container that is consistent with the input's namespace.\u001B[39;00m\n\u001B[0;32m    755\u001B[0m \u001B[38;5;28;01mreturn\u001B[39;00m xp\u001B[38;5;241m.\u001B[39masarray(array)\n",
      "File \u001B[1;32m~\\miniconda3\\envs\\gtfs_env_311\\Lib\\site-packages\\torch\\_tensor.py:1151\u001B[0m, in \u001B[0;36mTensor.__array__\u001B[1;34m(self, dtype)\u001B[0m\n\u001B[0;32m   1149\u001B[0m     \u001B[38;5;28;01mreturn\u001B[39;00m \u001B[38;5;28mself\u001B[39m\u001B[38;5;241m.\u001B[39mnumpy()\n\u001B[0;32m   1150\u001B[0m \u001B[38;5;28;01melse\u001B[39;00m:\n\u001B[1;32m-> 1151\u001B[0m     \u001B[38;5;28;01mreturn\u001B[39;00m \u001B[38;5;28mself\u001B[39m\u001B[38;5;241m.\u001B[39mnumpy()\u001B[38;5;241m.\u001B[39mastype(dtype, copy\u001B[38;5;241m=\u001B[39m\u001B[38;5;28;01mFalse\u001B[39;00m)\n",
      "\u001B[1;31mRuntimeError\u001B[0m: Can't call numpy() on Tensor that requires grad. Use tensor.detach().numpy() instead."
     ]
    }
   ],
   "execution_count": 74
  },
  {
   "metadata": {
    "ExecuteTime": {
     "end_time": "2024-11-07T07:51:54.521930Z",
     "start_time": "2024-11-07T07:51:54.182964Z"
    }
   },
   "cell_type": "code",
   "source": "eval_df_nn = evaluate_model(X_test, y_test, predictions)\n",
   "id": "f203c3532925c649",
   "outputs": [],
   "execution_count": 86
  },
  {
   "metadata": {
    "ExecuteTime": {
     "end_time": "2024-11-07T07:51:57.164687Z",
     "start_time": "2024-11-07T07:51:57.132678Z"
    }
   },
   "cell_type": "code",
   "source": "eval_df_nn.head()",
   "id": "f9c53c32014a47cd",
   "outputs": [
    {
     "data": {
      "text/plain": [
       "         TERV_IDOTARTAM     KESES  predictions        Tény        Pred  \\\n",
       "1224451       60.000001 -0.199998    -0.150000   59.800003   59.850001   \n",
       "311804       120.000002 -0.266666    -0.383333  119.733336  119.616668   \n",
       "1245018       60.000001  0.316669     0.233333   60.316670   60.233334   \n",
       "1036497       60.000001 -0.483334    -0.283333   59.516667   59.716668   \n",
       "792395       120.000002 -0.400002    -0.033333  119.600000  119.966668   \n",
       "\n",
       "               PE      MAPE        PE1      MAPE1  \n",
       "1224451 -0.083609  0.083609  24.999272  24.999272  \n",
       "311804   0.097439  0.097439 -43.750320  43.750320  \n",
       "1245018  0.138163  0.138163  26.316248  26.316248  \n",
       "1036497 -0.336041  0.336041  41.379348  41.379348  \n",
       "792395  -0.306579  0.306579  91.666710  91.666710  "
      ],
      "text/html": [
       "<div>\n",
       "<style scoped>\n",
       "    .dataframe tbody tr th:only-of-type {\n",
       "        vertical-align: middle;\n",
       "    }\n",
       "\n",
       "    .dataframe tbody tr th {\n",
       "        vertical-align: top;\n",
       "    }\n",
       "\n",
       "    .dataframe thead th {\n",
       "        text-align: right;\n",
       "    }\n",
       "</style>\n",
       "<table border=\"1\" class=\"dataframe\">\n",
       "  <thead>\n",
       "    <tr style=\"text-align: right;\">\n",
       "      <th></th>\n",
       "      <th>TERV_IDOTARTAM</th>\n",
       "      <th>KESES</th>\n",
       "      <th>predictions</th>\n",
       "      <th>Tény</th>\n",
       "      <th>Pred</th>\n",
       "      <th>PE</th>\n",
       "      <th>MAPE</th>\n",
       "      <th>PE1</th>\n",
       "      <th>MAPE1</th>\n",
       "    </tr>\n",
       "  </thead>\n",
       "  <tbody>\n",
       "    <tr>\n",
       "      <th>1224451</th>\n",
       "      <td>60.000001</td>\n",
       "      <td>-0.199998</td>\n",
       "      <td>-0.150000</td>\n",
       "      <td>59.800003</td>\n",
       "      <td>59.850001</td>\n",
       "      <td>-0.083609</td>\n",
       "      <td>0.083609</td>\n",
       "      <td>24.999272</td>\n",
       "      <td>24.999272</td>\n",
       "    </tr>\n",
       "    <tr>\n",
       "      <th>311804</th>\n",
       "      <td>120.000002</td>\n",
       "      <td>-0.266666</td>\n",
       "      <td>-0.383333</td>\n",
       "      <td>119.733336</td>\n",
       "      <td>119.616668</td>\n",
       "      <td>0.097439</td>\n",
       "      <td>0.097439</td>\n",
       "      <td>-43.750320</td>\n",
       "      <td>43.750320</td>\n",
       "    </tr>\n",
       "    <tr>\n",
       "      <th>1245018</th>\n",
       "      <td>60.000001</td>\n",
       "      <td>0.316669</td>\n",
       "      <td>0.233333</td>\n",
       "      <td>60.316670</td>\n",
       "      <td>60.233334</td>\n",
       "      <td>0.138163</td>\n",
       "      <td>0.138163</td>\n",
       "      <td>26.316248</td>\n",
       "      <td>26.316248</td>\n",
       "    </tr>\n",
       "    <tr>\n",
       "      <th>1036497</th>\n",
       "      <td>60.000001</td>\n",
       "      <td>-0.483334</td>\n",
       "      <td>-0.283333</td>\n",
       "      <td>59.516667</td>\n",
       "      <td>59.716668</td>\n",
       "      <td>-0.336041</td>\n",
       "      <td>0.336041</td>\n",
       "      <td>41.379348</td>\n",
       "      <td>41.379348</td>\n",
       "    </tr>\n",
       "    <tr>\n",
       "      <th>792395</th>\n",
       "      <td>120.000002</td>\n",
       "      <td>-0.400002</td>\n",
       "      <td>-0.033333</td>\n",
       "      <td>119.600000</td>\n",
       "      <td>119.966668</td>\n",
       "      <td>-0.306579</td>\n",
       "      <td>0.306579</td>\n",
       "      <td>91.666710</td>\n",
       "      <td>91.666710</td>\n",
       "    </tr>\n",
       "  </tbody>\n",
       "</table>\n",
       "</div>"
      ]
     },
     "execution_count": 87,
     "metadata": {},
     "output_type": "execute_result"
    }
   ],
   "execution_count": 87
  },
  {
   "metadata": {
    "ExecuteTime": {
     "end_time": "2024-11-07T07:40:28.543926Z",
     "start_time": "2024-11-07T07:40:27.703380Z"
    }
   },
   "cell_type": "code",
   "source": [
    "print(\"MSE: %.2f\" % best_mse)\n",
    "print(\"RMSE: %.2f\" % np.sqrt(best_mse))\n",
    "plt.plot(history)\n",
    "plt.show()"
   ],
   "id": "89a66106afddd148",
   "outputs": [
    {
     "name": "stdout",
     "output_type": "stream",
     "text": [
      "MSE: 0.00\n",
      "RMSE: 0.00\n"
     ]
    },
    {
     "data": {
      "text/plain": [
       "<Figure size 640x480 with 1 Axes>"
      ],
      "image/png": "[encoded data removed]"
     },
     "metadata": {},
     "output_type": "display_data"
    }
   ],
   "execution_count": 78
  },
  {
   "metadata": {
    "ExecuteTime": {
     "end_time": "2024-11-07T07:52:08.138828Z",
     "start_time": "2024-11-07T07:52:08.075035Z"
    }
   },
   "cell_type": "code",
   "source": "eval_df_nn[['MAPE','MAPE1']].describe()",
   "id": "f2eabb8c0eb59c71",
   "outputs": [
    {
     "data": {
      "text/plain": [
       "               MAPE         MAPE1\n",
       "count  4.187890e+05  4.187890e+05\n",
       "mean   3.075355e-01  6.680847e+05\n",
       "std    9.641641e-01  9.131696e+06\n",
       "min    1.002436e-09  1.103793e-07\n",
       "25%    4.190919e-02  1.538485e+01\n",
       "50%    1.116657e-01  4.848440e+01\n",
       "75%    2.668309e-01  1.199961e+02\n",
       "max    2.686274e+02  1.043506e+09"
      ],
      "text/html": [
       "<div>\n",
       "<style scoped>\n",
       "    .dataframe tbody tr th:only-of-type {\n",
       "        vertical-align: middle;\n",
       "    }\n",
       "\n",
       "    .dataframe tbody tr th {\n",
       "        vertical-align: top;\n",
       "    }\n",
       "\n",
       "    .dataframe thead th {\n",
       "        text-align: right;\n",
       "    }\n",
       "</style>\n",
       "<table border=\"1\" class=\"dataframe\">\n",
       "  <thead>\n",
       "    <tr style=\"text-align: right;\">\n",
       "      <th></th>\n",
       "      <th>MAPE</th>\n",
       "      <th>MAPE1</th>\n",
       "    </tr>\n",
       "  </thead>\n",
       "  <tbody>\n",
       "    <tr>\n",
       "      <th>count</th>\n",
       "      <td>4.187890e+05</td>\n",
       "      <td>4.187890e+05</td>\n",
       "    </tr>\n",
       "    <tr>\n",
       "      <th>mean</th>\n",
       "      <td>3.075355e-01</td>\n",
       "      <td>6.680847e+05</td>\n",
       "    </tr>\n",
       "    <tr>\n",
       "      <th>std</th>\n",
       "      <td>9.641641e-01</td>\n",
       "      <td>9.131696e+06</td>\n",
       "    </tr>\n",
       "    <tr>\n",
       "      <th>min</th>\n",
       "      <td>1.002436e-09</td>\n",
       "      <td>1.103793e-07</td>\n",
       "    </tr>\n",
       "    <tr>\n",
       "      <th>25%</th>\n",
       "      <td>4.190919e-02</td>\n",
       "      <td>1.538485e+01</td>\n",
       "    </tr>\n",
       "    <tr>\n",
       "      <th>50%</th>\n",
       "      <td>1.116657e-01</td>\n",
       "      <td>4.848440e+01</td>\n",
       "    </tr>\n",
       "    <tr>\n",
       "      <th>75%</th>\n",
       "      <td>2.668309e-01</td>\n",
       "      <td>1.199961e+02</td>\n",
       "    </tr>\n",
       "    <tr>\n",
       "      <th>max</th>\n",
       "      <td>2.686274e+02</td>\n",
       "      <td>1.043506e+09</td>\n",
       "    </tr>\n",
       "  </tbody>\n",
       "</table>\n",
       "</div>"
      ]
     },
     "execution_count": 88,
     "metadata": {},
     "output_type": "execute_result"
    }
   ],
   "execution_count": 88
  },
  {
   "metadata": {},
   "cell_type": "code",
   "outputs": [],
   "execution_count": null,
   "source": "",
   "id": "b21aedb69a8a911d"
  }
 ],
 "metadata": {
  "kernelspec": {
   "display_name": "Python 3",
   "language": "python",
   "name": "python3"
  },
  "language_info": {
   "codemirror_mode": {
    "name": "ipython",
    "version": 2
   },
   "file_extension": ".py",
   "mimetype": "text/x-python",
   "name": "python",
   "nbconvert_exporter": "python",
   "pygments_lexer": "ipython2",
   "version": "2.7.6"
  }
 },
 "nbformat": 4,
 "nbformat_minor": 5
}
